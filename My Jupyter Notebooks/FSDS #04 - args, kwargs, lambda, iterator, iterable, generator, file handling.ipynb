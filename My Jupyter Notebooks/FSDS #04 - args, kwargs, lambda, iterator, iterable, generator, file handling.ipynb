{
 "cells": [
  {
   "cell_type": "markdown",
   "id": "76357fbe",
   "metadata": {},
   "source": [
    "# Functions with multiple arguments"
   ]
  },
  {
   "cell_type": "code",
   "execution_count": 2,
   "id": "b7c86ac3",
   "metadata": {},
   "outputs": [],
   "source": [
    "def test(a,b,c,d,e):\n",
    "    print(a,b,c,d,e)"
   ]
  },
  {
   "cell_type": "code",
   "execution_count": 3,
   "id": "18381db1",
   "metadata": {},
   "outputs": [
    {
     "name": "stdout",
     "output_type": "stream",
     "text": [
      "1 2 4 3 5\n"
     ]
    }
   ],
   "source": [
    "test(1,2,4,3,5)"
   ]
  },
  {
   "cell_type": "code",
   "execution_count": 5,
   "id": "e1caa6c1",
   "metadata": {},
   "outputs": [],
   "source": [
    "def test1(*args):\n",
    "    return args"
   ]
  },
  {
   "cell_type": "code",
   "execution_count": 6,
   "id": "81801f1b",
   "metadata": {},
   "outputs": [
    {
     "data": {
      "text/plain": [
       "(1, 7, 'akshay', 45.6)"
      ]
     },
     "execution_count": 6,
     "metadata": {},
     "output_type": "execute_result"
    }
   ],
   "source": [
    "test1(1,7,\"akshay\",45.6)"
   ]
  },
  {
   "cell_type": "code",
   "execution_count": 7,
   "id": "8be02a99",
   "metadata": {},
   "outputs": [],
   "source": [
    "def test2(*daga):\n",
    "    return daga"
   ]
  },
  {
   "cell_type": "code",
   "execution_count": 8,
   "id": "184ad724",
   "metadata": {},
   "outputs": [
    {
     "data": {
      "text/plain": [
       "(453, 67.86, 'apdaga')"
      ]
     },
     "execution_count": 8,
     "metadata": {},
     "output_type": "execute_result"
    }
   ],
   "source": [
    "test2(453,67.86,\"apdaga\")"
   ]
  },
  {
   "cell_type": "code",
   "execution_count": 10,
   "id": "9fc64fad",
   "metadata": {},
   "outputs": [],
   "source": [
    "def test3(*args, a):\n",
    "    return args, a"
   ]
  },
  {
   "cell_type": "code",
   "execution_count": 11,
   "id": "616f6a7e",
   "metadata": {},
   "outputs": [
    {
     "ename": "TypeError",
     "evalue": "test3() missing 1 required keyword-only argument: 'a'",
     "output_type": "error",
     "traceback": [
      "\u001b[1;31m---------------------------------------------------------------------------\u001b[0m",
      "\u001b[1;31mTypeError\u001b[0m                                 Traceback (most recent call last)",
      "\u001b[1;32m<ipython-input-11-f975fefcd345>\u001b[0m in \u001b[0;36m<module>\u001b[1;34m\u001b[0m\n\u001b[1;32m----> 1\u001b[1;33m \u001b[0mtest3\u001b[0m\u001b[1;33m(\u001b[0m\u001b[1;36m34\u001b[0m\u001b[1;33m,\u001b[0m\u001b[1;36m86\u001b[0m\u001b[1;33m,\u001b[0m\u001b[1;34m'akshay'\u001b[0m\u001b[1;33m,\u001b[0m\u001b[1;36m45.6\u001b[0m\u001b[1;33m)\u001b[0m\u001b[1;33m\u001b[0m\u001b[1;33m\u001b[0m\u001b[0m\n\u001b[0m",
      "\u001b[1;31mTypeError\u001b[0m: test3() missing 1 required keyword-only argument: 'a'"
     ]
    }
   ],
   "source": [
    "test3(34,86,'akshay',45.6)"
   ]
  },
  {
   "cell_type": "code",
   "execution_count": 12,
   "id": "ea5037e8",
   "metadata": {},
   "outputs": [
    {
     "data": {
      "text/plain": [
       "((34, 86, 'akshay'), 45.6)"
      ]
     },
     "execution_count": 12,
     "metadata": {},
     "output_type": "execute_result"
    }
   ],
   "source": [
    "test3(34,86,'akshay', a=45.6)"
   ]
  },
  {
   "cell_type": "code",
   "execution_count": 13,
   "id": "d1eb7e96",
   "metadata": {},
   "outputs": [],
   "source": [
    "def test4(*args, a, b, c, d):\n",
    "    return args, a, b, c, d"
   ]
  },
  {
   "cell_type": "code",
   "execution_count": 14,
   "id": "455aefea",
   "metadata": {},
   "outputs": [
    {
     "data": {
      "text/plain": [
       "(('sdf', 324, 21), [43, 3, 4, 3, 4], [5, 3, 7, 4, 2], 'hkjhfds', 342.34)"
      ]
     },
     "execution_count": 14,
     "metadata": {},
     "output_type": "execute_result"
    }
   ],
   "source": [
    "test4('sdf',324,21, a=[43,3,4,3,4], b=[5,3,7,4,2], c=\"hkjhfds\", d=342.34)"
   ]
  },
  {
   "cell_type": "code",
   "execution_count": 18,
   "id": "dba57f1f",
   "metadata": {},
   "outputs": [],
   "source": [
    "def test5(a, *args):\n",
    "    return a,args"
   ]
  },
  {
   "cell_type": "code",
   "execution_count": 19,
   "id": "7cfad168",
   "metadata": {},
   "outputs": [
    {
     "ename": "TypeError",
     "evalue": "test5() got multiple values for argument 'a'",
     "output_type": "error",
     "traceback": [
      "\u001b[1;31m---------------------------------------------------------------------------\u001b[0m",
      "\u001b[1;31mTypeError\u001b[0m                                 Traceback (most recent call last)",
      "\u001b[1;32m<ipython-input-19-1ed380cc3e0a>\u001b[0m in \u001b[0;36m<module>\u001b[1;34m\u001b[0m\n\u001b[1;32m----> 1\u001b[1;33m \u001b[0mtest5\u001b[0m\u001b[1;33m(\u001b[0m\u001b[1;34m\"sfds\"\u001b[0m\u001b[1;33m,\u001b[0m \u001b[1;36m5\u001b[0m\u001b[1;33m,\u001b[0m\u001b[1;36m6\u001b[0m\u001b[1;33m,\u001b[0m\u001b[1;36m3\u001b[0m\u001b[1;33m,\u001b[0m \u001b[0ma\u001b[0m\u001b[1;33m=\u001b[0m\u001b[1;34m\"sjhgj\"\u001b[0m\u001b[1;33m)\u001b[0m\u001b[1;33m\u001b[0m\u001b[1;33m\u001b[0m\u001b[0m\n\u001b[0m",
      "\u001b[1;31mTypeError\u001b[0m: test5() got multiple values for argument 'a'"
     ]
    }
   ],
   "source": [
    "test5(\"sfds\", 5,6,3, a=\"sjhgj\")"
   ]
  },
  {
   "cell_type": "code",
   "execution_count": 20,
   "id": "9a6bfbdb",
   "metadata": {},
   "outputs": [
    {
     "data": {
      "text/plain": [
       "('sfds', (5, 6, 3, 'sjhgj'))"
      ]
     },
     "execution_count": 20,
     "metadata": {},
     "output_type": "execute_result"
    }
   ],
   "source": [
    "test5(\"sfds\", 5,6,3, \"sjhgj\")"
   ]
  },
  {
   "cell_type": "code",
   "execution_count": 21,
   "id": "8eb5ee4d",
   "metadata": {},
   "outputs": [
    {
     "ename": "SyntaxError",
     "evalue": "positional argument follows keyword argument (<ipython-input-21-3d2fc98cba38>, line 1)",
     "output_type": "error",
     "traceback": [
      "\u001b[1;36m  File \u001b[1;32m\"<ipython-input-21-3d2fc98cba38>\"\u001b[1;36m, line \u001b[1;32m1\u001b[0m\n\u001b[1;33m    test5(a=\"sjhgj\",\"sfds\", 5,6,3,)\u001b[0m\n\u001b[1;37m                    ^\u001b[0m\n\u001b[1;31mSyntaxError\u001b[0m\u001b[1;31m:\u001b[0m positional argument follows keyword argument\n"
     ]
    }
   ],
   "source": [
    "test5(a=\"sjhgj\",\"sfds\", 5,6,3,)"
   ]
  },
  {
   "cell_type": "code",
   "execution_count": 22,
   "id": "cfd9a11f",
   "metadata": {},
   "outputs": [],
   "source": [
    "def test6(a, *args, b, c):\n",
    "    return a, args, b, c"
   ]
  },
  {
   "cell_type": "code",
   "execution_count": 24,
   "id": "b9fe1524",
   "metadata": {},
   "outputs": [
    {
     "ename": "TypeError",
     "evalue": "test6() missing 2 required keyword-only arguments: 'b' and 'c'",
     "output_type": "error",
     "traceback": [
      "\u001b[1;31m---------------------------------------------------------------------------\u001b[0m",
      "\u001b[1;31mTypeError\u001b[0m                                 Traceback (most recent call last)",
      "\u001b[1;32m<ipython-input-24-0369d8deadbe>\u001b[0m in \u001b[0;36m<module>\u001b[1;34m\u001b[0m\n\u001b[1;32m----> 1\u001b[1;33m \u001b[0mtest6\u001b[0m\u001b[1;33m(\u001b[0m\u001b[1;34m\"apdaga\"\u001b[0m\u001b[1;33m,\u001b[0m \u001b[1;33m[\u001b[0m\u001b[1;36m3\u001b[0m\u001b[1;33m,\u001b[0m\u001b[1;36m4\u001b[0m\u001b[1;33m,\u001b[0m\u001b[1;36m6\u001b[0m\u001b[1;33m,\u001b[0m\u001b[1;36m3\u001b[0m\u001b[1;33m]\u001b[0m\u001b[1;33m,\u001b[0m \u001b[1;36m345\u001b[0m\u001b[1;33m,\u001b[0m \u001b[1;36m343\u001b[0m\u001b[1;33m,\u001b[0m \u001b[1;36m564\u001b[0m\u001b[1;33m)\u001b[0m\u001b[1;33m\u001b[0m\u001b[1;33m\u001b[0m\u001b[0m\n\u001b[0m",
      "\u001b[1;31mTypeError\u001b[0m: test6() missing 2 required keyword-only arguments: 'b' and 'c'"
     ]
    }
   ],
   "source": [
    "test6(\"apdaga\", [3,4,6,3], 345, 343, 564)"
   ]
  },
  {
   "cell_type": "code",
   "execution_count": 25,
   "id": "031465a0",
   "metadata": {},
   "outputs": [
    {
     "data": {
      "text/plain": [
       "('apdaga', ([3, 4, 6, 3], 345), 343, 564)"
      ]
     },
     "execution_count": 25,
     "metadata": {},
     "output_type": "execute_result"
    }
   ],
   "source": [
    "test6(\"apdaga\", [3,4,6,3], 345, b=343, c=564)"
   ]
  },
  {
   "cell_type": "code",
   "execution_count": 27,
   "id": "5fb084f8",
   "metadata": {},
   "outputs": [],
   "source": [
    "# Write a function in such a way that user can pass anything as arguments \n",
    "# to the function but the function will return only list out of all possible arguments"
   ]
  },
  {
   "cell_type": "code",
   "execution_count": 30,
   "id": "a2859266",
   "metadata": {},
   "outputs": [],
   "source": [
    "def selectList(*args):\n",
    "    '''\n",
    "    This function will return only list out of all possible arguments\n",
    "    '''\n",
    "    out = []\n",
    "    for i in args:\n",
    "        if type(i) == list:\n",
    "            out.append(i)\n",
    "    return tuple(out)"
   ]
  },
  {
   "cell_type": "code",
   "execution_count": 31,
   "id": "eac61bd7",
   "metadata": {},
   "outputs": [
    {
     "data": {
      "text/plain": [
       "([23, 34, 32, 43, 23, 3], [24, 34, 'sdf'])"
      ]
     },
     "execution_count": 31,
     "metadata": {},
     "output_type": "execute_result"
    }
   ],
   "source": [
    "selectList(23,43,23,[23,34,32,43,23,3],(2,4,32,3,3),\"sdf\",[24,34,\"sdf\"])"
   ]
  },
  {
   "cell_type": "markdown",
   "id": "4ebafb46",
   "metadata": {},
   "source": [
    "# Write a function which will be able take 'n' number of argument but as key-value pair"
   ]
  },
  {
   "cell_type": "code",
   "execution_count": 34,
   "id": "063ed8b2",
   "metadata": {},
   "outputs": [],
   "source": [
    "def test7(**kwargs):\n",
    "    return kwargs"
   ]
  },
  {
   "cell_type": "code",
   "execution_count": 35,
   "id": "8cdc1ac1",
   "metadata": {},
   "outputs": [
    {
     "ename": "TypeError",
     "evalue": "test7() takes 0 positional arguments but 6 were given",
     "output_type": "error",
     "traceback": [
      "\u001b[1;31m---------------------------------------------------------------------------\u001b[0m",
      "\u001b[1;31mTypeError\u001b[0m                                 Traceback (most recent call last)",
      "\u001b[1;32m<ipython-input-35-db538abde93b>\u001b[0m in \u001b[0;36m<module>\u001b[1;34m\u001b[0m\n\u001b[1;32m----> 1\u001b[1;33m \u001b[0mtest7\u001b[0m\u001b[1;33m(\u001b[0m\u001b[1;36m23\u001b[0m\u001b[1;33m,\u001b[0m\u001b[1;36m32\u001b[0m\u001b[1;33m,\u001b[0m\u001b[1;36m54\u001b[0m\u001b[1;33m,\u001b[0m\u001b[1;36m23\u001b[0m\u001b[1;33m,\u001b[0m\u001b[1;36m43\u001b[0m\u001b[1;33m,\u001b[0m\u001b[1;36m23\u001b[0m\u001b[1;33m)\u001b[0m\u001b[1;33m\u001b[0m\u001b[1;33m\u001b[0m\u001b[0m\n\u001b[0m",
      "\u001b[1;31mTypeError\u001b[0m: test7() takes 0 positional arguments but 6 were given"
     ]
    }
   ],
   "source": [
    "test7(23,32,54,23,43,23)"
   ]
  },
  {
   "cell_type": "code",
   "execution_count": 36,
   "id": "4f44e56b",
   "metadata": {},
   "outputs": [
    {
     "data": {
      "text/plain": [
       "{'a': 'dsf', 'b': 34, 'c': [3, 5, 3, 4]}"
      ]
     },
     "execution_count": 36,
     "metadata": {},
     "output_type": "execute_result"
    }
   ],
   "source": [
    "test7(a=\"dsf\", b=34, c=[3,5,3,4])"
   ]
  },
  {
   "cell_type": "code",
   "execution_count": 37,
   "id": "23578d75",
   "metadata": {},
   "outputs": [],
   "source": [
    "def test8(**akshay):\n",
    "    return akshay"
   ]
  },
  {
   "cell_type": "code",
   "execution_count": 38,
   "id": "e6cf00c1",
   "metadata": {},
   "outputs": [
    {
     "data": {
      "text/plain": [
       "{'a': 'dsf', 'b': (342, 32, 42, 43), 'c': 434}"
      ]
     },
     "execution_count": 38,
     "metadata": {},
     "output_type": "execute_result"
    }
   ],
   "source": [
    "test8(a=\"dsf\", b=(342,32,42,43), c=434)"
   ]
  },
  {
   "cell_type": "code",
   "execution_count": 40,
   "id": "66f4cfa3",
   "metadata": {},
   "outputs": [
    {
     "data": {
      "text/plain": [
       "{'name': 'Akshay Daga',\n",
       " 'age': 29,\n",
       " 'addr': 'Amravati',\n",
       " 'mob': '9028385899',\n",
       " 'mail': 'apdaga.dumpbox@gmail.com'}"
      ]
     },
     "execution_count": 40,
     "metadata": {},
     "output_type": "execute_result"
    }
   ],
   "source": [
    "test8(name=\"Akshay Daga\", age=29, addr=\"Amravati\", mob='9028385899', mail='apdaga.dumpbox@gmail.com')"
   ]
  },
  {
   "cell_type": "code",
   "execution_count": 41,
   "id": "a3f6a296",
   "metadata": {},
   "outputs": [],
   "source": [
    "def test9(a, **kwargs):\n",
    "    return a, kwargs"
   ]
  },
  {
   "cell_type": "code",
   "execution_count": 42,
   "id": "e821e6df",
   "metadata": {},
   "outputs": [
    {
     "data": {
      "text/plain": [
       "(34, {'d': 54, 'c': 23, 'b': 54, 'm': 4, 'l': 454, 'j': 45})"
      ]
     },
     "execution_count": 42,
     "metadata": {},
     "output_type": "execute_result"
    }
   ],
   "source": [
    "test9(34,d=54,c=23,b=54,m=4,l=454,j=45)"
   ]
  },
  {
   "cell_type": "code",
   "execution_count": 43,
   "id": "dd6ced08",
   "metadata": {},
   "outputs": [
    {
     "ename": "SyntaxError",
     "evalue": "invalid syntax (<ipython-input-43-0c1258a10273>, line 1)",
     "output_type": "error",
     "traceback": [
      "\u001b[1;36m  File \u001b[1;32m\"<ipython-input-43-0c1258a10273>\"\u001b[1;36m, line \u001b[1;32m1\u001b[0m\n\u001b[1;33m    def test10(a, **kwargs, *args):\u001b[0m\n\u001b[1;37m                            ^\u001b[0m\n\u001b[1;31mSyntaxError\u001b[0m\u001b[1;31m:\u001b[0m invalid syntax\n"
     ]
    }
   ],
   "source": [
    "def test10(a, **kwargs, *args):\n",
    "    return a, kwargs, args"
   ]
  },
  {
   "cell_type": "code",
   "execution_count": 44,
   "id": "c4dbf46e",
   "metadata": {},
   "outputs": [],
   "source": [
    "def test11(a, *args, **kwargs):\n",
    "    return a, args, kwargs"
   ]
  },
  {
   "cell_type": "code",
   "execution_count": 48,
   "id": "163034bf",
   "metadata": {},
   "outputs": [
    {
     "ename": "SyntaxError",
     "evalue": "invalid syntax (<ipython-input-48-6caab2276bb9>, line 1)",
     "output_type": "error",
     "traceback": [
      "\u001b[1;36m  File \u001b[1;32m\"<ipython-input-48-6caab2276bb9>\"\u001b[1;36m, line \u001b[1;32m1\u001b[0m\n\u001b[1;33m    def test11(*args, **kwargs, a):\u001b[0m\n\u001b[1;37m                                ^\u001b[0m\n\u001b[1;31mSyntaxError\u001b[0m\u001b[1;31m:\u001b[0m invalid syntax\n"
     ]
    }
   ],
   "source": [
    "def test11(*args, **kwargs, a):\n",
    "    return a, args, kwargs"
   ]
  },
  {
   "cell_type": "code",
   "execution_count": 47,
   "id": "629176d6",
   "metadata": {},
   "outputs": [
    {
     "data": {
      "text/plain": [
       "(34, (65, 34, 'dsdsf', 654, 43), {'c': 'ds', 'f': 543})"
      ]
     },
     "execution_count": 47,
     "metadata": {},
     "output_type": "execute_result"
    }
   ],
   "source": [
    "test11(34,65,34,\"dsdsf\",654,43,c='ds',f=543)"
   ]
  },
  {
   "cell_type": "code",
   "execution_count": 49,
   "id": "fbe1b6d5",
   "metadata": {},
   "outputs": [],
   "source": [
    "def test12(a,b):\n",
    "    return a*b"
   ]
  },
  {
   "cell_type": "code",
   "execution_count": 50,
   "id": "4aec2aec",
   "metadata": {},
   "outputs": [
    {
     "data": {
      "text/plain": [
       "35"
      ]
     },
     "execution_count": 50,
     "metadata": {},
     "output_type": "execute_result"
    }
   ],
   "source": [
    "test12(5,7)"
   ]
  },
  {
   "cell_type": "markdown",
   "id": "4cd4663e",
   "metadata": {},
   "source": [
    "# Lambda Function: How to create anonymous function"
   ]
  },
  {
   "cell_type": "code",
   "execution_count": 51,
   "id": "e54003e9",
   "metadata": {},
   "outputs": [
    {
     "data": {
      "text/plain": [
       "<function __main__.<lambda>(a, b)>"
      ]
     },
     "execution_count": 51,
     "metadata": {},
     "output_type": "execute_result"
    }
   ],
   "source": [
    "lambda a,b: a*b"
   ]
  },
  {
   "cell_type": "code",
   "execution_count": 55,
   "id": "027c9bd8",
   "metadata": {},
   "outputs": [],
   "source": [
    "f1 = lambda a,b : a*b"
   ]
  },
  {
   "cell_type": "code",
   "execution_count": 56,
   "id": "475ed16d",
   "metadata": {},
   "outputs": [
    {
     "data": {
      "text/plain": [
       "28"
      ]
     },
     "execution_count": 56,
     "metadata": {},
     "output_type": "execute_result"
    }
   ],
   "source": [
    "f1(4,7)"
   ]
  },
  {
   "cell_type": "code",
   "execution_count": 58,
   "id": "fe24084b",
   "metadata": {},
   "outputs": [],
   "source": [
    "f2 = lambda a,b : (a*b, a+b)"
   ]
  },
  {
   "cell_type": "code",
   "execution_count": 59,
   "id": "0364b017",
   "metadata": {},
   "outputs": [
    {
     "data": {
      "text/plain": [
       "(35, 12)"
      ]
     },
     "execution_count": 59,
     "metadata": {},
     "output_type": "execute_result"
    }
   ],
   "source": [
    "f2(5,7)"
   ]
  },
  {
   "cell_type": "code",
   "execution_count": 60,
   "id": "51ae99d3",
   "metadata": {},
   "outputs": [],
   "source": [
    "f3 = lambda *a:a"
   ]
  },
  {
   "cell_type": "code",
   "execution_count": 61,
   "id": "d05ac764",
   "metadata": {},
   "outputs": [
    {
     "data": {
      "text/plain": [
       "(34, 3, 3423, 2)"
      ]
     },
     "execution_count": 61,
     "metadata": {},
     "output_type": "execute_result"
    }
   ],
   "source": [
    "f3(34,3,3423,2)"
   ]
  },
  {
   "cell_type": "code",
   "execution_count": 62,
   "id": "4e57bffb",
   "metadata": {},
   "outputs": [],
   "source": [
    "f4 = lambda **b:b"
   ]
  },
  {
   "cell_type": "code",
   "execution_count": 64,
   "id": "19ae2b28",
   "metadata": {},
   "outputs": [
    {
     "data": {
      "text/plain": [
       "{'a': 34, 'b': 34}"
      ]
     },
     "execution_count": 64,
     "metadata": {},
     "output_type": "execute_result"
    }
   ],
   "source": [
    "f4(a=34,b=34)"
   ]
  },
  {
   "cell_type": "code",
   "execution_count": 66,
   "id": "6d59f5f9",
   "metadata": {},
   "outputs": [
    {
     "ename": "SyntaxError",
     "evalue": "invalid syntax (<ipython-input-66-93aac46a63d0>, line 1)",
     "output_type": "error",
     "traceback": [
      "\u001b[1;36m  File \u001b[1;32m\"<ipython-input-66-93aac46a63d0>\"\u001b[1;36m, line \u001b[1;32m1\u001b[0m\n\u001b[1;33m    f5 = lambda x: (for i in x: print(i))\u001b[0m\n\u001b[1;37m                    ^\u001b[0m\n\u001b[1;31mSyntaxError\u001b[0m\u001b[1;31m:\u001b[0m invalid syntax\n"
     ]
    }
   ],
   "source": [
    "f5 = lambda x: (for i in x: print(i))"
   ]
  },
  {
   "cell_type": "code",
   "execution_count": 67,
   "id": "dc9dacda",
   "metadata": {},
   "outputs": [],
   "source": [
    "f5 = lambda x: (print(i) for i in x)"
   ]
  },
  {
   "cell_type": "code",
   "execution_count": 68,
   "id": "a3a509a9",
   "metadata": {},
   "outputs": [
    {
     "data": {
      "text/plain": [
       "<generator object <lambda>.<locals>.<genexpr> at 0x000001FF67541BA0>"
      ]
     },
     "execution_count": 68,
     "metadata": {},
     "output_type": "execute_result"
    }
   ],
   "source": [
    "f5([2,3,5,3,5])"
   ]
  },
  {
   "cell_type": "code",
   "execution_count": 75,
   "id": "a81605df",
   "metadata": {},
   "outputs": [],
   "source": [
    "f5 = lambda x: [i for i in x]"
   ]
  },
  {
   "cell_type": "code",
   "execution_count": 76,
   "id": "292d5df2",
   "metadata": {},
   "outputs": [
    {
     "data": {
      "text/plain": [
       "[2, 3, 5, 3, 5]"
      ]
     },
     "execution_count": 76,
     "metadata": {},
     "output_type": "execute_result"
    }
   ],
   "source": [
    "f5([2,3,5,3,5])"
   ]
  },
  {
   "cell_type": "code",
   "execution_count": 77,
   "id": "244ff6ad",
   "metadata": {},
   "outputs": [],
   "source": [
    "l = [1,2,3,4,5,6]"
   ]
  },
  {
   "cell_type": "code",
   "execution_count": 82,
   "id": "f0042a3e",
   "metadata": {},
   "outputs": [
    {
     "data": {
      "text/plain": [
       "[1, 2, 3, 4, 5, 6]"
      ]
     },
     "execution_count": 82,
     "metadata": {},
     "output_type": "execute_result"
    }
   ],
   "source": [
    "x=[]\n",
    "for i in l:\n",
    "    x.append(i)\n",
    "x"
   ]
  },
  {
   "cell_type": "code",
   "execution_count": 85,
   "id": "e95955b9",
   "metadata": {},
   "outputs": [],
   "source": [
    "y = [i for i in l]"
   ]
  },
  {
   "cell_type": "code",
   "execution_count": 86,
   "id": "cc7302d7",
   "metadata": {},
   "outputs": [
    {
     "data": {
      "text/plain": [
       "[1, 2, 3, 4, 5, 6]"
      ]
     },
     "execution_count": 86,
     "metadata": {},
     "output_type": "execute_result"
    }
   ],
   "source": [
    "y"
   ]
  },
  {
   "cell_type": "code",
   "execution_count": 89,
   "id": "4be8b975",
   "metadata": {},
   "outputs": [
    {
     "data": {
      "text/plain": [
       "[1, 4, 9, 16, 25, 36]"
      ]
     },
     "execution_count": 89,
     "metadata": {},
     "output_type": "execute_result"
    }
   ],
   "source": [
    "z = [i**2 for i in l]\n",
    "z"
   ]
  },
  {
   "cell_type": "code",
   "execution_count": 105,
   "id": "2b6b784c",
   "metadata": {},
   "outputs": [
    {
     "data": {
      "text/plain": [
       "[(1, 3), (4, 4), (9, 5), (16, 6), (25, 7), (36, 8)]"
      ]
     },
     "execution_count": 105,
     "metadata": {},
     "output_type": "execute_result"
    }
   ],
   "source": [
    "[(i**2,i+2) for i in l]"
   ]
  },
  {
   "cell_type": "code",
   "execution_count": 108,
   "id": "f7aded0a",
   "metadata": {},
   "outputs": [
    {
     "data": {
      "text/plain": [
       "[(4, 4)]"
      ]
     },
     "execution_count": 108,
     "metadata": {},
     "output_type": "execute_result"
    }
   ],
   "source": [
    "[(i**2,i+2) for i in l if i < 3 and i > 1]"
   ]
  },
  {
   "cell_type": "code",
   "execution_count": 103,
   "id": "ff89ad73",
   "metadata": {},
   "outputs": [],
   "source": [
    "f7 = lambda x: [i+2 for i in x]"
   ]
  },
  {
   "cell_type": "code",
   "execution_count": 104,
   "id": "b3ab7dc6",
   "metadata": {},
   "outputs": [
    {
     "data": {
      "text/plain": [
       "[3, 4, 5, 6, 7, 8]"
      ]
     },
     "execution_count": 104,
     "metadata": {},
     "output_type": "execute_result"
    }
   ],
   "source": [
    "f7([1,2,3,4,5,6])"
   ]
  },
  {
   "cell_type": "code",
   "execution_count": 87,
   "id": "9e3f288e",
   "metadata": {},
   "outputs": [],
   "source": [
    "a = lambda **kwargs : kwargs"
   ]
  },
  {
   "cell_type": "code",
   "execution_count": 88,
   "id": "c72aa930",
   "metadata": {},
   "outputs": [
    {
     "data": {
      "text/plain": [
       "{'a': 'dsf', 'v': 342, 'c': 'fsd'}"
      ]
     },
     "execution_count": 88,
     "metadata": {},
     "output_type": "execute_result"
    }
   ],
   "source": [
    "a(a=\"dsf\",v=342, c=\"fsd\")"
   ]
  },
  {
   "cell_type": "markdown",
   "id": "5089ddc9",
   "metadata": {},
   "source": [
    "# Scope of variable in python: Local vs Global"
   ]
  },
  {
   "cell_type": "code",
   "execution_count": 102,
   "id": "299cb585",
   "metadata": {},
   "outputs": [
    {
     "name": "stdout",
     "output_type": "stream",
     "text": [
      "10\n",
      "15\n",
      "5\n",
      "15\n"
     ]
    }
   ],
   "source": [
    "a = 10\n",
    "print(a)\n",
    "\n",
    "def func():\n",
    "    global a\n",
    "    a=15\n",
    "    b = 5\n",
    "    print(a)\n",
    "    print(b)\n",
    "\n",
    "func()    \n",
    "print(a)"
   ]
  },
  {
   "cell_type": "code",
   "execution_count": 109,
   "id": "01bca9a9",
   "metadata": {},
   "outputs": [],
   "source": [
    "d = {1:3,3:6,2:4}"
   ]
  },
  {
   "cell_type": "code",
   "execution_count": 110,
   "id": "bd1c751f",
   "metadata": {},
   "outputs": [
    {
     "data": {
      "text/plain": [
       "{1: 3, 3: 6, 2: 4}"
      ]
     },
     "execution_count": 110,
     "metadata": {},
     "output_type": "execute_result"
    }
   ],
   "source": [
    "d"
   ]
  },
  {
   "cell_type": "code",
   "execution_count": 111,
   "id": "e57f04a7",
   "metadata": {},
   "outputs": [
    {
     "data": {
      "text/plain": [
       "{0: 0, 1: 1, 2: 4, 3: 9, 4: 16, 5: 25, 6: 36, 7: 49, 8: 64, 9: 81}"
      ]
     },
     "execution_count": 111,
     "metadata": {},
     "output_type": "execute_result"
    }
   ],
   "source": [
    "{i:i**2 for i in range(0,10)}"
   ]
  },
  {
   "cell_type": "code",
   "execution_count": 118,
   "id": "b5816579",
   "metadata": {},
   "outputs": [
    {
     "data": {
      "text/plain": [
       "<generator object <genexpr> at 0x000001FF67580040>"
      ]
     },
     "execution_count": 118,
     "metadata": {},
     "output_type": "execute_result"
    }
   ],
   "source": [
    "(i**2 for i in l)"
   ]
  },
  {
   "cell_type": "code",
   "execution_count": 119,
   "id": "625f922a",
   "metadata": {},
   "outputs": [
    {
     "data": {
      "text/plain": [
       "(1, 4, 9, 16, 25, 36)"
      ]
     },
     "execution_count": 119,
     "metadata": {},
     "output_type": "execute_result"
    }
   ],
   "source": [
    "tuple(i**2 for i in l)"
   ]
  },
  {
   "cell_type": "code",
   "execution_count": 181,
   "id": "2b8eca66",
   "metadata": {},
   "outputs": [
    {
     "data": {
      "text/plain": [
       "{1, 4, 9, 16, 25, 36}"
      ]
     },
     "execution_count": 181,
     "metadata": {},
     "output_type": "execute_result"
    }
   ],
   "source": [
    "{i**2 for i in l}"
   ]
  },
  {
   "cell_type": "markdown",
   "id": "51cca1e2",
   "metadata": {},
   "source": [
    "# Iterable vs Iterator"
   ]
  },
  {
   "cell_type": "code",
   "execution_count": 120,
   "id": "278093b6",
   "metadata": {},
   "outputs": [
    {
     "ename": "TypeError",
     "evalue": "'int' object is not iterable",
     "output_type": "error",
     "traceback": [
      "\u001b[1;31m---------------------------------------------------------------------------\u001b[0m",
      "\u001b[1;31mTypeError\u001b[0m                                 Traceback (most recent call last)",
      "\u001b[1;32m<ipython-input-120-b1b8852ddb14>\u001b[0m in \u001b[0;36m<module>\u001b[1;34m\u001b[0m\n\u001b[0;32m      1\u001b[0m \u001b[0ma\u001b[0m \u001b[1;33m=\u001b[0m \u001b[1;36m10\u001b[0m\u001b[1;33m\u001b[0m\u001b[1;33m\u001b[0m\u001b[0m\n\u001b[0;32m      2\u001b[0m \u001b[1;33m\u001b[0m\u001b[0m\n\u001b[1;32m----> 3\u001b[1;33m \u001b[1;32mfor\u001b[0m \u001b[0mi\u001b[0m \u001b[1;32min\u001b[0m \u001b[0ma\u001b[0m\u001b[1;33m:\u001b[0m\u001b[1;33m\u001b[0m\u001b[1;33m\u001b[0m\u001b[0m\n\u001b[0m\u001b[0;32m      4\u001b[0m     \u001b[0mprint\u001b[0m\u001b[1;33m(\u001b[0m\u001b[0mi\u001b[0m\u001b[1;33m)\u001b[0m\u001b[1;33m\u001b[0m\u001b[1;33m\u001b[0m\u001b[0m\n",
      "\u001b[1;31mTypeError\u001b[0m: 'int' object is not iterable"
     ]
    }
   ],
   "source": [
    "a = 10\n",
    "\n",
    "for i in a:\n",
    "    print(i)"
   ]
  },
  {
   "cell_type": "code",
   "execution_count": 121,
   "id": "0a25f712",
   "metadata": {},
   "outputs": [
    {
     "name": "stdout",
     "output_type": "stream",
     "text": [
      "a\n",
      "k\n",
      "s\n",
      "h\n",
      "a\n",
      "y\n"
     ]
    }
   ],
   "source": [
    "s = \"akshay\"\n",
    "\n",
    "for i in s:\n",
    "    print(i)"
   ]
  },
  {
   "cell_type": "code",
   "execution_count": 140,
   "id": "675741aa",
   "metadata": {},
   "outputs": [],
   "source": [
    "b = iter(s)"
   ]
  },
  {
   "cell_type": "code",
   "execution_count": 141,
   "id": "2b671cd6",
   "metadata": {},
   "outputs": [
    {
     "data": {
      "text/plain": [
       "'a'"
      ]
     },
     "execution_count": 141,
     "metadata": {},
     "output_type": "execute_result"
    }
   ],
   "source": [
    "next(b)"
   ]
  },
  {
   "cell_type": "code",
   "execution_count": 150,
   "id": "86361fbb",
   "metadata": {},
   "outputs": [],
   "source": [
    "a = iter([1,2,3,4,5])"
   ]
  },
  {
   "cell_type": "code",
   "execution_count": 153,
   "id": "37445d42",
   "metadata": {},
   "outputs": [
    {
     "ename": "TypeError",
     "evalue": "'list' object is not an iterator",
     "output_type": "error",
     "traceback": [
      "\u001b[1;31m---------------------------------------------------------------------------\u001b[0m",
      "\u001b[1;31mTypeError\u001b[0m                                 Traceback (most recent call last)",
      "\u001b[1;32m<ipython-input-153-ace747979c50>\u001b[0m in \u001b[0;36m<module>\u001b[1;34m\u001b[0m\n\u001b[1;32m----> 1\u001b[1;33m \u001b[0mnext\u001b[0m\u001b[1;33m(\u001b[0m\u001b[1;33m[\u001b[0m\u001b[1;36m1\u001b[0m\u001b[1;33m,\u001b[0m\u001b[1;36m2\u001b[0m\u001b[1;33m,\u001b[0m\u001b[1;36m3\u001b[0m\u001b[1;33m,\u001b[0m\u001b[1;36m4\u001b[0m\u001b[1;33m,\u001b[0m\u001b[1;36m5\u001b[0m\u001b[1;33m]\u001b[0m\u001b[1;33m)\u001b[0m\u001b[1;33m\u001b[0m\u001b[1;33m\u001b[0m\u001b[0m\n\u001b[0m",
      "\u001b[1;31mTypeError\u001b[0m: 'list' object is not an iterator"
     ]
    }
   ],
   "source": [
    "next([1,2,3,4,5])"
   ]
  },
  {
   "cell_type": "code",
   "execution_count": 155,
   "id": "a11455df",
   "metadata": {},
   "outputs": [
    {
     "data": {
      "text/plain": [
       "'k'"
      ]
     },
     "execution_count": 155,
     "metadata": {},
     "output_type": "execute_result"
    }
   ],
   "source": [
    "next(b)"
   ]
  },
  {
   "cell_type": "code",
   "execution_count": 156,
   "id": "cb3d323f",
   "metadata": {},
   "outputs": [],
   "source": [
    "t = (1,2,3,4,5)"
   ]
  },
  {
   "cell_type": "code",
   "execution_count": 165,
   "id": "fe01b647",
   "metadata": {},
   "outputs": [],
   "source": [
    "c=iter(t)"
   ]
  },
  {
   "cell_type": "code",
   "execution_count": 167,
   "id": "d4fd9ed6",
   "metadata": {},
   "outputs": [
    {
     "data": {
      "text/plain": [
       "2"
      ]
     },
     "execution_count": 167,
     "metadata": {},
     "output_type": "execute_result"
    }
   ],
   "source": [
    "next(c)"
   ]
  },
  {
   "cell_type": "code",
   "execution_count": 168,
   "id": "e0f6c4a8",
   "metadata": {},
   "outputs": [],
   "source": [
    "d={1:'d',2:'r',6:'e'}"
   ]
  },
  {
   "cell_type": "code",
   "execution_count": 173,
   "id": "e1f92184",
   "metadata": {},
   "outputs": [],
   "source": [
    "z = iter(d.items())"
   ]
  },
  {
   "cell_type": "code",
   "execution_count": 174,
   "id": "0d6457ce",
   "metadata": {},
   "outputs": [
    {
     "data": {
      "text/plain": [
       "(1, 'd')"
      ]
     },
     "execution_count": 174,
     "metadata": {},
     "output_type": "execute_result"
    }
   ],
   "source": [
    "next(z)"
   ]
  },
  {
   "cell_type": "code",
   "execution_count": 175,
   "id": "52266ec9",
   "metadata": {},
   "outputs": [],
   "source": [
    "se = {1,2,3,4,5,6}"
   ]
  },
  {
   "cell_type": "code",
   "execution_count": 177,
   "id": "d603006d",
   "metadata": {},
   "outputs": [],
   "source": [
    "sd = iter(se)"
   ]
  },
  {
   "cell_type": "code",
   "execution_count": 180,
   "id": "4ec75ce6",
   "metadata": {},
   "outputs": [
    {
     "data": {
      "text/plain": [
       "3"
      ]
     },
     "execution_count": 180,
     "metadata": {},
     "output_type": "execute_result"
    }
   ],
   "source": [
    "next(sd)"
   ]
  },
  {
   "cell_type": "markdown",
   "id": "f2f0cdda",
   "metadata": {},
   "source": [
    "# Generator (09/01/2022)"
   ]
  },
  {
   "cell_type": "code",
   "execution_count": 2,
   "id": "0d2af7bc",
   "metadata": {},
   "outputs": [
    {
     "data": {
      "text/plain": [
       "range(0, 5)"
      ]
     },
     "execution_count": 2,
     "metadata": {},
     "output_type": "execute_result"
    }
   ],
   "source": [
    "range(0,5)"
   ]
  },
  {
   "cell_type": "code",
   "execution_count": 3,
   "id": "0e604694",
   "metadata": {},
   "outputs": [
    {
     "data": {
      "text/plain": [
       "[0, 1, 2, 3, 4]"
      ]
     },
     "execution_count": 3,
     "metadata": {},
     "output_type": "execute_result"
    }
   ],
   "source": [
    "list(range(0,5))"
   ]
  },
  {
   "cell_type": "code",
   "execution_count": 10,
   "id": "aa8a4542",
   "metadata": {},
   "outputs": [],
   "source": [
    "# Consume more time and memory to create list and then return\n",
    "def gencube(n):\n",
    "    out = []\n",
    "    for i in range(n):\n",
    "        out.append(i**3)\n",
    "    return out"
   ]
  },
  {
   "cell_type": "code",
   "execution_count": 11,
   "id": "88e10e74",
   "metadata": {},
   "outputs": [
    {
     "data": {
      "text/plain": [
       "[0, 1, 8, 27, 64, 125]"
      ]
     },
     "execution_count": 11,
     "metadata": {},
     "output_type": "execute_result"
    }
   ],
   "source": [
    "gencube(6)"
   ]
  },
  {
   "cell_type": "code",
   "execution_count": 15,
   "id": "1dbe9c03",
   "metadata": {},
   "outputs": [],
   "source": [
    "def gencubefast(n):\n",
    "    for i in range(n):\n",
    "        yield i**3"
   ]
  },
  {
   "cell_type": "code",
   "execution_count": 16,
   "id": "635d3e76",
   "metadata": {},
   "outputs": [
    {
     "data": {
      "text/plain": [
       "<generator object gencubefast at 0x000002C2B0D48820>"
      ]
     },
     "execution_count": 16,
     "metadata": {},
     "output_type": "execute_result"
    }
   ],
   "source": [
    "gencubefast(6)"
   ]
  },
  {
   "cell_type": "code",
   "execution_count": 17,
   "id": "5a692017",
   "metadata": {},
   "outputs": [
    {
     "name": "stdout",
     "output_type": "stream",
     "text": [
      "0\n",
      "1\n",
      "8\n",
      "27\n",
      "64\n",
      "125\n",
      "216\n",
      "343\n",
      "512\n",
      "729\n"
     ]
    }
   ],
   "source": [
    "for i in gencubefast(10):\n",
    "    print(i)"
   ]
  },
  {
   "cell_type": "code",
   "execution_count": 47,
   "id": "995f8573",
   "metadata": {},
   "outputs": [],
   "source": [
    "g = gencubefast(3)"
   ]
  },
  {
   "cell_type": "code",
   "execution_count": 48,
   "id": "7c7476b5",
   "metadata": {},
   "outputs": [],
   "source": [
    "def fibonacci(n):\n",
    "    a = 0\n",
    "    b = 1\n",
    "    out = []\n",
    "    for i in range(n):\n",
    "        out.append(a)\n",
    "        a,b = b, a+b\n",
    "    return out"
   ]
  },
  {
   "cell_type": "code",
   "execution_count": 49,
   "id": "6f3c7011",
   "metadata": {},
   "outputs": [
    {
     "data": {
      "text/plain": [
       "[0, 1, 1, 2, 3, 5, 8, 13, 21, 34]"
      ]
     },
     "execution_count": 49,
     "metadata": {},
     "output_type": "execute_result"
    }
   ],
   "source": [
    "fibonacci(10)"
   ]
  },
  {
   "cell_type": "code",
   "execution_count": 50,
   "id": "b89eaa47",
   "metadata": {},
   "outputs": [],
   "source": [
    "def genFibonacci(n):\n",
    "    a = 0\n",
    "    b = 1\n",
    "    for i in range(n):\n",
    "        yield i,a\n",
    "        \n",
    "        ### LOGIC: 1 ###\n",
    "        a,b = b, a+b\n",
    "        \n",
    "        ### LOGIC: 2 ###\n",
    "        # a_new = b\n",
    "        # b = a + b\n",
    "        # a = a_new\n",
    "        "
   ]
  },
  {
   "cell_type": "code",
   "execution_count": 51,
   "id": "b3c89397",
   "metadata": {},
   "outputs": [
    {
     "data": {
      "text/plain": [
       "<generator object genFibonacci at 0x000002C2B2014660>"
      ]
     },
     "execution_count": 51,
     "metadata": {},
     "output_type": "execute_result"
    }
   ],
   "source": [
    "genFibonacci(10)"
   ]
  },
  {
   "cell_type": "code",
   "execution_count": 44,
   "id": "771f65b8",
   "metadata": {},
   "outputs": [
    {
     "name": "stdout",
     "output_type": "stream",
     "text": [
      "(0, 0)\n",
      "(1, 1)\n",
      "(2, 1)\n",
      "(3, 2)\n",
      "(4, 3)\n",
      "(5, 5)\n",
      "(6, 8)\n",
      "(7, 13)\n",
      "(8, 21)\n",
      "(9, 34)\n"
     ]
    }
   ],
   "source": [
    "for i in genFibonacci(10):\n",
    "    print(i)"
   ]
  },
  {
   "cell_type": "code",
   "execution_count": 52,
   "id": "d7528a34",
   "metadata": {},
   "outputs": [],
   "source": [
    "def test(n):\n",
    "    for i in range(n):\n",
    "        print(i)"
   ]
  },
  {
   "cell_type": "code",
   "execution_count": 54,
   "id": "e5c4ac90",
   "metadata": {},
   "outputs": [
    {
     "name": "stdout",
     "output_type": "stream",
     "text": [
      "0\n",
      "1\n",
      "2\n",
      "3\n",
      "4\n",
      "5\n",
      "6\n",
      "7\n",
      "8\n",
      "9\n"
     ]
    }
   ],
   "source": [
    "j = test(10)"
   ]
  },
  {
   "cell_type": "code",
   "execution_count": 56,
   "id": "2bbbf694",
   "metadata": {},
   "outputs": [
    {
     "name": "stdout",
     "output_type": "stream",
     "text": [
      "None\n"
     ]
    }
   ],
   "source": [
    "print(j)"
   ]
  },
  {
   "cell_type": "markdown",
   "id": "a334036b",
   "metadata": {},
   "source": [
    "# File Handling "
   ]
  },
  {
   "cell_type": "code",
   "execution_count": 62,
   "id": "0943c2a8",
   "metadata": {},
   "outputs": [
    {
     "data": {
      "text/plain": [
       "'C:\\\\Users\\\\akshay.daga\\\\Jupyter Notebooks'"
      ]
     },
     "execution_count": 62,
     "metadata": {},
     "output_type": "execute_result"
    }
   ],
   "source": [
    "pwd()"
   ]
  },
  {
   "cell_type": "code",
   "execution_count": 67,
   "id": "a9fe7eb3",
   "metadata": {},
   "outputs": [
    {
     "name": "stdout",
     "output_type": "stream",
     "text": [
      " Volume in drive C is Windows\n",
      " Volume Serial Number is D8FC-E3B8\n",
      "\n",
      " Directory of C:\\Users\\akshay.daga\\Jupyter Notebooks\n",
      "\n",
      "01/09/2022  11:57 AM    <DIR>          .\n",
      "01/09/2022  11:57 AM    <DIR>          ..\n",
      "01/08/2022  03:55 PM    <DIR>          .ipynb_checkpoints\n",
      "12/29/2021  08:37 PM           237,672 FSDS #3.ipynb\n",
      "01/09/2022  11:57 AM            38,916 FSDS #4.ipynb\n",
      "12/31/2021  04:35 PM             7,578 Python #15.2 - BREAK vs PASS vs CONTINUE.ipynb\n",
      "12/31/2021  03:57 PM             4,316 Python #16 - FOR... ELSE... Statement.ipynb\n",
      "12/31/2021  04:07 PM         1,025,959 Python #17 - WHILE Loop.ipynb\n",
      "01/08/2022  02:50 PM             8,385 Python #18 - Comprehensions (List, Tuple, Dict, Set).ipynb\n",
      "01/08/2022  03:10 PM             8,721 Python #19 - Functions in python.ipynb\n",
      "01/08/2022  03:33 PM             9,174 Python #20 - Functions with multiple arguments.ipynb\n",
      "01/08/2022  03:49 PM             8,140 Python #21 - Functions with key-value pair arguments.ipynb\n",
      "01/08/2022  04:26 PM             6,284 Python #22 - Lambda functions.ipynb\n",
      "01/08/2022  04:44 PM            18,083 Python #23 - Iterable vs Iterator.ipynb\n",
      "01/09/2022  11:54 AM                 0 test.txt\n",
      "              12 File(s)      1,373,228 bytes\n",
      "               3 Dir(s)  215,831,134,208 bytes free\n"
     ]
    }
   ],
   "source": [
    "%ls"
   ]
  },
  {
   "cell_type": "code",
   "execution_count": 69,
   "id": "ba092d22",
   "metadata": {},
   "outputs": [
    {
     "name": "stdout",
     "output_type": "stream",
     "text": [
      " Volume in drive C is Windows\n",
      " Volume Serial Number is D8FC-E3B8\n",
      "\n",
      " Directory of C:\\Users\\akshay.daga\\Jupyter Notebooks\n",
      "\n",
      "01/09/2022  11:57 AM    <DIR>          .\n",
      "01/09/2022  11:57 AM    <DIR>          ..\n",
      "01/08/2022  03:55 PM    <DIR>          .ipynb_checkpoints\n",
      "12/29/2021  08:37 PM           237,672 FSDS #3.ipynb\n",
      "01/09/2022  11:57 AM            38,916 FSDS #4.ipynb\n",
      "12/31/2021  04:35 PM             7,578 Python #15.2 - BREAK vs PASS vs CONTINUE.ipynb\n",
      "12/31/2021  03:57 PM             4,316 Python #16 - FOR... ELSE... Statement.ipynb\n",
      "12/31/2021  04:07 PM         1,025,959 Python #17 - WHILE Loop.ipynb\n",
      "01/08/2022  02:50 PM             8,385 Python #18 - Comprehensions (List, Tuple, Dict, Set).ipynb\n",
      "01/08/2022  03:10 PM             8,721 Python #19 - Functions in python.ipynb\n",
      "01/08/2022  03:33 PM             9,174 Python #20 - Functions with multiple arguments.ipynb\n",
      "01/08/2022  03:49 PM             8,140 Python #21 - Functions with key-value pair arguments.ipynb\n",
      "01/08/2022  04:26 PM             6,284 Python #22 - Lambda functions.ipynb\n",
      "01/08/2022  04:44 PM            18,083 Python #23 - Iterable vs Iterator.ipynb\n",
      "01/09/2022  11:54 AM                 0 test.txt\n",
      "              12 File(s)      1,373,228 bytes\n",
      "               3 Dir(s)  215,831,068,672 bytes free\n"
     ]
    }
   ],
   "source": [
    "!dir"
   ]
  },
  {
   "cell_type": "code",
   "execution_count": 103,
   "id": "87b5a88b",
   "metadata": {},
   "outputs": [],
   "source": [
    "f = open(\"test.txt\",\"w\")"
   ]
  },
  {
   "cell_type": "code",
   "execution_count": 104,
   "id": "5822f700",
   "metadata": {},
   "outputs": [
    {
     "data": {
      "text/plain": [
       "92"
      ]
     },
     "execution_count": 104,
     "metadata": {},
     "output_type": "execute_result"
    }
   ],
   "source": [
    "f.write(\"This is the first time I am writing into a file text.txt using python code.\\nThis is 2nd line\")"
   ]
  },
  {
   "cell_type": "code",
   "execution_count": 105,
   "id": "9ed62890",
   "metadata": {},
   "outputs": [],
   "source": [
    "f.close()"
   ]
  },
  {
   "cell_type": "markdown",
   "id": "86566c1b",
   "metadata": {},
   "source": [
    "# Another way to write data in file"
   ]
  },
  {
   "cell_type": "code",
   "execution_count": 79,
   "id": "1cf0d3c6",
   "metadata": {},
   "outputs": [
    {
     "name": "stdout",
     "output_type": "stream",
     "text": [
      "Overwriting test1.txt\n"
     ]
    }
   ],
   "source": [
    "%%writefile test1.txt\n",
    "This is the 2nd file I am writing into using jupyter notebook using scripting approach using %%writefile test1.txt command."
   ]
  },
  {
   "cell_type": "code",
   "execution_count": 107,
   "id": "9f5b9967",
   "metadata": {},
   "outputs": [],
   "source": [
    "f = open(\"test.txt\")"
   ]
  },
  {
   "cell_type": "code",
   "execution_count": 86,
   "id": "f4feeebb",
   "metadata": {},
   "outputs": [
    {
     "data": {
      "text/plain": [
       "'This is the first time I am writing into a file text.txt using python code.\\n This is 2nd line'"
      ]
     },
     "execution_count": 86,
     "metadata": {},
     "output_type": "execute_result"
    }
   ],
   "source": [
    "f.read()"
   ]
  },
  {
   "cell_type": "code",
   "execution_count": 87,
   "id": "a4ddae53",
   "metadata": {},
   "outputs": [
    {
     "ename": "UnsupportedOperation",
     "evalue": "not writable",
     "output_type": "error",
     "traceback": [
      "\u001b[1;31m---------------------------------------------------------------------------\u001b[0m",
      "\u001b[1;31mUnsupportedOperation\u001b[0m                      Traceback (most recent call last)",
      "\u001b[1;32m<ipython-input-87-c2d7e784517d>\u001b[0m in \u001b[0;36m<module>\u001b[1;34m\u001b[0m\n\u001b[1;32m----> 1\u001b[1;33m \u001b[0mf\u001b[0m\u001b[1;33m.\u001b[0m\u001b[0mwrite\u001b[0m\u001b[1;33m(\u001b[0m\u001b[1;34m\"sdfassfdsasf\"\u001b[0m\u001b[1;33m)\u001b[0m\u001b[1;33m\u001b[0m\u001b[1;33m\u001b[0m\u001b[0m\n\u001b[0m",
      "\u001b[1;31mUnsupportedOperation\u001b[0m: not writable"
     ]
    }
   ],
   "source": [
    "f.write(\"sdfassfdsasf\")"
   ]
  },
  {
   "cell_type": "code",
   "execution_count": 88,
   "id": "5a21d8b1",
   "metadata": {},
   "outputs": [
    {
     "data": {
      "text/plain": [
       "''"
      ]
     },
     "execution_count": 88,
     "metadata": {},
     "output_type": "execute_result"
    }
   ],
   "source": [
    "f.read()"
   ]
  },
  {
   "cell_type": "code",
   "execution_count": 89,
   "id": "cb04cc92",
   "metadata": {},
   "outputs": [
    {
     "data": {
      "text/plain": [
       "''"
      ]
     },
     "execution_count": 89,
     "metadata": {},
     "output_type": "execute_result"
    }
   ],
   "source": [
    "f.read()"
   ]
  },
  {
   "cell_type": "code",
   "execution_count": 97,
   "id": "fe992b6b",
   "metadata": {},
   "outputs": [
    {
     "data": {
      "text/plain": [
       "5"
      ]
     },
     "execution_count": 97,
     "metadata": {},
     "output_type": "execute_result"
    }
   ],
   "source": [
    "f.seek(5)"
   ]
  },
  {
   "cell_type": "code",
   "execution_count": 91,
   "id": "225bdd9c",
   "metadata": {},
   "outputs": [
    {
     "data": {
      "text/plain": [
       "'is the first time I am writing into a file text.txt using python code.\\n This is 2nd line'"
      ]
     },
     "execution_count": 91,
     "metadata": {},
     "output_type": "execute_result"
    }
   ],
   "source": [
    "f.read()"
   ]
  },
  {
   "cell_type": "code",
   "execution_count": 108,
   "id": "69bc71d1",
   "metadata": {},
   "outputs": [
    {
     "data": {
      "text/plain": [
       "['This is the first time I am writing into a file text.txt using python code.\\n',\n",
       " 'This is 2nd line']"
      ]
     },
     "execution_count": 108,
     "metadata": {},
     "output_type": "execute_result"
    }
   ],
   "source": [
    "f.seek(0)\n",
    "f.readlines()"
   ]
  },
  {
   "cell_type": "code",
   "execution_count": 109,
   "id": "e8cff83d",
   "metadata": {},
   "outputs": [
    {
     "data": {
      "text/plain": [
       "'This is the first time I am writing into a file text.txt using python code.\\n'"
      ]
     },
     "execution_count": 109,
     "metadata": {},
     "output_type": "execute_result"
    }
   ],
   "source": [
    "f.seek(0)\n",
    "f.readline()"
   ]
  },
  {
   "cell_type": "code",
   "execution_count": 110,
   "id": "f4247969",
   "metadata": {},
   "outputs": [
    {
     "data": {
      "text/plain": [
       "77"
      ]
     },
     "execution_count": 110,
     "metadata": {},
     "output_type": "execute_result"
    }
   ],
   "source": [
    "f.tell()"
   ]
  },
  {
   "cell_type": "code",
   "execution_count": 111,
   "id": "b76b6844",
   "metadata": {},
   "outputs": [
    {
     "data": {
      "text/plain": [
       "'This is 2nd line'"
      ]
     },
     "execution_count": 111,
     "metadata": {},
     "output_type": "execute_result"
    }
   ],
   "source": [
    "f.readline()"
   ]
  },
  {
   "cell_type": "code",
   "execution_count": 142,
   "id": "7f191884",
   "metadata": {},
   "outputs": [],
   "source": [
    "f = open(\"test1.txt\",\"r+\")"
   ]
  },
  {
   "cell_type": "code",
   "execution_count": 143,
   "id": "2099238d",
   "metadata": {},
   "outputs": [
    {
     "data": {
      "text/plain": [
       "'This is the 2nd file I am writing into using jupyter notebook using scripting approach using %%writefile test1.txt command.\\nsdfaf\\nsadf\\nafsafd\\nasafd\\ndsaf\\nsafdsasaf\\nsadfsafsg\\njgjhgjf\\njhgjgfrte\\ntffd'"
      ]
     },
     "execution_count": 143,
     "metadata": {},
     "output_type": "execute_result"
    }
   ],
   "source": [
    "f.read()"
   ]
  },
  {
   "cell_type": "code",
   "execution_count": 118,
   "id": "c67a0fdd",
   "metadata": {},
   "outputs": [
    {
     "data": {
      "text/plain": [
       "'This is the 2nd file I am writing into using jupyter notebook using scripting approach using %%writefile test1.txt command.\\n'"
      ]
     },
     "execution_count": 118,
     "metadata": {},
     "output_type": "execute_result"
    }
   ],
   "source": [
    "f.seek(0)\n",
    "f.readline()"
   ]
  },
  {
   "cell_type": "code",
   "execution_count": 144,
   "id": "ab2f9a14",
   "metadata": {},
   "outputs": [
    {
     "data": {
      "text/plain": [
       "''"
      ]
     },
     "execution_count": 144,
     "metadata": {},
     "output_type": "execute_result"
    }
   ],
   "source": [
    "f.readline()"
   ]
  },
  {
   "cell_type": "code",
   "execution_count": 145,
   "id": "b6d72481",
   "metadata": {},
   "outputs": [],
   "source": [
    "f.close()"
   ]
  },
  {
   "cell_type": "code",
   "execution_count": 148,
   "id": "1936682d",
   "metadata": {},
   "outputs": [
    {
     "name": "stdout",
     "output_type": "stream",
     "text": [
      "This is the 2nd file I am writing into using jupyter notebook using scripting approach using %%writefile test1.txt command.\n",
      "sdfaf\n",
      "sadf\n",
      "afsafd\n",
      "asafd\n",
      "dsaf\n",
      "safdsasaf\n",
      "sadfsafsg\n",
      "jgjhgjf\n",
      "jhgjgfrte\n",
      "tffd"
     ]
    }
   ],
   "source": [
    "f = open(\"test1.txt\", \"r+\")\n",
    "for line in f:\n",
    "    print(line, end=\"\")"
   ]
  },
  {
   "cell_type": "code",
   "execution_count": 149,
   "id": "f5e14bb1",
   "metadata": {},
   "outputs": [
    {
     "data": {
      "text/plain": [
       "140"
      ]
     },
     "execution_count": 149,
     "metadata": {},
     "output_type": "execute_result"
    }
   ],
   "source": [
    "f.write(\"\"\"This is the 2nd file I am writing into using jupyter notebook using \n",
    "scripting approach using %%writefile test1.txt command.\n",
    "sdfaf\n",
    "lin22222\n",
    "\"\"\")"
   ]
  },
  {
   "cell_type": "code",
   "execution_count": 151,
   "id": "f90ff80f",
   "metadata": {},
   "outputs": [
    {
     "data": {
      "text/plain": [
       "'This is the 2nd file I am writing into using jupyter notebook using scripting approach using %%writefile test1.txt command.\\nsdfaf\\nsadf\\nafsafd\\nasafd\\ndsaf\\nsafdsasaf\\nsadfsafsg\\njgjhgjf\\njhgjgfrte\\ntffdThis is the 2nd file I am writing into using jupyter notebook using \\nscripting approach using %%writefile test1.txt command.\\nsdfaf\\nlin22222\\n'"
      ]
     },
     "execution_count": 151,
     "metadata": {},
     "output_type": "execute_result"
    }
   ],
   "source": [
    "f.seek(0)\n",
    "f.read()"
   ]
  },
  {
   "cell_type": "code",
   "execution_count": 152,
   "id": "82cfda4a",
   "metadata": {},
   "outputs": [
    {
     "data": {
      "text/plain": [
       "3"
      ]
     },
     "execution_count": 152,
     "metadata": {},
     "output_type": "execute_result"
    }
   ],
   "source": [
    "f.seek(0)\n",
    "f.write(\"123\")"
   ]
  },
  {
   "cell_type": "code",
   "execution_count": 153,
   "id": "70360266",
   "metadata": {},
   "outputs": [
    {
     "data": {
      "text/plain": [
       "'123s is the 2nd file I am writing into using jupyter notebook using scripting approach using %%writefile test1.txt command.\\nsdfaf\\nsadf\\nafsafd\\nasafd\\ndsaf\\nsafdsasaf\\nsadfsafsg\\njgjhgjf\\njhgjgfrte\\ntffdThis is the 2nd file I am writing into using jupyter notebook using \\nscripting approach using %%writefile test1.txt command.\\nsdfaf\\nlin22222\\n'"
      ]
     },
     "execution_count": 153,
     "metadata": {},
     "output_type": "execute_result"
    }
   ],
   "source": [
    "f.seek(0)\n",
    "f.read()"
   ]
  },
  {
   "cell_type": "code",
   "execution_count": 173,
   "id": "dca852da",
   "metadata": {},
   "outputs": [
    {
     "name": "stdout",
     "output_type": "stream",
     "text": [
      "['1', 'i', 't', '2', 'f', 'I', 'a', 'w', 'i', 'u', 'j', 'n', 'u', 's', 'a', 'u', '%', 't', 'c', 's', 's', 'a', 'a', 'd', 's', 's', 'j', 'j', 't', 'i', 't', '2', 'f', 'I', 'a', 'w', 'i', 'u', 'j', 'n', 'u', 's', 'a', 'u', '%', 't', 'c', 's', 'l']\n"
     ]
    }
   ],
   "source": [
    "f.seek(0)\n",
    "l = f.readlines()\n",
    "# len(l[0].split()) # number of words in first paragraph / line\n",
    "# len(l[0].split()[0]) # number of characters in first word\n",
    "\n",
    "\n",
    "## Print 1st character of each word in the file\n",
    "\n",
    "out = []\n",
    "\n",
    "for line in l:                 #getting lines one by one in from file\n",
    "    # print(j)\n",
    "    for word in line.split():  #getting first character of each word\n",
    "        # print(i[0])\n",
    "        out.append(word[0])\n",
    "    \n",
    "print(out)"
   ]
  },
  {
   "cell_type": "code",
   "execution_count": 182,
   "id": "a87efe7a",
   "metadata": {},
   "outputs": [
    {
     "name": "stdout",
     "output_type": "stream",
     "text": [
      "test3.txt\n",
      "5\n"
     ]
    }
   ],
   "source": [
    "f = open(\"test3.txt\",\"w+\")\n",
    "print(f.name)\n",
    "print(f.fileno())"
   ]
  },
  {
   "cell_type": "code",
   "execution_count": null,
   "id": "1516e6cc",
   "metadata": {},
   "outputs": [],
   "source": []
  },
  {
   "cell_type": "code",
   "execution_count": 183,
   "id": "158e0ec3",
   "metadata": {},
   "outputs": [],
   "source": [
    "l = [\"This is first line \", \"This is 2nd line \", \"This is 3rd line \", \"This is 4th line \"]"
   ]
  },
  {
   "cell_type": "code",
   "execution_count": 186,
   "id": "d39e51b1",
   "metadata": {},
   "outputs": [],
   "source": [
    "f.writelines(l)"
   ]
  },
  {
   "cell_type": "code",
   "execution_count": 188,
   "id": "21a72540",
   "metadata": {},
   "outputs": [
    {
     "data": {
      "text/plain": [
       "'This is first line This is 2nd line This is 3rd line This is 4th line This is first line This is 2nd line This is 3rd line This is 4th line '"
      ]
     },
     "execution_count": 188,
     "metadata": {},
     "output_type": "execute_result"
    }
   ],
   "source": [
    "f.seek(0)\n",
    "f.read()"
   ]
  },
  {
   "cell_type": "code",
   "execution_count": 189,
   "id": "a4e0bf6f",
   "metadata": {},
   "outputs": [],
   "source": [
    "f.close()"
   ]
  },
  {
   "cell_type": "code",
   "execution_count": null,
   "id": "6c333fce",
   "metadata": {},
   "outputs": [],
   "source": []
  },
  {
   "cell_type": "code",
   "execution_count": 190,
   "id": "4193ac7b",
   "metadata": {},
   "outputs": [],
   "source": [
    "import os"
   ]
  },
  {
   "cell_type": "code",
   "execution_count": 191,
   "id": "f2f730eb",
   "metadata": {},
   "outputs": [],
   "source": [
    "os.remove(\"test3.txt\")"
   ]
  },
  {
   "cell_type": "code",
   "execution_count": 192,
   "id": "1c4e5b71",
   "metadata": {},
   "outputs": [
    {
     "name": "stdout",
     "output_type": "stream",
     "text": [
      " Volume in drive C is Windows\n",
      " Volume Serial Number is D8FC-E3B8\n",
      "\n",
      " Directory of C:\\Users\\akshay.daga\\Jupyter Notebooks\n",
      "\n",
      "01/09/2022  12:58 PM    <DIR>          .\n",
      "01/09/2022  12:58 PM    <DIR>          ..\n",
      "01/08/2022  03:55 PM    <DIR>          .ipynb_checkpoints\n",
      "12/29/2021  08:37 PM           237,672 FSDS #3.ipynb\n",
      "01/09/2022  12:57 PM            54,023 FSDS #4.ipynb\n",
      "12/31/2021  04:35 PM             7,578 Python #15.2 - BREAK vs PASS vs CONTINUE.ipynb\n",
      "12/31/2021  03:57 PM             4,316 Python #16 - FOR... ELSE... Statement.ipynb\n",
      "12/31/2021  04:07 PM         1,025,959 Python #17 - WHILE Loop.ipynb\n",
      "01/08/2022  02:50 PM             8,385 Python #18 - Comprehensions (List, Tuple, Dict, Set).ipynb\n",
      "01/08/2022  03:10 PM             8,721 Python #19 - Functions in python.ipynb\n",
      "01/08/2022  03:33 PM             9,174 Python #20 - Functions with multiple arguments.ipynb\n",
      "01/08/2022  03:49 PM             8,140 Python #21 - Functions with key-value pair arguments.ipynb\n",
      "01/08/2022  04:26 PM             6,284 Python #22 - Lambda functions.ipynb\n",
      "01/08/2022  04:44 PM            18,083 Python #23 - Iterable vs Iterator.ipynb\n",
      "01/09/2022  12:15 PM                93 test.txt\n",
      "01/09/2022  12:30 PM               349 test1.txt\n",
      "              13 File(s)      1,388,777 bytes\n",
      "               3 Dir(s)  215,810,875,392 bytes free\n"
     ]
    }
   ],
   "source": [
    "%ls"
   ]
  },
  {
   "cell_type": "code",
   "execution_count": 200,
   "id": "ba2d6cc8",
   "metadata": {},
   "outputs": [
    {
     "data": {
      "text/plain": [
       "'C:\\\\Users\\\\akshay.daga\\\\Jupyter Notebooks'"
      ]
     },
     "execution_count": 200,
     "metadata": {},
     "output_type": "execute_result"
    }
   ],
   "source": [
    "pwd()"
   ]
  },
  {
   "cell_type": "code",
   "execution_count": 193,
   "id": "0e6a0063",
   "metadata": {},
   "outputs": [
    {
     "data": {
      "text/plain": [
       "['.ipynb_checkpoints',\n",
       " 'FSDS #3.ipynb',\n",
       " 'FSDS #4.ipynb',\n",
       " 'Python #15.2 - BREAK vs PASS vs CONTINUE.ipynb',\n",
       " 'Python #16 - FOR... ELSE... Statement.ipynb',\n",
       " 'Python #17 - WHILE Loop.ipynb',\n",
       " 'Python #18 - Comprehensions (List, Tuple, Dict, Set).ipynb',\n",
       " 'Python #19 - Functions in python.ipynb',\n",
       " 'Python #20 - Functions with multiple arguments.ipynb',\n",
       " 'Python #21 - Functions with key-value pair arguments.ipynb',\n",
       " 'Python #22 - Lambda functions.ipynb',\n",
       " 'Python #23 - Iterable vs Iterator.ipynb',\n",
       " 'test.txt',\n",
       " 'test1.txt']"
      ]
     },
     "execution_count": 193,
     "metadata": {},
     "output_type": "execute_result"
    }
   ],
   "source": [
    "os.listdir()"
   ]
  },
  {
   "cell_type": "code",
   "execution_count": 215,
   "id": "d727ac19",
   "metadata": {},
   "outputs": [
    {
     "name": "stdout",
     "output_type": "stream",
     "text": [
      "out.txt\n",
      "test.txt\n",
      "test1.txt\n",
      "This is the first time I am writing into a file text.txt using python code.\n",
      "This is 2nd line123s is the 2nd file I am writing into using jupyter notebook using scripting approach using %%writefile test1.txt command.\n",
      "sdfaf\n",
      "sadf\n",
      "afsafd\n",
      "asafd\n",
      "dsaf\n",
      "safdsasaf\n",
      "sadfsafsg\n",
      "jgjhgjf\n",
      "jhgjgfrte\n",
      "tffdThis is the 2nd file I am writing into using jupyter notebook using \n",
      "scripting approach using %%writefile test1.txt command.\n",
      "sdfaf\n",
      "lin22222\n"
     ]
    }
   ],
   "source": [
    "## Write a python program to read all the .txt files from current directory \n",
    "## and write down all the content from those files into a new txt file\n",
    "\n",
    "f1 = open(\"out.txt\",\"w+\")\n",
    "for fname in os.listdir():\n",
    "    if fname.split(\".\")[-1] == \"txt\":\n",
    "        print(fname)\n",
    "        f2 = open(fname,\"r\")\n",
    "        f1.write(f2.read())\n",
    "        f2.close()\n",
    "        \n",
    "f1.seek(0)\n",
    "print(f1.read(), end=\"\")\n",
    "f1.close()"
   ]
  },
  {
   "cell_type": "code",
   "execution_count": 216,
   "id": "35759b88",
   "metadata": {},
   "outputs": [],
   "source": [
    "f1 = open(\"out.txt\",\"r+\")\n",
    "f1.read()\n",
    "f1.close()"
   ]
  },
  {
   "cell_type": "code",
   "execution_count": null,
   "id": "8ca91636",
   "metadata": {},
   "outputs": [],
   "source": []
  }
 ],
 "metadata": {
  "kernelspec": {
   "display_name": "Python 3",
   "language": "python",
   "name": "python3"
  },
  "language_info": {
   "codemirror_mode": {
    "name": "ipython",
    "version": 3
   },
   "file_extension": ".py",
   "mimetype": "text/x-python",
   "name": "python",
   "nbconvert_exporter": "python",
   "pygments_lexer": "ipython3",
   "version": "3.8.8"
  }
 },
 "nbformat": 4,
 "nbformat_minor": 5
}
