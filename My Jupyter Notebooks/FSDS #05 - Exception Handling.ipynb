{
 "cells": [
  {
   "cell_type": "markdown",
   "id": "8b22ef48",
   "metadata": {},
   "source": [
    "# TRY... EXCEPT... (Exception Handling)"
   ]
  },
  {
   "cell_type": "code",
   "execution_count": 1,
   "id": "eb8b91aa",
   "metadata": {},
   "outputs": [],
   "source": [
    "# Exception handling means handling run time errors and run the remaining piece of code."
   ]
  },
  {
   "cell_type": "code",
   "execution_count": 3,
   "id": "319f60b4",
   "metadata": {},
   "outputs": [
    {
     "data": {
      "text/plain": [
       "0.5"
      ]
     },
     "execution_count": 3,
     "metadata": {},
     "output_type": "execute_result"
    }
   ],
   "source": [
    "a = 5\n",
    "a/10"
   ]
  },
  {
   "cell_type": "code",
   "execution_count": 6,
   "id": "285d03f4",
   "metadata": {},
   "outputs": [
    {
     "ename": "ZeroDivisionError",
     "evalue": "division by zero",
     "output_type": "error",
     "traceback": [
      "\u001b[0;31m---------------------------------------------------------------------------\u001b[0m",
      "\u001b[0;31mZeroDivisionError\u001b[0m                         Traceback (most recent call last)",
      "\u001b[0;32m/var/folders/2b/0jxdkpf53db2vxdxwsdgc1tc0000gn/T/ipykernel_2141/1451142553.py\u001b[0m in \u001b[0;36m<module>\u001b[0;34m\u001b[0m\n\u001b[0;32m----> 1\u001b[0;31m \u001b[0ma\u001b[0m\u001b[0;34m/\u001b[0m\u001b[0;36m0\u001b[0m\u001b[0;34m\u001b[0m\u001b[0;34m\u001b[0m\u001b[0m\n\u001b[0m\u001b[1;32m      2\u001b[0m \u001b[0mprint\u001b[0m\u001b[0;34m(\u001b[0m\u001b[0;34m\"Print this line\"\u001b[0m\u001b[0;34m)\u001b[0m \u001b[0;31m#due to error in line 1, line 2 is also didn't get executed.\u001b[0m\u001b[0;34m\u001b[0m\u001b[0;34m\u001b[0m\u001b[0m\n",
      "\u001b[0;31mZeroDivisionError\u001b[0m: division by zero"
     ]
    }
   ],
   "source": [
    "a/0\n",
    "print(\"Print this line\") #due to error in line 1, line 2 is also didn't get executed."
   ]
  },
  {
   "cell_type": "code",
   "execution_count": 11,
   "id": "76cd04c4",
   "metadata": {},
   "outputs": [
    {
     "name": "stdout",
     "output_type": "stream",
     "text": [
      "0\n"
     ]
    },
    {
     "ename": "ZeroDivisionError",
     "evalue": "division by zero",
     "output_type": "error",
     "traceback": [
      "\u001b[0;31m---------------------------------------------------------------------------\u001b[0m",
      "\u001b[0;31mZeroDivisionError\u001b[0m                         Traceback (most recent call last)",
      "\u001b[0;32m/var/folders/2b/0jxdkpf53db2vxdxwsdgc1tc0000gn/T/ipykernel_2141/4083926819.py\u001b[0m in \u001b[0;36m<module>\u001b[0;34m\u001b[0m\n\u001b[1;32m      1\u001b[0m \u001b[0ma\u001b[0m \u001b[0;34m=\u001b[0m \u001b[0;36m5\u001b[0m\u001b[0;34m\u001b[0m\u001b[0;34m\u001b[0m\u001b[0m\n\u001b[1;32m      2\u001b[0m \u001b[0mb\u001b[0m \u001b[0;34m=\u001b[0m \u001b[0mint\u001b[0m\u001b[0;34m(\u001b[0m\u001b[0minput\u001b[0m\u001b[0;34m(\u001b[0m\u001b[0;34m)\u001b[0m\u001b[0;34m)\u001b[0m\u001b[0;34m\u001b[0m\u001b[0;34m\u001b[0m\u001b[0m\n\u001b[0;32m----> 3\u001b[0;31m \u001b[0ma\u001b[0m\u001b[0;34m/\u001b[0m\u001b[0mb\u001b[0m\u001b[0;34m\u001b[0m\u001b[0;34m\u001b[0m\u001b[0m\n\u001b[0m",
      "\u001b[0;31mZeroDivisionError\u001b[0m: division by zero"
     ]
    }
   ],
   "source": [
    "a = 5\n",
    "b = int(input())\n",
    "a/b"
   ]
  },
  {
   "cell_type": "code",
   "execution_count": 14,
   "id": "7e710e3e",
   "metadata": {},
   "outputs": [
    {
     "name": "stdout",
     "output_type": "stream",
     "text": [
      "FSDS #1 - Basics data types, list, tuple, set, dictionary.ipynb\r\n",
      "FSDS #2 - If-Else, For Loop.ipynb\r\n",
      "FSDS #5 - Exception Handling.ipynb\r\n",
      "Python #1 - Basics (Variables, Basic Data Types).ipynb\r\n",
      "Python #10 - Tuples.ipynb\r\n",
      "Python #10.1 - Why index function is not working as expected with bool element in List or Tuples?.ipynb\r\n",
      "Python #11 - Sets.ipynb\r\n",
      "Python #12 - Dictionary.ipynb\r\n",
      "Python #13 - DICTIONARY Built-in Functions.ipynb\r\n",
      "Python #14 - IF... ELSE... (Conditional Statement).ipynb\r\n",
      "Python #15 - For Loop (Looping Statement).ipynb\r\n",
      "Python #15.1 - Print the index of all the elements from list using for loop.ipynb\r\n",
      "Python #2 - Type Casting.ipynb\r\n",
      "Python #3 - Plus (+) operation on all basic data types.ipynb\r\n",
      "Python #4 - How to take input from user.ipynb\r\n",
      "Python #5 - String indexes, slicing & transversing operations.ipynb\r\n",
      "Python #6 - String built-in functions.ipynb\r\n",
      "Python #7 - String built-in boolean functions.ipynb\r\n",
      "Python #8 - List indexes, slicing & transversing operations.ipynb\r\n",
      "Python #9 - List built-in functions.ipynb\r\n"
     ]
    }
   ],
   "source": [
    "ls"
   ]
  },
  {
   "cell_type": "code",
   "execution_count": 16,
   "id": "0a9fe19b",
   "metadata": {},
   "outputs": [],
   "source": [
    "f = open(\"first.txt\",\"w\")\n",
    "f.write(\"sdfagdgdafds\")\n",
    "f.close()"
   ]
  },
  {
   "cell_type": "code",
   "execution_count": 17,
   "id": "6043d1c1",
   "metadata": {},
   "outputs": [
    {
     "ename": "UnsupportedOperation",
     "evalue": "not writable",
     "output_type": "error",
     "traceback": [
      "\u001b[0;31m---------------------------------------------------------------------------\u001b[0m",
      "\u001b[0;31mUnsupportedOperation\u001b[0m                      Traceback (most recent call last)",
      "\u001b[0;32m/var/folders/2b/0jxdkpf53db2vxdxwsdgc1tc0000gn/T/ipykernel_2141/1413505774.py\u001b[0m in \u001b[0;36m<module>\u001b[0;34m\u001b[0m\n\u001b[1;32m      1\u001b[0m \u001b[0mf\u001b[0m \u001b[0;34m=\u001b[0m \u001b[0mopen\u001b[0m\u001b[0;34m(\u001b[0m\u001b[0;34m\"first.txt\"\u001b[0m\u001b[0;34m,\u001b[0m\u001b[0;34m\"r\"\u001b[0m\u001b[0;34m)\u001b[0m\u001b[0;34m\u001b[0m\u001b[0;34m\u001b[0m\u001b[0m\n\u001b[0;32m----> 2\u001b[0;31m \u001b[0mf\u001b[0m\u001b[0;34m.\u001b[0m\u001b[0mwrite\u001b[0m\u001b[0;34m(\u001b[0m\u001b[0;34m\"sdfagdgdafds\"\u001b[0m\u001b[0;34m)\u001b[0m\u001b[0;34m\u001b[0m\u001b[0;34m\u001b[0m\u001b[0m\n\u001b[0m",
      "\u001b[0;31mUnsupportedOperation\u001b[0m: not writable"
     ]
    }
   ],
   "source": [
    "f = open(\"first.txt\",\"r\")\n",
    "f.write(\"sdfagdgdafds\")"
   ]
  },
  {
   "cell_type": "code",
   "execution_count": 20,
   "id": "d78fd49d",
   "metadata": {},
   "outputs": [],
   "source": [
    "# Try-Except handles a run time error (Not a complile time error or syntax error)"
   ]
  },
  {
   "cell_type": "code",
   "execution_count": 21,
   "id": "f25d43d8",
   "metadata": {},
   "outputs": [],
   "source": [
    "# Write a suspicious code within \"try\" block"
   ]
  },
  {
   "cell_type": "code",
   "execution_count": 25,
   "id": "1ad1c779",
   "metadata": {},
   "outputs": [
    {
     "name": "stdout",
     "output_type": "stream",
     "text": [
      "There was a mistake\n",
      "This is my further code\n"
     ]
    }
   ],
   "source": [
    "try:\n",
    "    f = open(\"first.txt\",\"r\")\n",
    "    f.write(\"dfsfsaf\")\n",
    "except:\n",
    "    print(\"There was a mistake\")\n",
    "    \n",
    "print(\"This is my further code\")"
   ]
  },
  {
   "cell_type": "code",
   "execution_count": null,
   "id": "ac0ae580",
   "metadata": {},
   "outputs": [],
   "source": []
  },
  {
   "cell_type": "code",
   "execution_count": null,
   "id": "d107baef",
   "metadata": {},
   "outputs": [],
   "source": []
  },
  {
   "cell_type": "code",
   "execution_count": null,
   "id": "d50161d4",
   "metadata": {},
   "outputs": [],
   "source": []
  },
  {
   "cell_type": "code",
   "execution_count": null,
   "id": "e97064b0",
   "metadata": {},
   "outputs": [],
   "source": []
  },
  {
   "cell_type": "code",
   "execution_count": null,
   "id": "3cc15282",
   "metadata": {},
   "outputs": [],
   "source": []
  },
  {
   "cell_type": "code",
   "execution_count": null,
   "id": "3f1d89aa",
   "metadata": {},
   "outputs": [],
   "source": []
  },
  {
   "cell_type": "code",
   "execution_count": 11,
   "id": "dc6e5397",
   "metadata": {},
   "outputs": [
    {
     "name": "stdout",
     "output_type": "stream",
     "text": [
      "4\n",
      "5\n",
      "6\n",
      "7\n",
      "8\n",
      "8\n",
      "9\n",
      "0\n",
      "this is my code\n",
      "kdjfh ak kjf j ashkd\n"
     ]
    }
   ],
   "source": [
    "l = [4,5,6,7,8,8,9,0]\n",
    "\n",
    "try:\n",
    "    for i in range(len(l)+1):\n",
    "        print(l[i])\n",
    "except:\n",
    "    print(\"this is my code\")\n",
    "    \n",
    "print(\"kdjfh ak kjf j ashkd\")"
   ]
  },
  {
   "cell_type": "code",
   "execution_count": 13,
   "id": "0b5219b7",
   "metadata": {},
   "outputs": [
    {
     "name": "stdout",
     "output_type": "stream",
     "text": [
      "4\n",
      "5\n",
      "6\n",
      "7\n",
      "8\n",
      "8\n",
      "9\n",
      "0\n"
     ]
    },
    {
     "ename": "IndexError",
     "evalue": "list index out of range",
     "output_type": "error",
     "traceback": [
      "\u001b[0;31m---------------------------------------------------------------------------\u001b[0m",
      "\u001b[0;31mIndexError\u001b[0m                                Traceback (most recent call last)",
      "\u001b[0;32m/var/folders/2b/0jxdkpf53db2vxdxwsdgc1tc0000gn/T/ipykernel_93680/3964711780.py\u001b[0m in \u001b[0;36m<module>\u001b[0;34m\u001b[0m\n\u001b[1;32m      2\u001b[0m \u001b[0;34m\u001b[0m\u001b[0m\n\u001b[1;32m      3\u001b[0m \u001b[0;32mfor\u001b[0m \u001b[0mi\u001b[0m \u001b[0;32min\u001b[0m \u001b[0mrange\u001b[0m\u001b[0;34m(\u001b[0m\u001b[0mlen\u001b[0m\u001b[0;34m(\u001b[0m\u001b[0ml\u001b[0m\u001b[0;34m)\u001b[0m\u001b[0;34m+\u001b[0m\u001b[0;36m1\u001b[0m\u001b[0;34m)\u001b[0m\u001b[0;34m:\u001b[0m\u001b[0;34m\u001b[0m\u001b[0;34m\u001b[0m\u001b[0m\n\u001b[0;32m----> 4\u001b[0;31m     \u001b[0mprint\u001b[0m\u001b[0;34m(\u001b[0m\u001b[0ml\u001b[0m\u001b[0;34m[\u001b[0m\u001b[0mi\u001b[0m\u001b[0;34m]\u001b[0m\u001b[0;34m)\u001b[0m\u001b[0;34m\u001b[0m\u001b[0;34m\u001b[0m\u001b[0m\n\u001b[0m",
      "\u001b[0;31mIndexError\u001b[0m: list index out of range"
     ]
    }
   ],
   "source": [
    "l = [4,5,6,7,8,8,9,0]\n",
    "\n",
    "for i in range(len(l)+1):\n",
    "    print(l[i])"
   ]
  },
  {
   "cell_type": "code",
   "execution_count": 12,
   "id": "73fffe04",
   "metadata": {},
   "outputs": [
    {
     "ename": "ZeroDivisionError",
     "evalue": "division by zero",
     "output_type": "error",
     "traceback": [
      "\u001b[0;31m---------------------------------------------------------------------------\u001b[0m",
      "\u001b[0;31mZeroDivisionError\u001b[0m                         Traceback (most recent call last)",
      "\u001b[0;32m/var/folders/2b/0jxdkpf53db2vxdxwsdgc1tc0000gn/T/ipykernel_93680/2874912419.py\u001b[0m in \u001b[0;36m<module>\u001b[0;34m\u001b[0m\n\u001b[0;32m----> 1\u001b[0;31m \u001b[0;36m5\u001b[0m\u001b[0;34m/\u001b[0m\u001b[0;36m0\u001b[0m\u001b[0;34m\u001b[0m\u001b[0;34m\u001b[0m\u001b[0m\n\u001b[0m",
      "\u001b[0;31mZeroDivisionError\u001b[0m: division by zero"
     ]
    }
   ],
   "source": [
    "5/0"
   ]
  },
  {
   "cell_type": "markdown",
   "id": "1099cd0b",
   "metadata": {},
   "source": [
    "# How to print the messege to check what kind of exception hanppend"
   ]
  },
  {
   "cell_type": "code",
   "execution_count": 15,
   "id": "203efde6",
   "metadata": {},
   "outputs": [
    {
     "name": "stdout",
     "output_type": "stream",
     "text": [
      "4\n",
      "5\n",
      "6\n",
      "7\n",
      "8\n",
      "8\n",
      "9\n",
      "0\n",
      "list index out of range\n",
      "jdfkjshk jhfks\n"
     ]
    }
   ],
   "source": [
    "l = [4,5,6,7,8,8,9,0]\n",
    "\n",
    "try:\n",
    "    for i in range(len(l)+1):\n",
    "        print(l[i])\n",
    "except Exception as e:\n",
    "    print (e)\n",
    "print(\"jdfkjshk jhfks\")"
   ]
  },
  {
   "cell_type": "code",
   "execution_count": 16,
   "id": "f00c12f2",
   "metadata": {},
   "outputs": [
    {
     "name": "stdout",
     "output_type": "stream",
     "text": [
      "division by zero\n"
     ]
    }
   ],
   "source": [
    "try:\n",
    "    5/0\n",
    "except Exception as e:\n",
    "    print(e)"
   ]
  },
  {
   "cell_type": "code",
   "execution_count": 19,
   "id": "5b0cfaa4",
   "metadata": {},
   "outputs": [
    {
     "name": "stdout",
     "output_type": "stream",
     "text": [
      "fsdkfnslk\n",
      "invalid literal for int() with base 10: 'fsdkfnslk'\n",
      "This is the last line of the program\n"
     ]
    }
   ],
   "source": [
    "try:\n",
    "    a = int(input())\n",
    "    b = int(input())\n",
    "    \n",
    "except Exception as e:\n",
    "    print(e)\n",
    "\n",
    "print(\"This is the last line of the program\")"
   ]
  },
  {
   "cell_type": "markdown",
   "id": "8d2d55ba",
   "metadata": {},
   "source": [
    "# 16/01/2022"
   ]
  },
  {
   "cell_type": "code",
   "execution_count": 26,
   "id": "fbd05697",
   "metadata": {},
   "outputs": [
    {
     "name": "stdout",
     "output_type": "stream",
     "text": [
      "This is my handler\n",
      "1\n",
      "2\n",
      "3\n",
      "4\n",
      "5\n"
     ]
    }
   ],
   "source": [
    "try:\n",
    "    f = open(\"first.txt\",\"r\")\n",
    "    f.write(\"this is my code with exception handling\")\n",
    "    print(\"This is the print statement after write operation\")\n",
    "except:\n",
    "    print(\"This is my handler\")\n",
    "    \n",
    "l = [1,2,3,4,5]\n",
    "for i in l:\n",
    "    print(i)"
   ]
  },
  {
   "cell_type": "code",
   "execution_count": 28,
   "id": "1f496a99",
   "metadata": {},
   "outputs": [
    {
     "ename": "UnsupportedOperation",
     "evalue": "not writable",
     "output_type": "error",
     "traceback": [
      "\u001b[0;31m---------------------------------------------------------------------------\u001b[0m",
      "\u001b[0;31mUnsupportedOperation\u001b[0m                      Traceback (most recent call last)",
      "\u001b[0;32m/var/folders/2b/0jxdkpf53db2vxdxwsdgc1tc0000gn/T/ipykernel_2141/738232680.py\u001b[0m in \u001b[0;36m<module>\u001b[0;34m\u001b[0m\n\u001b[1;32m      1\u001b[0m \u001b[0mf\u001b[0m \u001b[0;34m=\u001b[0m \u001b[0mopen\u001b[0m\u001b[0;34m(\u001b[0m\u001b[0;34m\"first.txt\"\u001b[0m\u001b[0;34m,\u001b[0m\u001b[0;34m\"r\"\u001b[0m\u001b[0;34m)\u001b[0m\u001b[0;34m\u001b[0m\u001b[0;34m\u001b[0m\u001b[0m\n\u001b[0;32m----> 2\u001b[0;31m \u001b[0mf\u001b[0m\u001b[0;34m.\u001b[0m\u001b[0mwrite\u001b[0m\u001b[0;34m(\u001b[0m\u001b[0;34m\"this is my code with exception handling\"\u001b[0m\u001b[0;34m)\u001b[0m\u001b[0;34m\u001b[0m\u001b[0;34m\u001b[0m\u001b[0m\n\u001b[0m\u001b[1;32m      3\u001b[0m \u001b[0mprint\u001b[0m\u001b[0;34m(\u001b[0m\u001b[0;34m\"This is the print statement after write operation\"\u001b[0m\u001b[0;34m)\u001b[0m\u001b[0;34m\u001b[0m\u001b[0;34m\u001b[0m\u001b[0m\n\u001b[1;32m      4\u001b[0m \u001b[0;34m\u001b[0m\u001b[0m\n\u001b[1;32m      5\u001b[0m \u001b[0ml\u001b[0m \u001b[0;34m=\u001b[0m \u001b[0;34m[\u001b[0m\u001b[0;36m1\u001b[0m\u001b[0;34m,\u001b[0m\u001b[0;36m2\u001b[0m\u001b[0;34m,\u001b[0m\u001b[0;36m3\u001b[0m\u001b[0;34m,\u001b[0m\u001b[0;36m4\u001b[0m\u001b[0;34m,\u001b[0m\u001b[0;36m5\u001b[0m\u001b[0;34m]\u001b[0m\u001b[0;34m\u001b[0m\u001b[0;34m\u001b[0m\u001b[0m\n",
      "\u001b[0;31mUnsupportedOperation\u001b[0m: not writable"
     ]
    }
   ],
   "source": [
    "f = open(\"first.txt\",\"r\")\n",
    "f.write(\"this is my code with exception handling\")\n",
    "print(\"This is the print statement after write operation\")\n",
    "    \n",
    "l = [1,2,3,4,5]\n",
    "for i in l:\n",
    "    print(i)"
   ]
  },
  {
   "cell_type": "code",
   "execution_count": 29,
   "id": "f18e410c",
   "metadata": {},
   "outputs": [
    {
     "name": "stdout",
     "output_type": "stream",
     "text": [
      "This is my handler\n",
      "1\n",
      "2\n",
      "3\n",
      "4\n",
      "5\n"
     ]
    }
   ],
   "source": [
    "try:\n",
    "    f = open(\"first.txt\",\"r\")\n",
    "    f.write(\"this is my code with exception handling\")\n",
    "    print(\"This is the print statement after write operation\")\n",
    "except:\n",
    "    print(\"This is my handler\")\n",
    "    \n",
    "try:\n",
    "    l = [1,2,3,4,5]\n",
    "    for i in l:\n",
    "        print(i)\n",
    "except:\n",
    "    print(\"this is handler for for loop\")"
   ]
  },
  {
   "cell_type": "code",
   "execution_count": 36,
   "id": "4330d2df",
   "metadata": {},
   "outputs": [
    {
     "name": "stdout",
     "output_type": "stream",
     "text": [
      "dsfs\n",
      "invalid literal for int() with base 10: 'dsfs'\n"
     ]
    }
   ],
   "source": [
    "try:\n",
    "    d = {'k1':'apdaga',\n",
    "        'k2':[1,2,3,4,5],\n",
    "        'k3':(2,343,65,3,423,45)}\n",
    "    \n",
    "    d['k4'] = int(input())\n",
    "\n",
    "# Exception is a super class in python\n",
    "except Exception as e:\n",
    "    print(e)"
   ]
  },
  {
   "cell_type": "code",
   "execution_count": 39,
   "id": "8c1d4498",
   "metadata": {},
   "outputs": [
    {
     "name": "stdout",
     "output_type": "stream",
     "text": [
      "kjdhsak\n",
      "invalid literal for int() with base 10: 'kjdhsak'\n"
     ]
    }
   ],
   "source": [
    "try:\n",
    "    d = {'k1':'apdaga',\n",
    "        'k2':[1,2,3,4,5],\n",
    "        'k3':(2,343,65,3,423,45)}\n",
    "    \n",
    "    d['k4'] = int(input())\n",
    "\n",
    "# \"ValueError\" is a sub class of a class \"Exception\" in python\n",
    "except ValueError as e:\n",
    "    print(e)"
   ]
  },
  {
   "cell_type": "code",
   "execution_count": 43,
   "id": "a406c175",
   "metadata": {},
   "outputs": [
    {
     "name": "stdout",
     "output_type": "stream",
     "text": [
      "fggfd\n",
      "invalid literal for int() with base 10: 'fggfd'\n"
     ]
    }
   ],
   "source": [
    "try:\n",
    "    d = {'k1':'apdaga',\n",
    "        'k2':[1,2,3,4,5],\n",
    "        'k3':(2,343,65,3,423,45)}\n",
    "    \n",
    "    d['k4'] = int(input())\n",
    "    f = open(\"dgdgfs\",\"r\")\n",
    "\n",
    "# \"ValueError\" is a sub class of a class \"Exception\" in python\n",
    "except ValueError as e:\n",
    "    print(e)"
   ]
  },
  {
   "cell_type": "code",
   "execution_count": 41,
   "id": "f1e111da",
   "metadata": {},
   "outputs": [],
   "source": [
    "# Above even after using try-except block, we got the run time error \n",
    "# and our except block couldn't handle the error.\n",
    "# (because we have extended except block to ValueError instead of Exception class, \n",
    "# so it was not able to handle any other error other than ValueError)"
   ]
  },
  {
   "cell_type": "code",
   "execution_count": 46,
   "id": "019f8ccd",
   "metadata": {},
   "outputs": [
    {
     "name": "stdout",
     "output_type": "stream",
     "text": [
      "3453\n",
      "[Errno 2] No such file or directory: 'dgdgfs'\n"
     ]
    }
   ],
   "source": [
    "try:\n",
    "    d = {'k1':'apdaga',\n",
    "        'k2':[1,2,3,4,5],\n",
    "        'k3':(2,343,65,3,423,45)}\n",
    "    \n",
    "    d['k4'] = int(input())\n",
    "    f = open(\"dgdgfs\",\"r\")\n",
    "\n",
    "# \"ValueError\" is a sub class of a class \"Exception\" in python\n",
    "except ValueError as e:\n",
    "    print(e)\n",
    "    \n",
    "except FileNotFoundError as e:\n",
    "    print(e)"
   ]
  },
  {
   "cell_type": "code",
   "execution_count": 45,
   "id": "c0e6bf2c",
   "metadata": {},
   "outputs": [],
   "source": [
    "# You can write multiple except block for 1 try block."
   ]
  },
  {
   "cell_type": "code",
   "execution_count": 47,
   "id": "bd36f905",
   "metadata": {},
   "outputs": [
    {
     "name": "stdout",
     "output_type": "stream",
     "text": [
      "3453\n",
      "This is my Exception block [Errno 2] No such file or directory: 'dgdgfs'\n"
     ]
    }
   ],
   "source": [
    "try:\n",
    "    d = {'k1':'apdaga',\n",
    "        'k2':[1,2,3,4,5],\n",
    "        'k3':(2,343,65,3,423,45)}\n",
    "    \n",
    "    d['k4'] = int(input())\n",
    "    f = open(\"dgdgfs\",\"r\")\n",
    "\n",
    "except Exception as e:\n",
    "    print(\"This is my Exception block\", e)\n",
    "    \n",
    "# \"ValueError\" is a sub class of a class \"Exception\" in python\n",
    "except ValueError as e1:\n",
    "    print(\"This is e1 block\", e1)\n",
    "    \n",
    "except FileNotFoundError as e2:\n",
    "    print(\"This is e2 block\",e2)"
   ]
  },
  {
   "cell_type": "code",
   "execution_count": 55,
   "id": "94aba139",
   "metadata": {},
   "outputs": [
    {
     "name": "stdout",
     "output_type": "stream",
     "text": [
      "This is except block: not writable\n"
     ]
    }
   ],
   "source": [
    "try:\n",
    "    f = open(\"first.txt\",\"r\")\n",
    "    f.write(\"Writing file in try block\")\n",
    "\n",
    "except Exception as e:\n",
    "    print(\"This is except block:\", e)\n",
    "\n",
    "else:\n",
    "    print(\"This will execute once my try block will be executed successfully\")\n",
    "    f.close()"
   ]
  },
  {
   "cell_type": "code",
   "execution_count": 59,
   "id": "5b632937",
   "metadata": {},
   "outputs": [],
   "source": [
    "# If try block is executed successfully without any error/exception,\n",
    "# then else block will get executed\n",
    "\n",
    "# else block (along with try block) is available in python only"
   ]
  },
  {
   "cell_type": "code",
   "execution_count": 61,
   "id": "df257deb",
   "metadata": {},
   "outputs": [
    {
     "name": "stdout",
     "output_type": "stream",
     "text": [
      "This will execute if error/exception occured in try block: not writable\n",
      "This statement is in finally block\n"
     ]
    }
   ],
   "source": [
    "try:\n",
    "    f = open(\"first.txt\",\"r\")\n",
    "    f.write(\"Writing file in try block\")\n",
    "\n",
    "# except block will execute if error/exception occurs in try block\n",
    "except Exception as e: \n",
    "    print(\"This will execute if error/exception occured in try block:\", e)\n",
    "    \n",
    "# else block will execute if try block is executed successfully \n",
    "# without any error/exception\n",
    "else:\n",
    "    print(\"This will execute once my try block will be executed successfully\")\n",
    "    f.close()\n",
    "    \n",
    "# finally block will execute irrespective of whether try block get executed \n",
    "# successfully or if try block gets error/exception    \n",
    "finally:\n",
    "    print(\"This statement is in finally block\")"
   ]
  },
  {
   "cell_type": "code",
   "execution_count": 62,
   "id": "0c3ba0df",
   "metadata": {},
   "outputs": [
    {
     "name": "stdout",
     "output_type": "stream",
     "text": [
      "This will execute if error/exception occured in try block: not writable\n",
      "This statement is in finally block\n",
      "handle this\n",
      "it will come to this block for sure\n"
     ]
    }
   ],
   "source": [
    "try:\n",
    "    f = open(\"first.txt\",\"r\")\n",
    "    f.write(\"Writing file in try block\")\n",
    "\n",
    "# except block will execute if error/exception occurs in try block\n",
    "except Exception as e: \n",
    "    print(\"This will execute if error/exception occured in try block:\", e)\n",
    "    \n",
    "# else block will execute if try block is executed successfully \n",
    "# without any error/exception\n",
    "else:\n",
    "    print(\"This will execute once my try block will be executed successfully\")\n",
    "    f.close()\n",
    "    \n",
    "# finally block will execute irrespective of whether try block get executed \n",
    "# successfully or if try block gets error/exception    \n",
    "finally:\n",
    "    print(\"This statement is in finally block\")\n",
    "    try:\n",
    "        f = open(\"dfsfs.txt\",\"r\")\n",
    "    except:\n",
    "        print(\"handle this\")\n",
    "    finally:\n",
    "        print(\"it will come to this block for sure\")"
   ]
  },
  {
   "cell_type": "code",
   "execution_count": 63,
   "id": "43a764ea",
   "metadata": {},
   "outputs": [],
   "source": [
    "def askint():\n",
    "    try:\n",
    "        a = int(input())\n",
    "        return a\n",
    "    except Exception as e:\n",
    "        print(\"this is my input error\", e)"
   ]
  },
  {
   "cell_type": "code",
   "execution_count": 64,
   "id": "dd536284",
   "metadata": {},
   "outputs": [
    {
     "name": "stdout",
     "output_type": "stream",
     "text": [
      "34\n"
     ]
    },
    {
     "data": {
      "text/plain": [
       "34"
      ]
     },
     "execution_count": 64,
     "metadata": {},
     "output_type": "execute_result"
    }
   ],
   "source": [
    "askint()"
   ]
  },
  {
   "cell_type": "code",
   "execution_count": 65,
   "id": "d616696f",
   "metadata": {},
   "outputs": [
    {
     "name": "stdout",
     "output_type": "stream",
     "text": [
      "kdjfsns\n",
      "this is my input error invalid literal for int() with base 10: 'kdjfsns'\n"
     ]
    }
   ],
   "source": [
    "askint()"
   ]
  },
  {
   "cell_type": "code",
   "execution_count": 67,
   "id": "d12c2fbb",
   "metadata": {},
   "outputs": [],
   "source": [
    "# write a code (function), which will keep on asking a integer \n",
    "# till you enter a integer value"
   ]
  },
  {
   "cell_type": "code",
   "execution_count": 71,
   "id": "1affa145",
   "metadata": {},
   "outputs": [],
   "source": [
    "def askint():\n",
    "    try:\n",
    "        a = int(input(\"Enter a integer: \"))\n",
    "        return a\n",
    "    except Exception as e:\n",
    "        print(\"This is not a integer value\", e)\n",
    "        askint()"
   ]
  },
  {
   "cell_type": "code",
   "execution_count": 72,
   "id": "6f781cd9",
   "metadata": {},
   "outputs": [
    {
     "name": "stdout",
     "output_type": "stream",
     "text": [
      "Enter a integer: fds\n",
      "This is not a integer value invalid literal for int() with base 10: 'fds'\n",
      "Enter a integer: sdf\n",
      "This is not a integer value invalid literal for int() with base 10: 'sdf'\n",
      "Enter a integer: sdf\n",
      "This is not a integer value invalid literal for int() with base 10: 'sdf'\n",
      "Enter a integer: fdg\n",
      "This is not a integer value invalid literal for int() with base 10: 'fdg'\n",
      "Enter a integer: 12\n"
     ]
    }
   ],
   "source": [
    "askint()"
   ]
  },
  {
   "cell_type": "markdown",
   "id": "9bd6c1da",
   "metadata": {},
   "source": [
    "# How to raise an exception by ourself"
   ]
  },
  {
   "cell_type": "code",
   "execution_count": 73,
   "id": "f3aa6024",
   "metadata": {},
   "outputs": [],
   "source": [
    "def test(a):\n",
    "    if a<0:\n",
    "        raise Exception(a)\n",
    "    return a"
   ]
  },
  {
   "cell_type": "code",
   "execution_count": 74,
   "id": "3028a1fc",
   "metadata": {},
   "outputs": [
    {
     "ename": "Exception",
     "evalue": "-5",
     "output_type": "error",
     "traceback": [
      "\u001b[0;31m---------------------------------------------------------------------------\u001b[0m",
      "\u001b[0;31mException\u001b[0m                                 Traceback (most recent call last)",
      "\u001b[0;32m/var/folders/2b/0jxdkpf53db2vxdxwsdgc1tc0000gn/T/ipykernel_2141/4093551797.py\u001b[0m in \u001b[0;36m<module>\u001b[0;34m\u001b[0m\n\u001b[0;32m----> 1\u001b[0;31m \u001b[0mtest\u001b[0m\u001b[0;34m(\u001b[0m\u001b[0;34m-\u001b[0m\u001b[0;36m5\u001b[0m\u001b[0;34m)\u001b[0m\u001b[0;34m\u001b[0m\u001b[0;34m\u001b[0m\u001b[0m\n\u001b[0m",
      "\u001b[0;32m/var/folders/2b/0jxdkpf53db2vxdxwsdgc1tc0000gn/T/ipykernel_2141/4033397188.py\u001b[0m in \u001b[0;36mtest\u001b[0;34m(a)\u001b[0m\n\u001b[1;32m      1\u001b[0m \u001b[0;32mdef\u001b[0m \u001b[0mtest\u001b[0m\u001b[0;34m(\u001b[0m\u001b[0ma\u001b[0m\u001b[0;34m)\u001b[0m\u001b[0;34m:\u001b[0m\u001b[0;34m\u001b[0m\u001b[0;34m\u001b[0m\u001b[0m\n\u001b[1;32m      2\u001b[0m     \u001b[0;32mif\u001b[0m \u001b[0ma\u001b[0m\u001b[0;34m<\u001b[0m\u001b[0;36m0\u001b[0m\u001b[0;34m:\u001b[0m\u001b[0;34m\u001b[0m\u001b[0;34m\u001b[0m\u001b[0m\n\u001b[0;32m----> 3\u001b[0;31m         \u001b[0;32mraise\u001b[0m \u001b[0mException\u001b[0m\u001b[0;34m(\u001b[0m\u001b[0ma\u001b[0m\u001b[0;34m)\u001b[0m\u001b[0;34m\u001b[0m\u001b[0;34m\u001b[0m\u001b[0m\n\u001b[0m\u001b[1;32m      4\u001b[0m     \u001b[0;32mreturn\u001b[0m \u001b[0ma\u001b[0m\u001b[0;34m\u001b[0m\u001b[0;34m\u001b[0m\u001b[0m\n",
      "\u001b[0;31mException\u001b[0m: -5"
     ]
    }
   ],
   "source": [
    "test(-5)"
   ]
  },
  {
   "cell_type": "code",
   "execution_count": 77,
   "id": "f9e54f35",
   "metadata": {},
   "outputs": [],
   "source": [
    "def test(a):\n",
    "    if a<0:\n",
    "        raise Exception(\"You have entered a negative value\", a)\n",
    "    return a"
   ]
  },
  {
   "cell_type": "code",
   "execution_count": 78,
   "id": "ed947e23",
   "metadata": {},
   "outputs": [
    {
     "ename": "Exception",
     "evalue": "('You have entered a negative value', -6)",
     "output_type": "error",
     "traceback": [
      "\u001b[0;31m---------------------------------------------------------------------------\u001b[0m",
      "\u001b[0;31mException\u001b[0m                                 Traceback (most recent call last)",
      "\u001b[0;32m/var/folders/2b/0jxdkpf53db2vxdxwsdgc1tc0000gn/T/ipykernel_2141/1027392265.py\u001b[0m in \u001b[0;36m<module>\u001b[0;34m\u001b[0m\n\u001b[0;32m----> 1\u001b[0;31m \u001b[0mtest\u001b[0m\u001b[0;34m(\u001b[0m\u001b[0;34m-\u001b[0m\u001b[0;36m6\u001b[0m\u001b[0;34m)\u001b[0m\u001b[0;34m\u001b[0m\u001b[0;34m\u001b[0m\u001b[0m\n\u001b[0m",
      "\u001b[0;32m/var/folders/2b/0jxdkpf53db2vxdxwsdgc1tc0000gn/T/ipykernel_2141/3218734393.py\u001b[0m in \u001b[0;36mtest\u001b[0;34m(a)\u001b[0m\n\u001b[1;32m      1\u001b[0m \u001b[0;32mdef\u001b[0m \u001b[0mtest\u001b[0m\u001b[0;34m(\u001b[0m\u001b[0ma\u001b[0m\u001b[0;34m)\u001b[0m\u001b[0;34m:\u001b[0m\u001b[0;34m\u001b[0m\u001b[0;34m\u001b[0m\u001b[0m\n\u001b[1;32m      2\u001b[0m     \u001b[0;32mif\u001b[0m \u001b[0ma\u001b[0m\u001b[0;34m<\u001b[0m\u001b[0;36m0\u001b[0m\u001b[0;34m:\u001b[0m\u001b[0;34m\u001b[0m\u001b[0;34m\u001b[0m\u001b[0m\n\u001b[0;32m----> 3\u001b[0;31m         \u001b[0;32mraise\u001b[0m \u001b[0mException\u001b[0m\u001b[0;34m(\u001b[0m\u001b[0;34m\"You have entered a negative value\"\u001b[0m\u001b[0;34m,\u001b[0m \u001b[0ma\u001b[0m\u001b[0;34m)\u001b[0m\u001b[0;34m\u001b[0m\u001b[0;34m\u001b[0m\u001b[0m\n\u001b[0m\u001b[1;32m      4\u001b[0m     \u001b[0;32mreturn\u001b[0m \u001b[0ma\u001b[0m\u001b[0;34m\u001b[0m\u001b[0;34m\u001b[0m\u001b[0m\n",
      "\u001b[0;31mException\u001b[0m: ('You have entered a negative value', -6)"
     ]
    }
   ],
   "source": [
    "test(-6)"
   ]
  },
  {
   "cell_type": "code",
   "execution_count": 93,
   "id": "d553e331",
   "metadata": {},
   "outputs": [],
   "source": [
    "def test(a):\n",
    "    if a<0:\n",
    "        raise ValueError(\"You have entered a negative value\", a)\n",
    "    return a"
   ]
  },
  {
   "cell_type": "code",
   "execution_count": 94,
   "id": "88f09204",
   "metadata": {},
   "outputs": [
    {
     "ename": "ValueError",
     "evalue": "('You have entered a negative value', -8)",
     "output_type": "error",
     "traceback": [
      "\u001b[0;31m---------------------------------------------------------------------------\u001b[0m",
      "\u001b[0;31mValueError\u001b[0m                                Traceback (most recent call last)",
      "\u001b[0;32m/var/folders/2b/0jxdkpf53db2vxdxwsdgc1tc0000gn/T/ipykernel_2141/3915380811.py\u001b[0m in \u001b[0;36m<module>\u001b[0;34m\u001b[0m\n\u001b[0;32m----> 1\u001b[0;31m \u001b[0mtest\u001b[0m\u001b[0;34m(\u001b[0m\u001b[0;34m-\u001b[0m\u001b[0;36m8\u001b[0m\u001b[0;34m)\u001b[0m\u001b[0;34m\u001b[0m\u001b[0;34m\u001b[0m\u001b[0m\n\u001b[0m",
      "\u001b[0;32m/var/folders/2b/0jxdkpf53db2vxdxwsdgc1tc0000gn/T/ipykernel_2141/1588580470.py\u001b[0m in \u001b[0;36mtest\u001b[0;34m(a)\u001b[0m\n\u001b[1;32m      1\u001b[0m \u001b[0;32mdef\u001b[0m \u001b[0mtest\u001b[0m\u001b[0;34m(\u001b[0m\u001b[0ma\u001b[0m\u001b[0;34m)\u001b[0m\u001b[0;34m:\u001b[0m\u001b[0;34m\u001b[0m\u001b[0;34m\u001b[0m\u001b[0m\n\u001b[1;32m      2\u001b[0m     \u001b[0;32mif\u001b[0m \u001b[0ma\u001b[0m\u001b[0;34m<\u001b[0m\u001b[0;36m0\u001b[0m\u001b[0;34m:\u001b[0m\u001b[0;34m\u001b[0m\u001b[0;34m\u001b[0m\u001b[0m\n\u001b[0;32m----> 3\u001b[0;31m         \u001b[0;32mraise\u001b[0m \u001b[0mValueError\u001b[0m\u001b[0;34m(\u001b[0m\u001b[0;34m\"You have entered a negative value\"\u001b[0m\u001b[0;34m,\u001b[0m \u001b[0ma\u001b[0m\u001b[0;34m)\u001b[0m\u001b[0;34m\u001b[0m\u001b[0;34m\u001b[0m\u001b[0m\n\u001b[0m\u001b[1;32m      4\u001b[0m     \u001b[0;32mreturn\u001b[0m \u001b[0ma\u001b[0m\u001b[0;34m\u001b[0m\u001b[0;34m\u001b[0m\u001b[0m\n",
      "\u001b[0;31mValueError\u001b[0m: ('You have entered a negative value', -8)"
     ]
    }
   ],
   "source": [
    "test(-8)"
   ]
  },
  {
   "cell_type": "code",
   "execution_count": 87,
   "id": "792fe361",
   "metadata": {},
   "outputs": [],
   "source": [
    "def test(a):\n",
    "    if a<0:\n",
    "        raise IOError(\"You have entered a negative value\", a)\n",
    "    return a"
   ]
  },
  {
   "cell_type": "code",
   "execution_count": 88,
   "id": "fe8a226b",
   "metadata": {},
   "outputs": [
    {
     "ename": "OSError",
     "evalue": "[Errno You have entered a negative value] -9",
     "output_type": "error",
     "traceback": [
      "\u001b[0;31m---------------------------------------------------------------------------\u001b[0m",
      "\u001b[0;31mOSError\u001b[0m                                   Traceback (most recent call last)",
      "\u001b[0;32m/var/folders/2b/0jxdkpf53db2vxdxwsdgc1tc0000gn/T/ipykernel_2141/2181086081.py\u001b[0m in \u001b[0;36m<module>\u001b[0;34m\u001b[0m\n\u001b[0;32m----> 1\u001b[0;31m \u001b[0mtest\u001b[0m\u001b[0;34m(\u001b[0m\u001b[0;34m-\u001b[0m\u001b[0;36m9\u001b[0m\u001b[0;34m)\u001b[0m\u001b[0;34m\u001b[0m\u001b[0;34m\u001b[0m\u001b[0m\n\u001b[0m",
      "\u001b[0;32m/var/folders/2b/0jxdkpf53db2vxdxwsdgc1tc0000gn/T/ipykernel_2141/4276851162.py\u001b[0m in \u001b[0;36mtest\u001b[0;34m(a)\u001b[0m\n\u001b[1;32m      1\u001b[0m \u001b[0;32mdef\u001b[0m \u001b[0mtest\u001b[0m\u001b[0;34m(\u001b[0m\u001b[0ma\u001b[0m\u001b[0;34m)\u001b[0m\u001b[0;34m:\u001b[0m\u001b[0;34m\u001b[0m\u001b[0;34m\u001b[0m\u001b[0m\n\u001b[1;32m      2\u001b[0m     \u001b[0;32mif\u001b[0m \u001b[0ma\u001b[0m\u001b[0;34m<\u001b[0m\u001b[0;36m0\u001b[0m\u001b[0;34m:\u001b[0m\u001b[0;34m\u001b[0m\u001b[0;34m\u001b[0m\u001b[0m\n\u001b[0;32m----> 3\u001b[0;31m         \u001b[0;32mraise\u001b[0m \u001b[0mIOError\u001b[0m\u001b[0;34m(\u001b[0m\u001b[0;34m\"You have entered a negative value\"\u001b[0m\u001b[0;34m,\u001b[0m \u001b[0ma\u001b[0m\u001b[0;34m)\u001b[0m\u001b[0;34m\u001b[0m\u001b[0;34m\u001b[0m\u001b[0m\n\u001b[0m\u001b[1;32m      4\u001b[0m     \u001b[0;32mreturn\u001b[0m \u001b[0ma\u001b[0m\u001b[0;34m\u001b[0m\u001b[0;34m\u001b[0m\u001b[0m\n",
      "\u001b[0;31mOSError\u001b[0m: [Errno You have entered a negative value] -9"
     ]
    }
   ],
   "source": [
    "test(-9)"
   ]
  },
  {
   "cell_type": "code",
   "execution_count": null,
   "id": "913d0888",
   "metadata": {},
   "outputs": [],
   "source": []
  }
 ],
 "metadata": {
  "kernelspec": {
   "display_name": "Python 3 (ipykernel)",
   "language": "python",
   "name": "python3"
  },
  "language_info": {
   "codemirror_mode": {
    "name": "ipython",
    "version": 3
   },
   "file_extension": ".py",
   "mimetype": "text/x-python",
   "name": "python",
   "nbconvert_exporter": "python",
   "pygments_lexer": "ipython3",
   "version": "3.9.7"
  }
 },
 "nbformat": 4,
 "nbformat_minor": 5
}
