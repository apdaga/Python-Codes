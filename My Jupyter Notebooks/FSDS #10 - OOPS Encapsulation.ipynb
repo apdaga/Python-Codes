{
 "cells": [
  {
   "cell_type": "code",
   "execution_count": 35,
   "id": "572645c9",
   "metadata": {},
   "outputs": [],
   "source": [
    "# public     : default (variable name starts without any underscore)\n",
    "#            : can be accessed from anywhere\n",
    "\n",
    "# protected  : variable name starts with single underscore (_)\n",
    "#            : can be accessed within a class and subsclass\n",
    "\n",
    "# private    : variable name starts with double underscore (__) \n",
    "#              [Internally variable is stored as '_className__variableName']\n",
    "#            : can be accessed within a class itself only"
   ]
  },
  {
   "cell_type": "code",
   "execution_count": 81,
   "id": "43a89ed8",
   "metadata": {},
   "outputs": [],
   "source": [
    "class parent:\n",
    "    def __init__(self, p, q, r):\n",
    "        self.p = p\n",
    "        self._q = q\n",
    "        self.__r = r\n",
    "        \n",
    "class child(parent):\n",
    "    pass"
   ]
  },
  {
   "cell_type": "code",
   "execution_count": 16,
   "id": "8b6d2552",
   "metadata": {},
   "outputs": [],
   "source": [
    "p1 = parent(1,2,3)"
   ]
  },
  {
   "cell_type": "code",
   "execution_count": 17,
   "id": "8617ca9d",
   "metadata": {},
   "outputs": [
    {
     "data": {
      "text/plain": [
       "1"
      ]
     },
     "execution_count": 17,
     "metadata": {},
     "output_type": "execute_result"
    }
   ],
   "source": [
    "p1.p"
   ]
  },
  {
   "cell_type": "code",
   "execution_count": 18,
   "id": "08c539d8",
   "metadata": {},
   "outputs": [
    {
     "data": {
      "text/plain": [
       "2"
      ]
     },
     "execution_count": 18,
     "metadata": {},
     "output_type": "execute_result"
    }
   ],
   "source": [
    "p1._q"
   ]
  },
  {
   "cell_type": "code",
   "execution_count": 19,
   "id": "c00200f0",
   "metadata": {},
   "outputs": [
    {
     "ename": "AttributeError",
     "evalue": "'parent' object has no attribute '__r'",
     "output_type": "error",
     "traceback": [
      "\u001b[1;31m---------------------------------------------------------------------------\u001b[0m",
      "\u001b[1;31mAttributeError\u001b[0m                            Traceback (most recent call last)",
      "\u001b[1;32m<ipython-input-19-be053fe93f8d>\u001b[0m in \u001b[0;36m<module>\u001b[1;34m\u001b[0m\n\u001b[1;32m----> 1\u001b[1;33m \u001b[0mp1\u001b[0m\u001b[1;33m.\u001b[0m\u001b[0m__r\u001b[0m\u001b[1;33m\u001b[0m\u001b[1;33m\u001b[0m\u001b[0m\n\u001b[0m",
      "\u001b[1;31mAttributeError\u001b[0m: 'parent' object has no attribute '__r'"
     ]
    }
   ],
   "source": [
    "p1.__r"
   ]
  },
  {
   "cell_type": "code",
   "execution_count": 20,
   "id": "a787f0ae",
   "metadata": {},
   "outputs": [
    {
     "data": {
      "text/plain": [
       "3"
      ]
     },
     "execution_count": 20,
     "metadata": {},
     "output_type": "execute_result"
    }
   ],
   "source": [
    "p1._parent__r"
   ]
  },
  {
   "cell_type": "code",
   "execution_count": 21,
   "id": "5eee9092",
   "metadata": {},
   "outputs": [],
   "source": [
    "c1 = child(4,5,6)"
   ]
  },
  {
   "cell_type": "code",
   "execution_count": 22,
   "id": "d987d45c",
   "metadata": {},
   "outputs": [
    {
     "data": {
      "text/plain": [
       "4"
      ]
     },
     "execution_count": 22,
     "metadata": {},
     "output_type": "execute_result"
    }
   ],
   "source": [
    "c1.p"
   ]
  },
  {
   "cell_type": "code",
   "execution_count": 23,
   "id": "6f46a33b",
   "metadata": {},
   "outputs": [
    {
     "data": {
      "text/plain": [
       "5"
      ]
     },
     "execution_count": 23,
     "metadata": {},
     "output_type": "execute_result"
    }
   ],
   "source": [
    "c1._q"
   ]
  },
  {
   "cell_type": "code",
   "execution_count": 50,
   "id": "30f75f42",
   "metadata": {},
   "outputs": [
    {
     "ename": "AttributeError",
     "evalue": "'child' object has no attribute '__r'",
     "output_type": "error",
     "traceback": [
      "\u001b[1;31m---------------------------------------------------------------------------\u001b[0m",
      "\u001b[1;31mAttributeError\u001b[0m                            Traceback (most recent call last)",
      "\u001b[1;32m<ipython-input-50-768cf1d373ae>\u001b[0m in \u001b[0;36m<module>\u001b[1;34m\u001b[0m\n\u001b[1;32m----> 1\u001b[1;33m \u001b[0mc1\u001b[0m\u001b[1;33m.\u001b[0m\u001b[0m__r\u001b[0m\u001b[1;33m\u001b[0m\u001b[1;33m\u001b[0m\u001b[0m\n\u001b[0m",
      "\u001b[1;31mAttributeError\u001b[0m: 'child' object has no attribute '__r'"
     ]
    }
   ],
   "source": [
    "c1.__r"
   ]
  },
  {
   "cell_type": "code",
   "execution_count": 25,
   "id": "3c8ce9ed",
   "metadata": {},
   "outputs": [
    {
     "ename": "AttributeError",
     "evalue": "'child' object has no attribute '_child__r'",
     "output_type": "error",
     "traceback": [
      "\u001b[1;31m---------------------------------------------------------------------------\u001b[0m",
      "\u001b[1;31mAttributeError\u001b[0m                            Traceback (most recent call last)",
      "\u001b[1;32m<ipython-input-25-4d18afdb7fdb>\u001b[0m in \u001b[0;36m<module>\u001b[1;34m\u001b[0m\n\u001b[1;32m----> 1\u001b[1;33m \u001b[0mc1\u001b[0m\u001b[1;33m.\u001b[0m\u001b[0m_child__r\u001b[0m\u001b[1;33m\u001b[0m\u001b[1;33m\u001b[0m\u001b[0m\n\u001b[0m",
      "\u001b[1;31mAttributeError\u001b[0m: 'child' object has no attribute '_child__r'"
     ]
    }
   ],
   "source": [
    "c1._child__r"
   ]
  },
  {
   "cell_type": "code",
   "execution_count": 32,
   "id": "fcf904b8",
   "metadata": {},
   "outputs": [
    {
     "data": {
      "text/plain": [
       "6"
      ]
     },
     "execution_count": 32,
     "metadata": {},
     "output_type": "execute_result"
    }
   ],
   "source": [
    "c1._parent__r"
   ]
  },
  {
   "cell_type": "code",
   "execution_count": 42,
   "id": "f9827b2f",
   "metadata": {},
   "outputs": [
    {
     "data": {
      "text/plain": [
       "9"
      ]
     },
     "execution_count": 42,
     "metadata": {},
     "output_type": "execute_result"
    }
   ],
   "source": [
    "p1.p = 9\n",
    "p1.p"
   ]
  },
  {
   "cell_type": "code",
   "execution_count": 43,
   "id": "1e703cee",
   "metadata": {},
   "outputs": [
    {
     "data": {
      "text/plain": [
       "89"
      ]
     },
     "execution_count": 43,
     "metadata": {},
     "output_type": "execute_result"
    }
   ],
   "source": [
    "p1._q = 89\n",
    "p1._q"
   ]
  },
  {
   "cell_type": "code",
   "execution_count": 46,
   "id": "a3659d13",
   "metadata": {},
   "outputs": [
    {
     "data": {
      "text/plain": [
       "987"
      ]
     },
     "execution_count": 46,
     "metadata": {},
     "output_type": "execute_result"
    }
   ],
   "source": [
    "p1._parent__r = 987\n",
    "p1._parent__r"
   ]
  },
  {
   "cell_type": "code",
   "execution_count": 51,
   "id": "f7dcdf53",
   "metadata": {},
   "outputs": [
    {
     "data": {
      "text/plain": [
       "980"
      ]
     },
     "execution_count": 51,
     "metadata": {},
     "output_type": "execute_result"
    }
   ],
   "source": [
    "## how??\n",
    "\n",
    "p1.__r = 980\n",
    "p1.__r"
   ]
  },
  {
   "cell_type": "code",
   "execution_count": 58,
   "id": "19354e85",
   "metadata": {},
   "outputs": [
    {
     "data": {
      "text/plain": [
       "987"
      ]
     },
     "execution_count": 58,
     "metadata": {},
     "output_type": "execute_result"
    }
   ],
   "source": [
    "p1._parent__r"
   ]
  },
  {
   "cell_type": "code",
   "execution_count": 57,
   "id": "b7196900",
   "metadata": {},
   "outputs": [
    {
     "data": {
      "text/plain": [
       "43"
      ]
     },
     "execution_count": 57,
     "metadata": {},
     "output_type": "execute_result"
    }
   ],
   "source": [
    "p1.erwr = 43\n",
    "p1.erwr"
   ]
  },
  {
   "cell_type": "code",
   "execution_count": 73,
   "id": "7669170c",
   "metadata": {},
   "outputs": [],
   "source": [
    "class parent:\n",
    "    def __init__(self, p, q, r):\n",
    "        self.p = p\n",
    "        self._q = q\n",
    "        self.__r = r\n",
    "    \n",
    "    def getr(self):\n",
    "        return self.__r\n",
    "    \n",
    "    def getq(self):\n",
    "        return self._q\n",
    "        \n",
    "class child(parent):\n",
    "    pass"
   ]
  },
  {
   "cell_type": "code",
   "execution_count": 74,
   "id": "a23dfe33",
   "metadata": {},
   "outputs": [],
   "source": [
    "c2 = child(1,2,3)"
   ]
  },
  {
   "cell_type": "code",
   "execution_count": 75,
   "id": "96d00a5b",
   "metadata": {},
   "outputs": [
    {
     "data": {
      "text/plain": [
       "3"
      ]
     },
     "execution_count": 75,
     "metadata": {},
     "output_type": "execute_result"
    }
   ],
   "source": [
    "c2.getr()"
   ]
  },
  {
   "cell_type": "code",
   "execution_count": 76,
   "id": "bc42e89e",
   "metadata": {},
   "outputs": [
    {
     "data": {
      "text/plain": [
       "5"
      ]
     },
     "execution_count": 76,
     "metadata": {},
     "output_type": "execute_result"
    }
   ],
   "source": [
    "c2.__r=5\n",
    "c2.__r"
   ]
  },
  {
   "cell_type": "code",
   "execution_count": 77,
   "id": "b42dcc7c",
   "metadata": {},
   "outputs": [
    {
     "data": {
      "text/plain": [
       "3"
      ]
     },
     "execution_count": 77,
     "metadata": {},
     "output_type": "execute_result"
    }
   ],
   "source": [
    "c2.getr()"
   ]
  },
  {
   "cell_type": "code",
   "execution_count": 78,
   "id": "2d09b049",
   "metadata": {},
   "outputs": [
    {
     "data": {
      "text/plain": [
       "2"
      ]
     },
     "execution_count": 78,
     "metadata": {},
     "output_type": "execute_result"
    }
   ],
   "source": [
    "c2._q"
   ]
  },
  {
   "cell_type": "code",
   "execution_count": 79,
   "id": "4bc9963a",
   "metadata": {},
   "outputs": [
    {
     "data": {
      "text/plain": [
       "7"
      ]
     },
     "execution_count": 79,
     "metadata": {},
     "output_type": "execute_result"
    }
   ],
   "source": [
    "c2._q = 7\n",
    "c2._q"
   ]
  },
  {
   "cell_type": "code",
   "execution_count": 80,
   "id": "24545581",
   "metadata": {},
   "outputs": [
    {
     "data": {
      "text/plain": [
       "7"
      ]
     },
     "execution_count": 80,
     "metadata": {},
     "output_type": "execute_result"
    }
   ],
   "source": [
    "c2.getq()"
   ]
  },
  {
   "cell_type": "code",
   "execution_count": null,
   "id": "f2e011a6",
   "metadata": {},
   "outputs": [],
   "source": []
  }
 ],
 "metadata": {
  "kernelspec": {
   "display_name": "Python 3",
   "language": "python",
   "name": "python3"
  },
  "language_info": {
   "codemirror_mode": {
    "name": "ipython",
    "version": 3
   },
   "file_extension": ".py",
   "mimetype": "text/x-python",
   "name": "python",
   "nbconvert_exporter": "python",
   "pygments_lexer": "ipython3",
   "version": "3.8.8"
  }
 },
 "nbformat": 4,
 "nbformat_minor": 5
}
