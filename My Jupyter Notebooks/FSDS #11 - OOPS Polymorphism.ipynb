{
 "cells": [
  {
   "cell_type": "markdown",
   "id": "3b10dc34",
   "metadata": {},
   "source": [
    "# Polymorphism"
   ]
  },
  {
   "cell_type": "code",
   "execution_count": 1,
   "id": "3659ebec",
   "metadata": {},
   "outputs": [],
   "source": [
    "# Poly: Many\n",
    "# Morph: Forms"
   ]
  },
  {
   "cell_type": "code",
   "execution_count": 8,
   "id": "4060c5fd",
   "metadata": {},
   "outputs": [],
   "source": [
    "# What is Polymorphism: \n",
    "# The word polymorphism means having many forms. \n",
    "# In programming, polymorphism means the same function name \n",
    "# (but different signatures) being used for different types."
   ]
  },
  {
   "cell_type": "code",
   "execution_count": 3,
   "id": "97a437b5",
   "metadata": {},
   "outputs": [],
   "source": [
    "class social_media:\n",
    "    def share_stories(self):\n",
    "        print(\"share stories\")\n",
    "    \n",
    "    def upload_pics(self):\n",
    "        print(\"upload pics on social media\")\n",
    "        \n",
    "class facebook(social_media):\n",
    "    def share_stories(self):\n",
    "        print(\"share story on facebook\")\n",
    "        \n",
    "class instagram(social_media):\n",
    "    def share_stories(self):\n",
    "        print(\"share story on insta\")"
   ]
  },
  {
   "cell_type": "code",
   "execution_count": 4,
   "id": "fb54a927",
   "metadata": {},
   "outputs": [],
   "source": [
    "f = facebook()\n",
    "i = instagram()"
   ]
  },
  {
   "cell_type": "code",
   "execution_count": 5,
   "id": "7296cccb",
   "metadata": {},
   "outputs": [
    {
     "name": "stdout",
     "output_type": "stream",
     "text": [
      "share story on facebook\n"
     ]
    }
   ],
   "source": [
    "f.share_stories()"
   ]
  },
  {
   "cell_type": "code",
   "execution_count": 6,
   "id": "97c37e1b",
   "metadata": {},
   "outputs": [
    {
     "name": "stdout",
     "output_type": "stream",
     "text": [
      "share story on insta\n"
     ]
    }
   ],
   "source": [
    "i.share_stories()"
   ]
  },
  {
   "cell_type": "markdown",
   "id": "f7e37bdd",
   "metadata": {},
   "source": [
    "## How to create our own user-defined exception class"
   ]
  },
  {
   "cell_type": "code",
   "execution_count": 17,
   "id": "e3d28399",
   "metadata": {},
   "outputs": [],
   "source": [
    "class MyException(Exception):\n",
    "    def __init__(self, msg):\n",
    "        self.msg = msg"
   ]
  },
  {
   "cell_type": "code",
   "execution_count": 18,
   "id": "efb35ddc",
   "metadata": {},
   "outputs": [
    {
     "ename": "MyException",
     "evalue": "This is my own created exception class",
     "output_type": "error",
     "traceback": [
      "\u001b[1;31m---------------------------------------------------------------------------\u001b[0m",
      "\u001b[1;31mMyException\u001b[0m                               Traceback (most recent call last)",
      "\u001b[1;32m<ipython-input-18-45ad6ee53533>\u001b[0m in \u001b[0;36m<module>\u001b[1;34m\u001b[0m\n\u001b[1;32m----> 1\u001b[1;33m \u001b[1;32mraise\u001b[0m \u001b[0mMyException\u001b[0m\u001b[1;33m(\u001b[0m\u001b[1;34m\"This is my own created exception class\"\u001b[0m\u001b[1;33m)\u001b[0m\u001b[1;33m\u001b[0m\u001b[1;33m\u001b[0m\u001b[0m\n\u001b[0m",
      "\u001b[1;31mMyException\u001b[0m: This is my own created exception class"
     ]
    }
   ],
   "source": [
    "raise MyException(\"This is my own created exception class\")"
   ]
  },
  {
   "cell_type": "code",
   "execution_count": 19,
   "id": "825ac0bc",
   "metadata": {},
   "outputs": [
    {
     "name": "stdout",
     "output_type": "stream",
     "text": [
      "This is my own created exception class\n"
     ]
    }
   ],
   "source": [
    "try:\n",
    "    raise MyException(\"This is my own created exception class\")\n",
    "except MyException as m:\n",
    "    print(m)"
   ]
  },
  {
   "cell_type": "code",
   "execution_count": 20,
   "id": "0ff80f6e",
   "metadata": {},
   "outputs": [
    {
     "name": "stdout",
     "output_type": "stream",
     "text": [
      "('This is my own created exception class', 5)\n"
     ]
    }
   ],
   "source": [
    "class MyException(Exception):\n",
    "    def __init__(self, msg, myval):\n",
    "        self.msg = msg\n",
    "        self.myval = myval\n",
    "        \n",
    "try:\n",
    "    raise MyException(\"This is my own created exception class\", 5)\n",
    "except MyException as m:\n",
    "    print(m)"
   ]
  },
  {
   "cell_type": "markdown",
   "id": "e986b807",
   "metadata": {},
   "source": [
    "# Questions"
   ]
  },
  {
   "cell_type": "code",
   "execution_count": 22,
   "id": "6e672c71",
   "metadata": {},
   "outputs": [],
   "source": [
    "# Q1. Create your own class to achieve multiple, multilevel inheritance\n",
    "# Q2. Create your own class to represent polymorphism\n",
    "# Q3. Create your own class for custom Exception\n",
    "# Q4. Create your own class to achieve encapsulation\n",
    "# Q5. Create your own class to achieve method overloading and overriding."
   ]
  },
  {
   "cell_type": "code",
   "execution_count": 24,
   "id": "1cdbd03e",
   "metadata": {},
   "outputs": [],
   "source": [
    "# Multiple Inheritance Example\n",
    "\n",
    "class base1:\n",
    "    def test(self):\n",
    "        print(\"this is base1 class\")\n",
    "\n",
    "class base2:\n",
    "    def test(self):\n",
    "        print(\"this is base2 class\")\n",
    "\n",
    "class derived1(base1, base2):\n",
    "    def test(self):\n",
    "        print(\"this is derived1 class\")"
   ]
  },
  {
   "cell_type": "code",
   "execution_count": 25,
   "id": "251129b4",
   "metadata": {},
   "outputs": [],
   "source": [
    "d = derived1()"
   ]
  },
  {
   "cell_type": "code",
   "execution_count": 26,
   "id": "ebd0aec4",
   "metadata": {},
   "outputs": [
    {
     "name": "stdout",
     "output_type": "stream",
     "text": [
      "this is derived1 class\n"
     ]
    }
   ],
   "source": [
    "d.test()"
   ]
  },
  {
   "cell_type": "code",
   "execution_count": 27,
   "id": "86238311",
   "metadata": {},
   "outputs": [],
   "source": [
    "# Multi level Inheritance Example\n",
    "\n",
    "class parent:\n",
    "    def test(self):\n",
    "        print(\"this is parent class\")\n",
    "\n",
    "class child(parent):\n",
    "    def test(self):\n",
    "        print(\"this is child class\")\n",
    "        \n",
    "class grandchild(child):\n",
    "    def test(self):\n",
    "        print(\"this is grandchild class\")"
   ]
  },
  {
   "cell_type": "code",
   "execution_count": 28,
   "id": "b0f1e882",
   "metadata": {},
   "outputs": [],
   "source": [
    "g = grandchild()"
   ]
  },
  {
   "cell_type": "code",
   "execution_count": 29,
   "id": "9805a2f4",
   "metadata": {},
   "outputs": [
    {
     "name": "stdout",
     "output_type": "stream",
     "text": [
      "this is grandchild class\n"
     ]
    }
   ],
   "source": [
    "g.test()"
   ]
  },
  {
   "cell_type": "code",
   "execution_count": 30,
   "id": "542bbfee",
   "metadata": {},
   "outputs": [
    {
     "name": "stdout",
     "output_type": "stream",
     "text": [
      "('This is my own created exception class', 5)\n"
     ]
    }
   ],
   "source": [
    "# Custom Exception Example\n",
    "\n",
    "class MyException(Exception):\n",
    "    def __init__(self, msg, myval):\n",
    "        self.msg = msg\n",
    "        self.myval = myval\n",
    "        \n",
    "try:\n",
    "    raise MyException(\"This is my own created exception class\", 5)\n",
    "except MyException as m:\n",
    "    print(m)"
   ]
  },
  {
   "cell_type": "markdown",
   "id": "4647e601",
   "metadata": {},
   "source": [
    "# Static Variable / Static Mathod"
   ]
  },
  {
   "cell_type": "code",
   "execution_count": 61,
   "id": "985c6811",
   "metadata": {},
   "outputs": [],
   "source": [
    "class Test:\n",
    "    creator = \"Akshay Daga\"\n",
    "    \n",
    "    def __init__(self,a,b,c):\n",
    "        self.a = a\n",
    "        self.b = b\n",
    "        self.c = c\n",
    "        \n",
    "    @staticmethod\n",
    "    def test1():\n",
    "        print(\"this is static method\")\n",
    "        \n",
    "    def test2(self):\n",
    "        print(\"this is test2 method\")\n",
    "        \n",
    "    def __str__(self):\n",
    "        return str(\"This is coming from user defined __str__ method\")"
   ]
  },
  {
   "cell_type": "code",
   "execution_count": 63,
   "id": "17c31ade",
   "metadata": {},
   "outputs": [],
   "source": [
    "t1 = Test(1,2,3)"
   ]
  },
  {
   "cell_type": "code",
   "execution_count": 34,
   "id": "c39b30a9",
   "metadata": {},
   "outputs": [
    {
     "data": {
      "text/plain": [
       "'Akshay Daga'"
      ]
     },
     "execution_count": 34,
     "metadata": {},
     "output_type": "execute_result"
    }
   ],
   "source": [
    "t1.creator"
   ]
  },
  {
   "cell_type": "code",
   "execution_count": 37,
   "id": "ba8bddcf",
   "metadata": {},
   "outputs": [
    {
     "data": {
      "text/plain": [
       "'Akshay Daga'"
      ]
     },
     "execution_count": 37,
     "metadata": {},
     "output_type": "execute_result"
    }
   ],
   "source": [
    "Test.creator"
   ]
  },
  {
   "cell_type": "code",
   "execution_count": 38,
   "id": "2cbd82e4",
   "metadata": {},
   "outputs": [
    {
     "data": {
      "text/plain": [
       "'Akshay Daga'"
      ]
     },
     "execution_count": 38,
     "metadata": {},
     "output_type": "execute_result"
    }
   ],
   "source": [
    "t1.creator"
   ]
  },
  {
   "cell_type": "code",
   "execution_count": 39,
   "id": "86aab5f8",
   "metadata": {},
   "outputs": [],
   "source": [
    "Test.creator = \"apdaga\""
   ]
  },
  {
   "cell_type": "code",
   "execution_count": 40,
   "id": "7099ebf4",
   "metadata": {},
   "outputs": [
    {
     "data": {
      "text/plain": [
       "'apdaga'"
      ]
     },
     "execution_count": 40,
     "metadata": {},
     "output_type": "execute_result"
    }
   ],
   "source": [
    "t1.creator"
   ]
  },
  {
   "cell_type": "code",
   "execution_count": 41,
   "id": "8ba6f8c2",
   "metadata": {},
   "outputs": [],
   "source": [
    "t1.creator = \"daga\""
   ]
  },
  {
   "cell_type": "code",
   "execution_count": 42,
   "id": "28a8d9d7",
   "metadata": {},
   "outputs": [
    {
     "data": {
      "text/plain": [
       "'apdaga'"
      ]
     },
     "execution_count": 42,
     "metadata": {},
     "output_type": "execute_result"
    }
   ],
   "source": [
    "Test.creator"
   ]
  },
  {
   "cell_type": "code",
   "execution_count": 43,
   "id": "b57f888f",
   "metadata": {},
   "outputs": [
    {
     "data": {
      "text/plain": [
       "'daga'"
      ]
     },
     "execution_count": 43,
     "metadata": {},
     "output_type": "execute_result"
    }
   ],
   "source": [
    "t1.creator"
   ]
  },
  {
   "cell_type": "code",
   "execution_count": 44,
   "id": "0b613d6f",
   "metadata": {},
   "outputs": [],
   "source": [
    "Test.creator = 'Ha ha ha'"
   ]
  },
  {
   "cell_type": "code",
   "execution_count": 45,
   "id": "e13a1e14",
   "metadata": {},
   "outputs": [
    {
     "data": {
      "text/plain": [
       "'daga'"
      ]
     },
     "execution_count": 45,
     "metadata": {},
     "output_type": "execute_result"
    }
   ],
   "source": [
    "t1.creator"
   ]
  },
  {
   "cell_type": "code",
   "execution_count": 46,
   "id": "36bae8b7",
   "metadata": {},
   "outputs": [
    {
     "data": {
      "text/plain": [
       "'Ha ha ha'"
      ]
     },
     "execution_count": 46,
     "metadata": {},
     "output_type": "execute_result"
    }
   ],
   "source": [
    "Test.creator"
   ]
  },
  {
   "cell_type": "code",
   "execution_count": 47,
   "id": "9c8f3fe1",
   "metadata": {},
   "outputs": [
    {
     "data": {
      "text/plain": [
       "'daga'"
      ]
     },
     "execution_count": 47,
     "metadata": {},
     "output_type": "execute_result"
    }
   ],
   "source": [
    "t1.creator"
   ]
  },
  {
   "cell_type": "code",
   "execution_count": 48,
   "id": "ea96a5a2",
   "metadata": {},
   "outputs": [],
   "source": [
    "t2 = Test(6,7,8)"
   ]
  },
  {
   "cell_type": "code",
   "execution_count": 49,
   "id": "d7b06644",
   "metadata": {},
   "outputs": [
    {
     "data": {
      "text/plain": [
       "'Ha ha ha'"
      ]
     },
     "execution_count": 49,
     "metadata": {},
     "output_type": "execute_result"
    }
   ],
   "source": [
    "t2.creator"
   ]
  },
  {
   "cell_type": "code",
   "execution_count": 53,
   "id": "6be6af20",
   "metadata": {},
   "outputs": [],
   "source": [
    "Test.creator = \"new\" # this changes the default value of static variable \"creator\""
   ]
  },
  {
   "cell_type": "code",
   "execution_count": 51,
   "id": "746a87f9",
   "metadata": {},
   "outputs": [
    {
     "data": {
      "text/plain": [
       "'new'"
      ]
     },
     "execution_count": 51,
     "metadata": {},
     "output_type": "execute_result"
    }
   ],
   "source": [
    "t2.creator"
   ]
  },
  {
   "cell_type": "code",
   "execution_count": 52,
   "id": "1fb6dee8",
   "metadata": {},
   "outputs": [
    {
     "data": {
      "text/plain": [
       "'daga'"
      ]
     },
     "execution_count": 52,
     "metadata": {},
     "output_type": "execute_result"
    }
   ],
   "source": [
    "t1.creator"
   ]
  },
  {
   "cell_type": "code",
   "execution_count": 54,
   "id": "f13027ff",
   "metadata": {},
   "outputs": [
    {
     "name": "stdout",
     "output_type": "stream",
     "text": [
      "this is static method\n"
     ]
    }
   ],
   "source": [
    "t1.test1()"
   ]
  },
  {
   "cell_type": "code",
   "execution_count": 55,
   "id": "187c1313",
   "metadata": {},
   "outputs": [
    {
     "name": "stdout",
     "output_type": "stream",
     "text": [
      "this is test2 method\n"
     ]
    }
   ],
   "source": [
    "t1.test2()"
   ]
  },
  {
   "cell_type": "code",
   "execution_count": 56,
   "id": "e9d56715",
   "metadata": {},
   "outputs": [
    {
     "name": "stdout",
     "output_type": "stream",
     "text": [
      "this is static method\n"
     ]
    }
   ],
   "source": [
    "Test.test1()"
   ]
  },
  {
   "cell_type": "code",
   "execution_count": 59,
   "id": "7223e5a4",
   "metadata": {},
   "outputs": [
    {
     "ename": "TypeError",
     "evalue": "test2() missing 1 required positional argument: 'self'",
     "output_type": "error",
     "traceback": [
      "\u001b[1;31m---------------------------------------------------------------------------\u001b[0m",
      "\u001b[1;31mTypeError\u001b[0m                                 Traceback (most recent call last)",
      "\u001b[1;32m<ipython-input-59-1c0348e57bfb>\u001b[0m in \u001b[0;36m<module>\u001b[1;34m\u001b[0m\n\u001b[1;32m----> 1\u001b[1;33m \u001b[0mTest\u001b[0m\u001b[1;33m.\u001b[0m\u001b[0mtest2\u001b[0m\u001b[1;33m(\u001b[0m\u001b[1;33m)\u001b[0m\u001b[1;33m\u001b[0m\u001b[1;33m\u001b[0m\u001b[0m\n\u001b[0m",
      "\u001b[1;31mTypeError\u001b[0m: test2() missing 1 required positional argument: 'self'"
     ]
    }
   ],
   "source": [
    "Test.test2()"
   ]
  },
  {
   "cell_type": "code",
   "execution_count": 60,
   "id": "f78706ab",
   "metadata": {},
   "outputs": [
    {
     "name": "stdout",
     "output_type": "stream",
     "text": [
      "<__main__.Test object at 0x000001B01332CD00>\n"
     ]
    }
   ],
   "source": [
    "print(t1) #before writing __str__ method"
   ]
  },
  {
   "cell_type": "code",
   "execution_count": 65,
   "id": "81559a93",
   "metadata": {},
   "outputs": [
    {
     "name": "stdout",
     "output_type": "stream",
     "text": [
      "This is coming from user defined __str__ method\n"
     ]
    }
   ],
   "source": [
    "print(t1) #after writing __str__ method"
   ]
  },
  {
   "cell_type": "code",
   "execution_count": null,
   "id": "c1bb7637",
   "metadata": {},
   "outputs": [],
   "source": []
  }
 ],
 "metadata": {
  "kernelspec": {
   "display_name": "Python 3",
   "language": "python",
   "name": "python3"
  },
  "language_info": {
   "codemirror_mode": {
    "name": "ipython",
    "version": 3
   },
   "file_extension": ".py",
   "mimetype": "text/x-python",
   "name": "python",
   "nbconvert_exporter": "python",
   "pygments_lexer": "ipython3",
   "version": "3.8.8"
  }
 },
 "nbformat": 4,
 "nbformat_minor": 5
}
