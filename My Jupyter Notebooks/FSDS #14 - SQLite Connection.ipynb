{
 "cells": [
  {
   "cell_type": "markdown",
   "id": "35a51fa2",
   "metadata": {},
   "source": [
    "# SQLite Connection using Python"
   ]
  },
  {
   "cell_type": "markdown",
   "id": "8b930e25",
   "metadata": {},
   "source": [
    "SQLite is in-memory database, for light weight application to store structured data locally on your system (desktop / mobile)"
   ]
  },
  {
   "cell_type": "code",
   "execution_count": 1,
   "id": "5e982756",
   "metadata": {},
   "outputs": [],
   "source": [
    "import sqlite3"
   ]
  },
  {
   "cell_type": "code",
   "execution_count": 2,
   "id": "08c91749",
   "metadata": {},
   "outputs": [],
   "source": [
    "# create a dabase file locally\n",
    "db = sqlite3.connect(\"apdaga.db\")"
   ]
  },
  {
   "cell_type": "code",
   "execution_count": 11,
   "id": "8bc11280",
   "metadata": {},
   "outputs": [
    {
     "name": "stdout",
     "output_type": "stream",
     "text": [
      " Volume in drive C is Windows\n",
      " Volume Serial Number is D8FC-E3B8\n",
      "\n",
      " Directory of C:\\Users\\akshay.daga\\Jupyter Notebooks\n",
      "\n",
      "02/20/2022  10:45 AM    <DIR>          .\n",
      "02/20/2022  10:45 AM    <DIR>          ..\n",
      "02/20/2022  10:25 AM    <DIR>          .ipynb_checkpoints\n",
      "01/22/2022  11:07 AM    <DIR>          __pycache__\n",
      "02/20/2022  10:45 AM             8,192 apdaga.db\n",
      "02/20/2022  10:44 AM             5,779 FSDS #14 - SQLite Connection.ipynb\n",
      "02/06/2022  02:39 PM               576 Python #35 - Abstraction.ipynb\n",
      "02/06/2022  02:39 PM               576 Python #36 - Polymosphism.ipynb\n",
      "02/20/2022  10:34 AM    <DIR>          Uploaded\n",
      "               4 File(s)         15,123 bytes\n",
      "               5 Dir(s)  196,424,077,312 bytes free\n"
     ]
    }
   ],
   "source": [
    "ls"
   ]
  },
  {
   "cell_type": "code",
   "execution_count": 4,
   "id": "174eae93",
   "metadata": {},
   "outputs": [],
   "source": [
    "c = db.cursor()"
   ]
  },
  {
   "cell_type": "code",
   "execution_count": 5,
   "id": "02958f54",
   "metadata": {},
   "outputs": [
    {
     "data": {
      "text/plain": [
       "<sqlite3.Cursor at 0x23cd10a0500>"
      ]
     },
     "execution_count": 5,
     "metadata": {},
     "output_type": "execute_result"
    }
   ],
   "source": [
    "# Create table\n",
    "c.execute('create table fsds(name text, batchid int, marks real)')"
   ]
  },
  {
   "cell_type": "code",
   "execution_count": 6,
   "id": "5cf7bb0a",
   "metadata": {},
   "outputs": [
    {
     "data": {
      "text/plain": [
       "<sqlite3.Cursor at 0x23cd10a0500>"
      ]
     },
     "execution_count": 6,
     "metadata": {},
     "output_type": "execute_result"
    }
   ],
   "source": [
    "c.execute(\"insert into fsds values('akshay', 123, 99.0)\")"
   ]
  },
  {
   "cell_type": "code",
   "execution_count": 7,
   "id": "ddd8d94f",
   "metadata": {},
   "outputs": [
    {
     "data": {
      "text/plain": [
       "<sqlite3.Cursor at 0x23cd10a0500>"
      ]
     },
     "execution_count": 7,
     "metadata": {},
     "output_type": "execute_result"
    }
   ],
   "source": [
    "c.execute(\"insert into fsds values('akshay', 123, 99.0)\")\n",
    "c.execute(\"insert into fsds values('akshay', 123, 99.0)\")\n",
    "c.execute(\"insert into fsds values('akshay', 123, 99.0)\")\n",
    "c.execute(\"insert into fsds values('akshay', 123, 99.0)\")\n",
    "c.execute(\"insert into fsds values('akshay', 123, 99.0)\")\n",
    "c.execute(\"insert into fsds values('akshay', 123, 99.0)\")\n",
    "c.execute(\"insert into fsds values('akshay', 123, 99.0)\")"
   ]
  },
  {
   "cell_type": "code",
   "execution_count": 8,
   "id": "cbd8beb5",
   "metadata": {},
   "outputs": [],
   "source": [
    "# Select operation\n",
    "data = c.execute(\"select * from fsds\")"
   ]
  },
  {
   "cell_type": "code",
   "execution_count": 9,
   "id": "9889e928",
   "metadata": {},
   "outputs": [
    {
     "name": "stdout",
     "output_type": "stream",
     "text": [
      "('akshay', 123, 99.0)\n",
      "('akshay', 123, 99.0)\n",
      "('akshay', 123, 99.0)\n",
      "('akshay', 123, 99.0)\n",
      "('akshay', 123, 99.0)\n",
      "('akshay', 123, 99.0)\n",
      "('akshay', 123, 99.0)\n",
      "('akshay', 123, 99.0)\n"
     ]
    }
   ],
   "source": [
    "for i in data:\n",
    "    print(i)"
   ]
  },
  {
   "cell_type": "code",
   "execution_count": 10,
   "id": "c7e6693e",
   "metadata": {},
   "outputs": [],
   "source": [
    "# Commit operation\n",
    "db.commit()"
   ]
  },
  {
   "cell_type": "code",
   "execution_count": 12,
   "id": "a0f6224b",
   "metadata": {},
   "outputs": [],
   "source": [
    "# Close db connection\n",
    "db.close()"
   ]
  },
  {
   "cell_type": "code",
   "execution_count": 14,
   "id": "e07a2bed",
   "metadata": {},
   "outputs": [],
   "source": [
    "# Connecting to existing db\n",
    "db = sqlite3.connect(\"apdaga.db\")\n",
    "c = db.cursor()"
   ]
  },
  {
   "cell_type": "code",
   "execution_count": 20,
   "id": "59a0e3fc",
   "metadata": {},
   "outputs": [
    {
     "name": "stdout",
     "output_type": "stream",
     "text": [
      "[('fsds',)]\n"
     ]
    }
   ],
   "source": [
    "# Show Tables \n",
    "c.execute(\"SELECT name FROM sqlite_master WHERE type='table';\")\n",
    "print(c.fetchall())"
   ]
  },
  {
   "cell_type": "code",
   "execution_count": 22,
   "id": "b162acfc",
   "metadata": {},
   "outputs": [
    {
     "name": "stdout",
     "output_type": "stream",
     "text": [
      "[('akshay', 123, 99.0), ('akshay', 123, 99.0), ('akshay', 123, 99.0), ('akshay', 123, 99.0), ('akshay', 123, 99.0), ('akshay', 123, 99.0), ('akshay', 123, 99.0), ('akshay', 123, 99.0)]\n"
     ]
    }
   ],
   "source": [
    "data = c.execute(\"SELECT * FROM fsds where marks>90\")\n",
    "print(c.fetchall())\n",
    "\n",
    "# for i in data:\n",
    "#     print(i)"
   ]
  },
  {
   "cell_type": "code",
   "execution_count": 23,
   "id": "8ad0455c",
   "metadata": {},
   "outputs": [],
   "source": [
    "db.close()"
   ]
  },
  {
   "cell_type": "code",
   "execution_count": 24,
   "id": "6f37ad2a",
   "metadata": {},
   "outputs": [],
   "source": [
    "# Create a new database / table\n",
    "db = sqlite3.connect(\"person.db\")\n",
    "c = db.cursor()"
   ]
  },
  {
   "cell_type": "code",
   "execution_count": 25,
   "id": "e81038a0",
   "metadata": {},
   "outputs": [
    {
     "data": {
      "text/plain": [
       "<sqlite3.Cursor at 0x23cd216ad50>"
      ]
     },
     "execution_count": 25,
     "metadata": {},
     "output_type": "execute_result"
    }
   ],
   "source": [
    "c.execute(\"create table person_table(name text, emailid text, age int, salary real)\")"
   ]
  },
  {
   "cell_type": "code",
   "execution_count": 26,
   "id": "18b44e9d",
   "metadata": {},
   "outputs": [
    {
     "data": {
      "text/plain": [
       "<sqlite3.Cursor at 0x23cd216ad50>"
      ]
     },
     "execution_count": 26,
     "metadata": {},
     "output_type": "execute_result"
    }
   ],
   "source": [
    "c.execute(\"insert into person_table values('akshay', 'apdaga@gmail.com', 29, 12345)\")\n",
    "c.execute(\"insert into person_table values('ketan', 'ketan@gmail.com', 31, 123453)\")\n",
    "c.execute(\"insert into person_table values('prayas', 'prayas@gmail.com', 30, 1235)\")\n",
    "c.execute(\"insert into person_table values('sagar', 'sagar@gmail.com', 30, 2345)\")\n",
    "c.execute(\"insert into person_table values('bhushan', 'bhushan@gmail.com', 29, 1345)\")"
   ]
  },
  {
   "cell_type": "code",
   "execution_count": 29,
   "id": "7c04f409",
   "metadata": {},
   "outputs": [
    {
     "name": "stdout",
     "output_type": "stream",
     "text": [
      " Volume in drive C is Windows\n",
      " Volume Serial Number is D8FC-E3B8\n",
      "\n",
      " Directory of C:\\Users\\akshay.daga\\Jupyter Notebooks\n",
      "\n",
      "02/20/2022  10:59 AM    <DIR>          .\n",
      "02/20/2022  10:59 AM    <DIR>          ..\n",
      "02/20/2022  10:25 AM    <DIR>          .ipynb_checkpoints\n",
      "01/22/2022  11:07 AM    <DIR>          __pycache__\n",
      "02/20/2022  10:45 AM             8,192 apdaga.db\n",
      "02/20/2022  10:58 AM             8,196 FSDS #14 - SQLite Connection.ipynb\n",
      "02/20/2022  10:59 AM             8,192 person.db\n",
      "02/06/2022  02:39 PM               576 Python #35 - Abstraction.ipynb\n",
      "02/06/2022  02:39 PM               576 Python #36 - Polymosphism.ipynb\n",
      "02/20/2022  10:34 AM    <DIR>          Uploaded\n",
      "               5 File(s)         25,732 bytes\n",
      "               5 Dir(s)  196,365,410,304 bytes free\n"
     ]
    }
   ],
   "source": [
    "ls"
   ]
  },
  {
   "cell_type": "code",
   "execution_count": 28,
   "id": "ec2d1462",
   "metadata": {},
   "outputs": [],
   "source": [
    "db.commit()"
   ]
  },
  {
   "cell_type": "code",
   "execution_count": 30,
   "id": "994398b4",
   "metadata": {},
   "outputs": [
    {
     "name": "stdout",
     "output_type": "stream",
     "text": [
      "('akshay', 'apdaga@gmail.com', 29, 12345.0)\n",
      "('ketan', 'ketan@gmail.com', 31, 123453.0)\n",
      "('prayas', 'prayas@gmail.com', 30, 1235.0)\n",
      "('sagar', 'sagar@gmail.com', 30, 2345.0)\n",
      "('bhushan', 'bhushan@gmail.com', 29, 1345.0)\n"
     ]
    }
   ],
   "source": [
    "data = c.execute(\"SELECT * FROM person_table\")\n",
    "for i in data:\n",
    "    print(i)"
   ]
  },
  {
   "cell_type": "code",
   "execution_count": 31,
   "id": "afbb01a8",
   "metadata": {},
   "outputs": [],
   "source": [
    "db.close()"
   ]
  },
  {
   "cell_type": "code",
   "execution_count": 32,
   "id": "f0d49a47",
   "metadata": {},
   "outputs": [
    {
     "data": {
      "text/plain": [
       "<sqlite3.Cursor at 0x23cd25c6b20>"
      ]
     },
     "execution_count": 32,
     "metadata": {},
     "output_type": "execute_result"
    }
   ],
   "source": [
    "# Drop table operation\n",
    "\n",
    "db = sqlite3.connect(\"apdaga.db\")\n",
    "c = db.cursor()\n",
    "\n",
    "c.execute(\"drop table fsds\")"
   ]
  },
  {
   "cell_type": "code",
   "execution_count": 33,
   "id": "3bff642e",
   "metadata": {},
   "outputs": [
    {
     "ename": "OperationalError",
     "evalue": "no such table: fsds",
     "output_type": "error",
     "traceback": [
      "\u001b[1;31m---------------------------------------------------------------------------\u001b[0m",
      "\u001b[1;31mOperationalError\u001b[0m                          Traceback (most recent call last)",
      "\u001b[1;32m<ipython-input-33-0d593e9c7d5d>\u001b[0m in \u001b[0;36m<module>\u001b[1;34m\u001b[0m\n\u001b[1;32m----> 1\u001b[1;33m \u001b[0mc\u001b[0m\u001b[1;33m.\u001b[0m\u001b[0mexecute\u001b[0m\u001b[1;33m(\u001b[0m\u001b[1;34m\"select * FROM fsds\"\u001b[0m\u001b[1;33m)\u001b[0m\u001b[1;33m\u001b[0m\u001b[1;33m\u001b[0m\u001b[0m\n\u001b[0m",
      "\u001b[1;31mOperationalError\u001b[0m: no such table: fsds"
     ]
    }
   ],
   "source": [
    "c.execute(\"select * FROM fsds\")"
   ]
  },
  {
   "cell_type": "code",
   "execution_count": 43,
   "id": "24f81019",
   "metadata": {},
   "outputs": [
    {
     "data": {
      "text/plain": [
       "<sqlite3.Cursor at 0x23cd25c6b20>"
      ]
     },
     "execution_count": 43,
     "metadata": {},
     "output_type": "execute_result"
    }
   ],
   "source": [
    "# Create 2 tables in 1 database\n",
    "c.execute('create table student(id int, name text, batchid int, marks real)')\n",
    "c.execute('create table address(id int, pincode int, location text, phone int)')"
   ]
  },
  {
   "cell_type": "code",
   "execution_count": 44,
   "id": "beac888a",
   "metadata": {},
   "outputs": [
    {
     "name": "stdout",
     "output_type": "stream",
     "text": [
      "[('student',), ('address',)]\n"
     ]
    }
   ],
   "source": [
    "# Show Tables \n",
    "c.execute(\"SELECT name FROM sqlite_master WHERE type='table';\")\n",
    "print(c.fetchall())"
   ]
  },
  {
   "cell_type": "code",
   "execution_count": 45,
   "id": "2678e80a",
   "metadata": {},
   "outputs": [
    {
     "data": {
      "text/plain": [
       "<sqlite3.Cursor at 0x23cd25c6b20>"
      ]
     },
     "execution_count": 45,
     "metadata": {},
     "output_type": "execute_result"
    }
   ],
   "source": [
    "c.execute(\"insert into student values(1, 'akshay', 123, 90)\")\n",
    "c.execute(\"insert into student values(2, 'daga', 123, 87)\")\n",
    "c.execute(\"insert into student values(3, 'yojana', 123, 94)\")\n",
    "c.execute(\"insert into student values(4, 'purvesh', 123, 98)\")"
   ]
  },
  {
   "cell_type": "code",
   "execution_count": 46,
   "id": "1991df30",
   "metadata": {},
   "outputs": [
    {
     "data": {
      "text/plain": [
       "<sqlite3.Cursor at 0x23cd25c6b20>"
      ]
     },
     "execution_count": 46,
     "metadata": {},
     "output_type": "execute_result"
    }
   ],
   "source": [
    "c.execute(\"insert into address values(1, 444606, 'amravati', 123456567)\")\n",
    "c.execute(\"insert into address values(2, 444606, 'amravati', 987654456)\")\n",
    "c.execute(\"insert into address values(3, 404606, 'akola', 987655679)\")\n",
    "c.execute(\"insert into address values(4, 411606, 'pune', 567898765)\")"
   ]
  },
  {
   "cell_type": "code",
   "execution_count": 47,
   "id": "76222707",
   "metadata": {},
   "outputs": [
    {
     "name": "stdout",
     "output_type": "stream",
     "text": [
      "(1, 'akshay', 123, 90.0, 1, 444606, 'amravati', 123456567)\n",
      "(2, 'daga', 123, 87.0, 2, 444606, 'amravati', 987654456)\n",
      "(3, 'yojana', 123, 94.0, 3, 404606, 'akola', 987655679)\n",
      "(4, 'purvesh', 123, 98.0, 4, 411606, 'pune', 567898765)\n"
     ]
    }
   ],
   "source": [
    "for i in c.execute(\"SELECT * FROM student inner join address on student.id = address.id\"):\n",
    "    print(i)"
   ]
  },
  {
   "cell_type": "code",
   "execution_count": 49,
   "id": "e6dc6ab7",
   "metadata": {},
   "outputs": [
    {
     "data": {
      "text/plain": [
       "<sqlite3.Cursor at 0x23cd25c6b20>"
      ]
     },
     "execution_count": 49,
     "metadata": {},
     "output_type": "execute_result"
    }
   ],
   "source": [
    "# Update operation\n",
    "c.execute(\"update student set id = 5 where id = 4\")"
   ]
  },
  {
   "cell_type": "code",
   "execution_count": 50,
   "id": "81cdf518",
   "metadata": {},
   "outputs": [
    {
     "name": "stdout",
     "output_type": "stream",
     "text": [
      "(1, 'akshay', 123, 90.0)\n",
      "(2, 'daga', 123, 87.0)\n",
      "(3, 'yojana', 123, 94.0)\n",
      "(5, 'purvesh', 123, 98.0)\n"
     ]
    }
   ],
   "source": [
    "for i in c.execute(\"select * from student\"):\n",
    "    print(i)"
   ]
  },
  {
   "cell_type": "code",
   "execution_count": 51,
   "id": "00f950a6",
   "metadata": {},
   "outputs": [],
   "source": [
    "db.commit()\n",
    "db.close()"
   ]
  },
  {
   "cell_type": "code",
   "execution_count": null,
   "id": "a1b676ed",
   "metadata": {},
   "outputs": [],
   "source": []
  }
 ],
 "metadata": {
  "kernelspec": {
   "display_name": "Python 3",
   "language": "python",
   "name": "python3"
  },
  "language_info": {
   "codemirror_mode": {
    "name": "ipython",
    "version": 3
   },
   "file_extension": ".py",
   "mimetype": "text/x-python",
   "name": "python",
   "nbconvert_exporter": "python",
   "pygments_lexer": "ipython3",
   "version": "3.8.8"
  }
 },
 "nbformat": 4,
 "nbformat_minor": 5
}
