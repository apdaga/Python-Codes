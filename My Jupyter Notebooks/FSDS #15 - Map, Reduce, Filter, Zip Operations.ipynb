{
 "cells": [
  {
   "cell_type": "markdown",
   "id": "6275bbd2",
   "metadata": {},
   "source": [
    "# Map, Reduce, Filter & Zip Operations in Python"
   ]
  },
  {
   "cell_type": "markdown",
   "id": "dd3cd437",
   "metadata": {},
   "source": [
    "## Map"
   ]
  },
  {
   "cell_type": "code",
   "execution_count": 1,
   "id": "4b2b5441",
   "metadata": {},
   "outputs": [],
   "source": [
    "l = [1,2,3,4,5]"
   ]
  },
  {
   "cell_type": "code",
   "execution_count": 4,
   "id": "7ae138e7",
   "metadata": {},
   "outputs": [
    {
     "data": {
      "text/plain": [
       "[6, 7, 8, 9, 10]"
      ]
     },
     "execution_count": 4,
     "metadata": {},
     "output_type": "execute_result"
    }
   ],
   "source": [
    "#  increament each element from l by 5\n",
    "\n",
    "l1 = []\n",
    "for i in l:\n",
    "    l1.append(i+5)\n",
    "    \n",
    "l1"
   ]
  },
  {
   "cell_type": "code",
   "execution_count": 6,
   "id": "4d9c59ef",
   "metadata": {},
   "outputs": [
    {
     "data": {
      "text/plain": [
       "[6, 7, 8, 9, 10]"
      ]
     },
     "execution_count": 6,
     "metadata": {},
     "output_type": "execute_result"
    }
   ],
   "source": [
    "[i+5 for i in l]"
   ]
  },
  {
   "cell_type": "code",
   "execution_count": 21,
   "id": "855dd905",
   "metadata": {},
   "outputs": [],
   "source": [
    "# map(func, *iterables):\n",
    "# map function expects a function as a 1st argument and an iterable object as a 2nd argument"
   ]
  },
  {
   "cell_type": "code",
   "execution_count": 10,
   "id": "09e20e46",
   "metadata": {},
   "outputs": [
    {
     "data": {
      "text/plain": [
       "[6, 7, 8, 9, 10]"
      ]
     },
     "execution_count": 10,
     "metadata": {},
     "output_type": "execute_result"
    }
   ],
   "source": [
    "def test(a):\n",
    "    return a+5\n",
    "\n",
    "list(map(test,l))"
   ]
  },
  {
   "cell_type": "code",
   "execution_count": 13,
   "id": "2580bea8",
   "metadata": {},
   "outputs": [
    {
     "data": {
      "text/plain": [
       "[1, 4, 9, 16, 25]"
      ]
     },
     "execution_count": 13,
     "metadata": {},
     "output_type": "execute_result"
    }
   ],
   "source": [
    "# Square each element from l using map operation\n",
    "def mysquare(a):\n",
    "    return a**2\n",
    "\n",
    "list(map(mysquare,l))"
   ]
  },
  {
   "cell_type": "code",
   "execution_count": 20,
   "id": "7a69f9eb",
   "metadata": {},
   "outputs": [
    {
     "data": {
      "text/plain": [
       "[12, 423, 2342, 2342, 564, 324]"
      ]
     },
     "execution_count": 20,
     "metadata": {},
     "output_type": "execute_result"
    }
   ],
   "source": [
    "# conver each element from l1 into integer format\n",
    "\n",
    "l1 = ['12','423','2342','2342','564','324']\n",
    "\n",
    "list(map(int,l1))"
   ]
  },
  {
   "cell_type": "code",
   "execution_count": 23,
   "id": "6a6f62eb",
   "metadata": {},
   "outputs": [
    {
     "data": {
      "text/plain": [
       "[12, 423, 2342, 2342, 564, 324]"
      ]
     },
     "execution_count": 23,
     "metadata": {},
     "output_type": "execute_result"
    }
   ],
   "source": [
    "# using lambda and map function\n",
    "\n",
    "list(map(lambda x: int(x), l1))"
   ]
  },
  {
   "cell_type": "markdown",
   "id": "61dd05f6",
   "metadata": {},
   "source": [
    "## Filter"
   ]
  },
  {
   "cell_type": "code",
   "execution_count": 78,
   "id": "2b48ff48",
   "metadata": {},
   "outputs": [],
   "source": [
    "l = [4,2,87,5,7,3,2,8,6,4,6,9,5,3,57]"
   ]
  },
  {
   "cell_type": "code",
   "execution_count": 38,
   "id": "c86dd6dc",
   "metadata": {},
   "outputs": [
    {
     "data": {
      "text/plain": [
       "[4, 2, 2, 8, 6, 4, 6]"
      ]
     },
     "execution_count": 38,
     "metadata": {},
     "output_type": "execute_result"
    }
   ],
   "source": [
    "[i for i in l if i%2==0]"
   ]
  },
  {
   "cell_type": "code",
   "execution_count": 84,
   "id": "249aa55a",
   "metadata": {},
   "outputs": [
    {
     "data": {
      "text/plain": [
       "[4, 2, 2, 8, 6, 4, 6]"
      ]
     },
     "execution_count": 84,
     "metadata": {},
     "output_type": "execute_result"
    }
   ],
   "source": [
    "# filter(function or None, iterable) --> filter object\n",
    "\n",
    "# Filter all even numbers\n",
    "def isevennumber(a):\n",
    "    if a%2 == 0:\n",
    "        return a\n",
    "\n",
    "list(filter(isevennumber,l))"
   ]
  },
  {
   "cell_type": "code",
   "execution_count": 80,
   "id": "8db450cb",
   "metadata": {},
   "outputs": [
    {
     "data": {
      "text/plain": [
       "[4, 2, 2, 8, 6, 4, 6]"
      ]
     },
     "execution_count": 80,
     "metadata": {},
     "output_type": "execute_result"
    }
   ],
   "source": [
    "list(filter(lambda x: x if (x%2==0) else None,l))"
   ]
  },
  {
   "cell_type": "code",
   "execution_count": 81,
   "id": "00b0f639",
   "metadata": {},
   "outputs": [
    {
     "data": {
      "text/plain": [
       "[4, 2, 2, 8, 6, 4, 6]"
      ]
     },
     "execution_count": 81,
     "metadata": {},
     "output_type": "execute_result"
    }
   ],
   "source": [
    "list(filter(lambda x: x%2==0, l))"
   ]
  },
  {
   "cell_type": "code",
   "execution_count": 83,
   "id": "c65fc714",
   "metadata": {},
   "outputs": [
    {
     "data": {
      "text/plain": [
       "[True,\n",
       " True,\n",
       " False,\n",
       " False,\n",
       " False,\n",
       " False,\n",
       " True,\n",
       " True,\n",
       " True,\n",
       " True,\n",
       " True,\n",
       " False,\n",
       " False,\n",
       " False,\n",
       " False]"
      ]
     },
     "execution_count": 83,
     "metadata": {},
     "output_type": "execute_result"
    }
   ],
   "source": [
    "# Difference between filter and map\n",
    "\n",
    "list(map(lambda x: x%2==0, l))"
   ]
  },
  {
   "cell_type": "markdown",
   "id": "a7d706c0",
   "metadata": {},
   "source": [
    "## Reduce"
   ]
  },
  {
   "cell_type": "code",
   "execution_count": 44,
   "id": "d0ed850a",
   "metadata": {},
   "outputs": [],
   "source": [
    "from functools import reduce"
   ]
  },
  {
   "cell_type": "code",
   "execution_count": 52,
   "id": "312669f2",
   "metadata": {},
   "outputs": [],
   "source": [
    "l = [1,2,3,4,5,6,7,8,9,10]"
   ]
  },
  {
   "cell_type": "code",
   "execution_count": 50,
   "id": "9322c72b",
   "metadata": {},
   "outputs": [
    {
     "data": {
      "text/plain": [
       "55"
      ]
     },
     "execution_count": 50,
     "metadata": {},
     "output_type": "execute_result"
    }
   ],
   "source": [
    "sum(l)"
   ]
  },
  {
   "cell_type": "code",
   "execution_count": 58,
   "id": "2efccd6c",
   "metadata": {},
   "outputs": [
    {
     "data": {
      "text/plain": [
       "55"
      ]
     },
     "execution_count": 58,
     "metadata": {},
     "output_type": "execute_result"
    }
   ],
   "source": [
    "# reduce(function, sequence[, initial]) -> value\n",
    "# reduce function considers two numbers at a time and do the cumulative operations on it. \n",
    "\n",
    "def test(a,b):\n",
    "    return a+b\n",
    "\n",
    "reduce(test,l)"
   ]
  },
  {
   "cell_type": "code",
   "execution_count": 55,
   "id": "500b5da1",
   "metadata": {},
   "outputs": [
    {
     "data": {
      "text/plain": [
       "55"
      ]
     },
     "execution_count": 55,
     "metadata": {},
     "output_type": "execute_result"
    }
   ],
   "source": [
    "reduce(lambda x,y: x+y, l)"
   ]
  },
  {
   "cell_type": "code",
   "execution_count": 59,
   "id": "914e1b11",
   "metadata": {},
   "outputs": [
    {
     "data": {
      "text/plain": [
       "1"
      ]
     },
     "execution_count": 59,
     "metadata": {},
     "output_type": "execute_result"
    }
   ],
   "source": [
    "l=[1]\n",
    "reduce(lambda x,y: x+y, l)"
   ]
  },
  {
   "cell_type": "markdown",
   "id": "ce54bfaf",
   "metadata": {},
   "source": [
    "## Zip"
   ]
  },
  {
   "cell_type": "code",
   "execution_count": 63,
   "id": "1b686e91",
   "metadata": {},
   "outputs": [],
   "source": [
    "# zip(*iterables) --> A zip object yielding tuples until an input is exhausted.\n",
    "\n",
    "#    >>> list(zip('abcdefg', range(3), range(4)))\n",
    "#    [('a', 0, 0), ('b', 1, 1), ('c', 2, 2)]"
   ]
  },
  {
   "cell_type": "code",
   "execution_count": 64,
   "id": "acc44158",
   "metadata": {},
   "outputs": [
    {
     "data": {
      "text/plain": [
       "[(1, 'a'), (2, 'b'), (3, 'c'), (4, 'd'), (5, 'e')]"
      ]
     },
     "execution_count": 64,
     "metadata": {},
     "output_type": "execute_result"
    }
   ],
   "source": [
    "l1 = [1,2,3,4,5]\n",
    "l2 = ['a','b','c','d','e']\n",
    "\n",
    "z = zip(l1,l2)\n",
    "list(z)"
   ]
  },
  {
   "cell_type": "code",
   "execution_count": 66,
   "id": "d81906b6",
   "metadata": {},
   "outputs": [
    {
     "data": {
      "text/plain": [
       "[(1, 'a', 4), (2, 'b', 3), (3, 'c', 2)]"
      ]
     },
     "execution_count": 66,
     "metadata": {},
     "output_type": "execute_result"
    }
   ],
   "source": [
    "l1 = [1,2,3,4,5]\n",
    "l2 = ['a','b','c','d']\n",
    "l3 = [4,3,2]\n",
    "\n",
    "z = zip(l1,l2,l3)\n",
    "list(z)"
   ]
  },
  {
   "cell_type": "markdown",
   "id": "b047ab14",
   "metadata": {},
   "source": [
    "# Homework"
   ]
  },
  {
   "cell_type": "markdown",
   "id": "3a1f0dfa",
   "metadata": {},
   "source": [
    "dataset: https://archive.ics.uci.edu/ml/machine-learning-databases/bag-of-words/\n",
    "\n",
    "1. Try to find out a count of each and every word in respective file return a list of tuple with word and its count.    \n",
    "Eg. [('akshay',6),('daga',4)]\n",
    "2. Try to perform a reduce operation to get a count of all the word starting with same alphabet.    \n",
    "Eg. [('a',56),('b',76),('c',45),....]\n",
    "3. Try to filter out all the words from dataset.    \n",
    "Eg. .001.abstract => abstract    \n",
    "=.002. => deleted\n",
    "4. Create a tuple set of all the records available in all the five file and then store it in sqlite DB.    \n",
    "Eg. (aah, >=, 354, fdws, wer)   "
   ]
  },
  {
   "cell_type": "code",
   "execution_count": null,
   "id": "f9e273c4",
   "metadata": {},
   "outputs": [],
   "source": []
  }
 ],
 "metadata": {
  "kernelspec": {
   "display_name": "Python 3",
   "language": "python",
   "name": "python3"
  },
  "language_info": {
   "codemirror_mode": {
    "name": "ipython",
    "version": 3
   },
   "file_extension": ".py",
   "mimetype": "text/x-python",
   "name": "python",
   "nbconvert_exporter": "python",
   "pygments_lexer": "ipython3",
   "version": "3.8.8"
  }
 },
 "nbformat": 4,
 "nbformat_minor": 5
}
