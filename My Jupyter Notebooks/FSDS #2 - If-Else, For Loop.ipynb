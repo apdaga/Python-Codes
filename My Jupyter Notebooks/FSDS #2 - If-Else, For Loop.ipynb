{
 "cells": [
  {
   "cell_type": "markdown",
   "id": "69946571",
   "metadata": {},
   "source": [
    "# If... Else..."
   ]
  },
  {
   "cell_type": "code",
   "execution_count": 1,
   "id": "226cf19e",
   "metadata": {},
   "outputs": [],
   "source": [
    "a = 10"
   ]
  },
  {
   "cell_type": "code",
   "execution_count": 3,
   "id": "7ae6f168",
   "metadata": {},
   "outputs": [
    {
     "data": {
      "text/plain": [
       "True"
      ]
     },
     "execution_count": 3,
     "metadata": {},
     "output_type": "execute_result"
    }
   ],
   "source": [
    "a < 15 #check the condition"
   ]
  },
  {
   "cell_type": "code",
   "execution_count": 7,
   "id": "f869f92f",
   "metadata": {},
   "outputs": [
    {
     "name": "stdout",
     "output_type": "stream",
     "text": [
      "Condition is True\n"
     ]
    }
   ],
   "source": [
    "if a < 15:\n",
    "    print(\"Condition is True\")"
   ]
  },
  {
   "cell_type": "code",
   "execution_count": 14,
   "id": "4e1c8081",
   "metadata": {},
   "outputs": [
    {
     "ename": "IndentationError",
     "evalue": "expected an indented block (3102165275.py, line 2)",
     "output_type": "error",
     "traceback": [
      "\u001b[0;36m  File \u001b[0;32m\"/var/folders/2b/0jxdkpf53db2vxdxwsdgc1tc0000gn/T/ipykernel_4235/3102165275.py\"\u001b[0;36m, line \u001b[0;32m2\u001b[0m\n\u001b[0;31m    \u001b[0m\n\u001b[0m    ^\u001b[0m\n\u001b[0;31mIndentationError\u001b[0m\u001b[0;31m:\u001b[0m expected an indented block\n"
     ]
    }
   ],
   "source": [
    "if a < 15:\n",
    "    "
   ]
  },
  {
   "cell_type": "code",
   "execution_count": 9,
   "id": "a3a02848",
   "metadata": {},
   "outputs": [],
   "source": [
    "if a < 15:\n",
    "    pass"
   ]
  },
  {
   "cell_type": "code",
   "execution_count": 10,
   "id": "5c997dc8",
   "metadata": {},
   "outputs": [],
   "source": [
    "if a < 15:\n",
    "    None"
   ]
  },
  {
   "cell_type": "code",
   "execution_count": 17,
   "id": "1b4e6620",
   "metadata": {},
   "outputs": [],
   "source": [
    "if a < 5:\n",
    "    print(\"Condition is True\")"
   ]
  },
  {
   "cell_type": "code",
   "execution_count": 16,
   "id": "d9bb4c28",
   "metadata": {},
   "outputs": [
    {
     "name": "stdout",
     "output_type": "stream",
     "text": [
      "Condition is True\n"
     ]
    }
   ],
   "source": [
    "if a < 15:\n",
    "    print(\"Condition is True\")\n",
    "else:\n",
    "    print(\"Condition is False\")"
   ]
  },
  {
   "cell_type": "code",
   "execution_count": 18,
   "id": "98fb59f5",
   "metadata": {},
   "outputs": [
    {
     "name": "stdout",
     "output_type": "stream",
     "text": [
      "Condition is False\n"
     ]
    }
   ],
   "source": [
    "if a < 5:\n",
    "    print(\"Condition is True\")\n",
    "else:\n",
    "    print(\"Condition is False\")"
   ]
  },
  {
   "cell_type": "code",
   "execution_count": 23,
   "id": "f6df832b",
   "metadata": {},
   "outputs": [
    {
     "name": "stdout",
     "output_type": "stream",
     "text": [
      "Enter you income: 10\n",
      "I will buy a phone\n"
     ]
    }
   ],
   "source": [
    "income = int(input(\"Enter you income: \"))\n",
    "\n",
    "if income < 30:\n",
    "    print(\"I will buy a phone\")\n",
    "elif income < 50:\n",
    "    print(\"I will buy a bike\")\n",
    "elif income < 70:\n",
    "    print(\"I wil buy a car\")\n",
    "elif income < 90:\n",
    "    print(\"I will buy a house\")\n",
    "else:\n",
    "    print(\"I will buy a bunglow\")"
   ]
  },
  {
   "cell_type": "code",
   "execution_count": 26,
   "id": "b0123725",
   "metadata": {},
   "outputs": [
    {
     "name": "stdout",
     "output_type": "stream",
     "text": [
      "Enter the total bill amount: 12000\n",
      "Dicount will be  1200.0\n"
     ]
    }
   ],
   "source": [
    "#Discount Calculation\n",
    "\n",
    "amount = int(input(\"Enter the total bill amount: \"))\n",
    "\n",
    "if amount > 20000:\n",
    "    discount = amount * .20\n",
    "    print(\"Dicount will be \", discount)\n",
    "elif amount > 10000:\n",
    "    discount = amount * .10\n",
    "    print(\"Dicount will be \", discount)\n",
    "else:\n",
    "    print(\"You will not get any discount\")"
   ]
  },
  {
   "cell_type": "code",
   "execution_count": 29,
   "id": "e9fde301",
   "metadata": {},
   "outputs": [
    {
     "name": "stdout",
     "output_type": "stream",
     "text": [
      "Enter the 4 digit pin: 1234\n",
      "PIN verified\n"
     ]
    }
   ],
   "source": [
    "## ATM Example\n",
    "\n",
    "atm_pin = \"1234\"\n",
    "entered_pin = input(\"Enter the 4 digit pin: \")\n",
    "\n",
    "if entered_pin == atm_pin:\n",
    "    print(\"PIN verified\")\n",
    "else:\n",
    "    print(\"Wrong PIN\")"
   ]
  },
  {
   "cell_type": "code",
   "execution_count": 31,
   "id": "6a8160f1",
   "metadata": {},
   "outputs": [
    {
     "name": "stdout",
     "output_type": "stream",
     "text": [
      "Enter you marks: 100\n",
      "Your grade is: A+\n"
     ]
    }
   ],
   "source": [
    "# Student Result\n",
    "\n",
    "marks = int(input(\"Enter you marks: \"))\n",
    "\n",
    "if marks < 35:\n",
    "    print(\"Your grade is: F\")\n",
    "elif marks >= 35 and marks < 50:\n",
    "    print(\"Your grade is: D\")\n",
    "elif marks >= 50 and marks < 75:\n",
    "    print(\"Your grade is: C\")\n",
    "elif marks >= 75 and marks < 90:\n",
    "    print(\"Your grade is: B\")\n",
    "elif marks >= 90 and marks < 95:\n",
    "    print(\"Your grade is: A\")\n",
    "else:\n",
    "    print(\"Your grade is: A+\")"
   ]
  },
  {
   "cell_type": "code",
   "execution_count": 32,
   "id": "201a684e",
   "metadata": {},
   "outputs": [
    {
     "name": "stdout",
     "output_type": "stream",
     "text": [
      "Enter your attedance between (0-100)%: 30\n",
      "Enter your marks: 80\n",
      "You are failed due to low attendance\n"
     ]
    }
   ],
   "source": [
    "# Student Result using nested if\n",
    "attendance = int(input(\"Enter your attedance between (0-100)%: \"))\n",
    "marks = int(input(\"Enter your marks: \"))\n",
    "\n",
    "if attendance >= 70:\n",
    "    if marks < 35:\n",
    "        print(\"Your grade is: F\")\n",
    "    elif marks >= 35 and marks < 50:\n",
    "        print(\"Your grade is: D\")\n",
    "    elif marks >= 50 and marks < 75:\n",
    "        print(\"Your grade is: C\")\n",
    "    elif marks >= 75 and marks < 90:\n",
    "        print(\"Your grade is: B\")\n",
    "    elif marks >= 90 and marks < 95:\n",
    "        print(\"Your grade is: A\")\n",
    "    else:\n",
    "        print(\"Your grade is: A+\")\n",
    "else:\n",
    "    print(\"You are failed due to low attendance\")"
   ]
  },
  {
   "cell_type": "markdown",
   "id": "a564e90a",
   "metadata": {},
   "source": [
    "# For Loop"
   ]
  },
  {
   "cell_type": "code",
   "execution_count": 33,
   "id": "32d98075",
   "metadata": {},
   "outputs": [
    {
     "name": "stdout",
     "output_type": "stream",
     "text": [
      "a\n",
      "p\n",
      "d\n",
      "a\n",
      "g\n",
      "a\n"
     ]
    }
   ],
   "source": [
    "s = \"apdaga\"\n",
    "\n",
    "for i in s:\n",
    "    print(i)"
   ]
  },
  {
   "cell_type": "code",
   "execution_count": 57,
   "id": "791a7e8e",
   "metadata": {},
   "outputs": [
    {
     "name": "stdout",
     "output_type": "stream",
     "text": [
      "a\n",
      "p\n",
      "d\n",
      "a\n",
      "g\n",
      "a\n"
     ]
    }
   ],
   "source": [
    "var = \"apdaga\"             # String\n",
    "# var = [7,8,1,2,3,4,5]    # list\n",
    "# var = (7,8,1,2,3,4,5)    # tuple\n",
    "# var = {7,8,1,2,3,4,5}    # set\n",
    "# var = {'a':1,'b':2,'c':3}  # dictionary\n",
    "\n",
    "for i in var:\n",
    "    print(i)"
   ]
  },
  {
   "cell_type": "code",
   "execution_count": 64,
   "id": "5e91f989",
   "metadata": {},
   "outputs": [
    {
     "name": "stdout",
     "output_type": "stream",
     "text": [
      "1\n",
      "3\n",
      "7\n",
      "34\n",
      "54\n"
     ]
    }
   ],
   "source": [
    "# seperate integer elements from list\n",
    "\n",
    "l1 = [1,'rte', 3, 7, 5.0, True, [34,54,6.0,'sdfsfa']]\n",
    "\n",
    "for element in l1:\n",
    "    if type(element) == int:\n",
    "        print(element)\n",
    "    elif type(element) == list:\n",
    "        for e in element:\n",
    "            if type(e) == int:\n",
    "                print(e)"
   ]
  },
  {
   "cell_type": "code",
   "execution_count": null,
   "id": "65a7ab19",
   "metadata": {},
   "outputs": [],
   "source": [
    "# l = [2, 45, 78, 12, \"akshay\", 6+7j, [34, 54, 54, \"daga\"]]\n",
    "# Q1. Try to print index of all elements in list\n",
    "# Q2. Try to extract all the list of char if element is string\n",
    "# Q3. Try to return a list after doing a square of all the int element"
   ]
  },
  {
   "cell_type": "code",
   "execution_count": 90,
   "id": "d3b01ca5",
   "metadata": {},
   "outputs": [
    {
     "name": "stdout",
     "output_type": "stream",
     "text": [
      "0   2\n",
      "1   45\n",
      "2   78\n",
      "3   12\n",
      "4   akshay\n",
      "5   (6+7j)\n",
      "6   [34, 54, 54, 'daga']\n"
     ]
    }
   ],
   "source": [
    "# Q1. Try to print index of all elements in list\n",
    "\n",
    "##### SOLUTION-1 #####\n",
    "# l = [2, 45, 78, 12, \"akshay\", 6+7j, [34, 54, 54, \"daga\"]]\n",
    "\n",
    "# index = 0\n",
    "# for i in l:\n",
    "#     print(i,\" \",index)\n",
    "#     index = index+1;\n",
    "    \n",
    "##### SOLUTION-2 #####\n",
    "# l = [2, 45, 78, 12, \"akshay\", 6+7j, [34, 54, 54, \"daga\"]]\n",
    "\n",
    "# for i in range(len(l)):\n",
    "#     print(l[i], ' ',i)\n",
    "    \n",
    "##### SOLUTION-3 #####\n",
    "l = [2, 45, 78, 12, \"akshay\", 6+7j, [34, 54, 54, \"daga\"]]\n",
    "\n",
    "# for i in enumerate(l):\n",
    "#     print(i)\n",
    "\n",
    "for i,j in enumerate(l):\n",
    "    print(i,' ', j)"
   ]
  },
  {
   "cell_type": "code",
   "execution_count": 74,
   "id": "b104bf01",
   "metadata": {},
   "outputs": [
    {
     "name": "stdout",
     "output_type": "stream",
     "text": [
      "['a', 'k', 's', 'h', 'a', 'y', 'd', 'a', 'g', 'a']\n"
     ]
    }
   ],
   "source": [
    "# Q2. Try to extract all the list of char if element is string\n",
    "l = [2, 45, 78, 12, \"akshay\", 6+7j, [34, 54, 54, \"daga\"]]\n",
    "\n",
    "out = []\n",
    "for i in l:\n",
    "    if type(i) == str:\n",
    "        for c in i:\n",
    "            out.append(c)\n",
    "    elif type(i) == list:\n",
    "        for e in i:\n",
    "            if type(e) == str:\n",
    "                for c2 in e:\n",
    "                    out.append(c2)\n",
    "            \n",
    "print(out)"
   ]
  },
  {
   "cell_type": "code",
   "execution_count": 97,
   "id": "a9a1a89d",
   "metadata": {},
   "outputs": [
    {
     "name": "stdout",
     "output_type": "stream",
     "text": [
      "[4, 2025, 6084, 144, 1156, 2916, 2916]\n"
     ]
    }
   ],
   "source": [
    "# Q3. Try to return a list after doing a square of all the int element\n",
    "l = [2, 45, 78, 12, \"akshay\", 6+7j, [34, 54, 54, \"daga\"]]\n",
    "out = []\n",
    "\n",
    "for i in l:\n",
    "    if type(i) == int:\n",
    "        out.append(i**2)\n",
    "    elif type(i) == list:\n",
    "        for e in i:\n",
    "            if type(e) == int:\n",
    "                out.append(e**2)\n",
    "                \n",
    "print(out)"
   ]
  }
 ],
 "metadata": {
  "kernelspec": {
   "display_name": "Python 3 (ipykernel)",
   "language": "python",
   "name": "python3"
  },
  "language_info": {
   "codemirror_mode": {
    "name": "ipython",
    "version": 3
   },
   "file_extension": ".py",
   "mimetype": "text/x-python",
   "name": "python",
   "nbconvert_exporter": "python",
   "pygments_lexer": "ipython3",
   "version": "3.9.7"
  }
 },
 "nbformat": 4,
 "nbformat_minor": 5
}
