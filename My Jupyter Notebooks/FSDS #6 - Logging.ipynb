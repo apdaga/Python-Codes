{
 "cells": [
  {
   "cell_type": "markdown",
   "id": "dfebf705",
   "metadata": {},
   "source": [
    "# Logging"
   ]
  },
  {
   "cell_type": "code",
   "execution_count": 1,
   "id": "57cb48ec",
   "metadata": {},
   "outputs": [
    {
     "name": "stdout",
     "output_type": "stream",
     "text": [
      "sdjfkjhks \n"
     ]
    }
   ],
   "source": [
    "print(\"sdjfkjhks \")"
   ]
  },
  {
   "cell_type": "code",
   "execution_count": 2,
   "id": "c5d54aad",
   "metadata": {},
   "outputs": [],
   "source": [
    "import logging"
   ]
  },
  {
   "cell_type": "code",
   "execution_count": 3,
   "id": "dba08b2e",
   "metadata": {},
   "outputs": [],
   "source": [
    "# To create a log file\n",
    "# logging.basicConfig(filename = \"test.log\", level = logging.INFO)"
   ]
  },
  {
   "cell_type": "code",
   "execution_count": 4,
   "id": "875c66f3",
   "metadata": {},
   "outputs": [
    {
     "name": "stdout",
     "output_type": "stream",
     "text": [
      "FSDS #1 - Basics data types, list, tuple, set, dictionary.ipynb\r\n",
      "FSDS #2 - If-Else, For Loop.ipynb\r\n",
      "FSDS #5 - Exception Handling.ipynb\r\n",
      "FSDS #6 - Logging.ipynb\r\n",
      "Python #1 - Basics (Variables, Basic Data Types).ipynb\r\n",
      "Python #10 - Tuples.ipynb\r\n",
      "Python #10.1 - Why index function is not working as expected with bool element in List or Tuples?.ipynb\r\n",
      "Python #11 - Sets.ipynb\r\n",
      "Python #12 - Dictionary.ipynb\r\n",
      "Python #13 - DICTIONARY Built-in Functions.ipynb\r\n",
      "Python #14 - IF... ELSE... (Conditional Statement).ipynb\r\n",
      "Python #15 - For Loop (Looping Statement).ipynb\r\n",
      "Python #15.1 - Print the index of all the elements from list using for loop.ipynb\r\n",
      "Python #2 - Type Casting.ipynb\r\n",
      "Python #3 - Plus (+) operation on all basic data types.ipynb\r\n",
      "Python #4 - How to take input from user.ipynb\r\n",
      "Python #5 - String indexes, slicing & transversing operations.ipynb\r\n",
      "Python #6 - String built-in functions.ipynb\r\n",
      "Python #7 - String built-in boolean functions.ipynb\r\n",
      "Python #8 - List indexes, slicing & transversing operations.ipynb\r\n",
      "Python #9 - List built-in functions.ipynb\r\n",
      "first.txt\r\n",
      "test.log\r\n"
     ]
    }
   ],
   "source": [
    "ls"
   ]
  },
  {
   "cell_type": "code",
   "execution_count": 5,
   "id": "ca419eea",
   "metadata": {},
   "outputs": [],
   "source": [
    "# Type of logs you can create:\n",
    "#     1. DEBUG\n",
    "#     2. INFO\n",
    "#     3. WARNING\n",
    "#     4. ERROR\n",
    "#     5. CRITICAL"
   ]
  },
  {
   "cell_type": "code",
   "execution_count": 6,
   "id": "7c809e88",
   "metadata": {},
   "outputs": [],
   "source": [
    "logging.info(\"This is my first info\")"
   ]
  },
  {
   "cell_type": "code",
   "execution_count": 7,
   "id": "0c335b80",
   "metadata": {},
   "outputs": [
    {
     "name": "stderr",
     "output_type": "stream",
     "text": [
      "WARNING:root:This is my first warning\n"
     ]
    }
   ],
   "source": [
    "logging.warning(\"This is my first warning\")"
   ]
  },
  {
   "cell_type": "code",
   "execution_count": 8,
   "id": "ef314516",
   "metadata": {},
   "outputs": [
    {
     "name": "stderr",
     "output_type": "stream",
     "text": [
      "ERROR:root:This is my first error\n"
     ]
    }
   ],
   "source": [
    "logging.error(\"This is my first error\")"
   ]
  },
  {
   "cell_type": "code",
   "execution_count": 9,
   "id": "36587528",
   "metadata": {},
   "outputs": [],
   "source": [
    "logging.shutdown()"
   ]
  },
  {
   "cell_type": "code",
   "execution_count": 1,
   "id": "c8c1dd36",
   "metadata": {},
   "outputs": [],
   "source": [
    "import logging \n",
    "# To create a log file\n",
    "logging.basicConfig(filename = \"test2.log\", \n",
    "                    level = logging.DEBUG, \n",
    "                    format='%(asctime)s %(levelname)s: %(message)s')"
   ]
  },
  {
   "cell_type": "code",
   "execution_count": 2,
   "id": "632d2090",
   "metadata": {},
   "outputs": [],
   "source": [
    "logging.info(\"This is my first info\")\n",
    "logging.warning(\"This is my first warning\")\n",
    "logging.error(\"This is my first error\")\n",
    "logging.debug(\"This is my debug log\")\n",
    "logging.critical(\"This is critical log message\")"
   ]
  },
  {
   "cell_type": "code",
   "execution_count": 3,
   "id": "24a824e5",
   "metadata": {},
   "outputs": [],
   "source": [
    "logging.shutdown()"
   ]
  },
  {
   "cell_type": "code",
   "execution_count": 9,
   "id": "821ea1fe",
   "metadata": {},
   "outputs": [],
   "source": [
    "import logging \n",
    "# To create a log file\n",
    "logging.basicConfig(filename = \"test3.log\", \n",
    "                    level=logging.DEBUG, \n",
    "                    format='%(asctime)s %(levelname)s: %(message)s')"
   ]
  },
  {
   "cell_type": "code",
   "execution_count": 13,
   "id": "a0cc8c62",
   "metadata": {},
   "outputs": [],
   "source": [
    "def dividebyzero(a,b):\n",
    "    logging.debug(\"\")\n",
    "    logging.info(\"This is start of my code.\")\n",
    "    logging.info(\"I am trying to enter %s and %s\", a, b)\n",
    "    try:\n",
    "        c = a/b\n",
    "        logging.info(\"Division Executed successfully\")\n",
    "        \n",
    "    except Exception as e:\n",
    "        logging.error(\"Error has occured\")\n",
    "        logging.exception(\"Exception occurred\")\n",
    "        "
   ]
  },
  {
   "cell_type": "code",
   "execution_count": 14,
   "id": "44b2c993",
   "metadata": {},
   "outputs": [],
   "source": [
    "dividebyzero(4,5)\n",
    "dividebyzero(7,8)"
   ]
  },
  {
   "cell_type": "code",
   "execution_count": 15,
   "id": "5c7d509d",
   "metadata": {},
   "outputs": [],
   "source": [
    "dividebyzero(7,0)"
   ]
  },
  {
   "cell_type": "code",
   "execution_count": null,
   "id": "2f1e477c",
   "metadata": {},
   "outputs": [],
   "source": []
  }
 ],
 "metadata": {
  "kernelspec": {
   "display_name": "Python 3 (ipykernel)",
   "language": "python",
   "name": "python3"
  },
  "language_info": {
   "codemirror_mode": {
    "name": "ipython",
    "version": 3
   },
   "file_extension": ".py",
   "mimetype": "text/x-python",
   "name": "python",
   "nbconvert_exporter": "python",
   "pygments_lexer": "ipython3",
   "version": "3.9.7"
  }
 },
 "nbformat": 4,
 "nbformat_minor": 5
}
