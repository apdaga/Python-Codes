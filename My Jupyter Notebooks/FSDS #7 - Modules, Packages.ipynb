{
 "cells": [
  {
   "cell_type": "markdown",
   "id": "7c238d73",
   "metadata": {},
   "source": [
    "# How to create a module (library)"
   ]
  },
  {
   "cell_type": "code",
   "execution_count": 3,
   "id": "527f59c5",
   "metadata": {},
   "outputs": [],
   "source": [
    "# Use Logging (instead of print function)"
   ]
  },
  {
   "cell_type": "code",
   "execution_count": 4,
   "id": "faf29460",
   "metadata": {},
   "outputs": [],
   "source": [
    "import os"
   ]
  },
  {
   "cell_type": "code",
   "execution_count": null,
   "id": "e97617a2",
   "metadata": {},
   "outputs": [],
   "source": [
    "os."
   ]
  },
  {
   "cell_type": "code",
   "execution_count": 5,
   "id": "114c5b18",
   "metadata": {},
   "outputs": [],
   "source": [
    "# Module is a piece of code or collection of code"
   ]
  },
  {
   "cell_type": "code",
   "execution_count": 7,
   "id": "6feb7922",
   "metadata": {},
   "outputs": [
    {
     "data": {
      "text/plain": [
       "'C:\\\\Users\\\\akshay.daga\\\\Jupyter Notebooks'"
      ]
     },
     "execution_count": 7,
     "metadata": {},
     "output_type": "execute_result"
    }
   ],
   "source": [
    "pwd"
   ]
  },
  {
   "cell_type": "code",
   "execution_count": 10,
   "id": "7cf19ec0",
   "metadata": {},
   "outputs": [
    {
     "name": "stdout",
     "output_type": "stream",
     "text": [
      " Volume in drive C is Windows\n",
      " Volume Serial Number is D8FC-E3B8\n",
      "\n",
      " Directory of C:\\Users\\akshay.daga\\Jupyter Notebooks\n",
      "\n",
      "01/22/2022  10:35 AM    <DIR>          .\n",
      "01/22/2022  10:35 AM    <DIR>          ..\n",
      "01/22/2022  10:14 AM    <DIR>          .ipynb_checkpoints\n",
      "12/29/2021  08:37 PM           237,672 FSDS #3.ipynb\n",
      "01/09/2022  01:11 PM            59,903 FSDS #4.ipynb\n",
      "01/22/2022  10:16 AM               576 FSDS #6.ipynb\n",
      "01/22/2022  10:32 AM             3,808 FSDS #7.ipynb\n",
      "01/22/2022  10:36 AM                34 module1.py\n",
      "01/22/2022  10:36 AM                34 module2.py\n",
      "01/09/2022  01:09 PM               442 out.txt\n",
      "12/31/2021  04:35 PM             7,578 Python #15.2 - BREAK vs PASS vs CONTINUE.ipynb\n",
      "12/31/2021  03:57 PM             4,316 Python #16 - FOR... ELSE... Statement.ipynb\n",
      "12/31/2021  04:07 PM         1,025,959 Python #17 - WHILE Loop.ipynb\n",
      "01/08/2022  02:50 PM             8,385 Python #18 - Comprehensions (List, Tuple, Dict, Set).ipynb\n",
      "01/08/2022  03:10 PM             8,721 Python #19 - Functions in python.ipynb\n",
      "01/08/2022  03:33 PM             9,174 Python #20 - Functions with multiple arguments.ipynb\n",
      "01/08/2022  03:49 PM             8,140 Python #21 - Functions with key-value pair arguments.ipynb\n",
      "01/08/2022  04:26 PM             6,284 Python #22 - Lambda functions.ipynb\n",
      "01/08/2022  04:44 PM            18,083 Python #23 - Iterable vs Iterator.ipynb\n",
      "01/09/2022  12:15 PM                93 test.txt\n",
      "01/09/2022  12:30 PM               349 test1.txt\n",
      "              18 File(s)      1,399,551 bytes\n",
      "               3 Dir(s)  211,477,499,904 bytes free\n"
     ]
    }
   ],
   "source": [
    "ls"
   ]
  },
  {
   "cell_type": "code",
   "execution_count": 3,
   "id": "8243434a",
   "metadata": {},
   "outputs": [],
   "source": [
    "# write functions in .py files \n",
    "# and place those files in current directory. \n",
    "# then import those files using following syntax\n",
    "\n",
    "import module1, module2"
   ]
  },
  {
   "cell_type": "code",
   "execution_count": 4,
   "id": "2380cf73",
   "metadata": {},
   "outputs": [
    {
     "name": "stdout",
     "output_type": "stream",
     "text": [
      "This is a fuction from module1\n"
     ]
    },
    {
     "data": {
      "text/plain": [
       "9"
      ]
     },
     "execution_count": 4,
     "metadata": {},
     "output_type": "execute_result"
    }
   ],
   "source": [
    "module1.test_add(4,5)"
   ]
  },
  {
   "cell_type": "code",
   "execution_count": 7,
   "id": "e5c45d71",
   "metadata": {},
   "outputs": [
    {
     "data": {
      "text/plain": [
       "'greeting from apdaga.com'"
      ]
     },
     "execution_count": 7,
     "metadata": {},
     "output_type": "execute_result"
    }
   ],
   "source": [
    "module2.get_greeting()"
   ]
  },
  {
   "cell_type": "code",
   "execution_count": 18,
   "id": "2737c5fd",
   "metadata": {},
   "outputs": [
    {
     "data": {
      "text/plain": [
       "['__builtins__',\n",
       " '__cached__',\n",
       " '__doc__',\n",
       " '__file__',\n",
       " '__loader__',\n",
       " '__name__',\n",
       " '__package__',\n",
       " '__spec__',\n",
       " 'test_add',\n",
       " 'test_div',\n",
       " 'test_sub']"
      ]
     },
     "execution_count": 18,
     "metadata": {},
     "output_type": "execute_result"
    }
   ],
   "source": [
    "dir(module1)"
   ]
  },
  {
   "cell_type": "code",
   "execution_count": 19,
   "id": "b9d89349",
   "metadata": {},
   "outputs": [
    {
     "ename": "NameError",
     "evalue": "name 'os' is not defined",
     "output_type": "error",
     "traceback": [
      "\u001b[1;31m-------------------------------------------------------\u001b[0m",
      "\u001b[1;31mNameError\u001b[0m             Traceback (most recent call last)",
      "\u001b[1;32m<ipython-input-19-9510ca9dae09>\u001b[0m in \u001b[0;36m<module>\u001b[1;34m\u001b[0m\n\u001b[1;32m----> 1\u001b[1;33m \u001b[0mdir\u001b[0m\u001b[1;33m(\u001b[0m\u001b[0mos\u001b[0m\u001b[1;33m)\u001b[0m\u001b[1;33m\u001b[0m\u001b[1;33m\u001b[0m\u001b[0m\n\u001b[0m",
      "\u001b[1;31mNameError\u001b[0m: name 'os' is not defined"
     ]
    }
   ],
   "source": []
  },
  {
   "cell_type": "code",
   "execution_count": null,
   "id": "b9c141ab",
   "metadata": {},
   "outputs": [],
   "source": []
  }
 ],
 "metadata": {
  "kernelspec": {
   "display_name": "Python 3",
   "language": "python",
   "name": "python3"
  },
  "language_info": {
   "codemirror_mode": {
    "name": "ipython",
    "version": 3
   },
   "file_extension": ".py",
   "mimetype": "text/x-python",
   "name": "python",
   "nbconvert_exporter": "python",
   "pygments_lexer": "ipython3",
   "version": "3.8.8"
  }
 },
 "nbformat": 4,
 "nbformat_minor": 5
}
