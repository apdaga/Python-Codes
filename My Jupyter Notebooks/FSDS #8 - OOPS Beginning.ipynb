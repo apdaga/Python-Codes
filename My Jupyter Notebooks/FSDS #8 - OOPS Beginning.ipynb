{
 "cells": [
  {
   "cell_type": "markdown",
   "id": "7156e1be",
   "metadata": {},
   "source": [
    "# OOPS: Object-oriented programming system"
   ]
  },
  {
   "cell_type": "code",
   "execution_count": 1,
   "id": "e47abfd3",
   "metadata": {},
   "outputs": [],
   "source": [
    "# Explain What is Class and Object"
   ]
  },
  {
   "cell_type": "code",
   "execution_count": 2,
   "id": "2f5522cc",
   "metadata": {},
   "outputs": [],
   "source": [
    "class car:\n",
    "    pass"
   ]
  },
  {
   "cell_type": "code",
   "execution_count": 19,
   "id": "bdec6c45",
   "metadata": {},
   "outputs": [],
   "source": [
    "class car:\n",
    "    def __init__(self, brand_name, fuel_type, body_type):\n",
    "        self.brand_name = brand_name\n",
    "        self.fuel_type = fuel_type\n",
    "        self.body_type = body_type\n",
    "\n",
    "    def desc_car(self):\n",
    "        print(self.brand_name, self.fuel_type, self.body_type)"
   ]
  },
  {
   "cell_type": "code",
   "execution_count": 23,
   "id": "f8679e7a",
   "metadata": {},
   "outputs": [],
   "source": [
    "innova = car(\"toyota\", \"petrol\", \"suv\")\n",
    "nexon = car(\"tata\", \"diesel\", \"suv\")\n",
    "fortuner = car(\"toyota\", \"diesel\", \"suv\")"
   ]
  },
  {
   "cell_type": "code",
   "execution_count": 24,
   "id": "33f7c02c",
   "metadata": {},
   "outputs": [
    {
     "name": "stdout",
     "output_type": "stream",
     "text": [
      "toyota petrol suv\n"
     ]
    }
   ],
   "source": [
    "innova.desc_car()"
   ]
  },
  {
   "cell_type": "code",
   "execution_count": 25,
   "id": "ab326534",
   "metadata": {
    "scrolled": true
   },
   "outputs": [
    {
     "data": {
      "text/plain": [
       "'toyota'"
      ]
     },
     "execution_count": 25,
     "metadata": {},
     "output_type": "execute_result"
    }
   ],
   "source": [
    "innova.brand_name"
   ]
  },
  {
   "cell_type": "code",
   "execution_count": 27,
   "id": "fc26b079",
   "metadata": {},
   "outputs": [
    {
     "name": "stdout",
     "output_type": "stream",
     "text": [
      "<class 'int'>\n"
     ]
    }
   ],
   "source": [
    "a = 10\n",
    "print(type(a))"
   ]
  },
  {
   "cell_type": "markdown",
   "id": "c86e4a50",
   "metadata": {},
   "source": [
    "# 23/01/2022"
   ]
  },
  {
   "cell_type": "code",
   "execution_count": 30,
   "id": "cd0e18d7",
   "metadata": {},
   "outputs": [],
   "source": [
    "class car:\n",
    "    \n",
    "     #Constructor\n",
    "    def __init__(self, body_type, engine, fuel_type):\n",
    "        self.body_type = body_type\n",
    "        self.engine = engine\n",
    "        self.fuel_type = fuel_type\n",
    "        \n",
    "    def test(self):\n",
    "        print(\"This is my first method in my car class\")"
   ]
  },
  {
   "cell_type": "code",
   "execution_count": 31,
   "id": "4d211a94",
   "metadata": {},
   "outputs": [],
   "source": [
    "fortuner = car(\"suv\", \"bs4\", \"petrol\")"
   ]
  },
  {
   "cell_type": "code",
   "execution_count": 32,
   "id": "a554d24a",
   "metadata": {},
   "outputs": [],
   "source": [
    "nexon = car(\"suv\", \"bs6\", \"petrol\")"
   ]
  },
  {
   "cell_type": "code",
   "execution_count": 34,
   "id": "098d99f9",
   "metadata": {},
   "outputs": [
    {
     "name": "stdout",
     "output_type": "stream",
     "text": [
      "This is my first method in my car class\n"
     ]
    }
   ],
   "source": [
    "nexon.test()"
   ]
  },
  {
   "cell_type": "code",
   "execution_count": 35,
   "id": "2bf97d34",
   "metadata": {},
   "outputs": [
    {
     "data": {
      "text/plain": [
       "'petrol'"
      ]
     },
     "execution_count": 35,
     "metadata": {},
     "output_type": "execute_result"
    }
   ],
   "source": [
    "nexon.fuel_type"
   ]
  },
  {
   "cell_type": "code",
   "execution_count": 51,
   "id": "ca58a1d0",
   "metadata": {},
   "outputs": [],
   "source": [
    "class list_parser:\n",
    "            \n",
    "    def parcer(self, a):\n",
    "        if type(a) == list:\n",
    "            for i in a:\n",
    "                print(i)\n",
    "    \n",
    "    def reverse(self, a):\n",
    "        if type(a) == list:\n",
    "            return a[::-1]"
   ]
  },
  {
   "cell_type": "code",
   "execution_count": 52,
   "id": "e9f6ddf4",
   "metadata": {},
   "outputs": [
    {
     "name": "stdout",
     "output_type": "stream",
     "text": [
      "1\n",
      "2\n",
      "3\n",
      "4\n",
      "5\n",
      "6\n",
      "34\n",
      "12\n",
      "64\n"
     ]
    }
   ],
   "source": [
    "c = list_parser()\n",
    "c.parcer([1,2,3,4,5,6,34,12,64])"
   ]
  },
  {
   "cell_type": "code",
   "execution_count": 53,
   "id": "01de6947",
   "metadata": {},
   "outputs": [
    {
     "data": {
      "text/plain": [
       "[64, 12, 34, 6, 5, 4, 3, 2, 1]"
      ]
     },
     "execution_count": 53,
     "metadata": {},
     "output_type": "execute_result"
    }
   ],
   "source": [
    "c.reverse([1,2,3,4,5,6,34,12,64])"
   ]
  },
  {
   "cell_type": "code",
   "execution_count": 57,
   "id": "f4746711",
   "metadata": {},
   "outputs": [],
   "source": [
    "class list_parser:\n",
    "    \n",
    "    def __init__(self, l):\n",
    "        self.l = l\n",
    "        \n",
    "    def parcer(self):\n",
    "        if type(self.l) == list:\n",
    "            for i in self.l:\n",
    "                print(i)\n",
    "    \n",
    "    def reverse(self):\n",
    "        if type(self.l) == list:\n",
    "            return self.l[::-1]"
   ]
  },
  {
   "cell_type": "code",
   "execution_count": 58,
   "id": "c5bb1aed",
   "metadata": {},
   "outputs": [],
   "source": [
    "d = list_parser([1,2,3,4,5,6,34,12,64])"
   ]
  },
  {
   "cell_type": "code",
   "execution_count": 59,
   "id": "b4ace53f",
   "metadata": {},
   "outputs": [
    {
     "name": "stdout",
     "output_type": "stream",
     "text": [
      "1\n",
      "2\n",
      "3\n",
      "4\n",
      "5\n",
      "6\n",
      "34\n",
      "12\n",
      "64\n"
     ]
    }
   ],
   "source": [
    "d.parcer()"
   ]
  },
  {
   "cell_type": "code",
   "execution_count": 60,
   "id": "632214e6",
   "metadata": {},
   "outputs": [
    {
     "data": {
      "text/plain": [
       "[64, 12, 34, 6, 5, 4, 3, 2, 1]"
      ]
     },
     "execution_count": 60,
     "metadata": {},
     "output_type": "execute_result"
    }
   ],
   "source": [
    "d.reverse()"
   ]
  },
  {
   "cell_type": "code",
   "execution_count": 61,
   "id": "01422e54",
   "metadata": {},
   "outputs": [],
   "source": [
    "# # Create a class for dictionary parsing \n",
    "\n",
    "# 1. write a function to give all the keys\n",
    "# 2. write a function to give all the values\n",
    "# 3. write a function to throw an exception in case of input is not dictionary\n",
    "# 4. write a function to take user input and then parse a key and value out of dictionary\n",
    "# 5. write a function to insert new key value pair into dictionary"
   ]
  },
  {
   "cell_type": "code",
   "execution_count": 220,
   "id": "f8099d5b",
   "metadata": {},
   "outputs": [],
   "source": [
    "class dict_parse:\n",
    "    \n",
    "    def __init__(self, d):\n",
    "        if type(d) == dict:\n",
    "            self.d = d\n",
    "        else:\n",
    "            raise Exception(d, \"Input values is not a dictionary\")\n",
    "    \n",
    "    def dict_check(self):\n",
    "        if type(self.d) != dict:\n",
    "            raise Exception(self.d, \"Not a dictionary\")\n",
    "        else:\n",
    "            return 1\n",
    "            \n",
    "    def get_keys(self):\n",
    "        if self.dict_check():\n",
    "            return list(self.d.keys())\n",
    "    \n",
    "    def get_values(self):\n",
    "        if self.dict_check():\n",
    "            return list(self.d.values())\n",
    "        \n",
    "    def get_keys_values(self):\n",
    "        if self.dict_check():\n",
    "            for k,v in self.d.items():\n",
    "                return list(self.d.keys()), list(self.d.values())\n",
    "    \n",
    "    def set_key_value(self, k, v):\n",
    "            self.d[k] = v\n",
    "            \n",
    "    def userinput(self):\n",
    "        self.d = eval(input(\"Enter is dictionary \"))\n",
    "        print(self.get_keys())\n",
    "        print(self.get_values())"
   ]
  },
  {
   "cell_type": "code",
   "execution_count": 221,
   "id": "a2851fcc",
   "metadata": {},
   "outputs": [],
   "source": [
    "d1 = dict_parse({'a':'akshay', 'b':'daga'})"
   ]
  },
  {
   "cell_type": "code",
   "execution_count": 222,
   "id": "81d0117e",
   "metadata": {},
   "outputs": [
    {
     "data": {
      "text/plain": [
       "{'a': 'akshay', 'b': 'daga'}"
      ]
     },
     "execution_count": 222,
     "metadata": {},
     "output_type": "execute_result"
    }
   ],
   "source": [
    "d1.d"
   ]
  },
  {
   "cell_type": "code",
   "execution_count": 223,
   "id": "de35bb04",
   "metadata": {},
   "outputs": [
    {
     "data": {
      "text/plain": [
       "['a', 'b']"
      ]
     },
     "execution_count": 223,
     "metadata": {},
     "output_type": "execute_result"
    }
   ],
   "source": [
    "d1.get_keys()"
   ]
  },
  {
   "cell_type": "code",
   "execution_count": 224,
   "id": "efea7408",
   "metadata": {},
   "outputs": [
    {
     "data": {
      "text/plain": [
       "['akshay', 'daga']"
      ]
     },
     "execution_count": 224,
     "metadata": {},
     "output_type": "execute_result"
    }
   ],
   "source": [
    "d1.get_values()"
   ]
  },
  {
   "cell_type": "code",
   "execution_count": 225,
   "id": "61b0db3a",
   "metadata": {},
   "outputs": [
    {
     "data": {
      "text/plain": [
       "(['a', 'b'], ['akshay', 'daga'])"
      ]
     },
     "execution_count": 225,
     "metadata": {},
     "output_type": "execute_result"
    }
   ],
   "source": [
    "d1.get_keys_values()"
   ]
  },
  {
   "cell_type": "code",
   "execution_count": 226,
   "id": "4bf8bbf0",
   "metadata": {},
   "outputs": [],
   "source": [
    "d1.set_key_value('c', 'newval')"
   ]
  },
  {
   "cell_type": "code",
   "execution_count": 227,
   "id": "371d2cfe",
   "metadata": {},
   "outputs": [
    {
     "data": {
      "text/plain": [
       "(['a', 'b', 'c'], ['akshay', 'daga', 'newval'])"
      ]
     },
     "execution_count": 227,
     "metadata": {},
     "output_type": "execute_result"
    }
   ],
   "source": [
    "d1.get_keys_values()"
   ]
  },
  {
   "cell_type": "code",
   "execution_count": 215,
   "id": "905cc303",
   "metadata": {},
   "outputs": [
    {
     "ename": "Exception",
     "evalue": "([1, 2, 3, 44], 'Input values is not a dictionary')",
     "output_type": "error",
     "traceback": [
      "\u001b[1;31m--------------------------------------------------------------------\u001b[0m",
      "\u001b[1;31mException\u001b[0m                          Traceback (most recent call last)",
      "\u001b[1;32m<ipython-input-215-5c385a65d289>\u001b[0m in \u001b[0;36m<module>\u001b[1;34m\u001b[0m\n\u001b[1;32m----> 1\u001b[1;33m \u001b[0md2\u001b[0m \u001b[1;33m=\u001b[0m \u001b[0mdict_parse\u001b[0m\u001b[1;33m(\u001b[0m\u001b[1;33m[\u001b[0m\u001b[1;36m1\u001b[0m\u001b[1;33m,\u001b[0m\u001b[1;36m2\u001b[0m\u001b[1;33m,\u001b[0m\u001b[1;36m3\u001b[0m\u001b[1;33m,\u001b[0m\u001b[1;36m44\u001b[0m\u001b[1;33m]\u001b[0m\u001b[1;33m)\u001b[0m\u001b[1;33m\u001b[0m\u001b[1;33m\u001b[0m\u001b[0m\n\u001b[0m",
      "\u001b[1;32m<ipython-input-207-c92d554ad050>\u001b[0m in \u001b[0;36m__init__\u001b[1;34m(self, d)\u001b[0m\n\u001b[0;32m      5\u001b[0m             \u001b[0mself\u001b[0m\u001b[1;33m.\u001b[0m\u001b[0md\u001b[0m \u001b[1;33m=\u001b[0m \u001b[0md\u001b[0m\u001b[1;33m\u001b[0m\u001b[1;33m\u001b[0m\u001b[0m\n\u001b[0;32m      6\u001b[0m         \u001b[1;32melse\u001b[0m\u001b[1;33m:\u001b[0m\u001b[1;33m\u001b[0m\u001b[1;33m\u001b[0m\u001b[0m\n\u001b[1;32m----> 7\u001b[1;33m             \u001b[1;32mraise\u001b[0m \u001b[0mException\u001b[0m\u001b[1;33m(\u001b[0m\u001b[0md\u001b[0m\u001b[1;33m,\u001b[0m \u001b[1;34m\"Input values is not a dictionary\"\u001b[0m\u001b[1;33m)\u001b[0m\u001b[1;33m\u001b[0m\u001b[1;33m\u001b[0m\u001b[0m\n\u001b[0m\u001b[0;32m      8\u001b[0m \u001b[1;33m\u001b[0m\u001b[0m\n\u001b[0;32m      9\u001b[0m     \u001b[1;32mdef\u001b[0m \u001b[0mdict_check\u001b[0m\u001b[1;33m(\u001b[0m\u001b[0mself\u001b[0m\u001b[1;33m)\u001b[0m\u001b[1;33m:\u001b[0m\u001b[1;33m\u001b[0m\u001b[1;33m\u001b[0m\u001b[0m\n",
      "\u001b[1;31mException\u001b[0m: ([1, 2, 3, 44], 'Input values is not a dictionary')"
     ]
    }
   ],
   "source": [
    "d2 = dict_parse([1,2,3,44])"
   ]
  },
  {
   "cell_type": "code",
   "execution_count": 216,
   "id": "881c57bc",
   "metadata": {},
   "outputs": [
    {
     "ename": "AttributeError",
     "evalue": "'dict_parse' object has no attribute 'd'",
     "output_type": "error",
     "traceback": [
      "\u001b[1;31m--------------------------------------------------------------------\u001b[0m",
      "\u001b[1;31mAttributeError\u001b[0m                     Traceback (most recent call last)",
      "\u001b[1;32m<ipython-input-216-ad416d5206d2>\u001b[0m in \u001b[0;36m<module>\u001b[1;34m\u001b[0m\n\u001b[1;32m----> 1\u001b[1;33m \u001b[0md2\u001b[0m\u001b[1;33m.\u001b[0m\u001b[0mget_keys\u001b[0m\u001b[1;33m(\u001b[0m\u001b[1;33m)\u001b[0m\u001b[1;33m\u001b[0m\u001b[1;33m\u001b[0m\u001b[0m\n\u001b[0m",
      "\u001b[1;32m<ipython-input-112-241bbdca8c3c>\u001b[0m in \u001b[0;36mget_keys\u001b[1;34m(self)\u001b[0m\n\u001b[0;32m     10\u001b[0m \u001b[1;33m\u001b[0m\u001b[0m\n\u001b[0;32m     11\u001b[0m     \u001b[1;32mdef\u001b[0m \u001b[0mget_keys\u001b[0m\u001b[1;33m(\u001b[0m\u001b[0mself\u001b[0m\u001b[1;33m)\u001b[0m\u001b[1;33m:\u001b[0m\u001b[1;33m\u001b[0m\u001b[1;33m\u001b[0m\u001b[0m\n\u001b[1;32m---> 12\u001b[1;33m         \u001b[1;32mif\u001b[0m \u001b[0mtype\u001b[0m\u001b[1;33m(\u001b[0m\u001b[0mself\u001b[0m\u001b[1;33m.\u001b[0m\u001b[0md\u001b[0m\u001b[1;33m)\u001b[0m \u001b[1;33m==\u001b[0m \u001b[0mdict\u001b[0m\u001b[1;33m:\u001b[0m\u001b[1;33m\u001b[0m\u001b[1;33m\u001b[0m\u001b[0m\n\u001b[0m\u001b[0;32m     13\u001b[0m             \u001b[1;32mfor\u001b[0m \u001b[0mk\u001b[0m\u001b[1;33m,\u001b[0m\u001b[0mv\u001b[0m \u001b[1;32min\u001b[0m \u001b[0mself\u001b[0m\u001b[1;33m.\u001b[0m\u001b[0md\u001b[0m\u001b[1;33m.\u001b[0m\u001b[0mitems\u001b[0m\u001b[1;33m(\u001b[0m\u001b[1;33m)\u001b[0m\u001b[1;33m:\u001b[0m\u001b[1;33m\u001b[0m\u001b[1;33m\u001b[0m\u001b[0m\n\u001b[0;32m     14\u001b[0m                 \u001b[0mprint\u001b[0m\u001b[1;33m(\u001b[0m\u001b[0mk\u001b[0m\u001b[1;33m)\u001b[0m\u001b[1;33m\u001b[0m\u001b[1;33m\u001b[0m\u001b[0m\n",
      "\u001b[1;31mAttributeError\u001b[0m: 'dict_parse' object has no attribute 'd'"
     ]
    }
   ],
   "source": [
    "d2.get_keys()"
   ]
  },
  {
   "cell_type": "code",
   "execution_count": 218,
   "id": "2f09e357",
   "metadata": {},
   "outputs": [
    {
     "name": "stdout",
     "output_type": "stream",
     "text": [
      "Enter is dictionary{'a': 'akshay2', 'b': 'daga2'}\n",
      "['a', 'b']\n",
      "['akshay2', 'daga2']\n"
     ]
    }
   ],
   "source": [
    "d1.userinput()"
   ]
  },
  {
   "cell_type": "code",
   "execution_count": 219,
   "id": "dba10c84",
   "metadata": {},
   "outputs": [
    {
     "data": {
      "text/plain": [
       "(['a', 'b'], ['akshay2', 'daga2'])"
      ]
     },
     "execution_count": 219,
     "metadata": {},
     "output_type": "execute_result"
    }
   ],
   "source": [
    "d1.get_keys_values()"
   ]
  },
  {
   "cell_type": "markdown",
   "id": "bc730b95",
   "metadata": {},
   "source": [
    "# Home Work Questions"
   ]
  },
  {
   "cell_type": "code",
   "execution_count": 228,
   "id": "9059f00e",
   "metadata": {},
   "outputs": [],
   "source": [
    "# 1. create your own package for all the list functions\n",
    "# 2. create your own package for all the tuple functions\n",
    "# 3. create your own package for all the dictionary functions\n",
    "# 4. create your own package for all the set functions"
   ]
  },
  {
   "cell_type": "code",
   "execution_count": 233,
   "id": "b1867f8b",
   "metadata": {},
   "outputs": [],
   "source": [
    "# Restrictions:\n",
    "# 1. Always use exception handling\n",
    "# 2. Never use print statement\n",
    "# 3. Always use logging while writing a code and log every activity performed \n",
    "# by code in respective logging file\n",
    "\n",
    "# Submit at Email: sudhanshu@ineuron.ai"
   ]
  },
  {
   "cell_type": "code",
   "execution_count": null,
   "id": "8e33f59f",
   "metadata": {},
   "outputs": [],
   "source": []
  }
 ],
 "metadata": {
  "kernelspec": {
   "display_name": "Python 3",
   "language": "python",
   "name": "python3"
  },
  "language_info": {
   "codemirror_mode": {
    "name": "ipython",
    "version": 3
   },
   "file_extension": ".py",
   "mimetype": "text/x-python",
   "name": "python",
   "nbconvert_exporter": "python",
   "pygments_lexer": "ipython3",
   "version": "3.8.8"
  }
 },
 "nbformat": 4,
 "nbformat_minor": 5
}
