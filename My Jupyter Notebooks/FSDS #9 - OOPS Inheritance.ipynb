{
 "cells": [
  {
   "cell_type": "markdown",
   "id": "a601447a",
   "metadata": {},
   "source": [
    "# Inheritance"
   ]
  },
  {
   "cell_type": "markdown",
   "id": "b18b06ab",
   "metadata": {},
   "source": [
    "## Single Inheritance "
   ]
  },
  {
   "cell_type": "code",
   "execution_count": 3,
   "id": "ce0434d1",
   "metadata": {},
   "outputs": [],
   "source": [
    "class parent:\n",
    "    def __init__(self, a, b, c):\n",
    "        self.a = a\n",
    "        self.b = b\n",
    "        self.c = c\n",
    "    \n",
    "    def test1(self):\n",
    "        print(\"This is method test1 from class parent\")\n",
    "    \n",
    "    def test2(self):\n",
    "        print(\"This is method test2 from class parent\")\n",
    "    \n",
    "    def test3(self):\n",
    "        print(\"This is method test3 from class parent\")\n",
    "    "
   ]
  },
  {
   "cell_type": "code",
   "execution_count": 15,
   "id": "fe65f7e3",
   "metadata": {},
   "outputs": [],
   "source": [
    "class child1(parent):\n",
    "    pass"
   ]
  },
  {
   "cell_type": "code",
   "execution_count": 16,
   "id": "983c63b4",
   "metadata": {},
   "outputs": [],
   "source": [
    "p = parent(1,2,3)"
   ]
  },
  {
   "cell_type": "code",
   "execution_count": 17,
   "id": "86f64289",
   "metadata": {},
   "outputs": [
    {
     "data": {
      "text/plain": [
       "1"
      ]
     },
     "execution_count": 17,
     "metadata": {},
     "output_type": "execute_result"
    }
   ],
   "source": [
    "p.a"
   ]
  },
  {
   "cell_type": "code",
   "execution_count": 18,
   "id": "64b44893",
   "metadata": {},
   "outputs": [
    {
     "name": "stdout",
     "output_type": "stream",
     "text": [
      "This is method test1 from class parent\n"
     ]
    }
   ],
   "source": [
    "p.test1()"
   ]
  },
  {
   "cell_type": "code",
   "execution_count": 22,
   "id": "fbb73519",
   "metadata": {},
   "outputs": [
    {
     "ename": "TypeError",
     "evalue": "__init__() missing 3 required positional arguments: 'a', 'b', and 'c'",
     "output_type": "error",
     "traceback": [
      "\u001b[1;31m---------------------------------------------------------------------------\u001b[0m",
      "\u001b[1;31mTypeError\u001b[0m                                 Traceback (most recent call last)",
      "\u001b[1;32m<ipython-input-22-222d48599434>\u001b[0m in \u001b[0;36m<module>\u001b[1;34m\u001b[0m\n\u001b[1;32m----> 1\u001b[1;33m \u001b[0mc1\u001b[0m \u001b[1;33m=\u001b[0m \u001b[0mchild1\u001b[0m\u001b[1;33m(\u001b[0m\u001b[1;33m)\u001b[0m\u001b[1;33m\u001b[0m\u001b[1;33m\u001b[0m\u001b[0m\n\u001b[0m",
      "\u001b[1;31mTypeError\u001b[0m: __init__() missing 3 required positional arguments: 'a', 'b', and 'c'"
     ]
    }
   ],
   "source": [
    "c1 = child1()"
   ]
  },
  {
   "cell_type": "code",
   "execution_count": 23,
   "id": "dcbd0cfc",
   "metadata": {},
   "outputs": [],
   "source": [
    "c1 = child1(4,5,6)"
   ]
  },
  {
   "cell_type": "code",
   "execution_count": 24,
   "id": "8cc95197",
   "metadata": {},
   "outputs": [
    {
     "name": "stdout",
     "output_type": "stream",
     "text": [
      "This is method test1 from class parent\n"
     ]
    }
   ],
   "source": [
    "c1.test1()"
   ]
  },
  {
   "cell_type": "code",
   "execution_count": 25,
   "id": "73df69be",
   "metadata": {},
   "outputs": [],
   "source": [
    "class child2(parent):\n",
    "    \n",
    "    def test1(self):\n",
    "        print(\"This is method test1 from class child2\")"
   ]
  },
  {
   "cell_type": "markdown",
   "id": "bb00863e",
   "metadata": {},
   "source": [
    "## Hierarchical Inheritance"
   ]
  },
  {
   "cell_type": "code",
   "execution_count": 26,
   "id": "d3c1fccd",
   "metadata": {},
   "outputs": [],
   "source": [
    "c2 = child2(4,6,8)"
   ]
  },
  {
   "cell_type": "code",
   "execution_count": 37,
   "id": "2467f588",
   "metadata": {},
   "outputs": [
    {
     "name": "stdout",
     "output_type": "stream",
     "text": [
      "This is method test1 from class child2\n"
     ]
    }
   ],
   "source": [
    "c2.test1() #Always call the method from child class (if present) otherwise from parent class"
   ]
  },
  {
   "cell_type": "code",
   "execution_count": 28,
   "id": "09fa8423",
   "metadata": {},
   "outputs": [
    {
     "name": "stdout",
     "output_type": "stream",
     "text": [
      "This is method test2 from class parent\n"
     ]
    }
   ],
   "source": [
    "c2.test2()"
   ]
  },
  {
   "cell_type": "markdown",
   "id": "f50647b1",
   "metadata": {},
   "source": [
    "## Multi Class Inheritance"
   ]
  },
  {
   "cell_type": "code",
   "execution_count": 30,
   "id": "2f989c52",
   "metadata": {},
   "outputs": [],
   "source": [
    "class parent1:\n",
    "    def __init__(self, a, b, c):\n",
    "        self.a = a\n",
    "        self.b = b\n",
    "        self.c = c\n",
    "    \n",
    "    def test1(self):\n",
    "        print(\"This is method test1 from class parent1\")\n",
    "    \n",
    "class parent2:\n",
    "    def __init__(self, p, q, r):\n",
    "        self.p = p\n",
    "        self.q = q\n",
    "        self.r = r\n",
    "    \n",
    "    def test2(self):\n",
    "        print(\"This is method test2 from class parent2\")"
   ]
  },
  {
   "cell_type": "code",
   "execution_count": 36,
   "id": "29f190c8",
   "metadata": {},
   "outputs": [],
   "source": [
    "# inherites variables and methods from parent1 and only menthods from parent2\n",
    "class child(parent1, parent2):\n",
    "    pass"
   ]
  },
  {
   "cell_type": "code",
   "execution_count": 32,
   "id": "b84506ff",
   "metadata": {},
   "outputs": [
    {
     "ename": "TypeError",
     "evalue": "__init__() missing 3 required positional arguments: 'a', 'b', and 'c'",
     "output_type": "error",
     "traceback": [
      "\u001b[1;31m---------------------------------------------------------------------------\u001b[0m",
      "\u001b[1;31mTypeError\u001b[0m                                 Traceback (most recent call last)",
      "\u001b[1;32m<ipython-input-32-cef3c55f1fc1>\u001b[0m in \u001b[0;36m<module>\u001b[1;34m\u001b[0m\n\u001b[1;32m----> 1\u001b[1;33m \u001b[0mch\u001b[0m \u001b[1;33m=\u001b[0m \u001b[0mchild\u001b[0m\u001b[1;33m(\u001b[0m\u001b[1;33m)\u001b[0m\u001b[1;33m\u001b[0m\u001b[1;33m\u001b[0m\u001b[0m\n\u001b[0m",
      "\u001b[1;31mTypeError\u001b[0m: __init__() missing 3 required positional arguments: 'a', 'b', and 'c'"
     ]
    }
   ],
   "source": [
    "ch = child()"
   ]
  },
  {
   "cell_type": "code",
   "execution_count": 33,
   "id": "0dfa19d9",
   "metadata": {},
   "outputs": [],
   "source": [
    "ch = child(1,2,3)"
   ]
  },
  {
   "cell_type": "code",
   "execution_count": 35,
   "id": "927ca93c",
   "metadata": {},
   "outputs": [
    {
     "name": "stdout",
     "output_type": "stream",
     "text": [
      "This is method test2 from class parent2\n"
     ]
    }
   ],
   "source": [
    "ch.test2()"
   ]
  },
  {
   "cell_type": "code",
   "execution_count": 38,
   "id": "85bd8976",
   "metadata": {},
   "outputs": [],
   "source": [
    "class child2(parent1, parent2):\n",
    "    \n",
    "    def __init__(self, *args):\n",
    "        parent1.__init__(self, *args)\n",
    "        parent2.__init__(self, *args)"
   ]
  },
  {
   "cell_type": "code",
   "execution_count": 39,
   "id": "30b766fa",
   "metadata": {},
   "outputs": [],
   "source": [
    "ch2 = child2(1,2,3)"
   ]
  },
  {
   "cell_type": "code",
   "execution_count": 54,
   "id": "9f1e6a34",
   "metadata": {},
   "outputs": [
    {
     "name": "stdout",
     "output_type": "stream",
     "text": [
      "1 2 3 1 2 3\n"
     ]
    }
   ],
   "source": [
    "print(ch2.a, ch2.b, ch2.c, ch2.p, ch2.q, ch2.r) #same value assigned to a,b,c and p,q,r"
   ]
  },
  {
   "cell_type": "code",
   "execution_count": 47,
   "id": "2a485314",
   "metadata": {},
   "outputs": [],
   "source": [
    "class child3(parent1, parent2):\n",
    "    \n",
    "    def __init__(self, *args, **kwargs):\n",
    "        parent1.__init__(self, *args)\n",
    "        parent2.__init__(self, **kwargs)"
   ]
  },
  {
   "cell_type": "code",
   "execution_count": 52,
   "id": "16d972fe",
   "metadata": {},
   "outputs": [],
   "source": [
    "ch3 = child3(1,2,3,p=4,q=5,r=6)"
   ]
  },
  {
   "cell_type": "code",
   "execution_count": 53,
   "id": "c398fbce",
   "metadata": {},
   "outputs": [
    {
     "name": "stdout",
     "output_type": "stream",
     "text": [
      "1 2 3 4 5 6\n"
     ]
    }
   ],
   "source": [
    "print(ch3.a, ch3.b, ch3.c, ch3.p, ch3.q, ch3.r)"
   ]
  },
  {
   "cell_type": "markdown",
   "id": "aa4593f8",
   "metadata": {},
   "source": [
    "## Multi Level Inheritance"
   ]
  },
  {
   "cell_type": "code",
   "execution_count": 78,
   "id": "36fa6cd7",
   "metadata": {},
   "outputs": [],
   "source": [
    "class parent:\n",
    "    def __init__(self, a, b, c):\n",
    "        self.a = a\n",
    "        self.b = b\n",
    "        self.c = c\n",
    "    \n",
    "    def test(self):\n",
    "        print(\"This is method test from class parent\")\n",
    "\n",
    "class child(parent):\n",
    "    def test(self):\n",
    "        print(\"This is method test from class child\")\n",
    "    \n",
    "\n",
    "class grandchild(child):\n",
    "    def test(self):\n",
    "        print(\"This is method test from class grandchild\")\n",
    "        \n",
    "class grandgrandchild(grandchild):\n",
    "    def test(self):\n",
    "        print(\"This is method test from class grandgrandchild\")"
   ]
  },
  {
   "cell_type": "code",
   "execution_count": 79,
   "id": "7c1de531",
   "metadata": {},
   "outputs": [],
   "source": [
    "g = grandchild(1,2,3)"
   ]
  },
  {
   "cell_type": "code",
   "execution_count": 80,
   "id": "61045fa7",
   "metadata": {},
   "outputs": [
    {
     "name": "stdout",
     "output_type": "stream",
     "text": [
      "This is method test from class grandchild\n"
     ]
    }
   ],
   "source": [
    "g.test()"
   ]
  },
  {
   "cell_type": "code",
   "execution_count": 81,
   "id": "0e2b33bb",
   "metadata": {},
   "outputs": [],
   "source": [
    "c = child(2,3,4)"
   ]
  },
  {
   "cell_type": "code",
   "execution_count": 82,
   "id": "2b9f11a7",
   "metadata": {},
   "outputs": [
    {
     "name": "stdout",
     "output_type": "stream",
     "text": [
      "This is method test from class child\n"
     ]
    }
   ],
   "source": [
    "c.test()"
   ]
  },
  {
   "cell_type": "code",
   "execution_count": 84,
   "id": "4d9f4fe5",
   "metadata": {},
   "outputs": [],
   "source": [
    "# Q1. Create a file class for reading data from respective file with a method name read and write\n",
    "# Q2. Try to inherite the read and write method from parent class to child class \n",
    "# to perform read and write operation"
   ]
  },
  {
   "cell_type": "code",
   "execution_count": 88,
   "id": "cc274eb7",
   "metadata": {},
   "outputs": [],
   "source": [
    "class filehandling:\n",
    "    def __init__(self, filepath):\n",
    "        self.filepath = filepath\n",
    "    \n",
    "    def readfile(self):\n",
    "        f = open(self.filepath, \"r\")\n",
    "        for line in f:\n",
    "            print(line)\n",
    "        f.close()\n",
    "    \n",
    "    def writefile(self, texttowrite):\n",
    "        f = open(self.filepath,\"w+\")\n",
    "        f.write(texttowrite)\n",
    "        f.seek(0)\n",
    "        for line in f:\n",
    "            print(line)\n",
    "        f.close()\n",
    "    \n",
    "class txtfilehandling(filehandling):\n",
    "    pass"
   ]
  },
  {
   "cell_type": "code",
   "execution_count": 89,
   "id": "0a1790df",
   "metadata": {},
   "outputs": [],
   "source": [
    "t = txtfilehandling(\"test.txt\")"
   ]
  },
  {
   "cell_type": "code",
   "execution_count": 90,
   "id": "17577260",
   "metadata": {},
   "outputs": [
    {
     "data": {
      "text/plain": [
       "'test.txt'"
      ]
     },
     "execution_count": 90,
     "metadata": {},
     "output_type": "execute_result"
    }
   ],
   "source": [
    "t.filepath"
   ]
  },
  {
   "cell_type": "code",
   "execution_count": 91,
   "id": "91fc6e40",
   "metadata": {},
   "outputs": [
    {
     "name": "stdout",
     "output_type": "stream",
     "text": [
      "This is the first time I am writing into a file text.txt using python code.\n",
      "\n",
      "This is 2nd line\n"
     ]
    }
   ],
   "source": [
    "t.readfile()"
   ]
  },
  {
   "cell_type": "code",
   "execution_count": 94,
   "id": "5ca6d356",
   "metadata": {},
   "outputs": [
    {
     "name": "stdout",
     "output_type": "stream",
     "text": [
      "new line added 123\n"
     ]
    }
   ],
   "source": [
    "t.writefile(\"new line added 123\")"
   ]
  },
  {
   "cell_type": "code",
   "execution_count": 95,
   "id": "aed5c380",
   "metadata": {},
   "outputs": [
    {
     "name": "stdout",
     "output_type": "stream",
     "text": [
      "new line added 123\n"
     ]
    }
   ],
   "source": [
    "t.readfile()"
   ]
  },
  {
   "cell_type": "code",
   "execution_count": null,
   "id": "4399c206",
   "metadata": {},
   "outputs": [],
   "source": []
  }
 ],
 "metadata": {
  "kernelspec": {
   "display_name": "Python 3",
   "language": "python",
   "name": "python3"
  },
  "language_info": {
   "codemirror_mode": {
    "name": "ipython",
    "version": 3
   },
   "file_extension": ".py",
   "mimetype": "text/x-python",
   "name": "python",
   "nbconvert_exporter": "python",
   "pygments_lexer": "ipython3",
   "version": "3.8.8"
  }
 },
 "nbformat": 4,
 "nbformat_minor": 5
}
