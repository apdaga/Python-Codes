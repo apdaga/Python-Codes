{
 "cells": [
  {
   "cell_type": "markdown",
   "id": "99899201",
   "metadata": {},
   "source": [
    "# String built-in functions"
   ]
  },
  {
   "cell_type": "code",
   "execution_count": 1,
   "id": "13964fd7",
   "metadata": {},
   "outputs": [
    {
     "data": {
      "text/plain": [
       "'I am Akshay Daga'"
      ]
     },
     "execution_count": 1,
     "metadata": {},
     "output_type": "execute_result"
    }
   ],
   "source": [
    "s = \"I am Akshay Daga\"\n",
    "s"
   ]
  },
  {
   "cell_type": "code",
   "execution_count": 2,
   "id": "a6f493cc",
   "metadata": {},
   "outputs": [
    {
     "data": {
      "text/plain": [
       "16"
      ]
     },
     "execution_count": 2,
     "metadata": {},
     "output_type": "execute_result"
    }
   ],
   "source": [
    "len(s)"
   ]
  },
  {
   "cell_type": "code",
   "execution_count": 3,
   "id": "c061eeff",
   "metadata": {},
   "outputs": [
    {
     "data": {
      "text/plain": [
       "5"
      ]
     },
     "execution_count": 3,
     "metadata": {},
     "output_type": "execute_result"
    }
   ],
   "source": [
    "s.find(\"A\")"
   ]
  },
  {
   "cell_type": "code",
   "execution_count": 4,
   "id": "c5c10476",
   "metadata": {},
   "outputs": [
    {
     "data": {
      "text/plain": [
       "2"
      ]
     },
     "execution_count": 4,
     "metadata": {},
     "output_type": "execute_result"
    }
   ],
   "source": [
    "s.find(\"a\")"
   ]
  },
  {
   "cell_type": "code",
   "execution_count": 5,
   "id": "641a0ec6",
   "metadata": {},
   "outputs": [
    {
     "data": {
      "text/plain": [
       "12"
      ]
     },
     "execution_count": 5,
     "metadata": {},
     "output_type": "execute_result"
    }
   ],
   "source": [
    "s.find(\"Daga\")"
   ]
  },
  {
   "cell_type": "code",
   "execution_count": 6,
   "id": "b2547ecf",
   "metadata": {},
   "outputs": [
    {
     "data": {
      "text/plain": [
       "-1"
      ]
     },
     "execution_count": 6,
     "metadata": {},
     "output_type": "execute_result"
    }
   ],
   "source": [
    "s.find(\"z\")"
   ]
  },
  {
   "cell_type": "code",
   "execution_count": 7,
   "id": "9f3c7ee9",
   "metadata": {},
   "outputs": [
    {
     "data": {
      "text/plain": [
       "4"
      ]
     },
     "execution_count": 7,
     "metadata": {},
     "output_type": "execute_result"
    }
   ],
   "source": [
    "s.count(\"a\")"
   ]
  },
  {
   "cell_type": "code",
   "execution_count": 8,
   "id": "47fd80d9",
   "metadata": {},
   "outputs": [
    {
     "data": {
      "text/plain": [
       "1"
      ]
     },
     "execution_count": 8,
     "metadata": {},
     "output_type": "execute_result"
    }
   ],
   "source": [
    "s.count(\"m\")"
   ]
  },
  {
   "cell_type": "code",
   "execution_count": 9,
   "id": "9710a78f",
   "metadata": {},
   "outputs": [
    {
     "data": {
      "text/plain": [
       "0"
      ]
     },
     "execution_count": 9,
     "metadata": {},
     "output_type": "execute_result"
    }
   ],
   "source": [
    "s.count(\"z\")"
   ]
  },
  {
   "cell_type": "code",
   "execution_count": 10,
   "id": "921b8be4",
   "metadata": {},
   "outputs": [
    {
     "data": {
      "text/plain": [
       "'I am Akshay Daga'"
      ]
     },
     "execution_count": 10,
     "metadata": {},
     "output_type": "execute_result"
    }
   ],
   "source": [
    "s"
   ]
  },
  {
   "cell_type": "code",
   "execution_count": 11,
   "id": "10e49cbd",
   "metadata": {},
   "outputs": [
    {
     "data": {
      "text/plain": [
       "['I', 'am', 'Akshay', 'Daga']"
      ]
     },
     "execution_count": 11,
     "metadata": {},
     "output_type": "execute_result"
    }
   ],
   "source": [
    "s.split()"
   ]
  },
  {
   "cell_type": "code",
   "execution_count": 12,
   "id": "c955102a",
   "metadata": {},
   "outputs": [
    {
     "data": {
      "text/plain": [
       "['I ', 'm Aksh', 'y D', 'g', '']"
      ]
     },
     "execution_count": 12,
     "metadata": {},
     "output_type": "execute_result"
    }
   ],
   "source": [
    "s.split(\"a\")"
   ]
  },
  {
   "cell_type": "code",
   "execution_count": 13,
   "id": "36c46ef7",
   "metadata": {},
   "outputs": [
    {
     "data": {
      "text/plain": [
       "'I AM AKSHAY DAGA'"
      ]
     },
     "execution_count": 13,
     "metadata": {},
     "output_type": "execute_result"
    }
   ],
   "source": [
    "s.upper()"
   ]
  },
  {
   "cell_type": "code",
   "execution_count": 14,
   "id": "ffead0f5",
   "metadata": {},
   "outputs": [
    {
     "data": {
      "text/plain": [
       "'i am akshay daga'"
      ]
     },
     "execution_count": 14,
     "metadata": {},
     "output_type": "execute_result"
    }
   ],
   "source": [
    "s.lower()"
   ]
  },
  {
   "cell_type": "code",
   "execution_count": 15,
   "id": "8e1925d8",
   "metadata": {},
   "outputs": [
    {
     "data": {
      "text/plain": [
       "'I am akshay daga'"
      ]
     },
     "execution_count": 15,
     "metadata": {},
     "output_type": "execute_result"
    }
   ],
   "source": [
    "s.capitalize()"
   ]
  },
  {
   "cell_type": "code",
   "execution_count": 16,
   "id": "14c5dd9d",
   "metadata": {},
   "outputs": [
    {
     "data": {
      "text/plain": [
       "'Akshay daga. harsh saxena'"
      ]
     },
     "execution_count": 16,
     "metadata": {},
     "output_type": "execute_result"
    }
   ],
   "source": [
    "\"Akshay Daga. Harsh Saxena\".capitalize()"
   ]
  },
  {
   "cell_type": "code",
   "execution_count": 17,
   "id": "055fd79f",
   "metadata": {},
   "outputs": [
    {
     "data": {
      "text/plain": [
       "'i AM aKSHAY dAGA'"
      ]
     },
     "execution_count": 17,
     "metadata": {},
     "output_type": "execute_result"
    }
   ],
   "source": [
    "s.swapcase()"
   ]
  },
  {
   "cell_type": "code",
   "execution_count": 18,
   "id": "7bd34eed",
   "metadata": {},
   "outputs": [
    {
     "data": {
      "text/plain": [
       "'I Am Akshay Daga'"
      ]
     },
     "execution_count": 18,
     "metadata": {},
     "output_type": "execute_result"
    }
   ],
   "source": [
    "s.title()"
   ]
  },
  {
   "cell_type": "code",
   "execution_count": 19,
   "id": "5f295466",
   "metadata": {},
   "outputs": [
    {
     "data": {
      "text/plain": [
       "'    Akshay Daga   '"
      ]
     },
     "execution_count": 19,
     "metadata": {},
     "output_type": "execute_result"
    }
   ],
   "source": [
    "s1 = \"    Akshay Daga   \"\n",
    "s1"
   ]
  },
  {
   "cell_type": "code",
   "execution_count": 20,
   "id": "88e6a9c6",
   "metadata": {},
   "outputs": [
    {
     "data": {
      "text/plain": [
       "'Akshay Daga'"
      ]
     },
     "execution_count": 20,
     "metadata": {},
     "output_type": "execute_result"
    }
   ],
   "source": [
    "s1.strip()"
   ]
  },
  {
   "cell_type": "code",
   "execution_count": 21,
   "id": "e4cf4a0a",
   "metadata": {},
   "outputs": [
    {
     "data": {
      "text/plain": [
       "'    Akshay Daga'"
      ]
     },
     "execution_count": 21,
     "metadata": {},
     "output_type": "execute_result"
    }
   ],
   "source": [
    "s1.rstrip()"
   ]
  },
  {
   "cell_type": "code",
   "execution_count": 22,
   "id": "f914984a",
   "metadata": {},
   "outputs": [
    {
     "data": {
      "text/plain": [
       "'Akshay Daga   '"
      ]
     },
     "execution_count": 22,
     "metadata": {},
     "output_type": "execute_result"
    }
   ],
   "source": [
    "s1.lstrip()"
   ]
  },
  {
   "cell_type": "code",
   "execution_count": 23,
   "id": "8cc33f5e",
   "metadata": {},
   "outputs": [
    {
     "data": {
      "text/plain": [
       "'Akshay Daga'"
      ]
     },
     "execution_count": 23,
     "metadata": {},
     "output_type": "execute_result"
    }
   ],
   "source": [
    "s2 = \"Akshay Daga\"\n",
    "s2"
   ]
  },
  {
   "cell_type": "code",
   "execution_count": 24,
   "id": "316b4ce5",
   "metadata": {},
   "outputs": [
    {
     "data": {
      "text/plain": [
       "'Akshzy Dzgz'"
      ]
     },
     "execution_count": 24,
     "metadata": {},
     "output_type": "execute_result"
    }
   ],
   "source": [
    "s2.replace(\"a\",\"z\")"
   ]
  },
  {
   "cell_type": "code",
   "execution_count": 25,
   "id": "3863ba84",
   "metadata": {},
   "outputs": [
    {
     "data": {
      "text/plain": [
       "'Akshay\\tDaga'"
      ]
     },
     "execution_count": 25,
     "metadata": {},
     "output_type": "execute_result"
    }
   ],
   "source": [
    "s3 = \"Akshay\\tDaga\"\n",
    "s3"
   ]
  },
  {
   "cell_type": "code",
   "execution_count": 26,
   "id": "92b9fff1",
   "metadata": {},
   "outputs": [
    {
     "data": {
      "text/plain": [
       "'Akshay  Daga'"
      ]
     },
     "execution_count": 26,
     "metadata": {},
     "output_type": "execute_result"
    }
   ],
   "source": [
    "s3.expandtabs()"
   ]
  },
  {
   "cell_type": "code",
   "execution_count": 27,
   "id": "7310621c",
   "metadata": {},
   "outputs": [
    {
     "data": {
      "text/plain": [
       "' Akshay '"
      ]
     },
     "execution_count": 27,
     "metadata": {},
     "output_type": "execute_result"
    }
   ],
   "source": [
    "s4 = \" Akshay \"\n",
    "s4"
   ]
  },
  {
   "cell_type": "code",
   "execution_count": 28,
   "id": "e64ff149",
   "metadata": {},
   "outputs": [
    {
     "data": {
      "text/plain": [
       "'##################### Akshay #####################'"
      ]
     },
     "execution_count": 28,
     "metadata": {},
     "output_type": "execute_result"
    }
   ],
   "source": [
    "s4.center(50,'#')"
   ]
  },
  {
   "cell_type": "code",
   "execution_count": 30,
   "id": "22b59a4b",
   "metadata": {},
   "outputs": [
    {
     "data": {
      "text/plain": [
       "[' ', 'y', 'a', 'h', 's', 'k', 'A', ' ']"
      ]
     },
     "execution_count": 30,
     "metadata": {},
     "output_type": "execute_result"
    }
   ],
   "source": [
    "list(reversed(s4))"
   ]
  },
  {
   "cell_type": "code",
   "execution_count": 32,
   "id": "cb4270e1",
   "metadata": {},
   "outputs": [
    {
     "data": {
      "text/plain": [
       "' yahskA '"
      ]
     },
     "execution_count": 32,
     "metadata": {},
     "output_type": "execute_result"
    }
   ],
   "source": [
    "# Reversing the string\n",
    "s4[::-1]"
   ]
  },
  {
   "cell_type": "code",
   "execution_count": 35,
   "id": "13ca6e1e",
   "metadata": {},
   "outputs": [],
   "source": [
    "s1=\"Akshay\"\n",
    "s2=\"Daga\""
   ]
  },
  {
   "cell_type": "code",
   "execution_count": 36,
   "id": "97ada271",
   "metadata": {},
   "outputs": [
    {
     "data": {
      "text/plain": [
       "'DAkshayaAkshaygAkshaya'"
      ]
     },
     "execution_count": 36,
     "metadata": {},
     "output_type": "execute_result"
    }
   ],
   "source": [
    "s1.join(s2)"
   ]
  },
  {
   "cell_type": "code",
   "execution_count": 38,
   "id": "8b087892",
   "metadata": {},
   "outputs": [
    {
     "data": {
      "text/plain": [
       "'A k s h a y'"
      ]
     },
     "execution_count": 38,
     "metadata": {},
     "output_type": "execute_result"
    }
   ],
   "source": [
    "\" \".join(\"Akshay\")"
   ]
  },
  {
   "cell_type": "markdown",
   "id": "166c0dec",
   "metadata": {},
   "source": [
    "# boolen functions for string"
   ]
  },
  {
   "cell_type": "code",
   "execution_count": 39,
   "id": "661049ca",
   "metadata": {},
   "outputs": [
    {
     "data": {
      "text/plain": [
       "'I am Akshay Daga'"
      ]
     },
     "execution_count": 39,
     "metadata": {},
     "output_type": "execute_result"
    }
   ],
   "source": [
    "s = \"I am Akshay Daga\"\n",
    "s"
   ]
  },
  {
   "cell_type": "code",
   "execution_count": 40,
   "id": "d6edd0a8",
   "metadata": {},
   "outputs": [
    {
     "data": {
      "text/plain": [
       "False"
      ]
     },
     "execution_count": 40,
     "metadata": {},
     "output_type": "execute_result"
    }
   ],
   "source": [
    "s.islower()"
   ]
  },
  {
   "cell_type": "code",
   "execution_count": 41,
   "id": "f0c085ca",
   "metadata": {},
   "outputs": [
    {
     "data": {
      "text/plain": [
       "True"
      ]
     },
     "execution_count": 41,
     "metadata": {},
     "output_type": "execute_result"
    }
   ],
   "source": [
    "\"akshay daga\".islower()"
   ]
  },
  {
   "cell_type": "code",
   "execution_count": 42,
   "id": "69bad441",
   "metadata": {},
   "outputs": [
    {
     "data": {
      "text/plain": [
       "False"
      ]
     },
     "execution_count": 42,
     "metadata": {},
     "output_type": "execute_result"
    }
   ],
   "source": [
    "s.isupper()"
   ]
  },
  {
   "cell_type": "code",
   "execution_count": 43,
   "id": "eb9fa9df",
   "metadata": {},
   "outputs": [
    {
     "data": {
      "text/plain": [
       "False"
      ]
     },
     "execution_count": 43,
     "metadata": {},
     "output_type": "execute_result"
    }
   ],
   "source": [
    "s.istitle()"
   ]
  },
  {
   "cell_type": "code",
   "execution_count": 45,
   "id": "702bee63",
   "metadata": {},
   "outputs": [
    {
     "data": {
      "text/plain": [
       "True"
      ]
     },
     "execution_count": 45,
     "metadata": {},
     "output_type": "execute_result"
    }
   ],
   "source": [
    "'I Am Akshay Daga'.istitle()"
   ]
  },
  {
   "cell_type": "code",
   "execution_count": 46,
   "id": "6a11b74b",
   "metadata": {},
   "outputs": [
    {
     "data": {
      "text/plain": [
       "False"
      ]
     },
     "execution_count": 46,
     "metadata": {},
     "output_type": "execute_result"
    }
   ],
   "source": [
    "s.isdigit()"
   ]
  },
  {
   "cell_type": "code",
   "execution_count": 47,
   "id": "2579a069",
   "metadata": {},
   "outputs": [
    {
     "data": {
      "text/plain": [
       "True"
      ]
     },
     "execution_count": 47,
     "metadata": {},
     "output_type": "execute_result"
    }
   ],
   "source": [
    "\"345\".isdigit()"
   ]
  },
  {
   "cell_type": "code",
   "execution_count": 48,
   "id": "2020ad4f",
   "metadata": {},
   "outputs": [
    {
     "data": {
      "text/plain": [
       "False"
      ]
     },
     "execution_count": 48,
     "metadata": {},
     "output_type": "execute_result"
    }
   ],
   "source": [
    "\"Akshay25\".isdigit()"
   ]
  },
  {
   "cell_type": "code",
   "execution_count": 49,
   "id": "7ea3539d",
   "metadata": {},
   "outputs": [
    {
     "data": {
      "text/plain": [
       "False"
      ]
     },
     "execution_count": 49,
     "metadata": {},
     "output_type": "execute_result"
    }
   ],
   "source": [
    "\"23.5\".isdigit()"
   ]
  },
  {
   "cell_type": "code",
   "execution_count": 50,
   "id": "0a9e54da",
   "metadata": {},
   "outputs": [
    {
     "data": {
      "text/plain": [
       "False"
      ]
     },
     "execution_count": 50,
     "metadata": {},
     "output_type": "execute_result"
    }
   ],
   "source": [
    "\"23.5\".isdecimal()"
   ]
  },
  {
   "cell_type": "code",
   "execution_count": 51,
   "id": "3c74c0d8",
   "metadata": {},
   "outputs": [
    {
     "data": {
      "text/plain": [
       "False"
      ]
     },
     "execution_count": 51,
     "metadata": {},
     "output_type": "execute_result"
    }
   ],
   "source": [
    "s.isdecimal()"
   ]
  },
  {
   "cell_type": "code",
   "execution_count": 52,
   "id": "55e60855",
   "metadata": {},
   "outputs": [
    {
     "data": {
      "text/plain": [
       "'I am Akshay Daga'"
      ]
     },
     "execution_count": 52,
     "metadata": {},
     "output_type": "execute_result"
    }
   ],
   "source": [
    "s"
   ]
  },
  {
   "cell_type": "code",
   "execution_count": 53,
   "id": "be33040b",
   "metadata": {},
   "outputs": [
    {
     "data": {
      "text/plain": [
       "True"
      ]
     },
     "execution_count": 53,
     "metadata": {},
     "output_type": "execute_result"
    }
   ],
   "source": [
    "s.startswith(\"I\")"
   ]
  },
  {
   "cell_type": "code",
   "execution_count": 54,
   "id": "87862551",
   "metadata": {},
   "outputs": [
    {
     "data": {
      "text/plain": [
       "False"
      ]
     },
     "execution_count": 54,
     "metadata": {},
     "output_type": "execute_result"
    }
   ],
   "source": [
    "s.startswith(\"A\")"
   ]
  },
  {
   "cell_type": "code",
   "execution_count": 55,
   "id": "1a88d16b",
   "metadata": {},
   "outputs": [
    {
     "data": {
      "text/plain": [
       "False"
      ]
     },
     "execution_count": 55,
     "metadata": {},
     "output_type": "execute_result"
    }
   ],
   "source": [
    "s.endswith(\"z\")"
   ]
  },
  {
   "cell_type": "code",
   "execution_count": 56,
   "id": "1a3a7b31",
   "metadata": {},
   "outputs": [
    {
     "data": {
      "text/plain": [
       "True"
      ]
     },
     "execution_count": 56,
     "metadata": {},
     "output_type": "execute_result"
    }
   ],
   "source": [
    "s.endswith(\"a\")"
   ]
  },
  {
   "cell_type": "markdown",
   "id": "4e3bb18e",
   "metadata": {},
   "source": [
    "# Advance Data Types in Python"
   ]
  },
  {
   "cell_type": "markdown",
   "id": "a3388559",
   "metadata": {},
   "source": [
    "# List"
   ]
  },
  {
   "cell_type": "code",
   "execution_count": 57,
   "id": "ac529a87",
   "metadata": {},
   "outputs": [],
   "source": [
    "# List is collection hetrogeneous data type"
   ]
  },
  {
   "cell_type": "code",
   "execution_count": 58,
   "id": "14e3d6f5",
   "metadata": {},
   "outputs": [],
   "source": [
    "# list -> []"
   ]
  },
  {
   "cell_type": "code",
   "execution_count": 59,
   "id": "d3488a2f",
   "metadata": {},
   "outputs": [
    {
     "data": {
      "text/plain": [
       "[3, 45.2, True, 'Akshay', (3+4j)]"
      ]
     },
     "execution_count": 59,
     "metadata": {},
     "output_type": "execute_result"
    }
   ],
   "source": [
    "l = [3,45.2,True,\"Akshay\",3+4j]\n",
    "l"
   ]
  },
  {
   "cell_type": "code",
   "execution_count": 60,
   "id": "bad9a998",
   "metadata": {},
   "outputs": [
    {
     "data": {
      "text/plain": [
       "list"
      ]
     },
     "execution_count": 60,
     "metadata": {},
     "output_type": "execute_result"
    }
   ],
   "source": [
    "type(l)"
   ]
  },
  {
   "cell_type": "code",
   "execution_count": 61,
   "id": "38ecfd18",
   "metadata": {},
   "outputs": [
    {
     "data": {
      "text/plain": [
       "3"
      ]
     },
     "execution_count": 61,
     "metadata": {},
     "output_type": "execute_result"
    }
   ],
   "source": [
    "l[0]"
   ]
  },
  {
   "cell_type": "code",
   "execution_count": 62,
   "id": "2dcc2240",
   "metadata": {},
   "outputs": [
    {
     "data": {
      "text/plain": [
       "45.2"
      ]
     },
     "execution_count": 62,
     "metadata": {},
     "output_type": "execute_result"
    }
   ],
   "source": [
    "l[1]"
   ]
  },
  {
   "cell_type": "code",
   "execution_count": 63,
   "id": "0eee2288",
   "metadata": {},
   "outputs": [
    {
     "data": {
      "text/plain": [
       "True"
      ]
     },
     "execution_count": 63,
     "metadata": {},
     "output_type": "execute_result"
    }
   ],
   "source": [
    "l[2]"
   ]
  },
  {
   "cell_type": "code",
   "execution_count": 64,
   "id": "3090350b",
   "metadata": {},
   "outputs": [
    {
     "data": {
      "text/plain": [
       "'Akshay'"
      ]
     },
     "execution_count": 64,
     "metadata": {},
     "output_type": "execute_result"
    }
   ],
   "source": [
    "l[3]"
   ]
  },
  {
   "cell_type": "code",
   "execution_count": 65,
   "id": "063a3766",
   "metadata": {},
   "outputs": [
    {
     "data": {
      "text/plain": [
       "(3+4j)"
      ]
     },
     "execution_count": 65,
     "metadata": {},
     "output_type": "execute_result"
    }
   ],
   "source": [
    "l[4]"
   ]
  },
  {
   "cell_type": "code",
   "execution_count": 66,
   "id": "8ef3e8b5",
   "metadata": {},
   "outputs": [
    {
     "ename": "IndexError",
     "evalue": "list index out of range",
     "output_type": "error",
     "traceback": [
      "\u001b[1;31m---------------------------------------------------------------------------\u001b[0m",
      "\u001b[1;31mIndexError\u001b[0m                                Traceback (most recent call last)",
      "\u001b[1;32m<ipython-input-66-ac77afa80101>\u001b[0m in \u001b[0;36m<module>\u001b[1;34m\u001b[0m\n\u001b[1;32m----> 1\u001b[1;33m \u001b[0ml\u001b[0m\u001b[1;33m[\u001b[0m\u001b[1;36m5\u001b[0m\u001b[1;33m]\u001b[0m\u001b[1;33m\u001b[0m\u001b[1;33m\u001b[0m\u001b[0m\n\u001b[0m",
      "\u001b[1;31mIndexError\u001b[0m: list index out of range"
     ]
    }
   ],
   "source": [
    "l[5]"
   ]
  },
  {
   "cell_type": "code",
   "execution_count": 67,
   "id": "c6b0fb7e",
   "metadata": {},
   "outputs": [
    {
     "name": "stdout",
     "output_type": "stream",
     "text": [
      "(3+4j)\n",
      "Akshay\n",
      "True\n",
      "45.2\n",
      "3\n"
     ]
    }
   ],
   "source": [
    "print(l[-1])\n",
    "print(l[-2])\n",
    "print(l[-3])\n",
    "print(l[-4])\n",
    "print(l[-5])"
   ]
  },
  {
   "cell_type": "code",
   "execution_count": 68,
   "id": "94220eda",
   "metadata": {},
   "outputs": [
    {
     "ename": "IndexError",
     "evalue": "list index out of range",
     "output_type": "error",
     "traceback": [
      "\u001b[1;31m---------------------------------------------------------------------------\u001b[0m",
      "\u001b[1;31mIndexError\u001b[0m                                Traceback (most recent call last)",
      "\u001b[1;32m<ipython-input-68-48deaa351805>\u001b[0m in \u001b[0;36m<module>\u001b[1;34m\u001b[0m\n\u001b[1;32m----> 1\u001b[1;33m \u001b[0ml\u001b[0m\u001b[1;33m[\u001b[0m\u001b[1;33m-\u001b[0m\u001b[1;36m6\u001b[0m\u001b[1;33m]\u001b[0m\u001b[1;33m\u001b[0m\u001b[1;33m\u001b[0m\u001b[0m\n\u001b[0m",
      "\u001b[1;31mIndexError\u001b[0m: list index out of range"
     ]
    }
   ],
   "source": [
    "l[-6]"
   ]
  },
  {
   "cell_type": "code",
   "execution_count": 69,
   "id": "7743079b",
   "metadata": {},
   "outputs": [
    {
     "data": {
      "text/plain": [
       "[3, 45.2, True, 'Akshay']"
      ]
     },
     "execution_count": 69,
     "metadata": {},
     "output_type": "execute_result"
    }
   ],
   "source": [
    "l[0:4]"
   ]
  },
  {
   "cell_type": "code",
   "execution_count": 70,
   "id": "01fab99e",
   "metadata": {},
   "outputs": [
    {
     "data": {
      "text/plain": [
       "[(3+4j), 'Akshay', True, 45.2, 3]"
      ]
     },
     "execution_count": 70,
     "metadata": {},
     "output_type": "execute_result"
    }
   ],
   "source": [
    "l[::-1]"
   ]
  },
  {
   "cell_type": "code",
   "execution_count": 71,
   "id": "65750d7e",
   "metadata": {},
   "outputs": [],
   "source": [
    "# list is editable: List is Mutable in nature"
   ]
  },
  {
   "cell_type": "code",
   "execution_count": 72,
   "id": "d3a80819",
   "metadata": {},
   "outputs": [
    {
     "data": {
      "text/plain": [
       "[3, 45.2, True, 'Akshay', (3+4j)]"
      ]
     },
     "execution_count": 72,
     "metadata": {},
     "output_type": "execute_result"
    }
   ],
   "source": [
    "l"
   ]
  },
  {
   "cell_type": "code",
   "execution_count": 74,
   "id": "1cae51e1",
   "metadata": {},
   "outputs": [],
   "source": [
    "l[3] = \"Daga\""
   ]
  },
  {
   "cell_type": "code",
   "execution_count": 75,
   "id": "81f6f71b",
   "metadata": {},
   "outputs": [
    {
     "data": {
      "text/plain": [
       "[3, 45.2, True, 'Daga', (3+4j)]"
      ]
     },
     "execution_count": 75,
     "metadata": {},
     "output_type": "execute_result"
    }
   ],
   "source": [
    "l"
   ]
  },
  {
   "cell_type": "code",
   "execution_count": 77,
   "id": "2a82f111",
   "metadata": {},
   "outputs": [],
   "source": [
    "l[1] = \"apdaga\""
   ]
  },
  {
   "cell_type": "code",
   "execution_count": 78,
   "id": "13df91c4",
   "metadata": {},
   "outputs": [
    {
     "data": {
      "text/plain": [
       "[3, 'apdaga', True, 'Daga', (3+4j)]"
      ]
     },
     "execution_count": 78,
     "metadata": {},
     "output_type": "execute_result"
    }
   ],
   "source": [
    "l"
   ]
  },
  {
   "cell_type": "code",
   "execution_count": 79,
   "id": "03cf43e4",
   "metadata": {},
   "outputs": [],
   "source": [
    "s = \"I am Akshay\""
   ]
  },
  {
   "cell_type": "code",
   "execution_count": 81,
   "id": "0ee7189f",
   "metadata": {},
   "outputs": [
    {
     "ename": "TypeError",
     "evalue": "'str' object does not support item assignment",
     "output_type": "error",
     "traceback": [
      "\u001b[1;31m---------------------------------------------------------------------------\u001b[0m",
      "\u001b[1;31mTypeError\u001b[0m                                 Traceback (most recent call last)",
      "\u001b[1;32m<ipython-input-81-0129a4022247>\u001b[0m in \u001b[0;36m<module>\u001b[1;34m\u001b[0m\n\u001b[1;32m----> 1\u001b[1;33m \u001b[0ms\u001b[0m\u001b[1;33m[\u001b[0m\u001b[1;36m5\u001b[0m\u001b[1;33m]\u001b[0m \u001b[1;33m=\u001b[0m \u001b[1;34m\"Z\"\u001b[0m\u001b[1;33m\u001b[0m\u001b[1;33m\u001b[0m\u001b[0m\n\u001b[0m",
      "\u001b[1;31mTypeError\u001b[0m: 'str' object does not support item assignment"
     ]
    }
   ],
   "source": [
    "s[5] = \"Z\""
   ]
  },
  {
   "cell_type": "code",
   "execution_count": 82,
   "id": "65dc3970",
   "metadata": {},
   "outputs": [],
   "source": [
    "# String is immutable in nature"
   ]
  },
  {
   "cell_type": "code",
   "execution_count": 83,
   "id": "d67581cb",
   "metadata": {},
   "outputs": [
    {
     "data": {
      "text/plain": [
       "[3, 'apdaga', True, 'Daga', (3+4j)]"
      ]
     },
     "execution_count": 83,
     "metadata": {},
     "output_type": "execute_result"
    }
   ],
   "source": [
    "l"
   ]
  },
  {
   "cell_type": "code",
   "execution_count": 84,
   "id": "c46aeff9",
   "metadata": {},
   "outputs": [
    {
     "data": {
      "text/plain": [
       "'Daga'"
      ]
     },
     "execution_count": 84,
     "metadata": {},
     "output_type": "execute_result"
    }
   ],
   "source": [
    "l[3]"
   ]
  },
  {
   "cell_type": "code",
   "execution_count": 85,
   "id": "a7d01da7",
   "metadata": {},
   "outputs": [
    {
     "data": {
      "text/plain": [
       "'D'"
      ]
     },
     "execution_count": 85,
     "metadata": {},
     "output_type": "execute_result"
    }
   ],
   "source": [
    "l[3][0]"
   ]
  },
  {
   "cell_type": "code",
   "execution_count": 86,
   "id": "9cd7b8bf",
   "metadata": {},
   "outputs": [
    {
     "ename": "TypeError",
     "evalue": "'str' object does not support item assignment",
     "output_type": "error",
     "traceback": [
      "\u001b[1;31m---------------------------------------------------------------------------\u001b[0m",
      "\u001b[1;31mTypeError\u001b[0m                                 Traceback (most recent call last)",
      "\u001b[1;32m<ipython-input-86-0e4fb20f409e>\u001b[0m in \u001b[0;36m<module>\u001b[1;34m\u001b[0m\n\u001b[1;32m----> 1\u001b[1;33m \u001b[0ml\u001b[0m\u001b[1;33m[\u001b[0m\u001b[1;36m3\u001b[0m\u001b[1;33m]\u001b[0m\u001b[1;33m[\u001b[0m\u001b[1;36m0\u001b[0m\u001b[1;33m]\u001b[0m \u001b[1;33m=\u001b[0m \u001b[1;34m\"A\"\u001b[0m\u001b[1;33m\u001b[0m\u001b[1;33m\u001b[0m\u001b[0m\n\u001b[0m",
      "\u001b[1;31mTypeError\u001b[0m: 'str' object does not support item assignment"
     ]
    }
   ],
   "source": [
    "l[3][0] = \"A\""
   ]
  },
  {
   "cell_type": "code",
   "execution_count": 87,
   "id": "fa4a49b5",
   "metadata": {},
   "outputs": [
    {
     "data": {
      "text/plain": [
       "str"
      ]
     },
     "execution_count": 87,
     "metadata": {},
     "output_type": "execute_result"
    }
   ],
   "source": [
    "type(l[3])"
   ]
  },
  {
   "cell_type": "code",
   "execution_count": 88,
   "id": "afb962de",
   "metadata": {},
   "outputs": [
    {
     "data": {
      "text/plain": [
       "str"
      ]
     },
     "execution_count": 88,
     "metadata": {},
     "output_type": "execute_result"
    }
   ],
   "source": [
    "type(l[3][0])"
   ]
  },
  {
   "cell_type": "code",
   "execution_count": 91,
   "id": "81629306",
   "metadata": {},
   "outputs": [
    {
     "data": {
      "text/plain": [
       "complex"
      ]
     },
     "execution_count": 91,
     "metadata": {},
     "output_type": "execute_result"
    }
   ],
   "source": [
    "type(l[4])"
   ]
  },
  {
   "cell_type": "code",
   "execution_count": 92,
   "id": "02349bee",
   "metadata": {},
   "outputs": [
    {
     "data": {
      "text/plain": [
       "(3+4j)"
      ]
     },
     "execution_count": 92,
     "metadata": {},
     "output_type": "execute_result"
    }
   ],
   "source": [
    "l[4]"
   ]
  },
  {
   "cell_type": "code",
   "execution_count": 93,
   "id": "a7552caa",
   "metadata": {},
   "outputs": [],
   "source": [
    "l[4] = 67.3"
   ]
  },
  {
   "cell_type": "code",
   "execution_count": 94,
   "id": "e309b6f2",
   "metadata": {},
   "outputs": [
    {
     "data": {
      "text/plain": [
       "[3, 'apdaga', True, 'Daga', 67.3]"
      ]
     },
     "execution_count": 94,
     "metadata": {},
     "output_type": "execute_result"
    }
   ],
   "source": [
    "l"
   ]
  },
  {
   "cell_type": "code",
   "execution_count": 95,
   "id": "158e0472",
   "metadata": {},
   "outputs": [],
   "source": [
    "l1 = [1,2,3,4,5]\n",
    "l2 = [6,7,8]"
   ]
  },
  {
   "cell_type": "code",
   "execution_count": 96,
   "id": "fd785d0f",
   "metadata": {},
   "outputs": [
    {
     "data": {
      "text/plain": [
       "[1, 2, 3, 4, 5, 6, 7, 8]"
      ]
     },
     "execution_count": 96,
     "metadata": {},
     "output_type": "execute_result"
    }
   ],
   "source": [
    "l1 + l2 # concatination operation"
   ]
  },
  {
   "cell_type": "code",
   "execution_count": 97,
   "id": "50a4cc37",
   "metadata": {},
   "outputs": [
    {
     "data": {
      "text/plain": [
       "15"
      ]
     },
     "execution_count": 97,
     "metadata": {},
     "output_type": "execute_result"
    }
   ],
   "source": [
    "sum(l1)"
   ]
  },
  {
   "cell_type": "code",
   "execution_count": 99,
   "id": "2d7a1772",
   "metadata": {},
   "outputs": [
    {
     "data": {
      "text/plain": [
       "36"
      ]
     },
     "execution_count": 99,
     "metadata": {},
     "output_type": "execute_result"
    }
   ],
   "source": [
    "sum(l1+l2)"
   ]
  },
  {
   "cell_type": "code",
   "execution_count": 100,
   "id": "e592d02e",
   "metadata": {},
   "outputs": [
    {
     "data": {
      "text/plain": [
       "[1, 2, 3, 4, 5]"
      ]
     },
     "execution_count": 100,
     "metadata": {},
     "output_type": "execute_result"
    }
   ],
   "source": [
    "l1"
   ]
  },
  {
   "cell_type": "code",
   "execution_count": 102,
   "id": "740afadd",
   "metadata": {},
   "outputs": [
    {
     "data": {
      "text/plain": [
       "[1, 2, 3, 4, 5, 1, 2, 3, 4, 5]"
      ]
     },
     "execution_count": 102,
     "metadata": {},
     "output_type": "execute_result"
    }
   ],
   "source": [
    "l1 * 2 # replication operation"
   ]
  },
  {
   "cell_type": "code",
   "execution_count": 103,
   "id": "da685be0",
   "metadata": {},
   "outputs": [
    {
     "ename": "TypeError",
     "evalue": "can only concatenate list (not \"int\") to list",
     "output_type": "error",
     "traceback": [
      "\u001b[1;31m---------------------------------------------------------------------------\u001b[0m",
      "\u001b[1;31mTypeError\u001b[0m                                 Traceback (most recent call last)",
      "\u001b[1;32m<ipython-input-103-f165e38b6f2a>\u001b[0m in \u001b[0;36m<module>\u001b[1;34m\u001b[0m\n\u001b[1;32m----> 1\u001b[1;33m \u001b[0ml1\u001b[0m \u001b[1;33m+\u001b[0m \u001b[1;36m5\u001b[0m\u001b[1;33m\u001b[0m\u001b[1;33m\u001b[0m\u001b[0m\n\u001b[0m",
      "\u001b[1;31mTypeError\u001b[0m: can only concatenate list (not \"int\") to list"
     ]
    }
   ],
   "source": [
    "l1 + 5"
   ]
  },
  {
   "cell_type": "code",
   "execution_count": 104,
   "id": "7ad0ab6c",
   "metadata": {},
   "outputs": [
    {
     "data": {
      "text/plain": [
       "[1, 2, 3, 4, 5, 5]"
      ]
     },
     "execution_count": 104,
     "metadata": {},
     "output_type": "execute_result"
    }
   ],
   "source": [
    "l1 + [5]"
   ]
  },
  {
   "cell_type": "code",
   "execution_count": 105,
   "id": "c049b3ac",
   "metadata": {},
   "outputs": [
    {
     "ename": "TypeError",
     "evalue": "can only concatenate list (not \"str\") to list",
     "output_type": "error",
     "traceback": [
      "\u001b[1;31m---------------------------------------------------------------------------\u001b[0m",
      "\u001b[1;31mTypeError\u001b[0m                                 Traceback (most recent call last)",
      "\u001b[1;32m<ipython-input-105-4c4282842003>\u001b[0m in \u001b[0;36m<module>\u001b[1;34m\u001b[0m\n\u001b[1;32m----> 1\u001b[1;33m \u001b[0ml1\u001b[0m \u001b[1;33m+\u001b[0m \u001b[1;34m\"Akshay\"\u001b[0m\u001b[1;33m\u001b[0m\u001b[1;33m\u001b[0m\u001b[0m\n\u001b[0m",
      "\u001b[1;31mTypeError\u001b[0m: can only concatenate list (not \"str\") to list"
     ]
    }
   ],
   "source": [
    "l1 + \"Akshay\""
   ]
  },
  {
   "cell_type": "code",
   "execution_count": 106,
   "id": "128aaf4e",
   "metadata": {},
   "outputs": [
    {
     "data": {
      "text/plain": [
       "[1, 2, 3, 4, 5, 'Akshay']"
      ]
     },
     "execution_count": 106,
     "metadata": {},
     "output_type": "execute_result"
    }
   ],
   "source": [
    "l1 + [\"Akshay\"]"
   ]
  },
  {
   "cell_type": "code",
   "execution_count": 107,
   "id": "9a41c13b",
   "metadata": {},
   "outputs": [
    {
     "data": {
      "text/plain": [
       "['A', 'k', 's', 'h', 'a', 'y']"
      ]
     },
     "execution_count": 107,
     "metadata": {},
     "output_type": "execute_result"
    }
   ],
   "source": [
    "list(\"Akshay\")"
   ]
  },
  {
   "cell_type": "code",
   "execution_count": 108,
   "id": "a38a4b78",
   "metadata": {},
   "outputs": [
    {
     "data": {
      "text/plain": [
       "[1, 2, 3, 4, 5, 'A', 'k', 's', 'h', 'a', 'y']"
      ]
     },
     "execution_count": 108,
     "metadata": {},
     "output_type": "execute_result"
    }
   ],
   "source": [
    "l1 + list(\"Akshay\")"
   ]
  },
  {
   "cell_type": "code",
   "execution_count": null,
   "id": "55dfaa69",
   "metadata": {},
   "outputs": [],
   "source": []
  }
 ],
 "metadata": {
  "kernelspec": {
   "display_name": "Python 3",
   "language": "python",
   "name": "python3"
  },
  "language_info": {
   "codemirror_mode": {
    "name": "ipython",
    "version": 3
   },
   "file_extension": ".py",
   "mimetype": "text/x-python",
   "name": "python",
   "nbconvert_exporter": "python",
   "pygments_lexer": "ipython3",
   "version": "3.8.8"
  }
 },
 "nbformat": 4,
 "nbformat_minor": 5
}
