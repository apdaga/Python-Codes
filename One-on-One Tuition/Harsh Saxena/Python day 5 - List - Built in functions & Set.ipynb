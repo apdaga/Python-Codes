{
 "cells": [
  {
   "cell_type": "markdown",
   "id": "e1e29dae",
   "metadata": {},
   "source": [
    "# List built-in functions"
   ]
  },
  {
   "cell_type": "code",
   "execution_count": 1,
   "id": "71f5d17f",
   "metadata": {},
   "outputs": [
    {
     "data": {
      "text/plain": [
       "[1, 23.4, True, (4+6j), 'Akshay']"
      ]
     },
     "execution_count": 1,
     "metadata": {},
     "output_type": "execute_result"
    }
   ],
   "source": [
    "l1 = [1,23.4,True, 4+6j, \"Akshay\"]\n",
    "l1"
   ]
  },
  {
   "cell_type": "code",
   "execution_count": 2,
   "id": "bbd678fd",
   "metadata": {},
   "outputs": [
    {
     "data": {
      "text/plain": [
       "5"
      ]
     },
     "execution_count": 2,
     "metadata": {},
     "output_type": "execute_result"
    }
   ],
   "source": [
    "len(l1)"
   ]
  },
  {
   "cell_type": "code",
   "execution_count": 3,
   "id": "f8968af6",
   "metadata": {},
   "outputs": [
    {
     "data": {
      "text/plain": [
       "True"
      ]
     },
     "execution_count": 3,
     "metadata": {},
     "output_type": "execute_result"
    }
   ],
   "source": [
    "'Akshay' in l1"
   ]
  },
  {
   "cell_type": "code",
   "execution_count": 4,
   "id": "73a6a67a",
   "metadata": {},
   "outputs": [
    {
     "data": {
      "text/plain": [
       "True"
      ]
     },
     "execution_count": 4,
     "metadata": {},
     "output_type": "execute_result"
    }
   ],
   "source": [
    "23.4 in l1"
   ]
  },
  {
   "cell_type": "code",
   "execution_count": 5,
   "id": "8d884f77",
   "metadata": {},
   "outputs": [
    {
     "data": {
      "text/plain": [
       "False"
      ]
     },
     "execution_count": 5,
     "metadata": {},
     "output_type": "execute_result"
    }
   ],
   "source": [
    "'zzz' in l1"
   ]
  },
  {
   "cell_type": "code",
   "execution_count": 6,
   "id": "b85d592e",
   "metadata": {},
   "outputs": [],
   "source": [
    "# editable -> add new element, remove element"
   ]
  },
  {
   "cell_type": "code",
   "execution_count": 7,
   "id": "5c26db83",
   "metadata": {},
   "outputs": [],
   "source": [
    "l1.append('Daga')"
   ]
  },
  {
   "cell_type": "code",
   "execution_count": 8,
   "id": "1c60259c",
   "metadata": {},
   "outputs": [
    {
     "data": {
      "text/plain": [
       "[1, 23.4, True, (4+6j), 'Akshay', 'Daga']"
      ]
     },
     "execution_count": 8,
     "metadata": {},
     "output_type": "execute_result"
    }
   ],
   "source": [
    "l1"
   ]
  },
  {
   "cell_type": "code",
   "execution_count": 9,
   "id": "c6dffc70",
   "metadata": {},
   "outputs": [
    {
     "data": {
      "text/plain": [
       "[1, 23.4, True, (4+6j), 'Akshay', 'Daga', [1, 2, 3]]"
      ]
     },
     "execution_count": 9,
     "metadata": {},
     "output_type": "execute_result"
    }
   ],
   "source": [
    "l1.append([1,2,3])\n",
    "l1"
   ]
  },
  {
   "cell_type": "code",
   "execution_count": 10,
   "id": "1a6d0bd7",
   "metadata": {},
   "outputs": [
    {
     "data": {
      "text/plain": [
       "[1, 23.4, True, 321, (4+6j), 'Akshay', 'Daga', [1, 2, 3]]"
      ]
     },
     "execution_count": 10,
     "metadata": {},
     "output_type": "execute_result"
    }
   ],
   "source": [
    "l1.insert(3, 321)\n",
    "l1"
   ]
  },
  {
   "cell_type": "code",
   "execution_count": 11,
   "id": "8d3f3e4e",
   "metadata": {},
   "outputs": [
    {
     "data": {
      "text/plain": [
       "[1, 2, 3]"
      ]
     },
     "execution_count": 11,
     "metadata": {},
     "output_type": "execute_result"
    }
   ],
   "source": [
    "l1.pop()"
   ]
  },
  {
   "cell_type": "code",
   "execution_count": 12,
   "id": "3c6a28c5",
   "metadata": {},
   "outputs": [
    {
     "data": {
      "text/plain": [
       "[1, 23.4, True, 321, (4+6j), 'Akshay', 'Daga']"
      ]
     },
     "execution_count": 12,
     "metadata": {},
     "output_type": "execute_result"
    }
   ],
   "source": [
    "l1"
   ]
  },
  {
   "cell_type": "code",
   "execution_count": 13,
   "id": "85f1892a",
   "metadata": {},
   "outputs": [
    {
     "data": {
      "text/plain": [
       "321"
      ]
     },
     "execution_count": 13,
     "metadata": {},
     "output_type": "execute_result"
    }
   ],
   "source": [
    "l1.pop(3)"
   ]
  },
  {
   "cell_type": "code",
   "execution_count": 14,
   "id": "72278203",
   "metadata": {},
   "outputs": [
    {
     "data": {
      "text/plain": [
       "[1, 23.4, True, (4+6j), 'Akshay', 'Daga']"
      ]
     },
     "execution_count": 14,
     "metadata": {},
     "output_type": "execute_result"
    }
   ],
   "source": [
    "l1"
   ]
  },
  {
   "cell_type": "code",
   "execution_count": 15,
   "id": "b1a64d48",
   "metadata": {},
   "outputs": [
    {
     "data": {
      "text/plain": [
       "[1, 23.4, True, (4+6j), 'Akshay', 'Daga']"
      ]
     },
     "execution_count": 15,
     "metadata": {},
     "output_type": "execute_result"
    }
   ],
   "source": [
    "l1"
   ]
  },
  {
   "cell_type": "code",
   "execution_count": 16,
   "id": "9524b7d8",
   "metadata": {},
   "outputs": [
    {
     "data": {
      "text/plain": [
       "[1, 23.4, True, (4+6j), 'Akshay', 'Daga', 1, 2, 3, 4]"
      ]
     },
     "execution_count": 16,
     "metadata": {},
     "output_type": "execute_result"
    }
   ],
   "source": [
    "l1 + [1,2,3,4]"
   ]
  },
  {
   "cell_type": "code",
   "execution_count": 17,
   "id": "e24e2b43",
   "metadata": {},
   "outputs": [
    {
     "data": {
      "text/plain": [
       "['Daga', 'Akshay', (4+6j), True, 23.4, 1]"
      ]
     },
     "execution_count": 17,
     "metadata": {},
     "output_type": "execute_result"
    }
   ],
   "source": [
    "l1[::-1]"
   ]
  },
  {
   "cell_type": "code",
   "execution_count": 18,
   "id": "2c3baf45",
   "metadata": {},
   "outputs": [
    {
     "data": {
      "text/plain": [
       "[1, 23.4, True, (4+6j), 'Akshay', 'Daga']"
      ]
     },
     "execution_count": 18,
     "metadata": {},
     "output_type": "execute_result"
    }
   ],
   "source": [
    "l1"
   ]
  },
  {
   "cell_type": "code",
   "execution_count": 19,
   "id": "2800598e",
   "metadata": {},
   "outputs": [],
   "source": [
    "l1.reverse()"
   ]
  },
  {
   "cell_type": "code",
   "execution_count": 20,
   "id": "8bc33187",
   "metadata": {},
   "outputs": [
    {
     "data": {
      "text/plain": [
       "['Daga', 'Akshay', (4+6j), True, 23.4, 1]"
      ]
     },
     "execution_count": 20,
     "metadata": {},
     "output_type": "execute_result"
    }
   ],
   "source": [
    "l1"
   ]
  },
  {
   "cell_type": "code",
   "execution_count": 21,
   "id": "7d8cdf95",
   "metadata": {},
   "outputs": [],
   "source": [
    "l1 = l1[::-1]"
   ]
  },
  {
   "cell_type": "code",
   "execution_count": 22,
   "id": "d11eea87",
   "metadata": {},
   "outputs": [
    {
     "data": {
      "text/plain": [
       "[1, 23.4, True, (4+6j), 'Akshay', 'Daga']"
      ]
     },
     "execution_count": 22,
     "metadata": {},
     "output_type": "execute_result"
    }
   ],
   "source": [
    "l1"
   ]
  },
  {
   "cell_type": "code",
   "execution_count": 23,
   "id": "45d2e737",
   "metadata": {},
   "outputs": [
    {
     "data": {
      "text/plain": [
       "[1, 23.4, True, (4+6j), 'Akshay', 'Daga']"
      ]
     },
     "execution_count": 23,
     "metadata": {},
     "output_type": "execute_result"
    }
   ],
   "source": [
    "l1"
   ]
  },
  {
   "cell_type": "code",
   "execution_count": 24,
   "id": "600fe74e",
   "metadata": {},
   "outputs": [],
   "source": [
    "l1.append([1,2,3])"
   ]
  },
  {
   "cell_type": "code",
   "execution_count": 25,
   "id": "c72b9fca",
   "metadata": {},
   "outputs": [
    {
     "data": {
      "text/plain": [
       "[1, 23.4, True, (4+6j), 'Akshay', 'Daga', [1, 2, 3]]"
      ]
     },
     "execution_count": 25,
     "metadata": {},
     "output_type": "execute_result"
    }
   ],
   "source": [
    "l1"
   ]
  },
  {
   "cell_type": "code",
   "execution_count": 26,
   "id": "258dbe87",
   "metadata": {},
   "outputs": [
    {
     "data": {
      "text/plain": [
       "[1, 2, 3]"
      ]
     },
     "execution_count": 26,
     "metadata": {},
     "output_type": "execute_result"
    }
   ],
   "source": [
    "l1[-1]"
   ]
  },
  {
   "cell_type": "code",
   "execution_count": 27,
   "id": "dc68fef6",
   "metadata": {},
   "outputs": [
    {
     "data": {
      "text/plain": [
       "[1, 23.4, True, (4+6j), 'Akshay', 'Daga', [1, 2, 3], 'H', 'a', 'r', 's', 'h']"
      ]
     },
     "execution_count": 27,
     "metadata": {},
     "output_type": "execute_result"
    }
   ],
   "source": [
    "# iterable -> str, list, tuple\n",
    "\n",
    "l1.extend(\"Harsh\")\n",
    "l1"
   ]
  },
  {
   "cell_type": "code",
   "execution_count": 28,
   "id": "dc7343e6",
   "metadata": {},
   "outputs": [
    {
     "data": {
      "text/plain": [
       "[1,\n",
       " 23.4,\n",
       " True,\n",
       " (4+6j),\n",
       " 'Akshay',\n",
       " 'Daga',\n",
       " [1, 2, 3],\n",
       " 'H',\n",
       " 'a',\n",
       " 'r',\n",
       " 's',\n",
       " 'h',\n",
       " 4,\n",
       " 5,\n",
       " 6]"
      ]
     },
     "execution_count": 28,
     "metadata": {},
     "output_type": "execute_result"
    }
   ],
   "source": [
    "l1.extend([4,5,6])\n",
    "l1"
   ]
  },
  {
   "cell_type": "markdown",
   "id": "2e89127e",
   "metadata": {},
   "source": [
    "# Tuple"
   ]
  },
  {
   "cell_type": "code",
   "execution_count": 29,
   "id": "d21ad3d9",
   "metadata": {},
   "outputs": [],
   "source": [
    "# list -> []\n",
    "# Tuple -> ()"
   ]
  },
  {
   "cell_type": "code",
   "execution_count": 30,
   "id": "d95b5077",
   "metadata": {},
   "outputs": [],
   "source": [
    "# List is mutable (editable): can be edited after it is created\n",
    "# Tuple is immutable in nature (uneditable): can not be edited once it is created\n",
    "# String is also immuatable."
   ]
  },
  {
   "cell_type": "code",
   "execution_count": 31,
   "id": "fb227eb0",
   "metadata": {},
   "outputs": [],
   "source": [
    "s = \"Harsh Saxena\""
   ]
  },
  {
   "cell_type": "code",
   "execution_count": 32,
   "id": "02667b2c",
   "metadata": {},
   "outputs": [
    {
     "data": {
      "text/plain": [
       "'h'"
      ]
     },
     "execution_count": 32,
     "metadata": {},
     "output_type": "execute_result"
    }
   ],
   "source": [
    "s[4]"
   ]
  },
  {
   "cell_type": "code",
   "execution_count": 33,
   "id": "c1c5fa90",
   "metadata": {},
   "outputs": [
    {
     "ename": "TypeError",
     "evalue": "'str' object does not support item assignment",
     "output_type": "error",
     "traceback": [
      "\u001b[1;31m---------------------------------------------------------------------------\u001b[0m",
      "\u001b[1;31mTypeError\u001b[0m                                 Traceback (most recent call last)",
      "\u001b[1;32m<ipython-input-33-365bbc40b6a1>\u001b[0m in \u001b[0;36m<module>\u001b[1;34m\u001b[0m\n\u001b[1;32m----> 1\u001b[1;33m \u001b[0ms\u001b[0m\u001b[1;33m[\u001b[0m\u001b[1;36m4\u001b[0m\u001b[1;33m]\u001b[0m  \u001b[1;33m=\u001b[0m \u001b[1;34m'a'\u001b[0m\u001b[1;33m\u001b[0m\u001b[1;33m\u001b[0m\u001b[0m\n\u001b[0m",
      "\u001b[1;31mTypeError\u001b[0m: 'str' object does not support item assignment"
     ]
    }
   ],
   "source": [
    "s[4]  = 'a'"
   ]
  },
  {
   "cell_type": "code",
   "execution_count": 34,
   "id": "cf775ea7",
   "metadata": {},
   "outputs": [
    {
     "data": {
      "text/plain": [
       "(1, 23.4, True, (4+6j), 'Akshay')"
      ]
     },
     "execution_count": 34,
     "metadata": {},
     "output_type": "execute_result"
    }
   ],
   "source": [
    "t1 = (1,23.4,True, 4+6j, \"Akshay\")\n",
    "t1"
   ]
  },
  {
   "cell_type": "code",
   "execution_count": 35,
   "id": "7c79c754",
   "metadata": {},
   "outputs": [
    {
     "data": {
      "text/plain": [
       "5"
      ]
     },
     "execution_count": 35,
     "metadata": {},
     "output_type": "execute_result"
    }
   ],
   "source": [
    "len(t1)"
   ]
  },
  {
   "cell_type": "code",
   "execution_count": 36,
   "id": "f2a55e6e",
   "metadata": {},
   "outputs": [
    {
     "data": {
      "text/plain": [
       "23.4"
      ]
     },
     "execution_count": 36,
     "metadata": {},
     "output_type": "execute_result"
    }
   ],
   "source": [
    "t1[1]"
   ]
  },
  {
   "cell_type": "code",
   "execution_count": 37,
   "id": "36388074",
   "metadata": {},
   "outputs": [
    {
     "data": {
      "text/plain": [
       "('Akshay', (4+6j), True, 23.4, 1)"
      ]
     },
     "execution_count": 37,
     "metadata": {},
     "output_type": "execute_result"
    }
   ],
   "source": [
    "t1[::-1]"
   ]
  },
  {
   "cell_type": "code",
   "execution_count": 38,
   "id": "c31705c9",
   "metadata": {},
   "outputs": [
    {
     "ename": "TypeError",
     "evalue": "'tuple' object does not support item assignment",
     "output_type": "error",
     "traceback": [
      "\u001b[1;31m---------------------------------------------------------------------------\u001b[0m",
      "\u001b[1;31mTypeError\u001b[0m                                 Traceback (most recent call last)",
      "\u001b[1;32m<ipython-input-38-848ca94d2d3b>\u001b[0m in \u001b[0;36m<module>\u001b[1;34m\u001b[0m\n\u001b[1;32m----> 1\u001b[1;33m \u001b[0mt1\u001b[0m\u001b[1;33m[\u001b[0m\u001b[1;36m1\u001b[0m\u001b[1;33m]\u001b[0m \u001b[1;33m=\u001b[0m \u001b[1;36m12.3\u001b[0m\u001b[1;33m\u001b[0m\u001b[1;33m\u001b[0m\u001b[0m\n\u001b[0m",
      "\u001b[1;31mTypeError\u001b[0m: 'tuple' object does not support item assignment"
     ]
    }
   ],
   "source": [
    "t1[1] = 12.3"
   ]
  },
  {
   "cell_type": "code",
   "execution_count": 39,
   "id": "a666aa6b",
   "metadata": {},
   "outputs": [
    {
     "ename": "AttributeError",
     "evalue": "'tuple' object has no attribute 'append'",
     "output_type": "error",
     "traceback": [
      "\u001b[1;31m---------------------------------------------------------------------------\u001b[0m",
      "\u001b[1;31mAttributeError\u001b[0m                            Traceback (most recent call last)",
      "\u001b[1;32m<ipython-input-39-9cae759b2af6>\u001b[0m in \u001b[0;36m<module>\u001b[1;34m\u001b[0m\n\u001b[1;32m----> 1\u001b[1;33m \u001b[0mt1\u001b[0m\u001b[1;33m.\u001b[0m\u001b[0mappend\u001b[0m\u001b[1;33m(\u001b[0m\u001b[1;34m\"Harsh\"\u001b[0m\u001b[1;33m)\u001b[0m\u001b[1;33m\u001b[0m\u001b[1;33m\u001b[0m\u001b[0m\n\u001b[0m",
      "\u001b[1;31mAttributeError\u001b[0m: 'tuple' object has no attribute 'append'"
     ]
    }
   ],
   "source": [
    "t1.append(\"Harsh\")"
   ]
  },
  {
   "cell_type": "code",
   "execution_count": 40,
   "id": "eeaeec15",
   "metadata": {},
   "outputs": [],
   "source": [
    "t2 = ('Akshay', (4+6j), True, 23.4, 1, [4,5,6])"
   ]
  },
  {
   "cell_type": "code",
   "execution_count": 41,
   "id": "6d79cf48",
   "metadata": {},
   "outputs": [
    {
     "data": {
      "text/plain": [
       "('Akshay', (4+6j), True, 23.4, 1, [4, 5, 6])"
      ]
     },
     "execution_count": 41,
     "metadata": {},
     "output_type": "execute_result"
    }
   ],
   "source": [
    "t2"
   ]
  },
  {
   "cell_type": "code",
   "execution_count": 42,
   "id": "175dc080",
   "metadata": {},
   "outputs": [
    {
     "data": {
      "text/plain": [
       "[4, 5, 6]"
      ]
     },
     "execution_count": 42,
     "metadata": {},
     "output_type": "execute_result"
    }
   ],
   "source": [
    "t2[-1]"
   ]
  },
  {
   "cell_type": "code",
   "execution_count": 43,
   "id": "0b446f8a",
   "metadata": {},
   "outputs": [
    {
     "ename": "TypeError",
     "evalue": "'tuple' object does not support item assignment",
     "output_type": "error",
     "traceback": [
      "\u001b[1;31m---------------------------------------------------------------------------\u001b[0m",
      "\u001b[1;31mTypeError\u001b[0m                                 Traceback (most recent call last)",
      "\u001b[1;32m<ipython-input-43-c644a3339277>\u001b[0m in \u001b[0;36m<module>\u001b[1;34m\u001b[0m\n\u001b[1;32m----> 1\u001b[1;33m \u001b[0mt2\u001b[0m\u001b[1;33m[\u001b[0m\u001b[1;33m-\u001b[0m\u001b[1;36m1\u001b[0m\u001b[1;33m]\u001b[0m \u001b[1;33m=\u001b[0m \u001b[1;33m[\u001b[0m\u001b[1;36m2\u001b[0m\u001b[1;33m,\u001b[0m\u001b[1;36m3\u001b[0m\u001b[1;33m,\u001b[0m\u001b[1;36m4\u001b[0m\u001b[1;33m]\u001b[0m\u001b[1;33m\u001b[0m\u001b[1;33m\u001b[0m\u001b[0m\n\u001b[0m",
      "\u001b[1;31mTypeError\u001b[0m: 'tuple' object does not support item assignment"
     ]
    }
   ],
   "source": [
    "t2[-1] = [2,3,4]"
   ]
  },
  {
   "cell_type": "code",
   "execution_count": 46,
   "id": "2f83984d",
   "metadata": {},
   "outputs": [],
   "source": [
    "t2[-1][0] = 7"
   ]
  },
  {
   "cell_type": "code",
   "execution_count": 47,
   "id": "becd652b",
   "metadata": {},
   "outputs": [
    {
     "data": {
      "text/plain": [
       "('Akshay', (4+6j), True, 23.4, 1, [7, 5, 6])"
      ]
     },
     "execution_count": 47,
     "metadata": {},
     "output_type": "execute_result"
    }
   ],
   "source": [
    "t2"
   ]
  },
  {
   "cell_type": "code",
   "execution_count": 48,
   "id": "835daaaa",
   "metadata": {},
   "outputs": [
    {
     "data": {
      "text/plain": [
       "tuple"
      ]
     },
     "execution_count": 48,
     "metadata": {},
     "output_type": "execute_result"
    }
   ],
   "source": [
    "type(t2)"
   ]
  },
  {
   "cell_type": "code",
   "execution_count": 49,
   "id": "e0d3c305",
   "metadata": {},
   "outputs": [
    {
     "data": {
      "text/plain": [
       "list"
      ]
     },
     "execution_count": 49,
     "metadata": {},
     "output_type": "execute_result"
    }
   ],
   "source": [
    "type(t2[-1])"
   ]
  },
  {
   "cell_type": "code",
   "execution_count": 50,
   "id": "3bc4d762",
   "metadata": {},
   "outputs": [
    {
     "data": {
      "text/plain": [
       "('Akshay', (4+6j), True, 23.4, 1, [7, 5, 6])"
      ]
     },
     "execution_count": 50,
     "metadata": {},
     "output_type": "execute_result"
    }
   ],
   "source": [
    "t2"
   ]
  },
  {
   "cell_type": "code",
   "execution_count": 52,
   "id": "44ff82fe",
   "metadata": {},
   "outputs": [
    {
     "ename": "AttributeError",
     "evalue": "'tuple' object has no attribute 'reverse'",
     "output_type": "error",
     "traceback": [
      "\u001b[1;31m---------------------------------------------------------------------------\u001b[0m",
      "\u001b[1;31mAttributeError\u001b[0m                            Traceback (most recent call last)",
      "\u001b[1;32m<ipython-input-52-906fb4bed252>\u001b[0m in \u001b[0;36m<module>\u001b[1;34m\u001b[0m\n\u001b[1;32m----> 1\u001b[1;33m \u001b[0mt2\u001b[0m\u001b[1;33m.\u001b[0m\u001b[0mreverse\u001b[0m\u001b[1;33m(\u001b[0m\u001b[1;33m)\u001b[0m\u001b[1;33m\u001b[0m\u001b[1;33m\u001b[0m\u001b[0m\n\u001b[0m",
      "\u001b[1;31mAttributeError\u001b[0m: 'tuple' object has no attribute 'reverse'"
     ]
    }
   ],
   "source": [
    "t2.reverse()"
   ]
  },
  {
   "cell_type": "code",
   "execution_count": 53,
   "id": "c14ca093",
   "metadata": {},
   "outputs": [
    {
     "data": {
      "text/plain": [
       "([7, 5, 6], 1, 23.4, True, (4+6j), 'Akshay')"
      ]
     },
     "execution_count": 53,
     "metadata": {},
     "output_type": "execute_result"
    }
   ],
   "source": [
    "t2[::-1]"
   ]
  },
  {
   "cell_type": "code",
   "execution_count": 54,
   "id": "c135112e",
   "metadata": {},
   "outputs": [],
   "source": [
    "t2 = t2[::-1]"
   ]
  },
  {
   "cell_type": "code",
   "execution_count": 55,
   "id": "d130fa8f",
   "metadata": {},
   "outputs": [
    {
     "data": {
      "text/plain": [
       "([7, 5, 6], 1, 23.4, True, (4+6j), 'Akshay')"
      ]
     },
     "execution_count": 55,
     "metadata": {},
     "output_type": "execute_result"
    }
   ],
   "source": [
    "t2"
   ]
  },
  {
   "cell_type": "code",
   "execution_count": 56,
   "id": "42de5b8b",
   "metadata": {},
   "outputs": [],
   "source": [
    "l3 = [1,3,45.4, True, \"Akshay\"]"
   ]
  },
  {
   "cell_type": "code",
   "execution_count": 57,
   "id": "ef81cb6d",
   "metadata": {},
   "outputs": [
    {
     "data": {
      "text/plain": [
       "[1, 3, 45.4, True, 'Akshay']"
      ]
     },
     "execution_count": 57,
     "metadata": {},
     "output_type": "execute_result"
    }
   ],
   "source": [
    "l3"
   ]
  },
  {
   "cell_type": "code",
   "execution_count": 58,
   "id": "e77a5e90",
   "metadata": {},
   "outputs": [],
   "source": [
    "t3 = tuple(l3)"
   ]
  },
  {
   "cell_type": "code",
   "execution_count": 59,
   "id": "b7c2981a",
   "metadata": {},
   "outputs": [
    {
     "data": {
      "text/plain": [
       "(1, 3, 45.4, True, 'Akshay')"
      ]
     },
     "execution_count": 59,
     "metadata": {},
     "output_type": "execute_result"
    }
   ],
   "source": [
    "t3"
   ]
  },
  {
   "cell_type": "code",
   "execution_count": 60,
   "id": "2d262e23",
   "metadata": {},
   "outputs": [
    {
     "data": {
      "text/plain": [
       "tuple"
      ]
     },
     "execution_count": 60,
     "metadata": {},
     "output_type": "execute_result"
    }
   ],
   "source": [
    "type(t3)"
   ]
  },
  {
   "cell_type": "code",
   "execution_count": 61,
   "id": "257c284d",
   "metadata": {},
   "outputs": [
    {
     "data": {
      "text/plain": [
       "list"
      ]
     },
     "execution_count": 61,
     "metadata": {},
     "output_type": "execute_result"
    }
   ],
   "source": [
    "type(l3)"
   ]
  },
  {
   "cell_type": "code",
   "execution_count": 62,
   "id": "a53fba77",
   "metadata": {},
   "outputs": [],
   "source": [
    "l4 = list(t3)"
   ]
  },
  {
   "cell_type": "code",
   "execution_count": 63,
   "id": "35c76e85",
   "metadata": {},
   "outputs": [
    {
     "data": {
      "text/plain": [
       "[1, 3, 45.4, True, 'Akshay']"
      ]
     },
     "execution_count": 63,
     "metadata": {},
     "output_type": "execute_result"
    }
   ],
   "source": [
    "l4"
   ]
  },
  {
   "cell_type": "code",
   "execution_count": 64,
   "id": "3e22cc0b",
   "metadata": {},
   "outputs": [
    {
     "data": {
      "text/plain": [
       "list"
      ]
     },
     "execution_count": 64,
     "metadata": {},
     "output_type": "execute_result"
    }
   ],
   "source": [
    "type(l4)"
   ]
  },
  {
   "cell_type": "code",
   "execution_count": 65,
   "id": "cfdf925f",
   "metadata": {},
   "outputs": [
    {
     "data": {
      "text/plain": [
       "[1, 3, 45.4, True, 'Akshay']"
      ]
     },
     "execution_count": 65,
     "metadata": {},
     "output_type": "execute_result"
    }
   ],
   "source": [
    "l3"
   ]
  },
  {
   "cell_type": "code",
   "execution_count": 66,
   "id": "a60f3714",
   "metadata": {},
   "outputs": [
    {
     "data": {
      "text/plain": [
       "(1, 3, 45.4, True, 'Akshay')"
      ]
     },
     "execution_count": 66,
     "metadata": {},
     "output_type": "execute_result"
    }
   ],
   "source": [
    "t3"
   ]
  },
  {
   "cell_type": "code",
   "execution_count": 67,
   "id": "ccfbc8c8",
   "metadata": {},
   "outputs": [
    {
     "data": {
      "text/plain": [
       "45.4"
      ]
     },
     "execution_count": 67,
     "metadata": {},
     "output_type": "execute_result"
    }
   ],
   "source": [
    "t3[2]"
   ]
  },
  {
   "cell_type": "code",
   "execution_count": 68,
   "id": "755db74b",
   "metadata": {},
   "outputs": [
    {
     "data": {
      "text/plain": [
       "2"
      ]
     },
     "execution_count": 68,
     "metadata": {},
     "output_type": "execute_result"
    }
   ],
   "source": [
    "t3.index(45.4)"
   ]
  },
  {
   "cell_type": "code",
   "execution_count": 69,
   "id": "10492d79",
   "metadata": {},
   "outputs": [
    {
     "data": {
      "text/plain": [
       "4"
      ]
     },
     "execution_count": 69,
     "metadata": {},
     "output_type": "execute_result"
    }
   ],
   "source": [
    "t3.index('Akshay')"
   ]
  },
  {
   "cell_type": "code",
   "execution_count": 70,
   "id": "858d92dd",
   "metadata": {},
   "outputs": [
    {
     "ename": "ValueError",
     "evalue": "tuple.index(x): x not in tuple",
     "output_type": "error",
     "traceback": [
      "\u001b[1;31m---------------------------------------------------------------------------\u001b[0m",
      "\u001b[1;31mValueError\u001b[0m                                Traceback (most recent call last)",
      "\u001b[1;32m<ipython-input-70-31088448d5c0>\u001b[0m in \u001b[0;36m<module>\u001b[1;34m\u001b[0m\n\u001b[1;32m----> 1\u001b[1;33m \u001b[0mt3\u001b[0m\u001b[1;33m.\u001b[0m\u001b[0mindex\u001b[0m\u001b[1;33m(\u001b[0m\u001b[1;34m'zzz'\u001b[0m\u001b[1;33m)\u001b[0m\u001b[1;33m\u001b[0m\u001b[1;33m\u001b[0m\u001b[0m\n\u001b[0m",
      "\u001b[1;31mValueError\u001b[0m: tuple.index(x): x not in tuple"
     ]
    }
   ],
   "source": [
    "t3.index('zzz')"
   ]
  },
  {
   "cell_type": "code",
   "execution_count": 71,
   "id": "1cf20ae1",
   "metadata": {},
   "outputs": [
    {
     "data": {
      "text/plain": [
       "[1, 3, 45.4, True, 'Akshay']"
      ]
     },
     "execution_count": 71,
     "metadata": {},
     "output_type": "execute_result"
    }
   ],
   "source": [
    "t5 = [1,3,45.4, True, \"Akshay\"]\n",
    "t5"
   ]
  },
  {
   "cell_type": "code",
   "execution_count": 72,
   "id": "e40892ae",
   "metadata": {},
   "outputs": [
    {
     "data": {
      "text/plain": [
       "0"
      ]
     },
     "execution_count": 72,
     "metadata": {},
     "output_type": "execute_result"
    }
   ],
   "source": [
    "t5.index(True)"
   ]
  },
  {
   "cell_type": "code",
   "execution_count": 73,
   "id": "f33e6f84",
   "metadata": {},
   "outputs": [
    {
     "data": {
      "text/plain": [
       "0"
      ]
     },
     "execution_count": 73,
     "metadata": {},
     "output_type": "execute_result"
    }
   ],
   "source": [
    "# H.W\n",
    "\n",
    "t5 = [1,3,45.4, True, \"Akshay\"]\n",
    "t5.index(True)\n",
    "\n",
    "# Why the output it 0 instead of 3?"
   ]
  },
  {
   "cell_type": "code",
   "execution_count": 74,
   "id": "df7e6ab7",
   "metadata": {},
   "outputs": [],
   "source": [
    "# H.W\n",
    "\n",
    "l1 = [1,2,3,4,5]\n",
    "t1 = (6,7,8)\n",
    "\n",
    "# expected output:\n",
    "# [1,2,3,4,5,6,7,8]"
   ]
  },
  {
   "cell_type": "code",
   "execution_count": null,
   "id": "8ee1bdc6",
   "metadata": {},
   "outputs": [],
   "source": []
  },
  {
   "cell_type": "markdown",
   "id": "64bcd321",
   "metadata": {},
   "source": [
    "# Set"
   ]
  },
  {
   "cell_type": "code",
   "execution_count": 75,
   "id": "5da6aec6",
   "metadata": {},
   "outputs": [],
   "source": [
    "# list -> []\n",
    "# tuple -> ()\n",
    "# set -> {}\n",
    "# dict -> {}"
   ]
  },
  {
   "cell_type": "code",
   "execution_count": 76,
   "id": "7a468ee8",
   "metadata": {},
   "outputs": [],
   "source": [
    "l1 = []"
   ]
  },
  {
   "cell_type": "code",
   "execution_count": 77,
   "id": "ebaccdf9",
   "metadata": {},
   "outputs": [],
   "source": [
    "t1 = ()"
   ]
  },
  {
   "cell_type": "code",
   "execution_count": 78,
   "id": "6c160d05",
   "metadata": {},
   "outputs": [
    {
     "data": {
      "text/plain": [
       "list"
      ]
     },
     "execution_count": 78,
     "metadata": {},
     "output_type": "execute_result"
    }
   ],
   "source": [
    "type(l1)"
   ]
  },
  {
   "cell_type": "code",
   "execution_count": 79,
   "id": "afea2bf4",
   "metadata": {},
   "outputs": [
    {
     "data": {
      "text/plain": [
       "tuple"
      ]
     },
     "execution_count": 79,
     "metadata": {},
     "output_type": "execute_result"
    }
   ],
   "source": [
    "type(t1)"
   ]
  },
  {
   "cell_type": "code",
   "execution_count": 80,
   "id": "4e9af69b",
   "metadata": {},
   "outputs": [],
   "source": [
    "s1 = {}"
   ]
  },
  {
   "cell_type": "code",
   "execution_count": 81,
   "id": "82a0ac60",
   "metadata": {},
   "outputs": [
    {
     "data": {
      "text/plain": [
       "dict"
      ]
     },
     "execution_count": 81,
     "metadata": {},
     "output_type": "execute_result"
    }
   ],
   "source": [
    "type(s1)"
   ]
  },
  {
   "cell_type": "code",
   "execution_count": 82,
   "id": "c7f5a37e",
   "metadata": {},
   "outputs": [],
   "source": [
    "s2 = set()"
   ]
  },
  {
   "cell_type": "code",
   "execution_count": 83,
   "id": "72b69d5f",
   "metadata": {},
   "outputs": [
    {
     "data": {
      "text/plain": [
       "set"
      ]
     },
     "execution_count": 83,
     "metadata": {},
     "output_type": "execute_result"
    }
   ],
   "source": [
    "type(s2)"
   ]
  },
  {
   "cell_type": "code",
   "execution_count": 84,
   "id": "5efeefe2",
   "metadata": {},
   "outputs": [],
   "source": [
    "l2 = list()\n",
    "t2 = tuple()"
   ]
  },
  {
   "cell_type": "code",
   "execution_count": 85,
   "id": "40f84cba",
   "metadata": {},
   "outputs": [
    {
     "data": {
      "text/plain": [
       "list"
      ]
     },
     "execution_count": 85,
     "metadata": {},
     "output_type": "execute_result"
    }
   ],
   "source": [
    "type(l2)"
   ]
  },
  {
   "cell_type": "code",
   "execution_count": 86,
   "id": "858a4459",
   "metadata": {},
   "outputs": [
    {
     "data": {
      "text/plain": [
       "tuple"
      ]
     },
     "execution_count": 86,
     "metadata": {},
     "output_type": "execute_result"
    }
   ],
   "source": [
    "type(t2)"
   ]
  },
  {
   "cell_type": "code",
   "execution_count": 87,
   "id": "68b51520",
   "metadata": {},
   "outputs": [],
   "source": [
    "# Set is a again hetrogeneous collection\n",
    "# -> Unordered = No indexing set\n",
    "# -> You cannot have duplicate value is set"
   ]
  },
  {
   "cell_type": "code",
   "execution_count": 90,
   "id": "23dca901",
   "metadata": {},
   "outputs": [],
   "source": [
    "s1 = {5,6,2,5,1,2,3,4,5,6,1,2,3}"
   ]
  },
  {
   "cell_type": "code",
   "execution_count": 91,
   "id": "7d2d8538",
   "metadata": {},
   "outputs": [
    {
     "data": {
      "text/plain": [
       "{1, 2, 3, 4, 5, 6}"
      ]
     },
     "execution_count": 91,
     "metadata": {},
     "output_type": "execute_result"
    }
   ],
   "source": [
    "s1"
   ]
  },
  {
   "cell_type": "code",
   "execution_count": 92,
   "id": "e08b545a",
   "metadata": {},
   "outputs": [
    {
     "ename": "TypeError",
     "evalue": "'set' object is not subscriptable",
     "output_type": "error",
     "traceback": [
      "\u001b[1;31m---------------------------------------------------------------------------\u001b[0m",
      "\u001b[1;31mTypeError\u001b[0m                                 Traceback (most recent call last)",
      "\u001b[1;32m<ipython-input-92-bfed54b371ac>\u001b[0m in \u001b[0;36m<module>\u001b[1;34m\u001b[0m\n\u001b[1;32m----> 1\u001b[1;33m \u001b[0ms1\u001b[0m\u001b[1;33m[\u001b[0m\u001b[1;36m0\u001b[0m\u001b[1;33m]\u001b[0m\u001b[1;33m\u001b[0m\u001b[1;33m\u001b[0m\u001b[0m\n\u001b[0m",
      "\u001b[1;31mTypeError\u001b[0m: 'set' object is not subscriptable"
     ]
    }
   ],
   "source": [
    "s1[0]"
   ]
  },
  {
   "cell_type": "code",
   "execution_count": 94,
   "id": "96f3447b",
   "metadata": {},
   "outputs": [],
   "source": [
    "l1 = [1,2,3,4,5]"
   ]
  },
  {
   "cell_type": "code",
   "execution_count": 95,
   "id": "cefac70e",
   "metadata": {},
   "outputs": [
    {
     "data": {
      "text/plain": [
       "{1, 2, 3, 4, 5}"
      ]
     },
     "execution_count": 95,
     "metadata": {},
     "output_type": "execute_result"
    }
   ],
   "source": [
    "set(l1)"
   ]
  },
  {
   "cell_type": "code",
   "execution_count": 96,
   "id": "6fad0b5e",
   "metadata": {},
   "outputs": [],
   "source": [
    "# tuple -> set\n",
    "# list -> set"
   ]
  },
  {
   "cell_type": "code",
   "execution_count": 98,
   "id": "8b230b01",
   "metadata": {},
   "outputs": [],
   "source": [
    "# H.W\n",
    "l1 = [1,2,3,4,3,1,5,5]\n",
    "# Remove the duplicate element from list, and I want output as a list, \n",
    "# We want only unique elements in output list"
   ]
  },
  {
   "cell_type": "code",
   "execution_count": 99,
   "id": "c2c616cb",
   "metadata": {},
   "outputs": [],
   "source": [
    "s1 = {1,2,3,4,5,6}\n",
    "s2 = {6,7,8}"
   ]
  },
  {
   "cell_type": "code",
   "execution_count": 100,
   "id": "34762bf6",
   "metadata": {},
   "outputs": [],
   "source": [
    "s1.update(s2)"
   ]
  },
  {
   "cell_type": "code",
   "execution_count": 101,
   "id": "fcd3f648",
   "metadata": {},
   "outputs": [
    {
     "data": {
      "text/plain": [
       "{1, 2, 3, 4, 5, 6, 7, 8}"
      ]
     },
     "execution_count": 101,
     "metadata": {},
     "output_type": "execute_result"
    }
   ],
   "source": [
    "s1"
   ]
  },
  {
   "cell_type": "code",
   "execution_count": 102,
   "id": "e9e7659c",
   "metadata": {},
   "outputs": [],
   "source": [
    "s1.add(9)"
   ]
  },
  {
   "cell_type": "code",
   "execution_count": 103,
   "id": "3793cec4",
   "metadata": {},
   "outputs": [
    {
     "data": {
      "text/plain": [
       "{1, 2, 3, 4, 5, 6, 7, 8, 9}"
      ]
     },
     "execution_count": 103,
     "metadata": {},
     "output_type": "execute_result"
    }
   ],
   "source": [
    "s1"
   ]
  },
  {
   "cell_type": "code",
   "execution_count": 104,
   "id": "f09be2ac",
   "metadata": {},
   "outputs": [],
   "source": [
    "s1.add(3.5)"
   ]
  },
  {
   "cell_type": "code",
   "execution_count": 105,
   "id": "75a97e26",
   "metadata": {},
   "outputs": [
    {
     "data": {
      "text/plain": [
       "{1, 2, 3, 3.5, 4, 5, 6, 7, 8, 9}"
      ]
     },
     "execution_count": 105,
     "metadata": {},
     "output_type": "execute_result"
    }
   ],
   "source": [
    "s1"
   ]
  },
  {
   "cell_type": "code",
   "execution_count": 106,
   "id": "dab2a4c2",
   "metadata": {},
   "outputs": [],
   "source": [
    "s1.add(4)"
   ]
  },
  {
   "cell_type": "code",
   "execution_count": 107,
   "id": "947e4a55",
   "metadata": {},
   "outputs": [
    {
     "data": {
      "text/plain": [
       "{1, 2, 3, 3.5, 4, 5, 6, 7, 8, 9}"
      ]
     },
     "execution_count": 107,
     "metadata": {},
     "output_type": "execute_result"
    }
   ],
   "source": [
    "s1"
   ]
  },
  {
   "cell_type": "code",
   "execution_count": 108,
   "id": "32ea833d",
   "metadata": {},
   "outputs": [],
   "source": [
    "s1.remove(6)"
   ]
  },
  {
   "cell_type": "code",
   "execution_count": 109,
   "id": "15bb6860",
   "metadata": {},
   "outputs": [
    {
     "data": {
      "text/plain": [
       "{1, 2, 3, 3.5, 4, 5, 7, 8, 9}"
      ]
     },
     "execution_count": 109,
     "metadata": {},
     "output_type": "execute_result"
    }
   ],
   "source": [
    "s1"
   ]
  },
  {
   "cell_type": "code",
   "execution_count": 110,
   "id": "5348bc42",
   "metadata": {},
   "outputs": [
    {
     "ename": "KeyError",
     "evalue": "10",
     "output_type": "error",
     "traceback": [
      "\u001b[1;31m---------------------------------------------------------------------------\u001b[0m",
      "\u001b[1;31mKeyError\u001b[0m                                  Traceback (most recent call last)",
      "\u001b[1;32m<ipython-input-110-787c050b4d4e>\u001b[0m in \u001b[0;36m<module>\u001b[1;34m\u001b[0m\n\u001b[1;32m----> 1\u001b[1;33m \u001b[0ms1\u001b[0m\u001b[1;33m.\u001b[0m\u001b[0mremove\u001b[0m\u001b[1;33m(\u001b[0m\u001b[1;36m10\u001b[0m\u001b[1;33m)\u001b[0m\u001b[1;33m\u001b[0m\u001b[1;33m\u001b[0m\u001b[0m\n\u001b[0m",
      "\u001b[1;31mKeyError\u001b[0m: 10"
     ]
    }
   ],
   "source": [
    "s1.remove(10)"
   ]
  },
  {
   "cell_type": "code",
   "execution_count": 111,
   "id": "d8d99082",
   "metadata": {},
   "outputs": [],
   "source": [
    "s1.discard(8)"
   ]
  },
  {
   "cell_type": "code",
   "execution_count": 112,
   "id": "12512841",
   "metadata": {},
   "outputs": [
    {
     "data": {
      "text/plain": [
       "{1, 2, 3, 3.5, 4, 5, 7, 9}"
      ]
     },
     "execution_count": 112,
     "metadata": {},
     "output_type": "execute_result"
    }
   ],
   "source": [
    "s1"
   ]
  },
  {
   "cell_type": "code",
   "execution_count": 114,
   "id": "fd8ead35",
   "metadata": {},
   "outputs": [],
   "source": [
    "s1.discard(10)"
   ]
  },
  {
   "cell_type": "code",
   "execution_count": 115,
   "id": "96605b7a",
   "metadata": {},
   "outputs": [
    {
     "data": {
      "text/plain": [
       "{1, 2, 3, 3.5, 4, 5, 7, 9}"
      ]
     },
     "execution_count": 115,
     "metadata": {},
     "output_type": "execute_result"
    }
   ],
   "source": [
    "s1"
   ]
  },
  {
   "cell_type": "code",
   "execution_count": null,
   "id": "71275837",
   "metadata": {},
   "outputs": [],
   "source": []
  }
 ],
 "metadata": {
  "kernelspec": {
   "display_name": "Python 3",
   "language": "python",
   "name": "python3"
  },
  "language_info": {
   "codemirror_mode": {
    "name": "ipython",
    "version": 3
   },
   "file_extension": ".py",
   "mimetype": "text/x-python",
   "name": "python",
   "nbconvert_exporter": "python",
   "pygments_lexer": "ipython3",
   "version": "3.8.8"
  }
 },
 "nbformat": 4,
 "nbformat_minor": 5
}
