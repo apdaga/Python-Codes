{
 "cells": [
  {
   "cell_type": "markdown",
   "id": "9b8baf24",
   "metadata": {},
   "source": [
    "# Answer to dictionary question"
   ]
  },
  {
   "cell_type": "code",
   "execution_count": 3,
   "id": "1f1ffaa5",
   "metadata": {},
   "outputs": [],
   "source": [
    "sampleDict = {\n",
    "    \"class\": {\n",
    "        \"student\": {\n",
    "            \"name\": \"Mike\",\n",
    "            \"marks\": {\n",
    "                \"physics\": 70,\n",
    "                \"history\": 80\n",
    "            }\n",
    "        }\n",
    "    }\n",
    "}"
   ]
  },
  {
   "cell_type": "code",
   "execution_count": 2,
   "id": "8cc59454",
   "metadata": {},
   "outputs": [],
   "source": [
    "# Print the marks in history\n",
    "# print the name of the subjects student applied for\n",
    "# print the average of marks student got in all the subjects"
   ]
  },
  {
   "cell_type": "code",
   "execution_count": 8,
   "id": "e6ce2845",
   "metadata": {},
   "outputs": [
    {
     "data": {
      "text/plain": [
       "80"
      ]
     },
     "execution_count": 8,
     "metadata": {},
     "output_type": "execute_result"
    }
   ],
   "source": [
    "# 1. Print the marks in history\n",
    "sampleDict['class']['student']['marks']['history']"
   ]
  },
  {
   "cell_type": "code",
   "execution_count": 13,
   "id": "3bee72b1",
   "metadata": {},
   "outputs": [
    {
     "data": {
      "text/plain": [
       "dict_keys(['physics', 'history'])"
      ]
     },
     "execution_count": 13,
     "metadata": {},
     "output_type": "execute_result"
    }
   ],
   "source": [
    "# 2. print the name of the subjects student applied for\n",
    "sampleDict['class']['student']['marks'].keys()"
   ]
  },
  {
   "cell_type": "code",
   "execution_count": 24,
   "id": "166d4af6",
   "metadata": {},
   "outputs": [
    {
     "data": {
      "text/plain": [
       "75.0"
      ]
     },
     "execution_count": 24,
     "metadata": {},
     "output_type": "execute_result"
    }
   ],
   "source": [
    "# 3. print the average of marks student got in all the subjects\n",
    "total = sum(sampleDict['class']['student']['marks'].values())\n",
    "length = len(sampleDict['class']['student']['marks'].values())\n",
    "\n",
    "avg = total / length\n",
    "avg"
   ]
  },
  {
   "cell_type": "markdown",
   "id": "e43bffce",
   "metadata": {},
   "source": [
    "# IF ELSE"
   ]
  },
  {
   "cell_type": "code",
   "execution_count": 25,
   "id": "a8324a9a",
   "metadata": {},
   "outputs": [
    {
     "data": {
      "text/plain": [
       "True"
      ]
     },
     "execution_count": 25,
     "metadata": {},
     "output_type": "execute_result"
    }
   ],
   "source": [
    "True"
   ]
  },
  {
   "cell_type": "code",
   "execution_count": 26,
   "id": "8b30b2d9",
   "metadata": {},
   "outputs": [
    {
     "data": {
      "text/plain": [
       "False"
      ]
     },
     "execution_count": 26,
     "metadata": {},
     "output_type": "execute_result"
    }
   ],
   "source": [
    "False"
   ]
  },
  {
   "cell_type": "code",
   "execution_count": 27,
   "id": "f41e41a5",
   "metadata": {},
   "outputs": [],
   "source": [
    "a = 5"
   ]
  },
  {
   "cell_type": "code",
   "execution_count": 28,
   "id": "20a227c4",
   "metadata": {},
   "outputs": [
    {
     "data": {
      "text/plain": [
       "5"
      ]
     },
     "execution_count": 28,
     "metadata": {},
     "output_type": "execute_result"
    }
   ],
   "source": [
    "a"
   ]
  },
  {
   "cell_type": "code",
   "execution_count": 29,
   "id": "579a6955",
   "metadata": {},
   "outputs": [
    {
     "data": {
      "text/plain": [
       "False"
      ]
     },
     "execution_count": 29,
     "metadata": {},
     "output_type": "execute_result"
    }
   ],
   "source": [
    "a > 10"
   ]
  },
  {
   "cell_type": "code",
   "execution_count": 30,
   "id": "e03f74d1",
   "metadata": {},
   "outputs": [
    {
     "data": {
      "text/plain": [
       "True"
      ]
     },
     "execution_count": 30,
     "metadata": {},
     "output_type": "execute_result"
    }
   ],
   "source": [
    "a < 10"
   ]
  },
  {
   "cell_type": "code",
   "execution_count": 33,
   "id": "ae262a27",
   "metadata": {},
   "outputs": [
    {
     "name": "stdout",
     "output_type": "stream",
     "text": [
      "a is smaller than 10\n",
      "3\n",
      "4\n",
      "this\n"
     ]
    }
   ],
   "source": [
    "if (a>10):\n",
    "    print(\"a is greater than 10\")\n",
    "    print(1)\n",
    "    print(2)\n",
    "else:\n",
    "    print(\"a is smaller than 10\")\n",
    "    print(3)\n",
    "    print(4)\n",
    "    \n",
    "print(\"this\")"
   ]
  },
  {
   "cell_type": "code",
   "execution_count": 34,
   "id": "b3a99684",
   "metadata": {},
   "outputs": [
    {
     "name": "stdout",
     "output_type": "stream",
     "text": [
      "a is greater than 10\n",
      "1\n",
      "2\n",
      "this\n"
     ]
    }
   ],
   "source": [
    "if (a<10):\n",
    "    print(\"a is greater than 10\")\n",
    "    print(1)\n",
    "    print(2)\n",
    "else:\n",
    "    print(\"a is smaller than 10\")\n",
    "    print(3)\n",
    "    print(4)\n",
    "    \n",
    "print(\"this\")"
   ]
  },
  {
   "cell_type": "code",
   "execution_count": 35,
   "id": "99084e39",
   "metadata": {},
   "outputs": [],
   "source": [
    "# if - else if - else\n",
    "# if - elif - else"
   ]
  },
  {
   "cell_type": "code",
   "execution_count": 37,
   "id": "a86a1078",
   "metadata": {},
   "outputs": [
    {
     "name": "stdout",
     "output_type": "stream",
     "text": [
      "Enter mark between 0 to 100: 45\n",
      "C\n"
     ]
    }
   ],
   "source": [
    "mark = int(input(\"Enter mark between 0 to 100: \"))\n",
    "\n",
    "if (mark > 70):\n",
    "    print('A')\n",
    "elif(mark <= 70) and (mark > 50):\n",
    "    print('B')\n",
    "elif (mark <= 50) and (mark > 35):\n",
    "    print('C')\n",
    "else:\n",
    "    print('F')"
   ]
  },
  {
   "cell_type": "code",
   "execution_count": 39,
   "id": "7af19b69",
   "metadata": {},
   "outputs": [],
   "source": [
    "# Q1. get a 4 digit ATM pin from user, if the entered pin is 1234 \n",
    "# then print entered pin is correct otherwise print wrong pin entered"
   ]
  },
  {
   "cell_type": "code",
   "execution_count": 42,
   "id": "c6148d8a",
   "metadata": {},
   "outputs": [
    {
     "name": "stdout",
     "output_type": "stream",
     "text": [
      "Enter atm_pin please: 2345\n",
      "You entered the wrong pin\n"
     ]
    }
   ],
   "source": [
    "atm_pin = int(input(\"Enter atm_pin please: \"))\n",
    "\n",
    "if atm_pin == 1234:\n",
    "    print(\"You entered the correct pin\")\n",
    "else:\n",
    "    print(\"You entered the wrong pin\")"
   ]
  },
  {
   "cell_type": "code",
   "execution_count": 40,
   "id": "ce765001",
   "metadata": {},
   "outputs": [],
   "source": [
    "# Q2. marks grading system\n",
    "# get marks from the user between 0 to 100\n",
    "# A+ : >=95\n",
    "# A  : >=90 - 95\n",
    "# B  : >=75 - 90\n",
    "# C  : >=50 - 75\n",
    "# D  : >=35 - 50\n",
    "# F  : <35"
   ]
  },
  {
   "cell_type": "code",
   "execution_count": 43,
   "id": "15a4fc66",
   "metadata": {},
   "outputs": [
    {
     "name": "stdout",
     "output_type": "stream",
     "text": [
      "Enter marks between 0 to 100: 63\n",
      "C\n"
     ]
    }
   ],
   "source": [
    "marks = int(input(\"Enter marks between 0 to 100: \"))\n",
    "\n",
    "if (marks >= 95) and (marks <= 100):\n",
    "    print('A+')\n",
    "elif(marks < 95) and (marks >= 90):\n",
    "    ptint('A')\n",
    "elif(marks < 90) and (marks >= 75):\n",
    "    print('B')\n",
    "elif(marks < 75) and (marks >= 50):\n",
    "    print('C')\n",
    "elif(marks < 50) and (marks >= 35):\n",
    "    print('D')\n",
    "elif (marks < 35) and (marks >= 0):\n",
    "    print('F')\n",
    "else:\n",
    "    print(\"You entered the Wrong Value: \")"
   ]
  },
  {
   "cell_type": "code",
   "execution_count": 41,
   "id": "2a6e2bb2",
   "metadata": {},
   "outputs": [],
   "source": [
    "# Q3. marks grading system (marks & attendance)\n",
    "# if student have more than 70% attendance then provide grade \n",
    "# as given below otherwise print \"failed due to low attendance\"\n",
    "\n",
    "# A+ : >=95\n",
    "# A  : >=90 - 95\n",
    "# B  : >=75 - 90\n",
    "# C  : >=50 - 75\n",
    "# D  : >=35 - 50\n",
    "# F  : <35"
   ]
  },
  {
   "cell_type": "code",
   "execution_count": 45,
   "id": "19ac0bfe",
   "metadata": {},
   "outputs": [
    {
     "name": "stdout",
     "output_type": "stream",
     "text": [
      "Enter marks between 0 to 100: 54\n",
      "Enter the attendace between 0 to 100: 80\n",
      "C\n"
     ]
    }
   ],
   "source": [
    "marks = int(input(\"Enter marks between 0 to 100: \"))\n",
    "att = int(input(\"Enter the attendace between 0 to 100: \"))\n",
    "\n",
    "if (att > 70):\n",
    "    if (marks >= 95) and (marks <= 100):\n",
    "        print('A+')\n",
    "    elif(marks < 95) and (marks >= 90):\n",
    "        ptint('A')\n",
    "    elif(marks < 90) and (marks >= 75):\n",
    "        print('B')\n",
    "    elif(marks < 75) and (marks >= 50):\n",
    "        print('C')\n",
    "    elif(marks < 50) and (marks >= 35):\n",
    "        print('D')\n",
    "    elif (marks < 35) and (marks >= 0):\n",
    "        print('F')\n",
    "    else:\n",
    "        print(\"You entered the Wrong Value: \")\n",
    "else:\n",
    "    print(\"Failed due to low attendance\")"
   ]
  },
  {
   "cell_type": "code",
   "execution_count": null,
   "id": "fe750691",
   "metadata": {},
   "outputs": [],
   "source": [
    "##### LEVEL: 1\n",
    "# 1.\n",
    "# A company decided to give bonus of 5% to employee if his/her year \n",
    "# of service is more than 5 years. Ask user for their salary and \n",
    "# year of service and print the net bonus amount.\n",
    "\n",
    "# 2.\n",
    "# Take values of length and breadth of a rectangle from user \n",
    "# and check if it is square or not.\n",
    "\n",
    "# 3.\n",
    "# Take two int values from user and print greatest among them.\n",
    "\n",
    "# 4.\n",
    "# A shop will give discount of 10% if the cost of purchased \n",
    "# quantity is more than 1000. Ask user for quantity\n",
    "# Suppose, one unit will cost 100.\n",
    "# Judge and print total cost for user.\n",
    "\n",
    "# 5.\n",
    "# A school has following rules for grading system:\n",
    "# a. Below 25 - F\n",
    "# b. 25 to 45 - E\n",
    "# c. 45 to 50 - D\n",
    "# d. 50 to 60 - C\n",
    "# e. 60 to 80 - B\n",
    "# f. Above 80 - A\n",
    "# Ask user to enter marks and print the corresponding grade.\n",
    "\n",
    "# 6.\n",
    "# Take input of age of 3 people by user and determine oldest and \n",
    "# youngest among them.\n",
    "\n",
    "# 7.\n",
    "# Write a program to print absolute vlaue of a number entered \n",
    "# by user. E.g.-\n",
    "# INPUT: 1        OUTPUT: 1\n",
    "# INPUT: -1        OUTPUT: 1\n",
    "\n",
    "# 8.\n",
    "# A student will not be allowed to sit in exam if his/her \n",
    "# attendence is less than 75%.\n",
    "# Take following input from user\n",
    "# Number of classes held\n",
    "# Number of classes attended.\n",
    "# And print\n",
    "# percentage of class attended\n",
    "# Is student is allowed to sit in exam or not.\n",
    "\n",
    "# 9.\n",
    "# Modify the above question to allow student to sit if he/she has \n",
    "# medical cause. Ask user if he/she has medical cause or not \n",
    "# ( 'Y' or 'N' ) and print accordingly.\n",
    "\n",
    "##### LEVEL: 2\n",
    "    \n",
    "# 1.Write a program to check if a year is leap year or not.\n",
    "# If a year is divisible by 4 then it is leap year but if the \n",
    "# year is century year like 2000, 1900, 2100 then it must be \n",
    "# divisible by 400.\n",
    "\n",
    "\n",
    "\n",
    "# 2.Ask user to enter age, sex ( M or F ), marital status ( Y or N ) \n",
    "# and then using following rules print their place of service.\n",
    "\n",
    "# if employee is female, then she will work only in urban areas.\n",
    "\n",
    "# if employee is a male and age is in between 20 to 40 then he may \n",
    "# work in anywhere\n",
    "\n",
    "# if employee is male and age is in between 40 t0 60 then he \n",
    "# will work in urban areas only.\n",
    "\n",
    "# And any other input of age should print \"ERROR\".\n",
    "\n",
    "\n",
    "\n",
    "# 3.A 4 digit number is entered through keyboard. Write a program \n",
    "# to print a new number with digits reversed as of orignal \n",
    "# one. E.g.-\n",
    "\n",
    "# INPUT : 1234        OUTPUT : 4321\n",
    "# INPUT : 5982        OUTPUT : 2895"
   ]
  }
 ],
 "metadata": {
  "kernelspec": {
   "display_name": "Python 3 (ipykernel)",
   "language": "python",
   "name": "python3"
  },
  "language_info": {
   "codemirror_mode": {
    "name": "ipython",
    "version": 3
   },
   "file_extension": ".py",
   "mimetype": "text/x-python",
   "name": "python",
   "nbconvert_exporter": "python",
   "pygments_lexer": "ipython3",
   "version": "3.9.7"
  }
 },
 "nbformat": 4,
 "nbformat_minor": 5
}
