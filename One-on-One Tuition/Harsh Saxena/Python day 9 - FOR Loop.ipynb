{
 "cells": [
  {
   "cell_type": "markdown",
   "id": "f1e4813f",
   "metadata": {},
   "source": [
    "# For Loop"
   ]
  },
  {
   "cell_type": "code",
   "execution_count": 1,
   "id": "510f429b",
   "metadata": {},
   "outputs": [],
   "source": [
    "# Whenever you want to repeat the similar task again and again \n",
    "# on a loop then you use some kind of loop mechanism in python.\n",
    "# 1. For\n",
    "# 2. While"
   ]
  },
  {
   "cell_type": "code",
   "execution_count": 2,
   "id": "786f6fad",
   "metadata": {},
   "outputs": [
    {
     "data": {
      "text/plain": [
       "[3, 5, 1, 2, 6]"
      ]
     },
     "execution_count": 2,
     "metadata": {},
     "output_type": "execute_result"
    }
   ],
   "source": [
    "l = [3,5,1,2,6]\n",
    "l"
   ]
  },
  {
   "cell_type": "code",
   "execution_count": 3,
   "id": "b1ea858c",
   "metadata": {},
   "outputs": [],
   "source": [
    "# for <condition>:\n",
    "#     line1\n",
    "#     line2\n",
    "#     line3\n",
    "    \n",
    "# line4"
   ]
  },
  {
   "cell_type": "code",
   "execution_count": 7,
   "id": "83db2393",
   "metadata": {},
   "outputs": [
    {
     "name": "stdout",
     "output_type": "stream",
     "text": [
      "3\n",
      "5\n",
      "1\n",
      "2\n",
      "6\n"
     ]
    }
   ],
   "source": [
    "for i in l:\n",
    "    print(i)"
   ]
  },
  {
   "cell_type": "code",
   "execution_count": 8,
   "id": "4a51660e",
   "metadata": {},
   "outputs": [
    {
     "name": "stdout",
     "output_type": "stream",
     "text": [
      "9\n",
      "25\n",
      "1\n",
      "4\n",
      "36\n"
     ]
    }
   ],
   "source": [
    "# print the square of each number given in the list l\n",
    "\n",
    "for i in l:\n",
    "    print(i**2)"
   ]
  },
  {
   "cell_type": "code",
   "execution_count": 9,
   "id": "a6d08f8f",
   "metadata": {},
   "outputs": [
    {
     "name": "stdout",
     "output_type": "stream",
     "text": [
      "2\n",
      "1\n",
      "6\n",
      "3\n",
      "7\n"
     ]
    }
   ],
   "source": [
    "t = (2,1,6,3,7)\n",
    "\n",
    "for i in t:\n",
    "    print(i)"
   ]
  },
  {
   "cell_type": "code",
   "execution_count": 10,
   "id": "660363e8",
   "metadata": {},
   "outputs": [
    {
     "name": "stdout",
     "output_type": "stream",
     "text": [
      "H\n",
      "a\n",
      "r\n",
      "s\n",
      "h\n"
     ]
    }
   ],
   "source": [
    "s = \"Harsh\"\n",
    "\n",
    "for i in s:\n",
    "    print(i)"
   ]
  },
  {
   "cell_type": "code",
   "execution_count": 11,
   "id": "0b2daae6",
   "metadata": {},
   "outputs": [
    {
     "name": "stdout",
     "output_type": "stream",
     "text": [
      "1\n",
      "2\n",
      "3\n",
      "4\n",
      "5\n",
      "23\n"
     ]
    }
   ],
   "source": [
    "s1 = {5,3,1,3,5,23,4,2}\n",
    "\n",
    "for i in s1:\n",
    "    print(i)"
   ]
  },
  {
   "cell_type": "code",
   "execution_count": 13,
   "id": "d0321831",
   "metadata": {},
   "outputs": [
    {
     "data": {
      "text/plain": [
       "{1: 'one', 2: 'two', 3: 'three', 4: 'four', 5: 'five'}"
      ]
     },
     "execution_count": 13,
     "metadata": {},
     "output_type": "execute_result"
    }
   ],
   "source": [
    "d = {1:\"one\", 2:\"two\", 3:\"three\", 4:\"four\", 5:\"five\"}\n",
    "d"
   ]
  },
  {
   "cell_type": "code",
   "execution_count": 14,
   "id": "88c839e3",
   "metadata": {},
   "outputs": [
    {
     "name": "stdout",
     "output_type": "stream",
     "text": [
      "1\n",
      "2\n",
      "3\n",
      "4\n",
      "5\n"
     ]
    }
   ],
   "source": [
    "for i in d:\n",
    "    print(i)"
   ]
  },
  {
   "cell_type": "code",
   "execution_count": 18,
   "id": "a5f8ca92",
   "metadata": {},
   "outputs": [
    {
     "name": "stdout",
     "output_type": "stream",
     "text": [
      "1\n",
      "2\n",
      "3\n",
      "4\n",
      "5\n"
     ]
    }
   ],
   "source": [
    "for k in d.keys():\n",
    "    print(k)"
   ]
  },
  {
   "cell_type": "code",
   "execution_count": 19,
   "id": "7f2d991f",
   "metadata": {},
   "outputs": [
    {
     "name": "stdout",
     "output_type": "stream",
     "text": [
      "one\n",
      "two\n",
      "three\n",
      "four\n",
      "five\n"
     ]
    }
   ],
   "source": [
    "for v in d.values():\n",
    "    print(v)"
   ]
  },
  {
   "cell_type": "code",
   "execution_count": 20,
   "id": "ce573de4",
   "metadata": {},
   "outputs": [
    {
     "name": "stdout",
     "output_type": "stream",
     "text": [
      "1 one\n",
      "2 two\n",
      "3 three\n",
      "4 four\n",
      "5 five\n"
     ]
    }
   ],
   "source": [
    "for k,v in d.items():\n",
    "    print(k,v)"
   ]
  },
  {
   "cell_type": "code",
   "execution_count": 22,
   "id": "61e49d0e",
   "metadata": {},
   "outputs": [],
   "source": [
    "# We have seen how to apply for loop on \n",
    "# list, tuple, set, string & dictionary"
   ]
  },
  {
   "cell_type": "code",
   "execution_count": 23,
   "id": "e7a0cf86",
   "metadata": {},
   "outputs": [],
   "source": [
    "# Q. Print all the numbers between 0 to 10 using for loop"
   ]
  },
  {
   "cell_type": "code",
   "execution_count": 24,
   "id": "eb4a2d3c",
   "metadata": {},
   "outputs": [
    {
     "data": {
      "text/plain": [
       "range(0, 10)"
      ]
     },
     "execution_count": 24,
     "metadata": {},
     "output_type": "execute_result"
    }
   ],
   "source": [
    "range(10) # 0,1,2,3,4,5,6,7,8,9"
   ]
  },
  {
   "cell_type": "code",
   "execution_count": 25,
   "id": "9764608b",
   "metadata": {},
   "outputs": [
    {
     "data": {
      "text/plain": [
       "[0, 1, 2, 3, 4, 5, 6, 7, 8, 9]"
      ]
     },
     "execution_count": 25,
     "metadata": {},
     "output_type": "execute_result"
    }
   ],
   "source": [
    "list(range(10))"
   ]
  },
  {
   "cell_type": "code",
   "execution_count": 27,
   "id": "116a7a92",
   "metadata": {},
   "outputs": [
    {
     "data": {
      "text/plain": [
       "[3, 4, 5, 6, 7, 8, 9]"
      ]
     },
     "execution_count": 27,
     "metadata": {},
     "output_type": "execute_result"
    }
   ],
   "source": [
    "list(range(3,10))"
   ]
  },
  {
   "cell_type": "code",
   "execution_count": 29,
   "id": "bdfce15c",
   "metadata": {},
   "outputs": [
    {
     "data": {
      "text/plain": [
       "[2, 4, 6, 8]"
      ]
     },
     "execution_count": 29,
     "metadata": {},
     "output_type": "execute_result"
    }
   ],
   "source": [
    "list(range(2,10,2))"
   ]
  },
  {
   "cell_type": "code",
   "execution_count": 31,
   "id": "76d28722",
   "metadata": {},
   "outputs": [
    {
     "name": "stdout",
     "output_type": "stream",
     "text": [
      "0\n",
      "1\n",
      "2\n",
      "3\n",
      "4\n",
      "5\n",
      "6\n",
      "7\n",
      "8\n",
      "9\n",
      "10\n"
     ]
    }
   ],
   "source": [
    "# Q. Print all the numbers between 0 to 10 using for loop\n",
    "\n",
    "for i in range(11):\n",
    "    print(i)"
   ]
  },
  {
   "cell_type": "code",
   "execution_count": 32,
   "id": "6c2e0a06",
   "metadata": {
    "scrolled": true
   },
   "outputs": [
    {
     "name": "stdout",
     "output_type": "stream",
     "text": [
      "3\n",
      "4\n",
      "5\n",
      "6\n",
      "7\n",
      "8\n",
      "9\n",
      "10\n"
     ]
    }
   ],
   "source": [
    "# Q. Print all the numbers between 3 to 10 using for loop\n",
    "\n",
    "for i in range(3,11):\n",
    "    print(i)"
   ]
  },
  {
   "cell_type": "code",
   "execution_count": 33,
   "id": "e01c3b3a",
   "metadata": {},
   "outputs": [
    {
     "name": "stdout",
     "output_type": "stream",
     "text": [
      "2\n",
      "5\n",
      "8\n"
     ]
    }
   ],
   "source": [
    "# Q. Print all the numbers between 2 to 10 incremented by 3 \n",
    "# using for loop\n",
    "\n",
    "for i in range(2,10,3):\n",
    "    print(i)"
   ]
  },
  {
   "cell_type": "code",
   "execution_count": 36,
   "id": "144eeec0",
   "metadata": {},
   "outputs": [
    {
     "name": "stdout",
     "output_type": "stream",
     "text": [
      "0 a\n",
      "1 b\n",
      "2 c\n",
      "3 d\n",
      "4 e\n",
      "5 f\n"
     ]
    }
   ],
   "source": [
    "l = ['a','b','c','d','e','f']\n",
    "\n",
    "for i in range(len(l)):\n",
    "    print(i, l[i])"
   ]
  },
  {
   "cell_type": "markdown",
   "id": "d9e6949e",
   "metadata": {},
   "source": [
    "# Nested for loop"
   ]
  },
  {
   "cell_type": "code",
   "execution_count": 37,
   "id": "04bd3980",
   "metadata": {},
   "outputs": [],
   "source": [
    "# for loop within another for loop"
   ]
  },
  {
   "cell_type": "code",
   "execution_count": 38,
   "id": "a0a004b3",
   "metadata": {},
   "outputs": [
    {
     "name": "stdout",
     "output_type": "stream",
     "text": [
      "1\n",
      "2\n",
      "3\n",
      "4\n",
      "5\n",
      "[6, 7, 8]\n"
     ]
    }
   ],
   "source": [
    "l = [1,2,3,4,5,[6,7,8]]\n",
    "\n",
    "for i in l:\n",
    "    print(i)"
   ]
  },
  {
   "cell_type": "code",
   "execution_count": 40,
   "id": "a80a568d",
   "metadata": {},
   "outputs": [
    {
     "name": "stdout",
     "output_type": "stream",
     "text": [
      "1\n",
      "2\n",
      "3\n",
      "4\n",
      "5\n",
      "6\n",
      "7\n",
      "8\n"
     ]
    }
   ],
   "source": [
    "for i in l:\n",
    "    if type(i)==int:\n",
    "        print(i)\n",
    "    elif type(i)==list:\n",
    "        for j in i:\n",
    "            print(j)"
   ]
  },
  {
   "cell_type": "code",
   "execution_count": 41,
   "id": "ac819d40",
   "metadata": {},
   "outputs": [],
   "source": [
    "l1 = [232,44.3,'akshay',41,True,[4,3,7,2,'daga'],5,(2.3,6,4),'harsh']"
   ]
  },
  {
   "cell_type": "code",
   "execution_count": 42,
   "id": "014c77af",
   "metadata": {},
   "outputs": [],
   "source": [
    "# 1. Print all the integer elements from l (ignore nested list/tuple)\n",
    "\n",
    "# 2. print all the integers from l \n",
    "# (even if it inside nested list/tuple)\n",
    "\n",
    "# 3. print all the charecter seperately from l \n",
    "# (even if it inside nested list/tuple)\n",
    "\n",
    "# 4. create a new list having all the string elements from given list\n",
    "# (even if it inside nested list/tuple)\n",
    "# Expected output: ['akshay', 'daga', 'harsh']"
   ]
  },
  {
   "cell_type": "code",
   "execution_count": 43,
   "id": "f763edf5",
   "metadata": {},
   "outputs": [
    {
     "name": "stdout",
     "output_type": "stream",
     "text": [
      "232\n",
      "41\n",
      "5\n"
     ]
    }
   ],
   "source": [
    "# 1. Print all the integer elements from l (ignore nested list/tuple)\n",
    "for i in l1:\n",
    "    if type(i)==int:\n",
    "        print(i)"
   ]
  },
  {
   "cell_type": "code",
   "execution_count": 49,
   "id": "29a95891",
   "metadata": {},
   "outputs": [
    {
     "name": "stdout",
     "output_type": "stream",
     "text": [
      "232\n",
      "41\n",
      "4\n",
      "3\n",
      "7\n",
      "2\n",
      "5\n",
      "6\n",
      "4\n"
     ]
    }
   ],
   "source": [
    "# 2. print all the integers from l \n",
    "# (even if it inside nested list/tuple)\n",
    "\n",
    "## Solution 1\n",
    "# for i in l1:\n",
    "#     if type(i)==int:\n",
    "#         print(i)\n",
    "#     elif (type(i)==list) or (type(i)==tuple):\n",
    "#         for j in i:\n",
    "#             if type(j)==int:\n",
    "#                 print(j)\n",
    "                \n",
    "## Solution 2                \n",
    "for i in l1:\n",
    "    if type(i)==int:\n",
    "        print(i)\n",
    "    elif type(i) in (list,tuple):\n",
    "        for j in i:\n",
    "            if type(j)==int:\n",
    "                print(j)"
   ]
  },
  {
   "cell_type": "markdown",
   "id": "41f10460",
   "metadata": {},
   "source": [
    "# H.W"
   ]
  },
  {
   "cell_type": "code",
   "execution_count": 50,
   "id": "50ce548a",
   "metadata": {},
   "outputs": [],
   "source": [
    "l1 = [232,44.3,'akshay',41,True,[4,3,7,2,'daga'],5,(2.3,6,4),'harsh']\n",
    "\n",
    "# 3. print all the charecter seperately from l1 \n",
    "# (even if it inside nested list/tuple)\n",
    "\n",
    "# 4. create a new list having all the string elements from given list\n",
    "# (even if it inside nested list/tuple)\n",
    "# Expected output: ['akshay', 'daga', 'harsh']"
   ]
  },
  {
   "cell_type": "code",
   "execution_count": 51,
   "id": "c4c9b852",
   "metadata": {},
   "outputs": [],
   "source": [
    "# Exercise 1: Print First 10 natural numbers using while loop\n",
    "# Exercise 2: Print the following pattern\n",
    "# Exercise 3: Calculate the sum of all numbers from 1 to a given number\n",
    "# Exercise 4: Write a program to print multiplication table of a given number\n",
    "# Exercise 5: Display numbers from a list using loop\n",
    "# Exercise 6: Count the total number of digits in a number\n",
    "# Exercise 7: Print the following pattern\n",
    "# Exercise 8: Print list in reverse order using a loop\n",
    "# Exercise 9: Display numbers from -10 to -1 using for loop\n",
    "# Exercise 10: Use else block to display a message “Done” after successful execution of for loop\n",
    "# Exercise 11: Write a program to display all prime numbers within a range\n",
    "# Exercise 12: Display Fibonacci series up to 10 terms\n",
    "# Exercise 13: Find the factorial of a given number\n",
    "# Exercise 14: Reverse a given integer number\n",
    "# Exercise 15: Use a loop to display elements from a given list present at odd index positions\n",
    "# Exercise 16: Calculate the cube of all numbers from 1 to a given number\n",
    "# Exercise 17: Find the sum of the series upto n terms\n",
    "# Exercise 18: Print the following pattern"
   ]
  },
  {
   "cell_type": "code",
   "execution_count": null,
   "id": "eb3ac9bc",
   "metadata": {},
   "outputs": [],
   "source": []
  }
 ],
 "metadata": {
  "kernelspec": {
   "display_name": "Python 3 (ipykernel)",
   "language": "python",
   "name": "python3"
  },
  "language_info": {
   "codemirror_mode": {
    "name": "ipython",
    "version": 3
   },
   "file_extension": ".py",
   "mimetype": "text/x-python",
   "name": "python",
   "nbconvert_exporter": "python",
   "pygments_lexer": "ipython3",
   "version": "3.9.7"
  }
 },
 "nbformat": 4,
 "nbformat_minor": 5
}
