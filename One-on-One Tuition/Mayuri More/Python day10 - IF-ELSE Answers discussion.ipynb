{
 "cells": [
  {
   "cell_type": "code",
   "execution_count": 1,
   "id": "67681a26",
   "metadata": {},
   "outputs": [],
   "source": [
    "# how to take multiple input using single input function"
   ]
  },
  {
   "cell_type": "code",
   "execution_count": 3,
   "id": "ccebfc87",
   "metadata": {},
   "outputs": [
    {
     "name": "stdout",
     "output_type": "stream",
     "text": [
      "Enter 3 values seperated by space: 12 13 14\n"
     ]
    }
   ],
   "source": [
    "x = input(\"Enter 3 values seperated by space: \")"
   ]
  },
  {
   "cell_type": "code",
   "execution_count": 4,
   "id": "285c8d71",
   "metadata": {},
   "outputs": [
    {
     "data": {
      "text/plain": [
       "'12 13 14'"
      ]
     },
     "execution_count": 4,
     "metadata": {},
     "output_type": "execute_result"
    }
   ],
   "source": [
    "x"
   ]
  },
  {
   "cell_type": "code",
   "execution_count": 6,
   "id": "680995c8",
   "metadata": {},
   "outputs": [
    {
     "data": {
      "text/plain": [
       "['12', '13', '14']"
      ]
     },
     "execution_count": 6,
     "metadata": {},
     "output_type": "execute_result"
    }
   ],
   "source": [
    "x.split()"
   ]
  },
  {
   "cell_type": "code",
   "execution_count": 7,
   "id": "bdf9fc7d",
   "metadata": {},
   "outputs": [],
   "source": [
    "a,b,c = x.split()"
   ]
  },
  {
   "cell_type": "code",
   "execution_count": 8,
   "id": "ae148282",
   "metadata": {},
   "outputs": [
    {
     "name": "stdout",
     "output_type": "stream",
     "text": [
      "12\n",
      "13\n",
      "14\n"
     ]
    }
   ],
   "source": [
    "print(a)\n",
    "print(b)\n",
    "print(c)"
   ]
  },
  {
   "cell_type": "code",
   "execution_count": 9,
   "id": "af695fbb",
   "metadata": {},
   "outputs": [
    {
     "data": {
      "text/plain": [
       "str"
      ]
     },
     "execution_count": 9,
     "metadata": {},
     "output_type": "execute_result"
    }
   ],
   "source": [
    "type(a)"
   ]
  },
  {
   "cell_type": "code",
   "execution_count": 10,
   "id": "4bd9d9c4",
   "metadata": {},
   "outputs": [],
   "source": [
    "a,b,c=int(a),int(b),int(c)"
   ]
  },
  {
   "cell_type": "code",
   "execution_count": 11,
   "id": "0f99cc6d",
   "metadata": {},
   "outputs": [
    {
     "name": "stdout",
     "output_type": "stream",
     "text": [
      "<class 'int'>\n",
      "<class 'int'>\n",
      "<class 'int'>\n"
     ]
    }
   ],
   "source": [
    "print(type(a))\n",
    "print(type(b))\n",
    "print(type(c))"
   ]
  },
  {
   "cell_type": "code",
   "execution_count": 13,
   "id": "bdabee16",
   "metadata": {},
   "outputs": [
    {
     "name": "stdout",
     "output_type": "stream",
     "text": [
      "Enter 3 values seperated by space: 12 14 15\n"
     ]
    },
    {
     "data": {
      "text/plain": [
       "(12, 14, 15)"
      ]
     },
     "execution_count": 13,
     "metadata": {},
     "output_type": "execute_result"
    }
   ],
   "source": [
    "a,b,c = input(\"Enter 3 values seperated by space: \").split()\n",
    "a,b,c = int(a),int(b),int(c)\n",
    "a,b,c"
   ]
  },
  {
   "cell_type": "code",
   "execution_count": 14,
   "id": "28ca8e4e",
   "metadata": {},
   "outputs": [
    {
     "name": "stdout",
     "output_type": "stream",
     "text": [
      "Enter 3 values seperated by space: 12 14 16\n"
     ]
    },
    {
     "data": {
      "text/plain": [
       "[12, 14, 16]"
      ]
     },
     "execution_count": 14,
     "metadata": {},
     "output_type": "execute_result"
    }
   ],
   "source": [
    "x = input(\"Enter 3 values seperated by space: \").split()\n",
    "y=[]\n",
    "for n in x:\n",
    "    y.append(int(n))\n",
    "y"
   ]
  },
  {
   "cell_type": "code",
   "execution_count": 17,
   "id": "12ebc514",
   "metadata": {},
   "outputs": [
    {
     "name": "stdout",
     "output_type": "stream",
     "text": [
      "Enter 3 values seperated by space: 21 34 76\n"
     ]
    }
   ],
   "source": [
    "# using list comprehension\n",
    "x = [int(i) for i in input(\"Enter 3 values seperated by space: \").split()]"
   ]
  },
  {
   "cell_type": "code",
   "execution_count": 18,
   "id": "616ca95e",
   "metadata": {},
   "outputs": [
    {
     "data": {
      "text/plain": [
       "[21, 34, 76]"
      ]
     },
     "execution_count": 18,
     "metadata": {},
     "output_type": "execute_result"
    }
   ],
   "source": [
    "x"
   ]
  },
  {
   "cell_type": "code",
   "execution_count": 23,
   "id": "cd9b20d4",
   "metadata": {},
   "outputs": [
    {
     "name": "stdout",
     "output_type": "stream",
     "text": [
      "class_att: 15\n",
      "class_held: 20\n",
      "75.0\n",
      "medical cause Y/N: N\n",
      "allowed\n"
     ]
    }
   ],
   "source": [
    "#q.9\n",
    "\n",
    "class_att = int(input(\"class_att: \"))\n",
    "class_held = int(input(\"class_held: \"))\n",
    "per_att = class_att*100/class_held\n",
    "print(per_att)\n",
    "med_ca = input(\"medical cause Y/N: \")\n",
    "\n",
    "if med_ca.lower() == 'y':\n",
    "    print(\"allowed\")\n",
    "else:\n",
    "    if per_att >= 75:\n",
    "        print(\"allowed\")\n",
    "    else:\n",
    "        print(\"not allowed\")"
   ]
  },
  {
   "cell_type": "markdown",
   "id": "eca6d0fa",
   "metadata": {},
   "source": [
    "# H.W. for dictionary"
   ]
  },
  {
   "cell_type": "code",
   "execution_count": 25,
   "id": "58e37eb9",
   "metadata": {},
   "outputs": [],
   "source": [
    "sampleDict = {\n",
    "    \"class\": {\n",
    "        \"student\": {\n",
    "            \"name\": \"Mike\",\n",
    "            \"marks\": {\n",
    "                \"physics\": 70,\n",
    "                \"history\": 80\n",
    "            }\n",
    "        }\n",
    "    }\n",
    "}"
   ]
  },
  {
   "cell_type": "code",
   "execution_count": 26,
   "id": "0ae79054",
   "metadata": {},
   "outputs": [
    {
     "data": {
      "text/plain": [
       "{'class': {'student': {'name': 'Mike',\n",
       "   'marks': {'physics': 70, 'history': 80}}}}"
      ]
     },
     "execution_count": 26,
     "metadata": {},
     "output_type": "execute_result"
    }
   ],
   "source": [
    "sampleDict"
   ]
  },
  {
   "cell_type": "code",
   "execution_count": null,
   "id": "abef27c3",
   "metadata": {},
   "outputs": [],
   "source": [
    "# Print the marks in history\n",
    "# print the name of the subjects student applied for\n",
    "# print the average of marks student got in all the subjects"
   ]
  }
 ],
 "metadata": {
  "kernelspec": {
   "display_name": "Python 3 (ipykernel)",
   "language": "python",
   "name": "python3"
  },
  "language_info": {
   "codemirror_mode": {
    "name": "ipython",
    "version": 3
   },
   "file_extension": ".py",
   "mimetype": "text/x-python",
   "name": "python",
   "nbconvert_exporter": "python",
   "pygments_lexer": "ipython3",
   "version": "3.9.7"
  }
 },
 "nbformat": 4,
 "nbformat_minor": 5
}
