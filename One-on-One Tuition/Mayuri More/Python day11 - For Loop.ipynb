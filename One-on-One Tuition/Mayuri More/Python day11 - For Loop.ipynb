{
 "cells": [
  {
   "cell_type": "code",
   "execution_count": 1,
   "id": "dc57172d",
   "metadata": {},
   "outputs": [],
   "source": [
    "# For loop"
   ]
  },
  {
   "cell_type": "code",
   "execution_count": 2,
   "id": "546e0b44",
   "metadata": {},
   "outputs": [],
   "source": [
    "# SYNTAX:\n",
    "# for i in <object>:\n",
    "#     pass"
   ]
  },
  {
   "cell_type": "code",
   "execution_count": 3,
   "id": "3ff33fdb",
   "metadata": {},
   "outputs": [],
   "source": [
    "s = \"apdaga\""
   ]
  },
  {
   "cell_type": "code",
   "execution_count": 4,
   "id": "257bb367",
   "metadata": {},
   "outputs": [
    {
     "name": "stdout",
     "output_type": "stream",
     "text": [
      "a\n",
      "p\n",
      "d\n",
      "a\n",
      "g\n",
      "a\n"
     ]
    }
   ],
   "source": [
    "for i in s:\n",
    "    print(i)"
   ]
  },
  {
   "cell_type": "code",
   "execution_count": 5,
   "id": "a7f882da",
   "metadata": {},
   "outputs": [
    {
     "name": "stdout",
     "output_type": "stream",
     "text": [
      "1\n",
      "4\n",
      "9\n",
      "16\n",
      "25\n"
     ]
    }
   ],
   "source": [
    "l = [1,2,3,4,5]\n",
    "\n",
    "for i in l:\n",
    "    print(i**2)"
   ]
  },
  {
   "cell_type": "code",
   "execution_count": 6,
   "id": "d1e46c56",
   "metadata": {},
   "outputs": [
    {
     "name": "stdout",
     "output_type": "stream",
     "text": [
      "1\n",
      "4\n",
      "9\n",
      "16\n",
      "25\n"
     ]
    }
   ],
   "source": [
    "t = (1,2,3,4,5)\n",
    "\n",
    "for i in t:\n",
    "    print(i**2)"
   ]
  },
  {
   "cell_type": "code",
   "execution_count": 7,
   "id": "49ff3be2",
   "metadata": {},
   "outputs": [
    {
     "name": "stdout",
     "output_type": "stream",
     "text": [
      "1\n",
      "4\n",
      "9\n",
      "16\n",
      "25\n"
     ]
    }
   ],
   "source": [
    "s = {1,2,3,4,5}\n",
    "\n",
    "for i in s:\n",
    "    print(i**2)"
   ]
  },
  {
   "cell_type": "code",
   "execution_count": 9,
   "id": "40249c61",
   "metadata": {},
   "outputs": [
    {
     "name": "stdout",
     "output_type": "stream",
     "text": [
      "1\n",
      "2\n",
      "3\n"
     ]
    }
   ],
   "source": [
    "d = {1:'one', 2:'two', 3:'three'}\n",
    "\n",
    "for i in d:\n",
    "    print(i)"
   ]
  },
  {
   "cell_type": "code",
   "execution_count": 11,
   "id": "b127e18b",
   "metadata": {},
   "outputs": [
    {
     "name": "stdout",
     "output_type": "stream",
     "text": [
      "1\n",
      "2\n",
      "3\n"
     ]
    }
   ],
   "source": [
    "for k in d.keys():\n",
    "    print(k)"
   ]
  },
  {
   "cell_type": "code",
   "execution_count": 12,
   "id": "c5048051",
   "metadata": {},
   "outputs": [
    {
     "name": "stdout",
     "output_type": "stream",
     "text": [
      "one\n",
      "two\n",
      "three\n"
     ]
    }
   ],
   "source": [
    "for v in d.values():\n",
    "    print(v)"
   ]
  },
  {
   "cell_type": "code",
   "execution_count": 13,
   "id": "ebc043e2",
   "metadata": {},
   "outputs": [
    {
     "name": "stdout",
     "output_type": "stream",
     "text": [
      "1 one\n",
      "2 two\n",
      "3 three\n"
     ]
    }
   ],
   "source": [
    "for k,v in d.items():\n",
    "    print(k,v)"
   ]
  },
  {
   "cell_type": "code",
   "execution_count": 14,
   "id": "950d2242",
   "metadata": {},
   "outputs": [],
   "source": [
    "# for (i=0;i<=10;i++) # print 0 to 10"
   ]
  },
  {
   "cell_type": "code",
   "execution_count": 16,
   "id": "dc5a03dc",
   "metadata": {},
   "outputs": [],
   "source": [
    "r = range(10)"
   ]
  },
  {
   "cell_type": "code",
   "execution_count": 17,
   "id": "d4e6742e",
   "metadata": {},
   "outputs": [
    {
     "data": {
      "text/plain": [
       "range(0, 10)"
      ]
     },
     "execution_count": 17,
     "metadata": {},
     "output_type": "execute_result"
    }
   ],
   "source": [
    "r"
   ]
  },
  {
   "cell_type": "code",
   "execution_count": 18,
   "id": "459019c7",
   "metadata": {},
   "outputs": [
    {
     "data": {
      "text/plain": [
       "range"
      ]
     },
     "execution_count": 18,
     "metadata": {},
     "output_type": "execute_result"
    }
   ],
   "source": [
    "type(r)"
   ]
  },
  {
   "cell_type": "code",
   "execution_count": 19,
   "id": "bd947450",
   "metadata": {},
   "outputs": [
    {
     "data": {
      "text/plain": [
       "[0, 1, 2, 3, 4, 5, 6, 7, 8, 9]"
      ]
     },
     "execution_count": 19,
     "metadata": {},
     "output_type": "execute_result"
    }
   ],
   "source": [
    "list(r)"
   ]
  },
  {
   "cell_type": "code",
   "execution_count": 20,
   "id": "bcf5549a",
   "metadata": {},
   "outputs": [
    {
     "data": {
      "text/plain": [
       "[3, 4, 5, 6, 7, 8, 9]"
      ]
     },
     "execution_count": 20,
     "metadata": {},
     "output_type": "execute_result"
    }
   ],
   "source": [
    "list(range(3,10,1))"
   ]
  },
  {
   "cell_type": "code",
   "execution_count": 21,
   "id": "36a233cd",
   "metadata": {},
   "outputs": [
    {
     "data": {
      "text/plain": [
       "[3, 5, 7, 9]"
      ]
     },
     "execution_count": 21,
     "metadata": {},
     "output_type": "execute_result"
    }
   ],
   "source": [
    "list(range(3,10,2))"
   ]
  },
  {
   "cell_type": "code",
   "execution_count": 22,
   "id": "2b206c7b",
   "metadata": {},
   "outputs": [
    {
     "name": "stdout",
     "output_type": "stream",
     "text": [
      "0\n",
      "1\n",
      "2\n",
      "3\n",
      "4\n",
      "5\n",
      "6\n",
      "7\n",
      "8\n",
      "9\n"
     ]
    }
   ],
   "source": [
    "for i in range(10):\n",
    "    print(i)"
   ]
  },
  {
   "cell_type": "code",
   "execution_count": 23,
   "id": "29cc5933",
   "metadata": {},
   "outputs": [
    {
     "name": "stdout",
     "output_type": "stream",
     "text": [
      "3\n",
      "5\n",
      "7\n",
      "9\n"
     ]
    }
   ],
   "source": [
    "for i in range(3,10,2):\n",
    "    print(i)"
   ]
  },
  {
   "cell_type": "code",
   "execution_count": 28,
   "id": "20c2de60",
   "metadata": {},
   "outputs": [
    {
     "name": "stdout",
     "output_type": "stream",
     "text": [
      "0 a\n",
      "1 b\n",
      "2 c\n",
      "3 d\n",
      "4 e\n",
      "5 f\n"
     ]
    }
   ],
   "source": [
    "l = ['a','b','c','d','e','f']\n",
    "\n",
    "for i in range(len(l)):\n",
    "    print(i, l[i])"
   ]
  },
  {
   "cell_type": "code",
   "execution_count": 29,
   "id": "a1179ec1",
   "metadata": {},
   "outputs": [
    {
     "name": "stdout",
     "output_type": "stream",
     "text": [
      "a\n",
      "b\n",
      "c\n",
      "d\n",
      "e\n",
      "f\n",
      "[1, 2, 3]\n"
     ]
    }
   ],
   "source": [
    "l = ['a','b','c','d','e','f',[1,2,3]]\n",
    "\n",
    "for i in l:\n",
    "    print(i)"
   ]
  },
  {
   "cell_type": "code",
   "execution_count": 30,
   "id": "89b41bee",
   "metadata": {},
   "outputs": [
    {
     "name": "stdout",
     "output_type": "stream",
     "text": [
      "a\n",
      "b\n",
      "c\n",
      "d\n",
      "e\n",
      "f\n",
      "1\n",
      "2\n",
      "3\n"
     ]
    }
   ],
   "source": [
    "for i in l:\n",
    "    if (type(i) == str):\n",
    "        print(i)\n",
    "    elif (type(i) == list):\n",
    "        for j in i:\n",
    "            print(j)"
   ]
  },
  {
   "cell_type": "code",
   "execution_count": 32,
   "id": "9ebb787d",
   "metadata": {},
   "outputs": [],
   "source": [
    "l1 = [232,44.3,'akshay',41,True,[4,3,7,2,'daga'],5,(2.3,6,4),'mayuri']"
   ]
  },
  {
   "cell_type": "code",
   "execution_count": 35,
   "id": "14ab3ab8",
   "metadata": {},
   "outputs": [],
   "source": [
    "# 1. Print all the integer elements from l (ignore nested list/tuple)\n",
    "\n",
    "# 2. print all the integers from l \n",
    "# (even if it inside nested list/tuple)\n",
    "\n",
    "# 3. print all the charecter seperately from l \n",
    "# (even if it inside nested list/tuple)\n",
    "\n",
    "# 4. create a new list having all the string elements from given list\n",
    "# (even if it inside nested list/tuple)"
   ]
  },
  {
   "cell_type": "code",
   "execution_count": 39,
   "id": "07a8423f",
   "metadata": {},
   "outputs": [
    {
     "name": "stdout",
     "output_type": "stream",
     "text": [
      "232\n",
      "41\n",
      "5\n"
     ]
    }
   ],
   "source": [
    "# 1. Print all the integer elements from l (ignore nested list/tuple)\n",
    "for i in l1:\n",
    "    if (type(i) == int):\n",
    "        print(i)"
   ]
  },
  {
   "cell_type": "code",
   "execution_count": 41,
   "id": "c99f93ce",
   "metadata": {},
   "outputs": [
    {
     "name": "stdout",
     "output_type": "stream",
     "text": [
      "232\n",
      "41\n",
      "4\n",
      "3\n",
      "7\n",
      "2\n",
      "5\n",
      "6\n",
      "4\n"
     ]
    }
   ],
   "source": [
    "# 2. print all the integers from l \n",
    "# (even if it inside nested list/tuple)\n",
    "# Expected output = 232,41,4,3,7,2,5,6,4\n",
    "\n",
    "for i in l1:\n",
    "    if type(i) == int:\n",
    "        print(i)\n",
    "\n",
    "    elif (type(i) == list) or (type(i) == tuple):\n",
    "        for j in i:\n",
    "            if (type(j) == int):\n",
    "                print(j)"
   ]
  },
  {
   "cell_type": "code",
   "execution_count": 42,
   "id": "277aadda",
   "metadata": {},
   "outputs": [
    {
     "name": "stdout",
     "output_type": "stream",
     "text": [
      "232\n",
      "41\n",
      "4\n",
      "3\n",
      "7\n",
      "2\n",
      "5\n",
      "6\n",
      "4\n"
     ]
    }
   ],
   "source": [
    "for i in l1:\n",
    "    if type(i) == int:\n",
    "        print(i)\n",
    "\n",
    "    elif (type(i) in [list,tuple]):\n",
    "        for j in i:\n",
    "            if (type(j) == int):\n",
    "                print(j)"
   ]
  },
  {
   "cell_type": "code",
   "execution_count": 43,
   "id": "e751555a",
   "metadata": {},
   "outputs": [],
   "source": [
    "# Exercise 1: Print First 10 natural numbers using while loop\n",
    "# Exercise 2: Print the following pattern\n",
    "# Exercise 3: Calculate the sum of all numbers from 1 to a given number\n",
    "# Exercise 4: Write a program to print multiplication table of a given number\n",
    "# Exercise 5: Display numbers from a list using loop\n",
    "# Exercise 6: Count the total number of digits in a number\n",
    "# Exercise 7: Print the following pattern\n",
    "# Exercise 8: Print list in reverse order using a loop\n",
    "# Exercise 9: Display numbers from -10 to -1 using for loop\n",
    "# Exercise 10: Use else block to display a message “Done” after successful execution of for loop\n",
    "# Exercise 11: Write a program to display all prime numbers within a range\n",
    "# Exercise 12: Display Fibonacci series up to 10 terms\n",
    "# Exercise 13: Find the factorial of a given number\n",
    "# Exercise 14: Reverse a given integer number\n",
    "# Exercise 15: Use a loop to display elements from a given list present at odd index positions\n",
    "# Exercise 16: Calculate the cube of all numbers from 1 to a given number\n",
    "# Exercise 17: Find the sum of the series upto n terms\n",
    "# Exercise 18: Print the following pattern"
   ]
  },
  {
   "cell_type": "code",
   "execution_count": 46,
   "id": "629659e1",
   "metadata": {},
   "outputs": [],
   "source": [
    "# ANSWERS:\n",
    "# https://pynative.com/python-if-else-and-for-loop-exercise-with-solutions/\n"
   ]
  },
  {
   "cell_type": "code",
   "execution_count": 48,
   "id": "f24518f5",
   "metadata": {},
   "outputs": [
    {
     "data": {
      "text/plain": [
       "[0, 1, 2, 3, 4, 5, 6]"
      ]
     },
     "execution_count": 48,
     "metadata": {},
     "output_type": "execute_result"
    }
   ],
   "source": [
    "list(range(7))"
   ]
  },
  {
   "cell_type": "code",
   "execution_count": 49,
   "id": "0c10b637",
   "metadata": {},
   "outputs": [
    {
     "data": {
      "text/plain": [
       "[2, 3, 4, 5, 6]"
      ]
     },
     "execution_count": 49,
     "metadata": {},
     "output_type": "execute_result"
    }
   ],
   "source": [
    "list(range(2,7))"
   ]
  },
  {
   "cell_type": "code",
   "execution_count": 51,
   "id": "95f1ed4b",
   "metadata": {},
   "outputs": [
    {
     "data": {
      "text/plain": [
       "[2, 5, 8, 11, 14]"
      ]
     },
     "execution_count": 51,
     "metadata": {},
     "output_type": "execute_result"
    }
   ],
   "source": [
    "list(range(2,15,3))\n",
    "\n",
    "# for(i=2;i<15;i=i+3)    # c\n",
    "# for i in range(2,15,3) # python"
   ]
  },
  {
   "cell_type": "code",
   "execution_count": null,
   "id": "3ed24c51",
   "metadata": {},
   "outputs": [],
   "source": []
  }
 ],
 "metadata": {
  "kernelspec": {
   "display_name": "Python 3 (ipykernel)",
   "language": "python",
   "name": "python3"
  },
  "language_info": {
   "codemirror_mode": {
    "name": "ipython",
    "version": 3
   },
   "file_extension": ".py",
   "mimetype": "text/x-python",
   "name": "python",
   "nbconvert_exporter": "python",
   "pygments_lexer": "ipython3",
   "version": "3.9.7"
  }
 },
 "nbformat": 4,
 "nbformat_minor": 5
}
