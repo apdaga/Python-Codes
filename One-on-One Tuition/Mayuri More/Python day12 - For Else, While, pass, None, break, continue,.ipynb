{
 "cells": [
  {
   "cell_type": "code",
   "execution_count": 1,
   "id": "e9552258",
   "metadata": {},
   "outputs": [],
   "source": [
    "sampleDict = {\n",
    "    \"class\": {\n",
    "        \"student\": {\n",
    "            \"name\": \"Mike\",\n",
    "            \"marks\": {\n",
    "                \"physics\": 70,\n",
    "                \"history\": 80\n",
    "            }\n",
    "        }\n",
    "    }\n",
    "}"
   ]
  },
  {
   "cell_type": "code",
   "execution_count": 2,
   "id": "84beb0fe",
   "metadata": {},
   "outputs": [],
   "source": [
    "# Print the marks in history\n",
    "# print the name of the subjects student applied for\n",
    "# print the average of marks student got in all the subjects"
   ]
  },
  {
   "cell_type": "code",
   "execution_count": 3,
   "id": "9ed37166",
   "metadata": {},
   "outputs": [
    {
     "data": {
      "text/plain": [
       "{'class': {'student': {'name': 'Mike',\n",
       "   'marks': {'physics': 70, 'history': 80}}}}"
      ]
     },
     "execution_count": 3,
     "metadata": {},
     "output_type": "execute_result"
    }
   ],
   "source": [
    "sampleDict"
   ]
  },
  {
   "cell_type": "code",
   "execution_count": 9,
   "id": "79208369",
   "metadata": {},
   "outputs": [
    {
     "data": {
      "text/plain": [
       "80"
      ]
     },
     "execution_count": 9,
     "metadata": {},
     "output_type": "execute_result"
    }
   ],
   "source": [
    "sampleDict['class']['student']['marks']['history']"
   ]
  },
  {
   "cell_type": "code",
   "execution_count": 14,
   "id": "3f81e597",
   "metadata": {},
   "outputs": [
    {
     "data": {
      "text/plain": [
       "dict_keys(['physics', 'history'])"
      ]
     },
     "execution_count": 14,
     "metadata": {},
     "output_type": "execute_result"
    }
   ],
   "source": [
    "sampleDict['class']['student']['marks'].keys()"
   ]
  },
  {
   "cell_type": "code",
   "execution_count": 20,
   "id": "f6b0d0de",
   "metadata": {},
   "outputs": [
    {
     "data": {
      "text/plain": [
       "75.0"
      ]
     },
     "execution_count": 20,
     "metadata": {},
     "output_type": "execute_result"
    }
   ],
   "source": [
    "total = sum(sampleDict['class']['student']['marks'].values())\n",
    "n = len(sampleDict['class']['student']['marks'].values())\n",
    "\n",
    "avg = total/n\n",
    "avg"
   ]
  },
  {
   "cell_type": "code",
   "execution_count": 21,
   "id": "9ee615c8",
   "metadata": {},
   "outputs": [],
   "source": [
    "# Q. A 4 digit number is entered through keyboard. \n",
    "# Write a program to print a new number with digits \n",
    "# reversed as of orignal one. \n",
    "# E.g.-\n",
    "# INPUT : 1234        OUTPUT : 4321\n",
    "# INPUT : 5982        OUTPUT : 2895"
   ]
  },
  {
   "cell_type": "code",
   "execution_count": 27,
   "id": "63f85efd",
   "metadata": {},
   "outputs": [
    {
     "data": {
      "text/plain": [
       "4321"
      ]
     },
     "execution_count": 27,
     "metadata": {},
     "output_type": "execute_result"
    }
   ],
   "source": [
    "# num = int(input(\"Enter a 4 digit no.: \"))\n",
    "num = 1234\n",
    "int(str(num)[::-1])\n",
    "# print(int(str(num)[::-1]))"
   ]
  },
  {
   "cell_type": "code",
   "execution_count": 32,
   "id": "3f6fec60",
   "metadata": {},
   "outputs": [
    {
     "data": {
      "text/plain": [
       "4321"
      ]
     },
     "execution_count": 32,
     "metadata": {},
     "output_type": "execute_result"
    }
   ],
   "source": [
    "num = 1234 \n",
    "\n",
    "fourth = (num%10)   #4\n",
    "num = int(num/10)   #123\n",
    "third = num%10      #3\n",
    "num = int(num/10)   #12\n",
    "second = num%10     #2\n",
    "first = int(num/10) #1 \n",
    "\n",
    "fourth, third, second, first\n",
    "\n",
    "out = fourth*1000 + third*100 + second*10 + first\n",
    "out"
   ]
  },
  {
   "cell_type": "code",
   "execution_count": 33,
   "id": "31240cff",
   "metadata": {},
   "outputs": [
    {
     "name": "stdout",
     "output_type": "stream",
     "text": [
      "4321\n"
     ]
    }
   ],
   "source": [
    "# print(\"Enter number\")\n",
    "# number = int(input()) \n",
    "number = 1234\n",
    "#seperating digits of the number \n",
    "\n",
    "#1234/1000 = 1 #1234%1000 = 234 \n",
    "first = int(number/1000) \n",
    "rem = number%1000 \n",
    "\n",
    "#234/100 = 2 #234%100 = 34 \n",
    "second = int(rem/100) \n",
    "rem = rem%100 \n",
    "\n",
    "#34/10 = 3 #34%10 = 4 \n",
    "third = int(rem/10) \n",
    "fourth = int(rem%10) \n",
    "\n",
    "#creating new number with digits reversed \n",
    "#1234 = (1*1000)+(2*100)+(3*10)+4 i.e., 1000+200+30+4 \n",
    "\n",
    "new_number = (fourth*1000)+(third*100)+(second*10)+(first) \n",
    "print(new_number)"
   ]
  },
  {
   "cell_type": "code",
   "execution_count": 34,
   "id": "0d5e4970",
   "metadata": {},
   "outputs": [],
   "source": [
    "# Q. Write a program to check if a year is leap year or not.\n",
    "\n",
    "# NOTE: If a year is divisible by 4 then it is leap year \n",
    "# but if the year is century year like 2000, 1900, 2100 \n",
    "# then it must be divisible by 400."
   ]
  },
  {
   "cell_type": "code",
   "execution_count": 44,
   "id": "8f04cd63",
   "metadata": {},
   "outputs": [
    {
     "name": "stdout",
     "output_type": "stream",
     "text": [
      "Enter a 4 digit year: 2000\n",
      "leap year\n"
     ]
    }
   ],
   "source": [
    "year = int(input(\"Enter a 4 digit year: \"))\n",
    "\n",
    "if (year%4 == 0):\n",
    "    if (year%100==0) and (year%400==0):\n",
    "        print(\"leap year\")\n",
    "    elif (year%100==0) and (year%400!=0):\n",
    "        print(\"Not leap year\")\n",
    "    else:\n",
    "        print(\"leap year\")\n",
    "else:\n",
    "    print(\"Not a leap year\")"
   ]
  },
  {
   "cell_type": "markdown",
   "id": "99319dc6",
   "metadata": {},
   "source": [
    "# For-Else"
   ]
  },
  {
   "cell_type": "code",
   "execution_count": 46,
   "id": "8daa384a",
   "metadata": {},
   "outputs": [
    {
     "name": "stdout",
     "output_type": "stream",
     "text": [
      "a\n",
      "b\n",
      "c\n",
      "d\n",
      "e\n"
     ]
    }
   ],
   "source": [
    "l = ['a','b','c','d','e']\n",
    "\n",
    "for i in l:\n",
    "    print(i)"
   ]
  },
  {
   "cell_type": "code",
   "execution_count": 47,
   "id": "8f626603",
   "metadata": {},
   "outputs": [
    {
     "name": "stdout",
     "output_type": "stream",
     "text": [
      "a\n",
      "b\n",
      "c\n",
      "d\n",
      "e\n",
      "for loop finished\n"
     ]
    }
   ],
   "source": [
    "for i in l:\n",
    "    print(i)\n",
    "else:\n",
    "    print(\"for loop finished\")"
   ]
  },
  {
   "cell_type": "code",
   "execution_count": 48,
   "id": "b00dbaea",
   "metadata": {},
   "outputs": [
    {
     "name": "stdout",
     "output_type": "stream",
     "text": [
      "a\n",
      "b\n",
      "c\n",
      "d\n",
      "e\n",
      "for loop finished\n"
     ]
    }
   ],
   "source": [
    "for i in l:\n",
    "    print(i)\n",
    "\n",
    "print(\"for loop finished\")"
   ]
  },
  {
   "cell_type": "code",
   "execution_count": 51,
   "id": "4217f5db",
   "metadata": {},
   "outputs": [
    {
     "name": "stdout",
     "output_type": "stream",
     "text": [
      "a\n",
      "b\n",
      "for loop finished\n"
     ]
    }
   ],
   "source": [
    "for i in l:\n",
    "    if i=='c':\n",
    "        break\n",
    "    print(i)\n",
    "    \n",
    "print(\"for loop finished\")"
   ]
  },
  {
   "cell_type": "code",
   "execution_count": 52,
   "id": "7c9998a5",
   "metadata": {},
   "outputs": [
    {
     "name": "stdout",
     "output_type": "stream",
     "text": [
      "a\n",
      "b\n"
     ]
    }
   ],
   "source": [
    "for i in l:\n",
    "    if i=='c':\n",
    "        break\n",
    "    print(i)\n",
    "else:\n",
    "    print(\"for loop finished\")"
   ]
  },
  {
   "cell_type": "markdown",
   "id": "a912a3b4",
   "metadata": {},
   "source": [
    "# While loop"
   ]
  },
  {
   "cell_type": "code",
   "execution_count": 54,
   "id": "b1e15b2c",
   "metadata": {},
   "outputs": [],
   "source": [
    "# syntax:\n",
    "\n",
    "# while <condition>:\n",
    "#     print()"
   ]
  },
  {
   "cell_type": "code",
   "execution_count": 59,
   "id": "c4dfc9af",
   "metadata": {},
   "outputs": [],
   "source": [
    "# i=0\n",
    "# while 1==1:\n",
    "#     i=i+1\n",
    "#     print(i)"
   ]
  },
  {
   "cell_type": "code",
   "execution_count": 60,
   "id": "1b30ab97",
   "metadata": {},
   "outputs": [
    {
     "name": "stdout",
     "output_type": "stream",
     "text": [
      "0\n",
      "1\n",
      "2\n",
      "3\n",
      "4\n",
      "5\n",
      "6\n",
      "7\n",
      "8\n",
      "9\n"
     ]
    }
   ],
   "source": [
    "i=0\n",
    "while i<10:\n",
    "    print(i)\n",
    "    i=i+1"
   ]
  },
  {
   "cell_type": "markdown",
   "id": "78327153",
   "metadata": {},
   "source": [
    "# break / pass / continue"
   ]
  },
  {
   "cell_type": "code",
   "execution_count": 61,
   "id": "3d20d835",
   "metadata": {},
   "outputs": [
    {
     "name": "stdout",
     "output_type": "stream",
     "text": [
      "0\n",
      "1\n",
      "2\n",
      "3\n",
      "4\n",
      "5\n",
      "6\n",
      "7\n",
      "8\n",
      "9\n"
     ]
    }
   ],
   "source": [
    "for i in range(10):\n",
    "    print(i)"
   ]
  },
  {
   "cell_type": "code",
   "execution_count": 62,
   "id": "266b468a",
   "metadata": {},
   "outputs": [],
   "source": [
    "# c-programming\n",
    "# for(){\n",
    "# }"
   ]
  },
  {
   "cell_type": "code",
   "execution_count": 64,
   "id": "da93a77a",
   "metadata": {},
   "outputs": [],
   "source": [
    "for i in range(10):\n",
    "    pass"
   ]
  },
  {
   "cell_type": "code",
   "execution_count": 66,
   "id": "58ea949b",
   "metadata": {},
   "outputs": [],
   "source": [
    "i=0\n",
    "if i<5:\n",
    "    pass"
   ]
  },
  {
   "cell_type": "code",
   "execution_count": 67,
   "id": "9eaeec7e",
   "metadata": {},
   "outputs": [],
   "source": [
    "for i in range(10):\n",
    "    None"
   ]
  },
  {
   "cell_type": "code",
   "execution_count": 68,
   "id": "d876e519",
   "metadata": {},
   "outputs": [
    {
     "data": {
      "text/plain": [
       "NoneType"
      ]
     },
     "execution_count": 68,
     "metadata": {},
     "output_type": "execute_result"
    }
   ],
   "source": [
    "type(None)"
   ]
  },
  {
   "cell_type": "code",
   "execution_count": 69,
   "id": "b9986704",
   "metadata": {},
   "outputs": [],
   "source": [
    "a = None"
   ]
  },
  {
   "cell_type": "code",
   "execution_count": 71,
   "id": "34baf52c",
   "metadata": {},
   "outputs": [
    {
     "ename": "SyntaxError",
     "evalue": "invalid syntax (Temp/ipykernel_2948/3495732638.py, line 1)",
     "output_type": "error",
     "traceback": [
      "\u001b[1;36m  File \u001b[1;32m\"C:\\Users\\apdag\\AppData\\Local\\Temp/ipykernel_2948/3495732638.py\"\u001b[1;36m, line \u001b[1;32m1\u001b[0m\n\u001b[1;33m    a = pass\u001b[0m\n\u001b[1;37m        ^\u001b[0m\n\u001b[1;31mSyntaxError\u001b[0m\u001b[1;31m:\u001b[0m invalid syntax\n"
     ]
    }
   ],
   "source": [
    "a = pass"
   ]
  },
  {
   "cell_type": "code",
   "execution_count": 72,
   "id": "aa19cc58",
   "metadata": {},
   "outputs": [
    {
     "name": "stdout",
     "output_type": "stream",
     "text": [
      "0\n",
      "1\n",
      "2\n",
      "3\n",
      "4\n",
      "5\n",
      "6\n",
      "7\n",
      "8\n",
      "9\n"
     ]
    }
   ],
   "source": [
    "for i in range(10):\n",
    "    print(i)\n",
    "    pass"
   ]
  },
  {
   "cell_type": "code",
   "execution_count": 75,
   "id": "d1cf4532",
   "metadata": {},
   "outputs": [
    {
     "name": "stdout",
     "output_type": "stream",
     "text": [
      "0\n",
      "1\n",
      "2\n",
      "3\n",
      "4\n",
      "This line is after for loop\n"
     ]
    }
   ],
   "source": [
    "for i in range(10):\n",
    "    if i==5:\n",
    "        break\n",
    "    print(i)\n",
    "    \n",
    "print(\"This line is after for loop\")"
   ]
  },
  {
   "cell_type": "code",
   "execution_count": 81,
   "id": "a4fed44e",
   "metadata": {},
   "outputs": [
    {
     "name": "stdout",
     "output_type": "stream",
     "text": [
      "Hi\n",
      "0\n",
      "hello\n",
      "Hi\n",
      "1\n",
      "hello\n",
      "Hi\n",
      "2\n",
      "hello\n",
      "Hi\n",
      "3\n",
      "hello\n",
      "Hi\n",
      "4\n",
      "hello\n",
      "Hi\n",
      "Hi\n",
      "6\n",
      "hello\n",
      "Hi\n",
      "7\n",
      "hello\n",
      "Hi\n",
      "8\n",
      "hello\n",
      "Hi\n",
      "9\n",
      "hello\n",
      "This line is after for loop\n"
     ]
    }
   ],
   "source": [
    "for i in range(10):\n",
    "    print('Hi')\n",
    "    if i==5:\n",
    "        continue\n",
    "    print(i)\n",
    "    print('hello')\n",
    "    \n",
    "print(\"This line is after for loop\")\n",
    "\n",
    "# continue: will skip all lines from for loop written below continue statement\n",
    "# for that perticular iteration"
   ]
  },
  {
   "cell_type": "code",
   "execution_count": null,
   "id": "ea7f9750",
   "metadata": {},
   "outputs": [],
   "source": []
  }
 ],
 "metadata": {
  "kernelspec": {
   "display_name": "Python 3 (ipykernel)",
   "language": "python",
   "name": "python3"
  },
  "language_info": {
   "codemirror_mode": {
    "name": "ipython",
    "version": 3
   },
   "file_extension": ".py",
   "mimetype": "text/x-python",
   "name": "python",
   "nbconvert_exporter": "python",
   "pygments_lexer": "ipython3",
   "version": "3.9.7"
  }
 },
 "nbformat": 4,
 "nbformat_minor": 5
}
