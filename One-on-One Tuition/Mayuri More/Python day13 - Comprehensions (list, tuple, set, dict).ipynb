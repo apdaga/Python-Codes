{
 "cells": [
  {
   "cell_type": "code",
   "execution_count": 1,
   "id": "b249d9b0",
   "metadata": {},
   "outputs": [],
   "source": [
    "# Exercise 6: Count the total number of digits in a number"
   ]
  },
  {
   "cell_type": "code",
   "execution_count": 26,
   "id": "9d7550f3",
   "metadata": {},
   "outputs": [
    {
     "name": "stdout",
     "output_type": "stream",
     "text": [
      "Enter a number: -123\n"
     ]
    },
    {
     "data": {
      "text/plain": [
       "3"
      ]
     },
     "execution_count": 26,
     "metadata": {},
     "output_type": "execute_result"
    }
   ],
   "source": [
    "num = int(input(\"Enter a number: \"))\n",
    "#num = 12345\n",
    "count = 0\n",
    "\n",
    "if num > 0:\n",
    "    while num>0:\n",
    "        num = num // 10  # num = int(num/10)\n",
    "        count=count+1\n",
    "else:\n",
    "    while num!=0:\n",
    "        num = int(num / 10)\n",
    "        count = count+1\n",
    "        \n",
    "count"
   ]
  },
  {
   "cell_type": "code",
   "execution_count": 30,
   "id": "2085bd84",
   "metadata": {},
   "outputs": [
    {
     "name": "stdout",
     "output_type": "stream",
     "text": [
      "Enter a number: 1234567\n"
     ]
    },
    {
     "data": {
      "text/plain": [
       "7"
      ]
     },
     "execution_count": 30,
     "metadata": {},
     "output_type": "execute_result"
    }
   ],
   "source": [
    "# Works for positive as well as neggative number\n",
    "\n",
    "num = int(input(\"Enter a number: \"))\n",
    "count = 0\n",
    "\n",
    "while num!=0:\n",
    "        num = int(num / 10)  # num = int(num/10)\n",
    "        count=count+1\n",
    "        \n",
    "count"
   ]
  },
  {
   "cell_type": "code",
   "execution_count": 15,
   "id": "abd04bb4",
   "metadata": {},
   "outputs": [
    {
     "data": {
      "text/plain": [
       "5"
      ]
     },
     "execution_count": 15,
     "metadata": {},
     "output_type": "execute_result"
    }
   ],
   "source": [
    "## Using for loop (works but Useless code)\n",
    "\n",
    "# num = int(input(\"Enter a number: \"))\n",
    "num = 12345\n",
    "\n",
    "# len(str(num))  # = Answer\n",
    "\n",
    "count = 0\n",
    "for i in range(len(str(num))):\n",
    "    count = count+1\n",
    "    \n",
    "count"
   ]
  },
  {
   "cell_type": "markdown",
   "id": "b1683bff",
   "metadata": {},
   "source": [
    "# List comprehension"
   ]
  },
  {
   "cell_type": "code",
   "execution_count": 1,
   "id": "12003d6a",
   "metadata": {},
   "outputs": [],
   "source": [
    "l = [1,2,3,4,5,6,7,8,9,10,11]"
   ]
  },
  {
   "cell_type": "code",
   "execution_count": 32,
   "id": "b3844f27",
   "metadata": {},
   "outputs": [
    {
     "name": "stdout",
     "output_type": "stream",
     "text": [
      "2\n",
      "4\n",
      "6\n",
      "8\n",
      "10\n"
     ]
    }
   ],
   "source": [
    "# print the even number from list l\n",
    "\n",
    "for i in l:\n",
    "    if i%2==0:\n",
    "        print(i)"
   ]
  },
  {
   "cell_type": "code",
   "execution_count": 33,
   "id": "8acdd1d1",
   "metadata": {},
   "outputs": [
    {
     "data": {
      "text/plain": [
       "[2, 4, 6, 8, 10]"
      ]
     },
     "execution_count": 33,
     "metadata": {},
     "output_type": "execute_result"
    }
   ],
   "source": [
    "# create a new list with the even number from list l\n",
    "\n",
    "out=[]\n",
    "for i in l:\n",
    "    if i%2==0:\n",
    "        out.append(i)\n",
    "        \n",
    "out"
   ]
  },
  {
   "cell_type": "code",
   "execution_count": 36,
   "id": "f63d31cd",
   "metadata": {},
   "outputs": [
    {
     "data": {
      "text/plain": [
       "[1, 2, 3, 4, 5, 6, 7, 8, 9, 10, 11]"
      ]
     },
     "execution_count": 36,
     "metadata": {},
     "output_type": "execute_result"
    }
   ],
   "source": [
    "[i for i in l]"
   ]
  },
  {
   "cell_type": "code",
   "execution_count": 37,
   "id": "dcec21a2",
   "metadata": {},
   "outputs": [
    {
     "data": {
      "text/plain": [
       "[1, 4, 9, 16, 25, 36, 49, 64, 81, 100, 121]"
      ]
     },
     "execution_count": 37,
     "metadata": {},
     "output_type": "execute_result"
    }
   ],
   "source": [
    "[i**2 for i in l]"
   ]
  },
  {
   "cell_type": "code",
   "execution_count": 38,
   "id": "4830126f",
   "metadata": {},
   "outputs": [
    {
     "data": {
      "text/plain": [
       "[2, 4, 6, 8, 10]"
      ]
     },
     "execution_count": 38,
     "metadata": {},
     "output_type": "execute_result"
    }
   ],
   "source": [
    "[i for i in l if i%2==0]"
   ]
  },
  {
   "cell_type": "code",
   "execution_count": 39,
   "id": "cff4ca6b",
   "metadata": {},
   "outputs": [
    {
     "data": {
      "text/plain": [
       "[4, 16, 36, 64, 100]"
      ]
     },
     "execution_count": 39,
     "metadata": {},
     "output_type": "execute_result"
    }
   ],
   "source": [
    "[i**2 for i in l if i%2==0]"
   ]
  },
  {
   "cell_type": "code",
   "execution_count": 40,
   "id": "27a77b32",
   "metadata": {},
   "outputs": [
    {
     "data": {
      "text/plain": [
       "{4, 16, 36, 64, 100}"
      ]
     },
     "execution_count": 40,
     "metadata": {},
     "output_type": "execute_result"
    }
   ],
   "source": [
    "# set comprehension\n",
    "{i**2 for i in l if i%2==0}"
   ]
  },
  {
   "cell_type": "code",
   "execution_count": 41,
   "id": "d6108aeb",
   "metadata": {},
   "outputs": [
    {
     "data": {
      "text/plain": [
       "<generator object <genexpr> at 0x000002CACE3E4200>"
      ]
     },
     "execution_count": 41,
     "metadata": {},
     "output_type": "execute_result"
    }
   ],
   "source": [
    "# tuple comprehension\n",
    "(i**2 for i in l if i%2==0)"
   ]
  },
  {
   "cell_type": "code",
   "execution_count": 42,
   "id": "0192930e",
   "metadata": {},
   "outputs": [
    {
     "data": {
      "text/plain": [
       "(4, 16, 36, 64, 100)"
      ]
     },
     "execution_count": 42,
     "metadata": {},
     "output_type": "execute_result"
    }
   ],
   "source": [
    "tuple(i**2 for i in l if i%2==0)"
   ]
  },
  {
   "cell_type": "code",
   "execution_count": 43,
   "id": "d8b217c1",
   "metadata": {},
   "outputs": [
    {
     "data": {
      "text/plain": [
       "[4, 16, 36, 64, 100]"
      ]
     },
     "execution_count": 43,
     "metadata": {},
     "output_type": "execute_result"
    }
   ],
   "source": [
    "list(i**2 for i in l if i%2==0)"
   ]
  },
  {
   "cell_type": "code",
   "execution_count": 44,
   "id": "9994f3a4",
   "metadata": {},
   "outputs": [
    {
     "data": {
      "text/plain": [
       "{4, 16, 36, 64, 100}"
      ]
     },
     "execution_count": 44,
     "metadata": {},
     "output_type": "execute_result"
    }
   ],
   "source": [
    "set(i**2 for i in l if i%2==0)"
   ]
  },
  {
   "cell_type": "code",
   "execution_count": 45,
   "id": "dc4da16a",
   "metadata": {},
   "outputs": [
    {
     "data": {
      "text/plain": [
       "[1, 4, 9, 16, 25, 36, 49, 64, 81, 100, 121]"
      ]
     },
     "execution_count": 45,
     "metadata": {},
     "output_type": "execute_result"
    }
   ],
   "source": [
    "[i**2 for i in l]"
   ]
  },
  {
   "cell_type": "code",
   "execution_count": 46,
   "id": "4f360e36",
   "metadata": {},
   "outputs": [
    {
     "data": {
      "text/plain": [
       "[11, 12, 13, 14, 15, 16, 17, 18, 19, 20, 21]"
      ]
     },
     "execution_count": 46,
     "metadata": {},
     "output_type": "execute_result"
    }
   ],
   "source": [
    "[i+10 for i in l]"
   ]
  },
  {
   "cell_type": "code",
   "execution_count": 47,
   "id": "37b44f7d",
   "metadata": {},
   "outputs": [
    {
     "ename": "SyntaxError",
     "evalue": "invalid syntax (Temp/ipykernel_19640/114683020.py, line 1)",
     "output_type": "error",
     "traceback": [
      "\u001b[1;36m  File \u001b[1;32m\"C:\\Users\\apdaga\\AppData\\Local\\Temp/ipykernel_19640/114683020.py\"\u001b[1;36m, line \u001b[1;32m1\u001b[0m\n\u001b[1;33m    [i**2, i+10 for i in l]\u001b[0m\n\u001b[1;37m                ^\u001b[0m\n\u001b[1;31mSyntaxError\u001b[0m\u001b[1;31m:\u001b[0m invalid syntax\n"
     ]
    }
   ],
   "source": [
    "[i**2, i+10 for i in l]"
   ]
  },
  {
   "cell_type": "code",
   "execution_count": 48,
   "id": "d766987a",
   "metadata": {},
   "outputs": [
    {
     "data": {
      "text/plain": [
       "[(1, 11),\n",
       " (4, 12),\n",
       " (9, 13),\n",
       " (16, 14),\n",
       " (25, 15),\n",
       " (36, 16),\n",
       " (49, 17),\n",
       " (64, 18),\n",
       " (81, 19),\n",
       " (100, 20),\n",
       " (121, 21)]"
      ]
     },
     "execution_count": 48,
     "metadata": {},
     "output_type": "execute_result"
    }
   ],
   "source": [
    "[(i**2, i+10) for i in l]"
   ]
  },
  {
   "cell_type": "code",
   "execution_count": 49,
   "id": "38e67f73",
   "metadata": {},
   "outputs": [
    {
     "data": {
      "text/plain": [
       "[(4, 12), (16, 14), (36, 16), (64, 18), (100, 20)]"
      ]
     },
     "execution_count": 49,
     "metadata": {},
     "output_type": "execute_result"
    }
   ],
   "source": [
    "[(i**2, i+10) for i in l if i%2==0]"
   ]
  },
  {
   "cell_type": "code",
   "execution_count": 50,
   "id": "63b0c33a",
   "metadata": {},
   "outputs": [
    {
     "data": {
      "text/plain": [
       "[(16, 14), (25, 15), (36, 16), (49, 17)]"
      ]
     },
     "execution_count": 50,
     "metadata": {},
     "output_type": "execute_result"
    }
   ],
   "source": [
    "[(i**2, i+10) for i in l if (i>3) and (i<8)]"
   ]
  },
  {
   "cell_type": "code",
   "execution_count": 53,
   "id": "227bb04f",
   "metadata": {},
   "outputs": [],
   "source": [
    "# for is applicable on on iterable objects (i.e. collection of objects):\n",
    "# -> str, list, tuple, set, dict, etc."
   ]
  },
  {
   "cell_type": "code",
   "execution_count": 58,
   "id": "8c2822a3",
   "metadata": {},
   "outputs": [],
   "source": [
    "# whenever you want to apply for loop on int, \n",
    "# you have to use range function"
   ]
  },
  {
   "cell_type": "code",
   "execution_count": 61,
   "id": "20323276",
   "metadata": {},
   "outputs": [
    {
     "ename": "SyntaxError",
     "evalue": "invalid syntax (Temp/ipykernel_19640/3165513565.py, line 4)",
     "output_type": "error",
     "traceback": [
      "\u001b[1;36m  File \u001b[1;32m\"C:\\Users\\apdaga\\AppData\\Local\\Temp/ipykernel_19640/3165513565.py\"\u001b[1;36m, line \u001b[1;32m4\u001b[0m\n\u001b[1;33m    [i**2 for i in l if i%2==0 else 0]\u001b[0m\n\u001b[1;37m                               ^\u001b[0m\n\u001b[1;31mSyntaxError\u001b[0m\u001b[1;31m:\u001b[0m invalid syntax\n"
     ]
    }
   ],
   "source": [
    "# Q. put square of element from l for all even elements of l \n",
    "# and put 0 for all odd elements of l\n",
    "\n",
    "[i**2 for i in l if i%2==0 else 0]"
   ]
  },
  {
   "cell_type": "code",
   "execution_count": 62,
   "id": "c0502be3",
   "metadata": {},
   "outputs": [
    {
     "data": {
      "text/plain": [
       "[0, 4, 0, 16, 0, 36, 0, 64, 0, 100, 0]"
      ]
     },
     "execution_count": 62,
     "metadata": {},
     "output_type": "execute_result"
    }
   ],
   "source": [
    "[i**2 if i%2==0 else 0 for i in l]"
   ]
  },
  {
   "cell_type": "code",
   "execution_count": 63,
   "id": "60b293d1",
   "metadata": {},
   "outputs": [
    {
     "data": {
      "text/plain": [
       "[0, 4, 0, 16, 0, 36, 0, 64, 0, 100, 0]"
      ]
     },
     "execution_count": 63,
     "metadata": {},
     "output_type": "execute_result"
    }
   ],
   "source": [
    "# Expanded version of above 1 line code\n",
    "\n",
    "out=[]\n",
    "for i in l:\n",
    "    if i%2==0:\n",
    "        out.append(i**2)  \n",
    "    else:\n",
    "        out.append(0)\n",
    "        \n",
    "out"
   ]
  },
  {
   "cell_type": "code",
   "execution_count": 64,
   "id": "74002110",
   "metadata": {},
   "outputs": [
    {
     "data": {
      "text/plain": [
       "[4, 16, 36, 64, 100]"
      ]
     },
     "execution_count": 64,
     "metadata": {},
     "output_type": "execute_result"
    }
   ],
   "source": [
    "[i**2 for i in l if i%2==0]"
   ]
  },
  {
   "cell_type": "code",
   "execution_count": 65,
   "id": "9ba5af41",
   "metadata": {},
   "outputs": [
    {
     "data": {
      "text/plain": [
       "[4, 16, 36, 64, 100]"
      ]
     },
     "execution_count": 65,
     "metadata": {},
     "output_type": "execute_result"
    }
   ],
   "source": [
    "# Expanded version of above 1 line code\n",
    "\n",
    "out = []\n",
    "for i in l:\n",
    "    if i%2==0:\n",
    "        out.append(i**2)\n",
    "out"
   ]
  },
  {
   "cell_type": "code",
   "execution_count": 66,
   "id": "70eec21d",
   "metadata": {},
   "outputs": [
    {
     "ename": "SyntaxError",
     "evalue": "invalid syntax (Temp/ipykernel_19640/93137958.py, line 1)",
     "output_type": "error",
     "traceback": [
      "\u001b[1;36m  File \u001b[1;32m\"C:\\Users\\apdaga\\AppData\\Local\\Temp/ipykernel_19640/93137958.py\"\u001b[1;36m, line \u001b[1;32m1\u001b[0m\n\u001b[1;33m    [i**2 if i%2==0 for i in l]\u001b[0m\n\u001b[1;37m                    ^\u001b[0m\n\u001b[1;31mSyntaxError\u001b[0m\u001b[1;31m:\u001b[0m invalid syntax\n"
     ]
    }
   ],
   "source": [
    "# Wrong syntax if you use 'if' condition without 'else' condition\n",
    "\n",
    "[i**2 if i%2==0 for i in l]"
   ]
  },
  {
   "cell_type": "code",
   "execution_count": 3,
   "id": "7e814451",
   "metadata": {},
   "outputs": [
    {
     "data": {
      "text/plain": [
       "[4, 16, 36, 64, 100]"
      ]
     },
     "execution_count": 3,
     "metadata": {},
     "output_type": "execute_result"
    }
   ],
   "source": [
    "# list\n",
    "[i**2 for i in l if i%2==0]\n",
    "list(i**2 for i in l if i%2==0)"
   ]
  },
  {
   "cell_type": "code",
   "execution_count": 6,
   "id": "1fafc61b",
   "metadata": {},
   "outputs": [
    {
     "data": {
      "text/plain": [
       "(4, 16, 36, 64, 100)"
      ]
     },
     "execution_count": 6,
     "metadata": {},
     "output_type": "execute_result"
    }
   ],
   "source": [
    "# tuple\n",
    "tuple(i**2 for i in l if i%2==0)"
   ]
  },
  {
   "cell_type": "code",
   "execution_count": 8,
   "id": "fa66449a",
   "metadata": {},
   "outputs": [
    {
     "data": {
      "text/plain": [
       "{4, 16, 36, 64, 100}"
      ]
     },
     "execution_count": 8,
     "metadata": {},
     "output_type": "execute_result"
    }
   ],
   "source": [
    "#set\n",
    "{i**2 for i in l if i%2==0}\n",
    "set(i**2 for i in l if i%2==0)"
   ]
  },
  {
   "cell_type": "code",
   "execution_count": 10,
   "id": "850e41ff",
   "metadata": {},
   "outputs": [],
   "source": [
    "# dict\n",
    "d = {1:'a', 2:'b', 3:'c'}"
   ]
  },
  {
   "cell_type": "code",
   "execution_count": 11,
   "id": "938b2be8",
   "metadata": {},
   "outputs": [
    {
     "data": {
      "text/plain": [
       "{1: 'a', 2: 'b', 3: 'c'}"
      ]
     },
     "execution_count": 11,
     "metadata": {},
     "output_type": "execute_result"
    }
   ],
   "source": [
    "{k:v for k,v in d.items()}"
   ]
  },
  {
   "cell_type": "code",
   "execution_count": 13,
   "id": "8325d5c1",
   "metadata": {},
   "outputs": [
    {
     "data": {
      "text/plain": [
       "{1: 'a', 4: 'b', 9: 'c'}"
      ]
     },
     "execution_count": 13,
     "metadata": {},
     "output_type": "execute_result"
    }
   ],
   "source": [
    "{k**2:v for k,v in d.items()}"
   ]
  },
  {
   "cell_type": "code",
   "execution_count": 14,
   "id": "2979568d",
   "metadata": {},
   "outputs": [
    {
     "data": {
      "text/plain": [
       "{1: 'aa', 4: 'bb', 9: 'cc'}"
      ]
     },
     "execution_count": 14,
     "metadata": {},
     "output_type": "execute_result"
    }
   ],
   "source": [
    "{k**2:v*2 for k,v in d.items()}"
   ]
  },
  {
   "cell_type": "code",
   "execution_count": 17,
   "id": "8ee8f153",
   "metadata": {},
   "outputs": [
    {
     "ename": "SyntaxError",
     "evalue": "invalid syntax (Temp/ipykernel_21032/1071621181.py, line 3)",
     "output_type": "error",
     "traceback": [
      "\u001b[1;36m  File \u001b[1;32m\"C:\\Users\\apdaga\\AppData\\Local\\Temp/ipykernel_21032/1071621181.py\"\u001b[1;36m, line \u001b[1;32m3\u001b[0m\n\u001b[1;33m    dict(k**2:v*2 for k,v in d.items())\u001b[0m\n\u001b[1;37m             ^\u001b[0m\n\u001b[1;31mSyntaxError\u001b[0m\u001b[1;31m:\u001b[0m invalid syntax\n"
     ]
    }
   ],
   "source": [
    "# wrong syntax:\n",
    "\n",
    "dict(k**2:v*2 for k,v in d.items())"
   ]
  },
  {
   "cell_type": "code",
   "execution_count": null,
   "id": "df3aa7cb",
   "metadata": {},
   "outputs": [],
   "source": []
  }
 ],
 "metadata": {
  "kernelspec": {
   "display_name": "Python 3 (ipykernel)",
   "language": "python",
   "name": "python3"
  },
  "language_info": {
   "codemirror_mode": {
    "name": "ipython",
    "version": 3
   },
   "file_extension": ".py",
   "mimetype": "text/x-python",
   "name": "python",
   "nbconvert_exporter": "python",
   "pygments_lexer": "ipython3",
   "version": "3.9.7"
  }
 },
 "nbformat": 4,
 "nbformat_minor": 5
}
