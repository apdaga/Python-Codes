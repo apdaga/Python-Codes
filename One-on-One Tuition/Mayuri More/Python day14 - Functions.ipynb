{
 "cells": [
  {
   "cell_type": "code",
   "execution_count": 1,
   "id": "dd3e47c0",
   "metadata": {},
   "outputs": [
    {
     "data": {
      "text/plain": [
       "(10, 5)"
      ]
     },
     "execution_count": 1,
     "metadata": {},
     "output_type": "execute_result"
    }
   ],
   "source": [
    "# swap 2 variable\n",
    "\n",
    "a = 5\n",
    "b = 10\n",
    "\n",
    "temp = a\n",
    "a = b\n",
    "b = temp\n",
    "\n",
    "a,b"
   ]
  },
  {
   "cell_type": "code",
   "execution_count": 2,
   "id": "6d140ee4",
   "metadata": {},
   "outputs": [
    {
     "name": "stdout",
     "output_type": "stream",
     "text": [
      "Akshay\n"
     ]
    }
   ],
   "source": [
    "print(\"Akshay\")"
   ]
  },
  {
   "cell_type": "code",
   "execution_count": 3,
   "id": "8d3970a5",
   "metadata": {},
   "outputs": [
    {
     "data": {
      "text/plain": [
       "6"
      ]
     },
     "execution_count": 3,
     "metadata": {},
     "output_type": "execute_result"
    }
   ],
   "source": [
    "len(\"Akshay\")"
   ]
  },
  {
   "cell_type": "code",
   "execution_count": 4,
   "id": "1b9d1f46",
   "metadata": {},
   "outputs": [],
   "source": [
    "# create function which will accept list as a input, \n",
    "# will return another list with square all the element from input list"
   ]
  },
  {
   "cell_type": "code",
   "execution_count": 6,
   "id": "8a3d3afe",
   "metadata": {},
   "outputs": [
    {
     "data": {
      "text/plain": [
       "[1, 4, 9, 16, 25, 36, 49, 64]"
      ]
     },
     "execution_count": 6,
     "metadata": {},
     "output_type": "execute_result"
    }
   ],
   "source": [
    "l = [1,2,3,4,5,6,7,8]\n",
    "\n",
    "out=[]\n",
    "for i in l:\n",
    "    out.append(i**2)\n",
    "    \n",
    "out"
   ]
  },
  {
   "cell_type": "code",
   "execution_count": 7,
   "id": "08b6d3b6",
   "metadata": {},
   "outputs": [],
   "source": [
    "# syntax\n",
    "# def <function_name>(inputs):\n",
    "#     sdkjfhsjak\n",
    "#     sdfkjshjkah\n",
    "#     jsdkfhksh\n",
    "#     return a,b"
   ]
  },
  {
   "cell_type": "code",
   "execution_count": 10,
   "id": "6d411494",
   "metadata": {},
   "outputs": [],
   "source": [
    "def my_square(a):\n",
    "    out=[]\n",
    "    for i in a:\n",
    "        out.append(i**2)\n",
    "    print(out)"
   ]
  },
  {
   "cell_type": "code",
   "execution_count": 11,
   "id": "2a648ac9",
   "metadata": {},
   "outputs": [
    {
     "name": "stdout",
     "output_type": "stream",
     "text": [
      "[1, 4, 9, 16, 25, 36, 49, 64]\n"
     ]
    }
   ],
   "source": [
    "my_square(l)"
   ]
  },
  {
   "cell_type": "code",
   "execution_count": 12,
   "id": "b79d8a2a",
   "metadata": {},
   "outputs": [
    {
     "name": "stdout",
     "output_type": "stream",
     "text": [
      "[1, 4, 9, 16, 25, 36, 49, 64]\n"
     ]
    }
   ],
   "source": [
    "z = my_square(l)"
   ]
  },
  {
   "cell_type": "code",
   "execution_count": 13,
   "id": "df6aabc4",
   "metadata": {},
   "outputs": [],
   "source": [
    "z"
   ]
  },
  {
   "cell_type": "code",
   "execution_count": 17,
   "id": "2f4a085a",
   "metadata": {},
   "outputs": [],
   "source": [
    "def my_square(a):\n",
    "    out=[]\n",
    "    for i in a:\n",
    "        out.append(i**2)\n",
    "    # print(out)\n",
    "    return out"
   ]
  },
  {
   "cell_type": "code",
   "execution_count": 18,
   "id": "a49a791a",
   "metadata": {},
   "outputs": [
    {
     "name": "stdout",
     "output_type": "stream",
     "text": [
      "[1, 4, 9, 16, 25, 36, 49, 64]\n"
     ]
    }
   ],
   "source": [
    "z = my_square(l)"
   ]
  },
  {
   "cell_type": "code",
   "execution_count": 16,
   "id": "ed1527a5",
   "metadata": {},
   "outputs": [
    {
     "data": {
      "text/plain": [
       "[1, 4, 9, 16, 25, 36, 49, 64]"
      ]
     },
     "execution_count": 16,
     "metadata": {},
     "output_type": "execute_result"
    }
   ],
   "source": [
    "z"
   ]
  },
  {
   "cell_type": "code",
   "execution_count": 19,
   "id": "b80bd3ac",
   "metadata": {},
   "outputs": [],
   "source": [
    "def test(a,b):\n",
    "    return a+b"
   ]
  },
  {
   "cell_type": "code",
   "execution_count": 20,
   "id": "3c0e6cf3",
   "metadata": {},
   "outputs": [
    {
     "data": {
      "text/plain": [
       "8"
      ]
     },
     "execution_count": 20,
     "metadata": {},
     "output_type": "execute_result"
    }
   ],
   "source": [
    "test(5,3)"
   ]
  },
  {
   "cell_type": "code",
   "execution_count": 21,
   "id": "a68f0d8e",
   "metadata": {},
   "outputs": [
    {
     "data": {
      "text/plain": [
       "15"
      ]
     },
     "execution_count": 21,
     "metadata": {},
     "output_type": "execute_result"
    }
   ],
   "source": [
    "sum([1,2,3,4,5])"
   ]
  },
  {
   "cell_type": "code",
   "execution_count": 22,
   "id": "d5e3b4f5",
   "metadata": {},
   "outputs": [
    {
     "ename": "TypeError",
     "evalue": "sum() takes at most 2 arguments (4 given)",
     "output_type": "error",
     "traceback": [
      "\u001b[1;31m---------------------------------------------------------------------------\u001b[0m",
      "\u001b[1;31mTypeError\u001b[0m                                 Traceback (most recent call last)",
      "\u001b[1;32m~\\AppData\\Local\\Temp/ipykernel_5616/4031097084.py\u001b[0m in \u001b[0;36m<module>\u001b[1;34m\u001b[0m\n\u001b[1;32m----> 1\u001b[1;33m \u001b[0msum\u001b[0m\u001b[1;33m(\u001b[0m\u001b[1;36m3\u001b[0m\u001b[1;33m,\u001b[0m\u001b[1;36m4\u001b[0m\u001b[1;33m,\u001b[0m\u001b[1;36m5\u001b[0m\u001b[1;33m,\u001b[0m\u001b[1;36m6\u001b[0m\u001b[1;33m)\u001b[0m\u001b[1;33m\u001b[0m\u001b[1;33m\u001b[0m\u001b[0m\n\u001b[0m",
      "\u001b[1;31mTypeError\u001b[0m: sum() takes at most 2 arguments (4 given)"
     ]
    }
   ],
   "source": [
    "sum(3,4,5,6)"
   ]
  },
  {
   "cell_type": "code",
   "execution_count": 25,
   "id": "8ffcc822",
   "metadata": {},
   "outputs": [],
   "source": [
    "def my_square(a):\n",
    "    '''\n",
    "    This is my first user defined function in python\n",
    "    '''\n",
    "    out=[]\n",
    "    for i in a:\n",
    "        out.append(i**2)\n",
    "    # print(out)\n",
    "    return out"
   ]
  },
  {
   "cell_type": "code",
   "execution_count": 27,
   "id": "53d5bfde",
   "metadata": {},
   "outputs": [
    {
     "ename": "TypeError",
     "evalue": "my_square() missing 1 required positional argument: 'a'",
     "output_type": "error",
     "traceback": [
      "\u001b[1;31m---------------------------------------------------------------------------\u001b[0m",
      "\u001b[1;31mTypeError\u001b[0m                                 Traceback (most recent call last)",
      "\u001b[1;32m~\\AppData\\Local\\Temp/ipykernel_5616/1814857912.py\u001b[0m in \u001b[0;36m<module>\u001b[1;34m\u001b[0m\n\u001b[1;32m----> 1\u001b[1;33m \u001b[0mmy_square\u001b[0m\u001b[1;33m(\u001b[0m\u001b[1;33m)\u001b[0m\u001b[1;33m\u001b[0m\u001b[1;33m\u001b[0m\u001b[0m\n\u001b[0m",
      "\u001b[1;31mTypeError\u001b[0m: my_square() missing 1 required positional argument: 'a'"
     ]
    }
   ],
   "source": [
    "my_square()"
   ]
  },
  {
   "cell_type": "code",
   "execution_count": 28,
   "id": "99ef34d5",
   "metadata": {},
   "outputs": [
    {
     "data": {
      "text/plain": [
       "7"
      ]
     },
     "execution_count": 28,
     "metadata": {},
     "output_type": "execute_result"
    }
   ],
   "source": [
    "test(3,4)"
   ]
  },
  {
   "cell_type": "code",
   "execution_count": 29,
   "id": "8a2151cc",
   "metadata": {},
   "outputs": [
    {
     "ename": "TypeError",
     "evalue": "test() takes 2 positional arguments but 3 were given",
     "output_type": "error",
     "traceback": [
      "\u001b[1;31m---------------------------------------------------------------------------\u001b[0m",
      "\u001b[1;31mTypeError\u001b[0m                                 Traceback (most recent call last)",
      "\u001b[1;32m~\\AppData\\Local\\Temp/ipykernel_5616/53331138.py\u001b[0m in \u001b[0;36m<module>\u001b[1;34m\u001b[0m\n\u001b[1;32m----> 1\u001b[1;33m \u001b[0mtest\u001b[0m\u001b[1;33m(\u001b[0m\u001b[1;36m3\u001b[0m\u001b[1;33m,\u001b[0m\u001b[1;36m4\u001b[0m\u001b[1;33m,\u001b[0m\u001b[1;36m5\u001b[0m\u001b[1;33m)\u001b[0m\u001b[1;33m\u001b[0m\u001b[1;33m\u001b[0m\u001b[0m\n\u001b[0m",
      "\u001b[1;31mTypeError\u001b[0m: test() takes 2 positional arguments but 3 were given"
     ]
    }
   ],
   "source": [
    "test(3,4,5)"
   ]
  },
  {
   "cell_type": "code",
   "execution_count": 31,
   "id": "9f58e127",
   "metadata": {},
   "outputs": [],
   "source": [
    "# limitation:\n",
    "# Our today's function doesn't accept variable number of input"
   ]
  },
  {
   "cell_type": "code",
   "execution_count": 32,
   "id": "d1aa370c",
   "metadata": {},
   "outputs": [],
   "source": [
    "def test1(a,b):\n",
    "    return a+b\n",
    "    return a-b"
   ]
  },
  {
   "cell_type": "code",
   "execution_count": 33,
   "id": "2598d17d",
   "metadata": {},
   "outputs": [
    {
     "data": {
      "text/plain": [
       "3"
      ]
     },
     "execution_count": 33,
     "metadata": {},
     "output_type": "execute_result"
    }
   ],
   "source": [
    "test1(1,2)"
   ]
  },
  {
   "cell_type": "code",
   "execution_count": 36,
   "id": "bfbc423b",
   "metadata": {},
   "outputs": [],
   "source": [
    "def test1(a,b):\n",
    "    print(\"x\")\n",
    "    print(\"y\")\n",
    "    return a+b\n",
    "    print(\"z\")\n",
    "    return a-b"
   ]
  },
  {
   "cell_type": "code",
   "execution_count": 37,
   "id": "359e0eef",
   "metadata": {},
   "outputs": [
    {
     "name": "stdout",
     "output_type": "stream",
     "text": [
      "x\n",
      "y\n"
     ]
    },
    {
     "data": {
      "text/plain": [
       "3"
      ]
     },
     "execution_count": 37,
     "metadata": {},
     "output_type": "execute_result"
    }
   ],
   "source": [
    "test1(1,2)"
   ]
  },
  {
   "cell_type": "code",
   "execution_count": 43,
   "id": "a12bbe8a",
   "metadata": {},
   "outputs": [],
   "source": [
    "def test2(a,b):\n",
    "    if a>0 and b>0:\n",
    "        return a+b\n",
    "    else:\n",
    "        return a*b"
   ]
  },
  {
   "cell_type": "code",
   "execution_count": 44,
   "id": "a544e407",
   "metadata": {},
   "outputs": [
    {
     "data": {
      "text/plain": [
       "-20"
      ]
     },
     "execution_count": 44,
     "metadata": {},
     "output_type": "execute_result"
    }
   ],
   "source": [
    "test2(-4,5)"
   ]
  },
  {
   "cell_type": "code",
   "execution_count": 45,
   "id": "cb797120",
   "metadata": {},
   "outputs": [],
   "source": [
    "def test3(a,b,c,d,e):\n",
    "    return a*b*c*d*e"
   ]
  },
  {
   "cell_type": "code",
   "execution_count": 46,
   "id": "a2674a2b",
   "metadata": {},
   "outputs": [
    {
     "data": {
      "text/plain": [
       "120"
      ]
     },
     "execution_count": 46,
     "metadata": {},
     "output_type": "execute_result"
    }
   ],
   "source": [
    "test3(1,2,3,4,5)"
   ]
  },
  {
   "cell_type": "code",
   "execution_count": 47,
   "id": "ea287f20",
   "metadata": {},
   "outputs": [],
   "source": [
    "def test3(a,b,c,d,e):\n",
    "    return a+b+c+d+e, a*b*c*d*e"
   ]
  },
  {
   "cell_type": "code",
   "execution_count": 48,
   "id": "7be5f079",
   "metadata": {},
   "outputs": [
    {
     "data": {
      "text/plain": [
       "(15, 120)"
      ]
     },
     "execution_count": 48,
     "metadata": {},
     "output_type": "execute_result"
    }
   ],
   "source": [
    "test3(1,2,3,4,5)"
   ]
  },
  {
   "cell_type": "code",
   "execution_count": 49,
   "id": "e352df85",
   "metadata": {},
   "outputs": [],
   "source": [
    "def test4(a,b,c,d,e):\n",
    "    return [a+b+c+d+e, a*b*c*d*e]"
   ]
  },
  {
   "cell_type": "code",
   "execution_count": 50,
   "id": "d1dc5170",
   "metadata": {},
   "outputs": [
    {
     "data": {
      "text/plain": [
       "[15, 120]"
      ]
     },
     "execution_count": 50,
     "metadata": {},
     "output_type": "execute_result"
    }
   ],
   "source": [
    "test4(1,2,3,4,5)"
   ]
  },
  {
   "cell_type": "code",
   "execution_count": 54,
   "id": "f00139c0",
   "metadata": {},
   "outputs": [],
   "source": [
    "z1 = test4(1,2,3,4,5)"
   ]
  },
  {
   "cell_type": "code",
   "execution_count": 56,
   "id": "3c9910c7",
   "metadata": {},
   "outputs": [],
   "source": [
    "z1,z2 = test4(1,2,3,4,5)"
   ]
  },
  {
   "cell_type": "code",
   "execution_count": 57,
   "id": "9b7497dc",
   "metadata": {},
   "outputs": [
    {
     "data": {
      "text/plain": [
       "15"
      ]
     },
     "execution_count": 57,
     "metadata": {},
     "output_type": "execute_result"
    }
   ],
   "source": [
    "z1"
   ]
  },
  {
   "cell_type": "code",
   "execution_count": 59,
   "id": "5c2951e5",
   "metadata": {},
   "outputs": [
    {
     "data": {
      "text/plain": [
       "120"
      ]
     },
     "execution_count": 59,
     "metadata": {},
     "output_type": "execute_result"
    }
   ],
   "source": [
    "z2"
   ]
  },
  {
   "cell_type": "code",
   "execution_count": 60,
   "id": "eb090763",
   "metadata": {},
   "outputs": [],
   "source": [
    "def test5(a,b,c,d,e):\n",
    "    return [a+b+c+d+e, a*b*c*d*e,a-b-c-d-e]"
   ]
  },
  {
   "cell_type": "code",
   "execution_count": 62,
   "id": "a6acbbc3",
   "metadata": {},
   "outputs": [],
   "source": [
    "x,y,z = test5(1,2,3,4,5)"
   ]
  },
  {
   "cell_type": "code",
   "execution_count": 65,
   "id": "dc7ac9ea",
   "metadata": {},
   "outputs": [
    {
     "ename": "ValueError",
     "evalue": "too many values to unpack (expected 2)",
     "output_type": "error",
     "traceback": [
      "\u001b[1;31m---------------------------------------------------------------------------\u001b[0m",
      "\u001b[1;31mValueError\u001b[0m                                Traceback (most recent call last)",
      "\u001b[1;32m~\\AppData\\Local\\Temp/ipykernel_5616/2639744309.py\u001b[0m in \u001b[0;36m<module>\u001b[1;34m\u001b[0m\n\u001b[1;32m----> 1\u001b[1;33m \u001b[0mw\u001b[0m\u001b[1;33m,\u001b[0m\u001b[0mx\u001b[0m\u001b[1;33m,\u001b[0m \u001b[1;33m=\u001b[0m \u001b[0mtest5\u001b[0m\u001b[1;33m(\u001b[0m\u001b[1;36m1\u001b[0m\u001b[1;33m,\u001b[0m\u001b[1;36m2\u001b[0m\u001b[1;33m,\u001b[0m\u001b[1;36m3\u001b[0m\u001b[1;33m,\u001b[0m\u001b[1;36m4\u001b[0m\u001b[1;33m,\u001b[0m\u001b[1;36m5\u001b[0m\u001b[1;33m)\u001b[0m\u001b[1;33m\u001b[0m\u001b[1;33m\u001b[0m\u001b[0m\n\u001b[0m",
      "\u001b[1;31mValueError\u001b[0m: too many values to unpack (expected 2)"
     ]
    }
   ],
   "source": [
    "w,x, = test5(1,2,3,4,5)"
   ]
  },
  {
   "cell_type": "code",
   "execution_count": 66,
   "id": "c1dd7003",
   "metadata": {},
   "outputs": [
    {
     "ename": "ValueError",
     "evalue": "not enough values to unpack (expected 4, got 3)",
     "output_type": "error",
     "traceback": [
      "\u001b[1;31m---------------------------------------------------------------------------\u001b[0m",
      "\u001b[1;31mValueError\u001b[0m                                Traceback (most recent call last)",
      "\u001b[1;32m~\\AppData\\Local\\Temp/ipykernel_5616/1112307252.py\u001b[0m in \u001b[0;36m<module>\u001b[1;34m\u001b[0m\n\u001b[1;32m----> 1\u001b[1;33m \u001b[0mw\u001b[0m\u001b[1;33m,\u001b[0m\u001b[0mx\u001b[0m\u001b[1;33m,\u001b[0m\u001b[0my\u001b[0m\u001b[1;33m,\u001b[0m\u001b[0mz\u001b[0m \u001b[1;33m=\u001b[0m \u001b[0mtest5\u001b[0m\u001b[1;33m(\u001b[0m\u001b[1;36m1\u001b[0m\u001b[1;33m,\u001b[0m\u001b[1;36m2\u001b[0m\u001b[1;33m,\u001b[0m\u001b[1;36m3\u001b[0m\u001b[1;33m,\u001b[0m\u001b[1;36m4\u001b[0m\u001b[1;33m,\u001b[0m\u001b[1;36m5\u001b[0m\u001b[1;33m)\u001b[0m\u001b[1;33m\u001b[0m\u001b[1;33m\u001b[0m\u001b[0m\n\u001b[0m",
      "\u001b[1;31mValueError\u001b[0m: not enough values to unpack (expected 4, got 3)"
     ]
    }
   ],
   "source": [
    "w,x,y,z = test5(1,2,3,4,5)"
   ]
  },
  {
   "cell_type": "code",
   "execution_count": 76,
   "id": "8f997a2f",
   "metadata": {},
   "outputs": [],
   "source": [
    "z = test3(1,2,3,4,5)"
   ]
  },
  {
   "cell_type": "code",
   "execution_count": 77,
   "id": "4c8d2534",
   "metadata": {},
   "outputs": [
    {
     "data": {
      "text/plain": [
       "tuple"
      ]
     },
     "execution_count": 77,
     "metadata": {},
     "output_type": "execute_result"
    }
   ],
   "source": [
    "type(z)"
   ]
  },
  {
   "cell_type": "code",
   "execution_count": 80,
   "id": "92cc7970",
   "metadata": {},
   "outputs": [
    {
     "ename": "AttributeError",
     "evalue": "'tuple' object has no attribute 'append'",
     "output_type": "error",
     "traceback": [
      "\u001b[1;31m---------------------------------------------------------------------------\u001b[0m",
      "\u001b[1;31mAttributeError\u001b[0m                            Traceback (most recent call last)",
      "\u001b[1;32m~\\AppData\\Local\\Temp/ipykernel_5616/1801831653.py\u001b[0m in \u001b[0;36m<module>\u001b[1;34m\u001b[0m\n\u001b[1;32m----> 1\u001b[1;33m \u001b[0mz\u001b[0m\u001b[1;33m.\u001b[0m\u001b[0mappend\u001b[0m\u001b[1;33m(\u001b[0m\u001b[1;36m0\u001b[0m\u001b[1;33m)\u001b[0m\u001b[1;33m\u001b[0m\u001b[1;33m\u001b[0m\u001b[0m\n\u001b[0m",
      "\u001b[1;31mAttributeError\u001b[0m: 'tuple' object has no attribute 'append'"
     ]
    }
   ],
   "source": [
    "z.append(0)"
   ]
  },
  {
   "cell_type": "markdown",
   "id": "0d9e4177",
   "metadata": {},
   "source": [
    "# H.W."
   ]
  },
  {
   "cell_type": "code",
   "execution_count": 81,
   "id": "104eda78",
   "metadata": {},
   "outputs": [],
   "source": [
    "# 1. Write a Python function to find the Max of three numbers. Go to the editor\n",
    "# Click me to see the sample solution\n",
    "\n",
    "# 2. Write a Python function to sum all the numbers in a list. Go to the editor\n",
    "# Sample List : (8, 2, 3, 0, 7)\n",
    "# Expected Output : 20\n",
    "# Click me to see the sample solution\n",
    "\n",
    "# 3. Write a Python function to multiply all the numbers in a list. Go to the editor\n",
    "# Sample List : (8, 2, 3, -1, 7)\n",
    "# Expected Output : -336\n",
    "# Click me to see the sample solution\n",
    "\n",
    "# 4. Write a Python program to reverse a string. Go to the editor\n",
    "# Sample String : \"1234abcd\"\n",
    "# Expected Output : \"dcba4321\"\n",
    "# Click me to see the sample solution\n",
    "\n",
    "# 5. Write a Python function to calculate the factorial of a number (a non-negative integer). The function accepts the number as an argument. Go to the editor\n",
    "# Click me to see the sample solution\n",
    "\n",
    "# 6. Write a Python function to check whether a number falls in a given range. Go to the editor\n",
    "# Click me to see the sample solution\n",
    "\n",
    "# 7. Write a Python function that accepts a string and calculate the number of upper case letters and lower case letters. Go to the editor\n",
    "# Sample String : 'The quick Brow Fox'\n",
    "# Expected Output :\n",
    "# No. of Upper case characters : 3\n",
    "# No. of Lower case Characters : 12\n",
    "# Click me to see the sample solution\n",
    "\n",
    "# 8. Write a Python function that takes a list and returns a new list with unique elements of the first list. Go to the editor\n",
    "# Sample List : [1,2,3,3,3,3,4,5]\n",
    "# Unique List : [1, 2, 3, 4, 5]\n",
    "# Click me to see the sample solution\n",
    "\n",
    "# 9. Write a Python function that takes a number as a parameter and check the number is prime or not. Go to the editor\n",
    "# Note : A prime number (or a prime) is a natural number greater than 1 and that has no positive divisors other than 1 and itself.\n",
    "# Click me to see the sample solution\n",
    "\n",
    "# 10. Write a Python program to print the even numbers from a given list. Go to the editor\n",
    "# Sample List : [1, 2, 3, 4, 5, 6, 7, 8, 9]\n",
    "# Expected Result : [2, 4, 6, 8]\n",
    "# Click me to see the sample solution\n",
    "\n",
    "# 11. Write a Python function to check whether a number is perfect or not. Go to the editor\n",
    "# According to Wikipedia : In number theory, a perfect number is a positive integer that is equal to the sum of its proper positive divisors, that is, the sum of its positive divisors excluding the number itself (also known as its aliquot sum). Equivalently, a perfect number is a number that is half the sum of all of its positive divisors (including itself).\n",
    "# Example : The first perfect number is 6, because 1, 2, and 3 are its proper positive divisors, and 1 + 2 + 3 = 6. Equivalently, the number 6 is equal to half the sum of all its positive divisors: ( 1 + 2 + 3 + 6 ) / 2 = 6. The next perfect number is 28 = 1 + 2 + 4 + 7 + 14. This is followed by the perfect numbers 496 and 8128.\n",
    "# Click me to see the sample solution\n",
    "\n",
    "# 12. Write a Python function that checks whether a passed string is palindrome or not. Go to the editor\n",
    "# Note: A palindrome is a word, phrase, or sequence that reads the same backward as forward, e.g., madam or nurses run.\n",
    "# Click me to see the sample solution\n",
    "\n",
    "# 13. Write a Python function that prints out the first n rows of Pascal's triangle. Go to the editor\n",
    "# Note : Pascal's triangle is an arithmetic and geometric figure first imagined by Blaise Pascal.\n",
    "\n",
    "# Sample Pascal's triangle :\n",
    "\n",
    "# Pascal's triangle\n",
    "# Each number is the two numbers above it added together Go to the editor\n",
    "# Click me to see the sample solution\n",
    "\n",
    "# 14. Write a Python function to check whether a string is a pangram or not. Go to the editor\n",
    "# Note : Pangrams are words or sentences containing every letter of the alphabet at least once.\n",
    "# For example : \"The quick brown fox jumps over the lazy dog\"\n",
    "# Click me to see the sample solution\n",
    "\n",
    "# 15. Write a Python program that accepts a hyphen-separated sequence of words as input and prints the words in a hyphen-separated sequence after sorting them alphabetically. Go to the editor\n",
    "# Sample Items : green-red-yellow-black-white\n",
    "# Expected Result : black-green-red-white-yellow\n",
    "# Click me to see the sample solution\n",
    "\n",
    "# 16. Write a Python function to create and print a list where the values are square of numbers between 1 and 30 (both included). Go to the editor\n",
    "# Click me to see the sample solution\n",
    "\n",
    "# 17. Write a Python program to make a chain of function decorators (bold, italic, underline etc.) in Python. Go to the editor\n",
    "# Click me to see the sample solution\n",
    "\n",
    "# 18. Write a Python program to execute a string containing Python code. Go to the editor\n",
    "# Click me to see the sample solution\n",
    "\n",
    "# 19. Write a Python program to access a function inside a function. Go to the editor\n",
    "# Click me to see the sample solution\n",
    "\n",
    "# 20. Write a Python program to detect the number of local variables declared in a function. Go to the editor\n",
    "# Sample Output:\n",
    "# 3\n",
    "# Click me to see the sample solution\n",
    "\n",
    "# 21. Write a Python program that invoke a given function after specific milliseconds. Go to the editor\n",
    "# Sample Output:\n",
    "# Square root after specific miliseconds:\n",
    "# 4.0\n",
    "# 10.0\n",
    "# 158.42979517754858\n",
    "# Click me to see the sample solution"
   ]
  },
  {
   "cell_type": "code",
   "execution_count": 82,
   "id": "127dc1dd",
   "metadata": {},
   "outputs": [],
   "source": [
    "# Solutions:\n",
    "# https://www.w3resource.com/python-exercises/python-functions-exercises.php"
   ]
  },
  {
   "cell_type": "code",
   "execution_count": null,
   "id": "a59ec0dd",
   "metadata": {},
   "outputs": [],
   "source": []
  }
 ],
 "metadata": {
  "kernelspec": {
   "display_name": "Python 3 (ipykernel)",
   "language": "python",
   "name": "python3"
  },
  "language_info": {
   "codemirror_mode": {
    "name": "ipython",
    "version": 3
   },
   "file_extension": ".py",
   "mimetype": "text/x-python",
   "name": "python",
   "nbconvert_exporter": "python",
   "pygments_lexer": "ipython3",
   "version": "3.9.7"
  }
 },
 "nbformat": 4,
 "nbformat_minor": 5
}
