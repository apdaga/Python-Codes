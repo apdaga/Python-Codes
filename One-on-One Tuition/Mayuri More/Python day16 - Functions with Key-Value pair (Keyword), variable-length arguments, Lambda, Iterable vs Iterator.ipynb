{
 "cells": [
  {
   "cell_type": "code",
   "execution_count": 1,
   "id": "f6c3f732",
   "metadata": {},
   "outputs": [],
   "source": [
    "def test(**kwargs):\n",
    "    return kwargs"
   ]
  },
  {
   "cell_type": "code",
   "execution_count": 2,
   "id": "beeddafb",
   "metadata": {},
   "outputs": [
    {
     "ename": "TypeError",
     "evalue": "test() takes 0 positional arguments but 1 was given",
     "output_type": "error",
     "traceback": [
      "\u001b[1;31m---------------------------------------------------------------------------\u001b[0m",
      "\u001b[1;31mTypeError\u001b[0m                                 Traceback (most recent call last)",
      "\u001b[1;32m~\\AppData\\Local\\Temp/ipykernel_6244/3462683786.py\u001b[0m in \u001b[0;36m<module>\u001b[1;34m\u001b[0m\n\u001b[1;32m----> 1\u001b[1;33m \u001b[0mtest\u001b[0m\u001b[1;33m(\u001b[0m\u001b[1;36m34\u001b[0m\u001b[1;33m)\u001b[0m\u001b[1;33m\u001b[0m\u001b[1;33m\u001b[0m\u001b[0m\n\u001b[0m",
      "\u001b[1;31mTypeError\u001b[0m: test() takes 0 positional arguments but 1 was given"
     ]
    }
   ],
   "source": [
    "test(34)"
   ]
  },
  {
   "cell_type": "code",
   "execution_count": 3,
   "id": "c77f0f9d",
   "metadata": {},
   "outputs": [
    {
     "data": {
      "text/plain": [
       "{'a': 1, 'b': 2, 'c': 3}"
      ]
     },
     "execution_count": 3,
     "metadata": {},
     "output_type": "execute_result"
    }
   ],
   "source": [
    "test(a=1,b=2,c=3)"
   ]
  },
  {
   "cell_type": "code",
   "execution_count": 4,
   "id": "dc41736b",
   "metadata": {},
   "outputs": [],
   "source": [
    "def test(**kwargs):\n",
    "    print(type(kwargs))\n",
    "    return kwargs"
   ]
  },
  {
   "cell_type": "code",
   "execution_count": 5,
   "id": "c04f70cc",
   "metadata": {},
   "outputs": [
    {
     "name": "stdout",
     "output_type": "stream",
     "text": [
      "<class 'dict'>\n"
     ]
    },
    {
     "data": {
      "text/plain": [
       "{'a': 1, 'b': 2, 'c': 3}"
      ]
     },
     "execution_count": 5,
     "metadata": {},
     "output_type": "execute_result"
    }
   ],
   "source": [
    "test(a=1,b=2,c=3)"
   ]
  },
  {
   "cell_type": "code",
   "execution_count": 6,
   "id": "07fe41fe",
   "metadata": {},
   "outputs": [
    {
     "name": "stdout",
     "output_type": "stream",
     "text": [
      "<class 'dict'>\n"
     ]
    },
    {
     "data": {
      "text/plain": [
       "{'name': 'Akshay', 'age': 29, 'addr': 'India'}"
      ]
     },
     "execution_count": 6,
     "metadata": {},
     "output_type": "execute_result"
    }
   ],
   "source": [
    "test(name='Akshay',age=29, addr='India')"
   ]
  },
  {
   "cell_type": "code",
   "execution_count": 7,
   "id": "db0047f9",
   "metadata": {},
   "outputs": [],
   "source": [
    "def test1(a,b,*args,**kwargs):\n",
    "    return a,b,args,kwargs"
   ]
  },
  {
   "cell_type": "code",
   "execution_count": 8,
   "id": "e1b8ee78",
   "metadata": {},
   "outputs": [
    {
     "data": {
      "text/plain": [
       "(1, 2, (3, 4, 5, 6), {'c': 56, 'd': 34})"
      ]
     },
     "execution_count": 8,
     "metadata": {},
     "output_type": "execute_result"
    }
   ],
   "source": [
    "test1(1,2,3,4,5,6,c=56,d=34)"
   ]
  },
  {
   "cell_type": "code",
   "execution_count": 9,
   "id": "147146aa",
   "metadata": {},
   "outputs": [
    {
     "ename": "TypeError",
     "evalue": "test1() got multiple values for argument 'a'",
     "output_type": "error",
     "traceback": [
      "\u001b[1;31m---------------------------------------------------------------------------\u001b[0m",
      "\u001b[1;31mTypeError\u001b[0m                                 Traceback (most recent call last)",
      "\u001b[1;32m~\\AppData\\Local\\Temp/ipykernel_6244/1811093296.py\u001b[0m in \u001b[0;36m<module>\u001b[1;34m\u001b[0m\n\u001b[1;32m----> 1\u001b[1;33m \u001b[0mtest1\u001b[0m\u001b[1;33m(\u001b[0m\u001b[1;36m1\u001b[0m\u001b[1;33m,\u001b[0m\u001b[1;36m2\u001b[0m\u001b[1;33m,\u001b[0m\u001b[1;36m3\u001b[0m\u001b[1;33m,\u001b[0m\u001b[1;36m4\u001b[0m\u001b[1;33m,\u001b[0m\u001b[1;36m5\u001b[0m\u001b[1;33m,\u001b[0m\u001b[1;36m6\u001b[0m\u001b[1;33m,\u001b[0m\u001b[0ma\u001b[0m\u001b[1;33m=\u001b[0m\u001b[1;36m56\u001b[0m\u001b[1;33m,\u001b[0m\u001b[0mb\u001b[0m\u001b[1;33m=\u001b[0m\u001b[1;36m34\u001b[0m\u001b[1;33m)\u001b[0m\u001b[1;33m\u001b[0m\u001b[1;33m\u001b[0m\u001b[0m\n\u001b[0m",
      "\u001b[1;31mTypeError\u001b[0m: test1() got multiple values for argument 'a'"
     ]
    }
   ],
   "source": [
    "test1(1,2,3,4,5,6,a=56,b=34)"
   ]
  },
  {
   "cell_type": "code",
   "execution_count": 10,
   "id": "868f903c",
   "metadata": {},
   "outputs": [
    {
     "ename": "SyntaxError",
     "evalue": "invalid syntax (Temp/ipykernel_6244/553641336.py, line 1)",
     "output_type": "error",
     "traceback": [
      "\u001b[1;36m  File \u001b[1;32m\"C:\\Users\\apdaga\\AppData\\Local\\Temp/ipykernel_6244/553641336.py\"\u001b[1;36m, line \u001b[1;32m1\u001b[0m\n\u001b[1;33m    def test1(a,b,**kwargs,*args):\u001b[0m\n\u001b[1;37m                           ^\u001b[0m\n\u001b[1;31mSyntaxError\u001b[0m\u001b[1;31m:\u001b[0m invalid syntax\n"
     ]
    }
   ],
   "source": [
    "def test1(a,b,**kwargs,*args):\n",
    "    return a,b,args,kwargs"
   ]
  },
  {
   "cell_type": "code",
   "execution_count": 11,
   "id": "dff97831",
   "metadata": {},
   "outputs": [
    {
     "ename": "SyntaxError",
     "evalue": "invalid syntax (Temp/ipykernel_6244/3562869113.py, line 1)",
     "output_type": "error",
     "traceback": [
      "\u001b[1;36m  File \u001b[1;32m\"C:\\Users\\apdaga\\AppData\\Local\\Temp/ipykernel_6244/3562869113.py\"\u001b[1;36m, line \u001b[1;32m1\u001b[0m\n\u001b[1;33m    def test1(*args,**kwargs,a,b):\u001b[0m\n\u001b[1;37m                             ^\u001b[0m\n\u001b[1;31mSyntaxError\u001b[0m\u001b[1;31m:\u001b[0m invalid syntax\n"
     ]
    }
   ],
   "source": [
    "def test1(*args,**kwargs,a,b):\n",
    "    return a,b,args,kwargs"
   ]
  },
  {
   "cell_type": "markdown",
   "id": "0fbc043b",
   "metadata": {},
   "source": [
    "# How to assign function name to another variable"
   ]
  },
  {
   "cell_type": "code",
   "execution_count": 13,
   "id": "4f18b013",
   "metadata": {},
   "outputs": [],
   "source": [
    "def test2(a,b,*args,**kwargs):\n",
    "    return a,b,args,kwargs"
   ]
  },
  {
   "cell_type": "code",
   "execution_count": 14,
   "id": "af37f77c",
   "metadata": {},
   "outputs": [],
   "source": [
    "i = 7"
   ]
  },
  {
   "cell_type": "code",
   "execution_count": 15,
   "id": "d4b8c202",
   "metadata": {},
   "outputs": [
    {
     "data": {
      "text/plain": [
       "7"
      ]
     },
     "execution_count": 15,
     "metadata": {},
     "output_type": "execute_result"
    }
   ],
   "source": [
    "i"
   ]
  },
  {
   "cell_type": "code",
   "execution_count": 16,
   "id": "9b03f62e",
   "metadata": {},
   "outputs": [
    {
     "data": {
      "text/plain": [
       "(1, 2, (3, 4, 5, 6), {'c': 56, 'd': 34})"
      ]
     },
     "execution_count": 16,
     "metadata": {},
     "output_type": "execute_result"
    }
   ],
   "source": [
    "test2(1,2,3,4,5,6,c=56,d=34)"
   ]
  },
  {
   "cell_type": "code",
   "execution_count": 18,
   "id": "0b757675",
   "metadata": {},
   "outputs": [],
   "source": [
    "z = test2"
   ]
  },
  {
   "cell_type": "code",
   "execution_count": 20,
   "id": "c2a2119e",
   "metadata": {},
   "outputs": [
    {
     "data": {
      "text/plain": [
       "(1, 2, (3, 4, 5, 6), {'c': 56, 'd': 34})"
      ]
     },
     "execution_count": 20,
     "metadata": {},
     "output_type": "execute_result"
    }
   ],
   "source": [
    "z(1,2,3,4,5,6,c=56,d=34)"
   ]
  },
  {
   "cell_type": "code",
   "execution_count": 24,
   "id": "edf788b2",
   "metadata": {},
   "outputs": [
    {
     "data": {
      "text/plain": [
       "<function __main__.test2(a, b, *args, **kwargs)>"
      ]
     },
     "execution_count": 24,
     "metadata": {},
     "output_type": "execute_result"
    }
   ],
   "source": [
    "z"
   ]
  },
  {
   "cell_type": "markdown",
   "id": "e8fadb12",
   "metadata": {},
   "source": [
    "# Lambda Function"
   ]
  },
  {
   "cell_type": "code",
   "execution_count": 25,
   "id": "ffe9aee1",
   "metadata": {},
   "outputs": [],
   "source": [
    "def multiply_ab(a,b):\n",
    "    return a*b"
   ]
  },
  {
   "cell_type": "code",
   "execution_count": 26,
   "id": "fcf6881b",
   "metadata": {},
   "outputs": [
    {
     "data": {
      "text/plain": [
       "20"
      ]
     },
     "execution_count": 26,
     "metadata": {},
     "output_type": "execute_result"
    }
   ],
   "source": [
    "multiply_ab(4,5)"
   ]
  },
  {
   "cell_type": "code",
   "execution_count": 27,
   "id": "99142fb0",
   "metadata": {},
   "outputs": [
    {
     "data": {
      "text/plain": [
       "<function __main__.<lambda>(a, b)>"
      ]
     },
     "execution_count": 27,
     "metadata": {},
     "output_type": "execute_result"
    }
   ],
   "source": [
    "lambda a,b:a*b "
   ]
  },
  {
   "cell_type": "code",
   "execution_count": 28,
   "id": "9e013f7d",
   "metadata": {},
   "outputs": [],
   "source": [
    "f1 = lambda a,b:a*b "
   ]
  },
  {
   "cell_type": "code",
   "execution_count": 29,
   "id": "4f6dc115",
   "metadata": {},
   "outputs": [
    {
     "data": {
      "text/plain": [
       "20"
      ]
     },
     "execution_count": 29,
     "metadata": {},
     "output_type": "execute_result"
    }
   ],
   "source": [
    "f1(4,5)"
   ]
  },
  {
   "cell_type": "code",
   "execution_count": 30,
   "id": "ec3297f3",
   "metadata": {},
   "outputs": [
    {
     "ename": "NameError",
     "evalue": "name 'a' is not defined",
     "output_type": "error",
     "traceback": [
      "\u001b[1;31m---------------------------------------------------------------------------\u001b[0m",
      "\u001b[1;31mNameError\u001b[0m                                 Traceback (most recent call last)",
      "\u001b[1;32m~\\AppData\\Local\\Temp/ipykernel_6244/2355936084.py\u001b[0m in \u001b[0;36m<module>\u001b[1;34m\u001b[0m\n\u001b[1;32m----> 1\u001b[1;33m \u001b[0mf2\u001b[0m \u001b[1;33m=\u001b[0m \u001b[1;32mlambda\u001b[0m \u001b[0ma\u001b[0m\u001b[1;33m,\u001b[0m\u001b[0mb\u001b[0m\u001b[1;33m:\u001b[0m\u001b[0ma\u001b[0m\u001b[1;33m*\u001b[0m\u001b[0mb\u001b[0m\u001b[1;33m,\u001b[0m\u001b[0ma\u001b[0m\u001b[1;33m+\u001b[0m\u001b[0mb\u001b[0m\u001b[1;33m\u001b[0m\u001b[1;33m\u001b[0m\u001b[0m\n\u001b[0m",
      "\u001b[1;31mNameError\u001b[0m: name 'a' is not defined"
     ]
    }
   ],
   "source": [
    "f2 = lambda a,b:a*b,a+b"
   ]
  },
  {
   "cell_type": "code",
   "execution_count": 31,
   "id": "8033b8b7",
   "metadata": {},
   "outputs": [],
   "source": [
    "f2 = lambda a,b:(a*b,a+b)"
   ]
  },
  {
   "cell_type": "code",
   "execution_count": 32,
   "id": "f260ef2c",
   "metadata": {},
   "outputs": [
    {
     "data": {
      "text/plain": [
       "(20, 9)"
      ]
     },
     "execution_count": 32,
     "metadata": {},
     "output_type": "execute_result"
    }
   ],
   "source": [
    "f2(4,5)"
   ]
  },
  {
   "cell_type": "code",
   "execution_count": 34,
   "id": "ae86ab7d",
   "metadata": {},
   "outputs": [],
   "source": [
    "def test(*args):\n",
    "    return args"
   ]
  },
  {
   "cell_type": "code",
   "execution_count": 50,
   "id": "c0a50562",
   "metadata": {},
   "outputs": [],
   "source": [
    "f3 = lambda *args:args"
   ]
  },
  {
   "cell_type": "code",
   "execution_count": 37,
   "id": "e9cba22b",
   "metadata": {},
   "outputs": [
    {
     "data": {
      "text/plain": [
       "(2, 35, 3, 5, 2)"
      ]
     },
     "execution_count": 37,
     "metadata": {},
     "output_type": "execute_result"
    }
   ],
   "source": [
    "f3(2,35,3,5,2)"
   ]
  },
  {
   "cell_type": "code",
   "execution_count": 38,
   "id": "1c4e9830",
   "metadata": {},
   "outputs": [],
   "source": [
    "def test(**kwargs):\n",
    "    return kwargs"
   ]
  },
  {
   "cell_type": "code",
   "execution_count": 39,
   "id": "3006d494",
   "metadata": {},
   "outputs": [],
   "source": [
    "f4 = lambda **kwargs:kwargs"
   ]
  },
  {
   "cell_type": "code",
   "execution_count": 40,
   "id": "8dbc8221",
   "metadata": {},
   "outputs": [
    {
     "data": {
      "text/plain": [
       "{'name': 'akshay', 'age': 29}"
      ]
     },
     "execution_count": 40,
     "metadata": {},
     "output_type": "execute_result"
    }
   ],
   "source": [
    "f4(name='akshay',age=29)"
   ]
  },
  {
   "cell_type": "code",
   "execution_count": 43,
   "id": "dbc711d7",
   "metadata": {},
   "outputs": [],
   "source": [
    "def test5(l):\n",
    "    out = []\n",
    "    for i in l:\n",
    "        if i%2==0:\n",
    "            out.append(i)\n",
    "    return out"
   ]
  },
  {
   "cell_type": "code",
   "execution_count": 44,
   "id": "b4fe13a7",
   "metadata": {},
   "outputs": [
    {
     "data": {
      "text/plain": [
       "[2, 4, 6, 8]"
      ]
     },
     "execution_count": 44,
     "metadata": {},
     "output_type": "execute_result"
    }
   ],
   "source": [
    "test5([1,2,3,4,5,6,7,8])"
   ]
  },
  {
   "cell_type": "code",
   "execution_count": 46,
   "id": "14374242",
   "metadata": {},
   "outputs": [],
   "source": [
    "f5 = lambda l: [i for i in l if i%2==0]"
   ]
  },
  {
   "cell_type": "code",
   "execution_count": 47,
   "id": "26f29338",
   "metadata": {},
   "outputs": [
    {
     "data": {
      "text/plain": [
       "[2, 4, 6, 8]"
      ]
     },
     "execution_count": 47,
     "metadata": {},
     "output_type": "execute_result"
    }
   ],
   "source": [
    "f5([1,2,3,4,5,6,7,8])"
   ]
  },
  {
   "cell_type": "code",
   "execution_count": 48,
   "id": "687bd905",
   "metadata": {},
   "outputs": [],
   "source": [
    "l1=[1,2,3,4,5,6,7,8]"
   ]
  },
  {
   "cell_type": "code",
   "execution_count": 49,
   "id": "fc8d6823",
   "metadata": {},
   "outputs": [
    {
     "data": {
      "text/plain": [
       "[2, 4, 6, 8]"
      ]
     },
     "execution_count": 49,
     "metadata": {},
     "output_type": "execute_result"
    }
   ],
   "source": [
    "f5(l1)"
   ]
  },
  {
   "cell_type": "code",
   "execution_count": 51,
   "id": "4717f3de",
   "metadata": {},
   "outputs": [],
   "source": [
    "# Write a lambda function which accepts input as below \n",
    "# and will return all the key-values whose values are even\n",
    "\n",
    "# f6(a=1,b=2,c=3,d=4,e=5)"
   ]
  },
  {
   "cell_type": "code",
   "execution_count": 53,
   "id": "b274ebd5",
   "metadata": {},
   "outputs": [],
   "source": [
    "f6 = lambda **kwargs: {k:v for k,v in kwargs.items() if v%2==0}"
   ]
  },
  {
   "cell_type": "code",
   "execution_count": 54,
   "id": "8ead6922",
   "metadata": {},
   "outputs": [
    {
     "data": {
      "text/plain": [
       "{'b': 2, 'd': 4}"
      ]
     },
     "execution_count": 54,
     "metadata": {},
     "output_type": "execute_result"
    }
   ],
   "source": [
    "f6(a=1,b=2,c=3,d=4,e=5)"
   ]
  },
  {
   "cell_type": "markdown",
   "id": "6cdb923c",
   "metadata": {},
   "source": [
    "# H.W."
   ]
  },
  {
   "cell_type": "code",
   "execution_count": 55,
   "id": "50deba90",
   "metadata": {},
   "outputs": [],
   "source": [
    "# 1. Write a Python program to create a lambda function that adds 15 to a given number passed in as an argument, also create a lambda function that multiplies argument x with argument y and print the result. Go to the editor\n",
    "# Sample Output:\n",
    "# 25\n",
    "# 48\n",
    "# Click me to see the sample solution\n",
    "\n",
    "# 2. Write a Python program to create a function that takes one argument, and that argument will be multiplied with an unknown given number. Go to the editor\n",
    "# Sample Output:\n",
    "# Double the number of 15 = 30\n",
    "# Triple the number of 15 = 45\n",
    "# Quadruple the number of 15 = 60\n",
    "# Quintuple the number 15 = 75\n",
    "# Click me to see the sample solution\n",
    "\n",
    "# 3. Write a Python program to sort a list of tuples using Lambda.\n",
    "# Original list of tuples:\n",
    "# [('English', 88), ('Science', 90), ('Maths', 97), ('Social sciences', 82)]\n",
    "# Sorting the List of Tuples:\n",
    "# [('Social sciences', 82), ('English', 88), ('Science', 90), ('Maths', 97)]\n",
    "# Click me to see the sample solution\n",
    "\n",
    "# 4. Write a Python program to sort a list of dictionaries using Lambda. Go to the editor\n",
    "# Original list of dictionaries :\n",
    "# [{'make': 'Nokia', 'model': 216, 'color': 'Black'}, {'make': 'Mi Max', 'model': '2', 'color': 'Gold'}, {'make': 'Samsung', 'model': 7, 'color': 'Blue'}]\n",
    "# Sorting the List of dictionaries :\n",
    "# [{'make': 'Nokia', 'model': 216, 'color': 'Black'}, {'make': 'Samsung', 'model': 7, 'color': 'Blue'}, {'make': 'Mi Max', 'model': '2', 'color': 'Gold'}]\n",
    "# Click me to see the sample solution\n",
    "\n",
    "# 5. Write a Python program to filter a list of integers using Lambda. Go to the editor\n",
    "# Original list of integers:\n",
    "# [1, 2, 3, 4, 5, 6, 7, 8, 9, 10]\n",
    "# Even numbers from the said list:\n",
    "# [2, 4, 6, 8, 10]\n",
    "# Odd numbers from the said list:\n",
    "# [1, 3, 5, 7, 9]\n",
    "# Click me to see the sample solution\n",
    "\n",
    "# 6. Write a Python program to square and cube every number in a given list of integers using Lambda. Go to the editor\n",
    "# Original list of integers:\n",
    "# [1, 2, 3, 4, 5, 6, 7, 8, 9, 10]\n",
    "# Square every number of the said list:\n",
    "# [1, 4, 9, 16, 25, 36, 49, 64, 81, 100]\n",
    "# Cube every number of the said list:\n",
    "# [1, 8, 27, 64, 125, 216, 343, 512, 729, 1000]\n",
    "# Click me to see the sample solution\n",
    "\n",
    "# 7. Write a Python program to find if a given string starts with a given character using Lambda. Go to the editor\n",
    "# Sample Output:\n",
    "# True\n",
    "# False\n",
    "# Click me to see the sample solution\n",
    "\n",
    "# 8. Write a Python program to extract year, month, date and time using Lambda. Go to the editor\n",
    "# Sample Output:\n",
    "# 2020-01-15 09:03:32.744178\n",
    "# 2020\n",
    "# 1\n",
    "# 15\n",
    "# 09:03:32.744178\n",
    "# Click me to see the sample solution\n",
    "\n",
    "# 9. Write a Python program to check whether a given string is number or not using Lambda. Go to the editor\n",
    "# Sample Output:\n",
    "# True\n",
    "# True\n",
    "# False\n",
    "# True\n",
    "# False\n",
    "# True\n",
    "# Print checking numbers:\n",
    "# True\n",
    "# True\n",
    "# Click me to see the sample solution\n",
    "\n",
    "# 10. Write a Python program to create Fibonacci series upto n using Lambda. Go to the editor\n",
    "# Fibonacci series upto 2:\n",
    "# [0, 1]\n",
    "# Fibonacci series upto 5:\n",
    "# [0, 1, 1, 2, 3]\n",
    "# Fibonacci series upto 6:\n",
    "# [0, 1, 1, 2, 3, 5]\n",
    "# Fibonacci series upto 9:\n",
    "# [0, 1, 1, 2, 3, 5, 8, 13, 21]\n",
    "# Click me to see the sample solution\n",
    "\n",
    "# 11. Write a Python program to find intersection of two given arrays using Lambda. Go to the editor\n",
    "# Original arrays:\n",
    "# [1, 2, 3, 5, 7, 8, 9, 10]\n",
    "# [1, 2, 4, 8, 9]\n",
    "# Intersection of the said arrays: [1, 2, 8, 9]\n",
    "# Click me to see the sample solution\n",
    "\n",
    "# 12. Write a Python program to rearrange positive and negative numbers in a given array using Lambda. Go to the editor\n",
    "# Original arrays:\n",
    "# [-1, 2, -3, 5, 7, 8, 9, -10]\n",
    "# Rearrange positive and negative numbers of the said array:\n",
    "# [2, 5, 7, 8, 9, -10, -3, -1]\n",
    "# Click me to see the sample solution\n",
    "\n",
    "# 13. Write a Python program to count the even, odd numbers in a given array of integers using Lambda. Go to the editor\n",
    "# Original arrays:\n",
    "# [1, 2, 3, 5, 7, 8, 9, 10]\n",
    "# Number of even numbers in the above array: 3\n",
    "# Number of odd numbers in the above array: 5\n",
    "# Click me to see the sample solution\n",
    "\n",
    "# 14. Write a Python program to find the values of length six in a given list using Lambda. Go to the editor\n",
    "# Sample Output:\n",
    "# Monday\n",
    "# Friday\n",
    "# Sunday\n",
    "# Click me to see the sample solution\n",
    "\n",
    "# 15. Write a Python program to add two given lists using map and lambda. Go to the editor\n",
    "# Original list:\n",
    "# [1, 2, 3]\n",
    "# [4, 5, 6]\n",
    "# Result: after adding two list\n",
    "# [5, 7, 9]\n",
    "# Click me to see the sample solution\n",
    "\n",
    "# 16. Write a Python program to find the second lowest grade of any student(s) from the given names and grades of each student using lists and lambda. Input number of students, names and grades of each student. Go to the editor\n",
    "# Input number of students: 5\n",
    "# Name: S ROY\n",
    "# Grade: 1\n",
    "# Name: B BOSE\n",
    "# Grade: 3\n",
    "# Name: N KAR\n",
    "# Grade: 2\n",
    "# Name: C DUTTA\n",
    "# Grade: 1\n",
    "# Name: G GHOSH\n",
    "# Grade: 1\n",
    "# Names and Grades of all students:\n",
    "# [['S ROY', 1.0], ['B BOSE', 3.0], ['N KAR', 2.0], ['C DUTTA', 1.0], ['G GHOSH', 1.0]]\n",
    "# Second lowest grade: 2.0\n",
    "# Names:\n",
    "# N KAR\n",
    "# Click me to see the sample solution\n",
    "\n",
    "# 17. Write a Python program to find numbers divisible by nineteen or thirteen from a list of numbers using Lambda. Go to the editor\n",
    "# Orginal list:\n",
    "# [19, 65, 57, 39, 152, 639, 121, 44, 90, 190]\n",
    "# Numbers of the above list divisible by nineteen or thirteen:\n",
    "# [19, 65, 57, 39, 152, 190]\n",
    "# Click me to see the sample solution\n",
    "\n",
    "# 18. Write a Python program to find palindromes in a given list of strings using Lambda. Go to the editor\n",
    "# Orginal list of strings:\n",
    "# ['php', 'w3r', 'Python', 'abcd', 'Java', 'aaa']\n",
    "# List of palindromes:\n",
    "# ['php', 'aaa']\n",
    "# Click me to see the sample solution\n",
    "\n",
    "# 19. Write a Python program to find all anagrams of a string in a given list of strings using lambda. Go to the editor\n",
    "# Orginal list of strings:\n",
    "# ['bcda', 'abce', 'cbda', 'cbea', 'adcb']\n",
    "# Anagrams of 'abcd' in the above string:\n",
    "# ['bcda', 'cbda', 'adcb']\n",
    "# Click me to see the sample solution\n",
    "\n",
    "# 20. Write a Python program to find the numbers of a given string and store them in a list, display the numbers which are bigger than the length of the list in sorted form. Use lambda function to solve the problem. Go to the editor\n",
    "# Original string: sdf 23 safs8 5 sdfsd8 sdfs 56 21sfs 20 5\n",
    "# Numbers in sorted form:\n",
    "# 20 23 56\n",
    "# Click me to see the sample solution\n",
    "\n",
    "# 21. Write a Python program that multiply each number of given list with a given number using lambda function. Print the result. Go to the editor\n",
    "# Original list: [2, 4, 6, 9, 11]\n",
    "# Given number: 2\n",
    "# Result:\n",
    "# 4 8 12 18 22\n",
    "# Click me to see the sample solution\n",
    "\n",
    "# 22. Write a Python program that sum the length of the names of a given list of names after removing the names that starts with an lowercase letter. Use lambda function. Go to the editor\n",
    "# Result:\n",
    "# 16\n",
    "# Click me to see the sample solution\n",
    "\n",
    "# 23. Write a Python program to calculate the sum of the positive and negative numbers of a given list of numbers using lambda function. Go to the editor\n",
    "# Original list: [2, 4, -6, -9, 11, -12, 14, -5, 17]\n",
    "# Sum of the positive numbers: -32\n",
    "# Sum of the negative numbers: 48\n",
    "# Click me to see the sample solution\n",
    "\n",
    "# 24. Write a Python program to find numbers within a given range where every number is divisible by every digit it contains. Go to the editor\n",
    "# Sample Output:\n",
    "# [1, 2, 3, 4, 5, 6, 7, 8, 9, 11, 12, 15, 22]\n",
    "# Click me to see the sample solution\n",
    "\n",
    "# 25. Write a Python program to create the next bigger number by rearranging the digits of a given number. Go to the editor\n",
    "# Original number: 12\n",
    "# Next bigger number: 21\n",
    "# Original number: 10\n",
    "# Next bigger number: False\n",
    "# Original number: 201\n",
    "# Next bigger number: 210\n",
    "# Original number: 102\n",
    "# Next bigger number: 120\n",
    "# Original number: 445\n",
    "# Next bigger number: 454\n",
    "# Click me to see the sample solution\n",
    "\n",
    "# 26. Write a Python program to find the list with maximum and minimum length using lambda. Go to the editor\n",
    "# Original list:\n",
    "# [[0], [1, 3], [5, 7], [9, 11], [13, 15, 17]]\n",
    "# List with maximum length of lists:\n",
    "# (3, [13, 15, 17])\n",
    "# List with minimum length of lists:\n",
    "# (1, [0])\n",
    "# Click me to see the sample solution\n",
    "\n",
    "# 27. Write a Python program to sort each sublist of strings in a given list of lists using lambda. Go to the editor\n",
    "# Original list:\n",
    "# [['green', 'orange'], ['black', 'white'], ['white', 'black', 'orange']]\n",
    "# After sorting each sublist of the said list of lists:\n",
    "# [['green', 'orange'], ['black', 'white'], ['black', 'orange', 'white']]\n",
    "# Click me to see the sample solution\n",
    "\n",
    "# 28. Write a Python program to sort a given list of lists by length and value using lambda. Go to the editor\n",
    "# Original list:\n",
    "# [[2], [0], [1, 3], [0, 7], [9, 11], [13, 15, 17]]\n",
    "# Sort the list of lists by length and value:\n",
    "# [[0], [2], [0, 7], [1, 3], [9, 11], [13, 15, 17]]\n",
    "# Click me to see the sample solution\n",
    "\n",
    "# 29. Write a Python program to find the maximum value in a given heterogeneous list using lambda. Go to the editor\n",
    "# Original list:\n",
    "# ['Python', 3, 2, 4, 5, 'version']\n",
    "# Maximum values in the said list using lambda:\n",
    "# 5\n",
    "# Click me to see the sample solution\n",
    "\n",
    "# 30. Write a Python program to sort a given matrix in ascending order according to the sum of its rows using lambda. Go to the editor\n",
    "# Original Matrix:\n",
    "# [[1, 2, 3], [2, 4, 5], [1, 1, 1]]\n",
    "# Sort the said matrix in ascending order according to the sum of its rows\n",
    "# [[1, 1, 1], [1, 2, 3], [2, 4, 5]]\n",
    "# Original Matrix:\n",
    "# [[1, 2, 3], [-2, 4, -5], [1, -1, 1]]\n",
    "# Sort the said matrix in ascending order according to the sum of its rows\n",
    "# [[-2, 4, -5], [1, -1, 1], [1, 2, 3]]\n",
    "# Click me to see the sample solution\n",
    "\n",
    "# 31. Write a Python program to extract specified size of strings from a give list of string values using lambda. Go to the editor\n",
    "# Original list:\n",
    "# ['Python', 'list', 'exercises', 'practice', 'solution']\n",
    "# length of the string to extract:\n",
    "# 8\n",
    "# After extracting strings of specified length from the said list:\n",
    "# ['practice', 'solution']\n",
    "# Click me to see the sample solution\n",
    "\n",
    "# 32. Write a Python program to count float number in a given mixed list using lambda. Go to the editor\n",
    "# Original list:\n",
    "# [1, 'abcd', 3.12, 1.2, 4, 'xyz', 5, 'pqr', 7, -5, -12.22]\n",
    "# Number of floats in the said mixed list:\n",
    "# 3\n",
    "# Click me to see the sample solution\n",
    "\n",
    "# 33. Write a Python program to check whether a given string contains a capital letter, a lower case letter, a number and a minimum length using lambda. Go to the editor\n",
    "# Input the string: W3resource\n",
    "# ['Valid string.']\n",
    "# Click me to see the sample solution\n",
    "\n",
    "# 34. Write a Python program to filter the height and width of students, which are stored in a dictionary using lambda. Go to the editor\n",
    "# Original Dictionary:\n",
    "# {'Cierra Vega': (6.2, 70), 'Alden Cantrell': (5.9, 65), 'Kierra Gentry': (6.0, 68), 'Pierre Cox': (5.8, 66)}\n",
    "# Height> 6ft and Weight> 70kg:\n",
    "# {'Cierra Vega': (6.2, 70)}\n",
    "# Click me to see the sample solution\n",
    "\n",
    "# 35. Write a Python program to check whether a specified list is sorted or not using lambda. Go to the editor\n",
    "# Original list:\n",
    "# [1, 2, 4, 6, 8, 10, 12, 14, 16, 17]\n",
    "# Is the said list is sorted!\n",
    "# True\n",
    "# Original list:\n",
    "# [1, 2, 4, 6, 8, 10, 12, 14, 16, 17]\n",
    "# Is the said list is sorted!\n",
    "# False\n",
    "# Click me to see the sample solution\n",
    "\n",
    "# 36. Write a Python program to extract the nth element from a given list of tuples using lambda. Go to the editor\n",
    "# Original list:\n",
    "# [('Greyson Fulton', 98, 99), ('Brady Kent', 97, 96), ('Wyatt Knott', 91, 94), ('Beau Turnbull', 94, 98)]\n",
    "# Extract nth element ( n = 0 ) from the said list of tuples:\n",
    "# ['Greyson Fulton', 'Brady Kent', 'Wyatt Knott', 'Beau Turnbull']\n",
    "# Extract nth element ( n = 2 ) from the said list of tuples:\n",
    "# [99, 96, 94, 98]\n",
    "# Click me to see the sample solution\n",
    "\n",
    "# 37. Write a Python program to sort a list of lists by a given index of the inner list using lambda. Go to the editor\n",
    "# Original list:\n",
    "# [('Greyson Fulton', 98, 99), ('Brady Kent', 97, 96), ('Wyatt Knott', 91, 94), ('Beau Turnbull', 94, 98)]\n",
    "# Sort the said list of lists by a given index ( Index = 0 ) of the inner list\n",
    "# [('Beau Turnbull', 94, 98), ('Brady Kent', 97, 96), ('Greyson Fulton', 98, 99), ('Wyatt Knott', 91, 94)]\n",
    "# Sort the said list of lists by a given index ( Index = 2 ) of the inner list\n",
    "# [('Wyatt Knott', 91, 94), ('Brady Kent', 97, 96), ('Beau Turnbull', 94, 98), ('Greyson Fulton', 98, 99)]\n",
    "# Click me to see the sample solution\n",
    "\n",
    "# 38. Write a Python program to remove all elements from a given list present in another list using lambda. Go to the editor\n",
    "# Original lists:\n",
    "# list1: [1, 2, 3, 4, 5, 6, 7, 8, 9, 10]\n",
    "# list2: [2, 4, 6, 8]\n",
    "# Remove all elements from 'list1' present in 'list2:\n",
    "# [1, 3, 5, 7, 9, 10]\n",
    "# Click me to see the sample solution\n",
    "\n",
    "# 39. Write a Python program to find the elements of a given list of strings that contain specific substring using lambda. Go to the editor\n",
    "# Original list:\n",
    "# ['red', 'black', 'white', 'green', 'orange']\n",
    "# Substring to search:\n",
    "# ack\n",
    "# Elements of the said list that contain specific substring:\n",
    "# ['black']\n",
    "# Substring to search:\n",
    "# abc\n",
    "# Elements of the said list that contain specific substring:\n",
    "# []\n",
    "# Click me to see the sample solution\n",
    "\n",
    "# 40. Write a Python program to find the nested lists elements, which are present in another list using lambda. Go to the editor\n",
    "# Original lists: [1, 2, 3, 4, 5, 6, 7, 8, 9, 10, 11, 12, 13, 14]\n",
    "# [[12, 18, 23, 25, 45], [7, 11, 19, 24, 28], [1, 5, 8, 18, 15, 16]]\n",
    "# Intersection of said nested lists:\n",
    "# [[12], [7, 11], [1, 5, 8]]\n",
    "# Click me to see the sample solution\n",
    "\n",
    "# 41. Write a Python program to reverse strings in a given list of string values using lambda. Go to the editor\n",
    "# Original lists:\n",
    "# ['Red', 'Green', 'Blue', 'White', 'Black']\n",
    "# Reverse strings of the said given list:\n",
    "# ['deR', 'neerG', 'eulB', 'etihW', 'kcalB']\n",
    "# Click me to see the sample solution\n",
    "\n",
    "# 42. Write a Python program to calculate the product of a given list of numbers using lambda. Go to the editor\n",
    "# list1: [1, 2, 3, 4, 5, 6, 7, 8, 9, 10]\n",
    "# Product of the said list numbers:\n",
    "# 3628800\n",
    "# list2: [2.2, 4.12, 6.6, 8.1, 8.3]\n",
    "# Product of the said list numbers:\n",
    "# 4021.8599520000007\n",
    "# Click me to see the sample solution\n",
    "\n",
    "# 43. Write a Python program to multiply all the numbers in a given list using lambda. Go to the editor\n",
    "# Original list:\n",
    "# [4, 3, 2, 2, -1, 18]\n",
    "# Mmultiply all the numbers of the said list: -864\n",
    "# Original list:\n",
    "# [2, 4, 8, 8, 3, 2, 9]\n",
    "# Mmultiply all the numbers of the said list: 27648\n",
    "# Click me to see the sample solution\n",
    "\n",
    "# 44. Write a Python program to calculate the average value of the numbers in a given tuple of tuples using lambda. Go to the editor\n",
    "# Original Tuple:\n",
    "# ((10, 10, 10), (30, 45, 56), (81, 80, 39), (1, 2, 3))\n",
    "# Average value of the numbers of the said tuple of tuples:\n",
    "# (30.5, 34.25, 27.0)\n",
    "# Original Tuple:\n",
    "# ((1, 1, -5), (30, -15, 56), (81, -60, -39), (-10, 2, 3))\n",
    "# Average value of the numbers of the said tuple of tuples:\n",
    "# (25.5, -18.0, 3.75)\n",
    "# Click me to see the sample solution\n",
    "\n",
    "# 45. Write a Python program to convert string element to integer inside a given tuple using lambda. Go to the editor\n",
    "# Original tuple values:\n",
    "# (('233', 'ABCD', '33'), ('1416', 'EFGH', '55'), ('2345', 'WERT', '34'))\n",
    "# New tuple values:\n",
    "# ((233, 33), (1416, 55), (2345, 34))\n",
    "# Click me to see the sample solution\n",
    "\n",
    "# 46. Write a Python program to find index position and value of the maximum and minimum values in a given list of numbers using lambda. Go to the editor\n",
    "# Original list:\n",
    "# [12, 33, 23, 10.11, 67, 89, 45, 66.7, 23, 12, 11, 10.25, 54]\n",
    "# Index position and value of the maximum value of the said list:\n",
    "# (5, 89)\n",
    "# Index position and value of the minimum value of the said list:\n",
    "# (3, 10.11)\n",
    "# Click me to see the sample solution\n",
    "\n",
    "# 47. Write a Python program to sort a given mixed list of integers and strings using lambda. Numbers must be sorted before strings. Go to the editor\n",
    "# Original list:\n",
    "# [19, 'red', 12, 'green', 'blue', 10, 'white', 'green', 1]\n",
    "# Sort the said mixed list of integers and strings:\n",
    "# [1, 10, 12, 19, 'blue', 'green', 'green', 'red', 'white']\n",
    "# Click me to see the sample solution\n",
    "\n",
    "# 48. Write a Python program to sort a given list of strings(numbers) numerically using lambda. Go to the editor\n",
    "# Original list:\n",
    "# ['4', '12', '45', '7', '0', '100', '200', '-12', '-500']\n",
    "# Sort the said list of strings(numbers) numerically:\n",
    "# ['-500', '-12', '0', '4', '7', '12', '45', '100', '200']\n",
    "# Click me to see the sample solution\n",
    "\n",
    "# 49. Write a Python program to count the occurrences of the items in a given list using lambda. Go to the editor\n",
    "# Original list:\n",
    "# [3, 4, 5, 8, 0, 3, 8, 5, 0, 3, 1, 5, 2, 3, 4, 2]\n",
    "# Count the occurrences of the items in the said list:\n",
    "# {3: 4, 4: 2, 5: 3, 8: 2, 0: 2, 1: 1, 2: 2}\n",
    "# Click me to see the sample solution\n",
    "\n",
    "# 50. Write a Python program to remove specific words from a given list using lambda. Go to the editor\n",
    "# Original list:\n",
    "# ['orange', 'red', 'green', 'blue', 'white', 'black']\n",
    "# Remove words:\n",
    "# ['orange', 'black']\n",
    "# After removing the specified words from the said list:\n",
    "# ['red', 'green', 'blue', 'white']\n",
    "# Click me to see the sample solution\n",
    "\n",
    "# 51. Write a Python program to find the maximum and minimum values in a given list of tuples using lambda function. Go to the editor\n",
    "# Original list with tuples:\n",
    "# [('V', 62), ('VI', 68), ('VII', 72), ('VIII', 70), ('IX', 74), ('X', 65)]\n",
    "# Maximum and minimum values of the said list of tuples:\n",
    "# (74, 62)\n",
    "# Click me to see the sample solution\n",
    "\n",
    "# 52. Write a Python program to remove None value from a given list using lambda function. Go to the editor\n",
    "# Original list:\n",
    "# [12, 0, None, 23, None, -55, 234, 89, None, 0, 6, -12]\n",
    "# Remove None value from the said list:\n",
    "# [12, 0, 23, -55, 234, 89, 0, 6, -12]\n",
    "# Click me to see the sample solution"
   ]
  },
  {
   "cell_type": "code",
   "execution_count": 56,
   "id": "2426efd7",
   "metadata": {},
   "outputs": [],
   "source": [
    "# Solutions link:\n",
    "# https://www.w3resource.com/python-exercises/lambda/index.php"
   ]
  },
  {
   "cell_type": "markdown",
   "id": "15eb73b2",
   "metadata": {},
   "source": [
    "# Iterable vs Iterator"
   ]
  },
  {
   "cell_type": "code",
   "execution_count": 57,
   "id": "e7d1d568",
   "metadata": {},
   "outputs": [],
   "source": [
    "# Iterable\n",
    "# list, tuple, set, dict, string,\n",
    "\n",
    "# Not Iterable\n",
    "# int, float, bool, complex"
   ]
  },
  {
   "cell_type": "code",
   "execution_count": 58,
   "id": "c3fa1bdf",
   "metadata": {},
   "outputs": [
    {
     "ename": "TypeError",
     "evalue": "'int' object is not iterable",
     "output_type": "error",
     "traceback": [
      "\u001b[1;31m---------------------------------------------------------------------------\u001b[0m",
      "\u001b[1;31mTypeError\u001b[0m                                 Traceback (most recent call last)",
      "\u001b[1;32m~\\AppData\\Local\\Temp/ipykernel_6244/2855269404.py\u001b[0m in \u001b[0;36m<module>\u001b[1;34m\u001b[0m\n\u001b[0;32m      1\u001b[0m \u001b[0mv\u001b[0m\u001b[1;33m=\u001b[0m\u001b[1;36m5\u001b[0m\u001b[1;33m\u001b[0m\u001b[1;33m\u001b[0m\u001b[0m\n\u001b[0;32m      2\u001b[0m \u001b[1;33m\u001b[0m\u001b[0m\n\u001b[1;32m----> 3\u001b[1;33m \u001b[1;32mfor\u001b[0m \u001b[0mi\u001b[0m \u001b[1;32min\u001b[0m \u001b[0mv\u001b[0m\u001b[1;33m:\u001b[0m\u001b[1;33m\u001b[0m\u001b[1;33m\u001b[0m\u001b[0m\n\u001b[0m\u001b[0;32m      4\u001b[0m     \u001b[0mprint\u001b[0m\u001b[1;33m(\u001b[0m\u001b[0mi\u001b[0m\u001b[1;33m)\u001b[0m\u001b[1;33m\u001b[0m\u001b[1;33m\u001b[0m\u001b[0m\n",
      "\u001b[1;31mTypeError\u001b[0m: 'int' object is not iterable"
     ]
    }
   ],
   "source": [
    "v=5\n",
    "\n",
    "for i in v:\n",
    "    print(i)"
   ]
  },
  {
   "cell_type": "code",
   "execution_count": 59,
   "id": "ad73ad4a",
   "metadata": {},
   "outputs": [
    {
     "name": "stdout",
     "output_type": "stream",
     "text": [
      "a\n",
      "k\n",
      "s\n",
      "h\n",
      "a\n",
      "y\n"
     ]
    }
   ],
   "source": [
    "s = 'akshay'\n",
    "for i in s:\n",
    "    print(i)"
   ]
  },
  {
   "cell_type": "code",
   "execution_count": 60,
   "id": "dd85ea6e",
   "metadata": {},
   "outputs": [
    {
     "ename": "TypeError",
     "evalue": "'int' object is not an iterator",
     "output_type": "error",
     "traceback": [
      "\u001b[1;31m---------------------------------------------------------------------------\u001b[0m",
      "\u001b[1;31mTypeError\u001b[0m                                 Traceback (most recent call last)",
      "\u001b[1;32m~\\AppData\\Local\\Temp/ipykernel_6244/4181702973.py\u001b[0m in \u001b[0;36m<module>\u001b[1;34m\u001b[0m\n\u001b[1;32m----> 1\u001b[1;33m \u001b[0mnext\u001b[0m\u001b[1;33m(\u001b[0m\u001b[0mv\u001b[0m\u001b[1;33m)\u001b[0m\u001b[1;33m\u001b[0m\u001b[1;33m\u001b[0m\u001b[0m\n\u001b[0m",
      "\u001b[1;31mTypeError\u001b[0m: 'int' object is not an iterator"
     ]
    }
   ],
   "source": [
    "next(v)"
   ]
  },
  {
   "cell_type": "code",
   "execution_count": 61,
   "id": "294f99c1",
   "metadata": {},
   "outputs": [
    {
     "ename": "TypeError",
     "evalue": "'str' object is not an iterator",
     "output_type": "error",
     "traceback": [
      "\u001b[1;31m---------------------------------------------------------------------------\u001b[0m",
      "\u001b[1;31mTypeError\u001b[0m                                 Traceback (most recent call last)",
      "\u001b[1;32m~\\AppData\\Local\\Temp/ipykernel_6244/1977886155.py\u001b[0m in \u001b[0;36m<module>\u001b[1;34m\u001b[0m\n\u001b[1;32m----> 1\u001b[1;33m \u001b[0mnext\u001b[0m\u001b[1;33m(\u001b[0m\u001b[0ms\u001b[0m\u001b[1;33m)\u001b[0m\u001b[1;33m\u001b[0m\u001b[1;33m\u001b[0m\u001b[0m\n\u001b[0m",
      "\u001b[1;31mTypeError\u001b[0m: 'str' object is not an iterator"
     ]
    }
   ],
   "source": [
    "next(s)"
   ]
  },
  {
   "cell_type": "code",
   "execution_count": 62,
   "id": "bfb8f1b4",
   "metadata": {},
   "outputs": [
    {
     "data": {
      "text/plain": [
       "<str_iterator at 0x16246940610>"
      ]
     },
     "execution_count": 62,
     "metadata": {},
     "output_type": "execute_result"
    }
   ],
   "source": [
    "iter(s)"
   ]
  },
  {
   "cell_type": "code",
   "execution_count": 63,
   "id": "27717048",
   "metadata": {},
   "outputs": [],
   "source": [
    "x = iter(s)"
   ]
  },
  {
   "cell_type": "code",
   "execution_count": 64,
   "id": "ef78f6ac",
   "metadata": {},
   "outputs": [
    {
     "data": {
      "text/plain": [
       "'a'"
      ]
     },
     "execution_count": 64,
     "metadata": {},
     "output_type": "execute_result"
    }
   ],
   "source": [
    "next(x)"
   ]
  },
  {
   "cell_type": "code",
   "execution_count": 65,
   "id": "f055827a",
   "metadata": {},
   "outputs": [
    {
     "data": {
      "text/plain": [
       "'k'"
      ]
     },
     "execution_count": 65,
     "metadata": {},
     "output_type": "execute_result"
    }
   ],
   "source": [
    "next(x)"
   ]
  },
  {
   "cell_type": "code",
   "execution_count": 66,
   "id": "ba44b4d7",
   "metadata": {},
   "outputs": [
    {
     "data": {
      "text/plain": [
       "'s'"
      ]
     },
     "execution_count": 66,
     "metadata": {},
     "output_type": "execute_result"
    }
   ],
   "source": [
    "next(x)"
   ]
  },
  {
   "cell_type": "code",
   "execution_count": 67,
   "id": "241b3f67",
   "metadata": {},
   "outputs": [
    {
     "data": {
      "text/plain": [
       "'h'"
      ]
     },
     "execution_count": 67,
     "metadata": {},
     "output_type": "execute_result"
    }
   ],
   "source": [
    "next(x)"
   ]
  },
  {
   "cell_type": "code",
   "execution_count": 68,
   "id": "14c370f9",
   "metadata": {},
   "outputs": [
    {
     "data": {
      "text/plain": [
       "'a'"
      ]
     },
     "execution_count": 68,
     "metadata": {},
     "output_type": "execute_result"
    }
   ],
   "source": [
    "next(x)"
   ]
  },
  {
   "cell_type": "code",
   "execution_count": 69,
   "id": "f70cd2ae",
   "metadata": {},
   "outputs": [
    {
     "data": {
      "text/plain": [
       "'y'"
      ]
     },
     "execution_count": 69,
     "metadata": {},
     "output_type": "execute_result"
    }
   ],
   "source": [
    "next(x)"
   ]
  },
  {
   "cell_type": "code",
   "execution_count": 70,
   "id": "39f905f4",
   "metadata": {},
   "outputs": [
    {
     "ename": "StopIteration",
     "evalue": "",
     "output_type": "error",
     "traceback": [
      "\u001b[1;31m---------------------------------------------------------------------------\u001b[0m",
      "\u001b[1;31mStopIteration\u001b[0m                             Traceback (most recent call last)",
      "\u001b[1;32m~\\AppData\\Local\\Temp/ipykernel_6244/3485793935.py\u001b[0m in \u001b[0;36m<module>\u001b[1;34m\u001b[0m\n\u001b[1;32m----> 1\u001b[1;33m \u001b[0mnext\u001b[0m\u001b[1;33m(\u001b[0m\u001b[0mx\u001b[0m\u001b[1;33m)\u001b[0m\u001b[1;33m\u001b[0m\u001b[1;33m\u001b[0m\u001b[0m\n\u001b[0m",
      "\u001b[1;31mStopIteration\u001b[0m: "
     ]
    }
   ],
   "source": [
    "next(x)"
   ]
  },
  {
   "cell_type": "code",
   "execution_count": 71,
   "id": "b9180fc3",
   "metadata": {},
   "outputs": [
    {
     "ename": "TypeError",
     "evalue": "'int' object is not iterable",
     "output_type": "error",
     "traceback": [
      "\u001b[1;31m---------------------------------------------------------------------------\u001b[0m",
      "\u001b[1;31mTypeError\u001b[0m                                 Traceback (most recent call last)",
      "\u001b[1;32m~\\AppData\\Local\\Temp/ipykernel_6244/2312651444.py\u001b[0m in \u001b[0;36m<module>\u001b[1;34m\u001b[0m\n\u001b[1;32m----> 1\u001b[1;33m \u001b[0my\u001b[0m \u001b[1;33m=\u001b[0m \u001b[0miter\u001b[0m\u001b[1;33m(\u001b[0m\u001b[0mv\u001b[0m\u001b[1;33m)\u001b[0m\u001b[1;33m\u001b[0m\u001b[1;33m\u001b[0m\u001b[0m\n\u001b[0m",
      "\u001b[1;31mTypeError\u001b[0m: 'int' object is not iterable"
     ]
    }
   ],
   "source": [
    "y = iter(v)"
   ]
  },
  {
   "cell_type": "code",
   "execution_count": 72,
   "id": "f0acd77f",
   "metadata": {},
   "outputs": [],
   "source": [
    "# Conclusion:\n",
    "#     All iterables can be converted to iterator using iter() function"
   ]
  },
  {
   "cell_type": "code",
   "execution_count": 73,
   "id": "78c56a2c",
   "metadata": {},
   "outputs": [],
   "source": [
    "l=[1,2,3]"
   ]
  },
  {
   "cell_type": "code",
   "execution_count": 74,
   "id": "cacde939",
   "metadata": {},
   "outputs": [],
   "source": [
    "a = iter(l)"
   ]
  },
  {
   "cell_type": "code",
   "execution_count": 75,
   "id": "41c104a4",
   "metadata": {},
   "outputs": [
    {
     "data": {
      "text/plain": [
       "1"
      ]
     },
     "execution_count": 75,
     "metadata": {},
     "output_type": "execute_result"
    }
   ],
   "source": [
    "next(a)"
   ]
  },
  {
   "cell_type": "code",
   "execution_count": 76,
   "id": "107b6647",
   "metadata": {},
   "outputs": [
    {
     "data": {
      "text/plain": [
       "2"
      ]
     },
     "execution_count": 76,
     "metadata": {},
     "output_type": "execute_result"
    }
   ],
   "source": [
    "next(a)"
   ]
  },
  {
   "cell_type": "code",
   "execution_count": 77,
   "id": "a12b1b1b",
   "metadata": {},
   "outputs": [
    {
     "data": {
      "text/plain": [
       "3"
      ]
     },
     "execution_count": 77,
     "metadata": {},
     "output_type": "execute_result"
    }
   ],
   "source": [
    "next(a)"
   ]
  },
  {
   "cell_type": "code",
   "execution_count": 78,
   "id": "4df87087",
   "metadata": {},
   "outputs": [
    {
     "ename": "StopIteration",
     "evalue": "",
     "output_type": "error",
     "traceback": [
      "\u001b[1;31m---------------------------------------------------------------------------\u001b[0m",
      "\u001b[1;31mStopIteration\u001b[0m                             Traceback (most recent call last)",
      "\u001b[1;32m~\\AppData\\Local\\Temp/ipykernel_6244/1242322984.py\u001b[0m in \u001b[0;36m<module>\u001b[1;34m\u001b[0m\n\u001b[1;32m----> 1\u001b[1;33m \u001b[0mnext\u001b[0m\u001b[1;33m(\u001b[0m\u001b[0ma\u001b[0m\u001b[1;33m)\u001b[0m\u001b[1;33m\u001b[0m\u001b[1;33m\u001b[0m\u001b[0m\n\u001b[0m",
      "\u001b[1;31mStopIteration\u001b[0m: "
     ]
    }
   ],
   "source": [
    "next(a)"
   ]
  },
  {
   "cell_type": "code",
   "execution_count": 79,
   "id": "e63ab607",
   "metadata": {},
   "outputs": [],
   "source": [
    "d = {'a':1, 'b':2}"
   ]
  },
  {
   "cell_type": "code",
   "execution_count": 84,
   "id": "d4d3a12e",
   "metadata": {},
   "outputs": [],
   "source": [
    "z = iter(d)"
   ]
  },
  {
   "cell_type": "code",
   "execution_count": 85,
   "id": "5bdf1223",
   "metadata": {},
   "outputs": [
    {
     "data": {
      "text/plain": [
       "'a'"
      ]
     },
     "execution_count": 85,
     "metadata": {},
     "output_type": "execute_result"
    }
   ],
   "source": [
    "next(z)"
   ]
  },
  {
   "cell_type": "code",
   "execution_count": 86,
   "id": "791b6e5a",
   "metadata": {},
   "outputs": [],
   "source": [
    "z1 = iter(d.items())"
   ]
  },
  {
   "cell_type": "code",
   "execution_count": 87,
   "id": "b79cb2a9",
   "metadata": {},
   "outputs": [
    {
     "data": {
      "text/plain": [
       "('a', 1)"
      ]
     },
     "execution_count": 87,
     "metadata": {},
     "output_type": "execute_result"
    }
   ],
   "source": [
    "next(z1)"
   ]
  },
  {
   "cell_type": "code",
   "execution_count": 88,
   "id": "663a3b35",
   "metadata": {},
   "outputs": [],
   "source": [
    "# NOTE:\n",
    "#     Internally for loop make use of iter() and next() function."
   ]
  },
  {
   "cell_type": "code",
   "execution_count": null,
   "id": "8bbc711a",
   "metadata": {},
   "outputs": [],
   "source": []
  }
 ],
 "metadata": {
  "kernelspec": {
   "display_name": "Python 3 (ipykernel)",
   "language": "python",
   "name": "python3"
  },
  "language_info": {
   "codemirror_mode": {
    "name": "ipython",
    "version": 3
   },
   "file_extension": ".py",
   "mimetype": "text/x-python",
   "name": "python",
   "nbconvert_exporter": "python",
   "pygments_lexer": "ipython3",
   "version": "3.9.7"
  }
 },
 "nbformat": 4,
 "nbformat_minor": 5
}
