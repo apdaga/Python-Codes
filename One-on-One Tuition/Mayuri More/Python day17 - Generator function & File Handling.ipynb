{
 "cells": [
  {
   "cell_type": "markdown",
   "id": "5fa128d3",
   "metadata": {},
   "source": [
    "# Generator Function"
   ]
  },
  {
   "cell_type": "code",
   "execution_count": 1,
   "id": "8fd0dd82",
   "metadata": {},
   "outputs": [
    {
     "name": "stdout",
     "output_type": "stream",
     "text": [
      "0\n",
      "1\n",
      "2\n",
      "3\n",
      "4\n",
      "5\n",
      "6\n",
      "7\n",
      "8\n",
      "9\n"
     ]
    }
   ],
   "source": [
    "for i in range(10):\n",
    "    print(i)"
   ]
  },
  {
   "cell_type": "code",
   "execution_count": 3,
   "id": "ad1e2536",
   "metadata": {},
   "outputs": [],
   "source": [
    "x = range(10)"
   ]
  },
  {
   "cell_type": "code",
   "execution_count": 6,
   "id": "6c8f3f25",
   "metadata": {},
   "outputs": [
    {
     "data": {
      "text/plain": [
       "[0, 1, 2, 3, 4, 5, 6, 7, 8, 9]"
      ]
     },
     "execution_count": 6,
     "metadata": {},
     "output_type": "execute_result"
    }
   ],
   "source": [
    "[i for i in range(10)]"
   ]
  },
  {
   "cell_type": "code",
   "execution_count": 7,
   "id": "4d0de186",
   "metadata": {},
   "outputs": [
    {
     "data": {
      "text/plain": [
       "<generator object <genexpr> at 0x000001A8BF5D45F0>"
      ]
     },
     "execution_count": 7,
     "metadata": {},
     "output_type": "execute_result"
    }
   ],
   "source": [
    "(i for i in range(10))"
   ]
  },
  {
   "cell_type": "code",
   "execution_count": 8,
   "id": "1c5ab3a3",
   "metadata": {},
   "outputs": [
    {
     "data": {
      "text/plain": [
       "[0, 1, 2, 3, 4, 5, 6, 7, 8, 9]"
      ]
     },
     "execution_count": 8,
     "metadata": {},
     "output_type": "execute_result"
    }
   ],
   "source": [
    "[i for i in range(10)]"
   ]
  },
  {
   "cell_type": "code",
   "execution_count": 9,
   "id": "9ad36829",
   "metadata": {},
   "outputs": [
    {
     "ename": "KeyboardInterrupt",
     "evalue": "",
     "output_type": "error",
     "traceback": [
      "\u001b[1;31m---------------------------------------------------------------------------\u001b[0m",
      "\u001b[1;31mKeyboardInterrupt\u001b[0m                         Traceback (most recent call last)",
      "\u001b[1;32m~\\AppData\\Local\\Temp/ipykernel_22364/1291984442.py\u001b[0m in \u001b[0;36m<module>\u001b[1;34m\u001b[0m\n\u001b[1;32m----> 1\u001b[1;33m \u001b[1;33m[\u001b[0m\u001b[0mi\u001b[0m \u001b[1;32mfor\u001b[0m \u001b[0mi\u001b[0m \u001b[1;32min\u001b[0m \u001b[0mrange\u001b[0m\u001b[1;33m(\u001b[0m\u001b[1;36m1000000000000\u001b[0m\u001b[1;33m)\u001b[0m\u001b[1;33m]\u001b[0m\u001b[1;33m\u001b[0m\u001b[1;33m\u001b[0m\u001b[0m\n\u001b[0m",
      "\u001b[1;32m~\\AppData\\Local\\Temp/ipykernel_22364/1291984442.py\u001b[0m in \u001b[0;36m<listcomp>\u001b[1;34m(.0)\u001b[0m\n\u001b[1;32m----> 1\u001b[1;33m \u001b[1;33m[\u001b[0m\u001b[0mi\u001b[0m \u001b[1;32mfor\u001b[0m \u001b[0mi\u001b[0m \u001b[1;32min\u001b[0m \u001b[0mrange\u001b[0m\u001b[1;33m(\u001b[0m\u001b[1;36m1000000000000\u001b[0m\u001b[1;33m)\u001b[0m\u001b[1;33m]\u001b[0m\u001b[1;33m\u001b[0m\u001b[1;33m\u001b[0m\u001b[0m\n\u001b[0m",
      "\u001b[1;31mKeyboardInterrupt\u001b[0m: "
     ]
    }
   ],
   "source": [
    "[i for i in range(1000000000000)]"
   ]
  },
  {
   "cell_type": "code",
   "execution_count": 10,
   "id": "8e1b1488",
   "metadata": {},
   "outputs": [
    {
     "data": {
      "text/plain": [
       "range(0, 10)"
      ]
     },
     "execution_count": 10,
     "metadata": {},
     "output_type": "execute_result"
    }
   ],
   "source": [
    "range(10)"
   ]
  },
  {
   "cell_type": "code",
   "execution_count": 11,
   "id": "bba94fea",
   "metadata": {},
   "outputs": [
    {
     "data": {
      "text/plain": [
       "range(0, 10, 3)"
      ]
     },
     "execution_count": 11,
     "metadata": {},
     "output_type": "execute_result"
    }
   ],
   "source": [
    "range(0,10,3)"
   ]
  },
  {
   "cell_type": "code",
   "execution_count": 12,
   "id": "c8acb03d",
   "metadata": {},
   "outputs": [],
   "source": [
    "# Q. For a given number n, we want print square of all the \n",
    "# integers starting from 0 to that number (n)"
   ]
  },
  {
   "cell_type": "code",
   "execution_count": 13,
   "id": "9fa0fc08",
   "metadata": {},
   "outputs": [],
   "source": [
    "def square_num(n):\n",
    "    for i in range(n+1):\n",
    "        print(i**2)"
   ]
  },
  {
   "cell_type": "code",
   "execution_count": 14,
   "id": "1e3bf7d8",
   "metadata": {},
   "outputs": [
    {
     "name": "stdout",
     "output_type": "stream",
     "text": [
      "0\n",
      "1\n",
      "4\n",
      "9\n",
      "16\n",
      "25\n",
      "36\n",
      "49\n",
      "64\n",
      "81\n",
      "100\n"
     ]
    }
   ],
   "source": [
    "square_num(10)"
   ]
  },
  {
   "cell_type": "code",
   "execution_count": 15,
   "id": "59e148f3",
   "metadata": {},
   "outputs": [],
   "source": [
    "def square_num(n):\n",
    "    out = []\n",
    "    for i in range(n+1):\n",
    "        out.append(i**2)\n",
    "    return out"
   ]
  },
  {
   "cell_type": "code",
   "execution_count": 16,
   "id": "c231f492",
   "metadata": {},
   "outputs": [],
   "source": [
    "x=square_num(10)"
   ]
  },
  {
   "cell_type": "code",
   "execution_count": 17,
   "id": "9eff1a9a",
   "metadata": {},
   "outputs": [
    {
     "data": {
      "text/plain": [
       "[0, 1, 4, 9, 16, 25, 36, 49, 64, 81, 100]"
      ]
     },
     "execution_count": 17,
     "metadata": {},
     "output_type": "execute_result"
    }
   ],
   "source": [
    "x"
   ]
  },
  {
   "cell_type": "code",
   "execution_count": 18,
   "id": "17c4d359",
   "metadata": {},
   "outputs": [],
   "source": [
    "def square_num(n):\n",
    "    for i in range(n+1):\n",
    "        yield i**2"
   ]
  },
  {
   "cell_type": "code",
   "execution_count": 30,
   "id": "6d757a30",
   "metadata": {},
   "outputs": [],
   "source": [
    "y = square_num(10)"
   ]
  },
  {
   "cell_type": "code",
   "execution_count": 31,
   "id": "5f23dde2",
   "metadata": {},
   "outputs": [
    {
     "data": {
      "text/plain": [
       "<generator object square_num at 0x000001A88004A6D0>"
      ]
     },
     "execution_count": 31,
     "metadata": {},
     "output_type": "execute_result"
    }
   ],
   "source": [
    "y"
   ]
  },
  {
   "cell_type": "code",
   "execution_count": 32,
   "id": "f45c43d7",
   "metadata": {},
   "outputs": [
    {
     "name": "stdout",
     "output_type": "stream",
     "text": [
      "0\n",
      "1\n",
      "4\n",
      "9\n",
      "16\n",
      "25\n",
      "36\n",
      "49\n",
      "64\n",
      "81\n",
      "100\n"
     ]
    }
   ],
   "source": [
    "for i in y:\n",
    "    print(i)"
   ]
  },
  {
   "cell_type": "code",
   "execution_count": 33,
   "id": "bd96a3e8",
   "metadata": {},
   "outputs": [
    {
     "data": {
      "text/plain": [
       "[0, 1, 4, 9, 16, 25, 36, 49, 64, 81, 100]"
      ]
     },
     "execution_count": 33,
     "metadata": {},
     "output_type": "execute_result"
    }
   ],
   "source": [
    "y = square_num(10)\n",
    "[i for i in y]"
   ]
  },
  {
   "cell_type": "code",
   "execution_count": 34,
   "id": "58d597c9",
   "metadata": {},
   "outputs": [],
   "source": [
    "def square_num_slow(n):\n",
    "    out = []\n",
    "    for i in range(n+1):\n",
    "        out.append(i**2)\n",
    "    return out"
   ]
  },
  {
   "cell_type": "code",
   "execution_count": 45,
   "id": "06a6ac72",
   "metadata": {},
   "outputs": [],
   "source": [
    "def square_num_fast(n):\n",
    "    for i in range(n+1):\n",
    "        yield i**2"
   ]
  },
  {
   "cell_type": "code",
   "execution_count": 46,
   "id": "58da970c",
   "metadata": {},
   "outputs": [
    {
     "ename": "KeyboardInterrupt",
     "evalue": "",
     "output_type": "error",
     "traceback": [
      "\u001b[1;31m---------------------------------------------------------------------------\u001b[0m",
      "\u001b[1;31mKeyboardInterrupt\u001b[0m                         Traceback (most recent call last)",
      "\u001b[1;32m~\\AppData\\Local\\Temp/ipykernel_22364/1607355953.py\u001b[0m in \u001b[0;36m<module>\u001b[1;34m\u001b[0m\n\u001b[1;32m----> 1\u001b[1;33m \u001b[0msquare_num_slow\u001b[0m\u001b[1;33m(\u001b[0m\u001b[1;36m100000000\u001b[0m\u001b[1;33m)\u001b[0m\u001b[1;33m\u001b[0m\u001b[1;33m\u001b[0m\u001b[0m\n\u001b[0m",
      "\u001b[1;32m~\\AppData\\Local\\Temp/ipykernel_22364/1556492507.py\u001b[0m in \u001b[0;36msquare_num_slow\u001b[1;34m(n)\u001b[0m\n\u001b[0;32m      2\u001b[0m     \u001b[0mout\u001b[0m \u001b[1;33m=\u001b[0m \u001b[1;33m[\u001b[0m\u001b[1;33m]\u001b[0m\u001b[1;33m\u001b[0m\u001b[1;33m\u001b[0m\u001b[0m\n\u001b[0;32m      3\u001b[0m     \u001b[1;32mfor\u001b[0m \u001b[0mi\u001b[0m \u001b[1;32min\u001b[0m \u001b[0mrange\u001b[0m\u001b[1;33m(\u001b[0m\u001b[0mn\u001b[0m\u001b[1;33m+\u001b[0m\u001b[1;36m1\u001b[0m\u001b[1;33m)\u001b[0m\u001b[1;33m:\u001b[0m\u001b[1;33m\u001b[0m\u001b[1;33m\u001b[0m\u001b[0m\n\u001b[1;32m----> 4\u001b[1;33m         \u001b[0mout\u001b[0m\u001b[1;33m.\u001b[0m\u001b[0mappend\u001b[0m\u001b[1;33m(\u001b[0m\u001b[0mi\u001b[0m\u001b[1;33m**\u001b[0m\u001b[1;36m2\u001b[0m\u001b[1;33m)\u001b[0m\u001b[1;33m\u001b[0m\u001b[1;33m\u001b[0m\u001b[0m\n\u001b[0m\u001b[0;32m      5\u001b[0m     \u001b[1;32mreturn\u001b[0m \u001b[0mout\u001b[0m\u001b[1;33m\u001b[0m\u001b[1;33m\u001b[0m\u001b[0m\n",
      "\u001b[1;31mKeyboardInterrupt\u001b[0m: "
     ]
    }
   ],
   "source": [
    "square_num_slow(100000000)"
   ]
  },
  {
   "cell_type": "code",
   "execution_count": 47,
   "id": "ca7f9ee4",
   "metadata": {},
   "outputs": [
    {
     "data": {
      "text/plain": [
       "<generator object square_num_fast at 0x000001A8AF9BE740>"
      ]
     },
     "execution_count": 47,
     "metadata": {},
     "output_type": "execute_result"
    }
   ],
   "source": [
    "square_num_fast(100000000)"
   ]
  },
  {
   "cell_type": "code",
   "execution_count": 49,
   "id": "3670da7a",
   "metadata": {},
   "outputs": [],
   "source": [
    "# LIST:\n",
    "# 1 to 100    -> 100 memory location\n",
    "# 1 to 100000 -> 100000 memory location\n",
    "\n",
    "# GENERATOR:\n",
    "# 1 to 100 -> start, end, step (3 memory location)\n",
    "# 1 to 100000 -> start, end, step (3 memory location)"
   ]
  },
  {
   "cell_type": "code",
   "execution_count": 50,
   "id": "ba47b099",
   "metadata": {},
   "outputs": [],
   "source": [
    "def square_num_fast(n):\n",
    "    for i in range(n+1):\n",
    "        yield i**2"
   ]
  },
  {
   "cell_type": "code",
   "execution_count": 51,
   "id": "910c3a23",
   "metadata": {},
   "outputs": [],
   "source": [
    "def myfun():\n",
    "    yield 1\n",
    "    yield 2\n",
    "    yield 3"
   ]
  },
  {
   "cell_type": "code",
   "execution_count": 52,
   "id": "35dacdf5",
   "metadata": {},
   "outputs": [],
   "source": [
    "z = myfun()"
   ]
  },
  {
   "cell_type": "code",
   "execution_count": 53,
   "id": "1c2f8c6a",
   "metadata": {},
   "outputs": [
    {
     "name": "stdout",
     "output_type": "stream",
     "text": [
      "1\n",
      "2\n",
      "3\n"
     ]
    }
   ],
   "source": [
    "for i in z:\n",
    "    print(i)"
   ]
  },
  {
   "cell_type": "code",
   "execution_count": 54,
   "id": "93269850",
   "metadata": {},
   "outputs": [],
   "source": [
    "z = myfun()"
   ]
  },
  {
   "cell_type": "code",
   "execution_count": 55,
   "id": "a8839248",
   "metadata": {},
   "outputs": [
    {
     "data": {
      "text/plain": [
       "1"
      ]
     },
     "execution_count": 55,
     "metadata": {},
     "output_type": "execute_result"
    }
   ],
   "source": [
    "next(z)"
   ]
  },
  {
   "cell_type": "code",
   "execution_count": 56,
   "id": "7e840e36",
   "metadata": {},
   "outputs": [
    {
     "data": {
      "text/plain": [
       "2"
      ]
     },
     "execution_count": 56,
     "metadata": {},
     "output_type": "execute_result"
    }
   ],
   "source": [
    "next(z)"
   ]
  },
  {
   "cell_type": "code",
   "execution_count": 57,
   "id": "9c60a4f9",
   "metadata": {},
   "outputs": [
    {
     "data": {
      "text/plain": [
       "3"
      ]
     },
     "execution_count": 57,
     "metadata": {},
     "output_type": "execute_result"
    }
   ],
   "source": [
    "next(z)"
   ]
  },
  {
   "cell_type": "code",
   "execution_count": 58,
   "id": "44f2b269",
   "metadata": {},
   "outputs": [
    {
     "ename": "StopIteration",
     "evalue": "",
     "output_type": "error",
     "traceback": [
      "\u001b[1;31m---------------------------------------------------------------------------\u001b[0m",
      "\u001b[1;31mStopIteration\u001b[0m                             Traceback (most recent call last)",
      "\u001b[1;32m~\\AppData\\Local\\Temp/ipykernel_22364/3467732745.py\u001b[0m in \u001b[0;36m<module>\u001b[1;34m\u001b[0m\n\u001b[1;32m----> 1\u001b[1;33m \u001b[0mnext\u001b[0m\u001b[1;33m(\u001b[0m\u001b[0mz\u001b[0m\u001b[1;33m)\u001b[0m\u001b[1;33m\u001b[0m\u001b[1;33m\u001b[0m\u001b[0m\n\u001b[0m",
      "\u001b[1;31mStopIteration\u001b[0m: "
     ]
    }
   ],
   "source": [
    "next(z)"
   ]
  },
  {
   "cell_type": "code",
   "execution_count": 59,
   "id": "05f8163b",
   "metadata": {},
   "outputs": [],
   "source": [
    "def myfun():\n",
    "    yield 1\n",
    "    yield 2\n",
    "    yield 3\n",
    "    return 0\n",
    "    yield 4\n",
    "    yield 5"
   ]
  },
  {
   "cell_type": "code",
   "execution_count": 60,
   "id": "425b29f3",
   "metadata": {},
   "outputs": [],
   "source": [
    "z = myfun()"
   ]
  },
  {
   "cell_type": "code",
   "execution_count": 61,
   "id": "1ba8fc40",
   "metadata": {},
   "outputs": [
    {
     "data": {
      "text/plain": [
       "1"
      ]
     },
     "execution_count": 61,
     "metadata": {},
     "output_type": "execute_result"
    }
   ],
   "source": [
    "next(z)"
   ]
  },
  {
   "cell_type": "code",
   "execution_count": 62,
   "id": "43fbdeb2",
   "metadata": {},
   "outputs": [
    {
     "data": {
      "text/plain": [
       "2"
      ]
     },
     "execution_count": 62,
     "metadata": {},
     "output_type": "execute_result"
    }
   ],
   "source": [
    "next(z)"
   ]
  },
  {
   "cell_type": "code",
   "execution_count": 63,
   "id": "8fe914c0",
   "metadata": {},
   "outputs": [
    {
     "data": {
      "text/plain": [
       "3"
      ]
     },
     "execution_count": 63,
     "metadata": {},
     "output_type": "execute_result"
    }
   ],
   "source": [
    "next(z)"
   ]
  },
  {
   "cell_type": "code",
   "execution_count": 64,
   "id": "34a13f37",
   "metadata": {},
   "outputs": [
    {
     "ename": "StopIteration",
     "evalue": "0",
     "output_type": "error",
     "traceback": [
      "\u001b[1;31m---------------------------------------------------------------------------\u001b[0m",
      "\u001b[1;31mStopIteration\u001b[0m                             Traceback (most recent call last)",
      "\u001b[1;32m~\\AppData\\Local\\Temp/ipykernel_22364/3467732745.py\u001b[0m in \u001b[0;36m<module>\u001b[1;34m\u001b[0m\n\u001b[1;32m----> 1\u001b[1;33m \u001b[0mnext\u001b[0m\u001b[1;33m(\u001b[0m\u001b[0mz\u001b[0m\u001b[1;33m)\u001b[0m\u001b[1;33m\u001b[0m\u001b[1;33m\u001b[0m\u001b[0m\n\u001b[0m",
      "\u001b[1;31mStopIteration\u001b[0m: 0"
     ]
    }
   ],
   "source": [
    "next(z)"
   ]
  },
  {
   "cell_type": "code",
   "execution_count": 65,
   "id": "573d0dff",
   "metadata": {},
   "outputs": [
    {
     "data": {
      "text/plain": [
       "<generator object myfun at 0x000001A8AF9BEB30>"
      ]
     },
     "execution_count": 65,
     "metadata": {},
     "output_type": "execute_result"
    }
   ],
   "source": [
    "z"
   ]
  },
  {
   "cell_type": "markdown",
   "id": "5b17351d",
   "metadata": {},
   "source": [
    "# File Handling"
   ]
  },
  {
   "cell_type": "code",
   "execution_count": 66,
   "id": "da7f855b",
   "metadata": {},
   "outputs": [
    {
     "data": {
      "text/plain": [
       "'C:\\\\Users\\\\apdaga\\\\OneDrive\\\\Documents\\\\Jupyter Notebooks\\\\Mayuri More'"
      ]
     },
     "execution_count": 66,
     "metadata": {},
     "output_type": "execute_result"
    }
   ],
   "source": [
    "pwd"
   ]
  },
  {
   "cell_type": "code",
   "execution_count": 67,
   "id": "c2b21690",
   "metadata": {},
   "outputs": [
    {
     "name": "stdout",
     "output_type": "stream",
     "text": [
      " Volume in drive C is Windows\n",
      " Volume Serial Number is 3AB0-27C0\n",
      "\n",
      " Directory of C:\\Users\\apdaga\\OneDrive\\Documents\\Jupyter Notebooks\\Mayuri More\n",
      "\n",
      "24-05-2022  07:54 PM    <DIR>          .\n",
      "22-05-2022  12:56 PM    <DIR>          ..\n",
      "24-05-2022  07:18 PM    <DIR>          .ipynb_checkpoints\n",
      "13-04-2022  04:39 PM            12,109 Python day1 - Basics.ipynb\n",
      "16-05-2022  07:14 PM             6,966 Python day10 - IF-ELSE Answers discussion.ipynb\n",
      "16-05-2022  07:14 PM            13,324 Python day11 - For Loop.ipynb\n",
      "16-05-2022  07:14 PM            13,893 Python day12 - For Else, While, pass, None, break, continue,.ipynb\n",
      "19-04-2022  08:11 PM            17,265 Python day13 - Comprehensions (list, tuple, set, dict).ipynb\n",
      "16-05-2022  07:27 PM            25,883 Python day14 - Functions.ipynb\n",
      "16-05-2022  08:05 PM            18,323 Python day15 - Functions with variable number of (Non Keyword) arguments.ipynb\n",
      "23-05-2022  08:13 PM            49,338 Python day16 - Functions with Key-Value pair (Keyword), variable-length arguments, Lambda, Iterable vs Iterator.ipynb\n",
      "24-05-2022  07:54 PM            16,536 Python day17 - Generator function.ipynb\n",
      "13-04-2022  04:39 PM            20,897 Python day2 - (+) operator & user input.ipynb\n",
      "13-04-2022  04:39 PM            15,092 Python day3 - String Operations.ipynb\n",
      "13-04-2022  04:39 PM            16,040 Python day4 - String Operations (2).ipynb\n",
      "13-04-2022  04:39 PM            42,901 Python day5 - String Operations (3) & List.ipynb\n",
      "13-04-2022  04:39 PM            20,460 Python day6 - Tuple & Set.ipynb\n",
      "16-05-2022  07:14 PM            30,788 Python day7 - Dictionary Basics.ipynb\n",
      "16-05-2022  07:14 PM            27,545 Python day8 - Dictionary built-in functions.ipynb\n",
      "16-05-2022  07:14 PM            12,540 Python day9 - IF-ELIF-ELSE.ipynb\n",
      "16-05-2022  07:14 PM                 1 Readme.txt\n",
      "              18 File(s)        359,901 bytes\n",
      "               3 Dir(s)  47,839,219,712 bytes free\n"
     ]
    }
   ],
   "source": [
    "ls"
   ]
  },
  {
   "cell_type": "code",
   "execution_count": 68,
   "id": "719edea8",
   "metadata": {},
   "outputs": [
    {
     "name": "stdout",
     "output_type": "stream",
     "text": [
      " Volume in drive C is Windows\n",
      " Volume Serial Number is 3AB0-27C0\n",
      "\n",
      " Directory of C:\\Users\\apdaga\\OneDrive\\Documents\\Jupyter Notebooks\\Mayuri More\n",
      "\n",
      "24-05-2022  07:54 PM    <DIR>          .\n",
      "22-05-2022  12:56 PM    <DIR>          ..\n",
      "24-05-2022  07:18 PM    <DIR>          .ipynb_checkpoints\n",
      "13-04-2022  04:39 PM            12,109 Python day1 - Basics.ipynb\n",
      "16-05-2022  07:14 PM             6,966 Python day10 - IF-ELSE Answers discussion.ipynb\n",
      "16-05-2022  07:14 PM            13,324 Python day11 - For Loop.ipynb\n",
      "16-05-2022  07:14 PM            13,893 Python day12 - For Else, While, pass, None, break, continue,.ipynb\n",
      "19-04-2022  08:11 PM            17,265 Python day13 - Comprehensions (list, tuple, set, dict).ipynb\n",
      "16-05-2022  07:27 PM            25,883 Python day14 - Functions.ipynb\n",
      "16-05-2022  08:05 PM            18,323 Python day15 - Functions with variable number of (Non Keyword) arguments.ipynb\n",
      "23-05-2022  08:13 PM            49,338 Python day16 - Functions with Key-Value pair (Keyword), variable-length arguments, Lambda, Iterable vs Iterator.ipynb\n",
      "24-05-2022  07:54 PM            16,536 Python day17 - Generator function.ipynb\n",
      "13-04-2022  04:39 PM            20,897 Python day2 - (+) operator & user input.ipynb\n",
      "13-04-2022  04:39 PM            15,092 Python day3 - String Operations.ipynb\n",
      "13-04-2022  04:39 PM            16,040 Python day4 - String Operations (2).ipynb\n",
      "13-04-2022  04:39 PM            42,901 Python day5 - String Operations (3) & List.ipynb\n",
      "13-04-2022  04:39 PM            20,460 Python day6 - Tuple & Set.ipynb\n",
      "16-05-2022  07:14 PM            30,788 Python day7 - Dictionary Basics.ipynb\n",
      "16-05-2022  07:14 PM            27,545 Python day8 - Dictionary built-in functions.ipynb\n",
      "16-05-2022  07:14 PM            12,540 Python day9 - IF-ELIF-ELSE.ipynb\n",
      "16-05-2022  07:14 PM                 1 Readme.txt\n",
      "              18 File(s)        359,901 bytes\n",
      "               3 Dir(s)  47,838,818,304 bytes free\n"
     ]
    }
   ],
   "source": [
    "!dir"
   ]
  },
  {
   "cell_type": "code",
   "execution_count": 69,
   "id": "0c062c96",
   "metadata": {},
   "outputs": [
    {
     "ename": "FileNotFoundError",
     "evalue": "[Errno 2] No such file or directory: 'first.txt'",
     "output_type": "error",
     "traceback": [
      "\u001b[1;31m---------------------------------------------------------------------------\u001b[0m",
      "\u001b[1;31mFileNotFoundError\u001b[0m                         Traceback (most recent call last)",
      "\u001b[1;32m~\\AppData\\Local\\Temp/ipykernel_22364/2093337102.py\u001b[0m in \u001b[0;36m<module>\u001b[1;34m\u001b[0m\n\u001b[1;32m----> 1\u001b[1;33m \u001b[0mf\u001b[0m \u001b[1;33m=\u001b[0m \u001b[0mopen\u001b[0m\u001b[1;33m(\u001b[0m\u001b[1;34m\"first.txt\"\u001b[0m\u001b[1;33m)\u001b[0m\u001b[1;33m\u001b[0m\u001b[1;33m\u001b[0m\u001b[0m\n\u001b[0m",
      "\u001b[1;31mFileNotFoundError\u001b[0m: [Errno 2] No such file or directory: 'first.txt'"
     ]
    }
   ],
   "source": [
    "f = open(\"first.txt\")"
   ]
  },
  {
   "cell_type": "code",
   "execution_count": 71,
   "id": "4efce97d",
   "metadata": {},
   "outputs": [],
   "source": [
    "f = open(\"first.txt\",\"w+\")"
   ]
  },
  {
   "cell_type": "code",
   "execution_count": 73,
   "id": "9e695317",
   "metadata": {},
   "outputs": [
    {
     "data": {
      "text/plain": [
       "79"
      ]
     },
     "execution_count": 73,
     "metadata": {},
     "output_type": "execute_result"
    }
   ],
   "source": [
    "f.write(\"This is my first file created using python.\\nThis is 2nd line.\\nThis is 3rd line.\")"
   ]
  },
  {
   "cell_type": "code",
   "execution_count": 74,
   "id": "02b64c01",
   "metadata": {},
   "outputs": [
    {
     "data": {
      "text/plain": [
       "19"
      ]
     },
     "execution_count": 74,
     "metadata": {},
     "output_type": "execute_result"
    }
   ],
   "source": [
    "f.write(\"This is my 4th line\")"
   ]
  },
  {
   "cell_type": "code",
   "execution_count": 76,
   "id": "30e58fd0",
   "metadata": {},
   "outputs": [
    {
     "data": {
      "text/plain": [
       "''"
      ]
     },
     "execution_count": 76,
     "metadata": {},
     "output_type": "execute_result"
    }
   ],
   "source": [
    "f.read()"
   ]
  },
  {
   "cell_type": "code",
   "execution_count": 77,
   "id": "25ea1457",
   "metadata": {},
   "outputs": [
    {
     "data": {
      "text/plain": [
       "100"
      ]
     },
     "execution_count": 77,
     "metadata": {},
     "output_type": "execute_result"
    }
   ],
   "source": [
    "f.tell()"
   ]
  },
  {
   "cell_type": "code",
   "execution_count": 78,
   "id": "801a37ae",
   "metadata": {},
   "outputs": [
    {
     "data": {
      "text/plain": [
       "0"
      ]
     },
     "execution_count": 78,
     "metadata": {},
     "output_type": "execute_result"
    }
   ],
   "source": [
    "f.seek(0)"
   ]
  },
  {
   "cell_type": "code",
   "execution_count": 79,
   "id": "9fc6a3ff",
   "metadata": {},
   "outputs": [
    {
     "data": {
      "text/plain": [
       "'This is my first file created using python.\\nThis is 2nd line.\\nThis is 3rd line.This is my 4th line'"
      ]
     },
     "execution_count": 79,
     "metadata": {},
     "output_type": "execute_result"
    }
   ],
   "source": [
    "f.read()"
   ]
  },
  {
   "cell_type": "code",
   "execution_count": 80,
   "id": "9d989782",
   "metadata": {},
   "outputs": [
    {
     "data": {
      "text/plain": [
       "50"
      ]
     },
     "execution_count": 80,
     "metadata": {},
     "output_type": "execute_result"
    }
   ],
   "source": [
    "f.seek(50)"
   ]
  },
  {
   "cell_type": "code",
   "execution_count": 81,
   "id": "53df7e72",
   "metadata": {},
   "outputs": [
    {
     "data": {
      "text/plain": [
       "'is 2nd line.\\nThis is 3rd line.This is my 4th line'"
      ]
     },
     "execution_count": 81,
     "metadata": {},
     "output_type": "execute_result"
    }
   ],
   "source": [
    "f.read()"
   ]
  },
  {
   "cell_type": "code",
   "execution_count": 82,
   "id": "3cf8c65e",
   "metadata": {},
   "outputs": [
    {
     "data": {
      "text/plain": [
       "'This is my first file created using python.\\n'"
      ]
     },
     "execution_count": 82,
     "metadata": {},
     "output_type": "execute_result"
    }
   ],
   "source": [
    "f.seek(0)\n",
    "f.readline()"
   ]
  },
  {
   "cell_type": "code",
   "execution_count": 83,
   "id": "c1088b22",
   "metadata": {},
   "outputs": [
    {
     "data": {
      "text/plain": [
       "'This is 2nd line.\\n'"
      ]
     },
     "execution_count": 83,
     "metadata": {},
     "output_type": "execute_result"
    }
   ],
   "source": [
    "f.readline()"
   ]
  },
  {
   "cell_type": "code",
   "execution_count": 84,
   "id": "10f8477c",
   "metadata": {},
   "outputs": [
    {
     "data": {
      "text/plain": [
       "'This is 3rd line.This is my 4th line'"
      ]
     },
     "execution_count": 84,
     "metadata": {},
     "output_type": "execute_result"
    }
   ],
   "source": [
    "f.readline()"
   ]
  },
  {
   "cell_type": "code",
   "execution_count": 85,
   "id": "fdda7961",
   "metadata": {},
   "outputs": [
    {
     "data": {
      "text/plain": [
       "''"
      ]
     },
     "execution_count": 85,
     "metadata": {},
     "output_type": "execute_result"
    }
   ],
   "source": [
    "f.readline()"
   ]
  },
  {
   "cell_type": "code",
   "execution_count": 86,
   "id": "c792d46b",
   "metadata": {},
   "outputs": [
    {
     "data": {
      "text/plain": [
       "['This is my first file created using python.\\n',\n",
       " 'This is 2nd line.\\n',\n",
       " 'This is 3rd line.This is my 4th line']"
      ]
     },
     "execution_count": 86,
     "metadata": {},
     "output_type": "execute_result"
    }
   ],
   "source": [
    "f.seek(0)\n",
    "f.readlines()"
   ]
  },
  {
   "cell_type": "code",
   "execution_count": 87,
   "id": "70488399",
   "metadata": {},
   "outputs": [
    {
     "data": {
      "text/plain": [
       "100"
      ]
     },
     "execution_count": 87,
     "metadata": {},
     "output_type": "execute_result"
    }
   ],
   "source": [
    "f.tell()"
   ]
  },
  {
   "cell_type": "code",
   "execution_count": 88,
   "id": "d724551f",
   "metadata": {},
   "outputs": [
    {
     "data": {
      "text/plain": [
       "27"
      ]
     },
     "execution_count": 88,
     "metadata": {},
     "output_type": "execute_result"
    }
   ],
   "source": [
    "f.write(\"\\nThis actually the 4th line\")"
   ]
  },
  {
   "cell_type": "code",
   "execution_count": 90,
   "id": "fc6bf048",
   "metadata": {},
   "outputs": [
    {
     "data": {
      "text/plain": [
       "['This is my first file created using python.\\n',\n",
       " 'This is 2nd line.\\n',\n",
       " 'This is 3rd line.This is my 4th line\\n',\n",
       " 'This actually the 4th line']"
      ]
     },
     "execution_count": 90,
     "metadata": {},
     "output_type": "execute_result"
    }
   ],
   "source": [
    "f.seek(0)\n",
    "f.readlines()"
   ]
  },
  {
   "cell_type": "code",
   "execution_count": 92,
   "id": "1b229e27",
   "metadata": {},
   "outputs": [],
   "source": [
    "f.close()"
   ]
  },
  {
   "cell_type": "code",
   "execution_count": 94,
   "id": "75410251",
   "metadata": {},
   "outputs": [],
   "source": [
    "f = open(\"first.txt\",\"w+\")"
   ]
  },
  {
   "cell_type": "code",
   "execution_count": 95,
   "id": "38659e5c",
   "metadata": {},
   "outputs": [
    {
     "data": {
      "text/plain": [
       "0"
      ]
     },
     "execution_count": 95,
     "metadata": {},
     "output_type": "execute_result"
    }
   ],
   "source": [
    "f.tell()"
   ]
  },
  {
   "cell_type": "code",
   "execution_count": 96,
   "id": "17633369",
   "metadata": {},
   "outputs": [
    {
     "data": {
      "text/plain": [
       "[]"
      ]
     },
     "execution_count": 96,
     "metadata": {},
     "output_type": "execute_result"
    }
   ],
   "source": [
    "f.readlines()"
   ]
  },
  {
   "cell_type": "code",
   "execution_count": 97,
   "id": "6ef0281e",
   "metadata": {},
   "outputs": [],
   "source": [
    "f.close()"
   ]
  },
  {
   "cell_type": "code",
   "execution_count": 98,
   "id": "1e43932b",
   "metadata": {},
   "outputs": [
    {
     "data": {
      "text/plain": [
       "''"
      ]
     },
     "execution_count": 98,
     "metadata": {},
     "output_type": "execute_result"
    }
   ],
   "source": [
    "f = open(\"first.txt\")\n",
    "f.read()"
   ]
  },
  {
   "cell_type": "code",
   "execution_count": 100,
   "id": "9c09a142",
   "metadata": {},
   "outputs": [],
   "source": [
    "f = open(\"first.txt\")"
   ]
  },
  {
   "cell_type": "code",
   "execution_count": 101,
   "id": "2ddeb04d",
   "metadata": {},
   "outputs": [
    {
     "ename": "UnsupportedOperation",
     "evalue": "not writable",
     "output_type": "error",
     "traceback": [
      "\u001b[1;31m---------------------------------------------------------------------------\u001b[0m",
      "\u001b[1;31mUnsupportedOperation\u001b[0m                      Traceback (most recent call last)",
      "\u001b[1;32m~\\AppData\\Local\\Temp/ipykernel_22364/487265397.py\u001b[0m in \u001b[0;36m<module>\u001b[1;34m\u001b[0m\n\u001b[1;32m----> 1\u001b[1;33m \u001b[0mf\u001b[0m\u001b[1;33m.\u001b[0m\u001b[0mwrite\u001b[0m\u001b[1;33m(\u001b[0m\u001b[1;34m'abc'\u001b[0m\u001b[1;33m)\u001b[0m\u001b[1;33m\u001b[0m\u001b[1;33m\u001b[0m\u001b[0m\n\u001b[0m",
      "\u001b[1;31mUnsupportedOperation\u001b[0m: not writable"
     ]
    }
   ],
   "source": [
    "f.write('abc')"
   ]
  },
  {
   "cell_type": "code",
   "execution_count": 102,
   "id": "559417ed",
   "metadata": {},
   "outputs": [],
   "source": [
    "f.close()"
   ]
  },
  {
   "cell_type": "code",
   "execution_count": 103,
   "id": "65f43ae0",
   "metadata": {},
   "outputs": [],
   "source": [
    "f = open(\"first.txt\",\"r+\")"
   ]
  },
  {
   "cell_type": "code",
   "execution_count": 104,
   "id": "d3399c51",
   "metadata": {},
   "outputs": [
    {
     "data": {
      "text/plain": [
       "3"
      ]
     },
     "execution_count": 104,
     "metadata": {},
     "output_type": "execute_result"
    }
   ],
   "source": [
    "f.write('abc')"
   ]
  },
  {
   "cell_type": "code",
   "execution_count": 106,
   "id": "4dc2b2cc",
   "metadata": {},
   "outputs": [
    {
     "data": {
      "text/plain": [
       "'abc'"
      ]
     },
     "execution_count": 106,
     "metadata": {},
     "output_type": "execute_result"
    }
   ],
   "source": [
    "f.seek(0)\n",
    "f.read()"
   ]
  },
  {
   "cell_type": "code",
   "execution_count": 107,
   "id": "7e1c642a",
   "metadata": {},
   "outputs": [],
   "source": [
    "f.close()"
   ]
  },
  {
   "cell_type": "code",
   "execution_count": 108,
   "id": "d68f4198",
   "metadata": {},
   "outputs": [],
   "source": [
    "f = open(\"first.txt\",\"a\")"
   ]
  },
  {
   "cell_type": "code",
   "execution_count": 109,
   "id": "67ccdde0",
   "metadata": {},
   "outputs": [
    {
     "data": {
      "text/plain": [
       "3"
      ]
     },
     "execution_count": 109,
     "metadata": {},
     "output_type": "execute_result"
    }
   ],
   "source": [
    "f.tell()"
   ]
  },
  {
   "cell_type": "code",
   "execution_count": 110,
   "id": "c4f75318",
   "metadata": {},
   "outputs": [
    {
     "data": {
      "text/plain": [
       "5"
      ]
     },
     "execution_count": 110,
     "metadata": {},
     "output_type": "execute_result"
    }
   ],
   "source": [
    "f.write(\"defgh\")"
   ]
  },
  {
   "cell_type": "code",
   "execution_count": 112,
   "id": "f9797d84",
   "metadata": {},
   "outputs": [],
   "source": [
    "f.close()"
   ]
  },
  {
   "cell_type": "code",
   "execution_count": 113,
   "id": "ae224b39",
   "metadata": {},
   "outputs": [],
   "source": [
    "f = open(\"first.txt\")"
   ]
  },
  {
   "cell_type": "code",
   "execution_count": 114,
   "id": "1da9e1d7",
   "metadata": {},
   "outputs": [
    {
     "data": {
      "text/plain": [
       "'abcdefgh'"
      ]
     },
     "execution_count": 114,
     "metadata": {},
     "output_type": "execute_result"
    }
   ],
   "source": [
    "f.read()"
   ]
  },
  {
   "cell_type": "code",
   "execution_count": 115,
   "id": "8b345470",
   "metadata": {},
   "outputs": [],
   "source": [
    "f = open(\"first.txt\",\"w+\")"
   ]
  },
  {
   "cell_type": "code",
   "execution_count": 116,
   "id": "49daa7a7",
   "metadata": {},
   "outputs": [
    {
     "data": {
      "text/plain": [
       "86"
      ]
     },
     "execution_count": 116,
     "metadata": {},
     "output_type": "execute_result"
    }
   ],
   "source": [
    "f.write(\"This is my first line.\\nThis is my 2nd line.\\nThis is my 3rd line.\\nThis is my 4th line.\\n\")"
   ]
  },
  {
   "cell_type": "code",
   "execution_count": 117,
   "id": "e33343f0",
   "metadata": {},
   "outputs": [],
   "source": [
    "f.close()"
   ]
  },
  {
   "cell_type": "code",
   "execution_count": 118,
   "id": "33e29618",
   "metadata": {},
   "outputs": [],
   "source": [
    "f = open(\"first.txt\")"
   ]
  },
  {
   "cell_type": "code",
   "execution_count": 119,
   "id": "bb95b87f",
   "metadata": {},
   "outputs": [
    {
     "name": "stdout",
     "output_type": "stream",
     "text": [
      "This is my first line.\n",
      "\n",
      "This is my 2nd line.\n",
      "\n",
      "This is my 3rd line.\n",
      "\n",
      "This is my 4th line.\n",
      "\n"
     ]
    }
   ],
   "source": [
    "for line in f:\n",
    "    print(line)"
   ]
  },
  {
   "cell_type": "code",
   "execution_count": 120,
   "id": "52cfc07d",
   "metadata": {},
   "outputs": [
    {
     "name": "stdout",
     "output_type": "stream",
     "text": [
      "This is my first line.\n",
      "\n",
      "This is my 2nd line.\n",
      "\n",
      "This is my 3rd line.\n",
      "\n",
      "This is my 4th line.\n",
      "\n"
     ]
    }
   ],
   "source": [
    "f.seek(0)\n",
    "\n",
    "for line in f.readlines():\n",
    "    print(line)"
   ]
  },
  {
   "cell_type": "code",
   "execution_count": null,
   "id": "4c6fe523",
   "metadata": {},
   "outputs": [],
   "source": []
  }
 ],
 "metadata": {
  "kernelspec": {
   "display_name": "Python 3 (ipykernel)",
   "language": "python",
   "name": "python3"
  },
  "language_info": {
   "codemirror_mode": {
    "name": "ipython",
    "version": 3
   },
   "file_extension": ".py",
   "mimetype": "text/x-python",
   "name": "python",
   "nbconvert_exporter": "python",
   "pygments_lexer": "ipython3",
   "version": "3.9.7"
  }
 },
 "nbformat": 4,
 "nbformat_minor": 5
}
