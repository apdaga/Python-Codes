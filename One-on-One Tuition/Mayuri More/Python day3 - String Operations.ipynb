{
 "cells": [
  {
   "cell_type": "code",
   "execution_count": 1,
   "id": "1946aaf2",
   "metadata": {},
   "outputs": [],
   "source": [
    "s = \"Mayuri\""
   ]
  },
  {
   "cell_type": "code",
   "execution_count": 2,
   "id": "c989a30b",
   "metadata": {},
   "outputs": [
    {
     "data": {
      "text/plain": [
       "6"
      ]
     },
     "execution_count": 2,
     "metadata": {},
     "output_type": "execute_result"
    }
   ],
   "source": [
    "len(s)"
   ]
  },
  {
   "cell_type": "code",
   "execution_count": 6,
   "id": "431305db",
   "metadata": {},
   "outputs": [
    {
     "name": "stdout",
     "output_type": "stream",
     "text": [
      "M a y u r i\n"
     ]
    }
   ],
   "source": [
    "print(s[0],s[1],s[2],s[3],s[4],s[5])"
   ]
  },
  {
   "cell_type": "code",
   "execution_count": 7,
   "id": "e215a86a",
   "metadata": {},
   "outputs": [
    {
     "ename": "IndexError",
     "evalue": "string index out of range",
     "output_type": "error",
     "traceback": [
      "\u001b[1;31m---------------------------------------------------------------------------\u001b[0m",
      "\u001b[1;31mIndexError\u001b[0m                                Traceback (most recent call last)",
      "\u001b[1;32m<ipython-input-7-c4bc18d4aa1b>\u001b[0m in \u001b[0;36m<module>\u001b[1;34m\u001b[0m\n\u001b[1;32m----> 1\u001b[1;33m \u001b[0ms\u001b[0m\u001b[1;33m[\u001b[0m\u001b[1;36m6\u001b[0m\u001b[1;33m]\u001b[0m\u001b[1;33m\u001b[0m\u001b[1;33m\u001b[0m\u001b[0m\n\u001b[0m",
      "\u001b[1;31mIndexError\u001b[0m: string index out of range"
     ]
    }
   ],
   "source": [
    "s[6]"
   ]
  },
  {
   "cell_type": "code",
   "execution_count": 8,
   "id": "5a18e810",
   "metadata": {},
   "outputs": [
    {
     "name": "stdout",
     "output_type": "stream",
     "text": [
      "i r u y a M\n"
     ]
    }
   ],
   "source": [
    "print(s[-1],s[-2],s[-3],s[-4],s[-5],s[-6])"
   ]
  },
  {
   "cell_type": "code",
   "execution_count": 9,
   "id": "36c81d2d",
   "metadata": {},
   "outputs": [
    {
     "ename": "IndexError",
     "evalue": "string index out of range",
     "output_type": "error",
     "traceback": [
      "\u001b[1;31m---------------------------------------------------------------------------\u001b[0m",
      "\u001b[1;31mIndexError\u001b[0m                                Traceback (most recent call last)",
      "\u001b[1;32m<ipython-input-9-f93c2f8ec6cd>\u001b[0m in \u001b[0;36m<module>\u001b[1;34m\u001b[0m\n\u001b[1;32m----> 1\u001b[1;33m \u001b[0ms\u001b[0m\u001b[1;33m[\u001b[0m\u001b[1;33m-\u001b[0m\u001b[1;36m7\u001b[0m\u001b[1;33m]\u001b[0m\u001b[1;33m\u001b[0m\u001b[1;33m\u001b[0m\u001b[0m\n\u001b[0m",
      "\u001b[1;31mIndexError\u001b[0m: string index out of range"
     ]
    }
   ],
   "source": [
    "s[-7]"
   ]
  },
  {
   "cell_type": "code",
   "execution_count": 10,
   "id": "88f68210",
   "metadata": {},
   "outputs": [
    {
     "data": {
      "text/plain": [
       "'Mayuri'"
      ]
     },
     "execution_count": 10,
     "metadata": {},
     "output_type": "execute_result"
    }
   ],
   "source": [
    "s"
   ]
  },
  {
   "cell_type": "code",
   "execution_count": 12,
   "id": "f2a0d94e",
   "metadata": {},
   "outputs": [
    {
     "data": {
      "text/plain": [
       "'May'"
      ]
     },
     "execution_count": 12,
     "metadata": {},
     "output_type": "execute_result"
    }
   ],
   "source": [
    "s[0:3]"
   ]
  },
  {
   "cell_type": "code",
   "execution_count": 14,
   "id": "9b0e917f",
   "metadata": {},
   "outputs": [
    {
     "data": {
      "text/plain": [
       "'Mayur'"
      ]
     },
     "execution_count": 14,
     "metadata": {},
     "output_type": "execute_result"
    }
   ],
   "source": [
    "s[0:5]"
   ]
  },
  {
   "cell_type": "code",
   "execution_count": 15,
   "id": "cc48006d",
   "metadata": {},
   "outputs": [
    {
     "data": {
      "text/plain": [
       "'Mayuri'"
      ]
     },
     "execution_count": 15,
     "metadata": {},
     "output_type": "execute_result"
    }
   ],
   "source": [
    "s[0:6]"
   ]
  },
  {
   "cell_type": "code",
   "execution_count": 16,
   "id": "e52f1814",
   "metadata": {},
   "outputs": [
    {
     "data": {
      "text/plain": [
       "'Mayuri'"
      ]
     },
     "execution_count": 16,
     "metadata": {},
     "output_type": "execute_result"
    }
   ],
   "source": [
    "s[0:len(s)]"
   ]
  },
  {
   "cell_type": "code",
   "execution_count": 20,
   "id": "0e11382c",
   "metadata": {},
   "outputs": [
    {
     "ename": "IndexError",
     "evalue": "string index out of range",
     "output_type": "error",
     "traceback": [
      "\u001b[1;31m---------------------------------------------------------------------------\u001b[0m",
      "\u001b[1;31mIndexError\u001b[0m                                Traceback (most recent call last)",
      "\u001b[1;32m<ipython-input-20-1f8a5d94635c>\u001b[0m in \u001b[0;36m<module>\u001b[1;34m\u001b[0m\n\u001b[1;32m----> 1\u001b[1;33m \u001b[0ms\u001b[0m\u001b[1;33m[\u001b[0m\u001b[1;36m9\u001b[0m\u001b[1;33m]\u001b[0m\u001b[1;33m\u001b[0m\u001b[1;33m\u001b[0m\u001b[0m\n\u001b[0m",
      "\u001b[1;31mIndexError\u001b[0m: string index out of range"
     ]
    }
   ],
   "source": [
    "s[9]"
   ]
  },
  {
   "cell_type": "code",
   "execution_count": 21,
   "id": "78992f65",
   "metadata": {},
   "outputs": [
    {
     "data": {
      "text/plain": [
       "'Mayuri'"
      ]
     },
     "execution_count": 21,
     "metadata": {},
     "output_type": "execute_result"
    }
   ],
   "source": [
    "s[0:200000]"
   ]
  },
  {
   "cell_type": "code",
   "execution_count": 22,
   "id": "26ecfc45",
   "metadata": {},
   "outputs": [
    {
     "data": {
      "text/plain": [
       "'Myr'"
      ]
     },
     "execution_count": 22,
     "metadata": {},
     "output_type": "execute_result"
    }
   ],
   "source": [
    "s[0:6:2]"
   ]
  },
  {
   "cell_type": "code",
   "execution_count": 23,
   "id": "959b415e",
   "metadata": {},
   "outputs": [
    {
     "data": {
      "text/plain": [
       "'Mu'"
      ]
     },
     "execution_count": 23,
     "metadata": {},
     "output_type": "execute_result"
    }
   ],
   "source": [
    "s[0:6:3]"
   ]
  },
  {
   "cell_type": "code",
   "execution_count": 24,
   "id": "2bf2c050",
   "metadata": {},
   "outputs": [
    {
     "data": {
      "text/plain": [
       "'Mr'"
      ]
     },
     "execution_count": 24,
     "metadata": {},
     "output_type": "execute_result"
    }
   ],
   "source": [
    "s[0:6:4]"
   ]
  },
  {
   "cell_type": "code",
   "execution_count": 25,
   "id": "8ac712b1",
   "metadata": {},
   "outputs": [
    {
     "data": {
      "text/plain": [
       "''"
      ]
     },
     "execution_count": 25,
     "metadata": {},
     "output_type": "execute_result"
    }
   ],
   "source": [
    "s[0:6:-1]"
   ]
  },
  {
   "cell_type": "code",
   "execution_count": 30,
   "id": "f8bbf174",
   "metadata": {},
   "outputs": [
    {
     "data": {
      "text/plain": [
       "'Mayuri'"
      ]
     },
     "execution_count": 30,
     "metadata": {},
     "output_type": "execute_result"
    }
   ],
   "source": [
    "# Whenever start and end are blank and (step size is either blank or 1 or any positive number)\n",
    "# then the start point = 0 (i.e. lowest index of string)\n",
    "# and the end point = len(string)\n",
    "\n",
    "#s[::]\n",
    "#s[::1]\n",
    "s[0:len(s):1]"
   ]
  },
  {
   "cell_type": "code",
   "execution_count": 31,
   "id": "c0363106",
   "metadata": {},
   "outputs": [
    {
     "data": {
      "text/plain": [
       "'iruyaM'"
      ]
     },
     "execution_count": 31,
     "metadata": {},
     "output_type": "execute_result"
    }
   ],
   "source": [
    "s[::-1]"
   ]
  },
  {
   "cell_type": "code",
   "execution_count": 32,
   "id": "0aa64836",
   "metadata": {},
   "outputs": [
    {
     "data": {
      "text/plain": [
       "''"
      ]
     },
     "execution_count": 32,
     "metadata": {},
     "output_type": "execute_result"
    }
   ],
   "source": [
    "s[-1:-4]"
   ]
  },
  {
   "cell_type": "code",
   "execution_count": 33,
   "id": "3ee6bdf7",
   "metadata": {},
   "outputs": [
    {
     "data": {
      "text/plain": [
       "'iru'"
      ]
     },
     "execution_count": 33,
     "metadata": {},
     "output_type": "execute_result"
    }
   ],
   "source": [
    "s[-1:-4:-1]"
   ]
  },
  {
   "cell_type": "code",
   "execution_count": 34,
   "id": "13368908",
   "metadata": {},
   "outputs": [
    {
     "data": {
      "text/plain": [
       "'yur'"
      ]
     },
     "execution_count": 34,
     "metadata": {},
     "output_type": "execute_result"
    }
   ],
   "source": [
    "s[-4:-1]"
   ]
  },
  {
   "cell_type": "code",
   "execution_count": 35,
   "id": "45f35c3b",
   "metadata": {},
   "outputs": [
    {
     "data": {
      "text/plain": [
       "''"
      ]
     },
     "execution_count": 35,
     "metadata": {},
     "output_type": "execute_result"
    }
   ],
   "source": [
    "s[0:6:-1]"
   ]
  },
  {
   "cell_type": "code",
   "execution_count": 36,
   "id": "240fbbc2",
   "metadata": {},
   "outputs": [
    {
     "data": {
      "text/plain": [
       "''"
      ]
     },
     "execution_count": 36,
     "metadata": {},
     "output_type": "execute_result"
    }
   ],
   "source": [
    "s[-5:-1:-1]"
   ]
  },
  {
   "cell_type": "code",
   "execution_count": 39,
   "id": "11025aef",
   "metadata": {},
   "outputs": [
    {
     "data": {
      "text/plain": [
       "'Mayuri'"
      ]
     },
     "execution_count": 39,
     "metadata": {},
     "output_type": "execute_result"
    }
   ],
   "source": [
    "#s[::]\n",
    "#s[::1]\n",
    "s[0:len(s):1]"
   ]
  },
  {
   "cell_type": "code",
   "execution_count": 40,
   "id": "c820d8ef",
   "metadata": {},
   "outputs": [
    {
     "data": {
      "text/plain": [
       "'iruyaM'"
      ]
     },
     "execution_count": 40,
     "metadata": {},
     "output_type": "execute_result"
    }
   ],
   "source": [
    "s[::-1]"
   ]
  },
  {
   "cell_type": "code",
   "execution_count": 41,
   "id": "7b10daf3",
   "metadata": {},
   "outputs": [
    {
     "data": {
      "text/plain": [
       "'iy'"
      ]
     },
     "execution_count": 41,
     "metadata": {},
     "output_type": "execute_result"
    }
   ],
   "source": [
    "s[::-3]"
   ]
  },
  {
   "cell_type": "code",
   "execution_count": 49,
   "id": "c4b27af7",
   "metadata": {},
   "outputs": [
    {
     "data": {
      "text/plain": [
       "'iruyaM'"
      ]
     },
     "execution_count": 49,
     "metadata": {},
     "output_type": "execute_result"
    }
   ],
   "source": [
    "# Whenever start and end are blank and (step size is either -1 or any negative number)\n",
    "# then the start point = -1 (i.e. rightmost index of string)\n",
    "# and the end point = leftmost index of the string\n",
    "\n",
    "#s[::-1]\n",
    "#s[-1::-1]\n",
    "s[-1:-len(s)-1:-1]\n",
    "\n",
    "# s[len(s)-1::-1]\n",
    "# s[:-len(s)-1:-1]\n",
    "# s[len(s)-1:-len(s)-1:-1]"
   ]
  },
  {
   "cell_type": "code",
   "execution_count": 53,
   "id": "d1de4458",
   "metadata": {},
   "outputs": [
    {
     "data": {
      "text/plain": [
       "'iruy'"
      ]
     },
     "execution_count": 53,
     "metadata": {},
     "output_type": "execute_result"
    }
   ],
   "source": [
    "s[:-len(s)+1:-1]\n",
    "#s[5:-5:-1]"
   ]
  },
  {
   "cell_type": "code",
   "execution_count": 57,
   "id": "b8f7b94a",
   "metadata": {},
   "outputs": [
    {
     "data": {
      "text/plain": [
       "''"
      ]
     },
     "execution_count": 57,
     "metadata": {},
     "output_type": "execute_result"
    }
   ],
   "source": [
    "s[5:5:-1]"
   ]
  },
  {
   "cell_type": "code",
   "execution_count": 56,
   "id": "3761dac5",
   "metadata": {},
   "outputs": [
    {
     "data": {
      "text/plain": [
       "''"
      ]
     },
     "execution_count": 56,
     "metadata": {},
     "output_type": "execute_result"
    }
   ],
   "source": [
    "s[5:5:1]"
   ]
  },
  {
   "cell_type": "code",
   "execution_count": 58,
   "id": "884671a6",
   "metadata": {},
   "outputs": [
    {
     "data": {
      "text/plain": [
       "''"
      ]
     },
     "execution_count": 58,
     "metadata": {},
     "output_type": "execute_result"
    }
   ],
   "source": [
    "s[3:3:1]"
   ]
  },
  {
   "cell_type": "code",
   "execution_count": 61,
   "id": "ddefd49f",
   "metadata": {},
   "outputs": [],
   "source": [
    "s1 = \"I am a Python student\""
   ]
  },
  {
   "cell_type": "code",
   "execution_count": 62,
   "id": "86c073bd",
   "metadata": {},
   "outputs": [
    {
     "data": {
      "text/plain": [
       "21"
      ]
     },
     "execution_count": 62,
     "metadata": {},
     "output_type": "execute_result"
    }
   ],
   "source": [
    "len(s1)"
   ]
  },
  {
   "cell_type": "code",
   "execution_count": 74,
   "id": "b39ff146",
   "metadata": {},
   "outputs": [],
   "source": [
    "# s1[8:3]\n",
    "# s1[-4:-15:-1]\n",
    "# s1[-10:-15:-1]\n",
    "# s1[-15:-10:-1]\n",
    "# s1[:-2000:-1]\n",
    "# s1[::-3]\n",
    "# s1[:12:]\n",
    "# s1[-200::-1]\n",
    "# s1[100::1]"
   ]
  },
  {
   "cell_type": "code",
   "execution_count": 75,
   "id": "6fc72f5f",
   "metadata": {},
   "outputs": [],
   "source": [
    "# 1. Check step size (+ve, -ve)\n",
    "# 2. Calculate what will be there at blank space using below rules:\n",
    "\n",
    "#  2.1 Whenever start and end are blank and (step size is either blank or 1 or any positive number)\n",
    "#      then the start point = 0 (i.e. lowest index of string)\n",
    "#      and the end point = len(string)\n",
    "\n",
    "#  2.2 Whenever start and end are blank and (step size is either -1 or any negative number)\n",
    "#      then the start point = -1 (i.e. rightmost index of string)\n",
    "#      and the end point = leftmost index of the string\n",
    "\n",
    "# 3. Now you got all there numbers (start:end:step)\n",
    "# 4. Check the direction of start->end  and step-size\n",
    "# 5. Based on both the directions, predict the ouput"
   ]
  },
  {
   "cell_type": "code",
   "execution_count": null,
   "id": "fc7eca5e",
   "metadata": {},
   "outputs": [],
   "source": [
    "#H.W\n",
    "s1 = \"I want to study string slicing operation\"\n",
    "# reverse the string\n",
    "\n",
    "# s1[8:3]\n",
    "# s1[-4:-15:-1]\n",
    "# s1[-10:-15:-1]\n",
    "# s1[-15:-10:-1]\n",
    "# s1[:-2000:-1]\n",
    "# s1[::-3]\n",
    "# s1[:12:]\n",
    "# s1[-200::-1]\n",
    "# s1[100::1]"
   ]
  }
 ],
 "metadata": {
  "kernelspec": {
   "display_name": "Python 3",
   "language": "python",
   "name": "python3"
  },
  "language_info": {
   "codemirror_mode": {
    "name": "ipython",
    "version": 3
   },
   "file_extension": ".py",
   "mimetype": "text/x-python",
   "name": "python",
   "nbconvert_exporter": "python",
   "pygments_lexer": "ipython3",
   "version": "3.8.8"
  }
 },
 "nbformat": 4,
 "nbformat_minor": 5
}
