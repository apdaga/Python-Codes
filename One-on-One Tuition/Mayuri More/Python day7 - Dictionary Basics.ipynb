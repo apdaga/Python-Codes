{
 "cells": [
  {
   "cell_type": "code",
   "execution_count": 1,
   "id": "cb94ed17",
   "metadata": {},
   "outputs": [],
   "source": [
    "# Advane data types in python\n",
    "# list -> []\n",
    "# tuple -> ()\n",
    "# set -> {}\n",
    "# dict -> {}"
   ]
  },
  {
   "cell_type": "code",
   "execution_count": 4,
   "id": "6b740578",
   "metadata": {},
   "outputs": [],
   "source": [
    "l = []\n",
    "t = ()\n",
    "d = {}"
   ]
  },
  {
   "cell_type": "code",
   "execution_count": 5,
   "id": "22a35af7",
   "metadata": {},
   "outputs": [
    {
     "name": "stdout",
     "output_type": "stream",
     "text": [
      "<class 'list'>\n",
      "<class 'tuple'>\n",
      "<class 'dict'>\n"
     ]
    }
   ],
   "source": [
    "print(type(l))\n",
    "print(type(t))\n",
    "print(type(d))"
   ]
  },
  {
   "cell_type": "code",
   "execution_count": 6,
   "id": "f677fb8d",
   "metadata": {},
   "outputs": [],
   "source": [
    "l1 = list()\n",
    "t1 = tuple()\n",
    "s1 = set()\n",
    "d1 = dict()"
   ]
  },
  {
   "cell_type": "code",
   "execution_count": 7,
   "id": "816af204",
   "metadata": {},
   "outputs": [
    {
     "name": "stdout",
     "output_type": "stream",
     "text": [
      "<class 'list'>\n",
      "<class 'tuple'>\n",
      "<class 'set'>\n",
      "<class 'dict'>\n"
     ]
    }
   ],
   "source": [
    "print(type(l1))\n",
    "print(type(t1))\n",
    "print(type(s1))\n",
    "print(type(d1))"
   ]
  },
  {
   "cell_type": "code",
   "execution_count": 8,
   "id": "53729a57",
   "metadata": {},
   "outputs": [
    {
     "name": "stdout",
     "output_type": "stream",
     "text": [
      "[]\n",
      "()\n",
      "set()\n",
      "{}\n"
     ]
    }
   ],
   "source": [
    "print(l1)\n",
    "print(t1)\n",
    "print(s1)\n",
    "print(d1)"
   ]
  },
  {
   "cell_type": "code",
   "execution_count": 10,
   "id": "494bfb32",
   "metadata": {},
   "outputs": [
    {
     "data": {
      "text/plain": [
       "(2, 3)"
      ]
     },
     "execution_count": 10,
     "metadata": {},
     "output_type": "execute_result"
    }
   ],
   "source": [
    "t2 = (1,2,3,4,5)\n",
    "t2[1:3]"
   ]
  },
  {
   "cell_type": "code",
   "execution_count": 11,
   "id": "71fb1c82",
   "metadata": {},
   "outputs": [],
   "source": [
    "# Assigning Values -> [], (), {}\n",
    "# Any fnction call -> ()\n",
    "# slicing -> []"
   ]
  },
  {
   "cell_type": "code",
   "execution_count": 12,
   "id": "a54e6728",
   "metadata": {},
   "outputs": [],
   "source": [
    "d1 = {1:\"one\", 2:\"two\", 3:\"three\"}"
   ]
  },
  {
   "cell_type": "code",
   "execution_count": 13,
   "id": "2531b333",
   "metadata": {},
   "outputs": [
    {
     "data": {
      "text/plain": [
       "{1: 'one', 2: 'two', 3: 'three'}"
      ]
     },
     "execution_count": 13,
     "metadata": {},
     "output_type": "execute_result"
    }
   ],
   "source": [
    "d1"
   ]
  },
  {
   "cell_type": "code",
   "execution_count": 14,
   "id": "cd9b6639",
   "metadata": {},
   "outputs": [
    {
     "data": {
      "text/plain": [
       "dict"
      ]
     },
     "execution_count": 14,
     "metadata": {},
     "output_type": "execute_result"
    }
   ],
   "source": [
    "type(d1)"
   ]
  },
  {
   "cell_type": "code",
   "execution_count": 17,
   "id": "3c9430db",
   "metadata": {},
   "outputs": [],
   "source": [
    "# keys & values can be of any data type\n",
    "# keys can never be duplicate\n",
    "# value can be duplicate\n",
    "# dict is mutable in nature (editable)"
   ]
  },
  {
   "cell_type": "code",
   "execution_count": 18,
   "id": "f94ba0c9",
   "metadata": {},
   "outputs": [
    {
     "data": {
      "text/plain": [
       "{1: 'one', 2: 'two', 3: 'three'}"
      ]
     },
     "execution_count": 18,
     "metadata": {},
     "output_type": "execute_result"
    }
   ],
   "source": [
    "d1"
   ]
  },
  {
   "cell_type": "code",
   "execution_count": 19,
   "id": "60bc7b4c",
   "metadata": {},
   "outputs": [],
   "source": [
    "l1 = [12,232,354,55,667,45]"
   ]
  },
  {
   "cell_type": "code",
   "execution_count": 21,
   "id": "232bce48",
   "metadata": {},
   "outputs": [],
   "source": [
    "l1[1] = 5"
   ]
  },
  {
   "cell_type": "code",
   "execution_count": 22,
   "id": "4fcc3ab7",
   "metadata": {},
   "outputs": [
    {
     "data": {
      "text/plain": [
       "[12, 5, 354, 55, 667, 45]"
      ]
     },
     "execution_count": 22,
     "metadata": {},
     "output_type": "execute_result"
    }
   ],
   "source": [
    "l1"
   ]
  },
  {
   "cell_type": "code",
   "execution_count": 23,
   "id": "80729b72",
   "metadata": {},
   "outputs": [
    {
     "data": {
      "text/plain": [
       "'one'"
      ]
     },
     "execution_count": 23,
     "metadata": {},
     "output_type": "execute_result"
    }
   ],
   "source": [
    "d1[1]"
   ]
  },
  {
   "cell_type": "code",
   "execution_count": 24,
   "id": "867afbac",
   "metadata": {},
   "outputs": [
    {
     "data": {
      "text/plain": [
       "'two'"
      ]
     },
     "execution_count": 24,
     "metadata": {},
     "output_type": "execute_result"
    }
   ],
   "source": [
    "d1[2]"
   ]
  },
  {
   "cell_type": "code",
   "execution_count": 25,
   "id": "cea0bcd7",
   "metadata": {},
   "outputs": [
    {
     "data": {
      "text/plain": [
       "'three'"
      ]
     },
     "execution_count": 25,
     "metadata": {},
     "output_type": "execute_result"
    }
   ],
   "source": [
    "d1[3]"
   ]
  },
  {
   "cell_type": "code",
   "execution_count": 27,
   "id": "5d1864a4",
   "metadata": {},
   "outputs": [],
   "source": [
    "d1 = {'a': 'one', 'b': 'two', 'c': 'three'}"
   ]
  },
  {
   "cell_type": "code",
   "execution_count": 28,
   "id": "5336957f",
   "metadata": {},
   "outputs": [
    {
     "data": {
      "text/plain": [
       "{'a': 'one', 'b': 'two', 'c': 'three'}"
      ]
     },
     "execution_count": 28,
     "metadata": {},
     "output_type": "execute_result"
    }
   ],
   "source": [
    "d1"
   ]
  },
  {
   "cell_type": "code",
   "execution_count": 29,
   "id": "8e784b9e",
   "metadata": {},
   "outputs": [
    {
     "data": {
      "text/plain": [
       "'two'"
      ]
     },
     "execution_count": 29,
     "metadata": {},
     "output_type": "execute_result"
    }
   ],
   "source": [
    "d1['b']"
   ]
  },
  {
   "cell_type": "code",
   "execution_count": 34,
   "id": "7e0011ae",
   "metadata": {},
   "outputs": [],
   "source": [
    "d2 = {'a': 'one', 'b': 'two', 3: 'three', 5:True, 'l':[4,5,6], 't':(2,3),  's':{6,7,8}}"
   ]
  },
  {
   "cell_type": "code",
   "execution_count": 35,
   "id": "11d3903e",
   "metadata": {},
   "outputs": [
    {
     "data": {
      "text/plain": [
       "{'a': 'one',\n",
       " 'b': 'two',\n",
       " 3: 'three',\n",
       " 5: True,\n",
       " 'l': [4, 5, 6],\n",
       " 't': (2, 3),\n",
       " 's': {6, 7, 8}}"
      ]
     },
     "execution_count": 35,
     "metadata": {},
     "output_type": "execute_result"
    }
   ],
   "source": [
    "d2"
   ]
  },
  {
   "cell_type": "code",
   "execution_count": 36,
   "id": "608c6a59",
   "metadata": {},
   "outputs": [
    {
     "data": {
      "text/plain": [
       "'one'"
      ]
     },
     "execution_count": 36,
     "metadata": {},
     "output_type": "execute_result"
    }
   ],
   "source": [
    "d2['a']"
   ]
  },
  {
   "cell_type": "code",
   "execution_count": 37,
   "id": "266db965",
   "metadata": {},
   "outputs": [
    {
     "data": {
      "text/plain": [
       "[4, 5, 6]"
      ]
     },
     "execution_count": 37,
     "metadata": {},
     "output_type": "execute_result"
    }
   ],
   "source": [
    "d2['l']"
   ]
  },
  {
   "cell_type": "code",
   "execution_count": 39,
   "id": "ee9b295a",
   "metadata": {},
   "outputs": [
    {
     "data": {
      "text/plain": [
       "5"
      ]
     },
     "execution_count": 39,
     "metadata": {},
     "output_type": "execute_result"
    }
   ],
   "source": [
    "d2['l'][1]"
   ]
  },
  {
   "cell_type": "code",
   "execution_count": 40,
   "id": "05e5ecb4",
   "metadata": {},
   "outputs": [],
   "source": [
    "# {2,3,4,5}\n",
    "# {3:5, 7:5}"
   ]
  },
  {
   "cell_type": "code",
   "execution_count": 41,
   "id": "6de761d5",
   "metadata": {},
   "outputs": [],
   "source": [
    "d3 = {'a': 'one', 'b': 'two', 3: 'three', 5:True, 'l':[4,5,6], 't':(2,3),  's':{6,7,8}, \n",
    "      'd':{2:'two', 1:'one'}\n",
    "     }"
   ]
  },
  {
   "cell_type": "code",
   "execution_count": 42,
   "id": "c4840f94",
   "metadata": {},
   "outputs": [
    {
     "data": {
      "text/plain": [
       "{'a': 'one',\n",
       " 'b': 'two',\n",
       " 3: 'three',\n",
       " 5: True,\n",
       " 'l': [4, 5, 6],\n",
       " 't': (2, 3),\n",
       " 's': {6, 7, 8},\n",
       " 'd': {2: 'two', 1: 'one'}}"
      ]
     },
     "execution_count": 42,
     "metadata": {},
     "output_type": "execute_result"
    }
   ],
   "source": [
    "d3"
   ]
  },
  {
   "cell_type": "code",
   "execution_count": 44,
   "id": "cea07734",
   "metadata": {},
   "outputs": [],
   "source": [
    "d3 = {'a': 'one', 'b': 'two', 3: 'three', 5:True, 'l':[4,5,6], 't':(2,3),  's':{6,7,8}, 'a':1}"
   ]
  },
  {
   "cell_type": "code",
   "execution_count": 45,
   "id": "55c9fa97",
   "metadata": {},
   "outputs": [
    {
     "data": {
      "text/plain": [
       "{'a': 1,\n",
       " 'b': 'two',\n",
       " 3: 'three',\n",
       " 5: True,\n",
       " 'l': [4, 5, 6],\n",
       " 't': (2, 3),\n",
       " 's': {6, 7, 8}}"
      ]
     },
     "execution_count": 45,
     "metadata": {},
     "output_type": "execute_result"
    }
   ],
   "source": [
    "d3"
   ]
  },
  {
   "cell_type": "code",
   "execution_count": 46,
   "id": "4ff0dd11",
   "metadata": {},
   "outputs": [],
   "source": [
    "d3[5] = False"
   ]
  },
  {
   "cell_type": "code",
   "execution_count": 47,
   "id": "070e8ccd",
   "metadata": {},
   "outputs": [
    {
     "data": {
      "text/plain": [
       "{'a': 1,\n",
       " 'b': 'two',\n",
       " 3: 'three',\n",
       " 5: False,\n",
       " 'l': [4, 5, 6],\n",
       " 't': (2, 3),\n",
       " 's': {6, 7, 8}}"
      ]
     },
     "execution_count": 47,
     "metadata": {},
     "output_type": "execute_result"
    }
   ],
   "source": [
    "d3"
   ]
  },
  {
   "cell_type": "code",
   "execution_count": 48,
   "id": "7e6ad22e",
   "metadata": {},
   "outputs": [],
   "source": [
    "d3['c'] = 7"
   ]
  },
  {
   "cell_type": "code",
   "execution_count": 49,
   "id": "58b3a1cf",
   "metadata": {},
   "outputs": [
    {
     "data": {
      "text/plain": [
       "{'a': 1,\n",
       " 'b': 'two',\n",
       " 3: 'three',\n",
       " 5: False,\n",
       " 'l': [4, 5, 6],\n",
       " 't': (2, 3),\n",
       " 's': {6, 7, 8},\n",
       " 'c': 7}"
      ]
     },
     "execution_count": 49,
     "metadata": {},
     "output_type": "execute_result"
    }
   ],
   "source": [
    "d3"
   ]
  },
  {
   "cell_type": "code",
   "execution_count": 52,
   "id": "54b30029",
   "metadata": {},
   "outputs": [],
   "source": [
    "d4 = {'a': 'one', 'b': 'two', 3: 'three', 5:True, 'l':[4,5,6], 't':(2,3),  's':{6,7,8}, \n",
    "      'd':{'a':'four', 1:'five'}\n",
    "     }"
   ]
  },
  {
   "cell_type": "code",
   "execution_count": 53,
   "id": "57ba8e42",
   "metadata": {},
   "outputs": [
    {
     "data": {
      "text/plain": [
       "{'a': 'one',\n",
       " 'b': 'two',\n",
       " 3: 'three',\n",
       " 5: True,\n",
       " 'l': [4, 5, 6],\n",
       " 't': (2, 3),\n",
       " 's': {6, 7, 8},\n",
       " 'd': {'a': 'four', 1: 'five'}}"
      ]
     },
     "execution_count": 53,
     "metadata": {},
     "output_type": "execute_result"
    }
   ],
   "source": [
    "d4"
   ]
  },
  {
   "cell_type": "code",
   "execution_count": 59,
   "id": "b5e1792e",
   "metadata": {},
   "outputs": [
    {
     "data": {
      "text/plain": [
       "{'a': 'four', 1: 'five'}"
      ]
     },
     "execution_count": 59,
     "metadata": {},
     "output_type": "execute_result"
    }
   ],
   "source": [
    "d4['d']"
   ]
  },
  {
   "cell_type": "code",
   "execution_count": 60,
   "id": "30c940b4",
   "metadata": {},
   "outputs": [
    {
     "data": {
      "text/plain": [
       "'four'"
      ]
     },
     "execution_count": 60,
     "metadata": {},
     "output_type": "execute_result"
    }
   ],
   "source": [
    "d4['d']['a']"
   ]
  },
  {
   "cell_type": "code",
   "execution_count": 61,
   "id": "41609bbb",
   "metadata": {},
   "outputs": [
    {
     "name": "stderr",
     "output_type": "stream",
     "text": [
      "<>:2: SyntaxWarning: str indices must be integers or slices, not str; perhaps you missed a comma?\n",
      "<>:2: SyntaxWarning: str indices must be integers or slices, not str; perhaps you missed a comma?\n",
      "C:\\Users\\HP\\AppData\\Local\\Temp/ipykernel_11384/248217932.py:2: SyntaxWarning: str indices must be integers or slices, not str; perhaps you missed a comma?\n",
      "  d4['d'['a']]\n"
     ]
    },
    {
     "ename": "TypeError",
     "evalue": "string indices must be integers",
     "output_type": "error",
     "traceback": [
      "\u001b[1;31m---------------------------------------------------------------------------\u001b[0m",
      "\u001b[1;31mTypeError\u001b[0m                                 Traceback (most recent call last)",
      "\u001b[1;32m~\\AppData\\Local\\Temp/ipykernel_11384/248217932.py\u001b[0m in \u001b[0;36m<module>\u001b[1;34m\u001b[0m\n\u001b[0;32m      1\u001b[0m \u001b[1;31m# Wrong syntax\u001b[0m\u001b[1;33m\u001b[0m\u001b[1;33m\u001b[0m\u001b[0m\n\u001b[1;32m----> 2\u001b[1;33m \u001b[0md4\u001b[0m\u001b[1;33m[\u001b[0m\u001b[1;34m'd'\u001b[0m\u001b[1;33m[\u001b[0m\u001b[1;34m'a'\u001b[0m\u001b[1;33m]\u001b[0m\u001b[1;33m]\u001b[0m\u001b[1;33m\u001b[0m\u001b[1;33m\u001b[0m\u001b[0m\n\u001b[0m",
      "\u001b[1;31mTypeError\u001b[0m: string indices must be integers"
     ]
    }
   ],
   "source": [
    "# Wrong syntax\n",
    "d4['d'['a']]"
   ]
  },
  {
   "cell_type": "code",
   "execution_count": 66,
   "id": "55d5f812",
   "metadata": {},
   "outputs": [],
   "source": [
    "#dictionary within dictionary\n",
    "d3 = {\"a\":\"abcd\", \"b\":\"bat\", 2:\"two\", \n",
    "      \"city\":\"Boston\", \"Bool\":\"True\", \n",
    "      'l':[1,2,6], 'q':(55,66), 's':{8,9,10}, \n",
    "      \"a\":\"45\", \"w\":{5:\"five\", \"xyz\":\"masta\"}, 'y':'xyz'}"
   ]
  },
  {
   "cell_type": "code",
   "execution_count": 63,
   "id": "b6468bf8",
   "metadata": {},
   "outputs": [
    {
     "data": {
      "text/plain": [
       "'masta'"
      ]
     },
     "execution_count": 63,
     "metadata": {},
     "output_type": "execute_result"
    }
   ],
   "source": [
    "d3[\"w\"][\"xyz\"]"
   ]
  },
  {
   "cell_type": "code",
   "execution_count": 64,
   "id": "55b1435c",
   "metadata": {},
   "outputs": [
    {
     "data": {
      "text/plain": [
       "'masta'"
      ]
     },
     "execution_count": 64,
     "metadata": {},
     "output_type": "execute_result"
    }
   ],
   "source": [
    "d3['w']['xyz']"
   ]
  },
  {
   "cell_type": "code",
   "execution_count": 67,
   "id": "5ce4871f",
   "metadata": {},
   "outputs": [
    {
     "data": {
      "text/plain": [
       "'xyz'"
      ]
     },
     "execution_count": 67,
     "metadata": {},
     "output_type": "execute_result"
    }
   ],
   "source": [
    "d3['y']"
   ]
  },
  {
   "cell_type": "code",
   "execution_count": 82,
   "id": "885d363a",
   "metadata": {},
   "outputs": [],
   "source": [
    "# key: value\n",
    "\n",
    "# value: any datatype (int, float, str, complex, bool, list, tuple, set, dict)\n",
    "# key: any basic datatype (int, float, str, complex, bool) & tuple "
   ]
  },
  {
   "cell_type": "code",
   "execution_count": 69,
   "id": "2460c94c",
   "metadata": {},
   "outputs": [],
   "source": [
    "d7 = {1:\"int\", 2.3:\"float\", \"abc\":\"str\", 2+3j:\"complex\", False:\"bool\"}"
   ]
  },
  {
   "cell_type": "code",
   "execution_count": 70,
   "id": "1428f9b5",
   "metadata": {},
   "outputs": [
    {
     "data": {
      "text/plain": [
       "{1: 'int', 2.3: 'float', 'abc': 'str', (2+3j): 'complex', False: 'bool'}"
      ]
     },
     "execution_count": 70,
     "metadata": {},
     "output_type": "execute_result"
    }
   ],
   "source": [
    "d7"
   ]
  },
  {
   "cell_type": "code",
   "execution_count": 71,
   "id": "261f88ff",
   "metadata": {},
   "outputs": [],
   "source": [
    "d7 = {1:\"int\", 2.3:\"float\", \"abc\":\"str\", 2+3j:\"complex\", True:\"bool\"}"
   ]
  },
  {
   "cell_type": "code",
   "execution_count": 72,
   "id": "3e76bc5a",
   "metadata": {},
   "outputs": [
    {
     "data": {
      "text/plain": [
       "{1: 'bool', 2.3: 'float', 'abc': 'str', (2+3j): 'complex'}"
      ]
     },
     "execution_count": 72,
     "metadata": {},
     "output_type": "execute_result"
    }
   ],
   "source": [
    "d7"
   ]
  },
  {
   "cell_type": "code",
   "execution_count": 73,
   "id": "95cb075c",
   "metadata": {},
   "outputs": [],
   "source": [
    "d7 = {0:\"int\", 2.3:\"float\", \"abc\":\"str\", 2+3j:\"complex\", False:\"bool\"}"
   ]
  },
  {
   "cell_type": "code",
   "execution_count": 74,
   "id": "0cd667ec",
   "metadata": {},
   "outputs": [
    {
     "data": {
      "text/plain": [
       "{0: 'bool', 2.3: 'float', 'abc': 'str', (2+3j): 'complex'}"
      ]
     },
     "execution_count": 74,
     "metadata": {},
     "output_type": "execute_result"
    }
   ],
   "source": [
    "d7"
   ]
  },
  {
   "cell_type": "code",
   "execution_count": 75,
   "id": "37d6ceab",
   "metadata": {},
   "outputs": [
    {
     "data": {
      "text/plain": [
       "'bool'"
      ]
     },
     "execution_count": 75,
     "metadata": {},
     "output_type": "execute_result"
    }
   ],
   "source": [
    "d7[False]"
   ]
  },
  {
   "cell_type": "code",
   "execution_count": 76,
   "id": "3541ffd3",
   "metadata": {},
   "outputs": [
    {
     "data": {
      "text/plain": [
       "'bool'"
      ]
     },
     "execution_count": 76,
     "metadata": {},
     "output_type": "execute_result"
    }
   ],
   "source": [
    "d7[0]"
   ]
  },
  {
   "cell_type": "code",
   "execution_count": 77,
   "id": "14e4aa52",
   "metadata": {},
   "outputs": [
    {
     "ename": "TypeError",
     "evalue": "unhashable type: 'list'",
     "output_type": "error",
     "traceback": [
      "\u001b[1;31m---------------------------------------------------------------------------\u001b[0m",
      "\u001b[1;31mTypeError\u001b[0m                                 Traceback (most recent call last)",
      "\u001b[1;32m~\\AppData\\Local\\Temp/ipykernel_11384/163423330.py\u001b[0m in \u001b[0;36m<module>\u001b[1;34m\u001b[0m\n\u001b[1;32m----> 1\u001b[1;33m \u001b[0md8\u001b[0m \u001b[1;33m=\u001b[0m \u001b[1;33m{\u001b[0m\u001b[1;33m[\u001b[0m\u001b[1;36m1\u001b[0m\u001b[1;33m,\u001b[0m\u001b[1;36m2\u001b[0m\u001b[1;33m]\u001b[0m\u001b[1;33m:\u001b[0m\u001b[1;34m\"list\"\u001b[0m\u001b[1;33m}\u001b[0m\u001b[1;33m\u001b[0m\u001b[1;33m\u001b[0m\u001b[0m\n\u001b[0m",
      "\u001b[1;31mTypeError\u001b[0m: unhashable type: 'list'"
     ]
    }
   ],
   "source": [
    "d8 = {[1,2]:\"list\"}"
   ]
  },
  {
   "cell_type": "code",
   "execution_count": 78,
   "id": "ba0f3e16",
   "metadata": {},
   "outputs": [
    {
     "ename": "TypeError",
     "evalue": "unhashable type: 'set'",
     "output_type": "error",
     "traceback": [
      "\u001b[1;31m---------------------------------------------------------------------------\u001b[0m",
      "\u001b[1;31mTypeError\u001b[0m                                 Traceback (most recent call last)",
      "\u001b[1;32m~\\AppData\\Local\\Temp/ipykernel_11384/2013819030.py\u001b[0m in \u001b[0;36m<module>\u001b[1;34m\u001b[0m\n\u001b[1;32m----> 1\u001b[1;33m \u001b[0md8\u001b[0m \u001b[1;33m=\u001b[0m \u001b[1;33m{\u001b[0m\u001b[1;33m{\u001b[0m\u001b[1;36m1\u001b[0m\u001b[1;33m,\u001b[0m\u001b[1;36m2\u001b[0m\u001b[1;33m}\u001b[0m\u001b[1;33m:\u001b[0m\u001b[1;34m\"set\"\u001b[0m\u001b[1;33m}\u001b[0m\u001b[1;33m\u001b[0m\u001b[1;33m\u001b[0m\u001b[0m\n\u001b[0m",
      "\u001b[1;31mTypeError\u001b[0m: unhashable type: 'set'"
     ]
    }
   ],
   "source": [
    "d8 = {{1,2}:\"set\"}"
   ]
  },
  {
   "cell_type": "code",
   "execution_count": 79,
   "id": "64d9e98a",
   "metadata": {},
   "outputs": [
    {
     "ename": "TypeError",
     "evalue": "unhashable type: 'dict'",
     "output_type": "error",
     "traceback": [
      "\u001b[1;31m---------------------------------------------------------------------------\u001b[0m",
      "\u001b[1;31mTypeError\u001b[0m                                 Traceback (most recent call last)",
      "\u001b[1;32m~\\AppData\\Local\\Temp/ipykernel_11384/2797111336.py\u001b[0m in \u001b[0;36m<module>\u001b[1;34m\u001b[0m\n\u001b[1;32m----> 1\u001b[1;33m \u001b[0md8\u001b[0m \u001b[1;33m=\u001b[0m \u001b[1;33m{\u001b[0m\u001b[1;33m{\u001b[0m\u001b[1;36m1\u001b[0m\u001b[1;33m:\u001b[0m\u001b[1;36m2\u001b[0m\u001b[1;33m}\u001b[0m\u001b[1;33m:\u001b[0m\u001b[1;34m\"set\"\u001b[0m\u001b[1;33m}\u001b[0m\u001b[1;33m\u001b[0m\u001b[1;33m\u001b[0m\u001b[0m\n\u001b[0m",
      "\u001b[1;31mTypeError\u001b[0m: unhashable type: 'dict'"
     ]
    }
   ],
   "source": [
    "d8 = {{1:2}:\"set\"}"
   ]
  },
  {
   "cell_type": "code",
   "execution_count": 80,
   "id": "10daae3b",
   "metadata": {},
   "outputs": [],
   "source": [
    "d9 = {(1,2):\"set\"}"
   ]
  },
  {
   "cell_type": "code",
   "execution_count": 81,
   "id": "1ce7bab6",
   "metadata": {},
   "outputs": [
    {
     "data": {
      "text/plain": [
       "{(1, 2): 'set'}"
      ]
     },
     "execution_count": 81,
     "metadata": {},
     "output_type": "execute_result"
    }
   ],
   "source": [
    "d9"
   ]
  },
  {
   "cell_type": "code",
   "execution_count": 83,
   "id": "ee230a04",
   "metadata": {},
   "outputs": [],
   "source": [
    "# list -> not allowed\n",
    "# set -> not allowed\n",
    "# dict -> not allowed\n",
    "# tuple -> allowed"
   ]
  },
  {
   "cell_type": "code",
   "execution_count": 84,
   "id": "a918c5b6",
   "metadata": {},
   "outputs": [],
   "source": [
    "d1 = {1: \"one\", 2:\"two\"}\n",
    "d2 = {'a':\"hi\", 'b':\"hello\"}"
   ]
  },
  {
   "cell_type": "code",
   "execution_count": 85,
   "id": "1288f23b",
   "metadata": {},
   "outputs": [
    {
     "ename": "TypeError",
     "evalue": "unsupported operand type(s) for +: 'dict' and 'dict'",
     "output_type": "error",
     "traceback": [
      "\u001b[1;31m---------------------------------------------------------------------------\u001b[0m",
      "\u001b[1;31mTypeError\u001b[0m                                 Traceback (most recent call last)",
      "\u001b[1;32m~\\AppData\\Local\\Temp/ipykernel_11384/1575791415.py\u001b[0m in \u001b[0;36m<module>\u001b[1;34m\u001b[0m\n\u001b[1;32m----> 1\u001b[1;33m \u001b[0md1\u001b[0m \u001b[1;33m+\u001b[0m \u001b[0md2\u001b[0m\u001b[1;33m\u001b[0m\u001b[1;33m\u001b[0m\u001b[0m\n\u001b[0m",
      "\u001b[1;31mTypeError\u001b[0m: unsupported operand type(s) for +: 'dict' and 'dict'"
     ]
    }
   ],
   "source": [
    "d1 + d2"
   ]
  },
  {
   "cell_type": "code",
   "execution_count": 86,
   "id": "be6b46e0",
   "metadata": {},
   "outputs": [
    {
     "ename": "TypeError",
     "evalue": "unsupported operand type(s) for *: 'dict' and 'int'",
     "output_type": "error",
     "traceback": [
      "\u001b[1;31m---------------------------------------------------------------------------\u001b[0m",
      "\u001b[1;31mTypeError\u001b[0m                                 Traceback (most recent call last)",
      "\u001b[1;32m~\\AppData\\Local\\Temp/ipykernel_11384/3900875180.py\u001b[0m in \u001b[0;36m<module>\u001b[1;34m\u001b[0m\n\u001b[1;32m----> 1\u001b[1;33m \u001b[0md1\u001b[0m \u001b[1;33m*\u001b[0m \u001b[1;36m2\u001b[0m\u001b[1;33m\u001b[0m\u001b[1;33m\u001b[0m\u001b[0m\n\u001b[0m",
      "\u001b[1;31mTypeError\u001b[0m: unsupported operand type(s) for *: 'dict' and 'int'"
     ]
    }
   ],
   "source": [
    "d1 * 2"
   ]
  },
  {
   "cell_type": "code",
   "execution_count": 88,
   "id": "9c5e39b1",
   "metadata": {},
   "outputs": [],
   "source": [
    "s1 = {1,2,3}\n",
    "s2 = {3,4,5}"
   ]
  },
  {
   "cell_type": "code",
   "execution_count": 89,
   "id": "3eda89d0",
   "metadata": {},
   "outputs": [
    {
     "ename": "TypeError",
     "evalue": "unsupported operand type(s) for +: 'set' and 'set'",
     "output_type": "error",
     "traceback": [
      "\u001b[1;31m---------------------------------------------------------------------------\u001b[0m",
      "\u001b[1;31mTypeError\u001b[0m                                 Traceback (most recent call last)",
      "\u001b[1;32m~\\AppData\\Local\\Temp/ipykernel_11384/1743780635.py\u001b[0m in \u001b[0;36m<module>\u001b[1;34m\u001b[0m\n\u001b[1;32m----> 1\u001b[1;33m \u001b[0ms1\u001b[0m \u001b[1;33m+\u001b[0m \u001b[0ms2\u001b[0m\u001b[1;33m\u001b[0m\u001b[1;33m\u001b[0m\u001b[0m\n\u001b[0m",
      "\u001b[1;31mTypeError\u001b[0m: unsupported operand type(s) for +: 'set' and 'set'"
     ]
    }
   ],
   "source": [
    "s1 + s2"
   ]
  },
  {
   "cell_type": "code",
   "execution_count": 90,
   "id": "dbfa02b6",
   "metadata": {},
   "outputs": [
    {
     "ename": "TypeError",
     "evalue": "unsupported operand type(s) for *: 'set' and 'int'",
     "output_type": "error",
     "traceback": [
      "\u001b[1;31m---------------------------------------------------------------------------\u001b[0m",
      "\u001b[1;31mTypeError\u001b[0m                                 Traceback (most recent call last)",
      "\u001b[1;32m~\\AppData\\Local\\Temp/ipykernel_11384/1114515575.py\u001b[0m in \u001b[0;36m<module>\u001b[1;34m\u001b[0m\n\u001b[1;32m----> 1\u001b[1;33m \u001b[0ms1\u001b[0m \u001b[1;33m*\u001b[0m \u001b[1;36m2\u001b[0m\u001b[1;33m\u001b[0m\u001b[1;33m\u001b[0m\u001b[0m\n\u001b[0m",
      "\u001b[1;31mTypeError\u001b[0m: unsupported operand type(s) for *: 'set' and 'int'"
     ]
    }
   ],
   "source": [
    "s1 * 2"
   ]
  },
  {
   "cell_type": "markdown",
   "id": "afea8677",
   "metadata": {},
   "source": [
    "# Home Work Solutions"
   ]
  },
  {
   "cell_type": "code",
   "execution_count": 92,
   "id": "563700f7",
   "metadata": {},
   "outputs": [
    {
     "data": {
      "text/plain": [
       "0"
      ]
     },
     "execution_count": 92,
     "metadata": {},
     "output_type": "execute_result"
    }
   ],
   "source": [
    "# H.W\n",
    "\n",
    "l5 = [1,3,45.4, True, \"Akshay\"]\n",
    "l5.index(True)\n",
    "\n",
    "# Why the output it 0 instead of 3?"
   ]
  },
  {
   "cell_type": "code",
   "execution_count": 94,
   "id": "f3c4df21",
   "metadata": {},
   "outputs": [],
   "source": [
    "# Bool -> True / False\n",
    "# True -> 1\n",
    "# False -> 0"
   ]
  },
  {
   "cell_type": "code",
   "execution_count": 95,
   "id": "848ce9a4",
   "metadata": {},
   "outputs": [
    {
     "data": {
      "text/plain": [
       "0"
      ]
     },
     "execution_count": 95,
     "metadata": {},
     "output_type": "execute_result"
    }
   ],
   "source": [
    "l5 = [1,3,45.4, True, \"Akshay\"]\n",
    "l5.index(True)\n",
    "\n",
    "l5.index(1)"
   ]
  },
  {
   "cell_type": "code",
   "execution_count": 96,
   "id": "39b4e8bc",
   "metadata": {},
   "outputs": [
    {
     "data": {
      "text/plain": [
       "3"
      ]
     },
     "execution_count": 96,
     "metadata": {},
     "output_type": "execute_result"
    }
   ],
   "source": [
    "l5 = [15,3,45.4, True, \"Akshay\"]\n",
    "l5.index(True)"
   ]
  },
  {
   "cell_type": "code",
   "execution_count": 97,
   "id": "71c6cce3",
   "metadata": {},
   "outputs": [
    {
     "data": {
      "text/plain": [
       "3"
      ]
     },
     "execution_count": 97,
     "metadata": {},
     "output_type": "execute_result"
    }
   ],
   "source": [
    "l5 = [15,3,45.4, False, \"Akshay\"]\n",
    "l5.index(False)"
   ]
  },
  {
   "cell_type": "code",
   "execution_count": 98,
   "id": "16cfbb55",
   "metadata": {},
   "outputs": [
    {
     "data": {
      "text/plain": [
       "2"
      ]
     },
     "execution_count": 98,
     "metadata": {},
     "output_type": "execute_result"
    }
   ],
   "source": [
    "l5 = [15,3,0, False, \"Akshay\"]\n",
    "l5.index(False)"
   ]
  },
  {
   "cell_type": "code",
   "execution_count": 99,
   "id": "c6c2b23c",
   "metadata": {},
   "outputs": [
    {
     "data": {
      "text/plain": [
       "3"
      ]
     },
     "execution_count": 99,
     "metadata": {},
     "output_type": "execute_result"
    }
   ],
   "source": [
    "l5 = [15,3,23.4, False, \"Akshay\",0]\n",
    "l5.index(False)"
   ]
  },
  {
   "cell_type": "code",
   "execution_count": 103,
   "id": "1d5f04c6",
   "metadata": {},
   "outputs": [],
   "source": [
    "# H.W\n",
    "\n",
    "l1 = [1,2,3,4,5]\n",
    "t1 = (6,7,8)\n",
    "\n",
    "# expected output:\n",
    "# [1,2,3,4,5,6,7,8]"
   ]
  },
  {
   "cell_type": "code",
   "execution_count": 105,
   "id": "db2a09d1",
   "metadata": {},
   "outputs": [
    {
     "data": {
      "text/plain": [
       "[1, 2, 3, 4, 5, 6, 7, 8]"
      ]
     },
     "execution_count": 105,
     "metadata": {},
     "output_type": "execute_result"
    }
   ],
   "source": [
    "l1 + list(t1)"
   ]
  },
  {
   "cell_type": "code",
   "execution_count": 107,
   "id": "dae135da",
   "metadata": {},
   "outputs": [
    {
     "data": {
      "text/plain": [
       "[1, 2, 3, 4, 5, 6, 7, 8]"
      ]
     },
     "execution_count": 107,
     "metadata": {},
     "output_type": "execute_result"
    }
   ],
   "source": [
    "list(tuple(l1) + t1)"
   ]
  },
  {
   "cell_type": "code",
   "execution_count": 108,
   "id": "7fd526a8",
   "metadata": {},
   "outputs": [],
   "source": [
    "# H.W\n",
    "l1 = [1,2,3,4,3,1,5,5]\n",
    "# Remove the duplicate element from list, and I want output as a list, \n",
    "# We want only unique elements in output list"
   ]
  },
  {
   "cell_type": "code",
   "execution_count": null,
   "id": "a20d1d6e",
   "metadata": {},
   "outputs": [],
   "source": []
  }
 ],
 "metadata": {
  "kernelspec": {
   "display_name": "Python 3 (ipykernel)",
   "language": "python",
   "name": "python3"
  },
  "language_info": {
   "codemirror_mode": {
    "name": "ipython",
    "version": 3
   },
   "file_extension": ".py",
   "mimetype": "text/x-python",
   "name": "python",
   "nbconvert_exporter": "python",
   "pygments_lexer": "ipython3",
   "version": "3.9.7"
  }
 },
 "nbformat": 4,
 "nbformat_minor": 5
}
