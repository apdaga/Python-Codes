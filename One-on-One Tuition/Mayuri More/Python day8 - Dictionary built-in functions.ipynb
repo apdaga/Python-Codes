{
 "cells": [
  {
   "cell_type": "code",
   "execution_count": 1,
   "id": "2221a902",
   "metadata": {},
   "outputs": [],
   "source": [
    "d1 = {1:\"one\", 2:\"two\"}"
   ]
  },
  {
   "cell_type": "code",
   "execution_count": 3,
   "id": "f7227ace",
   "metadata": {},
   "outputs": [],
   "source": [
    "d2 = {1:123, 2:234, 's':\"str\", \"se\":{1,2,3}, \"l\":[6,7,8], \"t\":(8,2,4), \"d\":{4:23,9:34}}"
   ]
  },
  {
   "cell_type": "code",
   "execution_count": 4,
   "id": "e2f8641e",
   "metadata": {},
   "outputs": [
    {
     "data": {
      "text/plain": [
       "{1: 'one', 2: 'two'}"
      ]
     },
     "execution_count": 4,
     "metadata": {},
     "output_type": "execute_result"
    }
   ],
   "source": [
    "d1"
   ]
  },
  {
   "cell_type": "code",
   "execution_count": 5,
   "id": "07ca43f4",
   "metadata": {},
   "outputs": [
    {
     "data": {
      "text/plain": [
       "{1: 123,\n",
       " 2: 234,\n",
       " 's': 'str',\n",
       " 'se': {1, 2, 3},\n",
       " 'l': [6, 7, 8],\n",
       " 't': (8, 2, 4),\n",
       " 'd': {4: 23, 9: 34}}"
      ]
     },
     "execution_count": 5,
     "metadata": {},
     "output_type": "execute_result"
    }
   ],
   "source": [
    "d2"
   ]
  },
  {
   "cell_type": "code",
   "execution_count": 6,
   "id": "dc11aedf",
   "metadata": {},
   "outputs": [
    {
     "ename": "TypeError",
     "evalue": "unsupported operand type(s) for +: 'dict' and 'dict'",
     "output_type": "error",
     "traceback": [
      "\u001b[1;31m---------------------------------------------------------------------------\u001b[0m",
      "\u001b[1;31mTypeError\u001b[0m                                 Traceback (most recent call last)",
      "\u001b[1;32m~\\AppData\\Local\\Temp/ipykernel_7652/1575791415.py\u001b[0m in \u001b[0;36m<module>\u001b[1;34m\u001b[0m\n\u001b[1;32m----> 1\u001b[1;33m \u001b[0md1\u001b[0m \u001b[1;33m+\u001b[0m \u001b[0md2\u001b[0m\u001b[1;33m\u001b[0m\u001b[1;33m\u001b[0m\u001b[0m\n\u001b[0m",
      "\u001b[1;31mTypeError\u001b[0m: unsupported operand type(s) for +: 'dict' and 'dict'"
     ]
    }
   ],
   "source": [
    "d1 + d2"
   ]
  },
  {
   "cell_type": "code",
   "execution_count": 7,
   "id": "2dcf4710",
   "metadata": {},
   "outputs": [],
   "source": [
    "d1.update(d2)"
   ]
  },
  {
   "cell_type": "code",
   "execution_count": 8,
   "id": "c2f8c255",
   "metadata": {},
   "outputs": [
    {
     "data": {
      "text/plain": [
       "{1: 123,\n",
       " 2: 234,\n",
       " 's': 'str',\n",
       " 'se': {1, 2, 3},\n",
       " 'l': [6, 7, 8],\n",
       " 't': (8, 2, 4),\n",
       " 'd': {4: 23, 9: 34}}"
      ]
     },
     "execution_count": 8,
     "metadata": {},
     "output_type": "execute_result"
    }
   ],
   "source": [
    "d1"
   ]
  },
  {
   "cell_type": "markdown",
   "id": "2709902a",
   "metadata": {},
   "source": [
    "# In PLACE OPERAION"
   ]
  },
  {
   "cell_type": "code",
   "execution_count": 9,
   "id": "f490d8f4",
   "metadata": {},
   "outputs": [
    {
     "data": {
      "text/plain": [
       "[1, 2, 3, 4, 5, 6]"
      ]
     },
     "execution_count": 9,
     "metadata": {},
     "output_type": "execute_result"
    }
   ],
   "source": [
    "l = [1,2,3,4,5,6]\n",
    "l"
   ]
  },
  {
   "cell_type": "code",
   "execution_count": 10,
   "id": "e7dbe735",
   "metadata": {},
   "outputs": [
    {
     "data": {
      "text/plain": [
       "[6, 5, 4, 3, 2, 1]"
      ]
     },
     "execution_count": 10,
     "metadata": {},
     "output_type": "execute_result"
    }
   ],
   "source": [
    "l[::-1]"
   ]
  },
  {
   "cell_type": "code",
   "execution_count": 11,
   "id": "1fba946e",
   "metadata": {},
   "outputs": [
    {
     "data": {
      "text/plain": [
       "[1, 2, 3, 4, 5, 6]"
      ]
     },
     "execution_count": 11,
     "metadata": {},
     "output_type": "execute_result"
    }
   ],
   "source": [
    "l"
   ]
  },
  {
   "cell_type": "code",
   "execution_count": 12,
   "id": "67eb38af",
   "metadata": {},
   "outputs": [],
   "source": [
    "l = l[::-1]"
   ]
  },
  {
   "cell_type": "code",
   "execution_count": 13,
   "id": "204f72f6",
   "metadata": {
    "scrolled": true
   },
   "outputs": [
    {
     "data": {
      "text/plain": [
       "[6, 5, 4, 3, 2, 1]"
      ]
     },
     "execution_count": 13,
     "metadata": {},
     "output_type": "execute_result"
    }
   ],
   "source": [
    "l"
   ]
  },
  {
   "cell_type": "code",
   "execution_count": 15,
   "id": "ed12dc24",
   "metadata": {},
   "outputs": [],
   "source": [
    "l.reverse()"
   ]
  },
  {
   "cell_type": "code",
   "execution_count": 16,
   "id": "6162a37a",
   "metadata": {},
   "outputs": [
    {
     "data": {
      "text/plain": [
       "[1, 2, 3, 4, 5, 6]"
      ]
     },
     "execution_count": 16,
     "metadata": {},
     "output_type": "execute_result"
    }
   ],
   "source": [
    "l"
   ]
  },
  {
   "cell_type": "code",
   "execution_count": 17,
   "id": "85cf1a9d",
   "metadata": {},
   "outputs": [
    {
     "data": {
      "text/plain": [
       "{1: 123,\n",
       " 2: 234,\n",
       " 's': 'str',\n",
       " 'se': {1, 2, 3},\n",
       " 'l': [6, 7, 8],\n",
       " 't': (8, 2, 4),\n",
       " 'd': {4: 23, 9: 34}}"
      ]
     },
     "execution_count": 17,
     "metadata": {},
     "output_type": "execute_result"
    }
   ],
   "source": [
    "d2"
   ]
  },
  {
   "cell_type": "code",
   "execution_count": 18,
   "id": "94a42c1b",
   "metadata": {},
   "outputs": [
    {
     "data": {
      "text/plain": [
       "dict_keys([1, 2, 's', 'se', 'l', 't', 'd'])"
      ]
     },
     "execution_count": 18,
     "metadata": {},
     "output_type": "execute_result"
    }
   ],
   "source": [
    "d2.keys()"
   ]
  },
  {
   "cell_type": "code",
   "execution_count": 19,
   "id": "961fe8b8",
   "metadata": {},
   "outputs": [
    {
     "data": {
      "text/plain": [
       "dict_keys"
      ]
     },
     "execution_count": 19,
     "metadata": {},
     "output_type": "execute_result"
    }
   ],
   "source": [
    "type(d2.keys())"
   ]
  },
  {
   "cell_type": "code",
   "execution_count": 20,
   "id": "268d117f",
   "metadata": {},
   "outputs": [
    {
     "ename": "TypeError",
     "evalue": "'dict_keys' object is not subscriptable",
     "output_type": "error",
     "traceback": [
      "\u001b[1;31m---------------------------------------------------------------------------\u001b[0m",
      "\u001b[1;31mTypeError\u001b[0m                                 Traceback (most recent call last)",
      "\u001b[1;32m~\\AppData\\Local\\Temp/ipykernel_7652/4227948768.py\u001b[0m in \u001b[0;36m<module>\u001b[1;34m\u001b[0m\n\u001b[1;32m----> 1\u001b[1;33m \u001b[0md2\u001b[0m\u001b[1;33m.\u001b[0m\u001b[0mkeys\u001b[0m\u001b[1;33m(\u001b[0m\u001b[1;33m)\u001b[0m\u001b[1;33m[\u001b[0m\u001b[1;36m2\u001b[0m\u001b[1;33m]\u001b[0m\u001b[1;33m\u001b[0m\u001b[1;33m\u001b[0m\u001b[0m\n\u001b[0m",
      "\u001b[1;31mTypeError\u001b[0m: 'dict_keys' object is not subscriptable"
     ]
    }
   ],
   "source": [
    "d2.keys()[2]"
   ]
  },
  {
   "cell_type": "code",
   "execution_count": 22,
   "id": "44504294",
   "metadata": {},
   "outputs": [
    {
     "data": {
      "text/plain": [
       "[1, 2, 's', 'se', 'l', 't', 'd']"
      ]
     },
     "execution_count": 22,
     "metadata": {},
     "output_type": "execute_result"
    }
   ],
   "source": [
    "list(d2.keys())"
   ]
  },
  {
   "cell_type": "code",
   "execution_count": 23,
   "id": "a3defc24",
   "metadata": {},
   "outputs": [
    {
     "data": {
      "text/plain": [
       "'s'"
      ]
     },
     "execution_count": 23,
     "metadata": {},
     "output_type": "execute_result"
    }
   ],
   "source": [
    "list(d2.keys())[2]"
   ]
  },
  {
   "cell_type": "code",
   "execution_count": 24,
   "id": "e9acf7a1",
   "metadata": {},
   "outputs": [
    {
     "data": {
      "text/plain": [
       "dict_values([123, 234, 'str', {1, 2, 3}, [6, 7, 8], (8, 2, 4), {4: 23, 9: 34}])"
      ]
     },
     "execution_count": 24,
     "metadata": {},
     "output_type": "execute_result"
    }
   ],
   "source": [
    "d2.values()"
   ]
  },
  {
   "cell_type": "code",
   "execution_count": 25,
   "id": "887c0cb0",
   "metadata": {},
   "outputs": [
    {
     "data": {
      "text/plain": [
       "dict_values"
      ]
     },
     "execution_count": 25,
     "metadata": {},
     "output_type": "execute_result"
    }
   ],
   "source": [
    "type(d2.values())"
   ]
  },
  {
   "cell_type": "code",
   "execution_count": 26,
   "id": "07f85664",
   "metadata": {},
   "outputs": [
    {
     "ename": "TypeError",
     "evalue": "'dict_values' object is not subscriptable",
     "output_type": "error",
     "traceback": [
      "\u001b[1;31m---------------------------------------------------------------------------\u001b[0m",
      "\u001b[1;31mTypeError\u001b[0m                                 Traceback (most recent call last)",
      "\u001b[1;32m~\\AppData\\Local\\Temp/ipykernel_7652/2944247198.py\u001b[0m in \u001b[0;36m<module>\u001b[1;34m\u001b[0m\n\u001b[1;32m----> 1\u001b[1;33m \u001b[0md2\u001b[0m\u001b[1;33m.\u001b[0m\u001b[0mvalues\u001b[0m\u001b[1;33m(\u001b[0m\u001b[1;33m)\u001b[0m\u001b[1;33m[\u001b[0m\u001b[1;36m2\u001b[0m\u001b[1;33m]\u001b[0m\u001b[1;33m\u001b[0m\u001b[1;33m\u001b[0m\u001b[0m\n\u001b[0m",
      "\u001b[1;31mTypeError\u001b[0m: 'dict_values' object is not subscriptable"
     ]
    }
   ],
   "source": [
    "d2.values()[2]"
   ]
  },
  {
   "cell_type": "code",
   "execution_count": 27,
   "id": "8b664f6d",
   "metadata": {},
   "outputs": [
    {
     "data": {
      "text/plain": [
       "'str'"
      ]
     },
     "execution_count": 27,
     "metadata": {},
     "output_type": "execute_result"
    }
   ],
   "source": [
    "list(d2.values())[2]"
   ]
  },
  {
   "cell_type": "code",
   "execution_count": 28,
   "id": "d8626370",
   "metadata": {},
   "outputs": [
    {
     "data": {
      "text/plain": [
       "dict_items([(1, 123), (2, 234), ('s', 'str'), ('se', {1, 2, 3}), ('l', [6, 7, 8]), ('t', (8, 2, 4)), ('d', {4: 23, 9: 34})])"
      ]
     },
     "execution_count": 28,
     "metadata": {},
     "output_type": "execute_result"
    }
   ],
   "source": [
    "d2.items()"
   ]
  },
  {
   "cell_type": "code",
   "execution_count": 29,
   "id": "257ccb6c",
   "metadata": {},
   "outputs": [
    {
     "data": {
      "text/plain": [
       "dict_items"
      ]
     },
     "execution_count": 29,
     "metadata": {},
     "output_type": "execute_result"
    }
   ],
   "source": [
    "type(d2.items())"
   ]
  },
  {
   "cell_type": "code",
   "execution_count": 30,
   "id": "514844cf",
   "metadata": {},
   "outputs": [
    {
     "data": {
      "text/plain": [
       "('se', {1, 2, 3})"
      ]
     },
     "execution_count": 30,
     "metadata": {},
     "output_type": "execute_result"
    }
   ],
   "source": [
    "list(d2.items())[3]"
   ]
  },
  {
   "cell_type": "code",
   "execution_count": 31,
   "id": "c8a8f4d2",
   "metadata": {},
   "outputs": [
    {
     "data": {
      "text/plain": [
       "{1: 123,\n",
       " 2: 234,\n",
       " 's': 'str',\n",
       " 'se': {1, 2, 3},\n",
       " 'l': [6, 7, 8],\n",
       " 't': (8, 2, 4),\n",
       " 'd': {4: 23, 9: 34}}"
      ]
     },
     "execution_count": 31,
     "metadata": {},
     "output_type": "execute_result"
    }
   ],
   "source": [
    "d2"
   ]
  },
  {
   "cell_type": "code",
   "execution_count": 32,
   "id": "888805c6",
   "metadata": {},
   "outputs": [
    {
     "data": {
      "text/plain": [
       "[6, 7, 8]"
      ]
     },
     "execution_count": 32,
     "metadata": {},
     "output_type": "execute_result"
    }
   ],
   "source": [
    "d2['l']"
   ]
  },
  {
   "cell_type": "code",
   "execution_count": 33,
   "id": "ce4c074c",
   "metadata": {},
   "outputs": [
    {
     "data": {
      "text/plain": [
       "[6, 7, 8]"
      ]
     },
     "execution_count": 33,
     "metadata": {},
     "output_type": "execute_result"
    }
   ],
   "source": [
    "d2.get('l')"
   ]
  },
  {
   "cell_type": "code",
   "execution_count": 34,
   "id": "ec0adf6e",
   "metadata": {},
   "outputs": [],
   "source": [
    "# Create a dict with different keys but with default given value"
   ]
  },
  {
   "cell_type": "code",
   "execution_count": 35,
   "id": "a540c54c",
   "metadata": {},
   "outputs": [],
   "source": [
    "# keys will be given in a list\n",
    "# and default value is also given"
   ]
  },
  {
   "cell_type": "code",
   "execution_count": 37,
   "id": "736655ed",
   "metadata": {},
   "outputs": [],
   "source": [
    "l = ['a','b','c','d']   # keys\n",
    "v = 0                   # default value"
   ]
  },
  {
   "cell_type": "code",
   "execution_count": 38,
   "id": "2008c667",
   "metadata": {},
   "outputs": [],
   "source": [
    "d4 = dict.fromkeys(l,v)"
   ]
  },
  {
   "cell_type": "code",
   "execution_count": 39,
   "id": "033dbb9e",
   "metadata": {},
   "outputs": [
    {
     "data": {
      "text/plain": [
       "{'a': 0, 'b': 0, 'c': 0, 'd': 0}"
      ]
     },
     "execution_count": 39,
     "metadata": {},
     "output_type": "execute_result"
    }
   ],
   "source": [
    "d4"
   ]
  },
  {
   "cell_type": "code",
   "execution_count": 40,
   "id": "af5f941e",
   "metadata": {},
   "outputs": [],
   "source": [
    "l = ['a','b','c','d']   # keys\n",
    "v = [1,2,3,4]           # default value"
   ]
  },
  {
   "cell_type": "code",
   "execution_count": 41,
   "id": "67241d31",
   "metadata": {},
   "outputs": [],
   "source": [
    "d5 = dict.fromkeys(l,v)"
   ]
  },
  {
   "cell_type": "code",
   "execution_count": 42,
   "id": "3f124cbd",
   "metadata": {},
   "outputs": [
    {
     "data": {
      "text/plain": [
       "{'a': [1, 2, 3, 4], 'b': [1, 2, 3, 4], 'c': [1, 2, 3, 4], 'd': [1, 2, 3, 4]}"
      ]
     },
     "execution_count": 42,
     "metadata": {},
     "output_type": "execute_result"
    }
   ],
   "source": [
    "d5"
   ]
  },
  {
   "cell_type": "code",
   "execution_count": 45,
   "id": "8c2a26de",
   "metadata": {},
   "outputs": [
    {
     "data": {
      "text/plain": [
       "{'a': 1, 'b': 2, 'c': 3, 'd': 4}"
      ]
     },
     "execution_count": 45,
     "metadata": {},
     "output_type": "execute_result"
    }
   ],
   "source": [
    "# H.W.\n",
    "k = ['a','b','c','d']   # keys\n",
    "v = [1,2,3,4]           # default value\n",
    "\n",
    "# Expected output\n",
    "{'a': 1, 'b': 2, 'c': 3, 'd': 4}"
   ]
  },
  {
   "cell_type": "code",
   "execution_count": 46,
   "id": "857fadb0",
   "metadata": {},
   "outputs": [],
   "source": [
    "# zip"
   ]
  },
  {
   "cell_type": "code",
   "execution_count": 48,
   "id": "63171478",
   "metadata": {},
   "outputs": [
    {
     "data": {
      "text/plain": [
       "<zip at 0x228f5b67e80>"
      ]
     },
     "execution_count": 48,
     "metadata": {},
     "output_type": "execute_result"
    }
   ],
   "source": [
    "zip(k,v)"
   ]
  },
  {
   "cell_type": "code",
   "execution_count": 49,
   "id": "c297036a",
   "metadata": {},
   "outputs": [
    {
     "data": {
      "text/plain": [
       "{'a': 1, 'b': 2, 'c': 3, 'd': 4}"
      ]
     },
     "execution_count": 49,
     "metadata": {},
     "output_type": "execute_result"
    }
   ],
   "source": [
    "dict(zip(k,v))"
   ]
  },
  {
   "cell_type": "code",
   "execution_count": 51,
   "id": "abdafb8b",
   "metadata": {},
   "outputs": [
    {
     "data": {
      "text/plain": [
       "{1: 123,\n",
       " 2: 234,\n",
       " 's': 'str',\n",
       " 'se': {1, 2, 3},\n",
       " 'l': [6, 7, 8],\n",
       " 't': (8, 2, 4),\n",
       " 'd': {4: 23, 9: 34}}"
      ]
     },
     "execution_count": 51,
     "metadata": {},
     "output_type": "execute_result"
    }
   ],
   "source": [
    "d2"
   ]
  },
  {
   "cell_type": "code",
   "execution_count": 52,
   "id": "280ccfc4",
   "metadata": {},
   "outputs": [
    {
     "name": "stdout",
     "output_type": "stream",
     "text": [
      "1 123\n",
      "2 234\n",
      "s str\n",
      "se {1, 2, 3}\n",
      "l [6, 7, 8]\n",
      "t (8, 2, 4)\n",
      "d {4: 23, 9: 34}\n"
     ]
    }
   ],
   "source": [
    "for k,v in d2.items():\n",
    "    print(k, v)"
   ]
  },
  {
   "cell_type": "code",
   "execution_count": 53,
   "id": "3cc110e5",
   "metadata": {},
   "outputs": [
    {
     "name": "stdout",
     "output_type": "stream",
     "text": [
      "1\n",
      "2\n",
      "s\n",
      "se\n",
      "l\n",
      "t\n",
      "d\n"
     ]
    }
   ],
   "source": [
    "for k,v in d2.items():\n",
    "    print(k)"
   ]
  },
  {
   "cell_type": "code",
   "execution_count": 54,
   "id": "0614a8f5",
   "metadata": {},
   "outputs": [
    {
     "name": "stdout",
     "output_type": "stream",
     "text": [
      "123\n",
      "234\n",
      "str\n",
      "{1, 2, 3}\n",
      "[6, 7, 8]\n",
      "(8, 2, 4)\n",
      "{4: 23, 9: 34}\n"
     ]
    }
   ],
   "source": [
    "for k,v in d2.items():\n",
    "    print(v)"
   ]
  },
  {
   "cell_type": "code",
   "execution_count": 56,
   "id": "de193902",
   "metadata": {},
   "outputs": [
    {
     "name": "stdout",
     "output_type": "stream",
     "text": [
      "1\n",
      "2\n",
      "s\n",
      "se\n",
      "l\n",
      "t\n",
      "d\n"
     ]
    }
   ],
   "source": [
    "for k in d2.keys():\n",
    "    print(k)"
   ]
  },
  {
   "cell_type": "code",
   "execution_count": 57,
   "id": "25bc4967",
   "metadata": {},
   "outputs": [
    {
     "name": "stdout",
     "output_type": "stream",
     "text": [
      "123\n",
      "234\n",
      "str\n",
      "{1, 2, 3}\n",
      "[6, 7, 8]\n",
      "(8, 2, 4)\n",
      "{4: 23, 9: 34}\n"
     ]
    }
   ],
   "source": [
    "for v in d2.values():\n",
    "    print(v)"
   ]
  },
  {
   "cell_type": "code",
   "execution_count": 58,
   "id": "44fdf216",
   "metadata": {},
   "outputs": [
    {
     "data": {
      "text/plain": [
       "{1: 123,\n",
       " 2: 234,\n",
       " 's': 'str',\n",
       " 'se': {1, 2, 3},\n",
       " 'l': [6, 7, 8],\n",
       " 't': (8, 2, 4),\n",
       " 'd': {4: 23, 9: 34}}"
      ]
     },
     "execution_count": 58,
     "metadata": {},
     "output_type": "execute_result"
    }
   ],
   "source": [
    "d2"
   ]
  },
  {
   "cell_type": "code",
   "execution_count": 59,
   "id": "ab89a428",
   "metadata": {},
   "outputs": [
    {
     "data": {
      "text/plain": [
       "{4: 23, 9: 34}"
      ]
     },
     "execution_count": 59,
     "metadata": {},
     "output_type": "execute_result"
    }
   ],
   "source": [
    "d2.pop('d')"
   ]
  },
  {
   "cell_type": "code",
   "execution_count": 60,
   "id": "0c5c8a2e",
   "metadata": {},
   "outputs": [
    {
     "data": {
      "text/plain": [
       "{1: 123, 2: 234, 's': 'str', 'se': {1, 2, 3}, 'l': [6, 7, 8], 't': (8, 2, 4)}"
      ]
     },
     "execution_count": 60,
     "metadata": {},
     "output_type": "execute_result"
    }
   ],
   "source": [
    "d2"
   ]
  },
  {
   "cell_type": "code",
   "execution_count": 61,
   "id": "8b66cf65",
   "metadata": {},
   "outputs": [
    {
     "ename": "TypeError",
     "evalue": "unhashable type: 'list'",
     "output_type": "error",
     "traceback": [
      "\u001b[1;31m---------------------------------------------------------------------------\u001b[0m",
      "\u001b[1;31mTypeError\u001b[0m                                 Traceback (most recent call last)",
      "\u001b[1;32m~\\AppData\\Local\\Temp/ipykernel_7652/3277689768.py\u001b[0m in \u001b[0;36m<module>\u001b[1;34m\u001b[0m\n\u001b[1;32m----> 1\u001b[1;33m \u001b[0md2\u001b[0m\u001b[1;33m.\u001b[0m\u001b[0mpop\u001b[0m\u001b[1;33m(\u001b[0m\u001b[1;33m[\u001b[0m\u001b[1;36m6\u001b[0m\u001b[1;33m,\u001b[0m\u001b[1;36m7\u001b[0m\u001b[1;33m,\u001b[0m\u001b[1;36m8\u001b[0m\u001b[1;33m]\u001b[0m\u001b[1;33m)\u001b[0m\u001b[1;33m\u001b[0m\u001b[1;33m\u001b[0m\u001b[0m\n\u001b[0m",
      "\u001b[1;31mTypeError\u001b[0m: unhashable type: 'list'"
     ]
    }
   ],
   "source": [
    "d2.pop([6,7,8])"
   ]
  },
  {
   "cell_type": "code",
   "execution_count": 62,
   "id": "8e8edb2a",
   "metadata": {},
   "outputs": [
    {
     "data": {
      "text/plain": [
       "('t', (8, 2, 4))"
      ]
     },
     "execution_count": 62,
     "metadata": {},
     "output_type": "execute_result"
    }
   ],
   "source": [
    "d2.popitem()"
   ]
  },
  {
   "cell_type": "code",
   "execution_count": 63,
   "id": "eaccbcfd",
   "metadata": {},
   "outputs": [
    {
     "data": {
      "text/plain": [
       "{1: 123, 2: 234, 's': 'str', 'se': {1, 2, 3}, 'l': [6, 7, 8]}"
      ]
     },
     "execution_count": 63,
     "metadata": {},
     "output_type": "execute_result"
    }
   ],
   "source": [
    "d2"
   ]
  },
  {
   "cell_type": "code",
   "execution_count": 64,
   "id": "fc3097bf",
   "metadata": {},
   "outputs": [
    {
     "ename": "TypeError",
     "evalue": "dict.popitem() takes no arguments (1 given)",
     "output_type": "error",
     "traceback": [
      "\u001b[1;31m---------------------------------------------------------------------------\u001b[0m",
      "\u001b[1;31mTypeError\u001b[0m                                 Traceback (most recent call last)",
      "\u001b[1;32m~\\AppData\\Local\\Temp/ipykernel_7652/95037636.py\u001b[0m in \u001b[0;36m<module>\u001b[1;34m\u001b[0m\n\u001b[1;32m----> 1\u001b[1;33m \u001b[0md2\u001b[0m\u001b[1;33m.\u001b[0m\u001b[0mpopitem\u001b[0m\u001b[1;33m(\u001b[0m\u001b[1;34m'se'\u001b[0m\u001b[1;33m)\u001b[0m\u001b[1;33m\u001b[0m\u001b[1;33m\u001b[0m\u001b[0m\n\u001b[0m",
      "\u001b[1;31mTypeError\u001b[0m: dict.popitem() takes no arguments (1 given)"
     ]
    }
   ],
   "source": [
    "d2.popitem('se')"
   ]
  },
  {
   "cell_type": "code",
   "execution_count": 65,
   "id": "08c13957",
   "metadata": {},
   "outputs": [
    {
     "data": {
      "text/plain": [
       "{1: 123, 2: 234, 's': 'str', 'se': {1, 2, 3}, 'l': [6, 7, 8]}"
      ]
     },
     "execution_count": 65,
     "metadata": {},
     "output_type": "execute_result"
    }
   ],
   "source": [
    "d2"
   ]
  },
  {
   "cell_type": "code",
   "execution_count": 66,
   "id": "da907876",
   "metadata": {},
   "outputs": [],
   "source": [
    "d2.setdefault(5)"
   ]
  },
  {
   "cell_type": "code",
   "execution_count": 67,
   "id": "665d6cc1",
   "metadata": {},
   "outputs": [
    {
     "data": {
      "text/plain": [
       "{1: 123, 2: 234, 's': 'str', 'se': {1, 2, 3}, 'l': [6, 7, 8], 5: None}"
      ]
     },
     "execution_count": 67,
     "metadata": {},
     "output_type": "execute_result"
    }
   ],
   "source": [
    "d2"
   ]
  },
  {
   "cell_type": "code",
   "execution_count": 70,
   "id": "42997901",
   "metadata": {},
   "outputs": [
    {
     "data": {
      "text/plain": [
       "[6, 7, 8]"
      ]
     },
     "execution_count": 70,
     "metadata": {},
     "output_type": "execute_result"
    }
   ],
   "source": [
    "d2.setdefault('l')"
   ]
  },
  {
   "cell_type": "code",
   "execution_count": 71,
   "id": "c6ec701e",
   "metadata": {},
   "outputs": [],
   "source": [
    "d5 = {1: 123,\n",
    " 2: 234,\n",
    " 's': 'str',\n",
    " 'se': {1, 2, 3},\n",
    " 'l': [6, 7, 8],\n",
    " 't': (8, 2, 4),\n",
    " 'd': {4: 23, 9: 34}}"
   ]
  },
  {
   "cell_type": "code",
   "execution_count": 72,
   "id": "724c3ab2",
   "metadata": {},
   "outputs": [
    {
     "data": {
      "text/plain": [
       "{1: 123,\n",
       " 2: 234,\n",
       " 's': 'str',\n",
       " 'se': {1, 2, 3},\n",
       " 'l': [6, 7, 8],\n",
       " 't': (8, 2, 4),\n",
       " 'd': {4: 23, 9: 34}}"
      ]
     },
     "execution_count": 72,
     "metadata": {},
     "output_type": "execute_result"
    }
   ],
   "source": [
    "d5"
   ]
  },
  {
   "cell_type": "code",
   "execution_count": 73,
   "id": "9825b49c",
   "metadata": {},
   "outputs": [
    {
     "data": {
      "text/plain": [
       "[6, 7, 8]"
      ]
     },
     "execution_count": 73,
     "metadata": {},
     "output_type": "execute_result"
    }
   ],
   "source": [
    "d5.setdefault('l')"
   ]
  },
  {
   "cell_type": "code",
   "execution_count": 74,
   "id": "d8a82295",
   "metadata": {},
   "outputs": [
    {
     "data": {
      "text/plain": [
       "{1: 123,\n",
       " 2: 234,\n",
       " 's': 'str',\n",
       " 'se': {1, 2, 3},\n",
       " 'l': [6, 7, 8],\n",
       " 't': (8, 2, 4),\n",
       " 'd': {4: 23, 9: 34}}"
      ]
     },
     "execution_count": 74,
     "metadata": {},
     "output_type": "execute_result"
    }
   ],
   "source": [
    "d5"
   ]
  },
  {
   "cell_type": "code",
   "execution_count": 75,
   "id": "b7f2df80",
   "metadata": {},
   "outputs": [],
   "source": [
    "d5.setdefault('l1')"
   ]
  },
  {
   "cell_type": "code",
   "execution_count": 76,
   "id": "5e754846",
   "metadata": {},
   "outputs": [
    {
     "data": {
      "text/plain": [
       "{1: 123,\n",
       " 2: 234,\n",
       " 's': 'str',\n",
       " 'se': {1, 2, 3},\n",
       " 'l': [6, 7, 8],\n",
       " 't': (8, 2, 4),\n",
       " 'd': {4: 23, 9: 34},\n",
       " 'l1': None}"
      ]
     },
     "execution_count": 76,
     "metadata": {},
     "output_type": "execute_result"
    }
   ],
   "source": [
    "d5"
   ]
  },
  {
   "cell_type": "code",
   "execution_count": 79,
   "id": "79fd5753",
   "metadata": {},
   "outputs": [
    {
     "data": {
      "text/plain": [
       "67"
      ]
     },
     "execution_count": 79,
     "metadata": {},
     "output_type": "execute_result"
    }
   ],
   "source": [
    "d5.setdefault('l2',67)"
   ]
  },
  {
   "cell_type": "code",
   "execution_count": 80,
   "id": "ff2e0cd9",
   "metadata": {},
   "outputs": [
    {
     "data": {
      "text/plain": [
       "{1: 123,\n",
       " 2: 234,\n",
       " 's': 'str',\n",
       " 'se': {1, 2, 3},\n",
       " 'l': [6, 7, 8],\n",
       " 't': (8, 2, 4),\n",
       " 'd': {4: 23, 9: 34},\n",
       " 'l1': None,\n",
       " 'l2': 67}"
      ]
     },
     "execution_count": 80,
     "metadata": {},
     "output_type": "execute_result"
    }
   ],
   "source": [
    "d5"
   ]
  },
  {
   "cell_type": "code",
   "execution_count": 81,
   "id": "0a237842",
   "metadata": {},
   "outputs": [],
   "source": [
    "d5['l1'] = 'Mayuri'"
   ]
  },
  {
   "cell_type": "code",
   "execution_count": 82,
   "id": "d521a716",
   "metadata": {},
   "outputs": [
    {
     "data": {
      "text/plain": [
       "{1: 123,\n",
       " 2: 234,\n",
       " 's': 'str',\n",
       " 'se': {1, 2, 3},\n",
       " 'l': [6, 7, 8],\n",
       " 't': (8, 2, 4),\n",
       " 'd': {4: 23, 9: 34},\n",
       " 'l1': 'Mayuri',\n",
       " 'l2': 67}"
      ]
     },
     "execution_count": 82,
     "metadata": {},
     "output_type": "execute_result"
    }
   ],
   "source": [
    "d5"
   ]
  },
  {
   "cell_type": "code",
   "execution_count": null,
   "id": "abf449fc",
   "metadata": {},
   "outputs": [],
   "source": []
  }
 ],
 "metadata": {
  "kernelspec": {
   "display_name": "Python 3 (ipykernel)",
   "language": "python",
   "name": "python3"
  },
  "language_info": {
   "codemirror_mode": {
    "name": "ipython",
    "version": 3
   },
   "file_extension": ".py",
   "mimetype": "text/x-python",
   "name": "python",
   "nbconvert_exporter": "python",
   "pygments_lexer": "ipython3",
   "version": "3.9.7"
  }
 },
 "nbformat": 4,
 "nbformat_minor": 5
}
