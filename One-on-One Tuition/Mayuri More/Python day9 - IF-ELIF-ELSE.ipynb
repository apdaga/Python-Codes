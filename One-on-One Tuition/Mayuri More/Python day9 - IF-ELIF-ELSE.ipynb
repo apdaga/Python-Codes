{
 "cells": [
  {
   "cell_type": "markdown",
   "id": "96252c6c",
   "metadata": {},
   "source": [
    "# if - else"
   ]
  },
  {
   "cell_type": "code",
   "execution_count": 1,
   "id": "7a355189",
   "metadata": {},
   "outputs": [
    {
     "data": {
      "text/plain": [
       "True"
      ]
     },
     "execution_count": 1,
     "metadata": {},
     "output_type": "execute_result"
    }
   ],
   "source": [
    "True"
   ]
  },
  {
   "cell_type": "code",
   "execution_count": 2,
   "id": "d187950f",
   "metadata": {},
   "outputs": [
    {
     "data": {
      "text/plain": [
       "False"
      ]
     },
     "execution_count": 2,
     "metadata": {},
     "output_type": "execute_result"
    }
   ],
   "source": [
    "False"
   ]
  },
  {
   "cell_type": "code",
   "execution_count": 3,
   "id": "edb6b788",
   "metadata": {},
   "outputs": [],
   "source": [
    "a = 5"
   ]
  },
  {
   "cell_type": "code",
   "execution_count": 4,
   "id": "dca793f5",
   "metadata": {},
   "outputs": [
    {
     "data": {
      "text/plain": [
       "5"
      ]
     },
     "execution_count": 4,
     "metadata": {},
     "output_type": "execute_result"
    }
   ],
   "source": [
    "a"
   ]
  },
  {
   "cell_type": "code",
   "execution_count": 5,
   "id": "e7295dc8",
   "metadata": {},
   "outputs": [],
   "source": [
    "b = 10"
   ]
  },
  {
   "cell_type": "code",
   "execution_count": 6,
   "id": "e6d006e4",
   "metadata": {},
   "outputs": [
    {
     "data": {
      "text/plain": [
       "10"
      ]
     },
     "execution_count": 6,
     "metadata": {},
     "output_type": "execute_result"
    }
   ],
   "source": [
    "b"
   ]
  },
  {
   "cell_type": "code",
   "execution_count": 7,
   "id": "d9f5a840",
   "metadata": {},
   "outputs": [
    {
     "data": {
      "text/plain": [
       "False"
      ]
     },
     "execution_count": 7,
     "metadata": {},
     "output_type": "execute_result"
    }
   ],
   "source": [
    "a == b"
   ]
  },
  {
   "cell_type": "code",
   "execution_count": 8,
   "id": "bac57b54",
   "metadata": {},
   "outputs": [
    {
     "data": {
      "text/plain": [
       "False"
      ]
     },
     "execution_count": 8,
     "metadata": {},
     "output_type": "execute_result"
    }
   ],
   "source": [
    "a >= b"
   ]
  },
  {
   "cell_type": "code",
   "execution_count": 9,
   "id": "184262a5",
   "metadata": {},
   "outputs": [
    {
     "data": {
      "text/plain": [
       "True"
      ]
     },
     "execution_count": 9,
     "metadata": {},
     "output_type": "execute_result"
    }
   ],
   "source": [
    "a <= b"
   ]
  },
  {
   "cell_type": "code",
   "execution_count": 10,
   "id": "757dc931",
   "metadata": {},
   "outputs": [
    {
     "data": {
      "text/plain": [
       "False"
      ]
     },
     "execution_count": 10,
     "metadata": {},
     "output_type": "execute_result"
    }
   ],
   "source": [
    "a>b"
   ]
  },
  {
   "cell_type": "code",
   "execution_count": 11,
   "id": "f4c184b0",
   "metadata": {},
   "outputs": [
    {
     "data": {
      "text/plain": [
       "True"
      ]
     },
     "execution_count": 11,
     "metadata": {},
     "output_type": "execute_result"
    }
   ],
   "source": [
    "a<b"
   ]
  },
  {
   "cell_type": "code",
   "execution_count": 12,
   "id": "f954f21d",
   "metadata": {},
   "outputs": [
    {
     "name": "stdout",
     "output_type": "stream",
     "text": [
      "5\n",
      "10\n"
     ]
    }
   ],
   "source": [
    "print(a)\n",
    "print(b)\n",
    "\n",
    "# Q. if a>b then print \"a is greater than b\" \n",
    "# othewise print \"a is less than b\""
   ]
  },
  {
   "cell_type": "code",
   "execution_count": 14,
   "id": "5522cb2d",
   "metadata": {},
   "outputs": [
    {
     "name": "stdout",
     "output_type": "stream",
     "text": [
      "a is less than b\n"
     ]
    }
   ],
   "source": [
    "if(a>b):\n",
    "    print(\"a is grater than b\")\n",
    "else:\n",
    "    print(\"a is less than b\")"
   ]
  },
  {
   "cell_type": "code",
   "execution_count": 16,
   "id": "02a01b17",
   "metadata": {},
   "outputs": [],
   "source": [
    "# 1. take input from user store it in variable \"marks\" between 0 to 100.\n",
    "# 2. if marks greater than 70 then print pass with first class\n",
    "# if <70 & >35 then print just pass\n",
    "# otherwise print fail"
   ]
  },
  {
   "cell_type": "code",
   "execution_count": 17,
   "id": "5e9f186a",
   "metadata": {},
   "outputs": [],
   "source": [
    "# if - else if - else\n",
    "# if - elif - else"
   ]
  },
  {
   "cell_type": "code",
   "execution_count": 22,
   "id": "1e036683",
   "metadata": {},
   "outputs": [
    {
     "name": "stdout",
     "output_type": "stream",
     "text": [
      "Enter the value between 0 to 100: 12\n",
      "failed\n"
     ]
    }
   ],
   "source": [
    "marks = int(input(\"Enter the value between 0 to 100: \"))\n",
    "\n",
    "if marks > 70:\n",
    "    print(\"passed with first class\")\n",
    "elif (marks <= 70) and (marks > 35):\n",
    "    print(\"just passed\")\n",
    "else:\n",
    "    print(\"failed\")"
   ]
  },
  {
   "cell_type": "code",
   "execution_count": 25,
   "id": "fb1bb15d",
   "metadata": {},
   "outputs": [
    {
     "name": "stdout",
     "output_type": "stream",
     "text": [
      "Enter the 4 digit pin here: 1234\n",
      "Welcome to your TD bank Account\n"
     ]
    }
   ],
   "source": [
    "pin = int(input(\"Enter the 4 digit pin here: \"))\n",
    "\n",
    "\n",
    "\n",
    "if(pin == 1234):\n",
    "    print(\"Welcome to your TD bank Account\")\n",
    "#elif(marks <= 70) and (marks > 35):    \n",
    " #   print(\"Just passed\")\n",
    "    #elif(marks <= 70) or (marks > 35):    \n",
    "else:\n",
    "    print(\"Invalid pin!!\")"
   ]
  },
  {
   "cell_type": "code",
   "execution_count": 26,
   "id": "22a8b66f",
   "metadata": {},
   "outputs": [],
   "source": [
    "# Q1. marks grading system\n",
    "# A+ : >=95\n",
    "# A  : >=90 - 95\n",
    "# B  : >=75 - 90\n",
    "# C  : >=50 - 75\n",
    "# D  : >=35 - 50\n",
    "# F  : <35"
   ]
  },
  {
   "cell_type": "code",
   "execution_count": 28,
   "id": "54dd7c38",
   "metadata": {},
   "outputs": [
    {
     "name": "stdout",
     "output_type": "stream",
     "text": [
      "Enter the marks(0-100) here: 90\n",
      "your grade : A grade\n"
     ]
    }
   ],
   "source": [
    "marks = int(input(\"Enter the marks(0-100) here: \"))\n",
    "\n",
    "if(marks >= 95):\n",
    "    print(\"Passed with A+ grade!!!\")\n",
    "elif(marks >= 90) and (marks < 95):    \n",
    "    print(\"your grade : A grade\")\n",
    "elif(marks >= 75) and (marks < 90):    \n",
    "    print(\"your grade : B grade\")\n",
    "elif(marks >= 50) and (marks < 75):    \n",
    "    print(\"your grade : C grade\")\n",
    "elif(marks >= 35) and (marks < 50):    \n",
    "    print(\"your grade : D grade\")\n",
    "else:\n",
    "    print(\"Failed\")"
   ]
  },
  {
   "cell_type": "code",
   "execution_count": 29,
   "id": "d4528c29",
   "metadata": {},
   "outputs": [],
   "source": [
    "# Q2. marks grading system (marks & attendance)\n",
    "# if student have more than 70% attendance then provide grade \n",
    "# as given below otherwise print \"failed due to low attendance\"\n",
    "\n",
    "# A+ : >=95\n",
    "# A  : >=90 - 95\n",
    "# B  : >=75 - 90\n",
    "# C  : >=50 - 75\n",
    "# D  : >=35 - 50\n",
    "# F  : <35"
   ]
  },
  {
   "cell_type": "code",
   "execution_count": 32,
   "id": "61f14686",
   "metadata": {},
   "outputs": [
    {
     "name": "stdout",
     "output_type": "stream",
     "text": [
      "Enter the marks(0-100) here: 70\n",
      "Enter the attendance(0-100) here: 60\n",
      "failed due to low attendance\n"
     ]
    }
   ],
   "source": [
    "attendance = int(input(\"Enter the attendance(0-100) here: \"))\n",
    "marks = int(input(\"Enter the marks(0-100) here: \"))\n",
    "\n",
    "if(attendance >= 70):\n",
    "    if(marks >= 95):\n",
    "        print(\"Passed with A+ grade!!!\")\n",
    "    elif(marks >= 90) and (marks < 95):    \n",
    "        print(\"your grade : A grade\")\n",
    "    elif(marks >= 75) and (marks < 90):    \n",
    "        print(\"your grade : B grade\")\n",
    "    elif(marks >= 50) and (marks < 75):    \n",
    "        print(\"your grade : C grade\")\n",
    "    elif(marks >= 35) and (marks < 50):    \n",
    "        print(\"your grade : D grade\") \n",
    "    else:\n",
    "        print(\"Failed\")\n",
    "        \n",
    "else:\n",
    "    print(\"failed due to low attendance\")"
   ]
  },
  {
   "cell_type": "code",
   "execution_count": 30,
   "id": "3b858188",
   "metadata": {},
   "outputs": [],
   "source": [
    "##### LEVEL: 1\n",
    "# 1.\n",
    "# A company decided to give bonus of 5% to employee if his/her year of service is more than 5 years.\n",
    "# Ask user for their salary and year of service and print the net bonus amount.\n",
    "\n",
    "# 2.\n",
    "# Take values of length and breadth of a rectangle from user and check if it is square or not.\n",
    "\n",
    "# 3.\n",
    "# Take two int values from user and print greatest among them.\n",
    "\n",
    "# 4.\n",
    "# A shop will give discount of 10% if the cost of purchased quantity is more than 1000.\n",
    "# Ask user for quantity\n",
    "# Suppose, one unit will cost 100.\n",
    "# Judge and print total cost for user.\n",
    "\n",
    "# 5.\n",
    "# A school has following rules for grading system:\n",
    "# a. Below 25 - F\n",
    "# b. 25 to 45 - E\n",
    "# c. 45 to 50 - D\n",
    "# d. 50 to 60 - C\n",
    "# e. 60 to 80 - B\n",
    "# f. Above 80 - A\n",
    "# Ask user to enter marks and print the corresponding grade.\n",
    "\n",
    "# 6.\n",
    "# Take input of age of 3 people by user and determine oldest and youngest among them.\n",
    "\n",
    "# 7.\n",
    "# Write a program to print absolute vlaue of a number entered by user. E.g.-\n",
    "# INPUT: 1        OUTPUT: 1\n",
    "# INPUT: -1        OUTPUT: 1\n",
    "\n",
    "# 8.\n",
    "# A student will not be allowed to sit in exam if his/her attendence is less than 75%.\n",
    "# Take following input from user\n",
    "# Number of classes held\n",
    "# Number of classes attended.\n",
    "# And print\n",
    "# percentage of class attended\n",
    "# Is student is allowed to sit in exam or not.\n",
    "\n",
    "# 9.\n",
    "# Modify the above question to allow student to sit if he/she has medical cause. Ask user if he/she has medical cause or not ( 'Y' or 'N' ) and print accordingly.\n",
    "\n",
    "##### LEVEL: 2\n",
    "    \n",
    "# 1.Write a program to check if a year is leap year or not.\n",
    "# If a year is divisible by 4 then it is leap year but if the year is century year like 2000, 1900, 2100 then it must be divisible by 400.\n",
    "\n",
    "\n",
    "\n",
    "# 2.Ask user to enter age, sex ( M or F ), marital status ( Y or N ) and then using following rules print their place of service.\n",
    "# if employee is female, then she will work only in urban areas.\n",
    "\n",
    "# if employee is a male and age is in between 20 to 40 then he may work in anywhere\n",
    "\n",
    "# if employee is male and age is in between 40 t0 60 then he will work in urban areas only.\n",
    "\n",
    "# And any other input of age should print \"ERROR\".\n",
    "\n",
    "\n",
    "\n",
    "# 3.A 4 digit number is entered through keyboard. Write a program to print a new number with digits reversed as of orignal one. E.g.-\n",
    "# INPUT : 1234        OUTPUT : 4321\n",
    "# INPUT : 5982        OUTPUT : 2895\n"
   ]
  },
  {
   "cell_type": "code",
   "execution_count": 31,
   "id": "43c4f04b",
   "metadata": {},
   "outputs": [],
   "source": [
    "# Answers:\n",
    "# https://www.codesdope.com/practice/python-decide-ifelse/"
   ]
  },
  {
   "cell_type": "code",
   "execution_count": null,
   "id": "aa134a07",
   "metadata": {},
   "outputs": [],
   "source": []
  }
 ],
 "metadata": {
  "kernelspec": {
   "display_name": "Python 3 (ipykernel)",
   "language": "python",
   "name": "python3"
  },
  "language_info": {
   "codemirror_mode": {
    "name": "ipython",
    "version": 3
   },
   "file_extension": ".py",
   "mimetype": "text/x-python",
   "name": "python",
   "nbconvert_exporter": "python",
   "pygments_lexer": "ipython3",
   "version": "3.9.7"
  }
 },
 "nbformat": 4,
 "nbformat_minor": 5
}
