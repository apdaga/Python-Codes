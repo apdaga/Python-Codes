{
 "cells": [
  {
   "cell_type": "markdown",
   "id": "331163ec",
   "metadata": {},
   "source": [
    "# IF ELSE Answers discussion"
   ]
  },
  {
   "cell_type": "code",
   "execution_count": 4,
   "id": "1ba1fb82",
   "metadata": {},
   "outputs": [],
   "source": [
    "# Q. Write a program to check if a year is leap year or not.\n",
    "\n",
    "# NOTE: If a year is divisible by 4 then it is leap year \n",
    "# but if the year is century year like 2000, 1900, 2100 \n",
    "# then it must be divisible by 400."
   ]
  },
  {
   "cell_type": "code",
   "execution_count": 13,
   "id": "102f089f",
   "metadata": {},
   "outputs": [
    {
     "name": "stdout",
     "output_type": "stream",
     "text": [
      "Enter a 4 digit year: 1234\n",
      "It is not a leap year\n"
     ]
    }
   ],
   "source": [
    "year = int(input(\"Enter a 4 digit year: \"))\n",
    "\n",
    "if (year%4 == 0):\n",
    "    if (year%100 != 0):\n",
    "        print(\"It is a leap year\") \n",
    "        \n",
    "    elif (year%100 == 0) and (year%400 == 0):\n",
    "        print(\"It is a leap year\")\n",
    "    \n",
    "    else:\n",
    "        print(\"It is not a leap year\")\n",
    "else:\n",
    "    print(\"It is not a leap year\")"
   ]
  },
  {
   "cell_type": "code",
   "execution_count": 14,
   "id": "84ed676f",
   "metadata": {},
   "outputs": [],
   "source": [
    "# Q. A 4 digit number is entered through keyboard. \n",
    "# Write a program to print a new number with digits \n",
    "# reversed as of orignal one. \n",
    "# E.g.-\n",
    "# INPUT : 1234        OUTPUT : 4321\n",
    "# INPUT : 5982        OUTPUT : 2895"
   ]
  },
  {
   "cell_type": "code",
   "execution_count": 16,
   "id": "0eab9782",
   "metadata": {},
   "outputs": [
    {
     "name": "stdout",
     "output_type": "stream",
     "text": [
      "Enter a 4 digit no.: 1230\n",
      "321\n"
     ]
    }
   ],
   "source": [
    "num = int(input(\"Enter a 4 digit no.: \"))\n",
    "\n",
    "print(int(str(num)[::-1]))"
   ]
  },
  {
   "cell_type": "code",
   "execution_count": 31,
   "id": "37d24d16",
   "metadata": {},
   "outputs": [
    {
     "name": "stdout",
     "output_type": "stream",
     "text": [
      "Enter a 4 digit no.: 9365\n"
     ]
    },
    {
     "data": {
      "text/plain": [
       "5639"
      ]
     },
     "execution_count": 31,
     "metadata": {},
     "output_type": "execute_result"
    }
   ],
   "source": [
    "num = int(input(\"Enter a 4 digit no.: \"))\n",
    "# num = 1234\n",
    "\n",
    "fourth = int(num%10)\n",
    "num = int(num/10)\n",
    "third = int(num%10)\n",
    "num = int(num/10)\n",
    "second = int(num%10)\n",
    "first = int(num/10)\n",
    "\n",
    "out = (fourth*1000) + (third*100) + (second*10) + first\n",
    "out"
   ]
  },
  {
   "cell_type": "code",
   "execution_count": 37,
   "id": "e8f0a15d",
   "metadata": {},
   "outputs": [
    {
     "name": "stdout",
     "output_type": "stream",
     "text": [
      "4321\n"
     ]
    }
   ],
   "source": [
    "# print(\"Enter number\")\n",
    "# number = int(input()) \n",
    "number = 1234\n",
    "#seperating digits of the number \n",
    "\n",
    "#1234/1000 = 1 #1234%1000 = 234 \n",
    "first = int(number/1000) \n",
    "rem = number%1000 \n",
    "\n",
    "#234/100 = 2 #234%100 = 34 \n",
    "second = int(rem/100) \n",
    "rem = rem%100 \n",
    "\n",
    "#34/10 = 3 #34%10 = 4 \n",
    "third = int(rem/10) \n",
    "fourth = int(rem%10) \n",
    "\n",
    "#creating new number with digits reversed \n",
    "#1234 = (1*1000)+(2*100)+(3*10)+4 i.e., 1000+200+30+4 \n",
    "\n",
    "new_number = (fourth*1000)+(third*100)+(second*10)+(first) \n",
    "print(new_number)"
   ]
  },
  {
   "cell_type": "code",
   "execution_count": null,
   "id": "7ec10bf7",
   "metadata": {},
   "outputs": [],
   "source": []
  }
 ],
 "metadata": {
  "kernelspec": {
   "display_name": "Python 3 (ipykernel)",
   "language": "python",
   "name": "python3"
  },
  "language_info": {
   "codemirror_mode": {
    "name": "ipython",
    "version": 3
   },
   "file_extension": ".py",
   "mimetype": "text/x-python",
   "name": "python",
   "nbconvert_exporter": "python",
   "pygments_lexer": "ipython3",
   "version": "3.9.7"
  }
 },
 "nbformat": 4,
 "nbformat_minor": 5
}
