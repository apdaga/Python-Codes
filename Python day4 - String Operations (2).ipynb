{
 "cells": [
  {
   "cell_type": "code",
   "execution_count": 1,
   "id": "cc3cf3d1",
   "metadata": {},
   "outputs": [],
   "source": [
    "#H.W\n",
    "s1 = \"I want to study string slicing operation\"\n",
    "# reverse the string\n",
    "\n",
    "# s1[8:3]\n",
    "# s1[-4:-15:-1]\n",
    "# s1[-10:-15:-1]\n",
    "# s1[-15:-10:-1]\n",
    "# s1[:-2000:-1]\n",
    "# s1[::-3]\n",
    "# s1[:12:]\n",
    "# s1[-200::-1]\n",
    "# s1[100::1]"
   ]
  },
  {
   "cell_type": "code",
   "execution_count": 2,
   "id": "cbdf5cba",
   "metadata": {},
   "outputs": [
    {
     "data": {
      "text/plain": [
       "'I want to study string slicing operation'"
      ]
     },
     "execution_count": 2,
     "metadata": {},
     "output_type": "execute_result"
    }
   ],
   "source": [
    "s1"
   ]
  },
  {
   "cell_type": "code",
   "execution_count": 3,
   "id": "804d7ceb",
   "metadata": {},
   "outputs": [],
   "source": [
    "# 1. Check step size (+ve, -ve)\n",
    "# 2. Calculate what will be there at blank space using below rules:\n",
    "\n",
    "#  2.1 Whenever start and end are blank and (step size is either blank or 1 or any positive number)\n",
    "#      then the start point = 0 (i.e. lowest index of string)\n",
    "#      and the end point = len(string)\n",
    "\n",
    "#  2.2 Whenever start and end are blank and (step size is either -1 or any negative number)\n",
    "#      then the start point = -1 (i.e. rightmost index of string)\n",
    "#      and the end point = leftmost index of the string\n",
    "\n",
    "# 3. Now you got all there numbers (start:end:step)\n",
    "# 4. Check the direction of start->end  and step-size\n",
    "# 5. Based on both the directions, predict the ouput"
   ]
  },
  {
   "cell_type": "code",
   "execution_count": 4,
   "id": "f7fb8945",
   "metadata": {},
   "outputs": [
    {
     "data": {
      "text/plain": [
       "'I want to study string slicing operation'"
      ]
     },
     "execution_count": 4,
     "metadata": {},
     "output_type": "execute_result"
    }
   ],
   "source": [
    "s1"
   ]
  },
  {
   "cell_type": "code",
   "execution_count": 16,
   "id": "04793da8",
   "metadata": {},
   "outputs": [],
   "source": [
    "# len(s1)\n",
    "# s1[8:3]         # Wrong\n",
    "# s1[-4:-15:-1]   # Wrong\n",
    "# s1[-10:-15:-1]  # Correct\n",
    "# s1[-15:-10:-1]  # Correct    \n",
    "# s1[:-2000:-1]   # Wrong\n",
    "# s1[::-3]        # Correct\n",
    "# s1[:12:]        # Correct\n",
    "# s1[-200::-1]    # Wrong\n",
    "# s1[100::1]      # Correct"
   ]
  },
  {
   "cell_type": "code",
   "execution_count": 18,
   "id": "1f62c4af",
   "metadata": {},
   "outputs": [
    {
     "data": {
      "text/plain": [
       "'I want to study string slicing operation'"
      ]
     },
     "execution_count": 18,
     "metadata": {},
     "output_type": "execute_result"
    }
   ],
   "source": [
    "len(s1)\n",
    "s1"
   ]
  },
  {
   "cell_type": "code",
   "execution_count": 22,
   "id": "472ee536",
   "metadata": {},
   "outputs": [
    {
     "data": {
      "text/plain": [
       "3"
      ]
     },
     "execution_count": 22,
     "metadata": {},
     "output_type": "execute_result"
    }
   ],
   "source": [
    "s1.find('a')"
   ]
  },
  {
   "cell_type": "code",
   "execution_count": 23,
   "id": "f5cc2697",
   "metadata": {},
   "outputs": [
    {
     "data": {
      "text/plain": [
       "35"
      ]
     },
     "execution_count": 23,
     "metadata": {},
     "output_type": "execute_result"
    }
   ],
   "source": [
    "s1.find('at')"
   ]
  },
  {
   "cell_type": "code",
   "execution_count": 24,
   "id": "8aa4a7b6",
   "metadata": {},
   "outputs": [
    {
     "data": {
      "text/plain": [
       "-1"
      ]
     },
     "execution_count": 24,
     "metadata": {},
     "output_type": "execute_result"
    }
   ],
   "source": [
    "s1.find('z')"
   ]
  },
  {
   "cell_type": "code",
   "execution_count": 25,
   "id": "427a7293",
   "metadata": {},
   "outputs": [
    {
     "data": {
      "text/plain": [
       "9"
      ]
     },
     "execution_count": 25,
     "metadata": {},
     "output_type": "execute_result"
    }
   ],
   "source": [
    "s1.find(' s')"
   ]
  },
  {
   "cell_type": "code",
   "execution_count": 27,
   "id": "18822455",
   "metadata": {},
   "outputs": [
    {
     "data": {
      "text/plain": [
       "2"
      ]
     },
     "execution_count": 27,
     "metadata": {},
     "output_type": "execute_result"
    }
   ],
   "source": [
    "s1.count('a')"
   ]
  },
  {
   "cell_type": "code",
   "execution_count": 28,
   "id": "ac6e6a2a",
   "metadata": {},
   "outputs": [
    {
     "data": {
      "text/plain": [
       "3"
      ]
     },
     "execution_count": 28,
     "metadata": {},
     "output_type": "execute_result"
    }
   ],
   "source": [
    "s1.count('s')"
   ]
  },
  {
   "cell_type": "code",
   "execution_count": 29,
   "id": "2ee11295",
   "metadata": {},
   "outputs": [
    {
     "data": {
      "text/plain": [
       "1"
      ]
     },
     "execution_count": 29,
     "metadata": {},
     "output_type": "execute_result"
    }
   ],
   "source": [
    "s1.count('at')"
   ]
  },
  {
   "cell_type": "code",
   "execution_count": 30,
   "id": "56c486eb",
   "metadata": {},
   "outputs": [
    {
     "data": {
      "text/plain": [
       "6"
      ]
     },
     "execution_count": 30,
     "metadata": {},
     "output_type": "execute_result"
    }
   ],
   "source": [
    "s1.count(' ')"
   ]
  },
  {
   "cell_type": "code",
   "execution_count": 31,
   "id": "40fb5911",
   "metadata": {},
   "outputs": [
    {
     "data": {
      "text/plain": [
       "['I', 'want', 'to', 'study', 'string', 'slicing', 'operation']"
      ]
     },
     "execution_count": 31,
     "metadata": {},
     "output_type": "execute_result"
    }
   ],
   "source": [
    "s1.split()"
   ]
  },
  {
   "cell_type": "code",
   "execution_count": 32,
   "id": "bbad7ea1",
   "metadata": {},
   "outputs": [
    {
     "data": {
      "text/plain": [
       "['Akshay', 'daga']"
      ]
     },
     "execution_count": 32,
     "metadata": {},
     "output_type": "execute_result"
    }
   ],
   "source": [
    "s = \"Akshay,daga\"\n",
    "s.split(',')"
   ]
  },
  {
   "cell_type": "code",
   "execution_count": 33,
   "id": "b73cda63",
   "metadata": {},
   "outputs": [
    {
     "data": {
      "text/plain": [
       "['Aksh', 'y,d', 'g', '']"
      ]
     },
     "execution_count": 33,
     "metadata": {},
     "output_type": "execute_result"
    }
   ],
   "source": [
    "s.split('a')"
   ]
  },
  {
   "cell_type": "code",
   "execution_count": 36,
   "id": "d196ee93",
   "metadata": {},
   "outputs": [
    {
     "data": {
      "text/plain": [
       "['', 'fdjajd', ' ', 'adkfjlk Ak', 'hay,daga']"
      ]
     },
     "execution_count": 36,
     "metadata": {},
     "output_type": "execute_result"
    }
   ],
   "source": [
    "s = \"sfdjajds sadkfjlk Akshay,daga\"\n",
    "s.split('s')"
   ]
  },
  {
   "cell_type": "code",
   "execution_count": 42,
   "id": "95d2e42e",
   "metadata": {},
   "outputs": [
    {
     "data": {
      "text/plain": [
       "'My Name is akshay Daga'"
      ]
     },
     "execution_count": 42,
     "metadata": {},
     "output_type": "execute_result"
    }
   ],
   "source": [
    "s = \"My Name is akshay Daga\"\n",
    "s"
   ]
  },
  {
   "cell_type": "code",
   "execution_count": 43,
   "id": "f2a301b4",
   "metadata": {},
   "outputs": [
    {
     "data": {
      "text/plain": [
       "'my name is akshay daga'"
      ]
     },
     "execution_count": 43,
     "metadata": {},
     "output_type": "execute_result"
    }
   ],
   "source": [
    "s.lower()"
   ]
  },
  {
   "cell_type": "code",
   "execution_count": 44,
   "id": "e116c00c",
   "metadata": {},
   "outputs": [
    {
     "data": {
      "text/plain": [
       "'MY NAME IS AKSHAY DAGA'"
      ]
     },
     "execution_count": 44,
     "metadata": {},
     "output_type": "execute_result"
    }
   ],
   "source": [
    "s.upper()"
   ]
  },
  {
   "cell_type": "code",
   "execution_count": 45,
   "id": "62e9ade5",
   "metadata": {},
   "outputs": [
    {
     "data": {
      "text/plain": [
       "'My name is akshay daga'"
      ]
     },
     "execution_count": 45,
     "metadata": {},
     "output_type": "execute_result"
    }
   ],
   "source": [
    "s.capitalize()"
   ]
  },
  {
   "cell_type": "code",
   "execution_count": 46,
   "id": "ad3f6dfa",
   "metadata": {},
   "outputs": [
    {
     "data": {
      "text/plain": [
       "'My Name Is Akshay Daga'"
      ]
     },
     "execution_count": 46,
     "metadata": {},
     "output_type": "execute_result"
    }
   ],
   "source": [
    "s.title()"
   ]
  },
  {
   "cell_type": "code",
   "execution_count": 47,
   "id": "e7cc40ef",
   "metadata": {},
   "outputs": [
    {
     "data": {
      "text/plain": [
       "'mY nAME IS AKSHAY dAGA'"
      ]
     },
     "execution_count": 47,
     "metadata": {},
     "output_type": "execute_result"
    }
   ],
   "source": [
    "s.swapcase()"
   ]
  },
  {
   "cell_type": "code",
   "execution_count": 49,
   "id": "477aa743",
   "metadata": {},
   "outputs": [
    {
     "data": {
      "text/plain": [
       "'      Akshay Daga     '"
      ]
     },
     "execution_count": 49,
     "metadata": {},
     "output_type": "execute_result"
    }
   ],
   "source": [
    "s = \"      Akshay Daga     \"\n",
    "s"
   ]
  },
  {
   "cell_type": "code",
   "execution_count": 50,
   "id": "8739a172",
   "metadata": {},
   "outputs": [
    {
     "data": {
      "text/plain": [
       "'Akshay Daga'"
      ]
     },
     "execution_count": 50,
     "metadata": {},
     "output_type": "execute_result"
    }
   ],
   "source": [
    "s.strip()"
   ]
  },
  {
   "cell_type": "code",
   "execution_count": 51,
   "id": "bd0245a3",
   "metadata": {},
   "outputs": [
    {
     "data": {
      "text/plain": [
       "'      Akshay Daga'"
      ]
     },
     "execution_count": 51,
     "metadata": {},
     "output_type": "execute_result"
    }
   ],
   "source": [
    "s.rstrip()"
   ]
  },
  {
   "cell_type": "code",
   "execution_count": 52,
   "id": "c0334a3c",
   "metadata": {},
   "outputs": [
    {
     "data": {
      "text/plain": [
       "'Akshay Daga     '"
      ]
     },
     "execution_count": 52,
     "metadata": {},
     "output_type": "execute_result"
    }
   ],
   "source": [
    "s.lstrip()"
   ]
  },
  {
   "cell_type": "code",
   "execution_count": 53,
   "id": "9a3aabb1",
   "metadata": {},
   "outputs": [
    {
     "data": {
      "text/plain": [
       "'      Akshay Daga     '"
      ]
     },
     "execution_count": 53,
     "metadata": {},
     "output_type": "execute_result"
    }
   ],
   "source": [
    "s"
   ]
  },
  {
   "cell_type": "code",
   "execution_count": 54,
   "id": "58ed1326",
   "metadata": {},
   "outputs": [
    {
     "data": {
      "text/plain": [
       "'      Akshzy Dzgz     '"
      ]
     },
     "execution_count": 54,
     "metadata": {},
     "output_type": "execute_result"
    }
   ],
   "source": [
    "s.replace(\"a\",\"z\")"
   ]
  },
  {
   "cell_type": "code",
   "execution_count": 55,
   "id": "2edf2d08",
   "metadata": {},
   "outputs": [
    {
     "data": {
      "text/plain": [
       "'      Akshay dsfa     '"
      ]
     },
     "execution_count": 55,
     "metadata": {},
     "output_type": "execute_result"
    }
   ],
   "source": [
    "s.replace(\"Daga\",\"dsfa\")"
   ]
  },
  {
   "cell_type": "code",
   "execution_count": 56,
   "id": "bad87167",
   "metadata": {},
   "outputs": [
    {
     "data": {
      "text/plain": [
       "'Akshay\\tDaga'"
      ]
     },
     "execution_count": 56,
     "metadata": {},
     "output_type": "execute_result"
    }
   ],
   "source": [
    "s=\"Akshay\\tDaga\"\n",
    "s"
   ]
  },
  {
   "cell_type": "code",
   "execution_count": 57,
   "id": "17f037ab",
   "metadata": {},
   "outputs": [
    {
     "data": {
      "text/plain": [
       "'Akshay  Daga'"
      ]
     },
     "execution_count": 57,
     "metadata": {},
     "output_type": "execute_result"
    }
   ],
   "source": [
    "s.expandtabs()"
   ]
  },
  {
   "cell_type": "code",
   "execution_count": 58,
   "id": "7d1d744c",
   "metadata": {},
   "outputs": [
    {
     "data": {
      "text/plain": [
       "'Akshay'"
      ]
     },
     "execution_count": 58,
     "metadata": {},
     "output_type": "execute_result"
    }
   ],
   "source": [
    "s = \"Akshay\"\n",
    "s"
   ]
  },
  {
   "cell_type": "code",
   "execution_count": 59,
   "id": "7e97e7f0",
   "metadata": {},
   "outputs": [
    {
     "data": {
      "text/plain": [
       "'#################Akshay#################'"
      ]
     },
     "execution_count": 59,
     "metadata": {},
     "output_type": "execute_result"
    }
   ],
   "source": [
    "s.center(40,'#')"
   ]
  },
  {
   "cell_type": "code",
   "execution_count": 60,
   "id": "725eef13",
   "metadata": {},
   "outputs": [
    {
     "data": {
      "text/plain": [
       "'Akshay'"
      ]
     },
     "execution_count": 60,
     "metadata": {},
     "output_type": "execute_result"
    }
   ],
   "source": [
    "s"
   ]
  },
  {
   "cell_type": "code",
   "execution_count": 62,
   "id": "43893fb4",
   "metadata": {},
   "outputs": [
    {
     "data": {
      "text/plain": [
       "'yahskA'"
      ]
     },
     "execution_count": 62,
     "metadata": {},
     "output_type": "execute_result"
    }
   ],
   "source": [
    "s[5::-1]"
   ]
  },
  {
   "cell_type": "code",
   "execution_count": 63,
   "id": "306927bd",
   "metadata": {},
   "outputs": [
    {
     "data": {
      "text/plain": [
       "'yahskA'"
      ]
     },
     "execution_count": 63,
     "metadata": {},
     "output_type": "execute_result"
    }
   ],
   "source": [
    "s[-1::-1]"
   ]
  },
  {
   "cell_type": "code",
   "execution_count": 64,
   "id": "477cbc52",
   "metadata": {},
   "outputs": [
    {
     "data": {
      "text/plain": [
       "'yahskA'"
      ]
     },
     "execution_count": 64,
     "metadata": {},
     "output_type": "execute_result"
    }
   ],
   "source": [
    "s[::-1]"
   ]
  },
  {
   "cell_type": "code",
   "execution_count": 70,
   "id": "8d69eeac",
   "metadata": {},
   "outputs": [
    {
     "data": {
      "text/plain": [
       "['y', 'a', 'h', 's', 'k', 'A']"
      ]
     },
     "execution_count": 70,
     "metadata": {},
     "output_type": "execute_result"
    }
   ],
   "source": [
    "list(reversed(s))"
   ]
  },
  {
   "cell_type": "code",
   "execution_count": 75,
   "id": "b85826a9",
   "metadata": {},
   "outputs": [],
   "source": [
    "s1 = \"Akshay\"\n",
    "s2 = \"Daga\""
   ]
  },
  {
   "cell_type": "code",
   "execution_count": 76,
   "id": "c7539b62",
   "metadata": {},
   "outputs": [
    {
     "data": {
      "text/plain": [
       "'DAkshayaAkshaygAkshaya'"
      ]
     },
     "execution_count": 76,
     "metadata": {},
     "output_type": "execute_result"
    }
   ],
   "source": [
    "s1.join(s2)"
   ]
  },
  {
   "cell_type": "code",
   "execution_count": 77,
   "id": "a23098ff",
   "metadata": {},
   "outputs": [
    {
     "data": {
      "text/plain": [
       "'D a g a'"
      ]
     },
     "execution_count": 77,
     "metadata": {},
     "output_type": "execute_result"
    }
   ],
   "source": [
    "\" \".join(s2)"
   ]
  },
  {
   "cell_type": "code",
   "execution_count": null,
   "id": "c940a80b",
   "metadata": {},
   "outputs": [],
   "source": []
  }
 ],
 "metadata": {
  "kernelspec": {
   "display_name": "Python 3",
   "language": "python",
   "name": "python3"
  },
  "language_info": {
   "codemirror_mode": {
    "name": "ipython",
    "version": 3
   },
   "file_extension": ".py",
   "mimetype": "text/x-python",
   "name": "python",
   "nbconvert_exporter": "python",
   "pygments_lexer": "ipython3",
   "version": "3.8.8"
  }
 },
 "nbformat": 4,
 "nbformat_minor": 5
}
