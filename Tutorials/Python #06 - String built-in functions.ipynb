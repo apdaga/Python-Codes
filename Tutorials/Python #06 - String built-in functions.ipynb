{
 "cells": [
  {
   "cell_type": "code",
   "execution_count": 1,
   "id": "2bbf349c",
   "metadata": {},
   "outputs": [],
   "source": [
    "s = \"I am Akshay Daga\""
   ]
  },
  {
   "cell_type": "code",
   "execution_count": 2,
   "id": "1040103b",
   "metadata": {},
   "outputs": [
    {
     "data": {
      "text/plain": [
       "'I am Akshay Daga'"
      ]
     },
     "execution_count": 2,
     "metadata": {},
     "output_type": "execute_result"
    }
   ],
   "source": [
    "s"
   ]
  },
  {
   "cell_type": "code",
   "execution_count": 3,
   "id": "b3ca791d",
   "metadata": {},
   "outputs": [
    {
     "data": {
      "text/plain": [
       "16"
      ]
     },
     "execution_count": 3,
     "metadata": {},
     "output_type": "execute_result"
    }
   ],
   "source": [
    "len(s)"
   ]
  },
  {
   "cell_type": "code",
   "execution_count": 4,
   "id": "c10c60d3",
   "metadata": {},
   "outputs": [
    {
     "data": {
      "text/plain": [
       "2"
      ]
     },
     "execution_count": 4,
     "metadata": {},
     "output_type": "execute_result"
    }
   ],
   "source": [
    "s.find(\"a\")"
   ]
  },
  {
   "cell_type": "code",
   "execution_count": 5,
   "id": "8d934ff3",
   "metadata": {},
   "outputs": [
    {
     "data": {
      "text/plain": [
       "7"
      ]
     },
     "execution_count": 5,
     "metadata": {},
     "output_type": "execute_result"
    }
   ],
   "source": [
    "s.find(\"sh\")"
   ]
  },
  {
   "cell_type": "code",
   "execution_count": 6,
   "id": "1164bad2",
   "metadata": {},
   "outputs": [
    {
     "data": {
      "text/plain": [
       "-1"
      ]
     },
     "execution_count": 6,
     "metadata": {},
     "output_type": "execute_result"
    }
   ],
   "source": [
    "s.find(\"Z\")"
   ]
  },
  {
   "cell_type": "code",
   "execution_count": 7,
   "id": "3b91f276",
   "metadata": {},
   "outputs": [
    {
     "data": {
      "text/plain": [
       "4"
      ]
     },
     "execution_count": 7,
     "metadata": {},
     "output_type": "execute_result"
    }
   ],
   "source": [
    "s.count(\"a\")"
   ]
  },
  {
   "cell_type": "code",
   "execution_count": 8,
   "id": "8eba8f2f",
   "metadata": {},
   "outputs": [
    {
     "data": {
      "text/plain": [
       "1"
      ]
     },
     "execution_count": 8,
     "metadata": {},
     "output_type": "execute_result"
    }
   ],
   "source": [
    "s.count(\"ks\")"
   ]
  },
  {
   "cell_type": "code",
   "execution_count": 9,
   "id": "59fc84f6",
   "metadata": {},
   "outputs": [
    {
     "data": {
      "text/plain": [
       "['I', 'am', 'Akshay', 'Daga']"
      ]
     },
     "execution_count": 9,
     "metadata": {},
     "output_type": "execute_result"
    }
   ],
   "source": [
    "s.split()"
   ]
  },
  {
   "cell_type": "code",
   "execution_count": 10,
   "id": "e1a42832",
   "metadata": {},
   "outputs": [
    {
     "data": {
      "text/plain": [
       "['I ', 'm Aksh', 'y D', 'g', '']"
      ]
     },
     "execution_count": 10,
     "metadata": {},
     "output_type": "execute_result"
    }
   ],
   "source": [
    "s.split(\"a\")"
   ]
  },
  {
   "cell_type": "code",
   "execution_count": 11,
   "id": "78bf8518",
   "metadata": {},
   "outputs": [
    {
     "data": {
      "text/plain": [
       "'I AM AKSHAY DAGA'"
      ]
     },
     "execution_count": 11,
     "metadata": {},
     "output_type": "execute_result"
    }
   ],
   "source": [
    "s.upper()"
   ]
  },
  {
   "cell_type": "code",
   "execution_count": 12,
   "id": "c1c5bc8c",
   "metadata": {},
   "outputs": [
    {
     "data": {
      "text/plain": [
       "'i am akshay daga'"
      ]
     },
     "execution_count": 12,
     "metadata": {},
     "output_type": "execute_result"
    }
   ],
   "source": [
    "s.lower()"
   ]
  },
  {
   "cell_type": "code",
   "execution_count": 13,
   "id": "d4e90d11",
   "metadata": {},
   "outputs": [
    {
     "data": {
      "text/plain": [
       "'I am Akshay Daga'"
      ]
     },
     "execution_count": 13,
     "metadata": {},
     "output_type": "execute_result"
    }
   ],
   "source": [
    "s"
   ]
  },
  {
   "cell_type": "code",
   "execution_count": 14,
   "id": "ebe03c2e",
   "metadata": {},
   "outputs": [
    {
     "data": {
      "text/plain": [
       "'i AM aKSHAY dAGA'"
      ]
     },
     "execution_count": 14,
     "metadata": {},
     "output_type": "execute_result"
    }
   ],
   "source": [
    "s.swapcase()"
   ]
  },
  {
   "cell_type": "code",
   "execution_count": 15,
   "id": "f2d27271",
   "metadata": {},
   "outputs": [
    {
     "data": {
      "text/plain": [
       "'I Am Akshay Daga'"
      ]
     },
     "execution_count": 15,
     "metadata": {},
     "output_type": "execute_result"
    }
   ],
   "source": [
    "s.title()"
   ]
  },
  {
   "cell_type": "code",
   "execution_count": 16,
   "id": "eba6d556",
   "metadata": {},
   "outputs": [
    {
     "data": {
      "text/plain": [
       "'I am akshay daga'"
      ]
     },
     "execution_count": 16,
     "metadata": {},
     "output_type": "execute_result"
    }
   ],
   "source": [
    "s.capitalize()"
   ]
  },
  {
   "cell_type": "code",
   "execution_count": 20,
   "id": "31eea2f2",
   "metadata": {},
   "outputs": [],
   "source": [
    "t = \"    Akshay     \""
   ]
  },
  {
   "cell_type": "code",
   "execution_count": 21,
   "id": "b8a0ab82",
   "metadata": {},
   "outputs": [
    {
     "data": {
      "text/plain": [
       "'    Akshay     '"
      ]
     },
     "execution_count": 21,
     "metadata": {},
     "output_type": "execute_result"
    }
   ],
   "source": [
    "t"
   ]
  },
  {
   "cell_type": "code",
   "execution_count": 22,
   "id": "e5cd8fd0",
   "metadata": {},
   "outputs": [
    {
     "data": {
      "text/plain": [
       "'Akshay'"
      ]
     },
     "execution_count": 22,
     "metadata": {},
     "output_type": "execute_result"
    }
   ],
   "source": [
    "t.strip()"
   ]
  },
  {
   "cell_type": "code",
   "execution_count": 23,
   "id": "ff4769b2",
   "metadata": {},
   "outputs": [
    {
     "data": {
      "text/plain": [
       "'    Akshay'"
      ]
     },
     "execution_count": 23,
     "metadata": {},
     "output_type": "execute_result"
    }
   ],
   "source": [
    "t.rstrip()"
   ]
  },
  {
   "cell_type": "code",
   "execution_count": 24,
   "id": "b97f8640",
   "metadata": {},
   "outputs": [
    {
     "data": {
      "text/plain": [
       "'Akshay     '"
      ]
     },
     "execution_count": 24,
     "metadata": {},
     "output_type": "execute_result"
    }
   ],
   "source": [
    "t.lstrip()"
   ]
  },
  {
   "cell_type": "code",
   "execution_count": 25,
   "id": "4ca96dbc",
   "metadata": {},
   "outputs": [
    {
     "data": {
      "text/plain": [
       "'    Akshaz     '"
      ]
     },
     "execution_count": 25,
     "metadata": {},
     "output_type": "execute_result"
    }
   ],
   "source": [
    "t.replace(\"y\",\"z\")"
   ]
  },
  {
   "cell_type": "code",
   "execution_count": 26,
   "id": "ba4d1d89",
   "metadata": {},
   "outputs": [
    {
     "data": {
      "text/plain": [
       "'    Akshay     '"
      ]
     },
     "execution_count": 26,
     "metadata": {},
     "output_type": "execute_result"
    }
   ],
   "source": [
    "t"
   ]
  },
  {
   "cell_type": "code",
   "execution_count": 27,
   "id": "1b79d694",
   "metadata": {},
   "outputs": [],
   "source": [
    "z = \"Akshay\\tDaga\""
   ]
  },
  {
   "cell_type": "code",
   "execution_count": 28,
   "id": "11e1a34a",
   "metadata": {},
   "outputs": [
    {
     "data": {
      "text/plain": [
       "'Akshay\\tDaga'"
      ]
     },
     "execution_count": 28,
     "metadata": {},
     "output_type": "execute_result"
    }
   ],
   "source": [
    "z"
   ]
  },
  {
   "cell_type": "code",
   "execution_count": 29,
   "id": "d36fc06c",
   "metadata": {},
   "outputs": [
    {
     "data": {
      "text/plain": [
       "'Akshay  Daga'"
      ]
     },
     "execution_count": 29,
     "metadata": {},
     "output_type": "execute_result"
    }
   ],
   "source": [
    "z.expandtabs()"
   ]
  },
  {
   "cell_type": "code",
   "execution_count": 30,
   "id": "c1247f6b",
   "metadata": {},
   "outputs": [],
   "source": [
    "t=\" Akshay \""
   ]
  },
  {
   "cell_type": "code",
   "execution_count": 31,
   "id": "61c9cee8",
   "metadata": {},
   "outputs": [
    {
     "data": {
      "text/plain": [
       "' Akshay '"
      ]
     },
     "execution_count": 31,
     "metadata": {},
     "output_type": "execute_result"
    }
   ],
   "source": [
    "t"
   ]
  },
  {
   "cell_type": "code",
   "execution_count": 32,
   "id": "6b3e64bb",
   "metadata": {},
   "outputs": [
    {
     "data": {
      "text/plain": [
       "'################ Akshay ################'"
      ]
     },
     "execution_count": 32,
     "metadata": {},
     "output_type": "execute_result"
    }
   ],
   "source": [
    "t.center(40,\"#\")"
   ]
  },
  {
   "cell_type": "code",
   "execution_count": 35,
   "id": "3e026bb2",
   "metadata": {},
   "outputs": [
    {
     "data": {
      "text/plain": [
       "[' ', 'y', 'a', 'h', 's', 'k', 'A', ' ']"
      ]
     },
     "execution_count": 35,
     "metadata": {},
     "output_type": "execute_result"
    }
   ],
   "source": [
    "list(reversed(t))"
   ]
  },
  {
   "cell_type": "code",
   "execution_count": 36,
   "id": "713a1d00",
   "metadata": {},
   "outputs": [
    {
     "data": {
      "text/plain": [
       "' yahskA '"
      ]
     },
     "execution_count": 36,
     "metadata": {},
     "output_type": "execute_result"
    }
   ],
   "source": [
    "t[::-1]"
   ]
  },
  {
   "cell_type": "code",
   "execution_count": 37,
   "id": "c4c3a172",
   "metadata": {},
   "outputs": [],
   "source": [
    "t1=\"Akshay\"\n",
    "t2=\"Daga\""
   ]
  },
  {
   "cell_type": "code",
   "execution_count": 38,
   "id": "e33cc120",
   "metadata": {},
   "outputs": [
    {
     "data": {
      "text/plain": [
       "'DAkshayaAkshaygAkshaya'"
      ]
     },
     "execution_count": 38,
     "metadata": {},
     "output_type": "execute_result"
    }
   ],
   "source": [
    "t1.join(t2)"
   ]
  },
  {
   "cell_type": "code",
   "execution_count": 39,
   "id": "1f82572e",
   "metadata": {},
   "outputs": [
    {
     "data": {
      "text/plain": [
       "'D a g a'"
      ]
     },
     "execution_count": 39,
     "metadata": {},
     "output_type": "execute_result"
    }
   ],
   "source": [
    "\" \".join(t2)"
   ]
  },
  {
   "cell_type": "code",
   "execution_count": null,
   "id": "9e08f8a4",
   "metadata": {},
   "outputs": [],
   "source": []
  }
 ],
 "metadata": {
  "kernelspec": {
   "display_name": "Python 3 (ipykernel)",
   "language": "python",
   "name": "python3"
  },
  "language_info": {
   "codemirror_mode": {
    "name": "ipython",
    "version": 3
   },
   "file_extension": ".py",
   "mimetype": "text/x-python",
   "name": "python",
   "nbconvert_exporter": "python",
   "pygments_lexer": "ipython3",
   "version": "3.9.7"
  }
 },
 "nbformat": 4,
 "nbformat_minor": 5
}
