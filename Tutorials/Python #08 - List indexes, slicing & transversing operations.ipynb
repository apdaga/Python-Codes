{
 "cells": [
  {
   "cell_type": "code",
   "execution_count": 1,
   "id": "902a74df",
   "metadata": {},
   "outputs": [],
   "source": [
    "l1 = [1,12.34,\"akshay\",2+3j,True]"
   ]
  },
  {
   "cell_type": "code",
   "execution_count": 2,
   "id": "676ac25b",
   "metadata": {},
   "outputs": [
    {
     "data": {
      "text/plain": [
       "[1, 12.34, 'akshay', (2+3j), True]"
      ]
     },
     "execution_count": 2,
     "metadata": {},
     "output_type": "execute_result"
    }
   ],
   "source": [
    "l1"
   ]
  },
  {
   "cell_type": "code",
   "execution_count": 3,
   "id": "f6f69b17",
   "metadata": {},
   "outputs": [
    {
     "data": {
      "text/plain": [
       "list"
      ]
     },
     "execution_count": 3,
     "metadata": {},
     "output_type": "execute_result"
    }
   ],
   "source": [
    "type(l1)"
   ]
  },
  {
   "cell_type": "code",
   "execution_count": 4,
   "id": "24434709",
   "metadata": {},
   "outputs": [
    {
     "data": {
      "text/plain": [
       "1"
      ]
     },
     "execution_count": 4,
     "metadata": {},
     "output_type": "execute_result"
    }
   ],
   "source": [
    "l1[0]"
   ]
  },
  {
   "cell_type": "code",
   "execution_count": 5,
   "id": "d297ad9e",
   "metadata": {},
   "outputs": [
    {
     "data": {
      "text/plain": [
       "'akshay'"
      ]
     },
     "execution_count": 5,
     "metadata": {},
     "output_type": "execute_result"
    }
   ],
   "source": [
    "l1[2]"
   ]
  },
  {
   "cell_type": "code",
   "execution_count": 6,
   "id": "44fdeeaa",
   "metadata": {},
   "outputs": [
    {
     "data": {
      "text/plain": [
       "(2+3j)"
      ]
     },
     "execution_count": 6,
     "metadata": {},
     "output_type": "execute_result"
    }
   ],
   "source": [
    "l1[3]"
   ]
  },
  {
   "cell_type": "code",
   "execution_count": 7,
   "id": "3d6a72a8",
   "metadata": {},
   "outputs": [
    {
     "data": {
      "text/plain": [
       "True"
      ]
     },
     "execution_count": 7,
     "metadata": {},
     "output_type": "execute_result"
    }
   ],
   "source": [
    "l1[4]"
   ]
  },
  {
   "cell_type": "code",
   "execution_count": 8,
   "id": "a9f6cb07",
   "metadata": {},
   "outputs": [
    {
     "data": {
      "text/plain": [
       "[1, 12.34, 'akshay', (2+3j)]"
      ]
     },
     "execution_count": 8,
     "metadata": {},
     "output_type": "execute_result"
    }
   ],
   "source": [
    "l1[0:4]"
   ]
  },
  {
   "cell_type": "code",
   "execution_count": 9,
   "id": "2151200c",
   "metadata": {},
   "outputs": [
    {
     "data": {
      "text/plain": [
       "[1, 12.34, 'akshay', (2+3j), True]"
      ]
     },
     "execution_count": 9,
     "metadata": {},
     "output_type": "execute_result"
    }
   ],
   "source": [
    "l1[:]"
   ]
  },
  {
   "cell_type": "code",
   "execution_count": 10,
   "id": "aa9bf4bc",
   "metadata": {},
   "outputs": [
    {
     "data": {
      "text/plain": [
       "[True, (2+3j), 'akshay', 12.34, 1]"
      ]
     },
     "execution_count": 10,
     "metadata": {},
     "output_type": "execute_result"
    }
   ],
   "source": [
    "l1[::-1]"
   ]
  },
  {
   "cell_type": "code",
   "execution_count": 11,
   "id": "458b5351",
   "metadata": {},
   "outputs": [
    {
     "data": {
      "text/plain": [
       "[1, 12.34, 'akshay', (2+3j), True]"
      ]
     },
     "execution_count": 11,
     "metadata": {},
     "output_type": "execute_result"
    }
   ],
   "source": [
    "l1"
   ]
  },
  {
   "cell_type": "code",
   "execution_count": 12,
   "id": "ecc5b71b",
   "metadata": {},
   "outputs": [
    {
     "data": {
      "text/plain": [
       "[True, (2+3j), 'akshay', 12.34]"
      ]
     },
     "execution_count": 12,
     "metadata": {},
     "output_type": "execute_result"
    }
   ],
   "source": [
    "l1[-1:-5:-1]"
   ]
  },
  {
   "cell_type": "code",
   "execution_count": 13,
   "id": "094b0295",
   "metadata": {},
   "outputs": [
    {
     "data": {
      "text/plain": [
       "[1, 12.34, 'akshay', (2+3j), True]"
      ]
     },
     "execution_count": 13,
     "metadata": {},
     "output_type": "execute_result"
    }
   ],
   "source": [
    "l1"
   ]
  },
  {
   "cell_type": "code",
   "execution_count": 14,
   "id": "1d24724e",
   "metadata": {},
   "outputs": [
    {
     "data": {
      "text/plain": [
       "'akshay'"
      ]
     },
     "execution_count": 14,
     "metadata": {},
     "output_type": "execute_result"
    }
   ],
   "source": [
    "l1[2]"
   ]
  },
  {
   "cell_type": "code",
   "execution_count": 15,
   "id": "59be4f11",
   "metadata": {},
   "outputs": [],
   "source": [
    "l1[2]='daga'"
   ]
  },
  {
   "cell_type": "code",
   "execution_count": 16,
   "id": "1bee9543",
   "metadata": {},
   "outputs": [
    {
     "data": {
      "text/plain": [
       "[1, 12.34, 'daga', (2+3j), True]"
      ]
     },
     "execution_count": 16,
     "metadata": {},
     "output_type": "execute_result"
    }
   ],
   "source": [
    "l1"
   ]
  },
  {
   "cell_type": "code",
   "execution_count": 17,
   "id": "c0bea0a9",
   "metadata": {},
   "outputs": [
    {
     "data": {
      "text/plain": [
       "'daga'"
      ]
     },
     "execution_count": 17,
     "metadata": {},
     "output_type": "execute_result"
    }
   ],
   "source": [
    "l1[2]"
   ]
  },
  {
   "cell_type": "code",
   "execution_count": 18,
   "id": "2d10d93a",
   "metadata": {},
   "outputs": [
    {
     "data": {
      "text/plain": [
       "str"
      ]
     },
     "execution_count": 18,
     "metadata": {},
     "output_type": "execute_result"
    }
   ],
   "source": [
    "type(l1[2])"
   ]
  },
  {
   "cell_type": "code",
   "execution_count": 19,
   "id": "25d18a9c",
   "metadata": {},
   "outputs": [
    {
     "data": {
      "text/plain": [
       "'d'"
      ]
     },
     "execution_count": 19,
     "metadata": {},
     "output_type": "execute_result"
    }
   ],
   "source": [
    "l1[2][0]"
   ]
  },
  {
   "cell_type": "code",
   "execution_count": 20,
   "id": "486b3450",
   "metadata": {},
   "outputs": [
    {
     "ename": "TypeError",
     "evalue": "'str' object does not support item assignment",
     "output_type": "error",
     "traceback": [
      "\u001b[0;31m---------------------------------------------------------------------------\u001b[0m",
      "\u001b[0;31mTypeError\u001b[0m                                 Traceback (most recent call last)",
      "\u001b[0;32m/var/folders/2b/0jxdkpf53db2vxdxwsdgc1tc0000gn/T/ipykernel_4895/2564777203.py\u001b[0m in \u001b[0;36m<module>\u001b[0;34m\u001b[0m\n\u001b[0;32m----> 1\u001b[0;31m \u001b[0ml1\u001b[0m\u001b[0;34m[\u001b[0m\u001b[0;36m2\u001b[0m\u001b[0;34m]\u001b[0m\u001b[0;34m[\u001b[0m\u001b[0;36m1\u001b[0m\u001b[0;34m]\u001b[0m\u001b[0;34m=\u001b[0m\u001b[0;34m'z'\u001b[0m\u001b[0;34m\u001b[0m\u001b[0;34m\u001b[0m\u001b[0m\n\u001b[0m",
      "\u001b[0;31mTypeError\u001b[0m: 'str' object does not support item assignment"
     ]
    }
   ],
   "source": [
    "l1[2][1]='z'"
   ]
  },
  {
   "cell_type": "code",
   "execution_count": 21,
   "id": "28314414",
   "metadata": {},
   "outputs": [
    {
     "data": {
      "text/plain": [
       "[1, 12.34, 'daga', (2+3j), True]"
      ]
     },
     "execution_count": 21,
     "metadata": {},
     "output_type": "execute_result"
    }
   ],
   "source": [
    "l1"
   ]
  },
  {
   "cell_type": "code",
   "execution_count": 22,
   "id": "cc316fd0",
   "metadata": {},
   "outputs": [
    {
     "data": {
      "text/plain": [
       "1"
      ]
     },
     "execution_count": 22,
     "metadata": {},
     "output_type": "execute_result"
    }
   ],
   "source": [
    "l1[0]"
   ]
  },
  {
   "cell_type": "code",
   "execution_count": 23,
   "id": "2c9ed2ae",
   "metadata": {},
   "outputs": [],
   "source": [
    "l1[0]=5"
   ]
  },
  {
   "cell_type": "code",
   "execution_count": 24,
   "id": "a9b492a5",
   "metadata": {},
   "outputs": [
    {
     "data": {
      "text/plain": [
       "[5, 12.34, 'daga', (2+3j), True]"
      ]
     },
     "execution_count": 24,
     "metadata": {},
     "output_type": "execute_result"
    }
   ],
   "source": [
    "l1"
   ]
  },
  {
   "cell_type": "code",
   "execution_count": 25,
   "id": "e0cb9acb",
   "metadata": {},
   "outputs": [
    {
     "data": {
      "text/plain": [
       "[5, 12.34, 'daga', (2+3j), True]"
      ]
     },
     "execution_count": 25,
     "metadata": {},
     "output_type": "execute_result"
    }
   ],
   "source": [
    "l1"
   ]
  },
  {
   "cell_type": "code",
   "execution_count": 26,
   "id": "b8cb55da",
   "metadata": {},
   "outputs": [],
   "source": [
    "l2=[\"apdaga\", \"dumpbox\"]"
   ]
  },
  {
   "cell_type": "code",
   "execution_count": 27,
   "id": "28c85744",
   "metadata": {},
   "outputs": [
    {
     "data": {
      "text/plain": [
       "['apdaga', 'dumpbox']"
      ]
     },
     "execution_count": 27,
     "metadata": {},
     "output_type": "execute_result"
    }
   ],
   "source": [
    "l2"
   ]
  },
  {
   "cell_type": "code",
   "execution_count": 28,
   "id": "04df73dc",
   "metadata": {},
   "outputs": [
    {
     "data": {
      "text/plain": [
       "[5, 12.34, 'daga', (2+3j), True, 'apdaga', 'dumpbox']"
      ]
     },
     "execution_count": 28,
     "metadata": {},
     "output_type": "execute_result"
    }
   ],
   "source": [
    "l1 + l2"
   ]
  },
  {
   "cell_type": "code",
   "execution_count": 29,
   "id": "07301dae",
   "metadata": {},
   "outputs": [
    {
     "data": {
      "text/plain": [
       "[5, 12.34, 'daga', (2+3j), True]"
      ]
     },
     "execution_count": 29,
     "metadata": {},
     "output_type": "execute_result"
    }
   ],
   "source": [
    "l1"
   ]
  },
  {
   "cell_type": "code",
   "execution_count": 30,
   "id": "ec1f9b8f",
   "metadata": {},
   "outputs": [
    {
     "data": {
      "text/plain": [
       "[5, 12.34, 'daga', (2+3j), True, 5, 12.34, 'daga', (2+3j), True]"
      ]
     },
     "execution_count": 30,
     "metadata": {},
     "output_type": "execute_result"
    }
   ],
   "source": [
    "l1*2"
   ]
  },
  {
   "cell_type": "code",
   "execution_count": 31,
   "id": "bb4fa055",
   "metadata": {},
   "outputs": [
    {
     "data": {
      "text/plain": [
       "[5,\n",
       " 12.34,\n",
       " 'daga',\n",
       " (2+3j),\n",
       " True,\n",
       " 5,\n",
       " 12.34,\n",
       " 'daga',\n",
       " (2+3j),\n",
       " True,\n",
       " 5,\n",
       " 12.34,\n",
       " 'daga',\n",
       " (2+3j),\n",
       " True]"
      ]
     },
     "execution_count": 31,
     "metadata": {},
     "output_type": "execute_result"
    }
   ],
   "source": [
    "l1*3"
   ]
  },
  {
   "cell_type": "code",
   "execution_count": 32,
   "id": "6a5cbb87",
   "metadata": {},
   "outputs": [
    {
     "data": {
      "text/plain": [
       "[5, 12.34, 'daga', (2+3j), True]"
      ]
     },
     "execution_count": 32,
     "metadata": {},
     "output_type": "execute_result"
    }
   ],
   "source": [
    "l1"
   ]
  },
  {
   "cell_type": "code",
   "execution_count": 33,
   "id": "962840ac",
   "metadata": {},
   "outputs": [
    {
     "data": {
      "text/plain": [
       "True"
      ]
     },
     "execution_count": 33,
     "metadata": {},
     "output_type": "execute_result"
    }
   ],
   "source": [
    "l1[4]"
   ]
  },
  {
   "cell_type": "code",
   "execution_count": 34,
   "id": "0e6f9c59",
   "metadata": {},
   "outputs": [],
   "source": [
    "l1[4] = \"hi\""
   ]
  },
  {
   "cell_type": "code",
   "execution_count": 35,
   "id": "e4a86378",
   "metadata": {},
   "outputs": [
    {
     "data": {
      "text/plain": [
       "[5, 12.34, 'daga', (2+3j), 'hi']"
      ]
     },
     "execution_count": 35,
     "metadata": {},
     "output_type": "execute_result"
    }
   ],
   "source": [
    "l1"
   ]
  },
  {
   "cell_type": "code",
   "execution_count": 36,
   "id": "cee4a269",
   "metadata": {},
   "outputs": [
    {
     "data": {
      "text/plain": [
       "[5, 12.34, 'daga', (2+3j), 'hi']"
      ]
     },
     "execution_count": 36,
     "metadata": {},
     "output_type": "execute_result"
    }
   ],
   "source": [
    "l1"
   ]
  },
  {
   "cell_type": "code",
   "execution_count": 37,
   "id": "46dd7bf5",
   "metadata": {},
   "outputs": [],
   "source": [
    "l2 = [l1, 232, 454.23]"
   ]
  },
  {
   "cell_type": "code",
   "execution_count": 38,
   "id": "9699508a",
   "metadata": {},
   "outputs": [
    {
     "data": {
      "text/plain": [
       "[[5, 12.34, 'daga', (2+3j), 'hi'], 232, 454.23]"
      ]
     },
     "execution_count": 38,
     "metadata": {},
     "output_type": "execute_result"
    }
   ],
   "source": [
    "l2"
   ]
  },
  {
   "cell_type": "code",
   "execution_count": 39,
   "id": "d7ae1067",
   "metadata": {},
   "outputs": [
    {
     "data": {
      "text/plain": [
       "[5, 12.34, 'daga', (2+3j), 'hi']"
      ]
     },
     "execution_count": 39,
     "metadata": {},
     "output_type": "execute_result"
    }
   ],
   "source": [
    "l2[0]"
   ]
  },
  {
   "cell_type": "code",
   "execution_count": 40,
   "id": "0213cab7",
   "metadata": {},
   "outputs": [
    {
     "data": {
      "text/plain": [
       "232"
      ]
     },
     "execution_count": 40,
     "metadata": {},
     "output_type": "execute_result"
    }
   ],
   "source": [
    "l2[1]"
   ]
  },
  {
   "cell_type": "code",
   "execution_count": 42,
   "id": "160301e9",
   "metadata": {},
   "outputs": [
    {
     "data": {
      "text/plain": [
       "454.23"
      ]
     },
     "execution_count": 42,
     "metadata": {},
     "output_type": "execute_result"
    }
   ],
   "source": [
    "l2[2]"
   ]
  },
  {
   "cell_type": "code",
   "execution_count": 43,
   "id": "5a3f3f4a",
   "metadata": {},
   "outputs": [
    {
     "data": {
      "text/plain": [
       "5"
      ]
     },
     "execution_count": 43,
     "metadata": {},
     "output_type": "execute_result"
    }
   ],
   "source": [
    "l2[0][0]"
   ]
  },
  {
   "cell_type": "code",
   "execution_count": 44,
   "id": "e67f23ac",
   "metadata": {},
   "outputs": [
    {
     "data": {
      "text/plain": [
       "'daga'"
      ]
     },
     "execution_count": 44,
     "metadata": {},
     "output_type": "execute_result"
    }
   ],
   "source": [
    "l2[0][2]"
   ]
  },
  {
   "cell_type": "code",
   "execution_count": 45,
   "id": "bfd0096a",
   "metadata": {},
   "outputs": [
    {
     "data": {
      "text/plain": [
       "[5, 12.34, 'daga', (2+3j), 'hi']"
      ]
     },
     "execution_count": 45,
     "metadata": {},
     "output_type": "execute_result"
    }
   ],
   "source": [
    "l1"
   ]
  },
  {
   "cell_type": "code",
   "execution_count": 46,
   "id": "356ab292",
   "metadata": {},
   "outputs": [
    {
     "ename": "TypeError",
     "evalue": "can only concatenate list (not \"str\") to list",
     "output_type": "error",
     "traceback": [
      "\u001b[0;31m---------------------------------------------------------------------------\u001b[0m",
      "\u001b[0;31mTypeError\u001b[0m                                 Traceback (most recent call last)",
      "\u001b[0;32m/var/folders/2b/0jxdkpf53db2vxdxwsdgc1tc0000gn/T/ipykernel_4895/435340982.py\u001b[0m in \u001b[0;36m<module>\u001b[0;34m\u001b[0m\n\u001b[0;32m----> 1\u001b[0;31m \u001b[0ml1\u001b[0m \u001b[0;34m+\u001b[0m \u001b[0;34m\"hello\"\u001b[0m\u001b[0;34m\u001b[0m\u001b[0;34m\u001b[0m\u001b[0m\n\u001b[0m",
      "\u001b[0;31mTypeError\u001b[0m: can only concatenate list (not \"str\") to list"
     ]
    }
   ],
   "source": [
    "l1 + \"hello\""
   ]
  },
  {
   "cell_type": "code",
   "execution_count": 47,
   "id": "e30f9718",
   "metadata": {},
   "outputs": [
    {
     "data": {
      "text/plain": [
       "[5, 12.34, 'daga', (2+3j), 'hi', 'Hello']"
      ]
     },
     "execution_count": 47,
     "metadata": {},
     "output_type": "execute_result"
    }
   ],
   "source": [
    "l1 + [\"Hello\"]"
   ]
  },
  {
   "cell_type": "code",
   "execution_count": 48,
   "id": "db0884aa",
   "metadata": {},
   "outputs": [
    {
     "data": {
      "text/plain": [
       "[5, 12.34, 'daga', (2+3j), 'hi', 'h', 'e', 'l', 'l', 'o']"
      ]
     },
     "execution_count": 48,
     "metadata": {},
     "output_type": "execute_result"
    }
   ],
   "source": [
    "l1 + list(\"hello\")"
   ]
  },
  {
   "cell_type": "code",
   "execution_count": 49,
   "id": "b6658d48",
   "metadata": {},
   "outputs": [
    {
     "data": {
      "text/plain": [
       "['H', 'e', 'l', 'l', 'o']"
      ]
     },
     "execution_count": 49,
     "metadata": {},
     "output_type": "execute_result"
    }
   ],
   "source": [
    "list(\"Hello\")"
   ]
  },
  {
   "cell_type": "code",
   "execution_count": 50,
   "id": "923c41d5",
   "metadata": {},
   "outputs": [
    {
     "ename": "TypeError",
     "evalue": "can only concatenate list (not \"int\") to list",
     "output_type": "error",
     "traceback": [
      "\u001b[0;31m---------------------------------------------------------------------------\u001b[0m",
      "\u001b[0;31mTypeError\u001b[0m                                 Traceback (most recent call last)",
      "\u001b[0;32m/var/folders/2b/0jxdkpf53db2vxdxwsdgc1tc0000gn/T/ipykernel_4895/655024308.py\u001b[0m in \u001b[0;36m<module>\u001b[0;34m\u001b[0m\n\u001b[0;32m----> 1\u001b[0;31m \u001b[0ml1\u001b[0m \u001b[0;34m+\u001b[0m \u001b[0;36m34\u001b[0m\u001b[0;34m\u001b[0m\u001b[0;34m\u001b[0m\u001b[0m\n\u001b[0m",
      "\u001b[0;31mTypeError\u001b[0m: can only concatenate list (not \"int\") to list"
     ]
    }
   ],
   "source": [
    "l1 + 34"
   ]
  },
  {
   "cell_type": "code",
   "execution_count": 51,
   "id": "9ad16dd7",
   "metadata": {},
   "outputs": [
    {
     "data": {
      "text/plain": [
       "[5, 12.34, 'daga', (2+3j), 'hi', 34]"
      ]
     },
     "execution_count": 51,
     "metadata": {},
     "output_type": "execute_result"
    }
   ],
   "source": [
    "l1 + [34]"
   ]
  },
  {
   "cell_type": "code",
   "execution_count": null,
   "id": "5f961b7b",
   "metadata": {},
   "outputs": [],
   "source": []
  }
 ],
 "metadata": {
  "kernelspec": {
   "display_name": "Python 3 (ipykernel)",
   "language": "python",
   "name": "python3"
  },
  "language_info": {
   "codemirror_mode": {
    "name": "ipython",
    "version": 3
   },
   "file_extension": ".py",
   "mimetype": "text/x-python",
   "name": "python",
   "nbconvert_exporter": "python",
   "pygments_lexer": "ipython3",
   "version": "3.9.7"
  }
 },
 "nbformat": 4,
 "nbformat_minor": 5
}
