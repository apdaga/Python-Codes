{
 "cells": [
  {
   "cell_type": "code",
   "execution_count": 1,
   "id": "d69a7b05",
   "metadata": {},
   "outputs": [],
   "source": [
    "l1 = [1, 12.34, \"akshay\", 3+4j, False]"
   ]
  },
  {
   "cell_type": "code",
   "execution_count": 2,
   "id": "034056d1",
   "metadata": {},
   "outputs": [
    {
     "data": {
      "text/plain": [
       "[1, 12.34, 'akshay', (3+4j), False]"
      ]
     },
     "execution_count": 2,
     "metadata": {},
     "output_type": "execute_result"
    }
   ],
   "source": [
    "l1"
   ]
  },
  {
   "cell_type": "code",
   "execution_count": 3,
   "id": "82be7db5",
   "metadata": {},
   "outputs": [
    {
     "data": {
      "text/plain": [
       "5"
      ]
     },
     "execution_count": 3,
     "metadata": {},
     "output_type": "execute_result"
    }
   ],
   "source": [
    "len(l1)"
   ]
  },
  {
   "cell_type": "code",
   "execution_count": 4,
   "id": "d8c18a8d",
   "metadata": {},
   "outputs": [
    {
     "data": {
      "text/plain": [
       "True"
      ]
     },
     "execution_count": 4,
     "metadata": {},
     "output_type": "execute_result"
    }
   ],
   "source": [
    "'akshay' in l1"
   ]
  },
  {
   "cell_type": "code",
   "execution_count": 5,
   "id": "7b6c404a",
   "metadata": {},
   "outputs": [
    {
     "data": {
      "text/plain": [
       "False"
      ]
     },
     "execution_count": 5,
     "metadata": {},
     "output_type": "execute_result"
    }
   ],
   "source": [
    "'zzz' in l1"
   ]
  },
  {
   "cell_type": "code",
   "execution_count": 6,
   "id": "883e4429",
   "metadata": {},
   "outputs": [
    {
     "data": {
      "text/plain": [
       "True"
      ]
     },
     "execution_count": 6,
     "metadata": {},
     "output_type": "execute_result"
    }
   ],
   "source": [
    "1 in l1"
   ]
  },
  {
   "cell_type": "code",
   "execution_count": 7,
   "id": "c7ddbda5",
   "metadata": {},
   "outputs": [
    {
     "data": {
      "text/plain": [
       "True"
      ]
     },
     "execution_count": 7,
     "metadata": {},
     "output_type": "execute_result"
    }
   ],
   "source": [
    "12.34 in l1"
   ]
  },
  {
   "cell_type": "code",
   "execution_count": 8,
   "id": "0a4003c8",
   "metadata": {},
   "outputs": [
    {
     "data": {
      "text/plain": [
       "[1, 12.34, 'akshay', (3+4j), False]"
      ]
     },
     "execution_count": 8,
     "metadata": {},
     "output_type": "execute_result"
    }
   ],
   "source": [
    "l1"
   ]
  },
  {
   "cell_type": "code",
   "execution_count": 9,
   "id": "d8f6697c",
   "metadata": {},
   "outputs": [],
   "source": [
    "l1.append('daga')"
   ]
  },
  {
   "cell_type": "code",
   "execution_count": 10,
   "id": "20107105",
   "metadata": {},
   "outputs": [
    {
     "data": {
      "text/plain": [
       "[1, 12.34, 'akshay', (3+4j), False, 'daga']"
      ]
     },
     "execution_count": 10,
     "metadata": {},
     "output_type": "execute_result"
    }
   ],
   "source": [
    "l1"
   ]
  },
  {
   "cell_type": "code",
   "execution_count": 11,
   "id": "2522108d",
   "metadata": {},
   "outputs": [
    {
     "data": {
      "text/plain": [
       "[1, 12.34, 'akshay', (3+4j), False, 'daga', 'new']"
      ]
     },
     "execution_count": 11,
     "metadata": {},
     "output_type": "execute_result"
    }
   ],
   "source": [
    "l1 + [\"new\"]"
   ]
  },
  {
   "cell_type": "code",
   "execution_count": 12,
   "id": "c72743c9",
   "metadata": {},
   "outputs": [
    {
     "data": {
      "text/plain": [
       "[1, 12.34, 'akshay', (3+4j), False, 'daga']"
      ]
     },
     "execution_count": 12,
     "metadata": {},
     "output_type": "execute_result"
    }
   ],
   "source": [
    "l1"
   ]
  },
  {
   "cell_type": "code",
   "execution_count": 13,
   "id": "74edab78",
   "metadata": {},
   "outputs": [],
   "source": [
    "l1.insert(3, 'apdaga')"
   ]
  },
  {
   "cell_type": "code",
   "execution_count": 14,
   "id": "047ca655",
   "metadata": {},
   "outputs": [
    {
     "data": {
      "text/plain": [
       "[1, 12.34, 'akshay', 'apdaga', (3+4j), False, 'daga']"
      ]
     },
     "execution_count": 14,
     "metadata": {},
     "output_type": "execute_result"
    }
   ],
   "source": [
    "l1"
   ]
  },
  {
   "cell_type": "code",
   "execution_count": 15,
   "id": "6b9835a8",
   "metadata": {},
   "outputs": [
    {
     "data": {
      "text/plain": [
       "'daga'"
      ]
     },
     "execution_count": 15,
     "metadata": {},
     "output_type": "execute_result"
    }
   ],
   "source": [
    "l1.pop()"
   ]
  },
  {
   "cell_type": "code",
   "execution_count": 16,
   "id": "704753b6",
   "metadata": {},
   "outputs": [
    {
     "data": {
      "text/plain": [
       "[1, 12.34, 'akshay', 'apdaga', (3+4j), False]"
      ]
     },
     "execution_count": 16,
     "metadata": {},
     "output_type": "execute_result"
    }
   ],
   "source": [
    "l1"
   ]
  },
  {
   "cell_type": "code",
   "execution_count": 17,
   "id": "23331f52",
   "metadata": {},
   "outputs": [
    {
     "data": {
      "text/plain": [
       "'apdaga'"
      ]
     },
     "execution_count": 17,
     "metadata": {},
     "output_type": "execute_result"
    }
   ],
   "source": [
    "l1.pop(3)"
   ]
  },
  {
   "cell_type": "code",
   "execution_count": 18,
   "id": "d80b8dc6",
   "metadata": {},
   "outputs": [
    {
     "data": {
      "text/plain": [
       "[1, 12.34, 'akshay', (3+4j), False]"
      ]
     },
     "execution_count": 18,
     "metadata": {},
     "output_type": "execute_result"
    }
   ],
   "source": [
    "l1"
   ]
  },
  {
   "cell_type": "code",
   "execution_count": 19,
   "id": "f511022d",
   "metadata": {},
   "outputs": [
    {
     "data": {
      "text/plain": [
       "[False, (3+4j), 'akshay', 12.34, 1]"
      ]
     },
     "execution_count": 19,
     "metadata": {},
     "output_type": "execute_result"
    }
   ],
   "source": [
    "l1[::-1]"
   ]
  },
  {
   "cell_type": "code",
   "execution_count": 20,
   "id": "c2da0a73",
   "metadata": {},
   "outputs": [
    {
     "data": {
      "text/plain": [
       "[1, 12.34, 'akshay', (3+4j), False]"
      ]
     },
     "execution_count": 20,
     "metadata": {},
     "output_type": "execute_result"
    }
   ],
   "source": [
    "l1"
   ]
  },
  {
   "cell_type": "code",
   "execution_count": 21,
   "id": "27d69cfc",
   "metadata": {},
   "outputs": [],
   "source": [
    "l1.reverse()"
   ]
  },
  {
   "cell_type": "code",
   "execution_count": 22,
   "id": "79819f36",
   "metadata": {},
   "outputs": [
    {
     "data": {
      "text/plain": [
       "[False, (3+4j), 'akshay', 12.34, 1]"
      ]
     },
     "execution_count": 22,
     "metadata": {},
     "output_type": "execute_result"
    }
   ],
   "source": [
    "l1"
   ]
  },
  {
   "cell_type": "code",
   "execution_count": 23,
   "id": "0864cf8d",
   "metadata": {},
   "outputs": [],
   "source": [
    "l1.reverse()"
   ]
  },
  {
   "cell_type": "code",
   "execution_count": 24,
   "id": "a074c0f4",
   "metadata": {},
   "outputs": [
    {
     "data": {
      "text/plain": [
       "[1, 12.34, 'akshay', (3+4j), False]"
      ]
     },
     "execution_count": 24,
     "metadata": {},
     "output_type": "execute_result"
    }
   ],
   "source": [
    "l1"
   ]
  },
  {
   "cell_type": "code",
   "execution_count": 25,
   "id": "a9451eb5",
   "metadata": {},
   "outputs": [
    {
     "data": {
      "text/plain": [
       "[1, 12.34, 'akshay', (3+4j), False]"
      ]
     },
     "execution_count": 25,
     "metadata": {},
     "output_type": "execute_result"
    }
   ],
   "source": [
    "l1"
   ]
  },
  {
   "cell_type": "code",
   "execution_count": 26,
   "id": "448fc311",
   "metadata": {},
   "outputs": [],
   "source": [
    "l1.append([1,2,3])"
   ]
  },
  {
   "cell_type": "code",
   "execution_count": 27,
   "id": "485ed4ab",
   "metadata": {},
   "outputs": [
    {
     "data": {
      "text/plain": [
       "[1, 12.34, 'akshay', (3+4j), False, [1, 2, 3]]"
      ]
     },
     "execution_count": 27,
     "metadata": {},
     "output_type": "execute_result"
    }
   ],
   "source": [
    "l1"
   ]
  },
  {
   "cell_type": "code",
   "execution_count": 28,
   "id": "6eadf0d2",
   "metadata": {},
   "outputs": [],
   "source": [
    "l1.extend([4,5,6])"
   ]
  },
  {
   "cell_type": "code",
   "execution_count": 29,
   "id": "398e25b4",
   "metadata": {},
   "outputs": [
    {
     "data": {
      "text/plain": [
       "[1, 12.34, 'akshay', (3+4j), False, [1, 2, 3], 4, 5, 6]"
      ]
     },
     "execution_count": 29,
     "metadata": {},
     "output_type": "execute_result"
    }
   ],
   "source": [
    "l1"
   ]
  },
  {
   "cell_type": "code",
   "execution_count": 30,
   "id": "ec2a2b75",
   "metadata": {},
   "outputs": [
    {
     "ename": "TypeError",
     "evalue": "'int' object is not iterable",
     "output_type": "error",
     "traceback": [
      "\u001b[0;31m---------------------------------------------------------------------------\u001b[0m",
      "\u001b[0;31mTypeError\u001b[0m                                 Traceback (most recent call last)",
      "\u001b[0;32m/var/folders/2b/0jxdkpf53db2vxdxwsdgc1tc0000gn/T/ipykernel_5028/3386512251.py\u001b[0m in \u001b[0;36m<module>\u001b[0;34m\u001b[0m\n\u001b[0;32m----> 1\u001b[0;31m \u001b[0ml1\u001b[0m\u001b[0;34m.\u001b[0m\u001b[0mextend\u001b[0m\u001b[0;34m(\u001b[0m\u001b[0;36m25\u001b[0m\u001b[0;34m)\u001b[0m\u001b[0;34m\u001b[0m\u001b[0;34m\u001b[0m\u001b[0m\n\u001b[0m",
      "\u001b[0;31mTypeError\u001b[0m: 'int' object is not iterable"
     ]
    }
   ],
   "source": [
    "l1.extend(25)"
   ]
  },
  {
   "cell_type": "code",
   "execution_count": 31,
   "id": "9a8cc2b1",
   "metadata": {},
   "outputs": [],
   "source": [
    "l1.extend(\"newstr\")"
   ]
  },
  {
   "cell_type": "code",
   "execution_count": 32,
   "id": "e14665d8",
   "metadata": {},
   "outputs": [
    {
     "data": {
      "text/plain": [
       "[1,\n",
       " 12.34,\n",
       " 'akshay',\n",
       " (3+4j),\n",
       " False,\n",
       " [1, 2, 3],\n",
       " 4,\n",
       " 5,\n",
       " 6,\n",
       " 'n',\n",
       " 'e',\n",
       " 'w',\n",
       " 's',\n",
       " 't',\n",
       " 'r']"
      ]
     },
     "execution_count": 32,
     "metadata": {},
     "output_type": "execute_result"
    }
   ],
   "source": [
    "l1"
   ]
  },
  {
   "cell_type": "code",
   "execution_count": 33,
   "id": "f8ab1251",
   "metadata": {},
   "outputs": [],
   "source": [
    "l1.append(\"hi\")"
   ]
  },
  {
   "cell_type": "code",
   "execution_count": 34,
   "id": "16a73b9e",
   "metadata": {},
   "outputs": [
    {
     "data": {
      "text/plain": [
       "[1,\n",
       " 12.34,\n",
       " 'akshay',\n",
       " (3+4j),\n",
       " False,\n",
       " [1, 2, 3],\n",
       " 4,\n",
       " 5,\n",
       " 6,\n",
       " 'n',\n",
       " 'e',\n",
       " 'w',\n",
       " 's',\n",
       " 't',\n",
       " 'r',\n",
       " 'hi']"
      ]
     },
     "execution_count": 34,
     "metadata": {},
     "output_type": "execute_result"
    }
   ],
   "source": [
    "l1"
   ]
  },
  {
   "cell_type": "code",
   "execution_count": null,
   "id": "429a6a4d",
   "metadata": {},
   "outputs": [],
   "source": []
  }
 ],
 "metadata": {
  "kernelspec": {
   "display_name": "Python 3 (ipykernel)",
   "language": "python",
   "name": "python3"
  },
  "language_info": {
   "codemirror_mode": {
    "name": "ipython",
    "version": 3
   },
   "file_extension": ".py",
   "mimetype": "text/x-python",
   "name": "python",
   "nbconvert_exporter": "python",
   "pygments_lexer": "ipython3",
   "version": "3.9.7"
  }
 },
 "nbformat": 4,
 "nbformat_minor": 5
}
