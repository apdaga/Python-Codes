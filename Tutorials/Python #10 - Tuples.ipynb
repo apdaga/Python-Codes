{
 "cells": [
  {
   "cell_type": "markdown",
   "id": "b2075e91",
   "metadata": {},
   "source": [
    "# Tuples"
   ]
  },
  {
   "cell_type": "code",
   "execution_count": 35,
   "id": "398a901f",
   "metadata": {},
   "outputs": [],
   "source": [
    "# List -> []\n",
    "# Tuple -> ()"
   ]
  },
  {
   "cell_type": "code",
   "execution_count": 36,
   "id": "53d87c51",
   "metadata": {},
   "outputs": [],
   "source": [
    "l1 = [1,2,3,4,5]"
   ]
  },
  {
   "cell_type": "code",
   "execution_count": 37,
   "id": "7a049eff",
   "metadata": {},
   "outputs": [],
   "source": [
    "l1[0] = 8"
   ]
  },
  {
   "cell_type": "code",
   "execution_count": 38,
   "id": "4c867cd8",
   "metadata": {},
   "outputs": [
    {
     "data": {
      "text/plain": [
       "[8, 2, 3, 4, 5]"
      ]
     },
     "execution_count": 38,
     "metadata": {},
     "output_type": "execute_result"
    }
   ],
   "source": [
    "l1"
   ]
  },
  {
   "cell_type": "code",
   "execution_count": 39,
   "id": "c6dab536",
   "metadata": {},
   "outputs": [],
   "source": [
    "t1 = (1,12.3,'akshay',3+4j,True)"
   ]
  },
  {
   "cell_type": "code",
   "execution_count": 40,
   "id": "04f247bd",
   "metadata": {},
   "outputs": [
    {
     "data": {
      "text/plain": [
       "(1, 12.3, 'akshay', (3+4j), True)"
      ]
     },
     "execution_count": 40,
     "metadata": {},
     "output_type": "execute_result"
    }
   ],
   "source": [
    "t1"
   ]
  },
  {
   "cell_type": "code",
   "execution_count": 41,
   "id": "3c5b1851",
   "metadata": {},
   "outputs": [
    {
     "data": {
      "text/plain": [
       "5"
      ]
     },
     "execution_count": 41,
     "metadata": {},
     "output_type": "execute_result"
    }
   ],
   "source": [
    "len(t1)"
   ]
  },
  {
   "cell_type": "code",
   "execution_count": 42,
   "id": "30143e00",
   "metadata": {},
   "outputs": [
    {
     "data": {
      "text/plain": [
       "(1, 12.3, 'akshay', (3+4j), True)"
      ]
     },
     "execution_count": 42,
     "metadata": {},
     "output_type": "execute_result"
    }
   ],
   "source": [
    "t1"
   ]
  },
  {
   "cell_type": "code",
   "execution_count": 43,
   "id": "ff7d9c9e",
   "metadata": {},
   "outputs": [
    {
     "data": {
      "text/plain": [
       "'akshay'"
      ]
     },
     "execution_count": 43,
     "metadata": {},
     "output_type": "execute_result"
    }
   ],
   "source": [
    "t1[2]"
   ]
  },
  {
   "cell_type": "code",
   "execution_count": 44,
   "id": "c7875d2d",
   "metadata": {},
   "outputs": [
    {
     "data": {
      "text/plain": [
       "True"
      ]
     },
     "execution_count": 44,
     "metadata": {},
     "output_type": "execute_result"
    }
   ],
   "source": [
    "t1[-1]"
   ]
  },
  {
   "cell_type": "code",
   "execution_count": 45,
   "id": "79e4a8ce",
   "metadata": {},
   "outputs": [
    {
     "data": {
      "text/plain": [
       "(1, 12.3, 'akshay', (3+4j))"
      ]
     },
     "execution_count": 45,
     "metadata": {},
     "output_type": "execute_result"
    }
   ],
   "source": [
    "t1[0:4]"
   ]
  },
  {
   "cell_type": "code",
   "execution_count": 46,
   "id": "46e94999",
   "metadata": {},
   "outputs": [],
   "source": [
    "t2 = (2,3,4,5)"
   ]
  },
  {
   "cell_type": "code",
   "execution_count": 47,
   "id": "45384432",
   "metadata": {},
   "outputs": [
    {
     "data": {
      "text/plain": [
       "(2, 3, 4, 5)"
      ]
     },
     "execution_count": 47,
     "metadata": {},
     "output_type": "execute_result"
    }
   ],
   "source": [
    "t2"
   ]
  },
  {
   "cell_type": "code",
   "execution_count": 48,
   "id": "695d3854",
   "metadata": {},
   "outputs": [
    {
     "data": {
      "text/plain": [
       "(1, 12.3, 'akshay', (3+4j), True)"
      ]
     },
     "execution_count": 48,
     "metadata": {},
     "output_type": "execute_result"
    }
   ],
   "source": [
    "t1"
   ]
  },
  {
   "cell_type": "code",
   "execution_count": 49,
   "id": "c1cc781d",
   "metadata": {},
   "outputs": [
    {
     "data": {
      "text/plain": [
       "(1, 12.3, 'akshay', (3+4j), True, 2, 3, 4, 5)"
      ]
     },
     "execution_count": 49,
     "metadata": {},
     "output_type": "execute_result"
    }
   ],
   "source": [
    "t1 + t2"
   ]
  },
  {
   "cell_type": "code",
   "execution_count": 50,
   "id": "264c010f",
   "metadata": {},
   "outputs": [
    {
     "data": {
      "text/plain": [
       "(1, 12.3, 'akshay', (3+4j), True, 1, 12.3, 'akshay', (3+4j), True)"
      ]
     },
     "execution_count": 50,
     "metadata": {},
     "output_type": "execute_result"
    }
   ],
   "source": [
    "t1 * 2"
   ]
  },
  {
   "cell_type": "code",
   "execution_count": 51,
   "id": "3350611a",
   "metadata": {},
   "outputs": [
    {
     "data": {
      "text/plain": [
       "(2, 3, 4, 5, 2, 3, 4, 5, 2, 3, 4, 5)"
      ]
     },
     "execution_count": 51,
     "metadata": {},
     "output_type": "execute_result"
    }
   ],
   "source": [
    "t2 * 3"
   ]
  },
  {
   "cell_type": "code",
   "execution_count": 52,
   "id": "7553c8ce",
   "metadata": {},
   "outputs": [],
   "source": [
    "t3= (1,12.3,'akshay', (1,2,3))"
   ]
  },
  {
   "cell_type": "code",
   "execution_count": 53,
   "id": "a661ca36",
   "metadata": {},
   "outputs": [
    {
     "data": {
      "text/plain": [
       "(1, 12.3, 'akshay', (1, 2, 3))"
      ]
     },
     "execution_count": 53,
     "metadata": {},
     "output_type": "execute_result"
    }
   ],
   "source": [
    "t3"
   ]
  },
  {
   "cell_type": "code",
   "execution_count": 54,
   "id": "e5d82a80",
   "metadata": {},
   "outputs": [
    {
     "data": {
      "text/plain": [
       "(1, 2, 3)"
      ]
     },
     "execution_count": 54,
     "metadata": {},
     "output_type": "execute_result"
    }
   ],
   "source": [
    "t3[3]"
   ]
  },
  {
   "cell_type": "code",
   "execution_count": 55,
   "id": "6682bd27",
   "metadata": {},
   "outputs": [],
   "source": [
    "t4 = (1,12.3,'akshay', (1,2,3), [5,6,7])"
   ]
  },
  {
   "cell_type": "code",
   "execution_count": 56,
   "id": "39c19769",
   "metadata": {},
   "outputs": [
    {
     "data": {
      "text/plain": [
       "(1, 12.3, 'akshay', (1, 2, 3), [5, 6, 7])"
      ]
     },
     "execution_count": 56,
     "metadata": {},
     "output_type": "execute_result"
    }
   ],
   "source": [
    "t4"
   ]
  },
  {
   "cell_type": "code",
   "execution_count": 57,
   "id": "22e5fd38",
   "metadata": {},
   "outputs": [
    {
     "data": {
      "text/plain": [
       "[5, 6, 7]"
      ]
     },
     "execution_count": 57,
     "metadata": {},
     "output_type": "execute_result"
    }
   ],
   "source": [
    "t4[4]"
   ]
  },
  {
   "cell_type": "code",
   "execution_count": 59,
   "id": "12f29473",
   "metadata": {},
   "outputs": [
    {
     "ename": "TypeError",
     "evalue": "'tuple' object does not support item assignment",
     "output_type": "error",
     "traceback": [
      "\u001b[0;31m---------------------------------------------------------------------------\u001b[0m",
      "\u001b[0;31mTypeError\u001b[0m                                 Traceback (most recent call last)",
      "\u001b[0;32m/var/folders/2b/0jxdkpf53db2vxdxwsdgc1tc0000gn/T/ipykernel_2472/1008104652.py\u001b[0m in \u001b[0;36m<module>\u001b[0;34m\u001b[0m\n\u001b[0;32m----> 1\u001b[0;31m \u001b[0mt4\u001b[0m\u001b[0;34m[\u001b[0m\u001b[0;36m0\u001b[0m\u001b[0;34m]\u001b[0m \u001b[0;34m=\u001b[0m \u001b[0;36m9\u001b[0m\u001b[0;34m\u001b[0m\u001b[0;34m\u001b[0m\u001b[0m\n\u001b[0m",
      "\u001b[0;31mTypeError\u001b[0m: 'tuple' object does not support item assignment"
     ]
    }
   ],
   "source": [
    "t4[0] = 9"
   ]
  },
  {
   "cell_type": "code",
   "execution_count": 64,
   "id": "05bec838",
   "metadata": {},
   "outputs": [
    {
     "data": {
      "text/plain": [
       "list"
      ]
     },
     "execution_count": 64,
     "metadata": {},
     "output_type": "execute_result"
    }
   ],
   "source": [
    "type(t4[4])"
   ]
  },
  {
   "cell_type": "code",
   "execution_count": 65,
   "id": "9a3ae69f",
   "metadata": {},
   "outputs": [
    {
     "data": {
      "text/plain": [
       "[5, 6, 7]"
      ]
     },
     "execution_count": 65,
     "metadata": {},
     "output_type": "execute_result"
    }
   ],
   "source": [
    "t4[4]"
   ]
  },
  {
   "cell_type": "code",
   "execution_count": 67,
   "id": "62c51401",
   "metadata": {},
   "outputs": [],
   "source": [
    "t4[4][0] = 10"
   ]
  },
  {
   "cell_type": "code",
   "execution_count": 68,
   "id": "942d65b8",
   "metadata": {},
   "outputs": [
    {
     "data": {
      "text/plain": [
       "(1, 12.3, 'akshay', (1, 2, 3), [10, 6, 7])"
      ]
     },
     "execution_count": 68,
     "metadata": {},
     "output_type": "execute_result"
    }
   ],
   "source": [
    "t4"
   ]
  },
  {
   "cell_type": "code",
   "execution_count": 69,
   "id": "65e1a68f",
   "metadata": {},
   "outputs": [
    {
     "data": {
      "text/plain": [
       "[8, 2, 3, 4, 5]"
      ]
     },
     "execution_count": 69,
     "metadata": {},
     "output_type": "execute_result"
    }
   ],
   "source": [
    "l1"
   ]
  },
  {
   "cell_type": "code",
   "execution_count": 70,
   "id": "e8013377",
   "metadata": {},
   "outputs": [],
   "source": [
    "l1.append((1,2,3))"
   ]
  },
  {
   "cell_type": "code",
   "execution_count": 71,
   "id": "38c07e98",
   "metadata": {},
   "outputs": [
    {
     "data": {
      "text/plain": [
       "[8, 2, 3, 4, 5, (1, 2, 3)]"
      ]
     },
     "execution_count": 71,
     "metadata": {},
     "output_type": "execute_result"
    }
   ],
   "source": [
    "l1"
   ]
  },
  {
   "cell_type": "code",
   "execution_count": 72,
   "id": "4f40e57d",
   "metadata": {},
   "outputs": [
    {
     "data": {
      "text/plain": [
       "(1, 2, 3)"
      ]
     },
     "execution_count": 72,
     "metadata": {},
     "output_type": "execute_result"
    }
   ],
   "source": [
    "l1[-1]"
   ]
  },
  {
   "cell_type": "code",
   "execution_count": 73,
   "id": "a8471f36",
   "metadata": {},
   "outputs": [
    {
     "data": {
      "text/plain": [
       "(1, 12.3, 'akshay', (1, 2, 3), [10, 6, 7])"
      ]
     },
     "execution_count": 73,
     "metadata": {},
     "output_type": "execute_result"
    }
   ],
   "source": [
    "t4"
   ]
  },
  {
   "cell_type": "code",
   "execution_count": 74,
   "id": "9b89f69e",
   "metadata": {},
   "outputs": [
    {
     "data": {
      "text/plain": [
       "1"
      ]
     },
     "execution_count": 74,
     "metadata": {},
     "output_type": "execute_result"
    }
   ],
   "source": [
    "t4.count(12.3)"
   ]
  },
  {
   "cell_type": "code",
   "execution_count": 75,
   "id": "49db10b0",
   "metadata": {},
   "outputs": [
    {
     "data": {
      "text/plain": [
       "1"
      ]
     },
     "execution_count": 75,
     "metadata": {},
     "output_type": "execute_result"
    }
   ],
   "source": [
    "t4.index(12.3)"
   ]
  },
  {
   "cell_type": "code",
   "execution_count": 77,
   "id": "4a8b2bab",
   "metadata": {},
   "outputs": [
    {
     "data": {
      "text/plain": [
       "2"
      ]
     },
     "execution_count": 77,
     "metadata": {},
     "output_type": "execute_result"
    }
   ],
   "source": [
    "t4.index('akshay')"
   ]
  },
  {
   "cell_type": "code",
   "execution_count": 78,
   "id": "58949542",
   "metadata": {},
   "outputs": [],
   "source": [
    "t5 = (1, 12.3, 'akshay', (1, 2, 3), [10, 6, 7], 'akshay')"
   ]
  },
  {
   "cell_type": "code",
   "execution_count": 79,
   "id": "3b46e4b3",
   "metadata": {},
   "outputs": [
    {
     "data": {
      "text/plain": [
       "(1, 12.3, 'akshay', (1, 2, 3), [10, 6, 7], 'akshay')"
      ]
     },
     "execution_count": 79,
     "metadata": {},
     "output_type": "execute_result"
    }
   ],
   "source": [
    "t5"
   ]
  },
  {
   "cell_type": "code",
   "execution_count": 80,
   "id": "4beb3d03",
   "metadata": {},
   "outputs": [
    {
     "data": {
      "text/plain": [
       "2"
      ]
     },
     "execution_count": 80,
     "metadata": {},
     "output_type": "execute_result"
    }
   ],
   "source": [
    "t5.index('akshay')"
   ]
  },
  {
   "cell_type": "code",
   "execution_count": 82,
   "id": "8eef2fca",
   "metadata": {},
   "outputs": [],
   "source": [
    "l5 = list(t5)"
   ]
  },
  {
   "cell_type": "code",
   "execution_count": 83,
   "id": "532d2571",
   "metadata": {},
   "outputs": [
    {
     "data": {
      "text/plain": [
       "[1, 12.3, 'akshay', (1, 2, 3), [10, 6, 7], 'akshay']"
      ]
     },
     "execution_count": 83,
     "metadata": {},
     "output_type": "execute_result"
    }
   ],
   "source": [
    "l5"
   ]
  },
  {
   "cell_type": "code",
   "execution_count": 85,
   "id": "2fbde280",
   "metadata": {},
   "outputs": [],
   "source": [
    "t6 = tuple(l5)"
   ]
  },
  {
   "cell_type": "code",
   "execution_count": 86,
   "id": "74a3ce6f",
   "metadata": {},
   "outputs": [
    {
     "data": {
      "text/plain": [
       "(1, 12.3, 'akshay', (1, 2, 3), [10, 6, 7], 'akshay')"
      ]
     },
     "execution_count": 86,
     "metadata": {},
     "output_type": "execute_result"
    }
   ],
   "source": [
    "t6"
   ]
  },
  {
   "cell_type": "code",
   "execution_count": null,
   "id": "c9306851",
   "metadata": {},
   "outputs": [],
   "source": []
  }
 ],
 "metadata": {
  "kernelspec": {
   "display_name": "Python 3 (ipykernel)",
   "language": "python",
   "name": "python3"
  },
  "language_info": {
   "codemirror_mode": {
    "name": "ipython",
    "version": 3
   },
   "file_extension": ".py",
   "mimetype": "text/x-python",
   "name": "python",
   "nbconvert_exporter": "python",
   "pygments_lexer": "ipython3",
   "version": "3.9.7"
  }
 },
 "nbformat": 4,
 "nbformat_minor": 5
}
