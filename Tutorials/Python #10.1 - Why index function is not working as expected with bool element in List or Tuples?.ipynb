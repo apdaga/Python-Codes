{
 "cells": [
  {
   "cell_type": "markdown",
   "id": "ffe4ec48",
   "metadata": {},
   "source": [
    "# Why index function is not working as expected with bool element in List / Tuples?"
   ]
  },
  {
   "cell_type": "code",
   "execution_count": 5,
   "id": "700e27a2",
   "metadata": {},
   "outputs": [],
   "source": [
    "t1 = (2, 3, 5.7, 3, 2, True, 3+5j, 'akshay')"
   ]
  },
  {
   "cell_type": "code",
   "execution_count": 6,
   "id": "6b2a49c5",
   "metadata": {},
   "outputs": [
    {
     "data": {
      "text/plain": [
       "(2, 3, 5.7, 3, 2, True, (3+5j), 'akshay')"
      ]
     },
     "execution_count": 6,
     "metadata": {},
     "output_type": "execute_result"
    }
   ],
   "source": [
    "t1"
   ]
  },
  {
   "cell_type": "code",
   "execution_count": 7,
   "id": "29b0175a",
   "metadata": {},
   "outputs": [
    {
     "data": {
      "text/plain": [
       "7"
      ]
     },
     "execution_count": 7,
     "metadata": {},
     "output_type": "execute_result"
    }
   ],
   "source": [
    "t1.index('akshay')"
   ]
  },
  {
   "cell_type": "code",
   "execution_count": 8,
   "id": "b808ae16",
   "metadata": {},
   "outputs": [
    {
     "data": {
      "text/plain": [
       "1"
      ]
     },
     "execution_count": 8,
     "metadata": {},
     "output_type": "execute_result"
    }
   ],
   "source": [
    "t1.index(3)"
   ]
  },
  {
   "cell_type": "code",
   "execution_count": 9,
   "id": "95a08814",
   "metadata": {},
   "outputs": [
    {
     "data": {
      "text/plain": [
       "5"
      ]
     },
     "execution_count": 9,
     "metadata": {},
     "output_type": "execute_result"
    }
   ],
   "source": [
    "t1.index(True)"
   ]
  },
  {
   "cell_type": "code",
   "execution_count": 10,
   "id": "c28b3892",
   "metadata": {},
   "outputs": [],
   "source": [
    "t1 = (2, 3, 1, 0, 5.7, 3, 2, True, 3+5j, 'akshay', False)"
   ]
  },
  {
   "cell_type": "code",
   "execution_count": 11,
   "id": "c477160c",
   "metadata": {},
   "outputs": [
    {
     "data": {
      "text/plain": [
       "(2, 3, 1, 0, 5.7, 3, 2, True, (3+5j), 'akshay', False)"
      ]
     },
     "execution_count": 11,
     "metadata": {},
     "output_type": "execute_result"
    }
   ],
   "source": [
    "t1"
   ]
  },
  {
   "cell_type": "code",
   "execution_count": 12,
   "id": "433dfe01",
   "metadata": {},
   "outputs": [
    {
     "data": {
      "text/plain": [
       "2"
      ]
     },
     "execution_count": 12,
     "metadata": {},
     "output_type": "execute_result"
    }
   ],
   "source": [
    "t1.index(True)"
   ]
  },
  {
   "cell_type": "code",
   "execution_count": 13,
   "id": "261e9963",
   "metadata": {},
   "outputs": [
    {
     "data": {
      "text/plain": [
       "3"
      ]
     },
     "execution_count": 13,
     "metadata": {},
     "output_type": "execute_result"
    }
   ],
   "source": [
    "t1.index(False)"
   ]
  },
  {
   "cell_type": "code",
   "execution_count": null,
   "id": "8c958a09",
   "metadata": {},
   "outputs": [],
   "source": []
  }
 ],
 "metadata": {
  "kernelspec": {
   "display_name": "Python 3 (ipykernel)",
   "language": "python",
   "name": "python3"
  },
  "language_info": {
   "codemirror_mode": {
    "name": "ipython",
    "version": 3
   },
   "file_extension": ".py",
   "mimetype": "text/x-python",
   "name": "python",
   "nbconvert_exporter": "python",
   "pygments_lexer": "ipython3",
   "version": "3.9.7"
  }
 },
 "nbformat": 4,
 "nbformat_minor": 5
}
