{
 "cells": [
  {
   "cell_type": "markdown",
   "id": "c04bc5a4",
   "metadata": {},
   "source": [
    "# Dictionary"
   ]
  },
  {
   "cell_type": "code",
   "execution_count": 2,
   "id": "23257ab2",
   "metadata": {},
   "outputs": [],
   "source": [
    "# list -> []\n",
    "# tuple -> ()\n",
    "# set -> {}\n",
    "# dictionary -> {}"
   ]
  },
  {
   "cell_type": "code",
   "execution_count": 5,
   "id": "f44e1ae8",
   "metadata": {},
   "outputs": [],
   "source": [
    "d = {1}"
   ]
  },
  {
   "cell_type": "code",
   "execution_count": 6,
   "id": "aa0b599c",
   "metadata": {},
   "outputs": [
    {
     "data": {
      "text/plain": [
       "set"
      ]
     },
     "execution_count": 6,
     "metadata": {},
     "output_type": "execute_result"
    }
   ],
   "source": [
    "type(d)"
   ]
  },
  {
   "cell_type": "code",
   "execution_count": 7,
   "id": "bb40f7e4",
   "metadata": {},
   "outputs": [],
   "source": [
    "d1 = {1:\"One\", 2:\"Two\", 3:\"Three\"}"
   ]
  },
  {
   "cell_type": "code",
   "execution_count": 8,
   "id": "5223b7c2",
   "metadata": {},
   "outputs": [
    {
     "data": {
      "text/plain": [
       "dict"
      ]
     },
     "execution_count": 8,
     "metadata": {},
     "output_type": "execute_result"
    }
   ],
   "source": [
    "type(d1)"
   ]
  },
  {
   "cell_type": "code",
   "execution_count": 9,
   "id": "568f6601",
   "metadata": {},
   "outputs": [
    {
     "data": {
      "text/plain": [
       "'One'"
      ]
     },
     "execution_count": 9,
     "metadata": {},
     "output_type": "execute_result"
    }
   ],
   "source": [
    "d1[1]"
   ]
  },
  {
   "cell_type": "code",
   "execution_count": 10,
   "id": "5bff58f3",
   "metadata": {},
   "outputs": [
    {
     "data": {
      "text/plain": [
       "'Two'"
      ]
     },
     "execution_count": 10,
     "metadata": {},
     "output_type": "execute_result"
    }
   ],
   "source": [
    "d1[2]"
   ]
  },
  {
   "cell_type": "code",
   "execution_count": 11,
   "id": "13896a27",
   "metadata": {},
   "outputs": [
    {
     "data": {
      "text/plain": [
       "'Three'"
      ]
     },
     "execution_count": 11,
     "metadata": {},
     "output_type": "execute_result"
    }
   ],
   "source": [
    "d1[3]"
   ]
  },
  {
   "cell_type": "code",
   "execution_count": 12,
   "id": "aaa2a298",
   "metadata": {},
   "outputs": [],
   "source": [
    "d2 = {1:2131, 2:\"Two\", 3:4+6j, 4:True, 5:[1,2,3], 6:(7,8,9), 7:\"Two\", 8:{34,45}, 9:32.4}"
   ]
  },
  {
   "cell_type": "code",
   "execution_count": 13,
   "id": "e51e89b0",
   "metadata": {},
   "outputs": [
    {
     "data": {
      "text/plain": [
       "{1: 2131,\n",
       " 2: 'Two',\n",
       " 3: (4+6j),\n",
       " 4: True,\n",
       " 5: [1, 2, 3],\n",
       " 6: (7, 8, 9),\n",
       " 7: 'Two',\n",
       " 8: {34, 45},\n",
       " 9: 32.4}"
      ]
     },
     "execution_count": 13,
     "metadata": {},
     "output_type": "execute_result"
    }
   ],
   "source": [
    "d2"
   ]
  },
  {
   "cell_type": "code",
   "execution_count": 14,
   "id": "58a3863c",
   "metadata": {},
   "outputs": [
    {
     "data": {
      "text/plain": [
       "2131"
      ]
     },
     "execution_count": 14,
     "metadata": {},
     "output_type": "execute_result"
    }
   ],
   "source": [
    "d2[1]"
   ]
  },
  {
   "cell_type": "code",
   "execution_count": 15,
   "id": "b913752e",
   "metadata": {},
   "outputs": [
    {
     "data": {
      "text/plain": [
       "{34, 45}"
      ]
     },
     "execution_count": 15,
     "metadata": {},
     "output_type": "execute_result"
    }
   ],
   "source": [
    "d2[8]"
   ]
  },
  {
   "cell_type": "code",
   "execution_count": 16,
   "id": "8df9abf6",
   "metadata": {},
   "outputs": [
    {
     "data": {
      "text/plain": [
       "'Two'"
      ]
     },
     "execution_count": 16,
     "metadata": {},
     "output_type": "execute_result"
    }
   ],
   "source": [
    "d2[2]"
   ]
  },
  {
   "cell_type": "code",
   "execution_count": 17,
   "id": "749ba82c",
   "metadata": {},
   "outputs": [],
   "source": [
    "d2[2] = \"akshay\""
   ]
  },
  {
   "cell_type": "code",
   "execution_count": 18,
   "id": "91657930",
   "metadata": {},
   "outputs": [
    {
     "data": {
      "text/plain": [
       "{1: 2131,\n",
       " 2: 'akshay',\n",
       " 3: (4+6j),\n",
       " 4: True,\n",
       " 5: [1, 2, 3],\n",
       " 6: (7, 8, 9),\n",
       " 7: 'Two',\n",
       " 8: {34, 45},\n",
       " 9: 32.4}"
      ]
     },
     "execution_count": 18,
     "metadata": {},
     "output_type": "execute_result"
    }
   ],
   "source": [
    "d2"
   ]
  },
  {
   "cell_type": "code",
   "execution_count": 19,
   "id": "955c43cd",
   "metadata": {},
   "outputs": [],
   "source": [
    "d2['a'] = 'sdfsf'"
   ]
  },
  {
   "cell_type": "code",
   "execution_count": 20,
   "id": "c8447a2b",
   "metadata": {},
   "outputs": [
    {
     "data": {
      "text/plain": [
       "{1: 2131,\n",
       " 2: 'akshay',\n",
       " 3: (4+6j),\n",
       " 4: True,\n",
       " 5: [1, 2, 3],\n",
       " 6: (7, 8, 9),\n",
       " 7: 'Two',\n",
       " 8: {34, 45},\n",
       " 9: 32.4,\n",
       " 'a': 'sdfsf'}"
      ]
     },
     "execution_count": 20,
     "metadata": {},
     "output_type": "execute_result"
    }
   ],
   "source": [
    "d2"
   ]
  },
  {
   "cell_type": "code",
   "execution_count": 22,
   "id": "54a3d8e6",
   "metadata": {},
   "outputs": [],
   "source": [
    "d2['d'] = {12:23, 'two':39487}"
   ]
  },
  {
   "cell_type": "code",
   "execution_count": 23,
   "id": "a2d9b629",
   "metadata": {},
   "outputs": [
    {
     "data": {
      "text/plain": [
       "{1: 2131,\n",
       " 2: 'akshay',\n",
       " 3: (4+6j),\n",
       " 4: True,\n",
       " 5: [1, 2, 3],\n",
       " 6: (7, 8, 9),\n",
       " 7: 'Two',\n",
       " 8: {34, 45},\n",
       " 9: 32.4,\n",
       " 'a': 'sdfsf',\n",
       " 'd': {12: 23, 'two': 39487}}"
      ]
     },
     "execution_count": 23,
     "metadata": {},
     "output_type": "execute_result"
    }
   ],
   "source": [
    "d2"
   ]
  },
  {
   "cell_type": "code",
   "execution_count": 24,
   "id": "62113074",
   "metadata": {},
   "outputs": [],
   "source": [
    "d3 = {1:'afd', 12.3:'sdf', 2+5j:'sewrf', 'key1':'sdfs', (1,2):'dsfse', False:'eres'}"
   ]
  },
  {
   "cell_type": "code",
   "execution_count": 25,
   "id": "337642fb",
   "metadata": {},
   "outputs": [
    {
     "data": {
      "text/plain": [
       "{1: 'afd',\n",
       " 12.3: 'sdf',\n",
       " (2+5j): 'sewrf',\n",
       " 'key1': 'sdfs',\n",
       " (1, 2): 'dsfse',\n",
       " False: 'eres'}"
      ]
     },
     "execution_count": 25,
     "metadata": {},
     "output_type": "execute_result"
    }
   ],
   "source": [
    "d3"
   ]
  },
  {
   "cell_type": "code",
   "execution_count": 26,
   "id": "c95d02be",
   "metadata": {},
   "outputs": [
    {
     "ename": "TypeError",
     "evalue": "unhashable type: 'list'",
     "output_type": "error",
     "traceback": [
      "\u001b[0;31m---------------------------------------------------------------------------\u001b[0m",
      "\u001b[0;31mTypeError\u001b[0m                                 Traceback (most recent call last)",
      "\u001b[0;32m/var/folders/2b/0jxdkpf53db2vxdxwsdgc1tc0000gn/T/ipykernel_2762/3319056793.py\u001b[0m in \u001b[0;36m<module>\u001b[0;34m\u001b[0m\n\u001b[0;32m----> 1\u001b[0;31m \u001b[0md4\u001b[0m \u001b[0;34m=\u001b[0m \u001b[0;34m{\u001b[0m\u001b[0;34m[\u001b[0m\u001b[0;36m1\u001b[0m\u001b[0;34m,\u001b[0m\u001b[0;36m2\u001b[0m\u001b[0;34m]\u001b[0m\u001b[0;34m:\u001b[0m\u001b[0;34m\"sdfs\"\u001b[0m\u001b[0;34m}\u001b[0m\u001b[0;34m\u001b[0m\u001b[0;34m\u001b[0m\u001b[0m\n\u001b[0m",
      "\u001b[0;31mTypeError\u001b[0m: unhashable type: 'list'"
     ]
    }
   ],
   "source": [
    "d4 = {[1,2]:\"sdfs\"}"
   ]
  },
  {
   "cell_type": "code",
   "execution_count": 27,
   "id": "235fdc42",
   "metadata": {},
   "outputs": [
    {
     "ename": "TypeError",
     "evalue": "unhashable type: 'set'",
     "output_type": "error",
     "traceback": [
      "\u001b[0;31m---------------------------------------------------------------------------\u001b[0m",
      "\u001b[0;31mTypeError\u001b[0m                                 Traceback (most recent call last)",
      "\u001b[0;32m/var/folders/2b/0jxdkpf53db2vxdxwsdgc1tc0000gn/T/ipykernel_2762/484064008.py\u001b[0m in \u001b[0;36m<module>\u001b[0;34m\u001b[0m\n\u001b[0;32m----> 1\u001b[0;31m \u001b[0md4\u001b[0m \u001b[0;34m=\u001b[0m \u001b[0;34m{\u001b[0m\u001b[0;34m{\u001b[0m\u001b[0;36m2\u001b[0m\u001b[0;34m,\u001b[0m\u001b[0;36m3\u001b[0m\u001b[0;34m}\u001b[0m\u001b[0;34m:\u001b[0m\u001b[0;34m\"sdfs\"\u001b[0m\u001b[0;34m}\u001b[0m\u001b[0;34m\u001b[0m\u001b[0;34m\u001b[0m\u001b[0m\n\u001b[0m",
      "\u001b[0;31mTypeError\u001b[0m: unhashable type: 'set'"
     ]
    }
   ],
   "source": [
    "d4 = {{2,3}:\"sdfs\"}"
   ]
  },
  {
   "cell_type": "code",
   "execution_count": 28,
   "id": "6cb74d21",
   "metadata": {},
   "outputs": [
    {
     "ename": "TypeError",
     "evalue": "unhashable type: 'dict'",
     "output_type": "error",
     "traceback": [
      "\u001b[0;31m---------------------------------------------------------------------------\u001b[0m",
      "\u001b[0;31mTypeError\u001b[0m                                 Traceback (most recent call last)",
      "\u001b[0;32m/var/folders/2b/0jxdkpf53db2vxdxwsdgc1tc0000gn/T/ipykernel_2762/607860683.py\u001b[0m in \u001b[0;36m<module>\u001b[0;34m\u001b[0m\n\u001b[0;32m----> 1\u001b[0;31m \u001b[0md5\u001b[0m \u001b[0;34m=\u001b[0m \u001b[0;34m{\u001b[0m\u001b[0;34m{\u001b[0m\u001b[0;36m1\u001b[0m\u001b[0;34m:\u001b[0m\u001b[0;36m2\u001b[0m\u001b[0;34m}\u001b[0m\u001b[0;34m:\u001b[0m\u001b[0;34m\"sdfs\"\u001b[0m\u001b[0;34m}\u001b[0m\u001b[0;34m\u001b[0m\u001b[0;34m\u001b[0m\u001b[0m\n\u001b[0m",
      "\u001b[0;31mTypeError\u001b[0m: unhashable type: 'dict'"
     ]
    }
   ],
   "source": [
    "d5 = {{1:2}:\"sdfs\"}"
   ]
  },
  {
   "cell_type": "code",
   "execution_count": 29,
   "id": "d1240aeb",
   "metadata": {},
   "outputs": [],
   "source": [
    "d6 = {1:42432, 2:453, 1:99}"
   ]
  },
  {
   "cell_type": "code",
   "execution_count": 30,
   "id": "dafef2a3",
   "metadata": {},
   "outputs": [
    {
     "data": {
      "text/plain": [
       "{1: 99, 2: 453}"
      ]
     },
     "execution_count": 30,
     "metadata": {},
     "output_type": "execute_result"
    }
   ],
   "source": [
    "d6"
   ]
  },
  {
   "cell_type": "code",
   "execution_count": 31,
   "id": "05bf4d53",
   "metadata": {},
   "outputs": [],
   "source": [
    "d7 = {2:453, 1:99, 1:42432}"
   ]
  },
  {
   "cell_type": "code",
   "execution_count": 32,
   "id": "80dae219",
   "metadata": {},
   "outputs": [
    {
     "data": {
      "text/plain": [
       "{2: 453, 1: 42432}"
      ]
     },
     "execution_count": 32,
     "metadata": {},
     "output_type": "execute_result"
    }
   ],
   "source": [
    "d7"
   ]
  },
  {
   "cell_type": "code",
   "execution_count": 33,
   "id": "b61aa8f4",
   "metadata": {},
   "outputs": [
    {
     "data": {
      "text/plain": [
       "{1: 'One', 2: 'Two', 3: 'Three'}"
      ]
     },
     "execution_count": 33,
     "metadata": {},
     "output_type": "execute_result"
    }
   ],
   "source": [
    "d1"
   ]
  },
  {
   "cell_type": "code",
   "execution_count": 34,
   "id": "38c12b28",
   "metadata": {},
   "outputs": [
    {
     "data": {
      "text/plain": [
       "{1: 2131,\n",
       " 2: 'akshay',\n",
       " 3: (4+6j),\n",
       " 4: True,\n",
       " 5: [1, 2, 3],\n",
       " 6: (7, 8, 9),\n",
       " 7: 'Two',\n",
       " 8: {34, 45},\n",
       " 9: 32.4,\n",
       " 'a': 'sdfsf',\n",
       " 'd': {12: 23, 'two': 39487}}"
      ]
     },
     "execution_count": 34,
     "metadata": {},
     "output_type": "execute_result"
    }
   ],
   "source": [
    "d2"
   ]
  },
  {
   "cell_type": "code",
   "execution_count": 35,
   "id": "25511cb9",
   "metadata": {},
   "outputs": [
    {
     "ename": "TypeError",
     "evalue": "unsupported operand type(s) for +: 'dict' and 'dict'",
     "output_type": "error",
     "traceback": [
      "\u001b[0;31m---------------------------------------------------------------------------\u001b[0m",
      "\u001b[0;31mTypeError\u001b[0m                                 Traceback (most recent call last)",
      "\u001b[0;32m/var/folders/2b/0jxdkpf53db2vxdxwsdgc1tc0000gn/T/ipykernel_2762/1575791415.py\u001b[0m in \u001b[0;36m<module>\u001b[0;34m\u001b[0m\n\u001b[0;32m----> 1\u001b[0;31m \u001b[0md1\u001b[0m \u001b[0;34m+\u001b[0m \u001b[0md2\u001b[0m\u001b[0;34m\u001b[0m\u001b[0;34m\u001b[0m\u001b[0m\n\u001b[0m",
      "\u001b[0;31mTypeError\u001b[0m: unsupported operand type(s) for +: 'dict' and 'dict'"
     ]
    }
   ],
   "source": [
    "d1 + d2"
   ]
  },
  {
   "cell_type": "code",
   "execution_count": null,
   "id": "43e65036",
   "metadata": {},
   "outputs": [],
   "source": []
  },
  {
   "cell_type": "code",
   "execution_count": null,
   "id": "9487e52e",
   "metadata": {},
   "outputs": [],
   "source": []
  }
 ],
 "metadata": {
  "kernelspec": {
   "display_name": "Python 3 (ipykernel)",
   "language": "python",
   "name": "python3"
  },
  "language_info": {
   "codemirror_mode": {
    "name": "ipython",
    "version": 3
   },
   "file_extension": ".py",
   "mimetype": "text/x-python",
   "name": "python",
   "nbconvert_exporter": "python",
   "pygments_lexer": "ipython3",
   "version": "3.9.7"
  }
 },
 "nbformat": 4,
 "nbformat_minor": 5
}
