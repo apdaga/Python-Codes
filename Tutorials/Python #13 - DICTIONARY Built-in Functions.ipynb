{
 "cells": [
  {
   "cell_type": "markdown",
   "id": "0f5371c4",
   "metadata": {},
   "source": [
    "# Dictionary: Built-in Functions"
   ]
  },
  {
   "cell_type": "code",
   "execution_count": 1,
   "id": "6f164c47",
   "metadata": {},
   "outputs": [],
   "source": [
    "d1 = {1: 'One', 2: 'Two', 3: 'Three'}"
   ]
  },
  {
   "cell_type": "code",
   "execution_count": 2,
   "id": "73b2dee9",
   "metadata": {},
   "outputs": [],
   "source": [
    "d2 = {1:2131, 2:\"Two\", 3:4+6j, 4:True, 5:[1,2,3], 6:(7,8,9), 7:\"Two\", 8:{34,45}, 9:32.4}"
   ]
  },
  {
   "cell_type": "code",
   "execution_count": 3,
   "id": "cb76ff8a",
   "metadata": {},
   "outputs": [
    {
     "data": {
      "text/plain": [
       "{1: 'One', 2: 'Two', 3: 'Three'}"
      ]
     },
     "execution_count": 3,
     "metadata": {},
     "output_type": "execute_result"
    }
   ],
   "source": [
    "d1"
   ]
  },
  {
   "cell_type": "code",
   "execution_count": 4,
   "id": "6053c59d",
   "metadata": {},
   "outputs": [
    {
     "data": {
      "text/plain": [
       "{1: 2131,\n",
       " 2: 'Two',\n",
       " 3: (4+6j),\n",
       " 4: True,\n",
       " 5: [1, 2, 3],\n",
       " 6: (7, 8, 9),\n",
       " 7: 'Two',\n",
       " 8: {34, 45},\n",
       " 9: 32.4}"
      ]
     },
     "execution_count": 4,
     "metadata": {},
     "output_type": "execute_result"
    }
   ],
   "source": [
    "d2"
   ]
  },
  {
   "cell_type": "code",
   "execution_count": 5,
   "id": "2d8bccce",
   "metadata": {},
   "outputs": [
    {
     "ename": "TypeError",
     "evalue": "unsupported operand type(s) for +: 'dict' and 'dict'",
     "output_type": "error",
     "traceback": [
      "\u001b[0;31m---------------------------------------------------------------------------\u001b[0m",
      "\u001b[0;31mTypeError\u001b[0m                                 Traceback (most recent call last)",
      "\u001b[0;32m/var/folders/2b/0jxdkpf53db2vxdxwsdgc1tc0000gn/T/ipykernel_2807/1575791415.py\u001b[0m in \u001b[0;36m<module>\u001b[0;34m\u001b[0m\n\u001b[0;32m----> 1\u001b[0;31m \u001b[0md1\u001b[0m \u001b[0;34m+\u001b[0m \u001b[0md2\u001b[0m\u001b[0;34m\u001b[0m\u001b[0;34m\u001b[0m\u001b[0m\n\u001b[0m",
      "\u001b[0;31mTypeError\u001b[0m: unsupported operand type(s) for +: 'dict' and 'dict'"
     ]
    }
   ],
   "source": [
    "d1 + d2"
   ]
  },
  {
   "cell_type": "code",
   "execution_count": 6,
   "id": "b8e9b8bd",
   "metadata": {},
   "outputs": [],
   "source": [
    "d1.update(d2)"
   ]
  },
  {
   "cell_type": "code",
   "execution_count": 7,
   "id": "b97d433a",
   "metadata": {},
   "outputs": [
    {
     "data": {
      "text/plain": [
       "{1: 2131,\n",
       " 2: 'Two',\n",
       " 3: (4+6j),\n",
       " 4: True,\n",
       " 5: [1, 2, 3],\n",
       " 6: (7, 8, 9),\n",
       " 7: 'Two',\n",
       " 8: {34, 45},\n",
       " 9: 32.4}"
      ]
     },
     "execution_count": 7,
     "metadata": {},
     "output_type": "execute_result"
    }
   ],
   "source": [
    "d1"
   ]
  },
  {
   "cell_type": "code",
   "execution_count": 10,
   "id": "7564f346",
   "metadata": {},
   "outputs": [
    {
     "data": {
      "text/plain": [
       "dict_keys([1, 2, 3, 4, 5, 6, 7, 8, 9])"
      ]
     },
     "execution_count": 10,
     "metadata": {},
     "output_type": "execute_result"
    }
   ],
   "source": [
    "d1.keys()"
   ]
  },
  {
   "cell_type": "code",
   "execution_count": 11,
   "id": "f601d07b",
   "metadata": {},
   "outputs": [
    {
     "data": {
      "text/plain": [
       "dict_keys"
      ]
     },
     "execution_count": 11,
     "metadata": {},
     "output_type": "execute_result"
    }
   ],
   "source": [
    "type(d1.keys())"
   ]
  },
  {
   "cell_type": "code",
   "execution_count": 12,
   "id": "76848f9f",
   "metadata": {},
   "outputs": [
    {
     "ename": "TypeError",
     "evalue": "'dict_keys' object is not subscriptable",
     "output_type": "error",
     "traceback": [
      "\u001b[0;31m---------------------------------------------------------------------------\u001b[0m",
      "\u001b[0;31mTypeError\u001b[0m                                 Traceback (most recent call last)",
      "\u001b[0;32m/var/folders/2b/0jxdkpf53db2vxdxwsdgc1tc0000gn/T/ipykernel_2807/2001283855.py\u001b[0m in \u001b[0;36m<module>\u001b[0;34m\u001b[0m\n\u001b[0;32m----> 1\u001b[0;31m \u001b[0md1\u001b[0m\u001b[0;34m.\u001b[0m\u001b[0mkeys\u001b[0m\u001b[0;34m(\u001b[0m\u001b[0;34m)\u001b[0m\u001b[0;34m[\u001b[0m\u001b[0;36m0\u001b[0m\u001b[0;34m]\u001b[0m\u001b[0;34m\u001b[0m\u001b[0;34m\u001b[0m\u001b[0m\n\u001b[0m",
      "\u001b[0;31mTypeError\u001b[0m: 'dict_keys' object is not subscriptable"
     ]
    }
   ],
   "source": [
    "d1.keys()[0]"
   ]
  },
  {
   "cell_type": "code",
   "execution_count": 13,
   "id": "248afb02",
   "metadata": {},
   "outputs": [
    {
     "data": {
      "text/plain": [
       "1"
      ]
     },
     "execution_count": 13,
     "metadata": {},
     "output_type": "execute_result"
    }
   ],
   "source": [
    "list(d1.keys())[0]"
   ]
  },
  {
   "cell_type": "code",
   "execution_count": 14,
   "id": "78966977",
   "metadata": {},
   "outputs": [
    {
     "data": {
      "text/plain": [
       "dict_values([2131, 'Two', (4+6j), True, [1, 2, 3], (7, 8, 9), 'Two', {34, 45}, 32.4])"
      ]
     },
     "execution_count": 14,
     "metadata": {},
     "output_type": "execute_result"
    }
   ],
   "source": [
    "d1.values()"
   ]
  },
  {
   "cell_type": "code",
   "execution_count": 16,
   "id": "bc28b0e9",
   "metadata": {},
   "outputs": [
    {
     "data": {
      "text/plain": [
       "'Two'"
      ]
     },
     "execution_count": 16,
     "metadata": {},
     "output_type": "execute_result"
    }
   ],
   "source": [
    "list(d1.values())[1]"
   ]
  },
  {
   "cell_type": "code",
   "execution_count": 17,
   "id": "4bf35681",
   "metadata": {},
   "outputs": [
    {
     "data": {
      "text/plain": [
       "{1: 2131,\n",
       " 2: 'Two',\n",
       " 3: (4+6j),\n",
       " 4: True,\n",
       " 5: [1, 2, 3],\n",
       " 6: (7, 8, 9),\n",
       " 7: 'Two',\n",
       " 8: {34, 45},\n",
       " 9: 32.4}"
      ]
     },
     "execution_count": 17,
     "metadata": {},
     "output_type": "execute_result"
    }
   ],
   "source": [
    "d1"
   ]
  },
  {
   "cell_type": "code",
   "execution_count": 18,
   "id": "91c0941b",
   "metadata": {},
   "outputs": [
    {
     "data": {
      "text/plain": [
       "dict_items([(1, 2131), (2, 'Two'), (3, (4+6j)), (4, True), (5, [1, 2, 3]), (6, (7, 8, 9)), (7, 'Two'), (8, {34, 45}), (9, 32.4)])"
      ]
     },
     "execution_count": 18,
     "metadata": {},
     "output_type": "execute_result"
    }
   ],
   "source": [
    "d1.items()"
   ]
  },
  {
   "cell_type": "code",
   "execution_count": 20,
   "id": "33fe54d8",
   "metadata": {},
   "outputs": [
    {
     "data": {
      "text/plain": [
       "(6, (7, 8, 9))"
      ]
     },
     "execution_count": 20,
     "metadata": {},
     "output_type": "execute_result"
    }
   ],
   "source": [
    "list(d1.items())[5]"
   ]
  },
  {
   "cell_type": "code",
   "execution_count": 21,
   "id": "7c304564",
   "metadata": {},
   "outputs": [
    {
     "data": {
      "text/plain": [
       "{1: 2131,\n",
       " 2: 'Two',\n",
       " 3: (4+6j),\n",
       " 4: True,\n",
       " 5: [1, 2, 3],\n",
       " 6: (7, 8, 9),\n",
       " 7: 'Two',\n",
       " 8: {34, 45},\n",
       " 9: 32.4}"
      ]
     },
     "execution_count": 21,
     "metadata": {},
     "output_type": "execute_result"
    }
   ],
   "source": [
    "d1"
   ]
  },
  {
   "cell_type": "code",
   "execution_count": 22,
   "id": "13a48204",
   "metadata": {},
   "outputs": [],
   "source": [
    "del d1[9]"
   ]
  },
  {
   "cell_type": "code",
   "execution_count": 23,
   "id": "d6f05db6",
   "metadata": {},
   "outputs": [
    {
     "data": {
      "text/plain": [
       "{1: 2131,\n",
       " 2: 'Two',\n",
       " 3: (4+6j),\n",
       " 4: True,\n",
       " 5: [1, 2, 3],\n",
       " 6: (7, 8, 9),\n",
       " 7: 'Two',\n",
       " 8: {34, 45}}"
      ]
     },
     "execution_count": 23,
     "metadata": {},
     "output_type": "execute_result"
    }
   ],
   "source": [
    "d1"
   ]
  },
  {
   "cell_type": "code",
   "execution_count": 24,
   "id": "6fe95a7f",
   "metadata": {},
   "outputs": [
    {
     "data": {
      "text/plain": [
       "{1: 2131,\n",
       " 2: 'Two',\n",
       " 3: (4+6j),\n",
       " 4: True,\n",
       " 5: [1, 2, 3],\n",
       " 6: (7, 8, 9),\n",
       " 7: 'Two',\n",
       " 8: {34, 45},\n",
       " 9: 32.4}"
      ]
     },
     "execution_count": 24,
     "metadata": {},
     "output_type": "execute_result"
    }
   ],
   "source": [
    "d2"
   ]
  },
  {
   "cell_type": "code",
   "execution_count": 25,
   "id": "9fad3e0f",
   "metadata": {},
   "outputs": [],
   "source": [
    "del d2"
   ]
  },
  {
   "cell_type": "code",
   "execution_count": 26,
   "id": "bcda8ac2",
   "metadata": {},
   "outputs": [
    {
     "ename": "NameError",
     "evalue": "name 'd2' is not defined",
     "output_type": "error",
     "traceback": [
      "\u001b[0;31m---------------------------------------------------------------------------\u001b[0m",
      "\u001b[0;31mNameError\u001b[0m                                 Traceback (most recent call last)",
      "\u001b[0;32m/var/folders/2b/0jxdkpf53db2vxdxwsdgc1tc0000gn/T/ipykernel_2807/4206307747.py\u001b[0m in \u001b[0;36m<module>\u001b[0;34m\u001b[0m\n\u001b[0;32m----> 1\u001b[0;31m \u001b[0md2\u001b[0m\u001b[0;34m\u001b[0m\u001b[0;34m\u001b[0m\u001b[0m\n\u001b[0m",
      "\u001b[0;31mNameError\u001b[0m: name 'd2' is not defined"
     ]
    }
   ],
   "source": [
    "d2"
   ]
  },
  {
   "cell_type": "code",
   "execution_count": 27,
   "id": "ae2927b0",
   "metadata": {},
   "outputs": [
    {
     "data": {
      "text/plain": [
       "{1: 2131,\n",
       " 2: 'Two',\n",
       " 3: (4+6j),\n",
       " 4: True,\n",
       " 5: [1, 2, 3],\n",
       " 6: (7, 8, 9),\n",
       " 7: 'Two',\n",
       " 8: {34, 45}}"
      ]
     },
     "execution_count": 27,
     "metadata": {},
     "output_type": "execute_result"
    }
   ],
   "source": [
    "d1"
   ]
  },
  {
   "cell_type": "code",
   "execution_count": 28,
   "id": "f66bce87",
   "metadata": {},
   "outputs": [
    {
     "data": {
      "text/plain": [
       "(7, 8, 9)"
      ]
     },
     "execution_count": 28,
     "metadata": {},
     "output_type": "execute_result"
    }
   ],
   "source": [
    "d1[6]"
   ]
  },
  {
   "cell_type": "code",
   "execution_count": 29,
   "id": "b9ceebbb",
   "metadata": {},
   "outputs": [
    {
     "ename": "KeyError",
     "evalue": "10",
     "output_type": "error",
     "traceback": [
      "\u001b[0;31m---------------------------------------------------------------------------\u001b[0m",
      "\u001b[0;31mKeyError\u001b[0m                                  Traceback (most recent call last)",
      "\u001b[0;32m/var/folders/2b/0jxdkpf53db2vxdxwsdgc1tc0000gn/T/ipykernel_2807/2662799957.py\u001b[0m in \u001b[0;36m<module>\u001b[0;34m\u001b[0m\n\u001b[0;32m----> 1\u001b[0;31m \u001b[0md1\u001b[0m\u001b[0;34m[\u001b[0m\u001b[0;36m10\u001b[0m\u001b[0;34m]\u001b[0m\u001b[0;34m\u001b[0m\u001b[0;34m\u001b[0m\u001b[0m\n\u001b[0m",
      "\u001b[0;31mKeyError\u001b[0m: 10"
     ]
    }
   ],
   "source": [
    "d1[10]"
   ]
  },
  {
   "cell_type": "code",
   "execution_count": 30,
   "id": "0722743a",
   "metadata": {},
   "outputs": [
    {
     "data": {
      "text/plain": [
       "(7, 8, 9)"
      ]
     },
     "execution_count": 30,
     "metadata": {},
     "output_type": "execute_result"
    }
   ],
   "source": [
    "d1.get(6)"
   ]
  },
  {
   "cell_type": "code",
   "execution_count": 31,
   "id": "061062e9",
   "metadata": {},
   "outputs": [],
   "source": [
    "d1.get(10)"
   ]
  },
  {
   "cell_type": "code",
   "execution_count": 32,
   "id": "eb6bf6ae",
   "metadata": {},
   "outputs": [],
   "source": [
    "d2 = {'k1':'v1', 'k2':'v2'}"
   ]
  },
  {
   "cell_type": "code",
   "execution_count": 33,
   "id": "6d513025",
   "metadata": {},
   "outputs": [
    {
     "data": {
      "text/plain": [
       "{1: 2131,\n",
       " 2: 'Two',\n",
       " 3: (4+6j),\n",
       " 4: True,\n",
       " 5: [1, 2, 3],\n",
       " 6: (7, 8, 9),\n",
       " 7: 'Two',\n",
       " 8: {34, 45}}"
      ]
     },
     "execution_count": 33,
     "metadata": {},
     "output_type": "execute_result"
    }
   ],
   "source": [
    "d1"
   ]
  },
  {
   "cell_type": "code",
   "execution_count": 34,
   "id": "e27d30d6",
   "metadata": {},
   "outputs": [
    {
     "data": {
      "text/plain": [
       "{'k1': 'v1', 'k2': 'v2'}"
      ]
     },
     "execution_count": 34,
     "metadata": {},
     "output_type": "execute_result"
    }
   ],
   "source": [
    "d2"
   ]
  },
  {
   "cell_type": "code",
   "execution_count": 35,
   "id": "a0e67fd5",
   "metadata": {},
   "outputs": [],
   "source": [
    "d1.update(d2)"
   ]
  },
  {
   "cell_type": "code",
   "execution_count": 36,
   "id": "0aa5c362",
   "metadata": {},
   "outputs": [
    {
     "data": {
      "text/plain": [
       "{1: 2131,\n",
       " 2: 'Two',\n",
       " 3: (4+6j),\n",
       " 4: True,\n",
       " 5: [1, 2, 3],\n",
       " 6: (7, 8, 9),\n",
       " 7: 'Two',\n",
       " 8: {34, 45},\n",
       " 'k1': 'v1',\n",
       " 'k2': 'v2'}"
      ]
     },
     "execution_count": 36,
     "metadata": {},
     "output_type": "execute_result"
    }
   ],
   "source": [
    "d1"
   ]
  },
  {
   "cell_type": "code",
   "execution_count": 37,
   "id": "e9829800",
   "metadata": {},
   "outputs": [],
   "source": [
    "l1 = [1,2,3,'apdaga', 5, 7]\n",
    "val = 'daga'"
   ]
  },
  {
   "cell_type": "code",
   "execution_count": 38,
   "id": "505ac1c6",
   "metadata": {},
   "outputs": [
    {
     "data": {
      "text/plain": [
       "[1, 2, 3, 'apdaga', 5, 7]"
      ]
     },
     "execution_count": 38,
     "metadata": {},
     "output_type": "execute_result"
    }
   ],
   "source": [
    "l1"
   ]
  },
  {
   "cell_type": "code",
   "execution_count": 39,
   "id": "d9933359",
   "metadata": {},
   "outputs": [
    {
     "data": {
      "text/plain": [
       "'daga'"
      ]
     },
     "execution_count": 39,
     "metadata": {},
     "output_type": "execute_result"
    }
   ],
   "source": [
    "val"
   ]
  },
  {
   "cell_type": "code",
   "execution_count": 41,
   "id": "833b1d86",
   "metadata": {},
   "outputs": [],
   "source": [
    "d7 = dict.fromkeys(l1,val)"
   ]
  },
  {
   "cell_type": "code",
   "execution_count": 42,
   "id": "f489d75b",
   "metadata": {},
   "outputs": [
    {
     "data": {
      "text/plain": [
       "{1: 'daga', 2: 'daga', 3: 'daga', 'apdaga': 'daga', 5: 'daga', 7: 'daga'}"
      ]
     },
     "execution_count": 42,
     "metadata": {},
     "output_type": "execute_result"
    }
   ],
   "source": [
    "d7"
   ]
  },
  {
   "cell_type": "code",
   "execution_count": null,
   "id": "29da6a75",
   "metadata": {},
   "outputs": [],
   "source": []
  }
 ],
 "metadata": {
  "kernelspec": {
   "display_name": "Python 3 (ipykernel)",
   "language": "python",
   "name": "python3"
  },
  "language_info": {
   "codemirror_mode": {
    "name": "ipython",
    "version": 3
   },
   "file_extension": ".py",
   "mimetype": "text/x-python",
   "name": "python",
   "nbconvert_exporter": "python",
   "pygments_lexer": "ipython3",
   "version": "3.9.7"
  }
 },
 "nbformat": 4,
 "nbformat_minor": 5
}
