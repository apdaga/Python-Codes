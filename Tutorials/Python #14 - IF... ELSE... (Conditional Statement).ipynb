{
 "cells": [
  {
   "cell_type": "markdown",
   "id": "be525983",
   "metadata": {},
   "source": [
    "# IF... ELIF... ELSE..."
   ]
  },
  {
   "cell_type": "code",
   "execution_count": 2,
   "id": "4f97c34a",
   "metadata": {},
   "outputs": [],
   "source": [
    "a = 10"
   ]
  },
  {
   "cell_type": "code",
   "execution_count": 3,
   "id": "85549efa",
   "metadata": {},
   "outputs": [
    {
     "data": {
      "text/plain": [
       "True"
      ]
     },
     "execution_count": 3,
     "metadata": {},
     "output_type": "execute_result"
    }
   ],
   "source": [
    "a > 5"
   ]
  },
  {
   "cell_type": "code",
   "execution_count": 4,
   "id": "d92dca34",
   "metadata": {},
   "outputs": [
    {
     "data": {
      "text/plain": [
       "False"
      ]
     },
     "execution_count": 4,
     "metadata": {},
     "output_type": "execute_result"
    }
   ],
   "source": [
    "a < 5"
   ]
  },
  {
   "cell_type": "code",
   "execution_count": 5,
   "id": "ac26e53f",
   "metadata": {},
   "outputs": [
    {
     "name": "stdout",
     "output_type": "stream",
     "text": [
      "The condition is True\n"
     ]
    }
   ],
   "source": [
    "if a > 5:\n",
    "    print(\"The condition is True\")"
   ]
  },
  {
   "cell_type": "code",
   "execution_count": 6,
   "id": "4133c400",
   "metadata": {},
   "outputs": [],
   "source": [
    "if a < 5:\n",
    "    print(\"The condition is True\")"
   ]
  },
  {
   "cell_type": "code",
   "execution_count": 8,
   "id": "0d170255",
   "metadata": {},
   "outputs": [],
   "source": [
    "if a>5:\n",
    "    pass"
   ]
  },
  {
   "cell_type": "code",
   "execution_count": 9,
   "id": "3c31a503",
   "metadata": {},
   "outputs": [],
   "source": [
    "if a>5:\n",
    "    None"
   ]
  },
  {
   "cell_type": "code",
   "execution_count": 18,
   "id": "3ebbab4a",
   "metadata": {},
   "outputs": [
    {
     "name": "stdout",
     "output_type": "stream",
     "text": [
      "1\n",
      "2\n",
      "3\n"
     ]
    }
   ],
   "source": [
    "if a > 5:\n",
    "    print(1)\n",
    "    print(2)\n",
    "    print(3)"
   ]
  },
  {
   "cell_type": "code",
   "execution_count": 22,
   "id": "ef19f591",
   "metadata": {},
   "outputs": [
    {
     "name": "stdout",
     "output_type": "stream",
     "text": [
      "The condition is False\n"
     ]
    }
   ],
   "source": [
    "if a < 5:\n",
    "    print(\"The condition is True\")\n",
    "else:\n",
    "    print(\"The condition is False\")"
   ]
  },
  {
   "cell_type": "code",
   "execution_count": 27,
   "id": "656e748d",
   "metadata": {},
   "outputs": [
    {
     "name": "stdout",
     "output_type": "stream",
     "text": [
      "Enter the number: 25\n",
      "4\n"
     ]
    }
   ],
   "source": [
    "a = int(input('Enter the number: '))\n",
    "\n",
    "if a < 5:\n",
    "    print(1)\n",
    "elif a < 10:\n",
    "    print(2)\n",
    "elif a < 15:\n",
    "    print(3)\n",
    "else:\n",
    "    print(4)"
   ]
  },
  {
   "cell_type": "code",
   "execution_count": 29,
   "id": "ff6dfaf1",
   "metadata": {},
   "outputs": [
    {
     "name": "stdout",
     "output_type": "stream",
     "text": [
      "Enter a 4 digit pin: 5343\n",
      "Wrong pin Entered\n"
     ]
    }
   ],
   "source": [
    "# ATM PIN Example\n",
    "\n",
    "pin = 1234\n",
    "\n",
    "enterd_pin = int(input('Enter a 4 digit pin: '))\n",
    "\n",
    "if enterd_pin == pin:\n",
    "    print(\"PIN is verified\")\n",
    "else:\n",
    "    print(\"Wrong pin Entered\")"
   ]
  },
  {
   "cell_type": "code",
   "execution_count": 32,
   "id": "1c2d1f52",
   "metadata": {},
   "outputs": [
    {
     "name": "stdout",
     "output_type": "stream",
     "text": [
      "Enter your marks: 90\n",
      "your grade is A\n"
     ]
    }
   ],
   "source": [
    "# Student Result\n",
    "\n",
    "marks = int(input('Enter your marks: '))\n",
    "\n",
    "if marks < 35:\n",
    "    print(\"your grade is F\")\n",
    "elif marks < 50:\n",
    "    print(\"your grade is D\")\n",
    "elif marks < 70:\n",
    "    print(\"your grade is C\")\n",
    "elif marks < 90:\n",
    "    print(\"your grade is B\")\n",
    "elif marks < 95:\n",
    "    print(\"your grade is A\")\n",
    "else:\n",
    "    print(\"your grade is A+\")"
   ]
  },
  {
   "cell_type": "code",
   "execution_count": 33,
   "id": "3a145ab4",
   "metadata": {},
   "outputs": [
    {
     "name": "stdout",
     "output_type": "stream",
     "text": [
      "Enter your marks: 90\n",
      "your grade is A\n"
     ]
    }
   ],
   "source": [
    "# Student Result\n",
    "\n",
    "marks = int(input('Enter your marks: '))\n",
    "\n",
    "if marks < 35:\n",
    "    print(\"your grade is F\")\n",
    "elif marks < 50 and marks >=35:\n",
    "    print(\"your grade is D\")\n",
    "elif marks < 70 and marks >=50:\n",
    "    print(\"your grade is C\")\n",
    "elif marks < 90 and marks >=70:\n",
    "    print(\"your grade is B\")\n",
    "elif marks < 95 and marks >=90:\n",
    "    print(\"your grade is A\")\n",
    "else:\n",
    "    print(\"your grade is A+\")"
   ]
  },
  {
   "cell_type": "code",
   "execution_count": 35,
   "id": "a7b71413",
   "metadata": {},
   "outputs": [
    {
     "name": "stdout",
     "output_type": "stream",
     "text": [
      "Enter your attendance (0-100)%: 80\n",
      "Enter your marks: 65\n",
      "your grade is C\n"
     ]
    }
   ],
   "source": [
    "# Student Result\n",
    "\n",
    "attendace = int(input('Enter your attendance (0-100)%: '))\n",
    "marks = int(input('Enter your marks: '))\n",
    "\n",
    "if attendace >= 70:\n",
    "    if marks < 35:\n",
    "        print(\"your grade is F\")\n",
    "    elif marks < 50 and marks >=35:\n",
    "        print(\"your grade is D\")\n",
    "    elif marks < 70 and marks >=50:\n",
    "        print(\"your grade is C\")\n",
    "    elif marks < 90 and marks >=70:\n",
    "        print(\"your grade is B\")\n",
    "    elif marks < 95 and marks >=90:\n",
    "        print(\"your grade is A\")\n",
    "    else:\n",
    "        print(\"your grade is A+\")\n",
    "else:\n",
    "    print(\"You are failed due to low attendance\")"
   ]
  },
  {
   "cell_type": "code",
   "execution_count": null,
   "id": "74283a15",
   "metadata": {},
   "outputs": [],
   "source": []
  }
 ],
 "metadata": {
  "kernelspec": {
   "display_name": "Python 3 (ipykernel)",
   "language": "python",
   "name": "python3"
  },
  "language_info": {
   "codemirror_mode": {
    "name": "ipython",
    "version": 3
   },
   "file_extension": ".py",
   "mimetype": "text/x-python",
   "name": "python",
   "nbconvert_exporter": "python",
   "pygments_lexer": "ipython3",
   "version": "3.9.7"
  }
 },
 "nbformat": 4,
 "nbformat_minor": 5
}
