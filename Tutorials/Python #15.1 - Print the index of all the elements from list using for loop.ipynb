{
 "cells": [
  {
   "cell_type": "markdown",
   "id": "51e74a6f",
   "metadata": {},
   "source": [
    "# Print the index of all the elements from list using for loop"
   ]
  },
  {
   "cell_type": "code",
   "execution_count": 1,
   "id": "09555298",
   "metadata": {},
   "outputs": [],
   "source": [
    "l1 = [34, 21, 4.65, 3+5j, [34, 54, 23], 'akshay', 'daga']"
   ]
  },
  {
   "cell_type": "code",
   "execution_count": 2,
   "id": "95a02815",
   "metadata": {},
   "outputs": [
    {
     "data": {
      "text/plain": [
       "[34, 21, 4.65, (3+5j), [34, 54, 23], 'akshay', 'daga']"
      ]
     },
     "execution_count": 2,
     "metadata": {},
     "output_type": "execute_result"
    }
   ],
   "source": [
    "l1"
   ]
  },
  {
   "cell_type": "code",
   "execution_count": 3,
   "id": "f9c42582",
   "metadata": {},
   "outputs": [
    {
     "name": "stdout",
     "output_type": "stream",
     "text": [
      "34\n",
      "21\n",
      "4.65\n",
      "(3+5j)\n",
      "[34, 54, 23]\n",
      "akshay\n",
      "daga\n"
     ]
    }
   ],
   "source": [
    "for i in l1:\n",
    "    print(i)"
   ]
  },
  {
   "cell_type": "code",
   "execution_count": 5,
   "id": "c4a2639f",
   "metadata": {},
   "outputs": [
    {
     "name": "stdout",
     "output_type": "stream",
     "text": [
      "[34, 21, 4.65, (3+5j), [34, 54, 23], 'akshay', 'daga']\n",
      "34 0\n",
      "21 1\n",
      "4.65 2\n",
      "(3+5j) 3\n",
      "[34, 54, 23] 4\n",
      "akshay 5\n",
      "daga 6\n"
     ]
    }
   ],
   "source": [
    "##### SOLUTION:1 #####\n",
    "print(l1)\n",
    "\n",
    "index = 0\n",
    "\n",
    "for element in l1:\n",
    "    print(element,index)\n",
    "    index = index + 1"
   ]
  },
  {
   "cell_type": "code",
   "execution_count": 12,
   "id": "4a11aad2",
   "metadata": {},
   "outputs": [
    {
     "name": "stdout",
     "output_type": "stream",
     "text": [
      "[34, 21, 4.65, (3+5j), [34, 54, 23], 'akshay', 'daga']\n",
      "\n",
      "34 0\n",
      "21 1\n",
      "4.65 2\n",
      "(3+5j) 3\n",
      "[34, 54, 23] 4\n",
      "akshay 5\n",
      "daga 6\n"
     ]
    }
   ],
   "source": [
    "##### SOLUTION:2 #####\n",
    "print(l1)\n",
    "print()\n",
    "\n",
    "for index in range(len(l1)):\n",
    "    print(l1[index],index)"
   ]
  },
  {
   "cell_type": "code",
   "execution_count": 14,
   "id": "0c687f3a",
   "metadata": {},
   "outputs": [
    {
     "name": "stdout",
     "output_type": "stream",
     "text": [
      "[34, 21, 4.65, (3+5j), [34, 54, 23], 'akshay', 'daga']\n",
      "\n",
      "(0, 34)\n",
      "(1, 21)\n",
      "(2, 4.65)\n",
      "(3, (3+5j))\n",
      "(4, [34, 54, 23])\n",
      "(5, 'akshay')\n",
      "(6, 'daga')\n"
     ]
    }
   ],
   "source": [
    "##### SOLUTION:3 #####\n",
    "print(l1)\n",
    "print()\n",
    "\n",
    "for i in enumerate(l1):\n",
    "    print(i)"
   ]
  },
  {
   "cell_type": "code",
   "execution_count": 15,
   "id": "03def96e",
   "metadata": {},
   "outputs": [
    {
     "name": "stdout",
     "output_type": "stream",
     "text": [
      "[34, 21, 4.65, (3+5j), [34, 54, 23], 'akshay', 'daga']\n",
      "\n",
      "0 34\n",
      "1 21\n",
      "2 4.65\n",
      "3 (3+5j)\n",
      "4 [34, 54, 23]\n",
      "5 akshay\n",
      "6 daga\n"
     ]
    }
   ],
   "source": [
    "##### SOLUTION:3 #####\n",
    "print(l1)\n",
    "print()\n",
    "\n",
    "for i,j in enumerate(l1):\n",
    "    print(i,j)"
   ]
  },
  {
   "cell_type": "code",
   "execution_count": 16,
   "id": "a4d59165",
   "metadata": {},
   "outputs": [
    {
     "name": "stdout",
     "output_type": "stream",
     "text": [
      "[34, 21, 4.65, (3+5j), [34, 54, 23], 'akshay', 'daga']\n",
      "\n",
      "34 0\n",
      "21 1\n",
      "4.65 2\n",
      "(3+5j) 3\n",
      "[34, 54, 23] 4\n",
      "akshay 5\n",
      "daga 6\n"
     ]
    }
   ],
   "source": [
    "##### SOLUTION:3 #####\n",
    "print(l1)\n",
    "print()\n",
    "\n",
    "for i,j in enumerate(l1):\n",
    "    print(j,i)"
   ]
  },
  {
   "cell_type": "code",
   "execution_count": null,
   "id": "463c7f62",
   "metadata": {},
   "outputs": [],
   "source": []
  }
 ],
 "metadata": {
  "kernelspec": {
   "display_name": "Python 3 (ipykernel)",
   "language": "python",
   "name": "python3"
  },
  "language_info": {
   "codemirror_mode": {
    "name": "ipython",
    "version": 3
   },
   "file_extension": ".py",
   "mimetype": "text/x-python",
   "name": "python",
   "nbconvert_exporter": "python",
   "pygments_lexer": "ipython3",
   "version": "3.9.7"
  }
 },
 "nbformat": 4,
 "nbformat_minor": 5
}
