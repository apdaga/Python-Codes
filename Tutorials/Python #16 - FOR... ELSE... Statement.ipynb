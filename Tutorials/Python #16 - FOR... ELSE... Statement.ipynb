{
 "cells": [
  {
   "cell_type": "markdown",
   "id": "33cf8aad",
   "metadata": {},
   "source": [
    "# FOR... ELSE... Statement"
   ]
  },
  {
   "cell_type": "code",
   "execution_count": 21,
   "id": "58afceec",
   "metadata": {},
   "outputs": [],
   "source": [
    "l1 = ['a','b','c','d','e','f']"
   ]
  },
  {
   "cell_type": "code",
   "execution_count": 22,
   "id": "73862346",
   "metadata": {},
   "outputs": [
    {
     "data": {
      "text/plain": [
       "['a', 'b', 'c', 'd', 'e', 'f']"
      ]
     },
     "execution_count": 22,
     "metadata": {},
     "output_type": "execute_result"
    }
   ],
   "source": [
    "l1"
   ]
  },
  {
   "cell_type": "code",
   "execution_count": 23,
   "id": "49ca94a0",
   "metadata": {},
   "outputs": [
    {
     "name": "stdout",
     "output_type": "stream",
     "text": [
      "a\n",
      "b\n",
      "c\n",
      "d\n",
      "e\n",
      "f\n"
     ]
    }
   ],
   "source": [
    "for i in l1:\n",
    "    print(i)"
   ]
  },
  {
   "cell_type": "code",
   "execution_count": 24,
   "id": "58e18f39",
   "metadata": {},
   "outputs": [
    {
     "name": "stdout",
     "output_type": "stream",
     "text": [
      "a\n",
      "b\n",
      "c\n",
      "d\n",
      "e\n",
      "f\n",
      "This is print statement from else part\n"
     ]
    }
   ],
   "source": [
    "for i in l1:\n",
    "    print(i)\n",
    "else:\n",
    "    print(\"This is print statement from else part\")"
   ]
  },
  {
   "cell_type": "code",
   "execution_count": 25,
   "id": "a1b0e78f",
   "metadata": {},
   "outputs": [
    {
     "name": "stdout",
     "output_type": "stream",
     "text": [
      "a\n",
      "b\n",
      "c\n",
      "d\n",
      "e\n",
      "f\n",
      "This is print statement from else part\n"
     ]
    }
   ],
   "source": [
    "for i in l1:\n",
    "    print(i)\n",
    "print(\"This is print statement from else part\")"
   ]
  },
  {
   "cell_type": "code",
   "execution_count": 26,
   "id": "3952d33e",
   "metadata": {},
   "outputs": [
    {
     "name": "stdout",
     "output_type": "stream",
     "text": [
      "a\n",
      "b\n",
      "c\n"
     ]
    }
   ],
   "source": [
    "for i in l1:\n",
    "    print(i)\n",
    "    if i == 'c':\n",
    "        break\n",
    "else:\n",
    "    print(\"This is print statement from else part\")"
   ]
  },
  {
   "cell_type": "code",
   "execution_count": 27,
   "id": "18b23a96",
   "metadata": {},
   "outputs": [
    {
     "name": "stdout",
     "output_type": "stream",
     "text": [
      "a\n",
      "b\n",
      "c\n",
      "This is print statement from else part\n"
     ]
    }
   ],
   "source": [
    "for i in l1:\n",
    "    print(i)\n",
    "    if i == 'c':\n",
    "        break\n",
    "print(\"This is print statement from else part\")"
   ]
  },
  {
   "cell_type": "code",
   "execution_count": 30,
   "id": "cd76da5e",
   "metadata": {},
   "outputs": [
    {
     "name": "stdout",
     "output_type": "stream",
     "text": [
      "a\n",
      "b\n",
      "c\n"
     ]
    }
   ],
   "source": [
    "for i in l1:\n",
    "    print(i)\n",
    "    if i == 'c':\n",
    "        break\n",
    "else:\n",
    "    print(\"Hurray, for loop completed\")"
   ]
  },
  {
   "cell_type": "code",
   "execution_count": 31,
   "id": "cc33ee4e",
   "metadata": {},
   "outputs": [
    {
     "name": "stdout",
     "output_type": "stream",
     "text": [
      "a\n",
      "b\n",
      "c\n",
      "d\n",
      "e\n",
      "f\n",
      "Hurray, for loop completed\n"
     ]
    }
   ],
   "source": [
    "for i in l1:\n",
    "    print(i)\n",
    "    if i == 'z':\n",
    "        break\n",
    "else:\n",
    "    print(\"Hurray, for loop completed\")"
   ]
  },
  {
   "cell_type": "code",
   "execution_count": null,
   "id": "b4328edb",
   "metadata": {},
   "outputs": [],
   "source": []
  }
 ],
 "metadata": {
  "kernelspec": {
   "display_name": "Python 3",
   "language": "python",
   "name": "python3"
  },
  "language_info": {
   "codemirror_mode": {
    "name": "ipython",
    "version": 3
   },
   "file_extension": ".py",
   "mimetype": "text/x-python",
   "name": "python",
   "nbconvert_exporter": "python",
   "pygments_lexer": "ipython3",
   "version": "3.8.8"
  }
 },
 "nbformat": 4,
 "nbformat_minor": 5
}
