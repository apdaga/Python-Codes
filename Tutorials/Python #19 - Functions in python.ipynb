{
 "cells": [
  {
   "cell_type": "markdown",
   "id": "c121a7ae",
   "metadata": {},
   "source": [
    "# Functions in python"
   ]
  },
  {
   "cell_type": "code",
   "execution_count": 1,
   "id": "e79036d3",
   "metadata": {},
   "outputs": [
    {
     "name": "stdout",
     "output_type": "stream",
     "text": [
      "Akshay\n"
     ]
    }
   ],
   "source": [
    "print(\"Akshay\")"
   ]
  },
  {
   "cell_type": "code",
   "execution_count": 2,
   "id": "21f03b92",
   "metadata": {},
   "outputs": [
    {
     "data": {
      "text/plain": [
       "6"
      ]
     },
     "execution_count": 2,
     "metadata": {},
     "output_type": "execute_result"
    }
   ],
   "source": [
    "len(\"apdaga\")"
   ]
  },
  {
   "cell_type": "code",
   "execution_count": 3,
   "id": "5631cdd9",
   "metadata": {},
   "outputs": [],
   "source": [
    "def test():\n",
    "    print(\"This is my first function\")"
   ]
  },
  {
   "cell_type": "code",
   "execution_count": 4,
   "id": "484117a6",
   "metadata": {},
   "outputs": [
    {
     "name": "stdout",
     "output_type": "stream",
     "text": [
      "This is my first function\n"
     ]
    }
   ],
   "source": [
    "test()"
   ]
  },
  {
   "cell_type": "code",
   "execution_count": 5,
   "id": "46fe8903",
   "metadata": {},
   "outputs": [],
   "source": [
    "def test1(a):\n",
    "    print(a)"
   ]
  },
  {
   "cell_type": "code",
   "execution_count": 6,
   "id": "5911f9a1",
   "metadata": {},
   "outputs": [
    {
     "ename": "TypeError",
     "evalue": "test1() missing 1 required positional argument: 'a'",
     "output_type": "error",
     "traceback": [
      "\u001b[1;31m---------------------------------------------------------------------------\u001b[0m",
      "\u001b[1;31mTypeError\u001b[0m                                 Traceback (most recent call last)",
      "\u001b[1;32m<ipython-input-6-51a57b51f630>\u001b[0m in \u001b[0;36m<module>\u001b[1;34m\u001b[0m\n\u001b[1;32m----> 1\u001b[1;33m \u001b[0mtest1\u001b[0m\u001b[1;33m(\u001b[0m\u001b[1;33m)\u001b[0m\u001b[1;33m\u001b[0m\u001b[1;33m\u001b[0m\u001b[0m\n\u001b[0m",
      "\u001b[1;31mTypeError\u001b[0m: test1() missing 1 required positional argument: 'a'"
     ]
    }
   ],
   "source": [
    "test1()"
   ]
  },
  {
   "cell_type": "code",
   "execution_count": 7,
   "id": "cac36dc5",
   "metadata": {},
   "outputs": [
    {
     "name": "stdout",
     "output_type": "stream",
     "text": [
      "564\n"
     ]
    }
   ],
   "source": [
    "test1(564)"
   ]
  },
  {
   "cell_type": "code",
   "execution_count": 8,
   "id": "8de828fc",
   "metadata": {},
   "outputs": [
    {
     "name": "stdout",
     "output_type": "stream",
     "text": [
      "5\n"
     ]
    }
   ],
   "source": [
    "b = test1(5)"
   ]
  },
  {
   "cell_type": "code",
   "execution_count": 10,
   "id": "e7980c19",
   "metadata": {},
   "outputs": [
    {
     "name": "stdout",
     "output_type": "stream",
     "text": [
      "None\n"
     ]
    }
   ],
   "source": [
    "print(b)"
   ]
  },
  {
   "cell_type": "code",
   "execution_count": 11,
   "id": "5d01c305",
   "metadata": {},
   "outputs": [],
   "source": [
    "def test2(a,b):\n",
    "    return a*b"
   ]
  },
  {
   "cell_type": "code",
   "execution_count": 12,
   "id": "784889e0",
   "metadata": {},
   "outputs": [
    {
     "data": {
      "text/plain": [
       "15"
      ]
     },
     "execution_count": 12,
     "metadata": {},
     "output_type": "execute_result"
    }
   ],
   "source": [
    "test2(5,3)"
   ]
  },
  {
   "cell_type": "code",
   "execution_count": 13,
   "id": "1b7bed97",
   "metadata": {},
   "outputs": [],
   "source": [
    "c = test2(5,3)"
   ]
  },
  {
   "cell_type": "code",
   "execution_count": 14,
   "id": "abbed811",
   "metadata": {},
   "outputs": [
    {
     "data": {
      "text/plain": [
       "15"
      ]
     },
     "execution_count": 14,
     "metadata": {},
     "output_type": "execute_result"
    }
   ],
   "source": [
    "c"
   ]
  },
  {
   "cell_type": "code",
   "execution_count": 15,
   "id": "4f200d0b",
   "metadata": {},
   "outputs": [],
   "source": [
    "def test3(a,b):\n",
    "    return a*b, a+b"
   ]
  },
  {
   "cell_type": "code",
   "execution_count": 16,
   "id": "a4054907",
   "metadata": {},
   "outputs": [
    {
     "data": {
      "text/plain": [
       "(24, 10)"
      ]
     },
     "execution_count": 16,
     "metadata": {},
     "output_type": "execute_result"
    }
   ],
   "source": [
    "test3(4,6)"
   ]
  },
  {
   "cell_type": "code",
   "execution_count": 17,
   "id": "5a5d0a15",
   "metadata": {},
   "outputs": [],
   "source": [
    "d = test3(4,6)"
   ]
  },
  {
   "cell_type": "code",
   "execution_count": 18,
   "id": "de5f0b5e",
   "metadata": {},
   "outputs": [
    {
     "data": {
      "text/plain": [
       "(24, 10)"
      ]
     },
     "execution_count": 18,
     "metadata": {},
     "output_type": "execute_result"
    }
   ],
   "source": [
    "d"
   ]
  },
  {
   "cell_type": "code",
   "execution_count": 19,
   "id": "1cd0a022",
   "metadata": {},
   "outputs": [
    {
     "data": {
      "text/plain": [
       "24"
      ]
     },
     "execution_count": 19,
     "metadata": {},
     "output_type": "execute_result"
    }
   ],
   "source": [
    "d[0]"
   ]
  },
  {
   "cell_type": "code",
   "execution_count": 20,
   "id": "0354c7e4",
   "metadata": {},
   "outputs": [
    {
     "data": {
      "text/plain": [
       "10"
      ]
     },
     "execution_count": 20,
     "metadata": {},
     "output_type": "execute_result"
    }
   ],
   "source": [
    "d[1]"
   ]
  },
  {
   "cell_type": "code",
   "execution_count": 21,
   "id": "8af63565",
   "metadata": {},
   "outputs": [],
   "source": [
    "a,b = test3(6,7)"
   ]
  },
  {
   "cell_type": "code",
   "execution_count": 22,
   "id": "beb38455",
   "metadata": {},
   "outputs": [
    {
     "data": {
      "text/plain": [
       "42"
      ]
     },
     "execution_count": 22,
     "metadata": {},
     "output_type": "execute_result"
    }
   ],
   "source": [
    "a"
   ]
  },
  {
   "cell_type": "code",
   "execution_count": 23,
   "id": "62b8807f",
   "metadata": {},
   "outputs": [
    {
     "data": {
      "text/plain": [
       "13"
      ]
     },
     "execution_count": 23,
     "metadata": {},
     "output_type": "execute_result"
    }
   ],
   "source": [
    "b"
   ]
  },
  {
   "cell_type": "code",
   "execution_count": 26,
   "id": "00a7bce3",
   "metadata": {},
   "outputs": [],
   "source": [
    "def test5(a,b,c,d,e):\n",
    "    return a,b,c,d,e\n",
    "    print(a*2,b*2,c*2,d*2,e*2)"
   ]
  },
  {
   "cell_type": "code",
   "execution_count": 27,
   "id": "4171b12b",
   "metadata": {},
   "outputs": [
    {
     "data": {
      "text/plain": [
       "(1, 2, 3, 4, 5)"
      ]
     },
     "execution_count": 27,
     "metadata": {},
     "output_type": "execute_result"
    }
   ],
   "source": [
    "test5(1,2,3,4,5)"
   ]
  },
  {
   "cell_type": "code",
   "execution_count": 29,
   "id": "1698bcb6",
   "metadata": {},
   "outputs": [
    {
     "ename": "TypeError",
     "evalue": "test5() takes 5 positional arguments but 6 were given",
     "output_type": "error",
     "traceback": [
      "\u001b[1;31m---------------------------------------------------------------------------\u001b[0m",
      "\u001b[1;31mTypeError\u001b[0m                                 Traceback (most recent call last)",
      "\u001b[1;32m<ipython-input-29-3aa0209c994a>\u001b[0m in \u001b[0;36m<module>\u001b[1;34m\u001b[0m\n\u001b[1;32m----> 1\u001b[1;33m \u001b[0mtest5\u001b[0m\u001b[1;33m(\u001b[0m\u001b[1;36m3\u001b[0m\u001b[1;33m,\u001b[0m\u001b[1;36m4\u001b[0m\u001b[1;33m,\u001b[0m\u001b[1;36m5\u001b[0m\u001b[1;33m,\u001b[0m\u001b[1;36m4\u001b[0m\u001b[1;33m,\u001b[0m\u001b[1;36m5\u001b[0m\u001b[1;33m,\u001b[0m\u001b[1;36m3\u001b[0m\u001b[1;33m)\u001b[0m\u001b[1;33m\u001b[0m\u001b[1;33m\u001b[0m\u001b[0m\n\u001b[0m",
      "\u001b[1;31mTypeError\u001b[0m: test5() takes 5 positional arguments but 6 were given"
     ]
    }
   ],
   "source": [
    "test5(3,4,5,4,5,3)"
   ]
  },
  {
   "cell_type": "code",
   "execution_count": null,
   "id": "6dc1e1a4",
   "metadata": {},
   "outputs": [],
   "source": []
  }
 ],
 "metadata": {
  "kernelspec": {
   "display_name": "Python 3",
   "language": "python",
   "name": "python3"
  },
  "language_info": {
   "codemirror_mode": {
    "name": "ipython",
    "version": 3
   },
   "file_extension": ".py",
   "mimetype": "text/x-python",
   "name": "python",
   "nbconvert_exporter": "python",
   "pygments_lexer": "ipython3",
   "version": "3.8.8"
  }
 },
 "nbformat": 4,
 "nbformat_minor": 5
}
