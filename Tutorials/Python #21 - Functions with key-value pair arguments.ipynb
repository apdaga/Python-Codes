{
 "cells": [
  {
   "cell_type": "markdown",
   "id": "f1bb6158",
   "metadata": {},
   "source": [
    "# Functions with key-value pair arguments"
   ]
  },
  {
   "cell_type": "code",
   "execution_count": 6,
   "id": "ba639448",
   "metadata": {},
   "outputs": [],
   "source": [
    "def test(**kwargs):\n",
    "    return kwargs"
   ]
  },
  {
   "cell_type": "code",
   "execution_count": 7,
   "id": "f3b89432",
   "metadata": {},
   "outputs": [
    {
     "data": {
      "text/plain": [
       "{'a': 1, 'b': 2, 'c': 3}"
      ]
     },
     "execution_count": 7,
     "metadata": {},
     "output_type": "execute_result"
    }
   ],
   "source": [
    "test(a=1,b=2,c=3)"
   ]
  },
  {
   "cell_type": "code",
   "execution_count": 8,
   "id": "fca17b89",
   "metadata": {},
   "outputs": [
    {
     "data": {
      "text/plain": [
       "{'name': 'akshay daga',\n",
       " 'age': 29,\n",
       " 'addr': 'amravati',\n",
       " 'email': 'apdaga.dumpbox@gmail.com',\n",
       " 'mob': 9403306290}"
      ]
     },
     "execution_count": 8,
     "metadata": {},
     "output_type": "execute_result"
    }
   ],
   "source": [
    "test(name=\"akshay daga\", age=29, addr=\"amravati\", email=\"apdaga.dumpbox@gmail.com\", mob=9403306290)"
   ]
  },
  {
   "cell_type": "code",
   "execution_count": 9,
   "id": "f68dbc80",
   "metadata": {},
   "outputs": [],
   "source": [
    "def test1(a,b,*args,**kwargs):\n",
    "    return a,b,args,kwargs"
   ]
  },
  {
   "cell_type": "code",
   "execution_count": 10,
   "id": "beada57d",
   "metadata": {},
   "outputs": [
    {
     "data": {
      "text/plain": [
       "(1, 2.3, (454, 23, 43, 23), {'c': 45, 'd': 234, 'e': 645})"
      ]
     },
     "execution_count": 10,
     "metadata": {},
     "output_type": "execute_result"
    }
   ],
   "source": [
    "test1(1,2.3,454,23,43,23,c=45,d=234,e=645)"
   ]
  },
  {
   "cell_type": "code",
   "execution_count": 13,
   "id": "f7ba9722",
   "metadata": {},
   "outputs": [
    {
     "ename": "TypeError",
     "evalue": "test1() got multiple values for argument 'a'",
     "output_type": "error",
     "traceback": [
      "\u001b[1;31m---------------------------------------------------------------------------\u001b[0m",
      "\u001b[1;31mTypeError\u001b[0m                                 Traceback (most recent call last)",
      "\u001b[1;32m<ipython-input-13-30cb704a721f>\u001b[0m in \u001b[0;36m<module>\u001b[1;34m\u001b[0m\n\u001b[1;32m----> 1\u001b[1;33m \u001b[0mtest1\u001b[0m\u001b[1;33m(\u001b[0m\u001b[1;36m1\u001b[0m\u001b[1;33m,\u001b[0m\u001b[1;36m2.3\u001b[0m\u001b[1;33m,\u001b[0m\u001b[1;36m454\u001b[0m\u001b[1;33m,\u001b[0m\u001b[1;36m23\u001b[0m\u001b[1;33m,\u001b[0m\u001b[1;36m43\u001b[0m\u001b[1;33m,\u001b[0m\u001b[1;36m23\u001b[0m\u001b[1;33m,\u001b[0m\u001b[0ma\u001b[0m\u001b[1;33m=\u001b[0m\u001b[1;36m45\u001b[0m\u001b[1;33m,\u001b[0m\u001b[0md\u001b[0m\u001b[1;33m=\u001b[0m\u001b[1;36m234\u001b[0m\u001b[1;33m,\u001b[0m\u001b[0me\u001b[0m\u001b[1;33m=\u001b[0m\u001b[1;36m645\u001b[0m\u001b[1;33m)\u001b[0m\u001b[1;33m\u001b[0m\u001b[1;33m\u001b[0m\u001b[0m\n\u001b[0m",
      "\u001b[1;31mTypeError\u001b[0m: test1() got multiple values for argument 'a'"
     ]
    }
   ],
   "source": [
    "test1(1,2.3,454,23,43,23,a=45,d=234,e=645)"
   ]
  },
  {
   "cell_type": "code",
   "execution_count": 14,
   "id": "6c8f4402",
   "metadata": {},
   "outputs": [
    {
     "ename": "SyntaxError",
     "evalue": "positional argument follows keyword argument (<ipython-input-14-5cea483bfb22>, line 1)",
     "output_type": "error",
     "traceback": [
      "\u001b[1;36m  File \u001b[1;32m\"<ipython-input-14-5cea483bfb22>\"\u001b[1;36m, line \u001b[1;32m1\u001b[0m\n\u001b[1;33m    test1(1,2.3,a=45,d=234,e=645,454,23,43,23)\u001b[0m\n\u001b[1;37m                                 ^\u001b[0m\n\u001b[1;31mSyntaxError\u001b[0m\u001b[1;31m:\u001b[0m positional argument follows keyword argument\n"
     ]
    }
   ],
   "source": [
    "test1(1,2.3,a=45,d=234,e=645,454,23,43,23)"
   ]
  },
  {
   "cell_type": "code",
   "execution_count": 15,
   "id": "0ede1d94",
   "metadata": {},
   "outputs": [
    {
     "ename": "SyntaxError",
     "evalue": "invalid syntax (<ipython-input-15-4b647547056a>, line 1)",
     "output_type": "error",
     "traceback": [
      "\u001b[1;36m  File \u001b[1;32m\"<ipython-input-15-4b647547056a>\"\u001b[1;36m, line \u001b[1;32m1\u001b[0m\n\u001b[1;33m    def test2(a,**kwargs,*args):\u001b[0m\n\u001b[1;37m                         ^\u001b[0m\n\u001b[1;31mSyntaxError\u001b[0m\u001b[1;31m:\u001b[0m invalid syntax\n"
     ]
    }
   ],
   "source": [
    "def test2(a,**kwargs,*args):\n",
    "    return a,b,args,kwargs"
   ]
  },
  {
   "cell_type": "code",
   "execution_count": 16,
   "id": "1240539d",
   "metadata": {},
   "outputs": [
    {
     "ename": "SyntaxError",
     "evalue": "invalid syntax (<ipython-input-16-e6caa0e72186>, line 1)",
     "output_type": "error",
     "traceback": [
      "\u001b[1;36m  File \u001b[1;32m\"<ipython-input-16-e6caa0e72186>\"\u001b[1;36m, line \u001b[1;32m1\u001b[0m\n\u001b[1;33m    def test2(*args,**kwargs,a):\u001b[0m\n\u001b[1;37m                             ^\u001b[0m\n\u001b[1;31mSyntaxError\u001b[0m\u001b[1;31m:\u001b[0m invalid syntax\n"
     ]
    }
   ],
   "source": [
    "def test2(*args,**kwargs,a):\n",
    "    return a,b,args,kwargs"
   ]
  },
  {
   "cell_type": "code",
   "execution_count": 20,
   "id": "9930e445",
   "metadata": {},
   "outputs": [],
   "source": [
    "def test2(a,*args,**kwargs):\n",
    "    return a,args,kwargs"
   ]
  },
  {
   "cell_type": "code",
   "execution_count": 21,
   "id": "2d980c77",
   "metadata": {},
   "outputs": [
    {
     "data": {
      "text/plain": [
       "(1, (2, 3, 4, 5), {'c': 544, 'd': [4, 4, 6], 'e': 'dsf'})"
      ]
     },
     "execution_count": 21,
     "metadata": {},
     "output_type": "execute_result"
    }
   ],
   "source": [
    "test2(1,2,3,4,5,c=544,d=[4,4,6],e=\"dsf\")"
   ]
  },
  {
   "cell_type": "code",
   "execution_count": 22,
   "id": "f060b893",
   "metadata": {},
   "outputs": [],
   "source": [
    "out = test2(1,2,3,4,5,c=544,d=[4,4,6],e=\"dsf\")"
   ]
  },
  {
   "cell_type": "code",
   "execution_count": 23,
   "id": "de3d07a3",
   "metadata": {},
   "outputs": [
    {
     "data": {
      "text/plain": [
       "(1, (2, 3, 4, 5), {'c': 544, 'd': [4, 4, 6], 'e': 'dsf'})"
      ]
     },
     "execution_count": 23,
     "metadata": {},
     "output_type": "execute_result"
    }
   ],
   "source": [
    "out"
   ]
  },
  {
   "cell_type": "code",
   "execution_count": 24,
   "id": "6a3b8bf8",
   "metadata": {},
   "outputs": [
    {
     "data": {
      "text/plain": [
       "1"
      ]
     },
     "execution_count": 24,
     "metadata": {},
     "output_type": "execute_result"
    }
   ],
   "source": [
    "out[0]"
   ]
  },
  {
   "cell_type": "code",
   "execution_count": 25,
   "id": "7dffb76f",
   "metadata": {},
   "outputs": [
    {
     "data": {
      "text/plain": [
       "(2, 3, 4, 5)"
      ]
     },
     "execution_count": 25,
     "metadata": {},
     "output_type": "execute_result"
    }
   ],
   "source": [
    "out[1]"
   ]
  },
  {
   "cell_type": "code",
   "execution_count": 26,
   "id": "fe818af6",
   "metadata": {},
   "outputs": [
    {
     "data": {
      "text/plain": [
       "{'c': 544, 'd': [4, 4, 6], 'e': 'dsf'}"
      ]
     },
     "execution_count": 26,
     "metadata": {},
     "output_type": "execute_result"
    }
   ],
   "source": [
    "out[2]"
   ]
  },
  {
   "cell_type": "code",
   "execution_count": null,
   "id": "e658bca0",
   "metadata": {},
   "outputs": [],
   "source": []
  }
 ],
 "metadata": {
  "kernelspec": {
   "display_name": "Python 3",
   "language": "python",
   "name": "python3"
  },
  "language_info": {
   "codemirror_mode": {
    "name": "ipython",
    "version": 3
   },
   "file_extension": ".py",
   "mimetype": "text/x-python",
   "name": "python",
   "nbconvert_exporter": "python",
   "pygments_lexer": "ipython3",
   "version": "3.8.8"
  }
 },
 "nbformat": 4,
 "nbformat_minor": 5
}
