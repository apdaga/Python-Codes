{
 "cells": [
  {
   "cell_type": "markdown",
   "id": "f4a31745",
   "metadata": {},
   "source": [
    "# Lambda Functions"
   ]
  },
  {
   "cell_type": "code",
   "execution_count": 28,
   "id": "30f12a06",
   "metadata": {},
   "outputs": [],
   "source": [
    "def test(a,b):\n",
    "    return a*b"
   ]
  },
  {
   "cell_type": "code",
   "execution_count": 29,
   "id": "b00d02ee",
   "metadata": {},
   "outputs": [
    {
     "data": {
      "text/plain": [
       "20"
      ]
     },
     "execution_count": 29,
     "metadata": {},
     "output_type": "execute_result"
    }
   ],
   "source": [
    "test(4,5)"
   ]
  },
  {
   "cell_type": "code",
   "execution_count": 30,
   "id": "76952c1f",
   "metadata": {},
   "outputs": [
    {
     "data": {
      "text/plain": [
       "<function __main__.<lambda>(a, b)>"
      ]
     },
     "execution_count": 30,
     "metadata": {},
     "output_type": "execute_result"
    }
   ],
   "source": [
    "lambda a,b: a*b"
   ]
  },
  {
   "cell_type": "code",
   "execution_count": 31,
   "id": "c7e1c69c",
   "metadata": {},
   "outputs": [],
   "source": [
    "f1 = lambda a,b : a*b"
   ]
  },
  {
   "cell_type": "code",
   "execution_count": 32,
   "id": "ebf813ac",
   "metadata": {},
   "outputs": [
    {
     "data": {
      "text/plain": [
       "20"
      ]
     },
     "execution_count": 32,
     "metadata": {},
     "output_type": "execute_result"
    }
   ],
   "source": [
    "f1(4,5)"
   ]
  },
  {
   "cell_type": "code",
   "execution_count": 33,
   "id": "b06c42c1",
   "metadata": {},
   "outputs": [
    {
     "ename": "NameError",
     "evalue": "name 'a' is not defined",
     "output_type": "error",
     "traceback": [
      "\u001b[1;31m---------------------------------------------------------------------------\u001b[0m",
      "\u001b[1;31mNameError\u001b[0m                                 Traceback (most recent call last)",
      "\u001b[1;32m<ipython-input-33-e505c301a509>\u001b[0m in \u001b[0;36m<module>\u001b[1;34m\u001b[0m\n\u001b[1;32m----> 1\u001b[1;33m \u001b[0mf2\u001b[0m \u001b[1;33m=\u001b[0m \u001b[1;32mlambda\u001b[0m \u001b[0ma\u001b[0m\u001b[1;33m,\u001b[0m\u001b[0mb\u001b[0m \u001b[1;33m:\u001b[0m \u001b[0ma\u001b[0m\u001b[1;33m*\u001b[0m\u001b[0mb\u001b[0m\u001b[1;33m,\u001b[0m \u001b[0ma\u001b[0m\u001b[1;33m+\u001b[0m\u001b[0mb\u001b[0m\u001b[1;33m\u001b[0m\u001b[1;33m\u001b[0m\u001b[0m\n\u001b[0m",
      "\u001b[1;31mNameError\u001b[0m: name 'a' is not defined"
     ]
    }
   ],
   "source": [
    "f2 = lambda a,b : a*b, a+b"
   ]
  },
  {
   "cell_type": "code",
   "execution_count": 34,
   "id": "d2a0f508",
   "metadata": {},
   "outputs": [],
   "source": [
    "f2 = lambda a,b : (a*b, a+b)"
   ]
  },
  {
   "cell_type": "code",
   "execution_count": 35,
   "id": "456ea49b",
   "metadata": {},
   "outputs": [
    {
     "data": {
      "text/plain": [
       "(20, 9)"
      ]
     },
     "execution_count": 35,
     "metadata": {},
     "output_type": "execute_result"
    }
   ],
   "source": [
    "f2(4,5)"
   ]
  },
  {
   "cell_type": "code",
   "execution_count": 36,
   "id": "7af0c790",
   "metadata": {},
   "outputs": [],
   "source": [
    "f3 = lambda *args : args"
   ]
  },
  {
   "cell_type": "code",
   "execution_count": 38,
   "id": "ebbcfdce",
   "metadata": {},
   "outputs": [
    {
     "data": {
      "text/plain": [
       "(3, 4, 6, 'sdfs', [3, 4, 3, 'as'])"
      ]
     },
     "execution_count": 38,
     "metadata": {},
     "output_type": "execute_result"
    }
   ],
   "source": [
    "f3(3,4,6,\"sdfs\",[3,4,3,'as'])"
   ]
  },
  {
   "cell_type": "code",
   "execution_count": 39,
   "id": "25110eb2",
   "metadata": {},
   "outputs": [],
   "source": [
    "f4 = lambda **kwargs : kwargs"
   ]
  },
  {
   "cell_type": "code",
   "execution_count": 40,
   "id": "3ec5c0fd",
   "metadata": {},
   "outputs": [
    {
     "data": {
      "text/plain": [
       "{'a': 1, 'b': 2, 'c': 3}"
      ]
     },
     "execution_count": 40,
     "metadata": {},
     "output_type": "execute_result"
    }
   ],
   "source": [
    "f4(a=1,b=2,c=3)"
   ]
  },
  {
   "cell_type": "code",
   "execution_count": 41,
   "id": "02be31c2",
   "metadata": {},
   "outputs": [],
   "source": [
    "f5 = lambda l : [i for i in l if i%2==0]"
   ]
  },
  {
   "cell_type": "code",
   "execution_count": 42,
   "id": "6226f893",
   "metadata": {},
   "outputs": [
    {
     "data": {
      "text/plain": [
       "[2, 4, 0, 454, 32, 34]"
      ]
     },
     "execution_count": 42,
     "metadata": {},
     "output_type": "execute_result"
    }
   ],
   "source": [
    "f5([2,3,4,0,5,454,32,5423,34])"
   ]
  },
  {
   "cell_type": "code",
   "execution_count": 43,
   "id": "ee7f048d",
   "metadata": {},
   "outputs": [],
   "source": [
    "l1 = [1,2,3,4,5,6,7,8,9]"
   ]
  },
  {
   "cell_type": "code",
   "execution_count": 44,
   "id": "bcda00e1",
   "metadata": {},
   "outputs": [
    {
     "data": {
      "text/plain": [
       "[2, 4, 6, 8]"
      ]
     },
     "execution_count": 44,
     "metadata": {},
     "output_type": "execute_result"
    }
   ],
   "source": [
    "f5(l1)"
   ]
  },
  {
   "cell_type": "code",
   "execution_count": 45,
   "id": "15176f2a",
   "metadata": {},
   "outputs": [],
   "source": [
    "f6 = lambda **kwargs : {k:v for k,v in kwargs.items() if v%2==0}"
   ]
  },
  {
   "cell_type": "code",
   "execution_count": 46,
   "id": "7f34bcbe",
   "metadata": {},
   "outputs": [
    {
     "data": {
      "text/plain": [
       "{'b': 2, 'd': 4}"
      ]
     },
     "execution_count": 46,
     "metadata": {},
     "output_type": "execute_result"
    }
   ],
   "source": [
    "f6(a=1,b=2,c=3,d=4,e=5)"
   ]
  },
  {
   "cell_type": "code",
   "execution_count": null,
   "id": "71dedf35",
   "metadata": {},
   "outputs": [],
   "source": []
  }
 ],
 "metadata": {
  "kernelspec": {
   "display_name": "Python 3",
   "language": "python",
   "name": "python3"
  },
  "language_info": {
   "codemirror_mode": {
    "name": "ipython",
    "version": 3
   },
   "file_extension": ".py",
   "mimetype": "text/x-python",
   "name": "python",
   "nbconvert_exporter": "python",
   "pygments_lexer": "ipython3",
   "version": "3.8.8"
  }
 },
 "nbformat": 4,
 "nbformat_minor": 5
}
