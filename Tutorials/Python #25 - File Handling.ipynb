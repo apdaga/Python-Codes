{
 "cells": [
  {
   "cell_type": "markdown",
   "id": "60b515c3",
   "metadata": {},
   "source": [
    "# File Handling"
   ]
  },
  {
   "cell_type": "code",
   "execution_count": 1,
   "id": "122fb92d",
   "metadata": {},
   "outputs": [
    {
     "data": {
      "text/plain": [
       "'C:\\\\Users\\\\akshay.daga\\\\Jupyter Notebooks'"
      ]
     },
     "execution_count": 1,
     "metadata": {},
     "output_type": "execute_result"
    }
   ],
   "source": [
    "pwd"
   ]
  },
  {
   "cell_type": "code",
   "execution_count": 2,
   "id": "ee526c8d",
   "metadata": {},
   "outputs": [
    {
     "name": "stdout",
     "output_type": "stream",
     "text": [
      " Volume in drive C is Windows\n",
      " Volume Serial Number is D8FC-E3B8\n",
      "\n",
      " Directory of C:\\Users\\akshay.daga\\Jupyter Notebooks\n",
      "\n",
      "01/23/2022  06:00 PM    <DIR>          .\n",
      "01/23/2022  06:00 PM    <DIR>          ..\n",
      "01/23/2022  05:38 PM    <DIR>          .ipynb_checkpoints\n",
      "01/22/2022  11:07 AM    <DIR>          __pycache__\n",
      "12/29/2021  08:37 PM           237,672 FSDS #3.ipynb\n",
      "01/09/2022  01:11 PM            59,903 FSDS #4.ipynb\n",
      "01/22/2022  10:16 AM               576 FSDS #6.ipynb\n",
      "01/22/2022  11:24 AM             6,407 FSDS #7.ipynb\n",
      "01/23/2022  12:44 PM            17,218 FSDS #8 - OOPS Beginning.ipynb\n",
      "01/22/2022  10:50 AM               459 module1.py\n",
      "01/22/2022  11:07 AM               240 module2.py\n",
      "01/09/2022  01:09 PM               442 out.txt\n",
      "12/31/2021  04:35 PM             7,578 Python #15.2 - BREAK vs PASS vs CONTINUE.ipynb\n",
      "12/31/2021  03:57 PM             4,316 Python #16 - FOR... ELSE... Statement.ipynb\n",
      "12/31/2021  04:07 PM         1,025,959 Python #17 - WHILE Loop.ipynb\n",
      "01/08/2022  02:50 PM             8,385 Python #18 - Comprehensions (List, Tuple, Dict, Set).ipynb\n",
      "01/08/2022  03:10 PM             8,721 Python #19 - Functions in python.ipynb\n",
      "01/08/2022  03:33 PM             9,174 Python #20 - Functions with multiple arguments.ipynb\n",
      "01/08/2022  03:49 PM             8,140 Python #21 - Functions with key-value pair arguments.ipynb\n",
      "01/08/2022  04:26 PM             6,284 Python #22 - Lambda functions.ipynb\n",
      "01/08/2022  04:44 PM            18,083 Python #23 - Iterable vs Iterator.ipynb\n",
      "01/22/2022  07:19 PM             8,547 Python #24 - Generator Functions.ipynb\n",
      "01/23/2022  06:00 PM               830 Python #25 - File Handling.ipynb\n",
      "01/09/2022  12:15 PM                93 test.txt\n",
      "01/09/2022  12:30 PM               349 test1.txt\n",
      "              21 File(s)      1,429,376 bytes\n",
      "               4 Dir(s)  209,463,537,664 bytes free\n"
     ]
    }
   ],
   "source": [
    "ls"
   ]
  },
  {
   "cell_type": "code",
   "execution_count": 3,
   "id": "6e960229",
   "metadata": {},
   "outputs": [
    {
     "name": "stdout",
     "output_type": "stream",
     "text": [
      " Volume in drive C is Windows\n",
      " Volume Serial Number is D8FC-E3B8\n",
      "\n",
      " Directory of C:\\Users\\akshay.daga\\Jupyter Notebooks\n",
      "\n",
      "01/23/2022  06:00 PM    <DIR>          .\n",
      "01/23/2022  06:00 PM    <DIR>          ..\n",
      "01/23/2022  05:38 PM    <DIR>          .ipynb_checkpoints\n",
      "12/29/2021  08:37 PM           237,672 FSDS #3.ipynb\n",
      "01/09/2022  01:11 PM            59,903 FSDS #4.ipynb\n",
      "01/22/2022  10:16 AM               576 FSDS #6.ipynb\n",
      "01/22/2022  11:24 AM             6,407 FSDS #7.ipynb\n",
      "01/23/2022  12:44 PM            17,218 FSDS #8 - OOPS Beginning.ipynb\n",
      "01/22/2022  10:50 AM               459 module1.py\n",
      "01/22/2022  11:07 AM               240 module2.py\n",
      "01/09/2022  01:09 PM               442 out.txt\n",
      "12/31/2021  04:35 PM             7,578 Python #15.2 - BREAK vs PASS vs CONTINUE.ipynb\n",
      "12/31/2021  03:57 PM             4,316 Python #16 - FOR... ELSE... Statement.ipynb\n",
      "12/31/2021  04:07 PM         1,025,959 Python #17 - WHILE Loop.ipynb\n",
      "01/08/2022  02:50 PM             8,385 Python #18 - Comprehensions (List, Tuple, Dict, Set).ipynb\n",
      "01/08/2022  03:10 PM             8,721 Python #19 - Functions in python.ipynb\n",
      "01/08/2022  03:33 PM             9,174 Python #20 - Functions with multiple arguments.ipynb\n",
      "01/08/2022  03:49 PM             8,140 Python #21 - Functions with key-value pair arguments.ipynb\n",
      "01/08/2022  04:26 PM             6,284 Python #22 - Lambda functions.ipynb\n",
      "01/08/2022  04:44 PM            18,083 Python #23 - Iterable vs Iterator.ipynb\n",
      "01/22/2022  07:19 PM             8,547 Python #24 - Generator Functions.ipynb\n",
      "01/23/2022  06:00 PM               830 Python #25 - File Handling.ipynb\n",
      "01/09/2022  12:15 PM                93 test.txt\n",
      "01/09/2022  12:30 PM               349 test1.txt\n",
      "01/22/2022  11:07 AM    <DIR>          __pycache__\n",
      "              21 File(s)      1,429,376 bytes\n",
      "               4 Dir(s)  209,414,627,328 bytes free\n"
     ]
    }
   ],
   "source": [
    "!dir"
   ]
  },
  {
   "cell_type": "code",
   "execution_count": 4,
   "id": "56cc9853",
   "metadata": {},
   "outputs": [
    {
     "ename": "FileNotFoundError",
     "evalue": "[Errno 2] No such file or directory: 'first.txt'",
     "output_type": "error",
     "traceback": [
      "\u001b[1;31m---------------------------------------------------------------------------\u001b[0m",
      "\u001b[1;31mFileNotFoundError\u001b[0m                         Traceback (most recent call last)",
      "\u001b[1;32m<ipython-input-4-31588fe5ff11>\u001b[0m in \u001b[0;36m<module>\u001b[1;34m\u001b[0m\n\u001b[1;32m----> 1\u001b[1;33m \u001b[0mf\u001b[0m \u001b[1;33m=\u001b[0m \u001b[0mopen\u001b[0m\u001b[1;33m(\u001b[0m\u001b[1;34m\"first.txt\"\u001b[0m\u001b[1;33m)\u001b[0m\u001b[1;33m\u001b[0m\u001b[1;33m\u001b[0m\u001b[0m\n\u001b[0m",
      "\u001b[1;31mFileNotFoundError\u001b[0m: [Errno 2] No such file or directory: 'first.txt'"
     ]
    }
   ],
   "source": [
    "f = open(\"first.txt\")"
   ]
  },
  {
   "cell_type": "code",
   "execution_count": 5,
   "id": "fff5e1aa",
   "metadata": {},
   "outputs": [],
   "source": [
    "f = open(\"first.txt\",\"w+\")"
   ]
  },
  {
   "cell_type": "code",
   "execution_count": 6,
   "id": "6bdd52ca",
   "metadata": {},
   "outputs": [
    {
     "data": {
      "text/plain": [
       "83"
      ]
     },
     "execution_count": 6,
     "metadata": {},
     "output_type": "execute_result"
    }
   ],
   "source": [
    "f.write(\"This is my first file in python file handling.\\nThis is 2nd line.\\nThis is third line\")"
   ]
  },
  {
   "cell_type": "code",
   "execution_count": 7,
   "id": "7e7eaf6d",
   "metadata": {},
   "outputs": [
    {
     "data": {
      "text/plain": [
       "''"
      ]
     },
     "execution_count": 7,
     "metadata": {},
     "output_type": "execute_result"
    }
   ],
   "source": [
    "f.read()"
   ]
  },
  {
   "cell_type": "code",
   "execution_count": 8,
   "id": "07d01448",
   "metadata": {},
   "outputs": [
    {
     "data": {
      "text/plain": [
       "85"
      ]
     },
     "execution_count": 8,
     "metadata": {},
     "output_type": "execute_result"
    }
   ],
   "source": [
    "f.tell()"
   ]
  },
  {
   "cell_type": "code",
   "execution_count": 9,
   "id": "0e676920",
   "metadata": {},
   "outputs": [
    {
     "data": {
      "text/plain": [
       "0"
      ]
     },
     "execution_count": 9,
     "metadata": {},
     "output_type": "execute_result"
    }
   ],
   "source": [
    "f.seek(0)"
   ]
  },
  {
   "cell_type": "code",
   "execution_count": 10,
   "id": "7304485e",
   "metadata": {},
   "outputs": [
    {
     "data": {
      "text/plain": [
       "'This is my first file in python file handling.\\nThis is 2nd line.\\nThis is third line'"
      ]
     },
     "execution_count": 10,
     "metadata": {},
     "output_type": "execute_result"
    }
   ],
   "source": [
    "f.read()"
   ]
  },
  {
   "cell_type": "code",
   "execution_count": 11,
   "id": "0c126b96",
   "metadata": {},
   "outputs": [
    {
     "data": {
      "text/plain": [
       "'This is my first file in python file handling.\\n'"
      ]
     },
     "execution_count": 11,
     "metadata": {},
     "output_type": "execute_result"
    }
   ],
   "source": [
    "f.seek(0)\n",
    "f.readline()"
   ]
  },
  {
   "cell_type": "code",
   "execution_count": 12,
   "id": "e257c206",
   "metadata": {},
   "outputs": [
    {
     "data": {
      "text/plain": [
       "'This is 2nd line.\\n'"
      ]
     },
     "execution_count": 12,
     "metadata": {},
     "output_type": "execute_result"
    }
   ],
   "source": [
    "f.readline()"
   ]
  },
  {
   "cell_type": "code",
   "execution_count": 13,
   "id": "2d6d7f54",
   "metadata": {},
   "outputs": [
    {
     "data": {
      "text/plain": [
       "'This is third line'"
      ]
     },
     "execution_count": 13,
     "metadata": {},
     "output_type": "execute_result"
    }
   ],
   "source": [
    "f.readline()"
   ]
  },
  {
   "cell_type": "code",
   "execution_count": 14,
   "id": "0eecb2a1",
   "metadata": {},
   "outputs": [
    {
     "data": {
      "text/plain": [
       "''"
      ]
     },
     "execution_count": 14,
     "metadata": {},
     "output_type": "execute_result"
    }
   ],
   "source": [
    "f.readline()"
   ]
  },
  {
   "cell_type": "code",
   "execution_count": 15,
   "id": "3e032180",
   "metadata": {},
   "outputs": [
    {
     "data": {
      "text/plain": [
       "0"
      ]
     },
     "execution_count": 15,
     "metadata": {},
     "output_type": "execute_result"
    }
   ],
   "source": [
    "f.seek(0)"
   ]
  },
  {
   "cell_type": "code",
   "execution_count": 16,
   "id": "c519af62",
   "metadata": {},
   "outputs": [
    {
     "data": {
      "text/plain": [
       "['This is my first file in python file handling.\\n',\n",
       " 'This is 2nd line.\\n',\n",
       " 'This is third line']"
      ]
     },
     "execution_count": 16,
     "metadata": {},
     "output_type": "execute_result"
    }
   ],
   "source": [
    "f.readlines()"
   ]
  },
  {
   "cell_type": "code",
   "execution_count": 17,
   "id": "f6fc118d",
   "metadata": {},
   "outputs": [
    {
     "data": {
      "text/plain": [
       "85"
      ]
     },
     "execution_count": 17,
     "metadata": {},
     "output_type": "execute_result"
    }
   ],
   "source": [
    "f.tell()"
   ]
  },
  {
   "cell_type": "code",
   "execution_count": 18,
   "id": "fbb12f0a",
   "metadata": {},
   "outputs": [
    {
     "data": {
      "text/plain": [
       "18"
      ]
     },
     "execution_count": 18,
     "metadata": {},
     "output_type": "execute_result"
    }
   ],
   "source": [
    "f.write(\"This is 4th line.\\n\")"
   ]
  },
  {
   "cell_type": "code",
   "execution_count": 19,
   "id": "17837e03",
   "metadata": {},
   "outputs": [
    {
     "data": {
      "text/plain": [
       "0"
      ]
     },
     "execution_count": 19,
     "metadata": {},
     "output_type": "execute_result"
    }
   ],
   "source": [
    "f.seek(0)"
   ]
  },
  {
   "cell_type": "code",
   "execution_count": 20,
   "id": "ffef2cba",
   "metadata": {},
   "outputs": [
    {
     "data": {
      "text/plain": [
       "'This is my first file in python file handling.\\nThis is 2nd line.\\nThis is third lineThis is 4th line.\\n'"
      ]
     },
     "execution_count": 20,
     "metadata": {},
     "output_type": "execute_result"
    }
   ],
   "source": [
    "f.read()"
   ]
  },
  {
   "cell_type": "code",
   "execution_count": 21,
   "id": "471fbad5",
   "metadata": {},
   "outputs": [
    {
     "data": {
      "text/plain": [
       "23"
      ]
     },
     "execution_count": 21,
     "metadata": {},
     "output_type": "execute_result"
    }
   ],
   "source": [
    "f.seek(0)\n",
    "f.write(\"This newly written line\")"
   ]
  },
  {
   "cell_type": "code",
   "execution_count": 22,
   "id": "b4028891",
   "metadata": {},
   "outputs": [
    {
     "data": {
      "text/plain": [
       "'This newly written linen python file handling.\\nThis is 2nd line.\\nThis is third lineThis is 4th line.\\n'"
      ]
     },
     "execution_count": 22,
     "metadata": {},
     "output_type": "execute_result"
    }
   ],
   "source": [
    "f.seek(0)\n",
    "f.read()"
   ]
  },
  {
   "cell_type": "code",
   "execution_count": 23,
   "id": "03b4850a",
   "metadata": {},
   "outputs": [],
   "source": [
    "f.close()"
   ]
  },
  {
   "cell_type": "code",
   "execution_count": 24,
   "id": "bc74452f",
   "metadata": {},
   "outputs": [
    {
     "ename": "ValueError",
     "evalue": "I/O operation on closed file.",
     "output_type": "error",
     "traceback": [
      "\u001b[1;31m---------------------------------------------------------------------------\u001b[0m",
      "\u001b[1;31mValueError\u001b[0m                                Traceback (most recent call last)",
      "\u001b[1;32m<ipython-input-24-571e9fb02258>\u001b[0m in \u001b[0;36m<module>\u001b[1;34m\u001b[0m\n\u001b[1;32m----> 1\u001b[1;33m \u001b[0mf\u001b[0m\u001b[1;33m.\u001b[0m\u001b[0mread\u001b[0m\u001b[1;33m(\u001b[0m\u001b[1;33m)\u001b[0m\u001b[1;33m\u001b[0m\u001b[1;33m\u001b[0m\u001b[0m\n\u001b[0m",
      "\u001b[1;31mValueError\u001b[0m: I/O operation on closed file."
     ]
    }
   ],
   "source": [
    "f.read()"
   ]
  },
  {
   "cell_type": "code",
   "execution_count": 25,
   "id": "3d36276a",
   "metadata": {},
   "outputs": [],
   "source": [
    "f = open(\"first.txt\")"
   ]
  },
  {
   "cell_type": "code",
   "execution_count": 26,
   "id": "4982f561",
   "metadata": {},
   "outputs": [
    {
     "data": {
      "text/plain": [
       "'This newly written linen python file handling.\\nThis is 2nd line.\\nThis is third lineThis is 4th line.\\n'"
      ]
     },
     "execution_count": 26,
     "metadata": {},
     "output_type": "execute_result"
    }
   ],
   "source": [
    "f.read()"
   ]
  },
  {
   "cell_type": "code",
   "execution_count": 27,
   "id": "d7ea6d99",
   "metadata": {},
   "outputs": [
    {
     "ename": "UnsupportedOperation",
     "evalue": "not writable",
     "output_type": "error",
     "traceback": [
      "\u001b[1;31m---------------------------------------------------------------------------\u001b[0m",
      "\u001b[1;31mUnsupportedOperation\u001b[0m                      Traceback (most recent call last)",
      "\u001b[1;32m<ipython-input-27-5beda7e44188>\u001b[0m in \u001b[0;36m<module>\u001b[1;34m\u001b[0m\n\u001b[1;32m----> 1\u001b[1;33m \u001b[0mf\u001b[0m\u001b[1;33m.\u001b[0m\u001b[0mwrite\u001b[0m\u001b[1;33m(\u001b[0m\u001b[1;34m\"This is 6th line\"\u001b[0m\u001b[1;33m)\u001b[0m\u001b[1;33m\u001b[0m\u001b[1;33m\u001b[0m\u001b[0m\n\u001b[0m",
      "\u001b[1;31mUnsupportedOperation\u001b[0m: not writable"
     ]
    }
   ],
   "source": [
    "f.write(\"This is 6th line\")"
   ]
  },
  {
   "cell_type": "code",
   "execution_count": 28,
   "id": "f25c3926",
   "metadata": {},
   "outputs": [],
   "source": [
    "f.close()"
   ]
  },
  {
   "cell_type": "code",
   "execution_count": 29,
   "id": "dddcc440",
   "metadata": {},
   "outputs": [
    {
     "ename": "FileNotFoundError",
     "evalue": "[Errno 2] No such file or directory: 'two.txt'",
     "output_type": "error",
     "traceback": [
      "\u001b[1;31m---------------------------------------------------------------------------\u001b[0m",
      "\u001b[1;31mFileNotFoundError\u001b[0m                         Traceback (most recent call last)",
      "\u001b[1;32m<ipython-input-29-80d0f30cfdde>\u001b[0m in \u001b[0;36m<module>\u001b[1;34m\u001b[0m\n\u001b[1;32m----> 1\u001b[1;33m \u001b[0mf\u001b[0m \u001b[1;33m=\u001b[0m \u001b[0mopen\u001b[0m\u001b[1;33m(\u001b[0m\u001b[1;34m\"two.txt\"\u001b[0m\u001b[1;33m,\u001b[0m\u001b[1;34m\"r+\"\u001b[0m\u001b[1;33m)\u001b[0m\u001b[1;33m\u001b[0m\u001b[1;33m\u001b[0m\u001b[0m\n\u001b[0m",
      "\u001b[1;31mFileNotFoundError\u001b[0m: [Errno 2] No such file or directory: 'two.txt'"
     ]
    }
   ],
   "source": [
    "f = open(\"two.txt\",\"r+\")"
   ]
  },
  {
   "cell_type": "code",
   "execution_count": 30,
   "id": "93544c94",
   "metadata": {},
   "outputs": [],
   "source": [
    "f = open(\"first.txt\",\"r+\")"
   ]
  },
  {
   "cell_type": "code",
   "execution_count": 31,
   "id": "5be23c45",
   "metadata": {},
   "outputs": [
    {
     "data": {
      "text/plain": [
       "'This newly written linen python file handling.\\nThis is 2nd line.\\nThis is third lineThis is 4th line.\\n'"
      ]
     },
     "execution_count": 31,
     "metadata": {},
     "output_type": "execute_result"
    }
   ],
   "source": [
    "f.read()"
   ]
  },
  {
   "cell_type": "code",
   "execution_count": 32,
   "id": "62836f45",
   "metadata": {},
   "outputs": [
    {
     "data": {
      "text/plain": [
       "42"
      ]
     },
     "execution_count": 32,
     "metadata": {},
     "output_type": "execute_result"
    }
   ],
   "source": [
    "f.write(\"This is new line which is added in r+ mode\")"
   ]
  },
  {
   "cell_type": "code",
   "execution_count": 33,
   "id": "837fe245",
   "metadata": {},
   "outputs": [
    {
     "data": {
      "text/plain": [
       "146"
      ]
     },
     "execution_count": 33,
     "metadata": {},
     "output_type": "execute_result"
    }
   ],
   "source": [
    "f.tell()"
   ]
  },
  {
   "cell_type": "code",
   "execution_count": 34,
   "id": "bc359be7",
   "metadata": {},
   "outputs": [
    {
     "data": {
      "text/plain": [
       "['This newly written linen python file handling.\\n',\n",
       " 'This is 2nd line.\\n',\n",
       " 'This is third lineThis is 4th line.\\n',\n",
       " 'This is new line which is added in r+ mode']"
      ]
     },
     "execution_count": 34,
     "metadata": {},
     "output_type": "execute_result"
    }
   ],
   "source": [
    "f.seek(0)\n",
    "f.readlines()"
   ]
  },
  {
   "cell_type": "code",
   "execution_count": 35,
   "id": "8c951095",
   "metadata": {},
   "outputs": [],
   "source": [
    "f.close()"
   ]
  },
  {
   "cell_type": "code",
   "execution_count": 36,
   "id": "12c6488d",
   "metadata": {},
   "outputs": [],
   "source": [
    "f = open(\"first.txt\")"
   ]
  },
  {
   "cell_type": "code",
   "execution_count": 37,
   "id": "47211954",
   "metadata": {},
   "outputs": [
    {
     "name": "stdout",
     "output_type": "stream",
     "text": [
      "This newly written linen python file handling.\n",
      "\n",
      "This is 2nd line.\n",
      "\n",
      "This is third lineThis is 4th line.\n",
      "\n",
      "This is new line which is added in r+ mode\n"
     ]
    }
   ],
   "source": [
    "for line in f:\n",
    "    print(line)"
   ]
  },
  {
   "cell_type": "code",
   "execution_count": null,
   "id": "24cc9493",
   "metadata": {},
   "outputs": [],
   "source": []
  }
 ],
 "metadata": {
  "kernelspec": {
   "display_name": "Python 3",
   "language": "python",
   "name": "python3"
  },
  "language_info": {
   "codemirror_mode": {
    "name": "ipython",
    "version": 3
   },
   "file_extension": ".py",
   "mimetype": "text/x-python",
   "name": "python",
   "nbconvert_exporter": "python",
   "pygments_lexer": "ipython3",
   "version": "3.8.8"
  }
 },
 "nbformat": 4,
 "nbformat_minor": 5
}
