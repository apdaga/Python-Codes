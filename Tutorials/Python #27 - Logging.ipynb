{
 "cells": [
  {
   "cell_type": "markdown",
   "id": "eb02a5dc",
   "metadata": {},
   "source": [
    "# Logging"
   ]
  },
  {
   "cell_type": "code",
   "execution_count": 1,
   "id": "48991445",
   "metadata": {},
   "outputs": [],
   "source": [
    "# Log levels:\n",
    "#     1. DEBUG\n",
    "#     2. INFO\n",
    "#     3. WARNING  (Default)\n",
    "#     4. ERROR\n",
    "#     5. CRITICAL"
   ]
  },
  {
   "cell_type": "code",
   "execution_count": 2,
   "id": "7634f046",
   "metadata": {},
   "outputs": [
    {
     "name": "stdout",
     "output_type": "stream",
     "text": [
      "10\n"
     ]
    }
   ],
   "source": [
    "a = 10\n",
    "print(a)"
   ]
  },
  {
   "cell_type": "code",
   "execution_count": 1,
   "id": "beeecee5",
   "metadata": {},
   "outputs": [],
   "source": [
    "import logging"
   ]
  },
  {
   "cell_type": "code",
   "execution_count": 2,
   "id": "bf255d0d",
   "metadata": {},
   "outputs": [
    {
     "name": "stdout",
     "output_type": "stream",
     "text": [
      " Volume in drive C is Windows\n",
      " Volume Serial Number is D8FC-E3B8\n",
      "\n",
      " Directory of C:\\Users\\akshay.daga\\Jupyter Notebooks\n",
      "\n",
      "01/29/2022  08:02 PM    <DIR>          .\n",
      "01/29/2022  08:02 PM    <DIR>          ..\n",
      "01/29/2022  07:44 PM    <DIR>          .ipynb_checkpoints\n",
      "01/22/2022  11:07 AM    <DIR>          __pycache__\n",
      "01/23/2022  06:14 PM               146 first.txt\n",
      "01/29/2022  01:20 PM            11,107 FSDS #10 - OOPS Encapsulation.ipynb\n",
      "12/29/2021  08:37 PM           237,672 FSDS #3 - For-Else, While, Functions.ipynb\n",
      "01/23/2022  07:31 PM            59,904 FSDS #4 - args, kwargs, lambda, iterator, iterable, generator, file handling.ipynb\n",
      "01/22/2022  11:24 AM             6,407 FSDS #7 - Modules, Packages.ipynb\n",
      "01/23/2022  12:44 PM            17,218 FSDS #8 - OOPS Beginning.ipynb\n",
      "01/29/2022  11:27 AM            13,605 FSDS #9 - OOPS Inheritance.ipynb\n",
      "01/22/2022  10:50 AM               459 module1.py\n",
      "01/22/2022  11:07 AM               240 module2.py\n",
      "01/09/2022  01:09 PM               442 out.txt\n",
      "12/31/2021  04:35 PM             7,578 Python #15.2 - BREAK vs PASS vs CONTINUE.ipynb\n",
      "12/31/2021  03:57 PM             4,316 Python #16 - FOR... ELSE... Statement.ipynb\n",
      "12/31/2021  04:07 PM         1,025,959 Python #17 - WHILE Loop.ipynb\n",
      "01/08/2022  02:50 PM             8,385 Python #18 - Comprehensions (List, Tuple, Dict, Set).ipynb\n",
      "01/08/2022  03:10 PM             8,721 Python #19 - Functions in python.ipynb\n",
      "01/08/2022  03:33 PM             9,174 Python #20 - Functions with multiple arguments.ipynb\n",
      "01/08/2022  03:49 PM             8,140 Python #21 - Functions with key-value pair arguments.ipynb\n",
      "01/08/2022  04:26 PM             6,284 Python #22 - Lambda functions.ipynb\n",
      "01/08/2022  04:44 PM            18,083 Python #23 - Iterable vs Iterator.ipynb\n",
      "01/22/2022  07:19 PM             8,547 Python #24 - Generator Functions.ipynb\n",
      "01/23/2022  06:18 PM            19,666 Python #25 - File Handling.ipynb\n",
      "01/29/2022  07:42 PM            20,153 Python #26 - Exception Handling.ipynb\n",
      "01/29/2022  08:02 PM             2,031 Python #27 - Logging.ipynb\n",
      "01/29/2022  11:25 AM                18 test.txt\n",
      "01/09/2022  12:30 PM               349 test1.txt\n",
      "              25 File(s)      1,494,604 bytes\n",
      "               4 Dir(s)  206,802,518,016 bytes free\n"
     ]
    }
   ],
   "source": [
    "ls"
   ]
  },
  {
   "cell_type": "code",
   "execution_count": 3,
   "id": "e3f822dc",
   "metadata": {},
   "outputs": [],
   "source": [
    "logging.basicConfig(filename=\"firstlog.log\")"
   ]
  },
  {
   "cell_type": "code",
   "execution_count": 4,
   "id": "cbda27d9",
   "metadata": {},
   "outputs": [
    {
     "name": "stdout",
     "output_type": "stream",
     "text": [
      " Volume in drive C is Windows\n",
      " Volume Serial Number is D8FC-E3B8\n",
      "\n",
      " Directory of C:\\Users\\akshay.daga\\Jupyter Notebooks\n",
      "\n",
      "01/29/2022  08:03 PM    <DIR>          .\n",
      "01/29/2022  08:03 PM    <DIR>          ..\n",
      "01/29/2022  07:44 PM    <DIR>          .ipynb_checkpoints\n",
      "01/22/2022  11:07 AM    <DIR>          __pycache__\n",
      "01/23/2022  06:14 PM               146 first.txt\n",
      "01/29/2022  08:03 PM                 0 firstlog.log\n",
      "01/29/2022  01:20 PM            11,107 FSDS #10 - OOPS Encapsulation.ipynb\n",
      "12/29/2021  08:37 PM           237,672 FSDS #3 - For-Else, While, Functions.ipynb\n",
      "01/23/2022  07:31 PM            59,904 FSDS #4 - args, kwargs, lambda, iterator, iterable, generator, file handling.ipynb\n",
      "01/22/2022  11:24 AM             6,407 FSDS #7 - Modules, Packages.ipynb\n",
      "01/23/2022  12:44 PM            17,218 FSDS #8 - OOPS Beginning.ipynb\n",
      "01/29/2022  11:27 AM            13,605 FSDS #9 - OOPS Inheritance.ipynb\n",
      "01/22/2022  10:50 AM               459 module1.py\n",
      "01/22/2022  11:07 AM               240 module2.py\n",
      "01/09/2022  01:09 PM               442 out.txt\n",
      "12/31/2021  04:35 PM             7,578 Python #15.2 - BREAK vs PASS vs CONTINUE.ipynb\n",
      "12/31/2021  03:57 PM             4,316 Python #16 - FOR... ELSE... Statement.ipynb\n",
      "12/31/2021  04:07 PM         1,025,959 Python #17 - WHILE Loop.ipynb\n",
      "01/08/2022  02:50 PM             8,385 Python #18 - Comprehensions (List, Tuple, Dict, Set).ipynb\n",
      "01/08/2022  03:10 PM             8,721 Python #19 - Functions in python.ipynb\n",
      "01/08/2022  03:33 PM             9,174 Python #20 - Functions with multiple arguments.ipynb\n",
      "01/08/2022  03:49 PM             8,140 Python #21 - Functions with key-value pair arguments.ipynb\n",
      "01/08/2022  04:26 PM             6,284 Python #22 - Lambda functions.ipynb\n",
      "01/08/2022  04:44 PM            18,083 Python #23 - Iterable vs Iterator.ipynb\n",
      "01/22/2022  07:19 PM             8,547 Python #24 - Generator Functions.ipynb\n",
      "01/23/2022  06:18 PM            19,666 Python #25 - File Handling.ipynb\n",
      "01/29/2022  07:42 PM            20,153 Python #26 - Exception Handling.ipynb\n",
      "01/29/2022  08:02 PM             2,031 Python #27 - Logging.ipynb\n",
      "01/29/2022  11:25 AM                18 test.txt\n",
      "01/09/2022  12:30 PM               349 test1.txt\n",
      "              26 File(s)      1,494,604 bytes\n",
      "               4 Dir(s)  206,802,681,856 bytes free\n"
     ]
    }
   ],
   "source": [
    "ls"
   ]
  },
  {
   "cell_type": "code",
   "execution_count": 5,
   "id": "5e51514e",
   "metadata": {},
   "outputs": [],
   "source": [
    "logging.debug(\"This is debug message\")\n",
    "logging.info(\"This is info message\")\n",
    "logging.warning(\"This is warning message\")\n",
    "logging.error(\"This is error message\")\n",
    "logging.critical(\"This is critical message\")"
   ]
  },
  {
   "cell_type": "code",
   "execution_count": 1,
   "id": "6aa923ac",
   "metadata": {},
   "outputs": [],
   "source": [
    "import logging\n",
    "logging.basicConfig(filename=\"second.log\",\n",
    "                   level = logging.DEBUG,\n",
    "                    format = '%(asctime)s - %(levelname)s - %(message)s'\n",
    "                   )"
   ]
  },
  {
   "cell_type": "code",
   "execution_count": 2,
   "id": "55e461f8",
   "metadata": {},
   "outputs": [],
   "source": [
    "logging.debug(\"This is debug message\")\n",
    "logging.info(\"This is info message\")\n",
    "logging.warning(\"This is warning message\")\n",
    "logging.error(\"This is error message\")\n",
    "logging.critical(\"This is critical message\")"
   ]
  },
  {
   "cell_type": "code",
   "execution_count": 1,
   "id": "6dae37c7",
   "metadata": {},
   "outputs": [],
   "source": [
    "import logging\n",
    "logging.basicConfig(filename=\"second.log\",\n",
    "                   level = logging.DEBUG,\n",
    "                    format = '%(asctime)s - %(levelname)s - %(message)s'\n",
    "                   )"
   ]
  },
  {
   "cell_type": "code",
   "execution_count": 6,
   "id": "4be0fdb3",
   "metadata": {},
   "outputs": [],
   "source": [
    "a = 10\n",
    "b = 0\n",
    "logging.info(f\"a={a} b={b}\")\n",
    "\n",
    "logging.info(\"operation stated...\")\n",
    "\n",
    "try:\n",
    "    c = a/b\n",
    "    logging.info(\"division is done successfully\")\n",
    "\n",
    "except Exception as e:\n",
    "    logging.error(\"Error occured while doing division\")\n",
    "    logging.exception(f\"Exception Handled: {e}\")"
   ]
  },
  {
   "cell_type": "code",
   "execution_count": null,
   "id": "1f9a3c08",
   "metadata": {},
   "outputs": [],
   "source": []
  }
 ],
 "metadata": {
  "kernelspec": {
   "display_name": "Python 3",
   "language": "python",
   "name": "python3"
  },
  "language_info": {
   "codemirror_mode": {
    "name": "ipython",
    "version": 3
   },
   "file_extension": ".py",
   "mimetype": "text/x-python",
   "name": "python",
   "nbconvert_exporter": "python",
   "pygments_lexer": "ipython3",
   "version": "3.8.8"
  }
 },
 "nbformat": 4,
 "nbformat_minor": 5
}
