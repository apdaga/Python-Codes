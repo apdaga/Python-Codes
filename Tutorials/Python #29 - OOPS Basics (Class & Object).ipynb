{
 "cells": [
  {
   "cell_type": "markdown",
   "id": "9df0bc6e",
   "metadata": {},
   "source": [
    "# OOPS - Object Oriented Programming System"
   ]
  },
  {
   "cell_type": "markdown",
   "id": "ed649a0a",
   "metadata": {},
   "source": [
    "## Class and Object"
   ]
  },
  {
   "cell_type": "code",
   "execution_count": 3,
   "id": "ee71bdc2",
   "metadata": {},
   "outputs": [],
   "source": [
    "class car:\n",
    "    no_of_wheels = 4   #class variable / static variable\n",
    "    \n",
    "    def __init__(self, fueltype, company, cartype):     # constructor\n",
    "        self.fueltype =  fueltype  #Instance varialbe / Object Variable\n",
    "        self.company = company     #Instance varialbe / Object Variable\n",
    "        self.cartype = cartype     #Instance varialbe / Object Variable\n",
    "    \n",
    "    @staticmethod                           # built-in decorator\n",
    "    def test():                             # static method / class method\n",
    "        print(\"This is static method\")\n",
    "    \n",
    "    def test1(self):                        # Instance method\n",
    "        print(\"This is test1 method\")\n",
    "    \n",
    "    def getfueltype(self):                  # Instance method\n",
    "        return self.fueltype"
   ]
  },
  {
   "cell_type": "code",
   "execution_count": 5,
   "id": "68481d5b",
   "metadata": {},
   "outputs": [],
   "source": [
    "nexon = car(\"petrol\", \"tata\", \"suv\")"
   ]
  },
  {
   "cell_type": "code",
   "execution_count": 6,
   "id": "6b0aaae2",
   "metadata": {},
   "outputs": [
    {
     "data": {
      "text/plain": [
       "<__main__.car at 0x1f6ad6a9280>"
      ]
     },
     "execution_count": 6,
     "metadata": {},
     "output_type": "execute_result"
    }
   ],
   "source": [
    "nexon"
   ]
  },
  {
   "cell_type": "code",
   "execution_count": 7,
   "id": "b11b3af2",
   "metadata": {},
   "outputs": [
    {
     "data": {
      "text/plain": [
       "'suv'"
      ]
     },
     "execution_count": 7,
     "metadata": {},
     "output_type": "execute_result"
    }
   ],
   "source": [
    "nexon.cartype"
   ]
  },
  {
   "cell_type": "code",
   "execution_count": 8,
   "id": "f462e7b8",
   "metadata": {},
   "outputs": [
    {
     "data": {
      "text/plain": [
       "'tata'"
      ]
     },
     "execution_count": 8,
     "metadata": {},
     "output_type": "execute_result"
    }
   ],
   "source": [
    "nexon.company"
   ]
  },
  {
   "cell_type": "code",
   "execution_count": 9,
   "id": "1d29aa12",
   "metadata": {},
   "outputs": [
    {
     "data": {
      "text/plain": [
       "'petrol'"
      ]
     },
     "execution_count": 9,
     "metadata": {},
     "output_type": "execute_result"
    }
   ],
   "source": [
    "nexon.fueltype"
   ]
  },
  {
   "cell_type": "code",
   "execution_count": 10,
   "id": "9f10f8f5",
   "metadata": {},
   "outputs": [
    {
     "data": {
      "text/plain": [
       "4"
      ]
     },
     "execution_count": 10,
     "metadata": {},
     "output_type": "execute_result"
    }
   ],
   "source": [
    "nexon.no_of_wheels"
   ]
  },
  {
   "cell_type": "code",
   "execution_count": 11,
   "id": "16894499",
   "metadata": {},
   "outputs": [
    {
     "name": "stdout",
     "output_type": "stream",
     "text": [
      "This is test1 method\n"
     ]
    }
   ],
   "source": [
    "nexon.test1()"
   ]
  },
  {
   "cell_type": "code",
   "execution_count": 12,
   "id": "f533e734",
   "metadata": {},
   "outputs": [
    {
     "name": "stdout",
     "output_type": "stream",
     "text": [
      "This is static method\n"
     ]
    }
   ],
   "source": [
    "nexon.test()"
   ]
  },
  {
   "cell_type": "code",
   "execution_count": 13,
   "id": "f73651f7",
   "metadata": {},
   "outputs": [
    {
     "data": {
      "text/plain": [
       "'petrol'"
      ]
     },
     "execution_count": 13,
     "metadata": {},
     "output_type": "execute_result"
    }
   ],
   "source": [
    "nexon.getfueltype()"
   ]
  },
  {
   "cell_type": "code",
   "execution_count": 14,
   "id": "1d2e08c6",
   "metadata": {},
   "outputs": [
    {
     "data": {
      "text/plain": [
       "4"
      ]
     },
     "execution_count": 14,
     "metadata": {},
     "output_type": "execute_result"
    }
   ],
   "source": [
    "car.no_of_wheels"
   ]
  },
  {
   "cell_type": "code",
   "execution_count": 15,
   "id": "6851a9e8",
   "metadata": {},
   "outputs": [
    {
     "name": "stdout",
     "output_type": "stream",
     "text": [
      "This is static method\n"
     ]
    }
   ],
   "source": [
    "car.test()"
   ]
  },
  {
   "cell_type": "code",
   "execution_count": 16,
   "id": "193142d0",
   "metadata": {},
   "outputs": [
    {
     "ename": "TypeError",
     "evalue": "test1() missing 1 required positional argument: 'self'",
     "output_type": "error",
     "traceback": [
      "\u001b[1;31m---------------------------------------------------------------------------\u001b[0m",
      "\u001b[1;31mTypeError\u001b[0m                                 Traceback (most recent call last)",
      "\u001b[1;32m<ipython-input-16-16899de5d9f5>\u001b[0m in \u001b[0;36m<module>\u001b[1;34m\u001b[0m\n\u001b[1;32m----> 1\u001b[1;33m \u001b[0mcar\u001b[0m\u001b[1;33m.\u001b[0m\u001b[0mtest1\u001b[0m\u001b[1;33m(\u001b[0m\u001b[1;33m)\u001b[0m\u001b[1;33m\u001b[0m\u001b[1;33m\u001b[0m\u001b[0m\n\u001b[0m",
      "\u001b[1;31mTypeError\u001b[0m: test1() missing 1 required positional argument: 'self'"
     ]
    }
   ],
   "source": [
    "car.test1()"
   ]
  },
  {
   "cell_type": "code",
   "execution_count": 17,
   "id": "a43c585b",
   "metadata": {},
   "outputs": [
    {
     "ename": "AttributeError",
     "evalue": "type object 'car' has no attribute 'fueltype'",
     "output_type": "error",
     "traceback": [
      "\u001b[1;31m---------------------------------------------------------------------------\u001b[0m",
      "\u001b[1;31mAttributeError\u001b[0m                            Traceback (most recent call last)",
      "\u001b[1;32m<ipython-input-17-40e8add34d2c>\u001b[0m in \u001b[0;36m<module>\u001b[1;34m\u001b[0m\n\u001b[1;32m----> 1\u001b[1;33m \u001b[0mcar\u001b[0m\u001b[1;33m.\u001b[0m\u001b[0mfueltype\u001b[0m\u001b[1;33m\u001b[0m\u001b[1;33m\u001b[0m\u001b[0m\n\u001b[0m",
      "\u001b[1;31mAttributeError\u001b[0m: type object 'car' has no attribute 'fueltype'"
     ]
    }
   ],
   "source": [
    "car.fueltype"
   ]
  },
  {
   "cell_type": "code",
   "execution_count": 18,
   "id": "5ef7a6ec",
   "metadata": {},
   "outputs": [],
   "source": [
    "nexon = car(\"petrol\", \"tata\", \"suv\")\n",
    "alto = car(\"petrol\", \"maruti\", \"hatch\")\n",
    "tigor = car(\"cng\", \"tata\", \"sedan\")"
   ]
  },
  {
   "cell_type": "code",
   "execution_count": 20,
   "id": "7cc9b240",
   "metadata": {},
   "outputs": [
    {
     "name": "stdout",
     "output_type": "stream",
     "text": [
      "4 4 4\n"
     ]
    }
   ],
   "source": [
    "print(nexon.no_of_wheels, alto.no_of_wheels, tigor.no_of_wheels)"
   ]
  },
  {
   "cell_type": "code",
   "execution_count": 21,
   "id": "68924b39",
   "metadata": {},
   "outputs": [],
   "source": [
    "nexon.no_of_wheels = 5"
   ]
  },
  {
   "cell_type": "code",
   "execution_count": 22,
   "id": "50e86c3d",
   "metadata": {},
   "outputs": [
    {
     "name": "stdout",
     "output_type": "stream",
     "text": [
      "5 4 4\n"
     ]
    }
   ],
   "source": [
    "print(nexon.no_of_wheels, alto.no_of_wheels, tigor.no_of_wheels)"
   ]
  },
  {
   "cell_type": "code",
   "execution_count": 23,
   "id": "e0210443",
   "metadata": {},
   "outputs": [],
   "source": [
    "class car:\n",
    "    no_of_wheels = 4   #class variable / static variable\n",
    "    \n",
    "    def __init__(self, fueltype, company, cartype):     # constructor\n",
    "        self.fueltype =  fueltype  #Instance varialbe / Object Variable\n",
    "        self.company = company     #Instance varialbe / Object Variable\n",
    "        self.cartype = cartype     #Instance varialbe / Object Variable\n",
    "    \n",
    "    @staticmethod                           # built-in decorator\n",
    "    def test():                             # static method / class method\n",
    "        print(\"This is static method\")\n",
    "    \n",
    "    def test1(self):                        # Instance method\n",
    "        print(\"This is test1 method\")\n",
    "    \n",
    "    def getfueltype(self):                  # Instance method\n",
    "        return self.fueltype\n",
    "    \n",
    "    def getnoofwheels(self):\n",
    "        return self.no_of_wheels"
   ]
  },
  {
   "cell_type": "code",
   "execution_count": 24,
   "id": "36211d8e",
   "metadata": {},
   "outputs": [],
   "source": [
    "nexon = car(\"petrol\", \"tata\", \"suv\")\n",
    "alto = car(\"petrol\", \"maruti\", \"hatch\")\n",
    "tigor = car(\"cng\", \"tata\", \"sedan\")"
   ]
  },
  {
   "cell_type": "code",
   "execution_count": 25,
   "id": "670468fe",
   "metadata": {},
   "outputs": [
    {
     "data": {
      "text/plain": [
       "4"
      ]
     },
     "execution_count": 25,
     "metadata": {},
     "output_type": "execute_result"
    }
   ],
   "source": [
    "nexon.getnoofwheels()"
   ]
  },
  {
   "cell_type": "code",
   "execution_count": 26,
   "id": "167146a2",
   "metadata": {},
   "outputs": [],
   "source": [
    "nexon.no_of_wheels = 5"
   ]
  },
  {
   "cell_type": "code",
   "execution_count": 27,
   "id": "fc00c11e",
   "metadata": {},
   "outputs": [
    {
     "data": {
      "text/plain": [
       "5"
      ]
     },
     "execution_count": 27,
     "metadata": {},
     "output_type": "execute_result"
    }
   ],
   "source": [
    "nexon.getnoofwheels()"
   ]
  },
  {
   "cell_type": "code",
   "execution_count": 28,
   "id": "172d032e",
   "metadata": {},
   "outputs": [
    {
     "name": "stdout",
     "output_type": "stream",
     "text": [
      "5 4 4\n"
     ]
    }
   ],
   "source": [
    "print(nexon.no_of_wheels, alto.no_of_wheels, tigor.no_of_wheels)"
   ]
  },
  {
   "cell_type": "code",
   "execution_count": 29,
   "id": "b2f548bb",
   "metadata": {},
   "outputs": [],
   "source": [
    "car.no_of_wheels = 7"
   ]
  },
  {
   "cell_type": "code",
   "execution_count": 30,
   "id": "ce3e1c6a",
   "metadata": {},
   "outputs": [
    {
     "name": "stdout",
     "output_type": "stream",
     "text": [
      "5 7 7\n"
     ]
    }
   ],
   "source": [
    "print(nexon.no_of_wheels, alto.no_of_wheels, tigor.no_of_wheels)"
   ]
  },
  {
   "cell_type": "code",
   "execution_count": 31,
   "id": "07fb8820",
   "metadata": {},
   "outputs": [],
   "source": [
    "alto.no_of_wheels = 6"
   ]
  },
  {
   "cell_type": "code",
   "execution_count": 32,
   "id": "22955427",
   "metadata": {},
   "outputs": [
    {
     "name": "stdout",
     "output_type": "stream",
     "text": [
      "5 6 7\n"
     ]
    }
   ],
   "source": [
    "print(nexon.no_of_wheels, alto.no_of_wheels, tigor.no_of_wheels)"
   ]
  },
  {
   "cell_type": "code",
   "execution_count": 33,
   "id": "b1e67773",
   "metadata": {},
   "outputs": [],
   "source": [
    "car.no_of_wheels = 9"
   ]
  },
  {
   "cell_type": "code",
   "execution_count": 34,
   "id": "3410ad84",
   "metadata": {},
   "outputs": [
    {
     "name": "stdout",
     "output_type": "stream",
     "text": [
      "5 6 9\n"
     ]
    }
   ],
   "source": [
    "print(nexon.no_of_wheels, alto.no_of_wheels, tigor.no_of_wheels)"
   ]
  },
  {
   "cell_type": "code",
   "execution_count": 35,
   "id": "8e1d615f",
   "metadata": {},
   "outputs": [],
   "source": [
    "tigor.no_of_wheels = 3"
   ]
  },
  {
   "cell_type": "code",
   "execution_count": 36,
   "id": "fb876008",
   "metadata": {},
   "outputs": [
    {
     "name": "stdout",
     "output_type": "stream",
     "text": [
      "5 6 3\n"
     ]
    }
   ],
   "source": [
    "print(nexon.no_of_wheels, alto.no_of_wheels, tigor.no_of_wheels)"
   ]
  },
  {
   "cell_type": "code",
   "execution_count": 37,
   "id": "c409c455",
   "metadata": {},
   "outputs": [],
   "source": [
    "car.no_of_wheels = 10"
   ]
  },
  {
   "cell_type": "code",
   "execution_count": 38,
   "id": "c03613f0",
   "metadata": {},
   "outputs": [
    {
     "name": "stdout",
     "output_type": "stream",
     "text": [
      "5 6 3\n"
     ]
    }
   ],
   "source": [
    "print(nexon.no_of_wheels, alto.no_of_wheels, tigor.no_of_wheels)"
   ]
  },
  {
   "cell_type": "code",
   "execution_count": 39,
   "id": "94f98990",
   "metadata": {},
   "outputs": [],
   "source": [
    "i = 3"
   ]
  },
  {
   "cell_type": "code",
   "execution_count": 40,
   "id": "a3679a88",
   "metadata": {},
   "outputs": [
    {
     "name": "stdout",
     "output_type": "stream",
     "text": [
      "3\n"
     ]
    }
   ],
   "source": [
    "print(i)"
   ]
  },
  {
   "cell_type": "code",
   "execution_count": 41,
   "id": "4088b263",
   "metadata": {},
   "outputs": [
    {
     "name": "stdout",
     "output_type": "stream",
     "text": [
      "<__main__.car object at 0x000001F6ADEA88E0>\n"
     ]
    }
   ],
   "source": [
    "print(nexon)"
   ]
  },
  {
   "cell_type": "code",
   "execution_count": 56,
   "id": "c15a2638",
   "metadata": {},
   "outputs": [],
   "source": [
    "class car:\n",
    "    no_of_wheels = 4   #class variable / static variable\n",
    "    \n",
    "    def __init__(self, fueltype, company, cartype):     # constructor\n",
    "        self.fueltype =  fueltype  #Instance varialbe / Object Variable\n",
    "        self.company = company     #Instance varialbe / Object Variable\n",
    "        self.cartype = cartype     #Instance varialbe / Object Variable\n",
    "        \n",
    "    def __str__(self):\n",
    "        return self.fueltype+\" \"+self.company+\" \"+self.cartype+\" \"+str(self.no_of_wheels)\n",
    "    \n",
    "    @staticmethod                           # built-in decorator\n",
    "    def test():                             # static method / class method\n",
    "        print(\"This is static method\")\n",
    "    \n",
    "    def test1(self):                        # Instance method\n",
    "        print(\"This is test1 method\")\n",
    "    \n",
    "    def getfueltype(self):                  # Instance method\n",
    "        return self.fueltype\n",
    "    \n",
    "    def getnoofwheels(self):\n",
    "        return self.no_of_wheels"
   ]
  },
  {
   "cell_type": "code",
   "execution_count": 57,
   "id": "f5e59e45",
   "metadata": {},
   "outputs": [],
   "source": [
    "nexon = car(\"petrol\", \"tata\", \"suv\")\n",
    "alto = car(\"petrol\", \"maruti\", \"hatch\")\n",
    "tigor = car(\"cng\", \"tata\", \"sedan\")"
   ]
  },
  {
   "cell_type": "code",
   "execution_count": 58,
   "id": "ecf895d1",
   "metadata": {},
   "outputs": [
    {
     "name": "stdout",
     "output_type": "stream",
     "text": [
      "petrol tata suv 4\n"
     ]
    }
   ],
   "source": [
    "print(nexon)"
   ]
  },
  {
   "cell_type": "code",
   "execution_count": 51,
   "id": "39abb6f5",
   "metadata": {},
   "outputs": [
    {
     "name": "stdout",
     "output_type": "stream",
     "text": [
      "petrol maruti hatch\n"
     ]
    }
   ],
   "source": [
    "print(alto)"
   ]
  },
  {
   "cell_type": "code",
   "execution_count": 52,
   "id": "9f362ce8",
   "metadata": {},
   "outputs": [
    {
     "name": "stdout",
     "output_type": "stream",
     "text": [
      "cng tata sedan\n"
     ]
    }
   ],
   "source": [
    "print(tigor)"
   ]
  },
  {
   "cell_type": "code",
   "execution_count": 59,
   "id": "5a53a138",
   "metadata": {},
   "outputs": [
    {
     "data": {
      "text/plain": [
       "'petrol'"
      ]
     },
     "execution_count": 59,
     "metadata": {},
     "output_type": "execute_result"
    }
   ],
   "source": [
    "nexon.getfueltype()"
   ]
  },
  {
   "cell_type": "code",
   "execution_count": 60,
   "id": "025c3be4",
   "metadata": {},
   "outputs": [
    {
     "data": {
      "text/plain": [
       "'petrol'"
      ]
     },
     "execution_count": 60,
     "metadata": {},
     "output_type": "execute_result"
    }
   ],
   "source": [
    "car.getfueltype(nexon)"
   ]
  },
  {
   "cell_type": "code",
   "execution_count": 61,
   "id": "8f67b563",
   "metadata": {},
   "outputs": [
    {
     "ename": "TypeError",
     "evalue": "getfueltype() missing 1 required positional argument: 'self'",
     "output_type": "error",
     "traceback": [
      "\u001b[1;31m---------------------------------------------------------------------------\u001b[0m",
      "\u001b[1;31mTypeError\u001b[0m                                 Traceback (most recent call last)",
      "\u001b[1;32m<ipython-input-61-456a6cea9188>\u001b[0m in \u001b[0;36m<module>\u001b[1;34m\u001b[0m\n\u001b[1;32m----> 1\u001b[1;33m \u001b[0mcar\u001b[0m\u001b[1;33m.\u001b[0m\u001b[0mgetfueltype\u001b[0m\u001b[1;33m(\u001b[0m\u001b[1;33m)\u001b[0m\u001b[1;33m\u001b[0m\u001b[1;33m\u001b[0m\u001b[0m\n\u001b[0m",
      "\u001b[1;31mTypeError\u001b[0m: getfueltype() missing 1 required positional argument: 'self'"
     ]
    }
   ],
   "source": [
    "car.getfueltype()"
   ]
  },
  {
   "cell_type": "code",
   "execution_count": null,
   "id": "dc6ad165",
   "metadata": {},
   "outputs": [],
   "source": [
    "nexon = car(\"petrol\", \"tata\", \"suv\")"
   ]
  }
 ],
 "metadata": {
  "kernelspec": {
   "display_name": "Python 3",
   "language": "python",
   "name": "python3"
  },
  "language_info": {
   "codemirror_mode": {
    "name": "ipython",
    "version": 3
   },
   "file_extension": ".py",
   "mimetype": "text/x-python",
   "name": "python",
   "nbconvert_exporter": "python",
   "pygments_lexer": "ipython3",
   "version": "3.8.8"
  }
 },
 "nbformat": 4,
 "nbformat_minor": 5
}
