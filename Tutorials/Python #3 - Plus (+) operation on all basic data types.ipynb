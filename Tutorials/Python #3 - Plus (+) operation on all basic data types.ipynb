{
 "cells": [
  {
   "cell_type": "code",
   "execution_count": 17,
   "id": "6d87ab21",
   "metadata": {},
   "outputs": [],
   "source": [
    "a = 1\n",
    "b = 12.34\n",
    "c = \"apdaga\"\n",
    "d = 23+6j\n",
    "e = False\n",
    "\n",
    "# a, b, c, d, e = 1, 12.34, \"apdaga\", 23+6j, False"
   ]
  },
  {
   "cell_type": "code",
   "execution_count": 3,
   "id": "64738ce7",
   "metadata": {},
   "outputs": [
    {
     "name": "stdout",
     "output_type": "stream",
     "text": [
      "1\n",
      "12.34\n",
      "apdaga\n",
      "(23+6j)\n",
      "False\n"
     ]
    }
   ],
   "source": [
    "print(a)\n",
    "print(b)\n",
    "print(c)\n",
    "print(d)\n",
    "print(e)"
   ]
  },
  {
   "cell_type": "code",
   "execution_count": 4,
   "id": "7c126eb2",
   "metadata": {},
   "outputs": [
    {
     "data": {
      "text/plain": [
       "5"
      ]
     },
     "execution_count": 4,
     "metadata": {},
     "output_type": "execute_result"
    }
   ],
   "source": [
    "2+3"
   ]
  },
  {
   "cell_type": "code",
   "execution_count": 5,
   "id": "2758111f",
   "metadata": {},
   "outputs": [
    {
     "data": {
      "text/plain": [
       "13.34"
      ]
     },
     "execution_count": 5,
     "metadata": {},
     "output_type": "execute_result"
    }
   ],
   "source": [
    "a+b"
   ]
  },
  {
   "cell_type": "code",
   "execution_count": 6,
   "id": "e8f47213",
   "metadata": {},
   "outputs": [],
   "source": [
    "f = \"daga\""
   ]
  },
  {
   "cell_type": "code",
   "execution_count": 7,
   "id": "912cd5f9",
   "metadata": {},
   "outputs": [
    {
     "data": {
      "text/plain": [
       "'apdagadaga'"
      ]
     },
     "execution_count": 7,
     "metadata": {},
     "output_type": "execute_result"
    }
   ],
   "source": [
    "c+f"
   ]
  },
  {
   "cell_type": "code",
   "execution_count": 8,
   "id": "b6f8eea4",
   "metadata": {},
   "outputs": [
    {
     "ename": "TypeError",
     "evalue": "can only concatenate str (not \"int\") to str",
     "output_type": "error",
     "traceback": [
      "\u001b[0;31m---------------------------------------------------------------------------\u001b[0m",
      "\u001b[0;31mTypeError\u001b[0m                                 Traceback (most recent call last)",
      "\u001b[0;32m/var/folders/2b/0jxdkpf53db2vxdxwsdgc1tc0000gn/T/ipykernel_3503/910716214.py\u001b[0m in \u001b[0;36m<module>\u001b[0;34m\u001b[0m\n\u001b[0;32m----> 1\u001b[0;31m \u001b[0mc\u001b[0m \u001b[0;34m+\u001b[0m \u001b[0ma\u001b[0m\u001b[0;34m\u001b[0m\u001b[0;34m\u001b[0m\u001b[0m\n\u001b[0m",
      "\u001b[0;31mTypeError\u001b[0m: can only concatenate str (not \"int\") to str"
     ]
    }
   ],
   "source": [
    "c + a"
   ]
  },
  {
   "cell_type": "code",
   "execution_count": 9,
   "id": "d8432345",
   "metadata": {},
   "outputs": [
    {
     "data": {
      "text/plain": [
       "'apdaga1'"
      ]
     },
     "execution_count": 9,
     "metadata": {},
     "output_type": "execute_result"
    }
   ],
   "source": [
    "c + str(a)"
   ]
  },
  {
   "cell_type": "code",
   "execution_count": 14,
   "id": "ba088f80",
   "metadata": {},
   "outputs": [
    {
     "data": {
      "text/plain": [
       "'1akshay'"
      ]
     },
     "execution_count": 14,
     "metadata": {},
     "output_type": "execute_result"
    }
   ],
   "source": [
    "str(a) + 'akshay'"
   ]
  },
  {
   "cell_type": "code",
   "execution_count": 15,
   "id": "9195818f",
   "metadata": {},
   "outputs": [
    {
     "data": {
      "text/plain": [
       "'aakshay'"
      ]
     },
     "execution_count": 15,
     "metadata": {},
     "output_type": "execute_result"
    }
   ],
   "source": [
    "'a' + 'akshay'"
   ]
  },
  {
   "cell_type": "code",
   "execution_count": 16,
   "id": "a2ff0343",
   "metadata": {},
   "outputs": [
    {
     "data": {
      "text/plain": [
       "7.199999999999999"
      ]
     },
     "execution_count": 16,
     "metadata": {},
     "output_type": "execute_result"
    }
   ],
   "source": [
    "2.4 + 4.8"
   ]
  },
  {
   "cell_type": "code",
   "execution_count": 18,
   "id": "33d13bbd",
   "metadata": {},
   "outputs": [
    {
     "data": {
      "text/plain": [
       "(24+6j)"
      ]
     },
     "execution_count": 18,
     "metadata": {},
     "output_type": "execute_result"
    }
   ],
   "source": [
    "a + d"
   ]
  },
  {
   "cell_type": "code",
   "execution_count": 19,
   "id": "7bb9bd00",
   "metadata": {},
   "outputs": [
    {
     "data": {
      "text/plain": [
       "(35.34+6j)"
      ]
     },
     "execution_count": 19,
     "metadata": {},
     "output_type": "execute_result"
    }
   ],
   "source": [
    "b + d"
   ]
  },
  {
   "cell_type": "code",
   "execution_count": 23,
   "id": "5efd486e",
   "metadata": {},
   "outputs": [
    {
     "data": {
      "text/plain": [
       "3"
      ]
     },
     "execution_count": 23,
     "metadata": {},
     "output_type": "execute_result"
    }
   ],
   "source": [
    "True + True + True"
   ]
  },
  {
   "cell_type": "code",
   "execution_count": 21,
   "id": "938c1dc7",
   "metadata": {},
   "outputs": [
    {
     "data": {
      "text/plain": [
       "1"
      ]
     },
     "execution_count": 21,
     "metadata": {},
     "output_type": "execute_result"
    }
   ],
   "source": [
    "True + False"
   ]
  },
  {
   "cell_type": "code",
   "execution_count": 22,
   "id": "acb2470f",
   "metadata": {},
   "outputs": [
    {
     "data": {
      "text/plain": [
       "1"
      ]
     },
     "execution_count": 22,
     "metadata": {},
     "output_type": "execute_result"
    }
   ],
   "source": [
    "True - False"
   ]
  },
  {
   "cell_type": "code",
   "execution_count": 26,
   "id": "fc666d04",
   "metadata": {},
   "outputs": [
    {
     "data": {
      "text/plain": [
       "6.0"
      ]
     },
     "execution_count": 26,
     "metadata": {},
     "output_type": "execute_result"
    }
   ],
   "source": [
    "float(True) + 5"
   ]
  },
  {
   "cell_type": "code",
   "execution_count": null,
   "id": "30010947",
   "metadata": {},
   "outputs": [],
   "source": []
  }
 ],
 "metadata": {
  "kernelspec": {
   "display_name": "Python 3 (ipykernel)",
   "language": "python",
   "name": "python3"
  },
  "language_info": {
   "codemirror_mode": {
    "name": "ipython",
    "version": 3
   },
   "file_extension": ".py",
   "mimetype": "text/x-python",
   "name": "python",
   "nbconvert_exporter": "python",
   "pygments_lexer": "ipython3",
   "version": "3.9.7"
  }
 },
 "nbformat": 4,
 "nbformat_minor": 5
}
