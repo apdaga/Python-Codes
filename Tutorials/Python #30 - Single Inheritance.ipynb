{
 "cells": [
  {
   "cell_type": "markdown",
   "id": "ee0826f5",
   "metadata": {},
   "source": [
    "# Inheritance"
   ]
  },
  {
   "cell_type": "markdown",
   "id": "fb008241",
   "metadata": {},
   "source": [
    "## Single Inheritance"
   ]
  },
  {
   "cell_type": "code",
   "execution_count": 26,
   "id": "31689a96",
   "metadata": {},
   "outputs": [],
   "source": [
    "class parent:\n",
    "    def __init__(self, a, b, c):\n",
    "        self.a = a\n",
    "        self.b = b\n",
    "        self.c = c\n",
    "        \n",
    "    def test1(self):\n",
    "        print(\"This is test1 method from parent class\")\n",
    "        \n",
    "    def test2(self):\n",
    "        print(\"This is test2 method from parent class\")"
   ]
  },
  {
   "cell_type": "code",
   "execution_count": 27,
   "id": "3fc48a78",
   "metadata": {},
   "outputs": [],
   "source": [
    "class child(parent):\n",
    "    def __init__(self,a,b,c,d,e):\n",
    "        parent.__init__(self,a,b,c)\n",
    "        self.d = d\n",
    "        self.e = e\n",
    "        \n",
    "    def test1(self):\n",
    "        print(\"This is test1 method from child class\")\n",
    "        \n",
    "    def test3(self):\n",
    "        print(\"This is test3 method from child class\")"
   ]
  },
  {
   "cell_type": "code",
   "execution_count": 28,
   "id": "80e08115",
   "metadata": {},
   "outputs": [],
   "source": [
    "p1 = parent(1,2,3)"
   ]
  },
  {
   "cell_type": "code",
   "execution_count": 29,
   "id": "7a02aec9",
   "metadata": {},
   "outputs": [],
   "source": [
    "c1 = child(4,5,6,7,8)"
   ]
  },
  {
   "cell_type": "code",
   "execution_count": 30,
   "id": "11cbf448",
   "metadata": {},
   "outputs": [
    {
     "name": "stdout",
     "output_type": "stream",
     "text": [
      "4 5 6 7 8\n"
     ]
    }
   ],
   "source": [
    "print(c1.a, c1.b, c1.c, c1.d, c1.e)"
   ]
  },
  {
   "cell_type": "code",
   "execution_count": 31,
   "id": "9814e3b7",
   "metadata": {},
   "outputs": [
    {
     "name": "stdout",
     "output_type": "stream",
     "text": [
      "This is test1 method from child class\n"
     ]
    }
   ],
   "source": [
    "c1.test1()"
   ]
  },
  {
   "cell_type": "code",
   "execution_count": 32,
   "id": "132ef2c7",
   "metadata": {},
   "outputs": [
    {
     "name": "stdout",
     "output_type": "stream",
     "text": [
      "This is test2 method from parent class\n"
     ]
    }
   ],
   "source": [
    "c1.test2()"
   ]
  },
  {
   "cell_type": "code",
   "execution_count": 33,
   "id": "c98db9bb",
   "metadata": {},
   "outputs": [
    {
     "name": "stdout",
     "output_type": "stream",
     "text": [
      "This is test3 method from child class\n"
     ]
    }
   ],
   "source": [
    "c1.test3()"
   ]
  },
  {
   "cell_type": "code",
   "execution_count": 34,
   "id": "7e60039a",
   "metadata": {},
   "outputs": [
    {
     "ename": "AttributeError",
     "evalue": "'child' object has no attribute 'test4'",
     "output_type": "error",
     "traceback": [
      "\u001b[1;31m---------------------------------------------------------------------------\u001b[0m",
      "\u001b[1;31mAttributeError\u001b[0m                            Traceback (most recent call last)",
      "\u001b[1;32m<ipython-input-34-9b0f32e29488>\u001b[0m in \u001b[0;36m<module>\u001b[1;34m\u001b[0m\n\u001b[1;32m----> 1\u001b[1;33m \u001b[0mc1\u001b[0m\u001b[1;33m.\u001b[0m\u001b[0mtest4\u001b[0m\u001b[1;33m(\u001b[0m\u001b[1;33m)\u001b[0m\u001b[1;33m\u001b[0m\u001b[1;33m\u001b[0m\u001b[0m\n\u001b[0m",
      "\u001b[1;31mAttributeError\u001b[0m: 'child' object has no attribute 'test4'"
     ]
    }
   ],
   "source": [
    "c1.test4()"
   ]
  },
  {
   "cell_type": "code",
   "execution_count": 35,
   "id": "e0933638",
   "metadata": {},
   "outputs": [
    {
     "data": {
      "text/plain": [
       "1"
      ]
     },
     "execution_count": 35,
     "metadata": {},
     "output_type": "execute_result"
    }
   ],
   "source": [
    "p1.a"
   ]
  },
  {
   "cell_type": "code",
   "execution_count": 36,
   "id": "4adca71e",
   "metadata": {},
   "outputs": [
    {
     "data": {
      "text/plain": [
       "2"
      ]
     },
     "execution_count": 36,
     "metadata": {},
     "output_type": "execute_result"
    }
   ],
   "source": [
    "p1.b"
   ]
  },
  {
   "cell_type": "code",
   "execution_count": 37,
   "id": "54e5335f",
   "metadata": {},
   "outputs": [
    {
     "data": {
      "text/plain": [
       "3"
      ]
     },
     "execution_count": 37,
     "metadata": {},
     "output_type": "execute_result"
    }
   ],
   "source": [
    "p1.c"
   ]
  },
  {
   "cell_type": "code",
   "execution_count": 38,
   "id": "14415628",
   "metadata": {},
   "outputs": [
    {
     "name": "stdout",
     "output_type": "stream",
     "text": [
      "This is test1 method from parent class\n"
     ]
    }
   ],
   "source": [
    "p1.test1()"
   ]
  },
  {
   "cell_type": "code",
   "execution_count": 39,
   "id": "f2f140ab",
   "metadata": {},
   "outputs": [
    {
     "name": "stdout",
     "output_type": "stream",
     "text": [
      "This is test2 method from parent class\n"
     ]
    }
   ],
   "source": [
    "p1.test2()"
   ]
  },
  {
   "cell_type": "code",
   "execution_count": 40,
   "id": "d1d30787",
   "metadata": {},
   "outputs": [
    {
     "ename": "AttributeError",
     "evalue": "'parent' object has no attribute 'test3'",
     "output_type": "error",
     "traceback": [
      "\u001b[1;31m---------------------------------------------------------------------------\u001b[0m",
      "\u001b[1;31mAttributeError\u001b[0m                            Traceback (most recent call last)",
      "\u001b[1;32m<ipython-input-40-fdbfd24a1571>\u001b[0m in \u001b[0;36m<module>\u001b[1;34m\u001b[0m\n\u001b[1;32m----> 1\u001b[1;33m \u001b[0mp1\u001b[0m\u001b[1;33m.\u001b[0m\u001b[0mtest3\u001b[0m\u001b[1;33m(\u001b[0m\u001b[1;33m)\u001b[0m\u001b[1;33m\u001b[0m\u001b[1;33m\u001b[0m\u001b[0m\n\u001b[0m",
      "\u001b[1;31mAttributeError\u001b[0m: 'parent' object has no attribute 'test3'"
     ]
    }
   ],
   "source": [
    "p1.test3()"
   ]
  },
  {
   "cell_type": "code",
   "execution_count": null,
   "id": "ec562b8d",
   "metadata": {},
   "outputs": [],
   "source": []
  }
 ],
 "metadata": {
  "kernelspec": {
   "display_name": "Python 3",
   "language": "python",
   "name": "python3"
  },
  "language_info": {
   "codemirror_mode": {
    "name": "ipython",
    "version": 3
   },
   "file_extension": ".py",
   "mimetype": "text/x-python",
   "name": "python",
   "nbconvert_exporter": "python",
   "pygments_lexer": "ipython3",
   "version": "3.8.8"
  }
 },
 "nbformat": 4,
 "nbformat_minor": 5
}
