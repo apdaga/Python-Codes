{
 "cells": [
  {
   "cell_type": "markdown",
   "id": "ca15fb63",
   "metadata": {},
   "source": [
    "# Inheritance"
   ]
  },
  {
   "cell_type": "markdown",
   "id": "9e97c234",
   "metadata": {},
   "source": [
    "## Multiple Inheritance"
   ]
  },
  {
   "cell_type": "code",
   "execution_count": 22,
   "id": "24ab8cd6",
   "metadata": {},
   "outputs": [],
   "source": [
    "class parent1:\n",
    "    def __init__(self, a, b, c):\n",
    "        self.a = a\n",
    "        self.b = b\n",
    "        self.c = c\n",
    "        \n",
    "    def test1(self):\n",
    "        print(\"This is test1 method from parent1 class\")\n",
    "        \n",
    "    def test2(self):\n",
    "        print(\"This is test2 method from parent1 class\")"
   ]
  },
  {
   "cell_type": "code",
   "execution_count": 23,
   "id": "71638018",
   "metadata": {},
   "outputs": [],
   "source": [
    "class parent2:\n",
    "    def __init__(self, d, e):\n",
    "        self.d = d\n",
    "        self.e = e\n",
    "        \n",
    "    def test3(self):\n",
    "        print(\"This is test3 method from parent2 class\")\n",
    "        \n",
    "    def test4(self):\n",
    "        print(\"This is test4 method from parent2 class\")"
   ]
  },
  {
   "cell_type": "code",
   "execution_count": 24,
   "id": "08b959e8",
   "metadata": {},
   "outputs": [],
   "source": [
    "class child(parent1,parent2):\n",
    "    \n",
    "    def __init__(self,a,b,c,d,e,f):\n",
    "        parent1.__init__(self,a,b,c)\n",
    "        parent2.__init__(self,d,e)\n",
    "        self.f = f\n",
    "    \n",
    "    def test1(self):\n",
    "        print(\"This is test1 method from child class\")\n",
    "        \n",
    "    def test3(self):\n",
    "        print(\"This is test3 method from child class\")\n",
    "        \n",
    "    def test5(self):\n",
    "        print(\"This is test5 method from child class\")"
   ]
  },
  {
   "cell_type": "code",
   "execution_count": 25,
   "id": "85971e6f",
   "metadata": {},
   "outputs": [],
   "source": [
    "p1 = parent1(1,2,3)\n",
    "p2 = parent2(4,5)\n",
    "c1 = child(6,7,8,9,10,11)"
   ]
  },
  {
   "cell_type": "code",
   "execution_count": 26,
   "id": "fce6a88a",
   "metadata": {},
   "outputs": [
    {
     "name": "stdout",
     "output_type": "stream",
     "text": [
      "6 7 8 9 10 11\n"
     ]
    }
   ],
   "source": [
    "print(c1.a, c1.b, c1.c, c1.d, c1.e, c1.f)"
   ]
  },
  {
   "cell_type": "code",
   "execution_count": 27,
   "id": "dab4463f",
   "metadata": {},
   "outputs": [
    {
     "name": "stdout",
     "output_type": "stream",
     "text": [
      "This is test1 method from child class\n"
     ]
    }
   ],
   "source": [
    "c1.test1()"
   ]
  },
  {
   "cell_type": "code",
   "execution_count": 30,
   "id": "7d45c1c3",
   "metadata": {},
   "outputs": [
    {
     "name": "stdout",
     "output_type": "stream",
     "text": [
      "This is test2 method from parent1 class\n"
     ]
    }
   ],
   "source": [
    "c1.test2()"
   ]
  },
  {
   "cell_type": "code",
   "execution_count": 31,
   "id": "ec0884d2",
   "metadata": {},
   "outputs": [
    {
     "name": "stdout",
     "output_type": "stream",
     "text": [
      "This is test3 method from child class\n"
     ]
    }
   ],
   "source": [
    "c1.test3()"
   ]
  },
  {
   "cell_type": "code",
   "execution_count": 32,
   "id": "9a1d0cd0",
   "metadata": {},
   "outputs": [
    {
     "name": "stdout",
     "output_type": "stream",
     "text": [
      "This is test4 method from parent2 class\n"
     ]
    }
   ],
   "source": [
    "c1.test4()"
   ]
  },
  {
   "cell_type": "code",
   "execution_count": 33,
   "id": "6e170591",
   "metadata": {},
   "outputs": [
    {
     "name": "stdout",
     "output_type": "stream",
     "text": [
      "This is test5 method from child class\n"
     ]
    }
   ],
   "source": [
    "c1.test5()"
   ]
  },
  {
   "cell_type": "code",
   "execution_count": 47,
   "id": "98cfc9ad",
   "metadata": {},
   "outputs": [],
   "source": [
    "class parent1:\n",
    "    def __init__(self, a, b, c):\n",
    "        self.a = a\n",
    "        self.b = b\n",
    "        self.c = c\n",
    "        \n",
    "    def test1(self):\n",
    "        print(\"This is test1 method from parent1 class\")\n",
    "        \n",
    "    def test2(self):\n",
    "        print(\"This is test2 method from parent1 class\")\n",
    "        \n",
    "\n",
    "class parent2:\n",
    "    def __init__(self, d, e):\n",
    "        self.d = d\n",
    "        self.e = e\n",
    "    \n",
    "    def test1(self):\n",
    "        print(\"This is test1 method from parent2 class\")\n",
    "        \n",
    "    def test3(self):\n",
    "        print(\"This is test3 method from parent2 class\")\n",
    "        \n",
    "    def test4(self):\n",
    "        print(\"This is test4 method from parent2 class\")"
   ]
  },
  {
   "cell_type": "code",
   "execution_count": 44,
   "id": "ff837476",
   "metadata": {},
   "outputs": [],
   "source": [
    "class child(parent2,parent1):\n",
    "    def __init__(self,a,b,c,d,e,f):\n",
    "        parent1.__init__(self,a,b,c)\n",
    "        parent2.__init__(self,d,e)\n",
    "        self.f = f\n",
    "    \n",
    "    #def test1(self):\n",
    "    #    print(\"This is test1 method from child class\")\n",
    "        \n",
    "    def test3(self):\n",
    "        print(\"This is test3 method from child class\")\n",
    "        \n",
    "    def test5(self):\n",
    "        print(\"This is test5 method from child class\")"
   ]
  },
  {
   "cell_type": "code",
   "execution_count": 45,
   "id": "a2cc9bfb",
   "metadata": {},
   "outputs": [],
   "source": [
    "p1 = parent1(1,2,3)\n",
    "p2 = parent2(4,5)\n",
    "c1 = child(6,7,8,9,10,11)"
   ]
  },
  {
   "cell_type": "code",
   "execution_count": 46,
   "id": "560608b1",
   "metadata": {},
   "outputs": [
    {
     "name": "stdout",
     "output_type": "stream",
     "text": [
      "This is test1 method from parent2 class\n"
     ]
    }
   ],
   "source": [
    "c1.test1()"
   ]
  },
  {
   "cell_type": "code",
   "execution_count": 49,
   "id": "e72e08a5",
   "metadata": {},
   "outputs": [],
   "source": [
    "class child(parent1,parent2):\n",
    "    \n",
    "    #def __init__(self,a,b,c,d,e,f):\n",
    "    #    parent1.__init__(self,a,b,c)\n",
    "    #    parent2.__init__(self,d,e)\n",
    "    #    self.f = f\n",
    "    \n",
    "    #def test1(self):\n",
    "    #    print(\"This is test1 method from child class\")\n",
    "        \n",
    "    def test3(self):\n",
    "        print(\"This is test3 method from child class\")\n",
    "        \n",
    "    def test5(self):\n",
    "        print(\"This is test5 method from child class\")"
   ]
  },
  {
   "cell_type": "code",
   "execution_count": 51,
   "id": "9c8d7a4a",
   "metadata": {},
   "outputs": [
    {
     "ename": "TypeError",
     "evalue": "__init__() missing 3 required positional arguments: 'a', 'b', and 'c'",
     "output_type": "error",
     "traceback": [
      "\u001b[1;31m---------------------------------------------------------------------------\u001b[0m",
      "\u001b[1;31mTypeError\u001b[0m                                 Traceback (most recent call last)",
      "\u001b[1;32m<ipython-input-51-d1a1ad14da33>\u001b[0m in \u001b[0;36m<module>\u001b[1;34m\u001b[0m\n\u001b[0;32m      1\u001b[0m \u001b[0mp1\u001b[0m \u001b[1;33m=\u001b[0m \u001b[0mparent1\u001b[0m\u001b[1;33m(\u001b[0m\u001b[1;36m1\u001b[0m\u001b[1;33m,\u001b[0m\u001b[1;36m2\u001b[0m\u001b[1;33m,\u001b[0m\u001b[1;36m3\u001b[0m\u001b[1;33m)\u001b[0m\u001b[1;33m\u001b[0m\u001b[1;33m\u001b[0m\u001b[0m\n\u001b[0;32m      2\u001b[0m \u001b[0mp2\u001b[0m \u001b[1;33m=\u001b[0m \u001b[0mparent2\u001b[0m\u001b[1;33m(\u001b[0m\u001b[1;36m4\u001b[0m\u001b[1;33m,\u001b[0m\u001b[1;36m5\u001b[0m\u001b[1;33m)\u001b[0m\u001b[1;33m\u001b[0m\u001b[1;33m\u001b[0m\u001b[0m\n\u001b[1;32m----> 3\u001b[1;33m \u001b[0mc1\u001b[0m \u001b[1;33m=\u001b[0m \u001b[0mchild\u001b[0m\u001b[1;33m(\u001b[0m\u001b[1;33m)\u001b[0m\u001b[1;33m\u001b[0m\u001b[1;33m\u001b[0m\u001b[0m\n\u001b[0m",
      "\u001b[1;31mTypeError\u001b[0m: __init__() missing 3 required positional arguments: 'a', 'b', and 'c'"
     ]
    }
   ],
   "source": [
    "p1 = parent1(1,2,3)\n",
    "p2 = parent2(4,5)\n",
    "c1 = child()"
   ]
  },
  {
   "cell_type": "code",
   "execution_count": 52,
   "id": "e5f53d83",
   "metadata": {},
   "outputs": [],
   "source": [
    "c1 = child(7,8,9)"
   ]
  },
  {
   "cell_type": "code",
   "execution_count": 53,
   "id": "808c70ac",
   "metadata": {},
   "outputs": [
    {
     "name": "stdout",
     "output_type": "stream",
     "text": [
      "7 8 9\n"
     ]
    }
   ],
   "source": [
    "print(c1.a, c1.b, c1.c)"
   ]
  },
  {
   "cell_type": "code",
   "execution_count": 54,
   "id": "89ff4922",
   "metadata": {},
   "outputs": [
    {
     "ename": "AttributeError",
     "evalue": "'child' object has no attribute 'd'",
     "output_type": "error",
     "traceback": [
      "\u001b[1;31m---------------------------------------------------------------------------\u001b[0m",
      "\u001b[1;31mAttributeError\u001b[0m                            Traceback (most recent call last)",
      "\u001b[1;32m<ipython-input-54-5ce8f6976b21>\u001b[0m in \u001b[0;36m<module>\u001b[1;34m\u001b[0m\n\u001b[1;32m----> 1\u001b[1;33m \u001b[0mc1\u001b[0m\u001b[1;33m.\u001b[0m\u001b[0md\u001b[0m\u001b[1;33m\u001b[0m\u001b[1;33m\u001b[0m\u001b[0m\n\u001b[0m",
      "\u001b[1;31mAttributeError\u001b[0m: 'child' object has no attribute 'd'"
     ]
    }
   ],
   "source": [
    "c1.d"
   ]
  },
  {
   "cell_type": "code",
   "execution_count": 55,
   "id": "fe689c18",
   "metadata": {},
   "outputs": [
    {
     "name": "stdout",
     "output_type": "stream",
     "text": [
      "This is test1 method from parent1 class\n"
     ]
    }
   ],
   "source": [
    "c1.test1()"
   ]
  },
  {
   "cell_type": "code",
   "execution_count": 56,
   "id": "6e114ade",
   "metadata": {},
   "outputs": [],
   "source": [
    "class child(parent2,parent1):\n",
    "    \n",
    "    #def __init__(self,a,b,c,d,e,f):\n",
    "    #    parent1.__init__(self,a,b,c)\n",
    "    #    parent2.__init__(self,d,e)\n",
    "    #    self.f = f\n",
    "    \n",
    "    #def test1(self):\n",
    "    #    print(\"This is test1 method from child class\")\n",
    "        \n",
    "    def test3(self):\n",
    "        print(\"This is test3 method from child class\")\n",
    "        \n",
    "    def test5(self):\n",
    "        print(\"This is test5 method from child class\")"
   ]
  },
  {
   "cell_type": "code",
   "execution_count": 57,
   "id": "23759dea",
   "metadata": {},
   "outputs": [
    {
     "ename": "TypeError",
     "evalue": "__init__() missing 2 required positional arguments: 'd' and 'e'",
     "output_type": "error",
     "traceback": [
      "\u001b[1;31m---------------------------------------------------------------------------\u001b[0m",
      "\u001b[1;31mTypeError\u001b[0m                                 Traceback (most recent call last)",
      "\u001b[1;32m<ipython-input-57-cb7d17f0e84e>\u001b[0m in \u001b[0;36m<module>\u001b[1;34m\u001b[0m\n\u001b[1;32m----> 1\u001b[1;33m \u001b[0mc1\u001b[0m \u001b[1;33m=\u001b[0m \u001b[0mchild\u001b[0m\u001b[1;33m(\u001b[0m\u001b[1;33m)\u001b[0m\u001b[1;33m\u001b[0m\u001b[1;33m\u001b[0m\u001b[0m\n\u001b[0m",
      "\u001b[1;31mTypeError\u001b[0m: __init__() missing 2 required positional arguments: 'd' and 'e'"
     ]
    }
   ],
   "source": [
    "c1 = child()"
   ]
  },
  {
   "cell_type": "code",
   "execution_count": 58,
   "id": "50a2bca7",
   "metadata": {},
   "outputs": [],
   "source": [
    "c1 = child(5,6)"
   ]
  },
  {
   "cell_type": "code",
   "execution_count": 59,
   "id": "a5fdf242",
   "metadata": {},
   "outputs": [
    {
     "data": {
      "text/plain": [
       "5"
      ]
     },
     "execution_count": 59,
     "metadata": {},
     "output_type": "execute_result"
    }
   ],
   "source": [
    "c1.d"
   ]
  },
  {
   "cell_type": "code",
   "execution_count": 60,
   "id": "6827d174",
   "metadata": {},
   "outputs": [
    {
     "name": "stdout",
     "output_type": "stream",
     "text": [
      "This is test1 method from parent2 class\n"
     ]
    }
   ],
   "source": [
    "c1.test1()"
   ]
  },
  {
   "cell_type": "code",
   "execution_count": null,
   "id": "19abe68e",
   "metadata": {},
   "outputs": [],
   "source": []
  }
 ],
 "metadata": {
  "kernelspec": {
   "display_name": "Python 3",
   "language": "python",
   "name": "python3"
  },
  "language_info": {
   "codemirror_mode": {
    "name": "ipython",
    "version": 3
   },
   "file_extension": ".py",
   "mimetype": "text/x-python",
   "name": "python",
   "nbconvert_exporter": "python",
   "pygments_lexer": "ipython3",
   "version": "3.8.8"
  }
 },
 "nbformat": 4,
 "nbformat_minor": 5
}
