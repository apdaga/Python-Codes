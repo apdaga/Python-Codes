{
 "cells": [
  {
   "cell_type": "markdown",
   "id": "4df702fb",
   "metadata": {},
   "source": [
    "# Inheritance"
   ]
  },
  {
   "cell_type": "markdown",
   "id": "547dfc1b",
   "metadata": {},
   "source": [
    "## Multi-Level Inheritance"
   ]
  },
  {
   "cell_type": "code",
   "execution_count": 10,
   "id": "727ec4b9",
   "metadata": {},
   "outputs": [],
   "source": [
    "class parent:\n",
    "    \n",
    "    def __init__(self,a):\n",
    "        self.a = a\n",
    "        \n",
    "    def test1(self):\n",
    "        print(\"This is test1 method from parent class\")\n",
    "        \n",
    "    def test2(self):\n",
    "        print(\"This is test2 method from parent class\")\n",
    "        \n",
    "    def test3(self):\n",
    "        print(\"This is test3 method from parent class\")"
   ]
  },
  {
   "cell_type": "code",
   "execution_count": 11,
   "id": "49574253",
   "metadata": {},
   "outputs": [],
   "source": [
    "class child(parent):\n",
    "    \n",
    "    def __init__(self,a,b):\n",
    "        parent.__init__(self,a)\n",
    "        self.b = b\n",
    "        \n",
    "    def test1(self):\n",
    "        print(\"This is test1 method from child class\")\n",
    "        \n",
    "    def test4(self):\n",
    "        print(\"This is test4 method from child class\")"
   ]
  },
  {
   "cell_type": "code",
   "execution_count": 12,
   "id": "7031517f",
   "metadata": {},
   "outputs": [],
   "source": [
    "class grandchild(child):\n",
    "    \n",
    "    def __init__(self,a,b,c):\n",
    "        child.__init__(self,a,b)\n",
    "        self.c = c\n",
    "        \n",
    "    def test2(self):\n",
    "        print(\"This is test2 method from grandchild class\")\n",
    "        \n",
    "    def test5(self):\n",
    "        print(\"This is test5 method from grandchild class\")"
   ]
  },
  {
   "cell_type": "code",
   "execution_count": 13,
   "id": "0522f725",
   "metadata": {},
   "outputs": [],
   "source": [
    "p1 = parent(1)\n",
    "c1 = child(2,3)\n",
    "g1 = grandchild(4,5,6)"
   ]
  },
  {
   "cell_type": "code",
   "execution_count": 14,
   "id": "177d8a53",
   "metadata": {},
   "outputs": [
    {
     "name": "stdout",
     "output_type": "stream",
     "text": [
      "4 5 6\n"
     ]
    }
   ],
   "source": [
    "print(g1.a, g1.b, g1.c)"
   ]
  },
  {
   "cell_type": "code",
   "execution_count": 15,
   "id": "bfd65f3c",
   "metadata": {},
   "outputs": [
    {
     "name": "stdout",
     "output_type": "stream",
     "text": [
      "This is test1 method from child class\n"
     ]
    }
   ],
   "source": [
    "g1.test1()"
   ]
  },
  {
   "cell_type": "code",
   "execution_count": 16,
   "id": "270a0ffb",
   "metadata": {},
   "outputs": [
    {
     "name": "stdout",
     "output_type": "stream",
     "text": [
      "This is test2 method from grandchild class\n"
     ]
    }
   ],
   "source": [
    "g1.test2()"
   ]
  },
  {
   "cell_type": "code",
   "execution_count": 17,
   "id": "6c60006a",
   "metadata": {},
   "outputs": [
    {
     "name": "stdout",
     "output_type": "stream",
     "text": [
      "This is test3 method from parent class\n"
     ]
    }
   ],
   "source": [
    "g1.test3()"
   ]
  },
  {
   "cell_type": "code",
   "execution_count": 18,
   "id": "44bd8ee8",
   "metadata": {},
   "outputs": [
    {
     "name": "stdout",
     "output_type": "stream",
     "text": [
      "This is test4 method from child class\n"
     ]
    }
   ],
   "source": [
    "g1.test4()"
   ]
  },
  {
   "cell_type": "code",
   "execution_count": 19,
   "id": "187096f1",
   "metadata": {},
   "outputs": [
    {
     "name": "stdout",
     "output_type": "stream",
     "text": [
      "This is test5 method from grandchild class\n"
     ]
    }
   ],
   "source": [
    "g1.test5()"
   ]
  },
  {
   "cell_type": "code",
   "execution_count": 20,
   "id": "a40c124f",
   "metadata": {},
   "outputs": [
    {
     "ename": "AttributeError",
     "evalue": "'grandchild' object has no attribute 'test6'",
     "output_type": "error",
     "traceback": [
      "\u001b[1;31m---------------------------------------------------------------------------\u001b[0m",
      "\u001b[1;31mAttributeError\u001b[0m                            Traceback (most recent call last)",
      "\u001b[1;32m<ipython-input-20-891c9b2f9f15>\u001b[0m in \u001b[0;36m<module>\u001b[1;34m\u001b[0m\n\u001b[1;32m----> 1\u001b[1;33m \u001b[0mg1\u001b[0m\u001b[1;33m.\u001b[0m\u001b[0mtest6\u001b[0m\u001b[1;33m(\u001b[0m\u001b[1;33m)\u001b[0m\u001b[1;33m\u001b[0m\u001b[1;33m\u001b[0m\u001b[0m\n\u001b[0m",
      "\u001b[1;31mAttributeError\u001b[0m: 'grandchild' object has no attribute 'test6'"
     ]
    }
   ],
   "source": [
    "g1.test6()"
   ]
  },
  {
   "cell_type": "code",
   "execution_count": 21,
   "id": "99fd19de",
   "metadata": {},
   "outputs": [],
   "source": [
    "class grandchild(child):\n",
    "    \n",
    "    #def __init__(self,a,b,c):\n",
    "    #    child.__init__(self,a,b)\n",
    "    #    self.c = c\n",
    "        \n",
    "    def test2(self):\n",
    "        print(\"This is test2 method from grandchild class\")\n",
    "        \n",
    "    def test5(self):\n",
    "        print(\"This is test5 method from grandchild class\")"
   ]
  },
  {
   "cell_type": "code",
   "execution_count": 22,
   "id": "a97a1333",
   "metadata": {},
   "outputs": [
    {
     "ename": "TypeError",
     "evalue": "__init__() takes 3 positional arguments but 4 were given",
     "output_type": "error",
     "traceback": [
      "\u001b[1;31m---------------------------------------------------------------------------\u001b[0m",
      "\u001b[1;31mTypeError\u001b[0m                                 Traceback (most recent call last)",
      "\u001b[1;32m<ipython-input-22-2f3a56fec773>\u001b[0m in \u001b[0;36m<module>\u001b[1;34m\u001b[0m\n\u001b[0;32m      1\u001b[0m \u001b[0mp1\u001b[0m \u001b[1;33m=\u001b[0m \u001b[0mparent\u001b[0m\u001b[1;33m(\u001b[0m\u001b[1;36m1\u001b[0m\u001b[1;33m)\u001b[0m\u001b[1;33m\u001b[0m\u001b[1;33m\u001b[0m\u001b[0m\n\u001b[0;32m      2\u001b[0m \u001b[0mc1\u001b[0m \u001b[1;33m=\u001b[0m \u001b[0mchild\u001b[0m\u001b[1;33m(\u001b[0m\u001b[1;36m2\u001b[0m\u001b[1;33m,\u001b[0m\u001b[1;36m3\u001b[0m\u001b[1;33m)\u001b[0m\u001b[1;33m\u001b[0m\u001b[1;33m\u001b[0m\u001b[0m\n\u001b[1;32m----> 3\u001b[1;33m \u001b[0mg1\u001b[0m \u001b[1;33m=\u001b[0m \u001b[0mgrandchild\u001b[0m\u001b[1;33m(\u001b[0m\u001b[1;36m4\u001b[0m\u001b[1;33m,\u001b[0m\u001b[1;36m5\u001b[0m\u001b[1;33m,\u001b[0m\u001b[1;36m6\u001b[0m\u001b[1;33m)\u001b[0m\u001b[1;33m\u001b[0m\u001b[1;33m\u001b[0m\u001b[0m\n\u001b[0m",
      "\u001b[1;31mTypeError\u001b[0m: __init__() takes 3 positional arguments but 4 were given"
     ]
    }
   ],
   "source": [
    "p1 = parent(1)\n",
    "c1 = child(2,3)\n",
    "g1 = grandchild(4,5,6)"
   ]
  },
  {
   "cell_type": "code",
   "execution_count": 23,
   "id": "b7696ace",
   "metadata": {},
   "outputs": [],
   "source": [
    "g1 = grandchild(6,7)"
   ]
  },
  {
   "cell_type": "code",
   "execution_count": 24,
   "id": "221c32f7",
   "metadata": {},
   "outputs": [
    {
     "data": {
      "text/plain": [
       "6"
      ]
     },
     "execution_count": 24,
     "metadata": {},
     "output_type": "execute_result"
    }
   ],
   "source": [
    "g1.a"
   ]
  },
  {
   "cell_type": "code",
   "execution_count": 25,
   "id": "4f1c3959",
   "metadata": {},
   "outputs": [
    {
     "data": {
      "text/plain": [
       "7"
      ]
     },
     "execution_count": 25,
     "metadata": {},
     "output_type": "execute_result"
    }
   ],
   "source": [
    "g1.b"
   ]
  },
  {
   "cell_type": "code",
   "execution_count": 26,
   "id": "358e12c5",
   "metadata": {},
   "outputs": [],
   "source": [
    "class parent:\n",
    "    \n",
    "    def __init__(self,a):\n",
    "        self.a = a\n",
    "        \n",
    "class child(parent):\n",
    "    pass\n",
    "        \n",
    "class grandchild(child):\n",
    "    pass"
   ]
  },
  {
   "cell_type": "code",
   "execution_count": 27,
   "id": "9c585e4c",
   "metadata": {},
   "outputs": [
    {
     "ename": "TypeError",
     "evalue": "__init__() missing 1 required positional argument: 'a'",
     "output_type": "error",
     "traceback": [
      "\u001b[1;31m---------------------------------------------------------------------------\u001b[0m",
      "\u001b[1;31mTypeError\u001b[0m                                 Traceback (most recent call last)",
      "\u001b[1;32m<ipython-input-27-9107de91ca39>\u001b[0m in \u001b[0;36m<module>\u001b[1;34m\u001b[0m\n\u001b[1;32m----> 1\u001b[1;33m \u001b[0mg2\u001b[0m \u001b[1;33m=\u001b[0m \u001b[0mgrandchild\u001b[0m\u001b[1;33m(\u001b[0m\u001b[1;33m)\u001b[0m\u001b[1;33m\u001b[0m\u001b[1;33m\u001b[0m\u001b[0m\n\u001b[0m",
      "\u001b[1;31mTypeError\u001b[0m: __init__() missing 1 required positional argument: 'a'"
     ]
    }
   ],
   "source": [
    "g2 = grandchild()"
   ]
  },
  {
   "cell_type": "code",
   "execution_count": 28,
   "id": "e5c569a9",
   "metadata": {},
   "outputs": [],
   "source": [
    "g2 = grandchild(9)"
   ]
  },
  {
   "cell_type": "code",
   "execution_count": 29,
   "id": "4181ebe2",
   "metadata": {},
   "outputs": [
    {
     "data": {
      "text/plain": [
       "9"
      ]
     },
     "execution_count": 29,
     "metadata": {},
     "output_type": "execute_result"
    }
   ],
   "source": [
    "g2.a"
   ]
  },
  {
   "cell_type": "code",
   "execution_count": null,
   "id": "92f57d4c",
   "metadata": {},
   "outputs": [],
   "source": []
  }
 ],
 "metadata": {
  "kernelspec": {
   "display_name": "Python 3",
   "language": "python",
   "name": "python3"
  },
  "language_info": {
   "codemirror_mode": {
    "name": "ipython",
    "version": 3
   },
   "file_extension": ".py",
   "mimetype": "text/x-python",
   "name": "python",
   "nbconvert_exporter": "python",
   "pygments_lexer": "ipython3",
   "version": "3.8.8"
  }
 },
 "nbformat": 4,
 "nbformat_minor": 5
}
