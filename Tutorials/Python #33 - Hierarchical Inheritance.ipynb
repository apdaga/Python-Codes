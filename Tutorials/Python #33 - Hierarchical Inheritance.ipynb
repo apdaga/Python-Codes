{
 "cells": [
  {
   "cell_type": "markdown",
   "id": "34cef1da",
   "metadata": {},
   "source": [
    "# Inheritance"
   ]
  },
  {
   "cell_type": "markdown",
   "id": "2de78631",
   "metadata": {},
   "source": [
    "## Hierarchical Inheritance"
   ]
  },
  {
   "cell_type": "code",
   "execution_count": 4,
   "id": "e477a16c",
   "metadata": {},
   "outputs": [],
   "source": [
    "class parent:\n",
    "    \n",
    "    def __init__(self,a):\n",
    "        self.a = a\n",
    "        \n",
    "    def test1(self):\n",
    "        print(\"This is test1 method from parent class\")\n",
    "        \n",
    "    def test2(self):\n",
    "        print(\"This is test2 method from parent class\")\n",
    "        \n",
    "    def test3(self):\n",
    "        print(\"This is test3 method from parent class\")"
   ]
  },
  {
   "cell_type": "code",
   "execution_count": 5,
   "id": "226ebd3b",
   "metadata": {},
   "outputs": [],
   "source": [
    "class child1(parent):\n",
    "    def test1(self):\n",
    "        print(\"This is test1 method from child1 class\")\n",
    "\n",
    "class child2(parent):\n",
    "    def test2(self):\n",
    "        print(\"This is test2 method from child2 class\")\n",
    "\n",
    "class child3(parent):\n",
    "    def test3(self):\n",
    "        print(\"This is test3 method from child3 class\")"
   ]
  },
  {
   "cell_type": "code",
   "execution_count": 6,
   "id": "c0ad55be",
   "metadata": {},
   "outputs": [],
   "source": [
    "p1 = parent(1)"
   ]
  },
  {
   "cell_type": "code",
   "execution_count": 9,
   "id": "aa782dd5",
   "metadata": {},
   "outputs": [],
   "source": [
    "c1 = child1(2)\n",
    "c2 = child2(3)\n",
    "c3 = child3(4)"
   ]
  },
  {
   "cell_type": "code",
   "execution_count": 10,
   "id": "b0b6a46e",
   "metadata": {},
   "outputs": [
    {
     "name": "stdout",
     "output_type": "stream",
     "text": [
      "This is test1 method from child1 class\n"
     ]
    }
   ],
   "source": [
    "c1.test1()"
   ]
  },
  {
   "cell_type": "code",
   "execution_count": 11,
   "id": "70eddeb6",
   "metadata": {},
   "outputs": [
    {
     "name": "stdout",
     "output_type": "stream",
     "text": [
      "This is test2 method from parent class\n"
     ]
    }
   ],
   "source": [
    "c1.test2()"
   ]
  },
  {
   "cell_type": "code",
   "execution_count": 12,
   "id": "2e3e46bf",
   "metadata": {},
   "outputs": [
    {
     "name": "stdout",
     "output_type": "stream",
     "text": [
      "This is test3 method from parent class\n"
     ]
    }
   ],
   "source": [
    "c1.test3()"
   ]
  },
  {
   "cell_type": "code",
   "execution_count": 13,
   "id": "0e14fab7",
   "metadata": {},
   "outputs": [
    {
     "name": "stdout",
     "output_type": "stream",
     "text": [
      "This is test2 method from child2 class\n"
     ]
    }
   ],
   "source": [
    "c2.test2()"
   ]
  },
  {
   "cell_type": "code",
   "execution_count": 14,
   "id": "3e89265a",
   "metadata": {},
   "outputs": [
    {
     "name": "stdout",
     "output_type": "stream",
     "text": [
      "This is test1 method from parent class\n"
     ]
    }
   ],
   "source": [
    "c2.test1()"
   ]
  },
  {
   "cell_type": "code",
   "execution_count": 15,
   "id": "2840f521",
   "metadata": {},
   "outputs": [
    {
     "ename": "AttributeError",
     "evalue": "'child3' object has no attribute 'test4'",
     "output_type": "error",
     "traceback": [
      "\u001b[1;31m---------------------------------------------------------------------------\u001b[0m",
      "\u001b[1;31mAttributeError\u001b[0m                            Traceback (most recent call last)",
      "\u001b[1;32m<ipython-input-15-8b5f2786e36b>\u001b[0m in \u001b[0;36m<module>\u001b[1;34m\u001b[0m\n\u001b[1;32m----> 1\u001b[1;33m \u001b[0mc3\u001b[0m\u001b[1;33m.\u001b[0m\u001b[0mtest4\u001b[0m\u001b[1;33m(\u001b[0m\u001b[1;33m)\u001b[0m\u001b[1;33m\u001b[0m\u001b[1;33m\u001b[0m\u001b[0m\n\u001b[0m",
      "\u001b[1;31mAttributeError\u001b[0m: 'child3' object has no attribute 'test4'"
     ]
    }
   ],
   "source": [
    "c3.test4()"
   ]
  },
  {
   "cell_type": "code",
   "execution_count": 16,
   "id": "4e682538",
   "metadata": {},
   "outputs": [],
   "source": [
    "class child1(parent):\n",
    "    \n",
    "    def __init__(self,a,b):\n",
    "        parent.__init__(self,a)\n",
    "        self.b = b\n",
    "    \n",
    "    def test1(self):\n",
    "        print(\"This is test1 method from child1 class\")"
   ]
  },
  {
   "cell_type": "code",
   "execution_count": 18,
   "id": "0439bd34",
   "metadata": {},
   "outputs": [],
   "source": [
    "c1 = child1(1,2)"
   ]
  },
  {
   "cell_type": "code",
   "execution_count": 19,
   "id": "169f310b",
   "metadata": {},
   "outputs": [
    {
     "data": {
      "text/plain": [
       "1"
      ]
     },
     "execution_count": 19,
     "metadata": {},
     "output_type": "execute_result"
    }
   ],
   "source": [
    "c1.a"
   ]
  },
  {
   "cell_type": "code",
   "execution_count": 20,
   "id": "f564a9a7",
   "metadata": {},
   "outputs": [
    {
     "data": {
      "text/plain": [
       "2"
      ]
     },
     "execution_count": 20,
     "metadata": {},
     "output_type": "execute_result"
    }
   ],
   "source": [
    "c1.b"
   ]
  },
  {
   "cell_type": "code",
   "execution_count": 21,
   "id": "1650941c",
   "metadata": {},
   "outputs": [],
   "source": [
    "class child1(parent):\n",
    "    \n",
    "    def __init__(self,b):\n",
    "        self.b = b\n",
    "    \n",
    "    def test1(self):\n",
    "        print(\"This is test1 method from child1 class\")"
   ]
  },
  {
   "cell_type": "code",
   "execution_count": 22,
   "id": "2e10cec9",
   "metadata": {},
   "outputs": [
    {
     "ename": "TypeError",
     "evalue": "__init__() missing 1 required positional argument: 'b'",
     "output_type": "error",
     "traceback": [
      "\u001b[1;31m---------------------------------------------------------------------------\u001b[0m",
      "\u001b[1;31mTypeError\u001b[0m                                 Traceback (most recent call last)",
      "\u001b[1;32m<ipython-input-22-222d48599434>\u001b[0m in \u001b[0;36m<module>\u001b[1;34m\u001b[0m\n\u001b[1;32m----> 1\u001b[1;33m \u001b[0mc1\u001b[0m \u001b[1;33m=\u001b[0m \u001b[0mchild1\u001b[0m\u001b[1;33m(\u001b[0m\u001b[1;33m)\u001b[0m\u001b[1;33m\u001b[0m\u001b[1;33m\u001b[0m\u001b[0m\n\u001b[0m",
      "\u001b[1;31mTypeError\u001b[0m: __init__() missing 1 required positional argument: 'b'"
     ]
    }
   ],
   "source": [
    "c1 = child1()"
   ]
  },
  {
   "cell_type": "code",
   "execution_count": 23,
   "id": "03604fa0",
   "metadata": {},
   "outputs": [],
   "source": [
    "c1 = child1(5)"
   ]
  },
  {
   "cell_type": "code",
   "execution_count": 24,
   "id": "d9698356",
   "metadata": {},
   "outputs": [
    {
     "data": {
      "text/plain": [
       "5"
      ]
     },
     "execution_count": 24,
     "metadata": {},
     "output_type": "execute_result"
    }
   ],
   "source": [
    "c1.b"
   ]
  },
  {
   "cell_type": "code",
   "execution_count": null,
   "id": "f0fda11d",
   "metadata": {},
   "outputs": [],
   "source": []
  }
 ],
 "metadata": {
  "kernelspec": {
   "display_name": "Python 3",
   "language": "python",
   "name": "python3"
  },
  "language_info": {
   "codemirror_mode": {
    "name": "ipython",
    "version": 3
   },
   "file_extension": ".py",
   "mimetype": "text/x-python",
   "name": "python",
   "nbconvert_exporter": "python",
   "pygments_lexer": "ipython3",
   "version": "3.8.8"
  }
 },
 "nbformat": 4,
 "nbformat_minor": 5
}
