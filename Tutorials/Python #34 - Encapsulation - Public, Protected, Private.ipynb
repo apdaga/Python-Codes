{
 "cells": [
  {
   "cell_type": "markdown",
   "id": "7f69b0ee",
   "metadata": {},
   "source": [
    "# Encapsulation - Public | Protected | Private"
   ]
  },
  {
   "cell_type": "code",
   "execution_count": 1,
   "id": "7704918b",
   "metadata": {},
   "outputs": [],
   "source": [
    "class car:\n",
    "    def __init__(self,a,b,c):\n",
    "        self.a = a\n",
    "        self.b = b\n",
    "        self.c = c\n",
    "        \n",
    "    def test(self):\n",
    "        print(\"This is test method from car class\")"
   ]
  },
  {
   "cell_type": "code",
   "execution_count": 2,
   "id": "2e4b4b6d",
   "metadata": {},
   "outputs": [],
   "source": [
    "c1 = car(1,2,3)"
   ]
  },
  {
   "cell_type": "code",
   "execution_count": 3,
   "id": "5ef4384a",
   "metadata": {},
   "outputs": [
    {
     "name": "stdout",
     "output_type": "stream",
     "text": [
      "1 2 3\n"
     ]
    }
   ],
   "source": [
    "print(c1.a, c1.b, c1.c)"
   ]
  },
  {
   "cell_type": "code",
   "execution_count": 4,
   "id": "9e16c0ad",
   "metadata": {},
   "outputs": [],
   "source": [
    "c1.a = 4"
   ]
  },
  {
   "cell_type": "code",
   "execution_count": 5,
   "id": "cc379c3b",
   "metadata": {},
   "outputs": [
    {
     "name": "stdout",
     "output_type": "stream",
     "text": [
      "4 2 3\n"
     ]
    }
   ],
   "source": [
    "print(c1.a, c1.b, c1.c)"
   ]
  },
  {
   "cell_type": "code",
   "execution_count": 7,
   "id": "c459284e",
   "metadata": {},
   "outputs": [],
   "source": [
    "# protected: can be accessed and modified from within class \n",
    "# and from subclasses / chlid class / derived class"
   ]
  },
  {
   "cell_type": "code",
   "execution_count": 8,
   "id": "1002f7cb",
   "metadata": {},
   "outputs": [],
   "source": [
    "class car:\n",
    "    def __init__(self,a,b,c):\n",
    "        self.a = a\n",
    "        self._b = b\n",
    "        self.c = c\n",
    "        \n",
    "    def test(self):\n",
    "        print(\"This is test method from car class\")\n",
    "        \n",
    "    def _test1(self):\n",
    "        print(\"This is _test1 method from car class\")"
   ]
  },
  {
   "cell_type": "code",
   "execution_count": 9,
   "id": "dddb46fe",
   "metadata": {},
   "outputs": [],
   "source": [
    "c2 = car(1,2,3)"
   ]
  },
  {
   "cell_type": "code",
   "execution_count": 10,
   "id": "3d0ffd00",
   "metadata": {},
   "outputs": [
    {
     "name": "stdout",
     "output_type": "stream",
     "text": [
      "1 2 3\n"
     ]
    }
   ],
   "source": [
    "print(c2.a, c2._b, c2.c)"
   ]
  },
  {
   "cell_type": "code",
   "execution_count": 11,
   "id": "0cda01eb",
   "metadata": {},
   "outputs": [
    {
     "data": {
      "text/plain": [
       "2"
      ]
     },
     "execution_count": 11,
     "metadata": {},
     "output_type": "execute_result"
    }
   ],
   "source": [
    "c2._b"
   ]
  },
  {
   "cell_type": "code",
   "execution_count": 12,
   "id": "84f0404e",
   "metadata": {},
   "outputs": [
    {
     "name": "stdout",
     "output_type": "stream",
     "text": [
      "This is _test1 method from car class\n"
     ]
    }
   ],
   "source": [
    "c2._test1()"
   ]
  },
  {
   "cell_type": "code",
   "execution_count": 13,
   "id": "e9e50c77",
   "metadata": {},
   "outputs": [],
   "source": [
    "# private: \n",
    "# private instace variable / methods can be accessed within class"
   ]
  },
  {
   "cell_type": "code",
   "execution_count": 14,
   "id": "ccab03aa",
   "metadata": {},
   "outputs": [],
   "source": [
    "class car:\n",
    "    def __init__(self,a,b,c):\n",
    "        self.a = a     # public\n",
    "        self._b = b    # protected\n",
    "        self.__c = c   # private\n",
    "        \n",
    "    def test(self):    # public\n",
    "        print(\"This is test method from car class\")\n",
    "         \n",
    "    def _test1(self):  # protected\n",
    "        print(\"This is _test1 method from car class\")\n",
    "\n",
    "    def __test2(self):  # private\n",
    "        print(\"This is __test2 method from car class\")"
   ]
  },
  {
   "cell_type": "code",
   "execution_count": 15,
   "id": "fd001ec6",
   "metadata": {},
   "outputs": [],
   "source": [
    "c3 = car(1,2,3)"
   ]
  },
  {
   "cell_type": "code",
   "execution_count": 16,
   "id": "fb1f9dfd",
   "metadata": {},
   "outputs": [
    {
     "data": {
      "text/plain": [
       "1"
      ]
     },
     "execution_count": 16,
     "metadata": {},
     "output_type": "execute_result"
    }
   ],
   "source": [
    "c3.a"
   ]
  },
  {
   "cell_type": "code",
   "execution_count": 17,
   "id": "145a4b74",
   "metadata": {},
   "outputs": [
    {
     "name": "stdout",
     "output_type": "stream",
     "text": [
      "This is test method from car class\n"
     ]
    }
   ],
   "source": [
    "c3.test()"
   ]
  },
  {
   "cell_type": "code",
   "execution_count": 18,
   "id": "4f76afcc",
   "metadata": {},
   "outputs": [
    {
     "data": {
      "text/plain": [
       "2"
      ]
     },
     "execution_count": 18,
     "metadata": {},
     "output_type": "execute_result"
    }
   ],
   "source": [
    "c3._b"
   ]
  },
  {
   "cell_type": "code",
   "execution_count": 19,
   "id": "737470b4",
   "metadata": {},
   "outputs": [
    {
     "name": "stdout",
     "output_type": "stream",
     "text": [
      "This is _test1 method from car class\n"
     ]
    }
   ],
   "source": [
    "c3._test1()"
   ]
  },
  {
   "cell_type": "code",
   "execution_count": 20,
   "id": "21c267a4",
   "metadata": {},
   "outputs": [
    {
     "ename": "AttributeError",
     "evalue": "'car' object has no attribute '__c'",
     "output_type": "error",
     "traceback": [
      "\u001b[1;31m---------------------------------------------------------------------------\u001b[0m",
      "\u001b[1;31mAttributeError\u001b[0m                            Traceback (most recent call last)",
      "\u001b[1;32m<ipython-input-20-b25a2007cdd8>\u001b[0m in \u001b[0;36m<module>\u001b[1;34m\u001b[0m\n\u001b[1;32m----> 1\u001b[1;33m \u001b[0mc3\u001b[0m\u001b[1;33m.\u001b[0m\u001b[0m__c\u001b[0m\u001b[1;33m\u001b[0m\u001b[1;33m\u001b[0m\u001b[0m\n\u001b[0m",
      "\u001b[1;31mAttributeError\u001b[0m: 'car' object has no attribute '__c'"
     ]
    }
   ],
   "source": [
    "c3.__c"
   ]
  },
  {
   "cell_type": "code",
   "execution_count": 22,
   "id": "3771a1b2",
   "metadata": {},
   "outputs": [
    {
     "ename": "AttributeError",
     "evalue": "'car' object has no attribute '__test2'",
     "output_type": "error",
     "traceback": [
      "\u001b[1;31m---------------------------------------------------------------------------\u001b[0m",
      "\u001b[1;31mAttributeError\u001b[0m                            Traceback (most recent call last)",
      "\u001b[1;32m<ipython-input-22-300e99676cdc>\u001b[0m in \u001b[0;36m<module>\u001b[1;34m\u001b[0m\n\u001b[1;32m----> 1\u001b[1;33m \u001b[0mc3\u001b[0m\u001b[1;33m.\u001b[0m\u001b[0m__test2\u001b[0m\u001b[1;33m(\u001b[0m\u001b[1;33m)\u001b[0m\u001b[1;33m\u001b[0m\u001b[1;33m\u001b[0m\u001b[0m\n\u001b[0m",
      "\u001b[1;31mAttributeError\u001b[0m: 'car' object has no attribute '__test2'"
     ]
    }
   ],
   "source": [
    "c3.__test2()"
   ]
  },
  {
   "cell_type": "code",
   "execution_count": 23,
   "id": "79d3fe41",
   "metadata": {},
   "outputs": [],
   "source": [
    "class car:\n",
    "    def __init__(self,a,b,c):\n",
    "        self.a = a     # public\n",
    "        self._b = b    # protected\n",
    "        self.__c = c   # private\n",
    "        \n",
    "    def test(self):    # public\n",
    "        print(\"This is test method from car class\")\n",
    "         \n",
    "    def _test1(self):  # protected\n",
    "        print(\"This is _test1 method from car class\")\n",
    "\n",
    "    def __test2(self):  # private\n",
    "        print(\"This is __test2 method from car class\")\n",
    "        \n",
    "    def get__c(self):   # getter method\n",
    "        return self.__c\n",
    "    \n",
    "    def set__c(self, x): # setter method\n",
    "        self.__c = x"
   ]
  },
  {
   "cell_type": "code",
   "execution_count": 24,
   "id": "8afd2e7e",
   "metadata": {},
   "outputs": [],
   "source": [
    "c4 = car(1,2,3)"
   ]
  },
  {
   "cell_type": "code",
   "execution_count": 26,
   "id": "cc91de99",
   "metadata": {},
   "outputs": [
    {
     "ename": "AttributeError",
     "evalue": "'car' object has no attribute '__c'",
     "output_type": "error",
     "traceback": [
      "\u001b[1;31m---------------------------------------------------------------------------\u001b[0m",
      "\u001b[1;31mAttributeError\u001b[0m                            Traceback (most recent call last)",
      "\u001b[1;32m<ipython-input-26-a67caf6f1da8>\u001b[0m in \u001b[0;36m<module>\u001b[1;34m\u001b[0m\n\u001b[1;32m----> 1\u001b[1;33m \u001b[0mc4\u001b[0m\u001b[1;33m.\u001b[0m\u001b[0m__c\u001b[0m\u001b[1;33m\u001b[0m\u001b[1;33m\u001b[0m\u001b[0m\n\u001b[0m",
      "\u001b[1;31mAttributeError\u001b[0m: 'car' object has no attribute '__c'"
     ]
    }
   ],
   "source": [
    "c4.__c"
   ]
  },
  {
   "cell_type": "code",
   "execution_count": 27,
   "id": "b7b22860",
   "metadata": {},
   "outputs": [
    {
     "data": {
      "text/plain": [
       "3"
      ]
     },
     "execution_count": 27,
     "metadata": {},
     "output_type": "execute_result"
    }
   ],
   "source": [
    "c4.get__c()"
   ]
  },
  {
   "cell_type": "code",
   "execution_count": 28,
   "id": "18670705",
   "metadata": {},
   "outputs": [],
   "source": [
    "c4.set__c(7)"
   ]
  },
  {
   "cell_type": "code",
   "execution_count": 29,
   "id": "0ce94c70",
   "metadata": {},
   "outputs": [
    {
     "data": {
      "text/plain": [
       "7"
      ]
     },
     "execution_count": 29,
     "metadata": {},
     "output_type": "execute_result"
    }
   ],
   "source": [
    "c4.get__c()"
   ]
  },
  {
   "cell_type": "code",
   "execution_count": 31,
   "id": "0b519ddf",
   "metadata": {},
   "outputs": [
    {
     "data": {
      "text/plain": [
       "['__class__',\n",
       " '__delattr__',\n",
       " '__dict__',\n",
       " '__dir__',\n",
       " '__doc__',\n",
       " '__eq__',\n",
       " '__format__',\n",
       " '__ge__',\n",
       " '__getattribute__',\n",
       " '__gt__',\n",
       " '__hash__',\n",
       " '__init__',\n",
       " '__init_subclass__',\n",
       " '__le__',\n",
       " '__lt__',\n",
       " '__module__',\n",
       " '__ne__',\n",
       " '__new__',\n",
       " '__reduce__',\n",
       " '__reduce_ex__',\n",
       " '__repr__',\n",
       " '__setattr__',\n",
       " '__sizeof__',\n",
       " '__str__',\n",
       " '__subclasshook__',\n",
       " '__weakref__',\n",
       " '_b',\n",
       " '_car__c',\n",
       " '_car__test2',\n",
       " '_test1',\n",
       " 'a',\n",
       " 'get__c',\n",
       " 'set__c',\n",
       " 'test']"
      ]
     },
     "execution_count": 31,
     "metadata": {},
     "output_type": "execute_result"
    }
   ],
   "source": [
    "dir(c4)"
   ]
  },
  {
   "cell_type": "code",
   "execution_count": 37,
   "id": "fb6e048b",
   "metadata": {},
   "outputs": [
    {
     "data": {
      "text/plain": [
       "7"
      ]
     },
     "execution_count": 37,
     "metadata": {},
     "output_type": "execute_result"
    }
   ],
   "source": [
    "c4._car__c"
   ]
  },
  {
   "cell_type": "code",
   "execution_count": 36,
   "id": "e9cc228c",
   "metadata": {},
   "outputs": [
    {
     "name": "stdout",
     "output_type": "stream",
     "text": [
      "This is __test2 method from car class\n"
     ]
    }
   ],
   "source": [
    "c4._car__test2()"
   ]
  },
  {
   "cell_type": "code",
   "execution_count": 38,
   "id": "657a4ae3",
   "metadata": {},
   "outputs": [
    {
     "ename": "AttributeError",
     "evalue": "'car' object has no attribute '__test2'",
     "output_type": "error",
     "traceback": [
      "\u001b[1;31m---------------------------------------------------------------------------\u001b[0m",
      "\u001b[1;31mAttributeError\u001b[0m                            Traceback (most recent call last)",
      "\u001b[1;32m<ipython-input-38-37116bc461f0>\u001b[0m in \u001b[0;36m<module>\u001b[1;34m\u001b[0m\n\u001b[1;32m----> 1\u001b[1;33m \u001b[0mc4\u001b[0m\u001b[1;33m.\u001b[0m\u001b[0m__test2\u001b[0m\u001b[1;33m(\u001b[0m\u001b[1;33m)\u001b[0m\u001b[1;33m\u001b[0m\u001b[1;33m\u001b[0m\u001b[0m\n\u001b[0m",
      "\u001b[1;31mAttributeError\u001b[0m: 'car' object has no attribute '__test2'"
     ]
    }
   ],
   "source": [
    "c4.__test2()"
   ]
  },
  {
   "cell_type": "code",
   "execution_count": null,
   "id": "24689ee3",
   "metadata": {},
   "outputs": [],
   "source": []
  }
 ],
 "metadata": {
  "kernelspec": {
   "display_name": "Python 3",
   "language": "python",
   "name": "python3"
  },
  "language_info": {
   "codemirror_mode": {
    "name": "ipython",
    "version": 3
   },
   "file_extension": ".py",
   "mimetype": "text/x-python",
   "name": "python",
   "nbconvert_exporter": "python",
   "pygments_lexer": "ipython3",
   "version": "3.8.8"
  }
 },
 "nbformat": 4,
 "nbformat_minor": 5
}
