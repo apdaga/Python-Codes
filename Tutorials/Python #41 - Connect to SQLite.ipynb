{
 "cells": [
  {
   "cell_type": "markdown",
   "id": "1167f87c",
   "metadata": {},
   "source": [
    "# SQLite connection using Python"
   ]
  },
  {
   "cell_type": "code",
   "execution_count": 2,
   "id": "8fdc2107",
   "metadata": {},
   "outputs": [],
   "source": [
    "import sqlite3"
   ]
  },
  {
   "cell_type": "code",
   "execution_count": 3,
   "id": "e68515b0",
   "metadata": {},
   "outputs": [
    {
     "name": "stdout",
     "output_type": "stream",
     "text": [
      " Volume in drive C is Windows\n",
      " Volume Serial Number is D8FC-E3B8\n",
      "\n",
      " Directory of C:\\Users\\akshay.daga\\Jupyter Notebooks\n",
      "\n",
      "02/20/2022  05:00 PM    <DIR>          .\n",
      "02/20/2022  05:00 PM    <DIR>          ..\n",
      "02/20/2022  05:00 PM    <DIR>          .ipynb_checkpoints\n",
      "01/22/2022  11:07 AM    <DIR>          __pycache__\n",
      "02/20/2022  04:51 PM            15,644 FSDS #14 - SQLite Connection.ipynb\n",
      "02/20/2022  01:17 PM            10,792 FSDS #15 - Map, Reduce, Filter, Zip Operations.ipynb\n",
      "02/06/2022  02:39 PM               576 Python #35 - Abstraction.ipynb\n",
      "02/06/2022  02:39 PM               576 Python #36 - Polymosphism.ipynb\n",
      "02/20/2022  05:00 PM               712 Python #41 - Connect to SQLite.ipynb\n",
      "02/20/2022  04:57 PM    <DIR>          Uploaded\n",
      "               5 File(s)         28,300 bytes\n",
      "               5 Dir(s)  197,826,699,264 bytes free\n"
     ]
    }
   ],
   "source": [
    "ls"
   ]
  },
  {
   "cell_type": "code",
   "execution_count": 4,
   "id": "0876e1df",
   "metadata": {},
   "outputs": [],
   "source": [
    "# create new database\n",
    "db = sqlite3.connect(\"apdaga.db\")"
   ]
  },
  {
   "cell_type": "code",
   "execution_count": 5,
   "id": "65129b2b",
   "metadata": {},
   "outputs": [
    {
     "name": "stdout",
     "output_type": "stream",
     "text": [
      " Volume in drive C is Windows\n",
      " Volume Serial Number is D8FC-E3B8\n",
      "\n",
      " Directory of C:\\Users\\akshay.daga\\Jupyter Notebooks\n",
      "\n",
      "02/20/2022  05:03 PM    <DIR>          .\n",
      "02/20/2022  05:03 PM    <DIR>          ..\n",
      "02/20/2022  05:00 PM    <DIR>          .ipynb_checkpoints\n",
      "01/22/2022  11:07 AM    <DIR>          __pycache__\n",
      "02/20/2022  05:03 PM                 0 apdaga.db\n",
      "02/20/2022  04:51 PM            15,644 FSDS #14 - SQLite Connection.ipynb\n",
      "02/20/2022  01:17 PM            10,792 FSDS #15 - Map, Reduce, Filter, Zip Operations.ipynb\n",
      "02/06/2022  02:39 PM               576 Python #35 - Abstraction.ipynb\n",
      "02/06/2022  02:39 PM               576 Python #36 - Polymosphism.ipynb\n",
      "02/20/2022  05:00 PM               712 Python #41 - Connect to SQLite.ipynb\n",
      "02/20/2022  04:57 PM    <DIR>          Uploaded\n",
      "               6 File(s)         28,300 bytes\n",
      "               5 Dir(s)  197,825,863,680 bytes free\n"
     ]
    }
   ],
   "source": [
    "ls"
   ]
  },
  {
   "cell_type": "code",
   "execution_count": 6,
   "id": "57085f02",
   "metadata": {},
   "outputs": [],
   "source": [
    "c = db.cursor()"
   ]
  },
  {
   "cell_type": "code",
   "execution_count": 7,
   "id": "1b865b52",
   "metadata": {},
   "outputs": [
    {
     "data": {
      "text/plain": [
       "<sqlite3.Cursor at 0x2562eb49340>"
      ]
     },
     "execution_count": 7,
     "metadata": {},
     "output_type": "execute_result"
    }
   ],
   "source": [
    "# Create Table\n",
    "c.execute(\"create table akshay(id int, name text, mob text, marks real)\")"
   ]
  },
  {
   "cell_type": "code",
   "execution_count": 8,
   "id": "b59a4fe9",
   "metadata": {},
   "outputs": [
    {
     "data": {
      "text/plain": [
       "<sqlite3.Cursor at 0x2562eb49340>"
      ]
     },
     "execution_count": 8,
     "metadata": {},
     "output_type": "execute_result"
    }
   ],
   "source": [
    "# Insert Query\n",
    "c.execute(\"insert into akshay values(1, 'akshay', '1234567890', 98.99)\")"
   ]
  },
  {
   "cell_type": "code",
   "execution_count": 9,
   "id": "d80d9f80",
   "metadata": {},
   "outputs": [
    {
     "data": {
      "text/plain": [
       "<sqlite3.Cursor at 0x2562eb49340>"
      ]
     },
     "execution_count": 9,
     "metadata": {},
     "output_type": "execute_result"
    }
   ],
   "source": [
    "c.execute(\"insert into akshay values(2, 'yojana', '987654332', 45.99)\")\n",
    "c.execute(\"insert into akshay values(3, 'ketan', '3456789765', 78.99)\")\n",
    "c.execute(\"insert into akshay values(4, 'prayas', '3456787654', 76.99)\")\n",
    "c.execute(\"insert into akshay values(5, 'sagar', '76543234567', 87.99)\")"
   ]
  },
  {
   "cell_type": "code",
   "execution_count": 10,
   "id": "8e5444f1",
   "metadata": {},
   "outputs": [
    {
     "data": {
      "text/plain": [
       "<sqlite3.Cursor at 0x2562eb49340>"
      ]
     },
     "execution_count": 10,
     "metadata": {},
     "output_type": "execute_result"
    }
   ],
   "source": [
    "# Search / Query Operation\n",
    "c.execute(\"SELECT * FROM akshay\")"
   ]
  },
  {
   "cell_type": "code",
   "execution_count": 11,
   "id": "52308aa8",
   "metadata": {},
   "outputs": [
    {
     "data": {
      "text/plain": [
       "[(1, 'akshay', '1234567890', 98.99),\n",
       " (2, 'yojana', '987654332', 45.99),\n",
       " (3, 'ketan', '3456789765', 78.99),\n",
       " (4, 'prayas', '3456787654', 76.99),\n",
       " (5, 'sagar', '76543234567', 87.99)]"
      ]
     },
     "execution_count": 11,
     "metadata": {},
     "output_type": "execute_result"
    }
   ],
   "source": [
    "c.fetchall()"
   ]
  },
  {
   "cell_type": "code",
   "execution_count": 12,
   "id": "038eff10",
   "metadata": {},
   "outputs": [
    {
     "name": "stdout",
     "output_type": "stream",
     "text": [
      "(1, 'akshay', '1234567890', 98.99)\n",
      "(2, 'yojana', '987654332', 45.99)\n",
      "(3, 'ketan', '3456789765', 78.99)\n",
      "(4, 'prayas', '3456787654', 76.99)\n",
      "(5, 'sagar', '76543234567', 87.99)\n"
     ]
    }
   ],
   "source": [
    "data = c.execute(\"SELECT * FROM akshay\")\n",
    "\n",
    "for i in data:\n",
    "    print(i)"
   ]
  },
  {
   "cell_type": "code",
   "execution_count": 13,
   "id": "535c01a1",
   "metadata": {},
   "outputs": [
    {
     "name": "stdout",
     "output_type": "stream",
     "text": [
      "(1, 'akshay', '1234567890', 98.99)\n",
      "(2, 'yojana', '987654332', 45.99)\n",
      "(3, 'ketan', '3456789765', 78.99)\n",
      "(4, 'prayas', '3456787654', 76.99)\n",
      "(5, 'sagar', '76543234567', 87.99)\n"
     ]
    }
   ],
   "source": [
    "for i in c.execute(\"SELECT * FROM akshay\"):\n",
    "    print(i)"
   ]
  },
  {
   "cell_type": "code",
   "execution_count": 14,
   "id": "d8778c86",
   "metadata": {},
   "outputs": [
    {
     "name": "stdout",
     "output_type": "stream",
     "text": [
      "(1, 'akshay', '1234567890', 98.99)\n",
      "(5, 'sagar', '76543234567', 87.99)\n"
     ]
    }
   ],
   "source": [
    "# Filter Operation\n",
    "for  i in c.execute(\"SELECT * FROM akshay WHERE marks > 80\"):\n",
    "    print(i)"
   ]
  },
  {
   "cell_type": "code",
   "execution_count": 15,
   "id": "2bc4d0f7",
   "metadata": {},
   "outputs": [
    {
     "data": {
      "text/plain": [
       "<sqlite3.Cursor at 0x2562eb49340>"
      ]
     },
     "execution_count": 15,
     "metadata": {},
     "output_type": "execute_result"
    }
   ],
   "source": [
    "# Create Table\n",
    "c.execute(\"create table address(id int, location text, pincode text)\")"
   ]
  },
  {
   "cell_type": "code",
   "execution_count": 17,
   "id": "e6056bf3",
   "metadata": {},
   "outputs": [
    {
     "data": {
      "text/plain": [
       "<sqlite3.Cursor at 0x2562eb49340>"
      ]
     },
     "execution_count": 17,
     "metadata": {},
     "output_type": "execute_result"
    }
   ],
   "source": [
    "# Insert Records\n",
    "c.execute(\"insert into address values(1, 'amravati', '444606')\")\n",
    "c.execute(\"insert into address values(2, 'akola', '405606')\")\n",
    "c.execute(\"insert into address values(3, 'pune', '411606')\")"
   ]
  },
  {
   "cell_type": "code",
   "execution_count": 18,
   "id": "b1b9e965",
   "metadata": {},
   "outputs": [
    {
     "name": "stdout",
     "output_type": "stream",
     "text": [
      "(1, 'amravati', '444606')\n",
      "(2, 'akola', '405606')\n",
      "(3, 'pune', '411606')\n"
     ]
    }
   ],
   "source": [
    "for i in c.execute(\"select * from address\"):\n",
    "    print(i)"
   ]
  },
  {
   "cell_type": "code",
   "execution_count": 19,
   "id": "be5e467c",
   "metadata": {},
   "outputs": [
    {
     "name": "stdout",
     "output_type": "stream",
     "text": [
      "('akshay',)\n",
      "('address',)\n"
     ]
    }
   ],
   "source": [
    "# Show Table Query in SQLite\n",
    "for i in c.execute(\"SELECT name FROM sqlite_master WHERE type='table';\"):\n",
    "    print(i)"
   ]
  },
  {
   "cell_type": "code",
   "execution_count": 20,
   "id": "be6572e2",
   "metadata": {},
   "outputs": [
    {
     "name": "stdout",
     "output_type": "stream",
     "text": [
      "(1, 'akshay', '1234567890', 98.99, 1, 'amravati', '444606')\n",
      "(2, 'yojana', '987654332', 45.99, 2, 'akola', '405606')\n",
      "(3, 'ketan', '3456789765', 78.99, 3, 'pune', '411606')\n"
     ]
    }
   ],
   "source": [
    "for i in c.execute(\"SELECT * FROM akshay inner join address on akshay.id = address.id\"):\n",
    "    print(i)"
   ]
  },
  {
   "cell_type": "code",
   "execution_count": 21,
   "id": "8703a9d9",
   "metadata": {},
   "outputs": [
    {
     "name": "stdout",
     "output_type": "stream",
     "text": [
      "(1, 'akshay', '1234567890', 98.99, 1, 'amravati', '444606')\n",
      "(2, 'yojana', '987654332', 45.99, 2, 'akola', '405606')\n",
      "(3, 'ketan', '3456789765', 78.99, 3, 'pune', '411606')\n",
      "(4, 'prayas', '3456787654', 76.99, None, None, None)\n",
      "(5, 'sagar', '76543234567', 87.99, None, None, None)\n"
     ]
    }
   ],
   "source": [
    "for i in c.execute(\"SELECT * FROM akshay left join address on akshay.id = address.id\"):\n",
    "    print(i)"
   ]
  },
  {
   "cell_type": "code",
   "execution_count": 23,
   "id": "f6c0f1bd",
   "metadata": {},
   "outputs": [
    {
     "data": {
      "text/plain": [
       "<sqlite3.Cursor at 0x2562eb49340>"
      ]
     },
     "execution_count": 23,
     "metadata": {},
     "output_type": "execute_result"
    }
   ],
   "source": [
    "# Update Operation\n",
    "c.execute(\"update address set pincode = '411037' where id=3\")"
   ]
  },
  {
   "cell_type": "code",
   "execution_count": 24,
   "id": "cf5f484b",
   "metadata": {},
   "outputs": [
    {
     "name": "stdout",
     "output_type": "stream",
     "text": [
      "(1, 'amravati', '444606')\n",
      "(2, 'akola', '405606')\n",
      "(3, 'pune', '411037')\n"
     ]
    }
   ],
   "source": [
    "for i in c.execute(\"select * from address\"):\n",
    "    print(i)"
   ]
  },
  {
   "cell_type": "code",
   "execution_count": 25,
   "id": "6c6cf4e8",
   "metadata": {},
   "outputs": [
    {
     "data": {
      "text/plain": [
       "<sqlite3.Cursor at 0x2562eb49340>"
      ]
     },
     "execution_count": 25,
     "metadata": {},
     "output_type": "execute_result"
    }
   ],
   "source": [
    "# Delete Record Operation\n",
    "c.execute(\"DELETE FROM akshay WHERE name='sagar';\")"
   ]
  },
  {
   "cell_type": "code",
   "execution_count": 26,
   "id": "6091208d",
   "metadata": {},
   "outputs": [
    {
     "name": "stdout",
     "output_type": "stream",
     "text": [
      "(1, 'akshay', '1234567890', 98.99)\n",
      "(2, 'yojana', '987654332', 45.99)\n",
      "(3, 'ketan', '3456789765', 78.99)\n",
      "(4, 'prayas', '3456787654', 76.99)\n"
     ]
    }
   ],
   "source": [
    "for i in c.execute(\"select * from akshay\"):\n",
    "    print(i)"
   ]
  },
  {
   "cell_type": "code",
   "execution_count": 27,
   "id": "ddf036e0",
   "metadata": {},
   "outputs": [
    {
     "name": "stdout",
     "output_type": "stream",
     "text": [
      " Volume in drive C is Windows\n",
      " Volume Serial Number is D8FC-E3B8\n",
      "\n",
      " Directory of C:\\Users\\akshay.daga\\Jupyter Notebooks\n",
      "\n",
      "02/20/2022  05:22 PM    <DIR>          .\n",
      "02/20/2022  05:22 PM    <DIR>          ..\n",
      "02/20/2022  05:00 PM    <DIR>          .ipynb_checkpoints\n",
      "01/22/2022  11:07 AM    <DIR>          __pycache__\n",
      "02/20/2022  05:05 PM             8,192 apdaga.db\n",
      "02/20/2022  05:06 PM                 0 apdaga.db-journal\n",
      "02/20/2022  04:51 PM            15,644 FSDS #14 - SQLite Connection.ipynb\n",
      "02/20/2022  01:17 PM            10,792 FSDS #15 - Map, Reduce, Filter, Zip Operations.ipynb\n",
      "02/06/2022  02:39 PM               576 Python #35 - Abstraction.ipynb\n",
      "02/06/2022  02:39 PM               576 Python #36 - Polymosphism.ipynb\n",
      "02/20/2022  05:22 PM            12,204 Python #41 - Connect to SQLite.ipynb\n",
      "02/20/2022  04:57 PM    <DIR>          Uploaded\n",
      "               7 File(s)         47,984 bytes\n",
      "               5 Dir(s)  197,753,323,520 bytes free\n"
     ]
    }
   ],
   "source": [
    "ls"
   ]
  },
  {
   "cell_type": "code",
   "execution_count": 28,
   "id": "802be7d3",
   "metadata": {},
   "outputs": [],
   "source": [
    "db.commit()"
   ]
  },
  {
   "cell_type": "code",
   "execution_count": 29,
   "id": "3dc369b5",
   "metadata": {},
   "outputs": [
    {
     "name": "stdout",
     "output_type": "stream",
     "text": [
      " Volume in drive C is Windows\n",
      " Volume Serial Number is D8FC-E3B8\n",
      "\n",
      " Directory of C:\\Users\\akshay.daga\\Jupyter Notebooks\n",
      "\n",
      "02/20/2022  05:23 PM    <DIR>          .\n",
      "02/20/2022  05:23 PM    <DIR>          ..\n",
      "02/20/2022  05:00 PM    <DIR>          .ipynb_checkpoints\n",
      "01/22/2022  11:07 AM    <DIR>          __pycache__\n",
      "02/20/2022  05:23 PM            12,288 apdaga.db\n",
      "02/20/2022  04:51 PM            15,644 FSDS #14 - SQLite Connection.ipynb\n",
      "02/20/2022  01:17 PM            10,792 FSDS #15 - Map, Reduce, Filter, Zip Operations.ipynb\n",
      "02/06/2022  02:39 PM               576 Python #35 - Abstraction.ipynb\n",
      "02/06/2022  02:39 PM               576 Python #36 - Polymosphism.ipynb\n",
      "02/20/2022  05:22 PM            12,204 Python #41 - Connect to SQLite.ipynb\n",
      "02/20/2022  04:57 PM    <DIR>          Uploaded\n",
      "               6 File(s)         52,080 bytes\n",
      "               5 Dir(s)  197,752,143,872 bytes free\n"
     ]
    }
   ],
   "source": [
    "ls"
   ]
  },
  {
   "cell_type": "code",
   "execution_count": 30,
   "id": "f0538565",
   "metadata": {},
   "outputs": [
    {
     "data": {
      "text/plain": [
       "<sqlite3.Cursor at 0x2562eb49340>"
      ]
     },
     "execution_count": 30,
     "metadata": {},
     "output_type": "execute_result"
    }
   ],
   "source": [
    "# Drop Table Operation\n",
    "c.execute(\"drop table address\")"
   ]
  },
  {
   "cell_type": "code",
   "execution_count": 31,
   "id": "3e9cdb60",
   "metadata": {},
   "outputs": [
    {
     "name": "stdout",
     "output_type": "stream",
     "text": [
      "('akshay',)\n"
     ]
    }
   ],
   "source": [
    "for i in c.execute(\"select name from sqlite_master where type='table'\"):\n",
    "    print(i)"
   ]
  },
  {
   "cell_type": "code",
   "execution_count": 32,
   "id": "9acfc176",
   "metadata": {},
   "outputs": [],
   "source": [
    "c.close()"
   ]
  },
  {
   "cell_type": "code",
   "execution_count": null,
   "id": "1d03f967",
   "metadata": {},
   "outputs": [],
   "source": []
  }
 ],
 "metadata": {
  "kernelspec": {
   "display_name": "Python 3",
   "language": "python",
   "name": "python3"
  },
  "language_info": {
   "codemirror_mode": {
    "name": "ipython",
    "version": 3
   },
   "file_extension": ".py",
   "mimetype": "text/x-python",
   "name": "python",
   "nbconvert_exporter": "python",
   "pygments_lexer": "ipython3",
   "version": "3.8.8"
  }
 },
 "nbformat": 4,
 "nbformat_minor": 5
}
