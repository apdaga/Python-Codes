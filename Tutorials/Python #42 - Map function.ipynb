{
 "cells": [
  {
   "cell_type": "markdown",
   "id": "e3341c60",
   "metadata": {},
   "source": [
    "# Map function in Python"
   ]
  },
  {
   "cell_type": "code",
   "execution_count": 2,
   "id": "2ad872b8",
   "metadata": {},
   "outputs": [],
   "source": [
    "l = [1,2,3,4,5,6,7]"
   ]
  },
  {
   "cell_type": "code",
   "execution_count": 4,
   "id": "71ccb3c7",
   "metadata": {},
   "outputs": [
    {
     "data": {
      "text/plain": [
       "[1, 4, 9, 16, 25, 36, 49]"
      ]
     },
     "execution_count": 4,
     "metadata": {},
     "output_type": "execute_result"
    }
   ],
   "source": [
    "# Square each element for list l\n",
    "out = []\n",
    "\n",
    "for i in l:\n",
    "    out.append(i**2)\n",
    "\n",
    "out"
   ]
  },
  {
   "cell_type": "code",
   "execution_count": 5,
   "id": "d6dc8c18",
   "metadata": {},
   "outputs": [
    {
     "data": {
      "text/plain": [
       "[1, 4, 9, 16, 25, 36, 49]"
      ]
     },
     "execution_count": 5,
     "metadata": {},
     "output_type": "execute_result"
    }
   ],
   "source": [
    "[i**2 for i in l]"
   ]
  },
  {
   "cell_type": "code",
   "execution_count": 6,
   "id": "035a8bf6",
   "metadata": {},
   "outputs": [],
   "source": [
    "# map(func, *iterables) --> map object\n",
    "# map function expect a function name as a 1st argument and iterable object as 2nd argument"
   ]
  },
  {
   "cell_type": "code",
   "execution_count": 8,
   "id": "9df6e928",
   "metadata": {},
   "outputs": [],
   "source": [
    "def squareit(a):\n",
    "    return a**2\n",
    "\n",
    "out = map(squareit,l)"
   ]
  },
  {
   "cell_type": "code",
   "execution_count": 9,
   "id": "7ef15975",
   "metadata": {},
   "outputs": [
    {
     "data": {
      "text/plain": [
       "[1, 4, 9, 16, 25, 36, 49]"
      ]
     },
     "execution_count": 9,
     "metadata": {},
     "output_type": "execute_result"
    }
   ],
   "source": [
    "list(out)"
   ]
  },
  {
   "cell_type": "code",
   "execution_count": 10,
   "id": "4efa56f7",
   "metadata": {},
   "outputs": [
    {
     "data": {
      "text/plain": [
       "[6, 7, 8, 9, 10, 11, 12]"
      ]
     },
     "execution_count": 10,
     "metadata": {},
     "output_type": "execute_result"
    }
   ],
   "source": [
    "# add 5 to each element of l\n",
    "\n",
    "def add5(a):\n",
    "    return a+5\n",
    "\n",
    "out = map(add5,l)\n",
    "list(out)"
   ]
  },
  {
   "cell_type": "code",
   "execution_count": 11,
   "id": "acb9e8dc",
   "metadata": {},
   "outputs": [
    {
     "data": {
      "text/plain": [
       "[1, 4, 9, 16, 25, 36, 49]"
      ]
     },
     "execution_count": 11,
     "metadata": {},
     "output_type": "execute_result"
    }
   ],
   "source": [
    "# do the squareit operations using map and lambda\n",
    "\n",
    "list(map(lambda x: x**2,l))"
   ]
  },
  {
   "cell_type": "code",
   "execution_count": 12,
   "id": "088a961a",
   "metadata": {},
   "outputs": [
    {
     "data": {
      "text/plain": [
       "[6, 7, 8, 9, 10, 11, 12]"
      ]
     },
     "execution_count": 12,
     "metadata": {},
     "output_type": "execute_result"
    }
   ],
   "source": [
    "# do the add5 operations using map and lambda\n",
    "\n",
    "list(map(lambda x: x+5,l))"
   ]
  },
  {
   "cell_type": "code",
   "execution_count": 13,
   "id": "8297da09",
   "metadata": {},
   "outputs": [
    {
     "data": {
      "text/plain": [
       "[1, 2, 3, 4, 5, 6, 7]"
      ]
     },
     "execution_count": 13,
     "metadata": {},
     "output_type": "execute_result"
    }
   ],
   "source": [
    "# Convert all the elements for list l1 to integer using map function\n",
    "\n",
    "l1 = ['1','2','3','4','5','6','7']\n",
    "\n",
    "def converttostr(a):\n",
    "    return int(a)\n",
    "\n",
    "list(map(converttostr,l1))"
   ]
  },
  {
   "cell_type": "code",
   "execution_count": 14,
   "id": "56f6e7da",
   "metadata": {},
   "outputs": [
    {
     "data": {
      "text/plain": [
       "[1, 2, 3, 4, 5, 6, 7]"
      ]
     },
     "execution_count": 14,
     "metadata": {},
     "output_type": "execute_result"
    }
   ],
   "source": [
    "list(map(int,l1))"
   ]
  },
  {
   "cell_type": "code",
   "execution_count": 15,
   "id": "8c8d1913",
   "metadata": {},
   "outputs": [
    {
     "data": {
      "text/plain": [
       "[1, 2, 3, 4, 5, 6, 7]"
      ]
     },
     "execution_count": 15,
     "metadata": {},
     "output_type": "execute_result"
    }
   ],
   "source": [
    "list(map(lambda x: int(x),l1))"
   ]
  },
  {
   "cell_type": "code",
   "execution_count": null,
   "id": "74619123",
   "metadata": {},
   "outputs": [],
   "source": []
  }
 ],
 "metadata": {
  "kernelspec": {
   "display_name": "Python 3",
   "language": "python",
   "name": "python3"
  },
  "language_info": {
   "codemirror_mode": {
    "name": "ipython",
    "version": 3
   },
   "file_extension": ".py",
   "mimetype": "text/x-python",
   "name": "python",
   "nbconvert_exporter": "python",
   "pygments_lexer": "ipython3",
   "version": "3.8.8"
  }
 },
 "nbformat": 4,
 "nbformat_minor": 5
}
