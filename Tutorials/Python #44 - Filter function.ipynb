{
 "cells": [
  {
   "cell_type": "markdown",
   "id": "f45ce17f",
   "metadata": {},
   "source": [
    "# Filter function in Python"
   ]
  },
  {
   "cell_type": "code",
   "execution_count": 1,
   "id": "08500f0e",
   "metadata": {},
   "outputs": [],
   "source": [
    "# filter()\n",
    "\n",
    "# filter(function or None, iterable) --> filter object\n",
    "\n",
    "# 1st argument : function name, 2nd argument : iterable"
   ]
  },
  {
   "cell_type": "code",
   "execution_count": 2,
   "id": "468be857",
   "metadata": {},
   "outputs": [],
   "source": [
    "l = [1,2,3,4,5,6,7,8,9,10,11,12]"
   ]
  },
  {
   "cell_type": "code",
   "execution_count": 3,
   "id": "688e3684",
   "metadata": {},
   "outputs": [
    {
     "data": {
      "text/plain": [
       "[2, 4, 6, 8, 10, 12]"
      ]
     },
     "execution_count": 3,
     "metadata": {},
     "output_type": "execute_result"
    }
   ],
   "source": [
    "out = []\n",
    "\n",
    "for i in l:\n",
    "    if i%2==0:\n",
    "        out.append(i)\n",
    "        \n",
    "out"
   ]
  },
  {
   "cell_type": "code",
   "execution_count": 5,
   "id": "d60771bb",
   "metadata": {},
   "outputs": [
    {
     "data": {
      "text/plain": [
       "[2, 4, 6, 8, 10, 12]"
      ]
     },
     "execution_count": 5,
     "metadata": {},
     "output_type": "execute_result"
    }
   ],
   "source": [
    "def isevenno(a):\n",
    "    if a%2==0:\n",
    "        return a\n",
    "\n",
    "list(filter(isevenno, l))"
   ]
  },
  {
   "cell_type": "code",
   "execution_count": 14,
   "id": "097b7a02",
   "metadata": {},
   "outputs": [
    {
     "data": {
      "text/plain": [
       "True"
      ]
     },
     "execution_count": 14,
     "metadata": {},
     "output_type": "execute_result"
    }
   ],
   "source": [
    "f = lambda x : x%2==0\n",
    "\n",
    "f(2)"
   ]
  },
  {
   "cell_type": "code",
   "execution_count": 18,
   "id": "5c540b64",
   "metadata": {},
   "outputs": [
    {
     "data": {
      "text/plain": [
       "[2, 4, 6, 8, 10, 12]"
      ]
     },
     "execution_count": 18,
     "metadata": {},
     "output_type": "execute_result"
    }
   ],
   "source": [
    "# using lambda function\n",
    "list(filter(lambda x : x%2==0,l))"
   ]
  },
  {
   "cell_type": "code",
   "execution_count": 19,
   "id": "822e709b",
   "metadata": {},
   "outputs": [
    {
     "data": {
      "text/plain": [
       "[False, True, False, True, False, True, False, True, False, True, False, True]"
      ]
     },
     "execution_count": 19,
     "metadata": {},
     "output_type": "execute_result"
    }
   ],
   "source": [
    "# difference between map and filter function\n",
    "list(map(lambda x: x%2==0,l))"
   ]
  },
  {
   "cell_type": "code",
   "execution_count": 21,
   "id": "1606dd76",
   "metadata": {},
   "outputs": [
    {
     "data": {
      "text/plain": [
       "[2, 4, 6, 8, 10, 12]"
      ]
     },
     "execution_count": 21,
     "metadata": {},
     "output_type": "execute_result"
    }
   ],
   "source": [
    "# filter using lambda: eg.2\n",
    "\n",
    "list(filter(lambda x: x if x%2==0 else None,l))"
   ]
  },
  {
   "cell_type": "code",
   "execution_count": 22,
   "id": "20026777",
   "metadata": {},
   "outputs": [
    {
     "data": {
      "text/plain": [
       "[None, 2, None, 4, None, 6, None, 8, None, 10, None, 12]"
      ]
     },
     "execution_count": 22,
     "metadata": {},
     "output_type": "execute_result"
    }
   ],
   "source": [
    "# difference between map and filter function\n",
    "list(map(lambda x: x if x%2==0 else None,l))"
   ]
  },
  {
   "cell_type": "code",
   "execution_count": null,
   "id": "7b82b909",
   "metadata": {},
   "outputs": [],
   "source": []
  }
 ],
 "metadata": {
  "kernelspec": {
   "display_name": "Python 3",
   "language": "python",
   "name": "python3"
  },
  "language_info": {
   "codemirror_mode": {
    "name": "ipython",
    "version": 3
   },
   "file_extension": ".py",
   "mimetype": "text/x-python",
   "name": "python",
   "nbconvert_exporter": "python",
   "pygments_lexer": "ipython3",
   "version": "3.8.8"
  }
 },
 "nbformat": 4,
 "nbformat_minor": 5
}
