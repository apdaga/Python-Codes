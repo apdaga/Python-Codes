{
 "cells": [
  {
   "cell_type": "markdown",
   "id": "194a56a6",
   "metadata": {},
   "source": [
    "# Zip function in Python"
   ]
  },
  {
   "cell_type": "code",
   "execution_count": 2,
   "id": "842359ba",
   "metadata": {},
   "outputs": [],
   "source": [
    "# zip(*iterables) --> A zip object yielding tuples until an input is exhausted."
   ]
  },
  {
   "cell_type": "code",
   "execution_count": 3,
   "id": "af21772a",
   "metadata": {},
   "outputs": [],
   "source": [
    "l1 = [1,2,3,4,5,6,7]              # 7\n",
    "l2 = ['a','b','c','d','e','f']    # 6"
   ]
  },
  {
   "cell_type": "code",
   "execution_count": 5,
   "id": "8dea54ee",
   "metadata": {},
   "outputs": [
    {
     "data": {
      "text/plain": [
       "[(1, 'a'), (2, 'b'), (3, 'c'), (4, 'd'), (5, 'e'), (6, 'f')]"
      ]
     },
     "execution_count": 5,
     "metadata": {},
     "output_type": "execute_result"
    }
   ],
   "source": [
    "list(zip(l1,l2))"
   ]
  },
  {
   "cell_type": "code",
   "execution_count": 7,
   "id": "80837063",
   "metadata": {},
   "outputs": [],
   "source": [
    "l1 = [1,2,3,4,5,6,7]              # 7\n",
    "l2 = ['a','b','c','d','e','f']    # 6\n",
    "l3 = [11,12,13]                   # 3\n",
    "\n",
    "z = zip(l1,l2,l3)"
   ]
  },
  {
   "cell_type": "code",
   "execution_count": 8,
   "id": "2a93080e",
   "metadata": {},
   "outputs": [
    {
     "data": {
      "text/plain": [
       "[(1, 'a', 11), (2, 'b', 12), (3, 'c', 13)]"
      ]
     },
     "execution_count": 8,
     "metadata": {},
     "output_type": "execute_result"
    }
   ],
   "source": [
    "list(z)"
   ]
  },
  {
   "cell_type": "code",
   "execution_count": 9,
   "id": "caf5be40",
   "metadata": {},
   "outputs": [],
   "source": [
    "t1 = (1,2,3,4,5,6,7)              # 7\n",
    "t2 = ('a','b','c','d','e','f')    # 6\n",
    "t3 = (11,12,13)                   # 3\n",
    "\n",
    "z = zip(t1,t2,t3)"
   ]
  },
  {
   "cell_type": "code",
   "execution_count": 10,
   "id": "7a24edd4",
   "metadata": {},
   "outputs": [
    {
     "data": {
      "text/plain": [
       "[(1, 'a', 11), (2, 'b', 12), (3, 'c', 13)]"
      ]
     },
     "execution_count": 10,
     "metadata": {},
     "output_type": "execute_result"
    }
   ],
   "source": [
    "list(z)"
   ]
  },
  {
   "cell_type": "code",
   "execution_count": 11,
   "id": "2254de43",
   "metadata": {},
   "outputs": [],
   "source": [
    "t1 = (1,2,3,4,5,6,7)              # 7\n",
    "t2 = ('a','b','c','d','e','f')    # 6\n",
    "l3 = [11,12,13]                   # 3\n",
    "\n",
    "z = zip(t1,t2,t3)"
   ]
  },
  {
   "cell_type": "code",
   "execution_count": 12,
   "id": "203a113a",
   "metadata": {},
   "outputs": [
    {
     "data": {
      "text/plain": [
       "[(1, 'a', 11), (2, 'b', 12), (3, 'c', 13)]"
      ]
     },
     "execution_count": 12,
     "metadata": {},
     "output_type": "execute_result"
    }
   ],
   "source": [
    "list(z)"
   ]
  },
  {
   "cell_type": "code",
   "execution_count": 13,
   "id": "bb11c8f6",
   "metadata": {},
   "outputs": [],
   "source": [
    "t1 = (1,2,3,4,5,6,7)              # 7\n",
    "s2 = {'a','b','c','d','e','f'}    # 6\n",
    "l3 = [11,12,13]                   # 3\n",
    "\n",
    "z = zip(t1,s2,t3)"
   ]
  },
  {
   "cell_type": "code",
   "execution_count": 14,
   "id": "b2576972",
   "metadata": {},
   "outputs": [
    {
     "data": {
      "text/plain": [
       "[(1, 'd', 11), (2, 'e', 12), (3, 'a', 13)]"
      ]
     },
     "execution_count": 14,
     "metadata": {},
     "output_type": "execute_result"
    }
   ],
   "source": [
    "list(z)"
   ]
  },
  {
   "cell_type": "code",
   "execution_count": 15,
   "id": "9c8ee383",
   "metadata": {},
   "outputs": [],
   "source": [
    "t1 = (1,2,3,4,5,6,7)              # 7\n",
    "s2 = {'a','b','c','d','e','f'}    # 6\n",
    "l3 = [11,12,13]                   # 3\n",
    "d4 = {'a':1, 'b':2}               # 2\n",
    "\n",
    "z = zip(t1,s2,t3,d4)"
   ]
  },
  {
   "cell_type": "code",
   "execution_count": 16,
   "id": "af6259c1",
   "metadata": {},
   "outputs": [
    {
     "data": {
      "text/plain": [
       "[(1, 'd', 11, 'a'), (2, 'e', 12, 'b')]"
      ]
     },
     "execution_count": 16,
     "metadata": {},
     "output_type": "execute_result"
    }
   ],
   "source": [
    "list(z)"
   ]
  },
  {
   "cell_type": "code",
   "execution_count": 17,
   "id": "436cf921",
   "metadata": {},
   "outputs": [
    {
     "data": {
      "text/plain": [
       "[(1, 'd', 11, 'a'), (2, 'e', 12, 'b')]"
      ]
     },
     "execution_count": 17,
     "metadata": {},
     "output_type": "execute_result"
    }
   ],
   "source": [
    "list(zip(t1,s2,t3,d4))"
   ]
  },
  {
   "cell_type": "code",
   "execution_count": null,
   "id": "04c03e35",
   "metadata": {},
   "outputs": [],
   "source": []
  }
 ],
 "metadata": {
  "kernelspec": {
   "display_name": "Python 3",
   "language": "python",
   "name": "python3"
  },
  "language_info": {
   "codemirror_mode": {
    "name": "ipython",
    "version": 3
   },
   "file_extension": ".py",
   "mimetype": "text/x-python",
   "name": "python",
   "nbconvert_exporter": "python",
   "pygments_lexer": "ipython3",
   "version": "3.8.8"
  }
 },
 "nbformat": 4,
 "nbformat_minor": 5
}
