{
 "cells": [
  {
   "cell_type": "markdown",
   "id": "5866dbf7",
   "metadata": {},
   "source": [
    "# Python - Basic"
   ]
  },
  {
   "cell_type": "code",
   "execution_count": 1,
   "id": "5b210881",
   "metadata": {},
   "outputs": [],
   "source": [
    "a = 10"
   ]
  },
  {
   "cell_type": "code",
   "execution_count": 2,
   "id": "9ddbe67e",
   "metadata": {},
   "outputs": [],
   "source": [
    "b = 13.2"
   ]
  },
  {
   "cell_type": "code",
   "execution_count": 5,
   "id": "8a6805d5",
   "metadata": {},
   "outputs": [],
   "source": [
    "c = True"
   ]
  },
  {
   "cell_type": "code",
   "execution_count": 6,
   "id": "c2a61bd1",
   "metadata": {},
   "outputs": [],
   "source": [
    "d = \"akshay\""
   ]
  },
  {
   "cell_type": "code",
   "execution_count": 10,
   "id": "5716c8ec",
   "metadata": {},
   "outputs": [],
   "source": [
    "e = 2+3j"
   ]
  },
  {
   "cell_type": "code",
   "execution_count": 12,
   "id": "bca4fce8",
   "metadata": {},
   "outputs": [
    {
     "name": "stdout",
     "output_type": "stream",
     "text": [
      "10 13.2 True akshay (2+3j)\n"
     ]
    }
   ],
   "source": [
    "print(a,b,c,d,e)"
   ]
  },
  {
   "cell_type": "code",
   "execution_count": 15,
   "id": "73b7a61a",
   "metadata": {},
   "outputs": [
    {
     "name": "stdout",
     "output_type": "stream",
     "text": [
      "10\n",
      "13.2\n",
      "True\n"
     ]
    }
   ],
   "source": [
    "print(a)\n",
    "print(b)\n",
    "print(c)"
   ]
  },
  {
   "cell_type": "code",
   "execution_count": 16,
   "id": "312cfac2",
   "metadata": {},
   "outputs": [
    {
     "data": {
      "text/plain": [
       "int"
      ]
     },
     "execution_count": 16,
     "metadata": {},
     "output_type": "execute_result"
    }
   ],
   "source": [
    "type(a)"
   ]
  },
  {
   "cell_type": "code",
   "execution_count": 18,
   "id": "5c57ce71",
   "metadata": {},
   "outputs": [
    {
     "name": "stdout",
     "output_type": "stream",
     "text": [
      "<class 'float'>\n",
      "<class 'bool'>\n",
      "<class 'str'>\n",
      "<class 'complex'>\n"
     ]
    }
   ],
   "source": [
    "print(type(b))\n",
    "print(type(c))\n",
    "print(type(d))\n",
    "print(type(e))"
   ]
  },
  {
   "cell_type": "code",
   "execution_count": 21,
   "id": "c77eea8f",
   "metadata": {},
   "outputs": [
    {
     "data": {
      "text/plain": [
       "int"
      ]
     },
     "execution_count": 21,
     "metadata": {},
     "output_type": "execute_result"
    }
   ],
   "source": [
    "i = 5\n",
    "type(i)"
   ]
  },
  {
   "cell_type": "code",
   "execution_count": 22,
   "id": "977b11fe",
   "metadata": {},
   "outputs": [
    {
     "data": {
      "text/plain": [
       "str"
      ]
     },
     "execution_count": 22,
     "metadata": {},
     "output_type": "execute_result"
    }
   ],
   "source": [
    "i = 'akshay'\n",
    "type(i)"
   ]
  },
  {
   "cell_type": "code",
   "execution_count": 24,
   "id": "406388bc",
   "metadata": {},
   "outputs": [
    {
     "data": {
      "text/plain": [
       "(2+3j)"
      ]
     },
     "execution_count": 24,
     "metadata": {},
     "output_type": "execute_result"
    }
   ],
   "source": [
    "e"
   ]
  },
  {
   "cell_type": "markdown",
   "id": "25345198",
   "metadata": {},
   "source": [
    "# String"
   ]
  },
  {
   "cell_type": "code",
   "execution_count": 30,
   "id": "0830cf51",
   "metadata": {},
   "outputs": [
    {
     "name": "stdout",
     "output_type": "stream",
     "text": [
      "dsakjfsa h adf jal asfdkj\n",
      "safdas fs dsfsf\n"
     ]
    }
   ],
   "source": [
    "a = \"dsakjfsa h adf jal asfdkj\"\n",
    "b = 'safdas fs dsfsf'\n",
    "\n",
    "print(a)\n",
    "print(b)"
   ]
  },
  {
   "cell_type": "code",
   "execution_count": 32,
   "id": "1fb56014",
   "metadata": {},
   "outputs": [
    {
     "data": {
      "text/plain": [
       "str"
      ]
     },
     "execution_count": 32,
     "metadata": {},
     "output_type": "execute_result"
    }
   ],
   "source": [
    "type(b)"
   ]
  },
  {
   "cell_type": "code",
   "execution_count": 35,
   "id": "72c69de9",
   "metadata": {},
   "outputs": [
    {
     "data": {
      "text/plain": [
       "'This is Akshay\"s class'"
      ]
     },
     "execution_count": 35,
     "metadata": {},
     "output_type": "execute_result"
    }
   ],
   "source": [
    "s = 'This is Akshay\"s class'\n",
    "s"
   ]
  },
  {
   "cell_type": "code",
   "execution_count": 44,
   "id": "07776122",
   "metadata": {},
   "outputs": [
    {
     "name": "stdout",
     "output_type": "stream",
     "text": [
      "Thissdfsalkfj\n",
      "hj \"dsf\"  hkjhsfda\n",
      "sdkjfksaf\n",
      "dsfk ak\n",
      "kjdfsskh\"jhfs\"\n"
     ]
    }
   ],
   "source": [
    "s1 = '''Thissdfsalkfj\n",
    "hj \"dsf\"  hkjhsfda\n",
    "sdkjfksaf\n",
    "dsfk ak\n",
    "kjdfsskh\"jhfs\"'''\n",
    "\n",
    "print(s1)"
   ]
  },
  {
   "cell_type": "markdown",
   "id": "f358635c",
   "metadata": {},
   "source": [
    "# Type Casting"
   ]
  },
  {
   "cell_type": "code",
   "execution_count": 45,
   "id": "6aec0e10",
   "metadata": {},
   "outputs": [],
   "source": [
    "# int\n",
    "# float\n",
    "# str\n",
    "# bool\n",
    "# complex"
   ]
  },
  {
   "cell_type": "code",
   "execution_count": 47,
   "id": "a1e072ad",
   "metadata": {},
   "outputs": [],
   "source": [
    "i = 5   # int"
   ]
  },
  {
   "cell_type": "code",
   "execution_count": 69,
   "id": "cc715310",
   "metadata": {},
   "outputs": [
    {
     "name": "stdout",
     "output_type": "stream",
     "text": [
      "5.0 5 True (5+0j)\n"
     ]
    }
   ],
   "source": [
    "# int to all other data types\n",
    "\n",
    "j = float(i)\n",
    "k = str(i)\n",
    "l = bool(i)\n",
    "m = complex(i)\n",
    "\n",
    "print(j,k,l,m)"
   ]
  },
  {
   "cell_type": "code",
   "execution_count": 64,
   "id": "03af87b2",
   "metadata": {},
   "outputs": [
    {
     "data": {
      "text/plain": [
       "(2+3j)"
      ]
     },
     "execution_count": 64,
     "metadata": {},
     "output_type": "execute_result"
    }
   ],
   "source": [
    "complex(2,3)"
   ]
  },
  {
   "cell_type": "code",
   "execution_count": 78,
   "id": "39af3581",
   "metadata": {},
   "outputs": [
    {
     "name": "stdout",
     "output_type": "stream",
     "text": [
      "12 12.5 True (12.5+0j)\n"
     ]
    }
   ],
   "source": [
    "# float to all other data types\n",
    " \n",
    "f = 12.5\n",
    "\n",
    "a = int(f)\n",
    "b = str(f)\n",
    "c = bool(f)\n",
    "d = complex(f)\n",
    "\n",
    "print(a,b,c,d)"
   ]
  },
  {
   "cell_type": "code",
   "execution_count": 107,
   "id": "68d2bddc",
   "metadata": {},
   "outputs": [
    {
     "data": {
      "text/plain": [
       "True"
      ]
     },
     "execution_count": 107,
     "metadata": {},
     "output_type": "execute_result"
    }
   ],
   "source": [
    "# str to all other data types\n",
    "\n",
    "s1 = 'qwerty'\n",
    "s2 = '234.23'\n",
    "s3 = '343'\n",
    "s4 = '3+4j'\n",
    "s5 = 'akshay23'\n",
    "\n",
    "\n",
    "# a = int(s3)\n",
    "# b = float(s3)\n",
    "# c = bool(s3)\n",
    "# d = bool('')\n",
    "# e = complex(s4)\n",
    "\n",
    "\n",
    "c"
   ]
  },
  {
   "cell_type": "code",
   "execution_count": 96,
   "id": "dcad831a",
   "metadata": {},
   "outputs": [
    {
     "data": {
      "text/plain": [
       "True"
      ]
     },
     "execution_count": 96,
     "metadata": {},
     "output_type": "execute_result"
    }
   ],
   "source": [
    "bool('any string') #True\n",
    "bool('')           # False\n",
    "bool('0')          # True"
   ]
  },
  {
   "cell_type": "code",
   "execution_count": 117,
   "id": "b2e7303c",
   "metadata": {},
   "outputs": [
    {
     "name": "stdout",
     "output_type": "stream",
     "text": [
      "0 0.0 False 0j\n"
     ]
    }
   ],
   "source": [
    "# bool to all other data type\n",
    "\n",
    "b1 = True\n",
    "b2 = False\n",
    "\n",
    "a = int(b2)\n",
    "b = float(b2)\n",
    "c = str(b2)\n",
    "d = complex(b2)\n",
    "\n",
    "print(a,b,c,d)"
   ]
  },
  {
   "cell_type": "code",
   "execution_count": 125,
   "id": "4dbd774d",
   "metadata": {},
   "outputs": [
    {
     "data": {
      "text/plain": [
       "False"
      ]
     },
     "execution_count": 125,
     "metadata": {},
     "output_type": "execute_result"
    }
   ],
   "source": [
    "# Complex to all other data types\n",
    "\n",
    "c = 12+34.3j\n",
    "\n",
    "# a = int(c)\n",
    "# b = float(c)\n",
    "s = str(c)\n",
    "b = bool(c)\n",
    "b = bool(0+0j)\n",
    "\n",
    "b"
   ]
  },
  {
   "cell_type": "code",
   "execution_count": 130,
   "id": "c16d83c9",
   "metadata": {},
   "outputs": [
    {
     "name": "stdout",
     "output_type": "stream",
     "text": [
      "12.0 34.3\n"
     ]
    }
   ],
   "source": [
    "# How to extract real and imaginary part of complex number\n",
    "\n",
    "c = 12+34.3j\n",
    "\n",
    "r = c.real\n",
    "i = c.imag\n",
    "\n",
    "print(r,i)"
   ]
  },
  {
   "cell_type": "code",
   "execution_count": 99,
   "id": "d8aae93f",
   "metadata": {},
   "outputs": [
    {
     "ename": "ValueError",
     "evalue": "could not convert string to float: 'akshay'",
     "output_type": "error",
     "traceback": [
      "\u001b[1;31m---------------------------------------------------------------------------\u001b[0m",
      "\u001b[1;31mValueError\u001b[0m                                Traceback (most recent call last)",
      "\u001b[1;32m<ipython-input-99-606a6c59952d>\u001b[0m in \u001b[0;36m<module>\u001b[1;34m\u001b[0m\n\u001b[0;32m      5\u001b[0m \u001b[1;31m# b = int(a)\u001b[0m\u001b[1;33m\u001b[0m\u001b[1;33m\u001b[0m\u001b[1;33m\u001b[0m\u001b[0m\n\u001b[0;32m      6\u001b[0m \u001b[1;33m\u001b[0m\u001b[0m\n\u001b[1;32m----> 7\u001b[1;33m \u001b[0mb\u001b[0m \u001b[1;33m=\u001b[0m \u001b[0mint\u001b[0m\u001b[1;33m(\u001b[0m\u001b[0mfloat\u001b[0m\u001b[1;33m(\u001b[0m\u001b[0ms1\u001b[0m\u001b[1;33m)\u001b[0m\u001b[1;33m)\u001b[0m\u001b[1;33m\u001b[0m\u001b[1;33m\u001b[0m\u001b[0m\n\u001b[0m\u001b[0;32m      8\u001b[0m \u001b[1;33m\u001b[0m\u001b[0m\n\u001b[0;32m      9\u001b[0m \u001b[0mb\u001b[0m\u001b[1;33m\u001b[0m\u001b[1;33m\u001b[0m\u001b[0m\n",
      "\u001b[1;31mValueError\u001b[0m: could not convert string to float: 'akshay'"
     ]
    }
   ],
   "source": [
    "s1 = '123.45'\n",
    "# 123\n",
    "\n",
    "# a = float(s1)\n",
    "# b = int(a)\n",
    "\n",
    "b = int(float(s1))\n",
    "\n",
    "b"
   ]
  },
  {
   "cell_type": "code",
   "execution_count": null,
   "id": "26d04ae5",
   "metadata": {},
   "outputs": [],
   "source": [
    "# Home Work\n",
    "\n",
    "c = 12.3-9.4j\n",
    "\n",
    "# Expected output\n",
    "# out1: 12\n",
    "# out2: 9"
   ]
  }
 ],
 "metadata": {
  "kernelspec": {
   "display_name": "Python 3",
   "language": "python",
   "name": "python3"
  },
  "language_info": {
   "codemirror_mode": {
    "name": "ipython",
    "version": 3
   },
   "file_extension": ".py",
   "mimetype": "text/x-python",
   "name": "python",
   "nbconvert_exporter": "python",
   "pygments_lexer": "ipython3",
   "version": "3.8.8"
  }
 },
 "nbformat": 4,
 "nbformat_minor": 5
}
